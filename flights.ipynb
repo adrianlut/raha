{
 "cells": [
  {
   "cell_type": "markdown",
   "metadata": {},
   "source": [
    "# End-to-End Data Cleaning Pipeline with Raha and Baran (Minimal and Integrated)\n",
    "We build an end-to-end data cleaning pipeline with our configuration-free error detection and correction systems, Raha and Baran."
   ]
  },
  {
   "cell_type": "code",
   "execution_count": 1,
   "metadata": {},
   "outputs": [],
   "source": [
    "import pandas\n",
    "import IPython.display\n",
    "import ipywidgets\n",
    "\n",
    "import raha"
   ]
  },
  {
   "cell_type": "markdown",
   "metadata": {},
   "source": [
    "## 1. Instantiating the Detection and Correction Classes\n",
    "We first instantiate the `Detection` and `Correction` classes."
   ]
  },
  {
   "cell_type": "code",
   "execution_count": 2,
   "metadata": {},
   "outputs": [],
   "source": [
    "from raha import analysis_utilities\n",
    "app_1 = raha.Detection()\n",
    "app_2 = raha.Correction()\n",
    "\n",
    "# How many tuples would you label?\n",
    "app_1.LABELING_BUDGET = 20\n",
    "app_2.LABELING_BUDGET = 0\n",
    "\n",
    "# Would you like to see the logs?\n",
    "app_1.VERBOSE = True\n",
    "app_2.VERBOSE = True"
   ]
  },
  {
   "cell_type": "markdown",
   "metadata": {},
   "source": [
    "## 2. Instantiating the Dataset\n",
    "We next load and instantiate the dataset object."
   ]
  },
  {
   "cell_type": "code",
   "execution_count": 3,
   "metadata": {},
   "outputs": [
    {
     "data": {
      "text/plain": "  tuple_id src           flight sched_dep_time act_dep_time sched_arr_time  \\\n0        1  aa  AA-3859-IAH-ORD      7:10 a.m.    7:16 a.m.      9:40 a.m.   \n1        2  aa  AA-1733-ORD-PHX      7:45 p.m.    7:58 p.m.     10:30 p.m.   \n2        3  aa  AA-1640-MIA-MCO      6:30 p.m.                   7:25 p.m.   \n3        4  aa   AA-518-MIA-JFK      6:40 a.m.    6:54 a.m.      9:25 a.m.   \n4        5  aa  AA-3756-ORD-SLC     12:15 p.m.   12:41 p.m.      2:45 p.m.   \n\n  act_arr_time  \n0    9:32 a.m.  \n1               \n2               \n3    9:28 a.m.  \n4    2:50 p.m.  ",
      "text/html": "<div>\n<style scoped>\n    .dataframe tbody tr th:only-of-type {\n        vertical-align: middle;\n    }\n\n    .dataframe tbody tr th {\n        vertical-align: top;\n    }\n\n    .dataframe thead th {\n        text-align: right;\n    }\n</style>\n<table border=\"1\" class=\"dataframe\">\n  <thead>\n    <tr style=\"text-align: right;\">\n      <th></th>\n      <th>tuple_id</th>\n      <th>src</th>\n      <th>flight</th>\n      <th>sched_dep_time</th>\n      <th>act_dep_time</th>\n      <th>sched_arr_time</th>\n      <th>act_arr_time</th>\n    </tr>\n  </thead>\n  <tbody>\n    <tr>\n      <th>0</th>\n      <td>1</td>\n      <td>aa</td>\n      <td>AA-3859-IAH-ORD</td>\n      <td>7:10 a.m.</td>\n      <td>7:16 a.m.</td>\n      <td>9:40 a.m.</td>\n      <td>9:32 a.m.</td>\n    </tr>\n    <tr>\n      <th>1</th>\n      <td>2</td>\n      <td>aa</td>\n      <td>AA-1733-ORD-PHX</td>\n      <td>7:45 p.m.</td>\n      <td>7:58 p.m.</td>\n      <td>10:30 p.m.</td>\n      <td></td>\n    </tr>\n    <tr>\n      <th>2</th>\n      <td>3</td>\n      <td>aa</td>\n      <td>AA-1640-MIA-MCO</td>\n      <td>6:30 p.m.</td>\n      <td></td>\n      <td>7:25 p.m.</td>\n      <td></td>\n    </tr>\n    <tr>\n      <th>3</th>\n      <td>4</td>\n      <td>aa</td>\n      <td>AA-518-MIA-JFK</td>\n      <td>6:40 a.m.</td>\n      <td>6:54 a.m.</td>\n      <td>9:25 a.m.</td>\n      <td>9:28 a.m.</td>\n    </tr>\n    <tr>\n      <th>4</th>\n      <td>5</td>\n      <td>aa</td>\n      <td>AA-3756-ORD-SLC</td>\n      <td>12:15 p.m.</td>\n      <td>12:41 p.m.</td>\n      <td>2:45 p.m.</td>\n      <td>2:50 p.m.</td>\n    </tr>\n  </tbody>\n</table>\n</div>"
     },
     "execution_count": 3,
     "metadata": {},
     "output_type": "execute_result"
    }
   ],
   "source": [
    "dataset_dictionary = {\n",
    "        \"name\": \"flights\",\n",
    "        \"path\": \"datasets/flights/dirty.csv\",\n",
    "        \"clean_path\": \"datasets/flights/clean.csv\"\n",
    "    }\n",
    "d = app_1.initialize_dataset(dataset_dictionary)\n",
    "d.dataframe.head()"
   ]
  },
  {
   "cell_type": "markdown",
   "metadata": {},
   "source": [
    "## 3. Generating Features and Clusters\n",
    "Raha runs (all or the promising) error detection strategies on the dataset. This step could take a while because all the strategies should be run on the dataset. Raha then generates a feature vector for each data cell based on the output of error detection strategies. Raha next builds a hierarchical clustering model for our clustering-based sampling approach."
   ]
  },
  {
   "cell_type": "code",
   "execution_count": 4,
   "metadata": {},
   "outputs": [
    {
     "name": "stderr",
     "output_type": "stream",
     "text": [
      "I just load strategies' results as they have already been run on the dataset!\n"
     ]
    },
    {
     "name": "stdout",
     "output_type": "stream",
     "text": [
      "309 strategy profiles are collected.\n",
      "40 Features are generated for column 0.\n",
      "65 Features are generated for column 1.\n",
      "62 Features are generated for column 2.\n",
      "65 Features are generated for column 3.\n",
      "71 Features are generated for column 4.\n",
      "65 Features are generated for column 5.\n",
      "86 Features are generated for column 6.\n",
      "A hierarchical clustering model is built for column 0.\n",
      "A hierarchical clustering model is built for column 1.\n",
      "A hierarchical clustering model is built for column 2.\n",
      "A hierarchical clustering model is built for column 3.\n",
      "A hierarchical clustering model is built for column 4.\n",
      "A hierarchical clustering model is built for column 5.\n",
      "A hierarchical clustering model is built for column 6.\n"
     ]
    }
   ],
   "source": [
    "app_1.run_strategies(d)\n",
    "app_1.generate_features(d)\n",
    "app_1.build_clusters(d)"
   ]
  },
  {
   "cell_type": "markdown",
   "metadata": {},
   "source": [
    "## 4. Interactive Tuple Sampling and Labeling\n",
    "Raha then iteratively samples a tuple. We should label data cells of each sampled tuple."
   ]
  },
  {
   "cell_type": "code",
   "execution_count": 5,
   "metadata": {
    "scrolled": true
   },
   "outputs": [],
   "source": [
    "# def on_button_clicked(_):\n",
    "#     for j in range(0, len(texts)):\n",
    "#         cell = (d.sampled_tuple, j)\n",
    "#         error_label = 0\n",
    "#         correction = texts[j].value\n",
    "#         if d.dataframe.iloc[cell] != correction:\n",
    "#             error_label = 1\n",
    "#         d.labeled_cells[cell] = [error_label, correction]\n",
    "#     d.labeled_tuples[d.sampled_tuple] = 1\n",
    "#\n",
    "# app_1.sample_tuple(d)\n",
    "# print(\"Fix the dirty cells in the following sampled tuple.\")\n",
    "# sampled_tuple = pandas.DataFrame(data=[d.dataframe.iloc[d.sampled_tuple, :]], columns=d.dataframe.columns)\n",
    "# IPython.display.display(sampled_tuple)\n",
    "# texts = [ipywidgets.Text(value=d.dataframe.iloc[d.sampled_tuple, j]) for j in range(d.dataframe.shape[1])]\n",
    "# button = ipywidgets.Button(description=\"Save the Annotation\")\n",
    "# button.on_click(on_button_clicked)\n",
    "# output = ipywidgets.VBox(children=texts + [button])\n",
    "# IPython.display.display(output)"
   ]
  },
  {
   "cell_type": "markdown",
   "metadata": {},
   "source": [
    "For the sake of time, we use the ground truth of the dataset to label tuples below."
   ]
  },
  {
   "cell_type": "code",
   "execution_count": 6,
   "metadata": {
    "scrolled": true
   },
   "outputs": [],
   "source": [
    "%%capture\n",
    "while len(d.labeled_tuples) < app_1.LABELING_BUDGET:\n",
    "    app_1.sample_tuple(d)\n",
    "    if d.has_ground_truth:\n",
    "        app_1.label_with_ground_truth(d)"
   ]
  },
  {
   "cell_type": "markdown",
   "metadata": {},
   "source": [
    "## 5. Propagating User Labels and Predicting the Labels\n",
    "Raha then propagates each user label through its cluster. Raha then trains and applies one classifier per data column to predict the label of the rest of data cells."
   ]
  },
  {
   "cell_type": "code",
   "execution_count": 7,
   "metadata": {},
   "outputs": [
    {
     "name": "stdout",
     "output_type": "stream",
     "text": [
      "The number of labeled data cells increased from 140 to 13162.\n",
      "A classifier is trained and applied on column 0.\n",
      "A classifier is trained and applied on column 1.\n",
      "A classifier is trained and applied on column 2.\n",
      "A classifier is trained and applied on column 3.\n",
      "A classifier is trained and applied on column 4.\n",
      "A classifier is trained and applied on column 5.\n",
      "A classifier is trained and applied on column 6.\n"
     ]
    }
   ],
   "source": [
    "app_1.propagate_labels(d)\n",
    "app_1.predict_labels(d)"
   ]
  },
  {
   "cell_type": "markdown",
   "metadata": {},
   "source": [
    "## 6. Initializing and Updating the Error Corrector Models\n",
    "Baran initializes the error corrector models. Baran then iteratively samples a tuple. We should label data cells of each sampled tuple. It then udpates the models accordingly and generates a feature vector for each pair of a data error and a correction candidate. Finally, it trains and applies a classifier to each data column to predict the final correction of each data error. Since we already labeled tuples for Raha, we use the same labeled tuples and do not label new tuples here."
   ]
  },
  {
   "cell_type": "code",
   "execution_count": 8,
   "metadata": {},
   "outputs": [
    {
     "name": "stdout",
     "output_type": "stream",
     "text": [
      "The error corrector models are initialized.\n",
      "The error corrector models are updated with new labeled tuple 853.\n",
      "546146 pairs of (a data error, a potential correction) are featurized.\n",
      "Prediction Method in this step:\n",
      "    Column 3: Train\n",
      "    Column 4: Train\n",
      "    Column 5: Train\n",
      "    Column 6: Train\n",
      "Train sizes in this step:\n",
      "    Column 3: 756\n",
      "    Column 4: 2430\n",
      "    Column 5: 1557\n",
      "    Column 6: 2288\n",
      "Corrections applied in this step:\n",
      "    Column 3: 876 Real changes: 876\n",
      "    Column 4: 404 Real changes: 404\n",
      "    Column 5: 841 Real changes: 841\n",
      "    Column 6: 594 Real changes: 594\n",
      "72% (2647 / 3662) of data errors are corrected.\n",
      "The error corrector models are updated with new labeled tuple 2328.\n",
      "547268 pairs of (a data error, a potential correction) are featurized.\n",
      "Prediction Method in this step:\n",
      "    Column 3: Train\n",
      "    Column 4: Train\n",
      "    Column 5: Train\n",
      "    Column 6: Train\n",
      "Train sizes in this step:\n",
      "    Column 3: 756\n",
      "    Column 4: 2447\n",
      "    Column 5: 1557\n",
      "    Column 6: 2290\n",
      "Corrections applied in this step:\n",
      "    Column 3: 876 Real changes: 0\n",
      "    Column 4: 429 Real changes: 149\n",
      "    Column 5: 841 Real changes: 0\n",
      "    Column 6: 674 Real changes: 332\n",
      "77% (2810 / 3662) of data errors are corrected.\n",
      "The error corrector models are updated with new labeled tuple 1804.\n",
      "549956 pairs of (a data error, a potential correction) are featurized.\n",
      "Prediction Method in this step:\n",
      "    Column 3: Train\n",
      "    Column 4: Train\n",
      "    Column 5: Train\n",
      "    Column 6: Train\n",
      "Train sizes in this step:\n",
      "    Column 3: 762\n",
      "    Column 4: 2459\n",
      "    Column 5: 1561\n",
      "    Column 6: 2296\n",
      "Corrections applied in this step:\n",
      "    Column 3: 876 Real changes: 0\n",
      "    Column 4: 431 Real changes: 128\n",
      "    Column 5: 841 Real changes: 0\n",
      "    Column 6: 674 Real changes: 132\n",
      "77% (2811 / 3662) of data errors are corrected.\n",
      "The error corrector models are updated with new labeled tuple 499.\n",
      "553377 pairs of (a data error, a potential correction) are featurized.\n",
      "Prediction Method in this step:\n",
      "    Column 3: Train\n",
      "    Column 4: Train\n",
      "    Column 5: Train\n",
      "    Column 6: Train\n",
      "Train sizes in this step:\n",
      "    Column 3: 768\n",
      "    Column 4: 2480\n",
      "    Column 5: 1561\n",
      "    Column 6: 2315\n",
      "Corrections applied in this step:\n",
      "    Column 3: 876 Real changes: 0\n",
      "    Column 4: 479 Real changes: 224\n",
      "    Column 5: 841 Real changes: 0\n",
      "    Column 6: 727 Real changes: 206\n",
      "80% (2925 / 3662) of data errors are corrected.\n",
      "The error corrector models are updated with new labeled tuple 1740.\n",
      "553377 pairs of (a data error, a potential correction) are featurized.\n",
      "Prediction Method in this step:\n",
      "    Column 3: Train\n",
      "    Column 4: Train\n",
      "    Column 5: Train\n",
      "    Column 6: Train\n",
      "Train sizes in this step:\n",
      "    Column 3: 768\n",
      "    Column 4: 2480\n",
      "    Column 5: 1561\n",
      "    Column 6: 2315\n",
      "Corrections applied in this step:\n",
      "    Column 3: 876 Real changes: 0\n",
      "    Column 4: 479 Real changes: 179\n",
      "    Column 5: 841 Real changes: 0\n",
      "    Column 6: 689 Real changes: 56\n",
      "80% (2925 / 3662) of data errors are corrected.\n",
      "The error corrector models are updated with new labeled tuple 1565.\n",
      "555689 pairs of (a data error, a potential correction) are featurized.\n",
      "Prediction Method in this step:\n",
      "    Column 3: Train\n",
      "    Column 4: Train\n",
      "    Column 5: Train\n",
      "    Column 6: Train\n",
      "Train sizes in this step:\n",
      "    Column 3: 774\n",
      "    Column 4: 2486\n",
      "    Column 5: 1565\n",
      "    Column 6: 2321\n",
      "Corrections applied in this step:\n",
      "    Column 3: 876 Real changes: 0\n",
      "    Column 4: 462 Real changes: 126\n",
      "    Column 5: 841 Real changes: 0\n",
      "    Column 6: 663 Real changes: 45\n",
      "80% (2925 / 3662) of data errors are corrected.\n",
      "The error corrector models are updated with new labeled tuple 1236.\n",
      "558445 pairs of (a data error, a potential correction) are featurized.\n",
      "Prediction Method in this step:\n",
      "    Column 3: Train\n",
      "    Column 4: Train\n",
      "    Column 5: Train\n",
      "    Column 6: Train\n",
      "Train sizes in this step:\n",
      "    Column 3: 780\n",
      "    Column 4: 2496\n",
      "    Column 5: 1565\n",
      "    Column 6: 2338\n",
      "Corrections applied in this step:\n",
      "    Column 3: 876 Real changes: 0\n",
      "    Column 4: 409 Real changes: 89\n",
      "    Column 5: 841 Real changes: 0\n",
      "    Column 6: 709 Real changes: 91\n",
      "80% (2926 / 3662) of data errors are corrected.\n",
      "The error corrector models are updated with new labeled tuple 78.\n",
      "562311 pairs of (a data error, a potential correction) are featurized.\n",
      "Prediction Method in this step:\n",
      "    Column 3: Train\n",
      "    Column 4: Train\n",
      "    Column 5: Train\n",
      "    Column 6: Train\n",
      "Train sizes in this step:\n",
      "    Column 3: 792\n",
      "    Column 4: 2502\n",
      "    Column 5: 1573\n",
      "    Column 6: 2344\n",
      "Corrections applied in this step:\n",
      "    Column 3: 876 Real changes: 0\n",
      "    Column 4: 308 Real changes: 69\n",
      "    Column 5: 841 Real changes: 0\n",
      "    Column 6: 709 Real changes: 82\n",
      "80% (2926 / 3662) of data errors are corrected.\n",
      "The error corrector models are updated with new labeled tuple 996.\n",
      "562338 pairs of (a data error, a potential correction) are featurized.\n",
      "Prediction Method in this step:\n",
      "    Column 3: Train\n",
      "    Column 4: Train\n",
      "    Column 5: Train\n",
      "    Column 6: Train\n",
      "Train sizes in this step:\n",
      "    Column 3: 792\n",
      "    Column 4: 2504\n",
      "    Column 5: 1573\n",
      "    Column 6: 2346\n",
      "Corrections applied in this step:\n",
      "    Column 3: 876 Real changes: 0\n",
      "    Column 4: 70 Real changes: 22\n",
      "    Column 5: 841 Real changes: 0\n",
      "    Column 6: 663 Real changes: 35\n",
      "80% (2927 / 3662) of data errors are corrected.\n",
      "The error corrector models are updated with new labeled tuple 383.\n",
      "564650 pairs of (a data error, a potential correction) are featurized.\n",
      "Prediction Method in this step:\n",
      "    Column 3: Train\n",
      "    Column 4: Train\n",
      "    Column 5: Train\n",
      "    Column 6: Train\n",
      "Train sizes in this step:\n",
      "    Column 3: 798\n",
      "    Column 4: 2510\n",
      "    Column 5: 1577\n",
      "    Column 6: 2352\n",
      "Corrections applied in this step:\n",
      "    Column 3: 876 Real changes: 0\n",
      "    Column 4: 28 Real changes: 0\n",
      "    Column 5: 841 Real changes: 0\n",
      "    Column 6: 650 Real changes: 162\n",
      "80% (2927 / 3662) of data errors are corrected.\n",
      "The error corrector models are updated with new labeled tuple 1789.\n",
      "564656 pairs of (a data error, a potential correction) are featurized.\n",
      "Prediction Method in this step:\n",
      "    Column 3: Train\n",
      "    Column 4: Train\n",
      "    Column 5: Train\n",
      "    Column 6: Train\n",
      "Train sizes in this step:\n",
      "    Column 3: 798\n",
      "    Column 4: 2510\n",
      "    Column 5: 1577\n",
      "    Column 6: 2354\n",
      "Corrections applied in this step:\n",
      "    Column 3: 876 Real changes: 0\n",
      "    Column 4: 70 Real changes: 0\n",
      "    Column 5: 841 Real changes: 0\n",
      "    Column 6: 600 Real changes: 90\n",
      "80% (2927 / 3662) of data errors are corrected.\n",
      "The error corrector models are updated with new labeled tuple 1343.\n",
      "565937 pairs of (a data error, a potential correction) are featurized.\n",
      "Prediction Method in this step:\n",
      "    Column 3: Train\n",
      "    Column 4: Train\n",
      "    Column 5: Train\n",
      "    Column 6: Train\n",
      "Train sizes in this step:\n",
      "    Column 3: 801\n",
      "    Column 4: 2528\n",
      "    Column 5: 1577\n",
      "    Column 6: 2354\n",
      "Corrections applied in this step:\n",
      "    Column 3: 876 Real changes: 0\n",
      "    Column 4: 51 Real changes: 12\n",
      "    Column 5: 841 Real changes: 0\n",
      "    Column 6: 569 Real changes: 46\n",
      "80% (2939 / 3662) of data errors are corrected.\n",
      "The error corrector models are updated with new labeled tuple 2163.\n",
      "570105 pairs of (a data error, a potential correction) are featurized.\n",
      "Prediction Method in this step:\n",
      "    Column 3: Train\n",
      "    Column 4: Train\n",
      "    Column 5: Train\n",
      "    Column 6: Train\n",
      "Train sizes in this step:\n",
      "    Column 3: 807\n",
      "    Column 4: 2556\n",
      "    Column 5: 1583\n",
      "    Column 6: 2360\n",
      "Corrections applied in this step:\n",
      "    Column 3: 876 Real changes: 0\n",
      "    Column 4: 48 Real changes: 12\n",
      "    Column 5: 841 Real changes: 0\n",
      "    Column 6: 569 Real changes: 46\n",
      "81% (2951 / 3662) of data errors are corrected.\n",
      "The error corrector models are updated with new labeled tuple 1399.\n",
      "573285 pairs of (a data error, a potential correction) are featurized.\n",
      "Prediction Method in this step:\n",
      "    Column 3: Train\n",
      "    Column 4: Train\n",
      "    Column 5: Train\n",
      "    Column 6: Train\n",
      "Train sizes in this step:\n",
      "    Column 3: 816\n",
      "    Column 4: 2568\n",
      "    Column 5: 1587\n",
      "    Column 6: 2360\n",
      "Corrections applied in this step:\n",
      "    Column 3: 876 Real changes: 0\n",
      "    Column 4: 74 Real changes: 18\n",
      "    Column 5: 841 Real changes: 0\n",
      "    Column 6: 638 Real changes: 101\n",
      "81% (2969 / 3662) of data errors are corrected.\n",
      "The error corrector models are updated with new labeled tuple 1047.\n",
      "574330 pairs of (a data error, a potential correction) are featurized.\n",
      "Prediction Method in this step:\n",
      "    Column 3: Train\n",
      "    Column 4: Train\n",
      "    Column 5: Train\n",
      "    Column 6: Train\n",
      "Train sizes in this step:\n",
      "    Column 3: 816\n",
      "    Column 4: 2585\n",
      "    Column 5: 1587\n",
      "    Column 6: 2362\n",
      "Corrections applied in this step:\n",
      "    Column 3: 876 Real changes: 0\n",
      "    Column 4: 81 Real changes: 7\n",
      "    Column 5: 841 Real changes: 0\n",
      "    Column 6: 666 Real changes: 28\n",
      "81% (2976 / 3662) of data errors are corrected.\n",
      "The error corrector models are updated with new labeled tuple 1257.\n",
      "577967 pairs of (a data error, a potential correction) are featurized.\n",
      "Prediction Method in this step:\n",
      "    Column 3: Train\n",
      "    Column 4: Train\n",
      "    Column 5: Train\n",
      "    Column 6: Train\n",
      "Train sizes in this step:\n",
      "    Column 3: 822\n",
      "    Column 4: 2617\n",
      "    Column 5: 1589\n",
      "    Column 6: 2366\n",
      "Corrections applied in this step:\n",
      "    Column 3: 876 Real changes: 0\n",
      "    Column 4: 90 Real changes: 9\n",
      "    Column 5: 841 Real changes: 0\n",
      "    Column 6: 653 Real changes: 43\n",
      "82% (2985 / 3662) of data errors are corrected.\n",
      "The error corrector models are updated with new labeled tuple 1734.\n",
      "577967 pairs of (a data error, a potential correction) are featurized.\n",
      "Prediction Method in this step:\n",
      "    Column 3: Train\n",
      "    Column 4: Train\n",
      "    Column 5: Train\n",
      "    Column 6: Train\n",
      "Train sizes in this step:\n",
      "    Column 3: 822\n",
      "    Column 4: 2617\n",
      "    Column 5: 1589\n",
      "    Column 6: 2366\n",
      "Corrections applied in this step:\n",
      "    Column 3: 876 Real changes: 0\n",
      "    Column 4: 90 Real changes: 0\n",
      "    Column 5: 841 Real changes: 0\n",
      "    Column 6: 653 Real changes: 30\n",
      "82% (2985 / 3662) of data errors are corrected.\n",
      "The error corrector models are updated with new labeled tuple 2151.\n",
      "581685 pairs of (a data error, a potential correction) are featurized.\n",
      "Prediction Method in this step:\n",
      "    Column 3: Train\n",
      "    Column 4: Train\n",
      "    Column 5: Train\n",
      "    Column 6: Train\n",
      "Train sizes in this step:\n",
      "    Column 3: 828\n",
      "    Column 4: 2638\n",
      "    Column 5: 1597\n",
      "    Column 6: 2366\n",
      "Corrections applied in this step:\n",
      "    Column 3: 876 Real changes: 0\n",
      "    Column 4: 127 Real changes: 45\n",
      "    Column 5: 841 Real changes: 0\n",
      "    Column 6: 638 Real changes: 15\n",
      "82% (3008 / 3662) of data errors are corrected.\n",
      "The error corrector models are updated with new labeled tuple 793.\n",
      "585153 pairs of (a data error, a potential correction) are featurized.\n",
      "Prediction Method in this step:\n",
      "    Column 3: Train\n",
      "    Column 4: Train\n",
      "    Column 5: Train\n",
      "    Column 6: Train\n",
      "Train sizes in this step:\n",
      "    Column 3: 834\n",
      "    Column 4: 2644\n",
      "    Column 5: 1607\n",
      "    Column 6: 2378\n",
      "Corrections applied in this step:\n",
      "    Column 3: 876 Real changes: 0\n",
      "    Column 4: 108 Real changes: 21\n",
      "    Column 5: 841 Real changes: 0\n",
      "    Column 6: 0 Real changes: 0\n",
      "82% (3021 / 3662) of data errors are corrected.\n",
      "The error corrector models are updated with new labeled tuple 1026.\n",
      "585480 pairs of (a data error, a potential correction) are featurized.\n",
      "Prediction Method in this step:\n",
      "    Column 3: Train\n",
      "    Column 4: Train\n",
      "    Column 5: Train\n",
      "    Column 6: Train\n",
      "Train sizes in this step:\n",
      "    Column 3: 835\n",
      "    Column 4: 2645\n",
      "    Column 5: 1608\n",
      "    Column 6: 2380\n",
      "Corrections applied in this step:\n",
      "    Column 3: 0 Real changes: 0\n",
      "    Column 4: 0 Real changes: 0\n",
      "    Column 5: 841 Real changes: 0\n",
      "    Column 6: 0 Real changes: 0\n",
      "82% (3021 / 3662) of data errors are corrected.\n"
     ]
    }
   ],
   "source": [
    "app_2.initialize_models(d)\n",
    "app_2.initialize_dataset(d)\n",
    "for si in d.labeled_tuples:\n",
    "    d.sampled_tuple = si\n",
    "    app_2.update_models(d)\n",
    "    app_2.generate_features(d)\n",
    "    app_2.predict_corrections(d)"
   ]
  },
  {
   "cell_type": "markdown",
   "metadata": {},
   "source": [
    "## 7. Storing Results\n",
    "Both Raha and Baran can also store the error detection/correction results."
   ]
  },
  {
   "cell_type": "code",
   "execution_count": 9,
   "metadata": {},
   "outputs": [
    {
     "name": "stdout",
     "output_type": "stream",
     "text": [
      "The results are stored in datasets/flights/raha-baran-results-flights/error-detection/detection.dataset.\n",
      "The results are stored in datasets/flights/raha-baran-results-flights/error-correction/correction.dataset.\n"
     ]
    }
   ],
   "source": [
    "app_1.store_results(d)\n",
    "app_2.store_results(d)"
   ]
  },
  {
   "cell_type": "markdown",
   "metadata": {},
   "source": [
    "## 8. Evaluating the Data Cleaning Task\n",
    "We can finally evaluate our data cleaning task."
   ]
  },
  {
   "cell_type": "code",
   "execution_count": 10,
   "metadata": {
    "scrolled": true
   },
   "outputs": [
    {
     "name": "stderr",
     "output_type": "stream",
     "text": [
      "/home/adrian/source/MA/raha/raha/dataset.py:123: FutureWarning: elementwise comparison failed; returning scalar instead, but in the future will perform elementwise comparison\n",
      "  if correction_dictionary[cell] == actual_errors[cell]:\n"
     ]
    },
    {
     "data": {
      "text/plain": "                       Task Precision Recall F1 Score\n0    Error Detection (Raha)      0.94   0.70     0.81\n1  Error Correction (Baran)      0.85   0.52     0.64",
      "text/html": "<div>\n<style scoped>\n    .dataframe tbody tr th:only-of-type {\n        vertical-align: middle;\n    }\n\n    .dataframe tbody tr th {\n        vertical-align: top;\n    }\n\n    .dataframe thead th {\n        text-align: right;\n    }\n</style>\n<table border=\"1\" class=\"dataframe\">\n  <thead>\n    <tr style=\"text-align: right;\">\n      <th></th>\n      <th>Task</th>\n      <th>Precision</th>\n      <th>Recall</th>\n      <th>F1 Score</th>\n    </tr>\n  </thead>\n  <tbody>\n    <tr>\n      <th>0</th>\n      <td>Error Detection (Raha)</td>\n      <td>0.94</td>\n      <td>0.70</td>\n      <td>0.81</td>\n    </tr>\n    <tr>\n      <th>1</th>\n      <td>Error Correction (Baran)</td>\n      <td>0.85</td>\n      <td>0.52</td>\n      <td>0.64</td>\n    </tr>\n  </tbody>\n</table>\n</div>"
     },
     "execution_count": 10,
     "metadata": {},
     "output_type": "execute_result"
    }
   ],
   "source": [
    "edp, edr, edf = d.get_data_cleaning_evaluation(d.detected_cells)[:3]\n",
    "ecp, ecr, ecf = d.get_data_cleaning_evaluation(d.corrected_cells)[-3:]\n",
    "\n",
    "evaluation_df = pandas.DataFrame(columns=[\"Task\", \"Precision\", \"Recall\", \"F1 Score\"])\n",
    "evaluation_df = evaluation_df.append({\"Task\": \"Error Detection (Raha)\", \"Precision\": \"{:.2f}\".format(edp), \n",
    "                                      \"Recall\": \"{:.2f}\".format(edr), \"F1 Score\": \"{:.2f}\".format(edf)}, ignore_index=True)\n",
    "evaluation_df = evaluation_df.append({\"Task\": \"Error Correction (Baran)\", \"Precision\": \"{:.2f}\".format(ecp), \n",
    "                                      \"Recall\": \"{:.2f}\".format(ecr), \"F1 Score\": \"{:.2f}\".format(ecf)}, ignore_index=True)\n",
    "evaluation_df.head()"
   ]
  },
  {
   "cell_type": "code",
   "execution_count": 11,
   "metadata": {},
   "outputs": [
    {
     "data": {
      "text/plain": "<module 'raha.analysis_utilities' from '/home/adrian/source/MA/raha/raha/analysis_utilities.py'>"
     },
     "execution_count": 11,
     "metadata": {},
     "output_type": "execute_result"
    }
   ],
   "source": [
    "import importlib\n",
    "importlib.reload(analysis_utilities)"
   ]
  },
  {
   "cell_type": "code",
   "execution_count": 12,
   "outputs": [],
   "source": [
    "actual_errors = d.get_actual_errors_dictionary()"
   ],
   "metadata": {
    "collapsed": false,
    "pycharm": {
     "name": "#%%\n"
    }
   }
  },
  {
   "cell_type": "code",
   "execution_count": 13,
   "outputs": [
    {
     "name": "stdout",
     "output_type": "stream",
     "text": [
      "Histograms of the probabilities of the detection algorithm by (label, true label)\n"
     ]
    },
    {
     "data": {
      "text/plain": "<Figure size 432x288 with 4 Axes>",
      "image/png": "[encoded data removed]"
     },
     "metadata": {
      "needs_background": "light"
     },
     "output_type": "display_data"
    }
   ],
   "source": [
    "analysis_utilities.detection_evaluation(d, actual_errors)"
   ],
   "metadata": {
    "collapsed": false,
    "pycharm": {
     "name": "#%%\n"
    }
   }
  },
  {
   "cell_type": "code",
   "execution_count": 14,
   "outputs": [],
   "source": [
    "correction_confidence_df = analysis_utilities.get_correction_confidence_df(d, actual_errors)"
   ],
   "metadata": {
    "collapsed": false,
    "pycharm": {
     "name": "#%%\n"
    }
   }
  },
  {
   "cell_type": "code",
   "execution_count": 15,
   "outputs": [
    {
     "data": {
      "text/plain": "3021"
     },
     "execution_count": 15,
     "metadata": {},
     "output_type": "execute_result"
    }
   ],
   "source": [
    "correction_confidence_df.shape[0]"
   ],
   "metadata": {
    "collapsed": false,
    "pycharm": {
     "name": "#%%\n"
    }
   }
  },
  {
   "cell_type": "code",
   "execution_count": 16,
   "outputs": [
    {
     "data": {
      "text/plain": "863"
     },
     "execution_count": 16,
     "metadata": {},
     "output_type": "execute_result"
    }
   ],
   "source": [
    "(correction_confidence_df[\"confidence\"] < 0.98).sum()"
   ],
   "metadata": {
    "collapsed": false,
    "pycharm": {
     "name": "#%%\n"
    }
   }
  },
  {
   "cell_type": "code",
   "execution_count": 17,
   "outputs": [
    {
     "name": "stdout",
     "output_type": "stream",
     "text": [
      "Distribution of confidences for wrong (False) and correct (True) corrections:\n"
     ]
    },
    {
     "data": {
      "text/plain": "<Figure size 432x288 with 2 Axes>",
      "image/png": "[encoded data removed]"
     },
     "metadata": {
      "needs_background": "light"
     },
     "output_type": "display_data"
    }
   ],
   "source": [
    "analysis_utilities.correction_confidence_distributions(correction_confidence_df)"
   ],
   "metadata": {
    "collapsed": false,
    "pycharm": {
     "name": "#%%\n"
    }
   }
  },
  {
   "cell_type": "code",
   "execution_count": 18,
   "outputs": [
    {
     "name": "stdout",
     "output_type": "stream",
     "text": [
      "Empirical probability of a correction being wrong given its confidence:\n"
     ]
    },
    {
     "name": "stderr",
     "output_type": "stream",
     "text": [
      "/home/adrian/anaconda3/envs/raha/lib/python3.7/site-packages/ipykernel_launcher.py:2: UserWarning: Matplotlib is currently using module://ipykernel.pylab.backend_inline, which is a non-GUI backend, so cannot show the figure.\n",
      "  \n"
     ]
    },
    {
     "data": {
      "text/plain": "<Figure size 432x288 with 2 Axes>",
      "image/png": "[encoded data removed]"
     },
     "metadata": {
      "needs_background": "light"
     },
     "output_type": "display_data"
    }
   ],
   "source": [
    "f = analysis_utilities.correction_correctness_by_confidence(correction_confidence_df)\n",
    "f.show()"
   ],
   "metadata": {
    "collapsed": false,
    "pycharm": {
     "name": "#%%\n"
    }
   }
  }
 ],
 "metadata": {
  "kernelspec": {
   "display_name": "Python 3",
   "language": "python",
   "name": "python3"
  },
  "language_info": {
   "codemirror_mode": {
    "name": "ipython",
    "version": 3
   },
   "file_extension": ".py",
   "mimetype": "text/x-python",
   "name": "python",
   "nbconvert_exporter": "python",
   "pygments_lexer": "ipython3",
   "version": "3.7.9"
  }
 },
 "nbformat": 4,
 "nbformat_minor": 4
}
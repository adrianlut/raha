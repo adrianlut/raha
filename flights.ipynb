{
 "cells": [
  {
   "cell_type": "markdown",
   "metadata": {},
   "source": [
    "# Flights example"
   ]
  },
  {
   "cell_type": "code",
   "execution_count": 1,
   "metadata": {},
   "outputs": [],
   "source": [
    "import pandas\n",
    "import numpy as np\n",
    "\n",
    "import raha"
   ]
  },
  {
   "cell_type": "markdown",
   "metadata": {},
   "source": [
    "## 1. Instantiating the Detection and Correction Classes"
   ]
  },
  {
   "cell_type": "code",
   "execution_count": 2,
   "metadata": {},
   "outputs": [],
   "source": [
    "from raha import analysis_utilities\n",
    "app_1 = raha.Detection()\n",
    "app_2 = raha.Correction()\n",
    "\n",
    "# How many tuples would you label?\n",
    "app_1.LABELING_BUDGET = 20\n",
    "app_2.LABELING_BUDGET = 0\n",
    "\n",
    "# Would you like to see the logs?\n",
    "app_1.VERBOSE = True\n",
    "app_2.VERBOSE = True"
   ]
  },
  {
   "cell_type": "markdown",
   "metadata": {},
   "source": [
    "## 2. Instantiating the Dataset"
   ]
  },
  {
   "cell_type": "code",
   "execution_count": 3,
   "metadata": {},
   "outputs": [
    {
     "data": {
      "text/plain": "  tuple_id src           flight sched_dep_time act_dep_time sched_arr_time  \\\n0        1  aa  AA-3859-IAH-ORD      7:10 a.m.    7:16 a.m.      9:40 a.m.   \n1        2  aa  AA-1733-ORD-PHX      7:45 p.m.    7:58 p.m.     10:30 p.m.   \n2        3  aa  AA-1640-MIA-MCO      6:30 p.m.                   7:25 p.m.   \n3        4  aa   AA-518-MIA-JFK      6:40 a.m.    6:54 a.m.      9:25 a.m.   \n4        5  aa  AA-3756-ORD-SLC     12:15 p.m.   12:41 p.m.      2:45 p.m.   \n\n  act_arr_time  \n0    9:32 a.m.  \n1               \n2               \n3    9:28 a.m.  \n4    2:50 p.m.  ",
      "text/html": "<div>\n<style scoped>\n    .dataframe tbody tr th:only-of-type {\n        vertical-align: middle;\n    }\n\n    .dataframe tbody tr th {\n        vertical-align: top;\n    }\n\n    .dataframe thead th {\n        text-align: right;\n    }\n</style>\n<table border=\"1\" class=\"dataframe\">\n  <thead>\n    <tr style=\"text-align: right;\">\n      <th></th>\n      <th>tuple_id</th>\n      <th>src</th>\n      <th>flight</th>\n      <th>sched_dep_time</th>\n      <th>act_dep_time</th>\n      <th>sched_arr_time</th>\n      <th>act_arr_time</th>\n    </tr>\n  </thead>\n  <tbody>\n    <tr>\n      <th>0</th>\n      <td>1</td>\n      <td>aa</td>\n      <td>AA-3859-IAH-ORD</td>\n      <td>7:10 a.m.</td>\n      <td>7:16 a.m.</td>\n      <td>9:40 a.m.</td>\n      <td>9:32 a.m.</td>\n    </tr>\n    <tr>\n      <th>1</th>\n      <td>2</td>\n      <td>aa</td>\n      <td>AA-1733-ORD-PHX</td>\n      <td>7:45 p.m.</td>\n      <td>7:58 p.m.</td>\n      <td>10:30 p.m.</td>\n      <td></td>\n    </tr>\n    <tr>\n      <th>2</th>\n      <td>3</td>\n      <td>aa</td>\n      <td>AA-1640-MIA-MCO</td>\n      <td>6:30 p.m.</td>\n      <td></td>\n      <td>7:25 p.m.</td>\n      <td></td>\n    </tr>\n    <tr>\n      <th>3</th>\n      <td>4</td>\n      <td>aa</td>\n      <td>AA-518-MIA-JFK</td>\n      <td>6:40 a.m.</td>\n      <td>6:54 a.m.</td>\n      <td>9:25 a.m.</td>\n      <td>9:28 a.m.</td>\n    </tr>\n    <tr>\n      <th>4</th>\n      <td>5</td>\n      <td>aa</td>\n      <td>AA-3756-ORD-SLC</td>\n      <td>12:15 p.m.</td>\n      <td>12:41 p.m.</td>\n      <td>2:45 p.m.</td>\n      <td>2:50 p.m.</td>\n    </tr>\n  </tbody>\n</table>\n</div>"
     },
     "execution_count": 3,
     "metadata": {},
     "output_type": "execute_result"
    }
   ],
   "source": [
    "dataset_dictionary = {\n",
    "        \"name\": \"flights\",\n",
    "        \"path\": \"datasets/flights/dirty.csv\",\n",
    "        \"clean_path\": \"datasets/flights/clean.csv\"\n",
    "    }\n",
    "d = app_1.initialize_dataset(dataset_dictionary)\n",
    "d.dataframe.head()"
   ]
  },
  {
   "cell_type": "markdown",
   "metadata": {},
   "source": [
    "## 3. Generating Features and Clusters"
   ]
  },
  {
   "cell_type": "code",
   "execution_count": 4,
   "metadata": {},
   "outputs": [
    {
     "name": "stderr",
     "output_type": "stream",
     "text": [
      "I just load strategies' results as they have already been run on the dataset!\n"
     ]
    },
    {
     "name": "stdout",
     "output_type": "stream",
     "text": [
      "309 strategy profiles are collected.\n",
      "40 Features are generated for column 0.\n",
      "65 Features are generated for column 1.\n",
      "62 Features are generated for column 2.\n",
      "65 Features are generated for column 3.\n",
      "71 Features are generated for column 4.\n",
      "65 Features are generated for column 5.\n",
      "86 Features are generated for column 6.\n",
      "A hierarchical clustering model is built for column 0.\n",
      "A hierarchical clustering model is built for column 1.\n",
      "A hierarchical clustering model is built for column 2.\n",
      "A hierarchical clustering model is built for column 3.\n",
      "A hierarchical clustering model is built for column 4.\n",
      "A hierarchical clustering model is built for column 5.\n",
      "A hierarchical clustering model is built for column 6.\n"
     ]
    }
   ],
   "source": [
    "app_1.run_strategies(d)\n",
    "app_1.generate_features(d)\n",
    "app_1.build_clusters(d)"
   ]
  },
  {
   "cell_type": "markdown",
   "metadata": {},
   "source": [
    "## 4. Interactive Tuple Sampling and Labeling\n",
    "For the sake of time, we use the ground truth of the dataset to label tuples below."
   ]
  },
  {
   "cell_type": "code",
   "execution_count": 5,
   "metadata": {
    "scrolled": true
   },
   "outputs": [],
   "source": [
    "%%capture\n",
    "while len(d.labeled_tuples) < app_1.LABELING_BUDGET:\n",
    "    app_1.sample_tuple(d)\n",
    "    if d.has_ground_truth:\n",
    "        app_1.label_with_ground_truth(d)"
   ]
  },
  {
   "cell_type": "markdown",
   "metadata": {},
   "source": [
    "## 5. Propagating User Labels and Predicting the Labels"
   ]
  },
  {
   "cell_type": "code",
   "execution_count": 6,
   "metadata": {},
   "outputs": [
    {
     "name": "stdout",
     "output_type": "stream",
     "text": [
      "The number of labeled data cells increased from 140 to 11650.\n",
      "A classifier is trained and applied on column 0.\n",
      "A classifier is trained and applied on column 1.\n",
      "A classifier is trained and applied on column 2.\n",
      "A classifier is trained and applied on column 3.\n",
      "A classifier is trained and applied on column 4.\n",
      "A classifier is trained and applied on column 5.\n",
      "A classifier is trained and applied on column 6.\n"
     ]
    }
   ],
   "source": [
    "app_1.propagate_labels(d)\n",
    "app_1.predict_labels(d)"
   ]
  },
  {
   "cell_type": "markdown",
   "metadata": {},
   "source": [
    "## 6. Initializing and Updating the Error Corrector Models"
   ]
  },
  {
   "cell_type": "code",
   "execution_count": 7,
   "metadata": {},
   "outputs": [
    {
     "name": "stdout",
     "output_type": "stream",
     "text": [
      "The error corrector models are initialized.\n",
      "The error corrector models are updated with new labeled tuple 555.\n",
      "449472 pairs of (a data error, a potential correction) are featurized.\n",
      "Prediction Method in this step:\n",
      "    Column 3: Train\n",
      "    Column 4: Train\n",
      "    Column 5: Train\n",
      "    Column 6: Train\n",
      "Train sizes in this step:\n",
      "    Column 3: 840\n",
      "    Column 4: 2262\n",
      "    Column 5: 1298\n",
      "    Column 6: 832\n",
      "Corrections applied in this step:\n",
      "    Column 3: 875 Real changes: 875\n",
      "    Column 4: 378 Real changes: 378\n",
      "    Column 5: 932 Real changes: 932\n",
      "    Column 6: 658 Real changes: 658\n",
      "63% (2844 / 4489) of data errors are corrected.\n",
      "The error corrector models are updated with new labeled tuple 1571.\n",
      "454034 pairs of (a data error, a potential correction) are featurized.\n",
      "Prediction Method in this step:\n",
      "    Column 3: Train\n",
      "    Column 4: Train\n",
      "    Column 5: Train\n",
      "    Column 6: Train\n",
      "Train sizes in this step:\n",
      "    Column 3: 840\n",
      "    Column 4: 2269\n",
      "    Column 5: 1304\n",
      "    Column 6: 859\n",
      "Corrections applied in this step:\n",
      "    Column 3: 875 Real changes: 0\n",
      "    Column 4: 379 Real changes: 93\n",
      "    Column 5: 932 Real changes: 0\n",
      "    Column 6: 664 Real changes: 6\n",
      "64% (2851 / 4489) of data errors are corrected.\n",
      "The error corrector models are updated with new labeled tuple 220.\n",
      "458896 pairs of (a data error, a potential correction) are featurized.\n",
      "Prediction Method in this step:\n",
      "    Column 3: Train\n",
      "    Column 4: Train\n",
      "    Column 5: Train\n",
      "    Column 6: Train\n",
      "Train sizes in this step:\n",
      "    Column 3: 847\n",
      "    Column 4: 2287\n",
      "    Column 5: 1310\n",
      "    Column 6: 876\n",
      "Corrections applied in this step:\n",
      "    Column 3: 875 Real changes: 0\n",
      "    Column 4: 476 Real changes: 206\n",
      "    Column 5: 932 Real changes: 0\n",
      "    Column 6: 721 Real changes: 57\n",
      "67% (3005 / 4489) of data errors are corrected.\n",
      "The error corrector models are updated with new labeled tuple 1357.\n",
      "459380 pairs of (a data error, a potential correction) are featurized.\n",
      "Prediction Method in this step:\n",
      "    Column 3: Train\n",
      "    Column 4: Train\n",
      "    Column 5: Train\n",
      "    Column 6: Train\n",
      "Train sizes in this step:\n",
      "    Column 3: 852\n",
      "    Column 4: 2291\n",
      "    Column 5: 1315\n",
      "    Column 6: 882\n",
      "Corrections applied in this step:\n",
      "    Column 3: 875 Real changes: 0\n",
      "    Column 4: 461 Real changes: 106\n",
      "    Column 5: 932 Real changes: 0\n",
      "    Column 6: 721 Real changes: 0\n",
      "67% (3005 / 4489) of data errors are corrected.\n",
      "The error corrector models are updated with new labeled tuple 1509.\n",
      "463070 pairs of (a data error, a potential correction) are featurized.\n",
      "Prediction Method in this step:\n",
      "    Column 3: Train\n",
      "    Column 4: Train\n",
      "    Column 5: Train\n",
      "    Column 6: Train\n",
      "Train sizes in this step:\n",
      "    Column 3: 859\n",
      "    Column 4: 2291\n",
      "    Column 5: 1321\n",
      "    Column 6: 899\n",
      "Corrections applied in this step:\n",
      "    Column 3: 875 Real changes: 0\n",
      "    Column 4: 351 Real changes: 55\n",
      "    Column 5: 932 Real changes: 0\n",
      "    Column 6: 674 Real changes: 8\n",
      "67% (3015 / 4489) of data errors are corrected.\n",
      "The error corrector models are updated with new labeled tuple 7.\n",
      "463070 pairs of (a data error, a potential correction) are featurized.\n",
      "Prediction Method in this step:\n",
      "    Column 3: Train\n",
      "    Column 4: Train\n",
      "    Column 5: Train\n",
      "    Column 6: Train\n",
      "Train sizes in this step:\n",
      "    Column 3: 859\n",
      "    Column 4: 2291\n",
      "    Column 5: 1321\n",
      "    Column 6: 899\n",
      "Corrections applied in this step:\n",
      "    Column 3: 875 Real changes: 0\n",
      "    Column 4: 351 Real changes: 48\n",
      "    Column 5: 932 Real changes: 0\n",
      "    Column 6: 674 Real changes: 0\n",
      "67% (3015 / 4489) of data errors are corrected.\n",
      "The error corrector models are updated with new labeled tuple 1036.\n",
      "465794 pairs of (a data error, a potential correction) are featurized.\n",
      "Prediction Method in this step:\n",
      "    Column 3: Train\n",
      "    Column 4: Train\n",
      "    Column 5: Train\n",
      "    Column 6: Train\n",
      "Train sizes in this step:\n",
      "    Column 3: 859\n",
      "    Column 4: 2307\n",
      "    Column 5: 1321\n",
      "    Column 6: 915\n",
      "Corrections applied in this step:\n",
      "    Column 3: 875 Real changes: 0\n",
      "    Column 4: 529 Real changes: 249\n",
      "    Column 5: 932 Real changes: 0\n",
      "    Column 6: 700 Real changes: 26\n",
      "71% (3209 / 4489) of data errors are corrected.\n",
      "The error corrector models are updated with new labeled tuple 1649.\n",
      "470651 pairs of (a data error, a potential correction) are featurized.\n",
      "Prediction Method in this step:\n",
      "    Column 3: Train\n",
      "    Column 4: Train\n",
      "    Column 5: Train\n",
      "    Column 6: Train\n",
      "Train sizes in this step:\n",
      "    Column 3: 874\n",
      "    Column 4: 2312\n",
      "    Column 5: 1327\n",
      "    Column 6: 932\n",
      "Corrections applied in this step:\n",
      "    Column 3: 875 Real changes: 0\n",
      "    Column 4: 491 Real changes: 85\n",
      "    Column 5: 932 Real changes: 0\n",
      "    Column 6: 727 Real changes: 27\n",
      "72% (3236 / 4489) of data errors are corrected.\n",
      "The error corrector models are updated with new labeled tuple 67.\n",
      "477124 pairs of (a data error, a potential correction) are featurized.\n",
      "Prediction Method in this step:\n",
      "    Column 3: Train\n",
      "    Column 4: Train\n",
      "    Column 5: Train\n",
      "    Column 6: Train\n",
      "Train sizes in this step:\n",
      "    Column 3: 881\n",
      "    Column 4: 2328\n",
      "    Column 5: 1336\n",
      "    Column 6: 949\n",
      "Corrections applied in this step:\n",
      "    Column 3: 875 Real changes: 0\n",
      "    Column 4: 457 Real changes: 87\n",
      "    Column 5: 932 Real changes: 0\n",
      "    Column 6: 746 Real changes: 19\n",
      "73% (3255 / 4489) of data errors are corrected.\n",
      "The error corrector models are updated with new labeled tuple 2104.\n",
      "480194 pairs of (a data error, a potential correction) are featurized.\n",
      "Prediction Method in this step:\n",
      "    Column 3: Train\n",
      "    Column 4: Train\n",
      "    Column 5: Train\n",
      "    Column 6: Train\n",
      "Train sizes in this step:\n",
      "    Column 3: 888\n",
      "    Column 4: 2338\n",
      "    Column 5: 1342\n",
      "    Column 6: 957\n",
      "Corrections applied in this step:\n",
      "    Column 3: 875 Real changes: 0\n",
      "    Column 4: 466 Real changes: 75\n",
      "    Column 5: 932 Real changes: 0\n",
      "    Column 6: 746 Real changes: 0\n",
      "73% (3255 / 4489) of data errors are corrected.\n",
      "The error corrector models are updated with new labeled tuple 531.\n",
      "483211 pairs of (a data error, a potential correction) are featurized.\n",
      "Prediction Method in this step:\n",
      "    Column 3: Train\n",
      "    Column 4: Train\n",
      "    Column 5: Train\n",
      "    Column 6: Train\n",
      "Train sizes in this step:\n",
      "    Column 3: 888\n",
      "    Column 4: 2340\n",
      "    Column 5: 1342\n",
      "    Column 6: 977\n",
      "Corrections applied in this step:\n",
      "    Column 3: 875 Real changes: 0\n",
      "    Column 4: 371 Real changes: 85\n",
      "    Column 5: 932 Real changes: 0\n",
      "    Column 6: 689 Real changes: 24\n",
      "73% (3296 / 4489) of data errors are corrected.\n",
      "The error corrector models are updated with new labeled tuple 1548.\n",
      "486307 pairs of (a data error, a potential correction) are featurized.\n",
      "Prediction Method in this step:\n",
      "    Column 3: Train\n",
      "    Column 4: Train\n",
      "    Column 5: Train\n",
      "    Column 6: Train\n",
      "Train sizes in this step:\n",
      "    Column 3: 902\n",
      "    Column 4: 2345\n",
      "    Column 5: 1348\n",
      "    Column 6: 981\n",
      "Corrections applied in this step:\n",
      "    Column 3: 875 Real changes: 0\n",
      "    Column 4: 121 Real changes: 46\n",
      "    Column 5: 932 Real changes: 0\n",
      "    Column 6: 689 Real changes: 0\n",
      "73% (3296 / 4489) of data errors are corrected.\n",
      "The error corrector models are updated with new labeled tuple 2135.\n",
      "488593 pairs of (a data error, a potential correction) are featurized.\n",
      "Prediction Method in this step:\n",
      "    Column 3: Train\n",
      "    Column 4: Train\n",
      "    Column 5: Train\n",
      "    Column 6: Train\n",
      "Train sizes in this step:\n",
      "    Column 3: 902\n",
      "    Column 4: 2355\n",
      "    Column 5: 1354\n",
      "    Column 6: 989\n",
      "Corrections applied in this step:\n",
      "    Column 3: 875 Real changes: 0\n",
      "    Column 4: 119 Real changes: 9\n",
      "    Column 5: 932 Real changes: 0\n",
      "    Column 6: 753 Real changes: 49\n",
      "74% (3306 / 4489) of data errors are corrected.\n",
      "The error corrector models are updated with new labeled tuple 2097.\n",
      "488593 pairs of (a data error, a potential correction) are featurized.\n",
      "Prediction Method in this step:\n",
      "    Column 3: Train\n",
      "    Column 4: Train\n",
      "    Column 5: Train\n",
      "    Column 6: Train\n",
      "Train sizes in this step:\n",
      "    Column 3: 902\n",
      "    Column 4: 2355\n",
      "    Column 5: 1354\n",
      "    Column 6: 989\n",
      "Corrections applied in this step:\n",
      "    Column 3: 875 Real changes: 0\n",
      "    Column 4: 119 Real changes: 8\n",
      "    Column 5: 932 Real changes: 0\n",
      "    Column 6: 753 Real changes: 0\n",
      "74% (3306 / 4489) of data errors are corrected.\n",
      "The error corrector models are updated with new labeled tuple 304.\n",
      "492917 pairs of (a data error, a potential correction) are featurized.\n",
      "Prediction Method in this step:\n",
      "    Column 3: Train\n",
      "    Column 4: Train\n",
      "    Column 5: Train\n",
      "    Column 6: Train\n",
      "Train sizes in this step:\n",
      "    Column 3: 902\n",
      "    Column 4: 2358\n",
      "    Column 5: 1355\n",
      "    Column 6: 1008\n",
      "Corrections applied in this step:\n",
      "    Column 3: 875 Real changes: 0\n",
      "    Column 4: 73 Real changes: 50\n",
      "    Column 5: 932 Real changes: 0\n",
      "    Column 6: 868 Real changes: 98\n",
      "77% (3439 / 4489) of data errors are corrected.\n",
      "The error corrector models are updated with new labeled tuple 778.\n",
      "494132 pairs of (a data error, a potential correction) are featurized.\n",
      "Prediction Method in this step:\n",
      "    Column 3: Train\n",
      "    Column 4: Train\n",
      "    Column 5: Train\n",
      "    Column 6: Train\n",
      "Train sizes in this step:\n",
      "    Column 3: 902\n",
      "    Column 4: 2365\n",
      "    Column 5: 1356\n",
      "    Column 6: 1010\n",
      "Corrections applied in this step:\n",
      "    Column 3: 875 Real changes: 0\n",
      "    Column 4: 99 Real changes: 12\n",
      "    Column 5: 932 Real changes: 0\n",
      "    Column 6: 778 Real changes: 0\n",
      "77% (3446 / 4489) of data errors are corrected.\n",
      "The error corrector models are updated with new labeled tuple 794.\n",
      "497227 pairs of (a data error, a potential correction) are featurized.\n",
      "Prediction Method in this step:\n",
      "    Column 3: Train\n",
      "    Column 4: Train\n",
      "    Column 5: Train\n",
      "    Column 6: Train\n",
      "Train sizes in this step:\n",
      "    Column 3: 909\n",
      "    Column 4: 2365\n",
      "    Column 5: 1370\n",
      "    Column 6: 1018\n",
      "Corrections applied in this step:\n",
      "    Column 3: 875 Real changes: 0\n",
      "    Column 4: 165 Real changes: 37\n",
      "    Column 5: 932 Real changes: 0\n",
      "    Column 6: 774 Real changes: 0\n",
      "77% (3448 / 4489) of data errors are corrected.\n",
      "The error corrector models are updated with new labeled tuple 386.\n",
      "505027 pairs of (a data error, a potential correction) are featurized.\n",
      "Prediction Method in this step:\n",
      "    Column 3: Train\n",
      "    Column 4: Train\n",
      "    Column 5: Train\n",
      "    Column 6: Train\n",
      "Train sizes in this step:\n",
      "    Column 3: 909\n",
      "    Column 4: 2390\n",
      "    Column 5: 1380\n",
      "    Column 6: 1045\n",
      "Corrections applied in this step:\n",
      "    Column 3: 875 Real changes: 0\n",
      "    Column 4: 167 Real changes: 2\n",
      "    Column 5: 932 Real changes: 0\n",
      "    Column 6: 309 Real changes: 0\n",
      "77% (3448 / 4489) of data errors are corrected.\n",
      "The error corrector models are updated with new labeled tuple 1621.\n",
      "507445 pairs of (a data error, a potential correction) are featurized.\n",
      "Prediction Method in this step:\n",
      "    Column 3: Train\n",
      "    Column 4: Train\n",
      "    Column 5: Train\n",
      "    Column 6: Train\n",
      "Train sizes in this step:\n",
      "    Column 3: 914\n",
      "    Column 4: 2396\n",
      "    Column 5: 1381\n",
      "    Column 6: 1059\n",
      "Corrections applied in this step:\n",
      "    Column 3: 875 Real changes: 0\n",
      "    Column 4: 0 Real changes: 0\n",
      "    Column 5: 932 Real changes: 0\n",
      "    Column 6: 826 Real changes: 52\n",
      "78% (3480 / 4489) of data errors are corrected.\n",
      "The error corrector models are updated with new labeled tuple 2273.\n",
      "511980 pairs of (a data error, a potential correction) are featurized.\n",
      "Prediction Method in this step:\n",
      "    Column 3: Train\n",
      "    Column 4: Train\n",
      "    Column 5: Train\n",
      "    Column 6: Train\n",
      "Train sizes in this step:\n",
      "    Column 3: 914\n",
      "    Column 4: 2410\n",
      "    Column 5: 1383\n",
      "    Column 6: 1071\n",
      "Corrections applied in this step:\n",
      "    Column 3: 875 Real changes: 0\n",
      "    Column 4: 0 Real changes: 0\n",
      "    Column 5: 0 Real changes: 0\n",
      "    Column 6: 0 Real changes: 0\n",
      "78% (3480 / 4489) of data errors are corrected.\n"
     ]
    }
   ],
   "source": [
    "app_2.initialize_models(d)\n",
    "app_2.initialize_dataset(d)\n",
    "for si in d.labeled_tuples:\n",
    "    d.sampled_tuple = si\n",
    "    app_2.update_models(d)\n",
    "    app_2.generate_features(d)\n",
    "    app_2.predict_corrections(d)"
   ]
  },
  {
   "cell_type": "markdown",
   "metadata": {},
   "source": [
    "## 8. Evaluating the Data Cleaning Task"
   ]
  },
  {
   "cell_type": "code",
   "execution_count": 8,
   "metadata": {
    "scrolled": true
   },
   "outputs": [
    {
     "name": "stderr",
     "output_type": "stream",
     "text": [
      "/home/adrian/source/MA/raha/raha/dataset.py:123: FutureWarning: elementwise comparison failed; returning scalar instead, but in the future will perform elementwise comparison\n",
      "  if correction_dictionary[cell] == actual_errors[cell]:\n"
     ]
    },
    {
     "data": {
      "text/plain": "                       Task Precision Recall F1 Score\n0    Error Detection (Raha)      0.85   0.77     0.81\n1  Error Correction (Baran)      0.80   0.57     0.66",
      "text/html": "<div>\n<style scoped>\n    .dataframe tbody tr th:only-of-type {\n        vertical-align: middle;\n    }\n\n    .dataframe tbody tr th {\n        vertical-align: top;\n    }\n\n    .dataframe thead th {\n        text-align: right;\n    }\n</style>\n<table border=\"1\" class=\"dataframe\">\n  <thead>\n    <tr style=\"text-align: right;\">\n      <th></th>\n      <th>Task</th>\n      <th>Precision</th>\n      <th>Recall</th>\n      <th>F1 Score</th>\n    </tr>\n  </thead>\n  <tbody>\n    <tr>\n      <th>0</th>\n      <td>Error Detection (Raha)</td>\n      <td>0.85</td>\n      <td>0.77</td>\n      <td>0.81</td>\n    </tr>\n    <tr>\n      <th>1</th>\n      <td>Error Correction (Baran)</td>\n      <td>0.80</td>\n      <td>0.57</td>\n      <td>0.66</td>\n    </tr>\n  </tbody>\n</table>\n</div>"
     },
     "execution_count": 8,
     "metadata": {},
     "output_type": "execute_result"
    }
   ],
   "source": [
    "edp, edr, edf = d.get_data_cleaning_evaluation(d.detected_cells)[:3]\n",
    "ecp, ecr, ecf = d.get_data_cleaning_evaluation(d.corrected_cells)[-3:]\n",
    "\n",
    "evaluation_df = pandas.DataFrame(columns=[\"Task\", \"Precision\", \"Recall\", \"F1 Score\"])\n",
    "evaluation_df = evaluation_df.append({\"Task\": \"Error Detection (Raha)\", \"Precision\": \"{:.2f}\".format(edp), \n",
    "                                      \"Recall\": \"{:.2f}\".format(edr), \"F1 Score\": \"{:.2f}\".format(edf)}, ignore_index=True)\n",
    "evaluation_df = evaluation_df.append({\"Task\": \"Error Correction (Baran)\", \"Precision\": \"{:.2f}\".format(ecp), \n",
    "                                      \"Recall\": \"{:.2f}\".format(ecr), \"F1 Score\": \"{:.2f}\".format(ecf)}, ignore_index=True)\n",
    "evaluation_df.head()"
   ]
  },
  {
   "cell_type": "markdown",
   "source": [
    "## Analyze the alternative repairs"
   ],
   "metadata": {
    "collapsed": false
   }
  },
  {
   "cell_type": "code",
   "execution_count": 9,
   "outputs": [
    {
     "data": {
      "text/plain": "'Histogram of the number of alternative repairs: [(0, 0), (1, 3163), (2, 268), (3, 2)]'"
     },
     "execution_count": 9,
     "metadata": {},
     "output_type": "execute_result"
    }
   ],
   "source": [
    "number_of_repairs = len(d.correction_collection)\n",
    "number_of_repairs_hist = dict()\n",
    "\n",
    "for cell_repairs in d.correction_collection.values():\n",
    "    num = len(cell_repairs)\n",
    "    number_of_repairs_hist[num] = number_of_repairs_hist.get(num, 0) + 1\n",
    "\n",
    "hist = [0] * (max(number_of_repairs_hist.keys()) + 1)\n",
    "for num, count in number_of_repairs_hist.items():\n",
    "    hist[num] = count\n",
    "\n",
    "f\"Histogram of the number of alternative repairs: {list(enumerate(hist))}\""
   ],
   "metadata": {
    "collapsed": false,
    "pycharm": {
     "name": "#%%\n"
    }
   }
  },
  {
   "cell_type": "code",
   "execution_count": 10,
   "outputs": [],
   "source": [
    "diff_collection = []\n",
    "\n",
    "for corrections in d.correction_collection.values():\n",
    "    if len(corrections) > 1:\n",
    "        probabilities = list(sorted(corrections.values(), reverse=True))\n",
    "        diffs = [a - b for a, b in zip(probabilities[:-1], probabilities[1:])]\n",
    "        diff_collection.append(diffs)"
   ],
   "metadata": {
    "collapsed": false,
    "pycharm": {
     "name": "#%%\n"
    }
   }
  },
  {
   "cell_type": "code",
   "execution_count": 11,
   "outputs": [
    {
     "data": {
      "text/plain": "(array([ 4, 77,  4,  2,  0,  2,  2,  0,  1,  0,  1,  1,  0,  8,  5,  2,  8,\n         2, 13,  0,  3,  0,  0,  2,  1,  0,  0,  0,  0,  0,  0,  0,  0,  0,\n         0,  1,  0,  0,  0,  0,  0,  0,  0,  0,  0,  0,  5,  0,  0,  0,  6,\n         0,  0,  0,  0,  2,  0,  0,  0,  5,  0, 12,  6,  0,  0,  0,  0,  1,\n         4,  0,  0,  7,  0,  5,  8, 14,  4,  2,  0,  1,  9,  0,  0,  0,  0,\n         0,  0, 18,  0,  0,  0,  0,  1,  0,  0,  0,  0,  0,  0, 21]),\n array([0.   , 0.005, 0.01 , 0.015, 0.02 , 0.025, 0.03 , 0.035, 0.04 ,\n        0.045, 0.05 , 0.055, 0.06 , 0.065, 0.07 , 0.075, 0.08 , 0.085,\n        0.09 , 0.095, 0.1  , 0.105, 0.11 , 0.115, 0.12 , 0.125, 0.13 ,\n        0.135, 0.14 , 0.145, 0.15 , 0.155, 0.16 , 0.165, 0.17 , 0.175,\n        0.18 , 0.185, 0.19 , 0.195, 0.2  , 0.205, 0.21 , 0.215, 0.22 ,\n        0.225, 0.23 , 0.235, 0.24 , 0.245, 0.25 , 0.255, 0.26 , 0.265,\n        0.27 , 0.275, 0.28 , 0.285, 0.29 , 0.295, 0.3  , 0.305, 0.31 ,\n        0.315, 0.32 , 0.325, 0.33 , 0.335, 0.34 , 0.345, 0.35 , 0.355,\n        0.36 , 0.365, 0.37 , 0.375, 0.38 , 0.385, 0.39 , 0.395, 0.4  ,\n        0.405, 0.41 , 0.415, 0.42 , 0.425, 0.43 , 0.435, 0.44 , 0.445,\n        0.45 , 0.455, 0.46 , 0.465, 0.47 , 0.475, 0.48 , 0.485, 0.49 ,\n        0.495, 0.5  ]))"
     },
     "execution_count": 11,
     "metadata": {},
     "output_type": "execute_result"
    }
   ],
   "source": [
    "first_diff_collection = [l[0] for l in diff_collection]\n",
    "\n",
    "np.histogram(first_diff_collection,np.linspace(0.0,0.5,101))"
   ],
   "metadata": {
    "collapsed": false,
    "pycharm": {
     "name": "#%%\n"
    }
   }
  },
  {
   "cell_type": "code",
   "execution_count": 12,
   "outputs": [
    {
     "data": {
      "text/plain": "(array([30, 73, 29, 14, 20, 21, 17,  0,  0,  4,  1,  0, 18,  0,  1,  6,  9,\n         3,  5,  0,  0,  0,  2,  0,  0,  0,  0,  6,  0,  0,  0,  5,  0,  0,\n         0,  0,  0,  0,  0,  0,  0,  0,  0,  0,  0,  0,  0,  0,  0,  0,  0,\n         0,  0,  0,  0,  0,  0,  0,  0,  0,  0,  0,  0,  0,  0,  0,  0,  0,\n         0,  0,  0,  0,  0,  0,  0,  0,  0,  6,  0,  0,  0,  0,  0,  0,  0,\n         0,  0,  0,  0,  0,  0,  0,  0,  0,  0,  0,  0,  0,  0,  0]),\n array([0.5  , 0.505, 0.51 , 0.515, 0.52 , 0.525, 0.53 , 0.535, 0.54 ,\n        0.545, 0.55 , 0.555, 0.56 , 0.565, 0.57 , 0.575, 0.58 , 0.585,\n        0.59 , 0.595, 0.6  , 0.605, 0.61 , 0.615, 0.62 , 0.625, 0.63 ,\n        0.635, 0.64 , 0.645, 0.65 , 0.655, 0.66 , 0.665, 0.67 , 0.675,\n        0.68 , 0.685, 0.69 , 0.695, 0.7  , 0.705, 0.71 , 0.715, 0.72 ,\n        0.725, 0.73 , 0.735, 0.74 , 0.745, 0.75 , 0.755, 0.76 , 0.765,\n        0.77 , 0.775, 0.78 , 0.785, 0.79 , 0.795, 0.8  , 0.805, 0.81 ,\n        0.815, 0.82 , 0.825, 0.83 , 0.835, 0.84 , 0.845, 0.85 , 0.855,\n        0.86 , 0.865, 0.87 , 0.875, 0.88 , 0.885, 0.89 , 0.895, 0.9  ,\n        0.905, 0.91 , 0.915, 0.92 , 0.925, 0.93 , 0.935, 0.94 , 0.945,\n        0.95 , 0.955, 0.96 , 0.965, 0.97 , 0.975, 0.98 , 0.985, 0.99 ,\n        0.995, 1.   ]))"
     },
     "execution_count": 12,
     "metadata": {},
     "output_type": "execute_result"
    }
   ],
   "source": [
    "second_probs = []\n",
    "\n",
    "for corrections in d.correction_collection.values():\n",
    "    if len(corrections) > 1:\n",
    "        second_probability = list(sorted(corrections.values(), reverse=True))[1]\n",
    "        second_probs.append(second_probability)\n",
    "\n",
    "np.histogram(second_probs,np.linspace(0.5,1.0,101))"
   ],
   "metadata": {
    "collapsed": false,
    "pycharm": {
     "name": "#%%\n"
    }
   }
  },
  {
   "cell_type": "code",
   "execution_count": 13,
   "outputs": [],
   "source": [
    "correct_repairs = d.get_actual_errors_dictionary()\n",
    "error_repaired_cells = [cell for cell, correction in d.corrected_cells.items() if cell in correct_repairs and correction != correct_repairs[cell]]"
   ],
   "metadata": {
    "collapsed": false,
    "pycharm": {
     "name": "#%%\n"
    }
   }
  },
  {
   "cell_type": "code",
   "execution_count": 14,
   "outputs": [
    {
     "data": {
      "text/plain": "'Number of incorrectly repaired cells: 363'"
     },
     "execution_count": 14,
     "metadata": {},
     "output_type": "execute_result"
    }
   ],
   "source": [
    "f\"Number of incorrectly repaired cells: {len(error_repaired_cells)}\""
   ],
   "metadata": {
    "collapsed": false,
    "pycharm": {
     "name": "#%%\n"
    }
   }
  },
  {
   "cell_type": "code",
   "execution_count": 15,
   "outputs": [
    {
     "data": {
      "text/plain": "'Number of incorrectly repaired cells, where the correct repair is among the alternative repairs: 57'"
     },
     "execution_count": 15,
     "metadata": {},
     "output_type": "execute_result"
    }
   ],
   "source": [
    "correct_repair_available = 0\n",
    "\n",
    "for cell in error_repaired_cells:\n",
    "    if correct_repairs[cell] in d.correction_collection[cell].keys():\n",
    "        correct_repair_available += 1\n",
    "\n",
    "f\"Number of incorrectly repaired cells, where the correct repair is among the alternative repairs: {correct_repair_available}\""
   ],
   "metadata": {
    "collapsed": false,
    "pycharm": {
     "name": "#%%\n"
    }
   }
  },
  {
   "cell_type": "code",
   "execution_count": 16,
   "outputs": [
    {
     "data": {
      "text/plain": "(array([0, 2, 2, 4, 8, 0, 1, 0, 0, 4, 0, 0, 0, 0, 1, 5, 9, 3, 0, 0, 0, 0,\n        2, 0, 0, 0, 0, 6, 0, 0, 0, 5, 0, 0, 0, 0, 0, 0, 0, 0, 0, 0, 0, 0,\n        0, 0, 0, 0, 0, 0, 0, 0, 0, 0, 0, 0, 0, 0, 0, 0, 0, 0, 0, 0, 0, 0,\n        0, 0, 0, 0, 0, 0, 0, 0, 0, 0, 0, 5, 0, 0, 0, 0, 0, 0, 0, 0, 0, 0,\n        0, 0, 0, 0, 0, 0, 0, 0, 0, 0, 0, 0]),\n array([0.5  , 0.505, 0.51 , 0.515, 0.52 , 0.525, 0.53 , 0.535, 0.54 ,\n        0.545, 0.55 , 0.555, 0.56 , 0.565, 0.57 , 0.575, 0.58 , 0.585,\n        0.59 , 0.595, 0.6  , 0.605, 0.61 , 0.615, 0.62 , 0.625, 0.63 ,\n        0.635, 0.64 , 0.645, 0.65 , 0.655, 0.66 , 0.665, 0.67 , 0.675,\n        0.68 , 0.685, 0.69 , 0.695, 0.7  , 0.705, 0.71 , 0.715, 0.72 ,\n        0.725, 0.73 , 0.735, 0.74 , 0.745, 0.75 , 0.755, 0.76 , 0.765,\n        0.77 , 0.775, 0.78 , 0.785, 0.79 , 0.795, 0.8  , 0.805, 0.81 ,\n        0.815, 0.82 , 0.825, 0.83 , 0.835, 0.84 , 0.845, 0.85 , 0.855,\n        0.86 , 0.865, 0.87 , 0.875, 0.88 , 0.885, 0.89 , 0.895, 0.9  ,\n        0.905, 0.91 , 0.915, 0.92 , 0.925, 0.93 , 0.935, 0.94 , 0.945,\n        0.95 , 0.955, 0.96 , 0.965, 0.97 , 0.975, 0.98 , 0.985, 0.99 ,\n        0.995, 1.   ]))"
     },
     "execution_count": 16,
     "metadata": {},
     "output_type": "execute_result"
    }
   ],
   "source": [
    "correct_repair_probs = []\n",
    "\n",
    "for cell in error_repaired_cells:\n",
    "    if correct_repairs[cell] in d.correction_collection[cell]:\n",
    "        correct_repair_probs.append(d.correction_collection[cell][correct_repairs[cell]])\n",
    "\n",
    "np.histogram(correct_repair_probs,np.linspace(0.5,1.0,101))"
   ],
   "metadata": {
    "collapsed": false,
    "pycharm": {
     "name": "#%%\n"
    }
   }
  },
  {
   "cell_type": "markdown",
   "source": [
    "## Analyze confidence vs error probability"
   ],
   "metadata": {
    "collapsed": false,
    "pycharm": {
     "name": "#%% md\n"
    }
   }
  },
  {
   "cell_type": "code",
   "execution_count": 17,
   "metadata": {},
   "outputs": [],
   "source": [
    "import importlib\n",
    "from raha import analysis_utilities\n",
    "import matplotlib.pyplot as plt\n",
    "plt.style.use('seaborn')\n",
    "plt.ion()"
   ]
  },
  {
   "cell_type": "code",
   "execution_count": 27,
   "metadata": {
    "pycharm": {
     "name": "#%%\n"
    }
   },
   "outputs": [
    {
     "data": {
      "text/plain": "<module 'raha.analysis_utilities' from '/home/adrian/source/MA/raha/raha/analysis_utilities.py'>"
     },
     "execution_count": 27,
     "metadata": {},
     "output_type": "execute_result"
    }
   ],
   "source": [
    "importlib.reload(analysis_utilities)"
   ]
  },
  {
   "cell_type": "code",
   "execution_count": 19,
   "metadata": {
    "pycharm": {
     "name": "#%%\n"
    }
   },
   "outputs": [],
   "source": [
    "repair_confidence_df = analysis_utilities.get_correction_confidence_df(d)"
   ]
  },
  {
   "cell_type": "code",
   "execution_count": 20,
   "outputs": [
    {
     "data": {
      "text/plain": "<Figure size 576x396 with 2 Axes>",
      "image/png": "[encoded data removed]"
     },
     "execution_count": 20,
     "metadata": {},
     "output_type": "execute_result"
    }
   ],
   "source": [
    "analysis_utilities.correction_confidence_distributions(repair_confidence_df)"
   ],
   "metadata": {
    "collapsed": false,
    "pycharm": {
     "name": "#%%\n"
    }
   }
  },
  {
   "cell_type": "code",
   "execution_count": 25,
   "outputs": [
    {
     "data": {
      "text/plain": "<Figure size 576x396 with 2 Axes>",
      "image/png": "[encoded data removed]"
     },
     "execution_count": 25,
     "metadata": {},
     "output_type": "execute_result"
    }
   ],
   "source": [
    "analysis_utilities.correction_correctness_by_confidence(repair_confidence_df, number_of_bins=10)"
   ],
   "metadata": {
    "collapsed": false,
    "pycharm": {
     "name": "#%%\n"
    }
   }
  },
  {
   "cell_type": "code",
   "execution_count": 31,
   "outputs": [
    {
     "data": {
      "text/plain": "<Figure size 576x396 with 4 Axes>",
      "image/png": "[encoded data removed]"
     },
     "execution_count": 31,
     "metadata": {},
     "output_type": "execute_result"
    }
   ],
   "source": [
    "analysis_utilities.detection_evaluation(d)"
   ],
   "metadata": {
    "collapsed": false,
    "pycharm": {
     "name": "#%%\n"
    }
   }
  },
  {
   "cell_type": "code",
   "execution_count": 32,
   "outputs": [
    {
     "data": {
      "text/plain": "<Figure size 576x396 with 2 Axes>",
      "image/png": "[encoded data removed]"
     },
     "execution_count": 32,
     "metadata": {},
     "output_type": "execute_result"
    }
   ],
   "source": [
    "analysis_utilities.detection_correctness_by_confidence(d,number_of_bins=20)"
   ],
   "metadata": {
    "collapsed": false,
    "pycharm": {
     "name": "#%%\n"
    }
   }
  },
  {
   "cell_type": "markdown",
   "source": [
    "## Misc"
   ],
   "metadata": {
    "collapsed": false,
    "pycharm": {
     "name": "#%% md\n"
    }
   }
  },
  {
   "cell_type": "code",
   "execution_count": 124,
   "metadata": {
    "pycharm": {
     "name": "#%%\n"
    }
   },
   "outputs": [],
   "source": [
    "correction_confidence_df = analysis_utilities.get_correction_confidence_df(d, actual_errors)"
   ]
  },
  {
   "cell_type": "code",
   "execution_count": 125,
   "metadata": {
    "pycharm": {
     "name": "#%%\n"
    }
   },
   "outputs": [
    {
     "data": {
      "text/plain": "3380"
     },
     "execution_count": 125,
     "metadata": {},
     "output_type": "execute_result"
    }
   ],
   "source": [
    "correction_confidence_df.shape[0]"
   ]
  },
  {
   "cell_type": "code",
   "execution_count": 126,
   "metadata": {
    "pycharm": {
     "name": "#%%\n"
    }
   },
   "outputs": [
    {
     "data": {
      "text/plain": "1138"
     },
     "execution_count": 126,
     "metadata": {},
     "output_type": "execute_result"
    }
   ],
   "source": [
    "(correction_confidence_df[\"confidence\"] < 0.98).sum()"
   ]
  },
  {
   "cell_type": "code",
   "execution_count": 131,
   "metadata": {
    "pycharm": {
     "name": "#%%\n"
    }
   },
   "outputs": [],
   "source": [
    "f = analysis_utilities.correction_confidence_distributions(correction_confidence_df)\n",
    "f.savefig(\"confidence_histogram.svg\")"
   ]
  },
  {
   "cell_type": "code",
   "execution_count": 132,
   "metadata": {
    "pycharm": {
     "name": "#%%\n"
    }
   },
   "outputs": [],
   "source": [
    "f = analysis_utilities.correction_correctness_by_confidence(correction_confidence_df, 10)\n",
    "f.savefig(\"confidence_probability.svg\")"
   ]
  },
  {
   "cell_type": "code",
   "execution_count": 129,
   "metadata": {
    "pycharm": {
     "name": "#%%\n"
    }
   },
   "outputs": [
    {
     "name": "stdout",
     "output_type": "stream",
     "text": [
      "Changed attributes: [(3, 'sched_dep_time'), (4, 'act_dep_time'), (5, 'sched_arr_time'), (6, 'act_arr_time')]\n",
      "Number of changed cells: 3380\n",
      "Number of changed tuples: 1717\n",
      "% of tuples changed: 72.26All changes:\n",
      "       row  column value_before value_after    type_before     type_after  \\\n",
      "0      134       3                7:55 a.m.  <class 'str'>  <class 'str'>   \n",
      "1      665       3   12:00 p.m.  12:00 a.m.  <class 'str'>  <class 'str'>   \n",
      "2      714       3                8:35 a.m.  <class 'str'>  <class 'str'>   \n",
      "3      806       3                6:45 a.m.  <class 'str'>  <class 'str'>   \n",
      "4      866       3                7:05 a.m.  <class 'str'>  <class 'str'>   \n",
      "...    ...     ...          ...         ...            ...            ...   \n",
      "3375   416       6               11:56 a.m.  <class 'str'>  <class 'str'>   \n",
      "3376  1302       6               11:56 a.m.  <class 'str'>  <class 'str'>   \n",
      "3377  1566       6               11:56 a.m.  <class 'str'>  <class 'str'>   \n",
      "3378  1752       6   11:56 a.m.  11:56 a.m.  <class 'str'>  <class 'str'>   \n",
      "3379  1396       4    8:30 p.m.   8:39 p.m.  <class 'str'>  <class 'str'>   \n",
      "\n",
      "     value_before_string value_after_string  \n",
      "0                                 7:55 a.m.  \n",
      "1             12:00 p.m.         12:00 a.m.  \n",
      "2                                 8:35 a.m.  \n",
      "3                                 6:45 a.m.  \n",
      "4                                 7:05 a.m.  \n",
      "...                  ...                ...  \n",
      "3375                             11:56 a.m.  \n",
      "3376                             11:56 a.m.  \n",
      "3377                             11:56 a.m.  \n",
      "3378          11:56 a.m.         11:56 a.m.  \n",
      "3379           8:30 p.m.          8:39 p.m.  \n",
      "\n",
      "[3380 rows x 8 columns]\n",
      "Type changes:\n",
      "      column    type_before     type_after\n",
      "0          3  <class 'str'>  <class 'str'>\n",
      "866        4  <class 'str'>  <class 'str'>\n",
      "1228       5  <class 'str'>  <class 'str'>\n",
      "2245       6  <class 'str'>  <class 'str'>\n",
      "Change frequency:\n",
      "value_before     value_after\n",
      "                 2:55 p.m.      0.013314\n",
      "                 6:00 a.m.      0.012130\n",
      "                 10:40 a.m.     0.009172\n",
      "                 2:48 p.m.      0.008284\n",
      "                 3:50 p.m.      0.007988\n",
      "                                  ...   \n",
      "11/30 5:25 p.m.  5:25 p.m.      0.000296\n",
      "11/30 5:15 p.m.  5:15 p.m.      0.000296\n",
      "7:49aDec 1       8:07 a.m.      0.000296\n",
      "11/30 4:16 p.m.  4:16 p.m.      0.000296\n",
      "Thu 7:45         7:45 a.m.      0.000296\n",
      "Length: 693, dtype: float64\n",
      "Distribution of changes over columns:\n",
      "column\n",
      "5         0.300888\n",
      "6         0.269822\n",
      "3         0.256213\n",
      "4         0.173077\n",
      "dtype: float64\n",
      "Not all changes are injective! look:\n",
      "column  value_after_string\n",
      "3       10:15 a.m.            False\n",
      "        10:25 a.m.            False\n",
      "        10:39 a.m.            False\n",
      "        10:40 a.m.            False\n",
      "        10:45 a.m.            False\n",
      "                              ...  \n",
      "6       8:03 p.m.             False\n",
      "        8:45 a.m.             False\n",
      "        8:53 p.m.             False\n",
      "        9:20 p.m.             False\n",
      "        9:53 p.m.             False\n",
      "Name: value_before_string, Length: 299, dtype: bool\n"
     ]
    }
   ],
   "source": [
    "print(analysis_utilities.result_analysis(d.dataframe, d.corrected_cells))"
   ]
  },
  {
   "cell_type": "code",
   "execution_count": 134,
   "outputs": [
    {
     "name": "stdout",
     "output_type": "stream",
     "text": [
      "Original Value: '8:30 p.m.'\n",
      "Label: 1\n",
      "Confidence: 0.9997257024930141\n",
      "Cell belongs to cluster (Column 4, Cluster 6)\n",
      "Total number of cells in this cluster: 9\n",
      "Cell was labeled by cluster label extension with label 1\n",
      "Other cells in the same cluster (sample of max 5 cells):\n",
      "(1789, 4): '2:04 p.m.' Features: [0. 0. 0. 1. 0. 0. 0. 0. 0. 0. 0. 0. 1. 1. 1. 0. 0. 0. 0. 0. 0. 0. 0. 0.\n",
      " 0. 0. 1. 1. 1. 1. 1. 1. 0. 0. 0. 1. 0. 0. 1. 0. 0. 0. 0. 1. 0. 0. 1. 1.\n",
      " 0. 0. 0. 0. 0. 1. 0. 0. 0. 0. 1. 0. 0. 0. 1. 0. 0. 0. 0. 0. 0. 1. 1.]\n",
      "(2081, 4): '2:04 p.m.' Features: [0. 0. 0. 1. 0. 0. 0. 0. 0. 0. 0. 0. 1. 1. 1. 0. 0. 0. 0. 0. 0. 0. 0. 0.\n",
      " 0. 0. 1. 1. 1. 1. 1. 1. 0. 0. 0. 1. 0. 0. 1. 0. 0. 0. 0. 1. 0. 0. 1. 1.\n",
      " 0. 0. 0. 0. 0. 1. 0. 0. 0. 0. 1. 0. 0. 0. 1. 0. 0. 0. 0. 0. 0. 1. 1.]\n",
      "(842, 4): '2:04 p.m.' Features: [0. 0. 0. 1. 0. 0. 0. 0. 0. 0. 0. 0. 1. 1. 1. 0. 0. 0. 0. 0. 0. 0. 0. 0.\n",
      " 0. 0. 1. 1. 1. 1. 1. 1. 0. 0. 0. 1. 0. 0. 1. 0. 0. 0. 0. 1. 0. 0. 1. 1.\n",
      " 0. 0. 0. 0. 0. 1. 0. 0. 0. 0. 1. 0. 0. 0. 1. 0. 0. 0. 0. 0. 0. 1. 1.]\n",
      "(610, 4): '8:39 p.m.' Features: [1. 0. 0. 1. 0. 0. 0. 0. 0. 0. 0. 0. 1. 1. 1. 0. 0. 0. 0. 1. 0. 0. 0. 0.\n",
      " 0. 0. 1. 1. 1. 0. 0. 1. 0. 0. 0. 1. 1. 1. 0. 0. 0. 0. 0. 1. 0. 0. 1. 1.\n",
      " 0. 0. 0. 0. 0. 1. 0. 0. 0. 0. 0. 0. 0. 1. 1. 0. 0. 0. 0. 0. 0. 0. 1.]\n",
      "(1473, 4): '8:39 p.m.' Features: [1. 0. 0. 1. 0. 0. 0. 0. 0. 0. 0. 0. 1. 1. 1. 0. 0. 0. 0. 1. 0. 0. 0. 0.\n",
      " 0. 0. 1. 1. 1. 0. 0. 1. 0. 0. 0. 1. 0. 1. 0. 0. 0. 0. 0. 1. 0. 0. 1. 1.\n",
      " 0. 0. 0. 0. 0. 1. 0. 0. 0. 0. 0. 0. 0. 0. 1. 0. 0. 0. 0. 0. 0. 0. 1.]\n",
      "Mean of all feature vectors in the cluster and feature vector of the current cell for comparison:\n",
      "[0.67 0.00 0.00 1.00 0.00 0.00 0.00 0.00 0.00 0.00 0.00 0.00 1.00 1.00 1.00 0.00 0.00 0.00 0.00 0.44 0.00 0.00 0.00 0.00 0.00 0.00 0.78 1.00 1.00 0.33 0.33 1.00 0.00 0.00 0.00 1.00 0.22 0.67 0.33 0.00 0.00 0.00 0.00 1.00 0.00 0.00 1.00 0.78 0.00 0.00 0.00 0.00 0.00 1.00 0.00 0.00 0.00 0.00 0.56 0.00 0.00 0.22 1.00 0.00 0.00 0.00 0.00 0.00 0.00 0.56 1.00]\n",
      "[1.00 0.00 0.00 1.00 0.00 0.00 0.00 0.00 0.00 0.00 0.00 0.00 1.00 1.00 1.00 0.00 0.00 0.00 0.00 0.00 0.00 0.00 0.00 0.00 0.00 0.00 0.00 1.00 1.00 0.00 0.00 1.00 0.00 0.00 0.00 1.00 1.00 1.00 0.00 0.00 0.00 0.00 0.00 1.00 0.00 0.00 1.00 0.00 0.00 0.00 0.00 0.00 0.00 1.00 0.00 0.00 0.00 0.00 1.00 0.00 0.00 1.00 1.00 0.00 0.00 0.00 0.00 0.00 0.00 1.00 1.00]\n",
      "This cluster was labeled because of the user labels of the following cells in its cluster: \n",
      "(1626, 4): '8:30 p.m.' Label: 1\n"
     ]
    }
   ],
   "source": [
    "analysis_utilities.explain_detection(d, (1396, 4))"
   ],
   "metadata": {
    "collapsed": false,
    "pycharm": {
     "name": "#%%\n"
    }
   }
  },
  {
   "cell_type": "code",
   "execution_count": 135,
   "outputs": [
    {
     "name": "stdout",
     "output_type": "stream",
     "text": [
      "Correction: 8:39 p.m.\n",
      "Correction confidence: 0.5531369592231153\n",
      "Alternative corrections and their confidence values: {'8:39 p.m.': 0.5531369592231153}\n"
     ]
    }
   ],
   "source": [
    "analysis_utilities.alternative_corrections_overview(d, (1396, 4))"
   ],
   "metadata": {
    "collapsed": false,
    "pycharm": {
     "name": "#%%\n"
    }
   }
  },
  {
   "cell_type": "code",
   "execution_count": 15,
   "metadata": {},
   "outputs": [
    {
     "data": {
      "text/plain": "value 0       0.000000\nvalue 1       0.000000\nvalue 2       0.000000\nvalue 3       0.000000\nvalue 4       0.000000\nvalue 5       0.000000\nvalue 6       0.000000\nvalue 7       0.000000\nvicinity 0    0.000000\nvicinity 1    0.000000\nvicinity 2    1.000000\nvicinity 3    0.000000\nvicinity 4    0.000000\nvicinity 5    0.000000\nvicinity 6    1.000000\ndomain        0.052249\ndtype: float64"
     },
     "execution_count": 15,
     "metadata": {},
     "output_type": "execute_result"
    }
   ],
   "source": [
    "analysis_utilities.get_repair_features(d, (50, 3))"
   ]
  },
  {
   "cell_type": "code",
   "execution_count": 17,
   "outputs": [
    {
     "data": {
      "text/plain": "value 0       0.000000\nvalue 1       0.000000\nvalue 2       0.000000\nvalue 3       0.000000\nvalue 4       0.000000\nvalue 5       0.000000\nvalue 6       0.000000\nvalue 7       0.000000\nvicinity 0    0.000000\nvicinity 1    0.000000\nvicinity 2    1.000000\nvicinity 3    0.000000\nvicinity 4    0.000000\nvicinity 5    0.000000\nvicinity 6    0.000000\ndomain        0.011905\ndtype: float64"
     },
     "execution_count": 17,
     "metadata": {},
     "output_type": "execute_result"
    }
   ],
   "source": [
    "analysis_utilities.get_repair_features(d, (52, 3))\n"
   ],
   "metadata": {
    "collapsed": false,
    "pycharm": {
     "name": "#%%\n"
    }
   }
  },
  {
   "cell_type": "code",
   "execution_count": 30,
   "outputs": [
    {
     "data": {
      "text/plain": "<Figure size 576x396 with 2 Axes>",
      "image/png": "[encoded data removed]"
     },
     "execution_count": 30,
     "metadata": {},
     "output_type": "execute_result"
    }
   ],
   "source": [],
   "metadata": {
    "collapsed": false,
    "pycharm": {
     "name": "#%%\n"
    }
   }
  },
  {
   "cell_type": "code",
   "execution_count": null,
   "outputs": [],
   "source": [],
   "metadata": {
    "collapsed": false,
    "pycharm": {
     "name": "#%%\n"
    }
   }
  }
 ],
 "metadata": {
  "kernelspec": {
   "display_name": "Python 3",
   "language": "python",
   "name": "python3"
  },
  "language_info": {
   "codemirror_mode": {
    "name": "ipython",
    "version": 3
   },
   "file_extension": ".py",
   "mimetype": "text/x-python",
   "name": "python",
   "nbconvert_exporter": "python",
   "pygments_lexer": "ipython3",
   "version": "3.8.5"
  }
 },
 "nbformat": 4,
 "nbformat_minor": 4
}
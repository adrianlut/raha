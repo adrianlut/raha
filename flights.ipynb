{
 "cells": [
  {
   "cell_type": "markdown",
   "metadata": {},
   "source": [
    "# End-to-End Data Cleaning Pipeline with Raha and Baran (Minimal and Integrated)\n",
    "We build an end-to-end data cleaning pipeline with our configuration-free error detection and correction systems, Raha and Baran."
   ]
  },
  {
   "cell_type": "code",
   "execution_count": 1,
   "metadata": {},
   "outputs": [],
   "source": [
    "import pandas\n",
    "import IPython.display\n",
    "import ipywidgets\n",
    "\n",
    "import raha"
   ]
  },
  {
   "cell_type": "markdown",
   "metadata": {},
   "source": [
    "## 1. Instantiating the Detection and Correction Classes\n",
    "We first instantiate the `Detection` and `Correction` classes."
   ]
  },
  {
   "cell_type": "code",
   "execution_count": 2,
   "metadata": {},
   "outputs": [],
   "source": [
    "from raha import analysis_utilities\n",
    "app_1 = raha.Detection()\n",
    "app_2 = raha.Correction()\n",
    "\n",
    "# How many tuples would you label?\n",
    "app_1.LABELING_BUDGET = 20\n",
    "app_2.LABELING_BUDGET = 0\n",
    "\n",
    "# Would you like to see the logs?\n",
    "app_1.VERBOSE = True\n",
    "app_2.VERBOSE = True"
   ]
  },
  {
   "cell_type": "markdown",
   "metadata": {},
   "source": [
    "## 2. Instantiating the Dataset\n",
    "We next load and instantiate the dataset object."
   ]
  },
  {
   "cell_type": "code",
   "execution_count": 3,
   "metadata": {},
   "outputs": [
    {
     "data": {
      "text/plain": "  tuple_id src           flight sched_dep_time act_dep_time sched_arr_time  \\\n0        1  aa  AA-3859-IAH-ORD      7:10 a.m.    7:16 a.m.      9:40 a.m.   \n1        2  aa  AA-1733-ORD-PHX      7:45 p.m.    7:58 p.m.     10:30 p.m.   \n2        3  aa  AA-1640-MIA-MCO      6:30 p.m.                   7:25 p.m.   \n3        4  aa   AA-518-MIA-JFK      6:40 a.m.    6:54 a.m.      9:25 a.m.   \n4        5  aa  AA-3756-ORD-SLC     12:15 p.m.   12:41 p.m.      2:45 p.m.   \n\n  act_arr_time  \n0    9:32 a.m.  \n1               \n2               \n3    9:28 a.m.  \n4    2:50 p.m.  ",
      "text/html": "<div>\n<style scoped>\n    .dataframe tbody tr th:only-of-type {\n        vertical-align: middle;\n    }\n\n    .dataframe tbody tr th {\n        vertical-align: top;\n    }\n\n    .dataframe thead th {\n        text-align: right;\n    }\n</style>\n<table border=\"1\" class=\"dataframe\">\n  <thead>\n    <tr style=\"text-align: right;\">\n      <th></th>\n      <th>tuple_id</th>\n      <th>src</th>\n      <th>flight</th>\n      <th>sched_dep_time</th>\n      <th>act_dep_time</th>\n      <th>sched_arr_time</th>\n      <th>act_arr_time</th>\n    </tr>\n  </thead>\n  <tbody>\n    <tr>\n      <th>0</th>\n      <td>1</td>\n      <td>aa</td>\n      <td>AA-3859-IAH-ORD</td>\n      <td>7:10 a.m.</td>\n      <td>7:16 a.m.</td>\n      <td>9:40 a.m.</td>\n      <td>9:32 a.m.</td>\n    </tr>\n    <tr>\n      <th>1</th>\n      <td>2</td>\n      <td>aa</td>\n      <td>AA-1733-ORD-PHX</td>\n      <td>7:45 p.m.</td>\n      <td>7:58 p.m.</td>\n      <td>10:30 p.m.</td>\n      <td></td>\n    </tr>\n    <tr>\n      <th>2</th>\n      <td>3</td>\n      <td>aa</td>\n      <td>AA-1640-MIA-MCO</td>\n      <td>6:30 p.m.</td>\n      <td></td>\n      <td>7:25 p.m.</td>\n      <td></td>\n    </tr>\n    <tr>\n      <th>3</th>\n      <td>4</td>\n      <td>aa</td>\n      <td>AA-518-MIA-JFK</td>\n      <td>6:40 a.m.</td>\n      <td>6:54 a.m.</td>\n      <td>9:25 a.m.</td>\n      <td>9:28 a.m.</td>\n    </tr>\n    <tr>\n      <th>4</th>\n      <td>5</td>\n      <td>aa</td>\n      <td>AA-3756-ORD-SLC</td>\n      <td>12:15 p.m.</td>\n      <td>12:41 p.m.</td>\n      <td>2:45 p.m.</td>\n      <td>2:50 p.m.</td>\n    </tr>\n  </tbody>\n</table>\n</div>"
     },
     "execution_count": 3,
     "metadata": {},
     "output_type": "execute_result"
    }
   ],
   "source": [
    "dataset_dictionary = {\n",
    "        \"name\": \"flights\",\n",
    "        \"path\": \"datasets/flights/dirty.csv\",\n",
    "        \"clean_path\": \"datasets/flights/clean.csv\"\n",
    "    }\n",
    "d = app_1.initialize_dataset(dataset_dictionary)\n",
    "d.dataframe.head()"
   ]
  },
  {
   "cell_type": "markdown",
   "metadata": {},
   "source": [
    "## 3. Generating Features and Clusters\n",
    "Raha runs (all or the promising) error detection strategies on the dataset. This step could take a while because all the strategies should be run on the dataset. Raha then generates a feature vector for each data cell based on the output of error detection strategies. Raha next builds a hierarchical clustering model for our clustering-based sampling approach."
   ]
  },
  {
   "cell_type": "code",
   "execution_count": 4,
   "metadata": {},
   "outputs": [
    {
     "name": "stderr",
     "output_type": "stream",
     "text": [
      "I just load strategies' results as they have already been run on the dataset!\n"
     ]
    },
    {
     "name": "stdout",
     "output_type": "stream",
     "text": [
      "309 strategy profiles are collected.\n",
      "40 Features are generated for column 0.\n",
      "65 Features are generated for column 1.\n",
      "62 Features are generated for column 2.\n",
      "65 Features are generated for column 3.\n",
      "71 Features are generated for column 4.\n",
      "65 Features are generated for column 5.\n",
      "86 Features are generated for column 6.\n",
      "A hierarchical clustering model is built for column 0.\n",
      "A hierarchical clustering model is built for column 1.\n",
      "A hierarchical clustering model is built for column 2.\n",
      "A hierarchical clustering model is built for column 3.\n",
      "A hierarchical clustering model is built for column 4.\n",
      "A hierarchical clustering model is built for column 5.\n",
      "A hierarchical clustering model is built for column 6.\n"
     ]
    }
   ],
   "source": [
    "app_1.run_strategies(d)\n",
    "app_1.generate_features(d)\n",
    "app_1.build_clusters(d)"
   ]
  },
  {
   "cell_type": "markdown",
   "metadata": {},
   "source": [
    "## 4. Interactive Tuple Sampling and Labeling\n",
    "Raha then iteratively samples a tuple. We should label data cells of each sampled tuple."
   ]
  },
  {
   "cell_type": "code",
   "execution_count": 5,
   "metadata": {
    "scrolled": true
   },
   "outputs": [],
   "source": [
    "# def on_button_clicked(_):\n",
    "#     for j in range(0, len(texts)):\n",
    "#         cell = (d.sampled_tuple, j)\n",
    "#         error_label = 0\n",
    "#         correction = texts[j].value\n",
    "#         if d.dataframe.iloc[cell] != correction:\n",
    "#             error_label = 1\n",
    "#         d.labeled_cells[cell] = [error_label, correction]\n",
    "#     d.labeled_tuples[d.sampled_tuple] = 1\n",
    "#\n",
    "# app_1.sample_tuple(d)\n",
    "# print(\"Fix the dirty cells in the following sampled tuple.\")\n",
    "# sampled_tuple = pandas.DataFrame(data=[d.dataframe.iloc[d.sampled_tuple, :]], columns=d.dataframe.columns)\n",
    "# IPython.display.display(sampled_tuple)\n",
    "# texts = [ipywidgets.Text(value=d.dataframe.iloc[d.sampled_tuple, j]) for j in range(d.dataframe.shape[1])]\n",
    "# button = ipywidgets.Button(description=\"Save the Annotation\")\n",
    "# button.on_click(on_button_clicked)\n",
    "# output = ipywidgets.VBox(children=texts + [button])\n",
    "# IPython.display.display(output)"
   ]
  },
  {
   "cell_type": "markdown",
   "metadata": {},
   "source": [
    "For the sake of time, we use the ground truth of the dataset to label tuples below."
   ]
  },
  {
   "cell_type": "code",
   "execution_count": 6,
   "metadata": {
    "scrolled": true
   },
   "outputs": [],
   "source": [
    "%%capture\n",
    "while len(d.labeled_tuples) < app_1.LABELING_BUDGET:\n",
    "    app_1.sample_tuple(d)\n",
    "    if d.has_ground_truth:\n",
    "        app_1.label_with_ground_truth(d)"
   ]
  },
  {
   "cell_type": "markdown",
   "metadata": {},
   "source": [
    "## 5. Propagating User Labels and Predicting the Labels\n",
    "Raha then propagates each user label through its cluster. Raha then trains and applies one classifier per data column to predict the label of the rest of data cells."
   ]
  },
  {
   "cell_type": "code",
   "execution_count": 7,
   "metadata": {},
   "outputs": [
    {
     "name": "stdout",
     "output_type": "stream",
     "text": [
      "The number of labeled data cells increased from 140 to 11472.\n",
      "A classifier is trained and applied on column 0.\n",
      "A classifier is trained and applied on column 1.\n",
      "A classifier is trained and applied on column 2.\n",
      "A classifier is trained and applied on column 3.\n",
      "A classifier is trained and applied on column 4.\n",
      "A classifier is trained and applied on column 5.\n",
      "A classifier is trained and applied on column 6.\n"
     ]
    }
   ],
   "source": [
    "app_1.propagate_labels(d)\n",
    "app_1.predict_labels(d)"
   ]
  },
  {
   "cell_type": "markdown",
   "metadata": {},
   "source": [
    "## 6. Initializing and Updating the Error Corrector Models\n",
    "Baran initializes the error corrector models. Baran then iteratively samples a tuple. We should label data cells of each sampled tuple. It then udpates the models accordingly and generates a feature vector for each pair of a data error and a correction candidate. Finally, it trains and applies a classifier to each data column to predict the final correction of each data error. Since we already labeled tuples for Raha, we use the same labeled tuples and do not label new tuples here."
   ]
  },
  {
   "cell_type": "code",
   "execution_count": 8,
   "metadata": {},
   "outputs": [
    {
     "name": "stdout",
     "output_type": "stream",
     "text": [
      "The error corrector models are initialized.\n",
      "The error corrector models are updated with new labeled tuple 244.\n",
      "484674 pairs of (a data error, a potential correction) are featurized.\n",
      "Prediction Method in this step:\n",
      "    Column 3: Train\n",
      "    Column 4: Train\n",
      "    Column 5: Train\n",
      "    Column 6: Train\n",
      "Train sizes in this step:\n",
      "    Column 3: 753\n",
      "    Column 4: 2182\n",
      "    Column 5: 902\n",
      "    Column 6: 1120\n",
      "Corrections applied in this step:\n",
      "    Column 3: 856 Real changes: 856\n",
      "    Column 4: 373 Real changes: 373\n",
      "    Column 5: 1008 Real changes: 1008\n",
      "    Column 6: 669 Real changes: 669\n",
      "58% (2910 / 4988) of data errors are corrected.\n",
      "The error corrector models are updated with new labeled tuple 1425.\n",
      "491756 pairs of (a data error, a potential correction) are featurized.\n",
      "Prediction Method in this step:\n",
      "    Column 3: Train\n",
      "    Column 4: Train\n",
      "    Column 5: Train\n",
      "    Column 6: Train\n",
      "Train sizes in this step:\n",
      "    Column 3: 765\n",
      "    Column 4: 2190\n",
      "    Column 5: 914\n",
      "    Column 6: 1143\n",
      "Corrections applied in this step:\n",
      "    Column 3: 856 Real changes: 0\n",
      "    Column 4: 395 Real changes: 91\n",
      "    Column 5: 1008 Real changes: 0\n",
      "    Column 6: 670 Real changes: 90\n",
      "60% (3000 / 4988) of data errors are corrected.\n",
      "The error corrector models are updated with new labeled tuple 134.\n",
      "498443 pairs of (a data error, a potential correction) are featurized.\n",
      "Prediction Method in this step:\n",
      "    Column 3: Train\n",
      "    Column 4: Train\n",
      "    Column 5: Train\n",
      "    Column 6: Train\n",
      "Train sizes in this step:\n",
      "    Column 3: 768\n",
      "    Column 4: 2207\n",
      "    Column 5: 921\n",
      "    Column 6: 1174\n",
      "Corrections applied in this step:\n",
      "    Column 3: 856 Real changes: 0\n",
      "    Column 4: 395 Real changes: 56\n",
      "    Column 5: 1008 Real changes: 0\n",
      "    Column 6: 695 Real changes: 53\n",
      "61% (3027 / 4988) of data errors are corrected.\n",
      "The error corrector models are updated with new labeled tuple 2271.\n",
      "507421 pairs of (a data error, a potential correction) are featurized.\n",
      "Prediction Method in this step:\n",
      "    Column 3: Train\n",
      "    Column 4: Train\n",
      "    Column 5: Train\n",
      "    Column 6: Train\n",
      "Train sizes in this step:\n",
      "    Column 3: 775\n",
      "    Column 4: 2239\n",
      "    Column 5: 927\n",
      "    Column 6: 1211\n",
      "Corrections applied in this step:\n",
      "    Column 3: 856 Real changes: 0\n",
      "    Column 4: 321 Real changes: 69\n",
      "    Column 5: 1008 Real changes: 0\n",
      "    Column 6: 739 Real changes: 77\n",
      "62% (3075 / 4988) of data errors are corrected.\n",
      "The error corrector models are updated with new labeled tuple 1623.\n",
      "510312 pairs of (a data error, a potential correction) are featurized.\n",
      "Prediction Method in this step:\n",
      "    Column 3: Train\n",
      "    Column 4: Train\n",
      "    Column 5: Train\n",
      "    Column 6: Train\n",
      "Train sizes in this step:\n",
      "    Column 3: 775\n",
      "    Column 4: 2254\n",
      "    Column 5: 927\n",
      "    Column 6: 1227\n",
      "Corrections applied in this step:\n",
      "    Column 3: 856 Real changes: 0\n",
      "    Column 4: 265 Real changes: 16\n",
      "    Column 5: 1008 Real changes: 0\n",
      "    Column 6: 766 Real changes: 43\n",
      "62% (3098 / 4988) of data errors are corrected.\n",
      "The error corrector models are updated with new labeled tuple 866.\n",
      "514866 pairs of (a data error, a potential correction) are featurized.\n",
      "Prediction Method in this step:\n",
      "    Column 3: Train\n",
      "    Column 4: Train\n",
      "    Column 5: Train\n",
      "    Column 6: Train\n",
      "Train sizes in this step:\n",
      "    Column 3: 781\n",
      "    Column 4: 2260\n",
      "    Column 5: 933\n",
      "    Column 6: 1238\n",
      "Corrections applied in this step:\n",
      "    Column 3: 856 Real changes: 0\n",
      "    Column 4: 343 Real changes: 92\n",
      "    Column 5: 1008 Real changes: 0\n",
      "    Column 6: 778 Real changes: 31\n",
      "63% (3124 / 4988) of data errors are corrected.\n",
      "The error corrector models are updated with new labeled tuple 1391.\n",
      "517225 pairs of (a data error, a potential correction) are featurized.\n",
      "Prediction Method in this step:\n",
      "    Column 3: Train\n",
      "    Column 4: Train\n",
      "    Column 5: Train\n",
      "    Column 6: Train\n",
      "Train sizes in this step:\n",
      "    Column 3: 791\n",
      "    Column 4: 2265\n",
      "    Column 5: 938\n",
      "    Column 6: 1257\n",
      "Corrections applied in this step:\n",
      "    Column 3: 856 Real changes: 0\n",
      "    Column 4: 200 Real changes: 22\n",
      "    Column 5: 1008 Real changes: 0\n",
      "    Column 6: 800 Real changes: 51\n",
      "63% (3144 / 4988) of data errors are corrected.\n",
      "The error corrector models are updated with new labeled tuple 23.\n",
      "517225 pairs of (a data error, a potential correction) are featurized.\n",
      "Prediction Method in this step:\n",
      "    Column 3: Train\n",
      "    Column 4: Train\n",
      "    Column 5: Train\n",
      "    Column 6: Train\n",
      "Train sizes in this step:\n",
      "    Column 3: 791\n",
      "    Column 4: 2265\n",
      "    Column 5: 938\n",
      "    Column 6: 1257\n",
      "Corrections applied in this step:\n",
      "    Column 3: 856 Real changes: 0\n",
      "    Column 4: 200 Real changes: 6\n",
      "    Column 5: 1008 Real changes: 0\n",
      "    Column 6: 800 Real changes: 22\n",
      "63% (3144 / 4988) of data errors are corrected.\n",
      "The error corrector models are updated with new labeled tuple 1651.\n",
      "521112 pairs of (a data error, a potential correction) are featurized.\n",
      "Prediction Method in this step:\n",
      "    Column 3: Train\n",
      "    Column 4: Train\n",
      "    Column 5: Train\n",
      "    Column 6: Train\n",
      "Train sizes in this step:\n",
      "    Column 3: 797\n",
      "    Column 4: 2280\n",
      "    Column 5: 946\n",
      "    Column 6: 1261\n",
      "Corrections applied in this step:\n",
      "    Column 3: 856 Real changes: 0\n",
      "    Column 4: 206 Real changes: 12\n",
      "    Column 5: 1008 Real changes: 0\n",
      "    Column 6: 800 Real changes: 33\n",
      "63% (3161 / 4988) of data errors are corrected.\n",
      "The error corrector models are updated with new labeled tuple 714.\n",
      "525302 pairs of (a data error, a potential correction) are featurized.\n",
      "Prediction Method in this step:\n",
      "    Column 3: Train\n",
      "    Column 4: Train\n",
      "    Column 5: Train\n",
      "    Column 6: Train\n",
      "Train sizes in this step:\n",
      "    Column 3: 798\n",
      "    Column 4: 2286\n",
      "    Column 5: 951\n",
      "    Column 6: 1283\n",
      "Corrections applied in this step:\n",
      "    Column 3: 856 Real changes: 0\n",
      "    Column 4: 205 Real changes: 4\n",
      "    Column 5: 1008 Real changes: 0\n",
      "    Column 6: 836 Real changes: 56\n",
      "64% (3182 / 4988) of data errors are corrected.\n",
      "The error corrector models are updated with new labeled tuple 1920.\n",
      "528283 pairs of (a data error, a potential correction) are featurized.\n",
      "Prediction Method in this step:\n",
      "    Column 3: Train\n",
      "    Column 4: Train\n",
      "    Column 5: Train\n",
      "    Column 6: Train\n",
      "Train sizes in this step:\n",
      "    Column 3: 798\n",
      "    Column 4: 2302\n",
      "    Column 5: 951\n",
      "    Column 6: 1301\n",
      "Corrections applied in this step:\n",
      "    Column 3: 856 Real changes: 0\n",
      "    Column 4: 239 Real changes: 20\n",
      "    Column 5: 1008 Real changes: 0\n",
      "    Column 6: 840 Real changes: 65\n",
      "65% (3218 / 4988) of data errors are corrected.\n",
      "The error corrector models are updated with new labeled tuple 1054.\n",
      "528310 pairs of (a data error, a potential correction) are featurized.\n",
      "Prediction Method in this step:\n",
      "    Column 3: Train\n",
      "    Column 4: Train\n",
      "    Column 5: Train\n",
      "    Column 6: Train\n",
      "Train sizes in this step:\n",
      "    Column 3: 798\n",
      "    Column 4: 2303\n",
      "    Column 5: 951\n",
      "    Column 6: 1302\n",
      "Corrections applied in this step:\n",
      "    Column 3: 856 Real changes: 0\n",
      "    Column 4: 187 Real changes: 14\n",
      "    Column 5: 1008 Real changes: 0\n",
      "    Column 6: 821 Real changes: 38\n",
      "65% (3230 / 4988) of data errors are corrected.\n",
      "The error corrector models are updated with new labeled tuple 1145.\n",
      "533377 pairs of (a data error, a potential correction) are featurized.\n",
      "Prediction Method in this step:\n",
      "    Column 3: Train\n",
      "    Column 4: Train\n",
      "    Column 5: Train\n",
      "    Column 6: Train\n",
      "Train sizes in this step:\n",
      "    Column 3: 804\n",
      "    Column 4: 2311\n",
      "    Column 5: 958\n",
      "    Column 6: 1313\n",
      "Corrections applied in this step:\n",
      "    Column 3: 856 Real changes: 0\n",
      "    Column 4: 214 Real changes: 24\n",
      "    Column 5: 1008 Real changes: 0\n",
      "    Column 6: 799 Real changes: 36\n",
      "65% (3246 / 4988) of data errors are corrected.\n",
      "The error corrector models are updated with new labeled tuple 1439.\n",
      "533377 pairs of (a data error, a potential correction) are featurized.\n",
      "Prediction Method in this step:\n",
      "    Column 3: Train\n",
      "    Column 4: Train\n",
      "    Column 5: Train\n",
      "    Column 6: Train\n",
      "Train sizes in this step:\n",
      "    Column 3: 804\n",
      "    Column 4: 2311\n",
      "    Column 5: 958\n",
      "    Column 6: 1313\n",
      "Corrections applied in this step:\n",
      "    Column 3: 856 Real changes: 0\n",
      "    Column 4: 214 Real changes: 0\n",
      "    Column 5: 1008 Real changes: 0\n",
      "    Column 6: 799 Real changes: 36\n",
      "65% (3246 / 4988) of data errors are corrected.\n",
      "The error corrector models are updated with new labeled tuple 1469.\n",
      "533377 pairs of (a data error, a potential correction) are featurized.\n",
      "Prediction Method in this step:\n",
      "    Column 3: Train\n",
      "    Column 4: Train\n",
      "    Column 5: Train\n",
      "    Column 6: Train\n",
      "Train sizes in this step:\n",
      "    Column 3: 804\n",
      "    Column 4: 2311\n",
      "    Column 5: 958\n",
      "    Column 6: 1313\n",
      "Corrections applied in this step:\n",
      "    Column 3: 856 Real changes: 0\n",
      "    Column 4: 214 Real changes: 0\n",
      "    Column 5: 1008 Real changes: 0\n",
      "    Column 6: 799 Real changes: 36\n",
      "65% (3246 / 4988) of data errors are corrected.\n",
      "The error corrector models are updated with new labeled tuple 1626.\n",
      "540395 pairs of (a data error, a potential correction) are featurized.\n",
      "Prediction Method in this step:\n",
      "    Column 3: Train\n",
      "    Column 4: Train\n",
      "    Column 5: Train\n",
      "    Column 6: Train\n",
      "Train sizes in this step:\n",
      "    Column 3: 810\n",
      "    Column 4: 2337\n",
      "    Column 5: 960\n",
      "    Column 6: 1332\n",
      "Corrections applied in this step:\n",
      "    Column 3: 856 Real changes: 0\n",
      "    Column 4: 291 Real changes: 58\n",
      "    Column 5: 1008 Real changes: 0\n",
      "    Column 6: 822 Real changes: 59\n",
      "67% (3325 / 4988) of data errors are corrected.\n",
      "The error corrector models are updated with new labeled tuple 129.\n",
      "544261 pairs of (a data error, a potential correction) are featurized.\n",
      "Prediction Method in this step:\n",
      "    Column 3: Train\n",
      "    Column 4: Train\n",
      "    Column 5: Train\n",
      "    Column 6: Train\n",
      "Train sizes in this step:\n",
      "    Column 3: 822\n",
      "    Column 4: 2341\n",
      "    Column 5: 968\n",
      "    Column 6: 1336\n",
      "Corrections applied in this step:\n",
      "    Column 3: 856 Real changes: 0\n",
      "    Column 4: 343 Real changes: 106\n",
      "    Column 5: 1008 Real changes: 0\n",
      "    Column 6: 504 Real changes: 11\n",
      "68% (3379 / 4988) of data errors are corrected.\n",
      "The error corrector models are updated with new labeled tuple 665.\n",
      "548724 pairs of (a data error, a potential correction) are featurized.\n",
      "Prediction Method in this step:\n",
      "    Column 3: Train\n",
      "    Column 4: Train\n",
      "    Column 5: Train\n",
      "    Column 6: Train\n",
      "Train sizes in this step:\n",
      "    Column 3: 825\n",
      "    Column 4: 2356\n",
      "    Column 5: 974\n",
      "    Column 6: 1354\n",
      "Corrections applied in this step:\n",
      "    Column 3: 856 Real changes: 0\n",
      "    Column 4: 126 Real changes: 9\n",
      "    Column 5: 1008 Real changes: 0\n",
      "    Column 6: 378 Real changes: 53\n",
      "68% (3380 / 4988) of data errors are corrected.\n",
      "The error corrector models are updated with new labeled tuple 806.\n",
      "552204 pairs of (a data error, a potential correction) are featurized.\n",
      "Prediction Method in this step:\n",
      "    Column 3: Train\n",
      "    Column 4: Train\n",
      "    Column 5: Train\n",
      "    Column 6: Train\n",
      "Train sizes in this step:\n",
      "    Column 3: 831\n",
      "    Column 4: 2360\n",
      "    Column 5: 986\n",
      "    Column 6: 1366\n",
      "Corrections applied in this step:\n",
      "    Column 3: 856 Real changes: 0\n",
      "    Column 4: 0 Real changes: 0\n",
      "    Column 5: 1008 Real changes: 0\n",
      "    Column 6: 0 Real changes: 0\n",
      "68% (3380 / 4988) of data errors are corrected.\n",
      "The error corrector models are updated with new labeled tuple 1338.\n",
      "553718 pairs of (a data error, a potential correction) are featurized.\n",
      "Prediction Method in this step:\n",
      "    Column 3: Train\n",
      "    Column 4: Train\n",
      "    Column 5: Train\n",
      "    Column 6: Train\n",
      "Train sizes in this step:\n",
      "    Column 3: 831\n",
      "    Column 4: 2377\n",
      "    Column 5: 987\n",
      "    Column 6: 1367\n",
      "Corrections applied in this step:\n",
      "    Column 3: 0 Real changes: 0\n",
      "    Column 4: 0 Real changes: 0\n",
      "    Column 5: 1008 Real changes: 0\n",
      "    Column 6: 0 Real changes: 0\n",
      "68% (3380 / 4988) of data errors are corrected.\n"
     ]
    }
   ],
   "source": [
    "app_2.initialize_models(d)\n",
    "app_2.initialize_dataset(d)\n",
    "for si in d.labeled_tuples:\n",
    "    d.sampled_tuple = si\n",
    "    app_2.update_models(d)\n",
    "    app_2.generate_features(d)\n",
    "    app_2.predict_corrections(d)"
   ]
  },
  {
   "cell_type": "markdown",
   "metadata": {},
   "source": [
    "## 7. Storing Results\n",
    "Both Raha and Baran can also store the error detection/correction results."
   ]
  },
  {
   "cell_type": "code",
   "execution_count": 9,
   "metadata": {},
   "outputs": [
    {
     "name": "stdout",
     "output_type": "stream",
     "text": [
      "The results are stored in datasets/flights/raha-baran-results-flights/error-detection/detection.dataset.\n",
      "The results are stored in datasets/flights/raha-baran-results-flights/error-correction/correction.dataset.\n"
     ]
    }
   ],
   "source": [
    "app_1.store_results(d)\n",
    "app_2.store_results(d)"
   ]
  },
  {
   "cell_type": "markdown",
   "metadata": {},
   "source": [
    "## 8. Evaluating the Data Cleaning Task\n",
    "We can finally evaluate our data cleaning task."
   ]
  },
  {
   "cell_type": "code",
   "execution_count": 10,
   "metadata": {
    "scrolled": true
   },
   "outputs": [
    {
     "name": "stderr",
     "output_type": "stream",
     "text": [
      "/home/adrian/source/MA/raha/raha/dataset.py:123: FutureWarning: elementwise comparison failed; returning scalar instead, but in the future will perform elementwise comparison\n",
      "  if correction_dictionary[cell] == actual_errors[cell]:\n"
     ]
    },
    {
     "data": {
      "text/plain": "                       Task Precision Recall F1 Score\n0    Error Detection (Raha)      0.82   0.83     0.83\n1  Error Correction (Baran)      0.81   0.56     0.66",
      "text/html": "<div>\n<style scoped>\n    .dataframe tbody tr th:only-of-type {\n        vertical-align: middle;\n    }\n\n    .dataframe tbody tr th {\n        vertical-align: top;\n    }\n\n    .dataframe thead th {\n        text-align: right;\n    }\n</style>\n<table border=\"1\" class=\"dataframe\">\n  <thead>\n    <tr style=\"text-align: right;\">\n      <th></th>\n      <th>Task</th>\n      <th>Precision</th>\n      <th>Recall</th>\n      <th>F1 Score</th>\n    </tr>\n  </thead>\n  <tbody>\n    <tr>\n      <th>0</th>\n      <td>Error Detection (Raha)</td>\n      <td>0.82</td>\n      <td>0.83</td>\n      <td>0.83</td>\n    </tr>\n    <tr>\n      <th>1</th>\n      <td>Error Correction (Baran)</td>\n      <td>0.81</td>\n      <td>0.56</td>\n      <td>0.66</td>\n    </tr>\n  </tbody>\n</table>\n</div>"
     },
     "execution_count": 10,
     "metadata": {},
     "output_type": "execute_result"
    }
   ],
   "source": [
    "edp, edr, edf = d.get_data_cleaning_evaluation(d.detected_cells)[:3]\n",
    "ecp, ecr, ecf = d.get_data_cleaning_evaluation(d.corrected_cells)[-3:]\n",
    "\n",
    "evaluation_df = pandas.DataFrame(columns=[\"Task\", \"Precision\", \"Recall\", \"F1 Score\"])\n",
    "evaluation_df = evaluation_df.append({\"Task\": \"Error Detection (Raha)\", \"Precision\": \"{:.2f}\".format(edp), \n",
    "                                      \"Recall\": \"{:.2f}\".format(edr), \"F1 Score\": \"{:.2f}\".format(edf)}, ignore_index=True)\n",
    "evaluation_df = evaluation_df.append({\"Task\": \"Error Correction (Baran)\", \"Precision\": \"{:.2f}\".format(ecp), \n",
    "                                      \"Recall\": \"{:.2f}\".format(ecr), \"F1 Score\": \"{:.2f}\".format(ecf)}, ignore_index=True)\n",
    "evaluation_df.head()"
   ]
  },
  {
   "cell_type": "code",
   "execution_count": 121,
   "metadata": {},
   "outputs": [],
   "source": [
    "import importlib\n",
    "importlib.reload(analysis_utilities)\n",
    "import matplotlib.pyplot as plt\n",
    "plt.style.use('seaborn')\n",
    "plt.ion()"
   ]
  },
  {
   "cell_type": "code",
   "execution_count": 122,
   "metadata": {
    "pycharm": {
     "name": "#%%\n"
    }
   },
   "outputs": [],
   "source": [
    "actual_errors = d.get_actual_errors_dictionary()"
   ]
  },
  {
   "cell_type": "code",
   "execution_count": 130,
   "metadata": {
    "pycharm": {
     "name": "#%%\n"
    }
   },
   "outputs": [],
   "source": [
    "f = analysis_utilities.detection_evaluation(d, actual_errors)\n",
    "f.savefig(\"detection.svg\")"
   ]
  },
  {
   "cell_type": "code",
   "execution_count": 124,
   "metadata": {
    "pycharm": {
     "name": "#%%\n"
    }
   },
   "outputs": [],
   "source": [
    "correction_confidence_df = analysis_utilities.get_correction_confidence_df(d, actual_errors)"
   ]
  },
  {
   "cell_type": "code",
   "execution_count": 125,
   "metadata": {
    "pycharm": {
     "name": "#%%\n"
    }
   },
   "outputs": [
    {
     "data": {
      "text/plain": "3380"
     },
     "execution_count": 125,
     "metadata": {},
     "output_type": "execute_result"
    }
   ],
   "source": [
    "correction_confidence_df.shape[0]"
   ]
  },
  {
   "cell_type": "code",
   "execution_count": 126,
   "metadata": {
    "pycharm": {
     "name": "#%%\n"
    }
   },
   "outputs": [
    {
     "data": {
      "text/plain": "1138"
     },
     "execution_count": 126,
     "metadata": {},
     "output_type": "execute_result"
    }
   ],
   "source": [
    "(correction_confidence_df[\"confidence\"] < 0.98).sum()"
   ]
  },
  {
   "cell_type": "code",
   "execution_count": 131,
   "metadata": {
    "pycharm": {
     "name": "#%%\n"
    }
   },
   "outputs": [],
   "source": [
    "f = analysis_utilities.correction_confidence_distributions(correction_confidence_df)\n",
    "f.savefig(\"confidence_histogram.svg\")"
   ]
  },
  {
   "cell_type": "code",
   "execution_count": 132,
   "metadata": {
    "pycharm": {
     "name": "#%%\n"
    }
   },
   "outputs": [],
   "source": [
    "f = analysis_utilities.correction_correctness_by_confidence(correction_confidence_df, 10)\n",
    "f.savefig(\"confidence_probability.svg\")"
   ]
  },
  {
   "cell_type": "code",
   "execution_count": 129,
   "metadata": {
    "pycharm": {
     "name": "#%%\n"
    }
   },
   "outputs": [
    {
     "name": "stdout",
     "output_type": "stream",
     "text": [
      "Changed attributes: [(3, 'sched_dep_time'), (4, 'act_dep_time'), (5, 'sched_arr_time'), (6, 'act_arr_time')]\n",
      "Number of changed cells: 3380\n",
      "Number of changed tuples: 1717\n",
      "% of tuples changed: 72.26All changes:\n",
      "       row  column value_before value_after    type_before     type_after  \\\n",
      "0      134       3                7:55 a.m.  <class 'str'>  <class 'str'>   \n",
      "1      665       3   12:00 p.m.  12:00 a.m.  <class 'str'>  <class 'str'>   \n",
      "2      714       3                8:35 a.m.  <class 'str'>  <class 'str'>   \n",
      "3      806       3                6:45 a.m.  <class 'str'>  <class 'str'>   \n",
      "4      866       3                7:05 a.m.  <class 'str'>  <class 'str'>   \n",
      "...    ...     ...          ...         ...            ...            ...   \n",
      "3375   416       6               11:56 a.m.  <class 'str'>  <class 'str'>   \n",
      "3376  1302       6               11:56 a.m.  <class 'str'>  <class 'str'>   \n",
      "3377  1566       6               11:56 a.m.  <class 'str'>  <class 'str'>   \n",
      "3378  1752       6   11:56 a.m.  11:56 a.m.  <class 'str'>  <class 'str'>   \n",
      "3379  1396       4    8:30 p.m.   8:39 p.m.  <class 'str'>  <class 'str'>   \n",
      "\n",
      "     value_before_string value_after_string  \n",
      "0                                 7:55 a.m.  \n",
      "1             12:00 p.m.         12:00 a.m.  \n",
      "2                                 8:35 a.m.  \n",
      "3                                 6:45 a.m.  \n",
      "4                                 7:05 a.m.  \n",
      "...                  ...                ...  \n",
      "3375                             11:56 a.m.  \n",
      "3376                             11:56 a.m.  \n",
      "3377                             11:56 a.m.  \n",
      "3378          11:56 a.m.         11:56 a.m.  \n",
      "3379           8:30 p.m.          8:39 p.m.  \n",
      "\n",
      "[3380 rows x 8 columns]\n",
      "Type changes:\n",
      "      column    type_before     type_after\n",
      "0          3  <class 'str'>  <class 'str'>\n",
      "866        4  <class 'str'>  <class 'str'>\n",
      "1228       5  <class 'str'>  <class 'str'>\n",
      "2245       6  <class 'str'>  <class 'str'>\n",
      "Change frequency:\n",
      "value_before     value_after\n",
      "                 2:55 p.m.      0.013314\n",
      "                 6:00 a.m.      0.012130\n",
      "                 10:40 a.m.     0.009172\n",
      "                 2:48 p.m.      0.008284\n",
      "                 3:50 p.m.      0.007988\n",
      "                                  ...   \n",
      "11/30 5:25 p.m.  5:25 p.m.      0.000296\n",
      "11/30 5:15 p.m.  5:15 p.m.      0.000296\n",
      "7:49aDec 1       8:07 a.m.      0.000296\n",
      "11/30 4:16 p.m.  4:16 p.m.      0.000296\n",
      "Thu 7:45         7:45 a.m.      0.000296\n",
      "Length: 693, dtype: float64\n",
      "Distribution of changes over columns:\n",
      "column\n",
      "5         0.300888\n",
      "6         0.269822\n",
      "3         0.256213\n",
      "4         0.173077\n",
      "dtype: float64\n",
      "Not all changes are injective! look:\n",
      "column  value_after_string\n",
      "3       10:15 a.m.            False\n",
      "        10:25 a.m.            False\n",
      "        10:39 a.m.            False\n",
      "        10:40 a.m.            False\n",
      "        10:45 a.m.            False\n",
      "                              ...  \n",
      "6       8:03 p.m.             False\n",
      "        8:45 a.m.             False\n",
      "        8:53 p.m.             False\n",
      "        9:20 p.m.             False\n",
      "        9:53 p.m.             False\n",
      "Name: value_before_string, Length: 299, dtype: bool\n"
     ]
    }
   ],
   "source": [
    "print(analysis_utilities.result_analysis(d.dataframe, d.corrected_cells))"
   ]
  },
  {
   "cell_type": "code",
   "execution_count": 134,
   "outputs": [
    {
     "name": "stdout",
     "output_type": "stream",
     "text": [
      "Original Value: '8:30 p.m.'\n",
      "Label: 1\n",
      "Confidence: 0.9997257024930141\n",
      "Cell belongs to cluster (Column 4, Cluster 6)\n",
      "Total number of cells in this cluster: 9\n",
      "Cell was labeled by cluster label extension with label 1\n",
      "Other cells in the same cluster (sample of max 5 cells):\n",
      "(1789, 4): '2:04 p.m.' Features: [0. 0. 0. 1. 0. 0. 0. 0. 0. 0. 0. 0. 1. 1. 1. 0. 0. 0. 0. 0. 0. 0. 0. 0.\n",
      " 0. 0. 1. 1. 1. 1. 1. 1. 0. 0. 0. 1. 0. 0. 1. 0. 0. 0. 0. 1. 0. 0. 1. 1.\n",
      " 0. 0. 0. 0. 0. 1. 0. 0. 0. 0. 1. 0. 0. 0. 1. 0. 0. 0. 0. 0. 0. 1. 1.]\n",
      "(2081, 4): '2:04 p.m.' Features: [0. 0. 0. 1. 0. 0. 0. 0. 0. 0. 0. 0. 1. 1. 1. 0. 0. 0. 0. 0. 0. 0. 0. 0.\n",
      " 0. 0. 1. 1. 1. 1. 1. 1. 0. 0. 0. 1. 0. 0. 1. 0. 0. 0. 0. 1. 0. 0. 1. 1.\n",
      " 0. 0. 0. 0. 0. 1. 0. 0. 0. 0. 1. 0. 0. 0. 1. 0. 0. 0. 0. 0. 0. 1. 1.]\n",
      "(842, 4): '2:04 p.m.' Features: [0. 0. 0. 1. 0. 0. 0. 0. 0. 0. 0. 0. 1. 1. 1. 0. 0. 0. 0. 0. 0. 0. 0. 0.\n",
      " 0. 0. 1. 1. 1. 1. 1. 1. 0. 0. 0. 1. 0. 0. 1. 0. 0. 0. 0. 1. 0. 0. 1. 1.\n",
      " 0. 0. 0. 0. 0. 1. 0. 0. 0. 0. 1. 0. 0. 0. 1. 0. 0. 0. 0. 0. 0. 1. 1.]\n",
      "(610, 4): '8:39 p.m.' Features: [1. 0. 0. 1. 0. 0. 0. 0. 0. 0. 0. 0. 1. 1. 1. 0. 0. 0. 0. 1. 0. 0. 0. 0.\n",
      " 0. 0. 1. 1. 1. 0. 0. 1. 0. 0. 0. 1. 1. 1. 0. 0. 0. 0. 0. 1. 0. 0. 1. 1.\n",
      " 0. 0. 0. 0. 0. 1. 0. 0. 0. 0. 0. 0. 0. 1. 1. 0. 0. 0. 0. 0. 0. 0. 1.]\n",
      "(1473, 4): '8:39 p.m.' Features: [1. 0. 0. 1. 0. 0. 0. 0. 0. 0. 0. 0. 1. 1. 1. 0. 0. 0. 0. 1. 0. 0. 0. 0.\n",
      " 0. 0. 1. 1. 1. 0. 0. 1. 0. 0. 0. 1. 0. 1. 0. 0. 0. 0. 0. 1. 0. 0. 1. 1.\n",
      " 0. 0. 0. 0. 0. 1. 0. 0. 0. 0. 0. 0. 0. 0. 1. 0. 0. 0. 0. 0. 0. 0. 1.]\n",
      "Mean of all feature vectors in the cluster and feature vector of the current cell for comparison:\n",
      "[0.67 0.00 0.00 1.00 0.00 0.00 0.00 0.00 0.00 0.00 0.00 0.00 1.00 1.00 1.00 0.00 0.00 0.00 0.00 0.44 0.00 0.00 0.00 0.00 0.00 0.00 0.78 1.00 1.00 0.33 0.33 1.00 0.00 0.00 0.00 1.00 0.22 0.67 0.33 0.00 0.00 0.00 0.00 1.00 0.00 0.00 1.00 0.78 0.00 0.00 0.00 0.00 0.00 1.00 0.00 0.00 0.00 0.00 0.56 0.00 0.00 0.22 1.00 0.00 0.00 0.00 0.00 0.00 0.00 0.56 1.00]\n",
      "[1.00 0.00 0.00 1.00 0.00 0.00 0.00 0.00 0.00 0.00 0.00 0.00 1.00 1.00 1.00 0.00 0.00 0.00 0.00 0.00 0.00 0.00 0.00 0.00 0.00 0.00 0.00 1.00 1.00 0.00 0.00 1.00 0.00 0.00 0.00 1.00 1.00 1.00 0.00 0.00 0.00 0.00 0.00 1.00 0.00 0.00 1.00 0.00 0.00 0.00 0.00 0.00 0.00 1.00 0.00 0.00 0.00 0.00 1.00 0.00 0.00 1.00 1.00 0.00 0.00 0.00 0.00 0.00 0.00 1.00 1.00]\n",
      "This cluster was labeled because of the user labels of the following cells in its cluster: \n",
      "(1626, 4): '8:30 p.m.' Label: 1\n"
     ]
    }
   ],
   "source": [
    "analysis_utilities.explain_detection(d, (1396, 4))"
   ],
   "metadata": {
    "collapsed": false,
    "pycharm": {
     "name": "#%%\n"
    }
   }
  },
  {
   "cell_type": "code",
   "execution_count": 135,
   "outputs": [
    {
     "name": "stdout",
     "output_type": "stream",
     "text": [
      "Correction: 8:39 p.m.\n",
      "Correction confidence: 0.5531369592231153\n",
      "Alternative corrections and their confidence values: {'8:39 p.m.': 0.5531369592231153}\n"
     ]
    }
   ],
   "source": [
    "analysis_utilities.alternative_corrections_overview(d, (1396, 4))"
   ],
   "metadata": {
    "collapsed": false,
    "pycharm": {
     "name": "#%%\n"
    }
   }
  },
  {
   "cell_type": "code",
   "execution_count": 112,
   "metadata": {
    "pycharm": {
     "name": "#%%\n"
    }
   },
   "outputs": [],
   "source": [
    "import pandas_profiling"
   ]
  },
  {
   "cell_type": "code",
   "execution_count": 21,
   "metadata": {
    "pycharm": {
     "name": "#%%\n"
    }
   },
   "outputs": [
    {
     "ename": "SyntaxError",
     "evalue": "invalid syntax (<ipython-input-21-943c038fbb5f>, line 1)",
     "output_type": "error",
     "traceback": [
      "\u001B[0;36m  File \u001B[0;32m\"<ipython-input-21-943c038fbb5f>\"\u001B[0;36m, line \u001B[0;32m1\u001B[0m\n\u001B[0;31m    profile = pandas_profiling.ProfileReport(d.dataframe, title=\"Pandas Profiling Report\"explorative=True)\u001B[0m\n\u001B[0m                                                                                         ^\u001B[0m\n\u001B[0;31mSyntaxError\u001B[0m\u001B[0;31m:\u001B[0m invalid syntax\n"
     ]
    }
   ],
   "source": [
    "profile = pandas_profiling.ProfileReport(d.dataframe, title=\"Pandas Profiling Report\", explorative=True)"
   ]
  },
  {
   "cell_type": "code",
   "execution_count": null,
   "metadata": {
    "pycharm": {
     "name": "#%%\n"
    }
   },
   "outputs": [],
   "source": [
    "profile.to_widgets()"
   ]
  },
  {
   "cell_type": "code",
   "execution_count": null,
   "metadata": {
    "pycharm": {
     "name": "#%%\n"
    }
   },
   "outputs": [],
   "source": [
    "df = d.create_repaired_dataset(d.corrected_cells)\n",
    "df"
   ]
  },
  {
   "cell_type": "code",
   "execution_count": null,
   "metadata": {
    "pycharm": {
     "name": "#%%\n"
    }
   },
   "outputs": [],
   "source": [
    "profile2 = pandas_profiling.ProfileReport(d.repaired_dataframe, title=\"After Clean Report\", explorative=True)\n",
    "profile2.to_widgets()"
   ]
  },
  {
   "cell_type": "code",
   "execution_count": null,
   "metadata": {},
   "outputs": [],
   "source": []
  }
 ],
 "metadata": {
  "kernelspec": {
   "display_name": "Python 3",
   "language": "python",
   "name": "python3"
  },
  "language_info": {
   "codemirror_mode": {
    "name": "ipython",
    "version": 3
   },
   "file_extension": ".py",
   "mimetype": "text/x-python",
   "name": "python",
   "nbconvert_exporter": "python",
   "pygments_lexer": "ipython3",
   "version": "3.8.5"
  }
 },
 "nbformat": 4,
 "nbformat_minor": 4
}
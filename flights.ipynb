{
 "cells": [
  {
   "cell_type": "markdown",
   "metadata": {},
   "source": [
    "# End-to-End Data Cleaning Pipeline with Raha and Baran (Minimal and Integrated)\n",
    "We build an end-to-end data cleaning pipeline with our configuration-free error detection and correction systems, Raha and Baran."
   ]
  },
  {
   "cell_type": "code",
   "execution_count": 1,
   "metadata": {},
   "outputs": [],
   "source": [
    "import pandas\n",
    "import IPython.display\n",
    "import ipywidgets\n",
    "\n",
    "import raha"
   ]
  },
  {
   "cell_type": "markdown",
   "metadata": {},
   "source": [
    "## 1. Instantiating the Detection and Correction Classes\n",
    "We first instantiate the `Detection` and `Correction` classes."
   ]
  },
  {
   "cell_type": "code",
   "execution_count": 2,
   "metadata": {},
   "outputs": [],
   "source": [
    "from raha import analysis_utilities\n",
    "app_1 = raha.Detection()\n",
    "app_2 = raha.Correction()\n",
    "\n",
    "# How many tuples would you label?\n",
    "app_1.LABELING_BUDGET = 20\n",
    "app_2.LABELING_BUDGET = 0\n",
    "\n",
    "# Would you like to see the logs?\n",
    "app_1.VERBOSE = True\n",
    "app_2.VERBOSE = True"
   ]
  },
  {
   "cell_type": "markdown",
   "metadata": {},
   "source": [
    "## 2. Instantiating the Dataset\n",
    "We next load and instantiate the dataset object."
   ]
  },
  {
   "cell_type": "code",
   "execution_count": 3,
   "metadata": {},
   "outputs": [
    {
     "data": {
      "text/html": [
       "<div>\n",
       "<style scoped>\n",
       "    .dataframe tbody tr th:only-of-type {\n",
       "        vertical-align: middle;\n",
       "    }\n",
       "\n",
       "    .dataframe tbody tr th {\n",
       "        vertical-align: top;\n",
       "    }\n",
       "\n",
       "    .dataframe thead th {\n",
       "        text-align: right;\n",
       "    }\n",
       "</style>\n",
       "<table border=\"1\" class=\"dataframe\">\n",
       "  <thead>\n",
       "    <tr style=\"text-align: right;\">\n",
       "      <th></th>\n",
       "      <th>tuple_id</th>\n",
       "      <th>src</th>\n",
       "      <th>flight</th>\n",
       "      <th>sched_dep_time</th>\n",
       "      <th>act_dep_time</th>\n",
       "      <th>sched_arr_time</th>\n",
       "      <th>act_arr_time</th>\n",
       "    </tr>\n",
       "  </thead>\n",
       "  <tbody>\n",
       "    <tr>\n",
       "      <th>0</th>\n",
       "      <td>1</td>\n",
       "      <td>aa</td>\n",
       "      <td>AA-3859-IAH-ORD</td>\n",
       "      <td>7:10 a.m.</td>\n",
       "      <td>7:16 a.m.</td>\n",
       "      <td>9:40 a.m.</td>\n",
       "      <td>9:32 a.m.</td>\n",
       "    </tr>\n",
       "    <tr>\n",
       "      <th>1</th>\n",
       "      <td>2</td>\n",
       "      <td>aa</td>\n",
       "      <td>AA-1733-ORD-PHX</td>\n",
       "      <td>7:45 p.m.</td>\n",
       "      <td>7:58 p.m.</td>\n",
       "      <td>10:30 p.m.</td>\n",
       "      <td></td>\n",
       "    </tr>\n",
       "    <tr>\n",
       "      <th>2</th>\n",
       "      <td>3</td>\n",
       "      <td>aa</td>\n",
       "      <td>AA-1640-MIA-MCO</td>\n",
       "      <td>6:30 p.m.</td>\n",
       "      <td></td>\n",
       "      <td>7:25 p.m.</td>\n",
       "      <td></td>\n",
       "    </tr>\n",
       "    <tr>\n",
       "      <th>3</th>\n",
       "      <td>4</td>\n",
       "      <td>aa</td>\n",
       "      <td>AA-518-MIA-JFK</td>\n",
       "      <td>6:40 a.m.</td>\n",
       "      <td>6:54 a.m.</td>\n",
       "      <td>9:25 a.m.</td>\n",
       "      <td>9:28 a.m.</td>\n",
       "    </tr>\n",
       "    <tr>\n",
       "      <th>4</th>\n",
       "      <td>5</td>\n",
       "      <td>aa</td>\n",
       "      <td>AA-3756-ORD-SLC</td>\n",
       "      <td>12:15 p.m.</td>\n",
       "      <td>12:41 p.m.</td>\n",
       "      <td>2:45 p.m.</td>\n",
       "      <td>2:50 p.m.</td>\n",
       "    </tr>\n",
       "  </tbody>\n",
       "</table>\n",
       "</div>"
      ],
      "text/plain": [
       "  tuple_id src           flight sched_dep_time act_dep_time sched_arr_time  \\\n",
       "0        1  aa  AA-3859-IAH-ORD      7:10 a.m.    7:16 a.m.      9:40 a.m.   \n",
       "1        2  aa  AA-1733-ORD-PHX      7:45 p.m.    7:58 p.m.     10:30 p.m.   \n",
       "2        3  aa  AA-1640-MIA-MCO      6:30 p.m.                   7:25 p.m.   \n",
       "3        4  aa   AA-518-MIA-JFK      6:40 a.m.    6:54 a.m.      9:25 a.m.   \n",
       "4        5  aa  AA-3756-ORD-SLC     12:15 p.m.   12:41 p.m.      2:45 p.m.   \n",
       "\n",
       "  act_arr_time  \n",
       "0    9:32 a.m.  \n",
       "1               \n",
       "2               \n",
       "3    9:28 a.m.  \n",
       "4    2:50 p.m.  "
      ]
     },
     "execution_count": 3,
     "metadata": {},
     "output_type": "execute_result"
    }
   ],
   "source": [
    "dataset_dictionary = {\n",
    "        \"name\": \"flights\",\n",
    "        \"path\": \"datasets/flights/dirty.csv\",\n",
    "        \"clean_path\": \"datasets/flights/clean.csv\"\n",
    "    }\n",
    "d = app_1.initialize_dataset(dataset_dictionary)\n",
    "d.dataframe.head()"
   ]
  },
  {
   "cell_type": "markdown",
   "metadata": {},
   "source": [
    "## 3. Generating Features and Clusters\n",
    "Raha runs (all or the promising) error detection strategies on the dataset. This step could take a while because all the strategies should be run on the dataset. Raha then generates a feature vector for each data cell based on the output of error detection strategies. Raha next builds a hierarchical clustering model for our clustering-based sampling approach."
   ]
  },
  {
   "cell_type": "code",
   "execution_count": 4,
   "metadata": {},
   "outputs": [
    {
     "name": "stderr",
     "output_type": "stream",
     "text": [
      "I just load strategies' results as they have already been run on the dataset!\n"
     ]
    },
    {
     "name": "stdout",
     "output_type": "stream",
     "text": [
      "309 strategy profiles are collected.\n",
      "40 Features are generated for column 0.\n",
      "65 Features are generated for column 1.\n",
      "62 Features are generated for column 2.\n",
      "65 Features are generated for column 3.\n",
      "71 Features are generated for column 4.\n",
      "65 Features are generated for column 5.\n",
      "86 Features are generated for column 6.\n",
      "A hierarchical clustering model is built for column 0.\n",
      "A hierarchical clustering model is built for column 1.\n",
      "A hierarchical clustering model is built for column 2.\n",
      "A hierarchical clustering model is built for column 3.\n",
      "A hierarchical clustering model is built for column 4.\n",
      "A hierarchical clustering model is built for column 5.\n",
      "A hierarchical clustering model is built for column 6.\n"
     ]
    }
   ],
   "source": [
    "app_1.run_strategies(d)\n",
    "app_1.generate_features(d)\n",
    "app_1.build_clusters(d)"
   ]
  },
  {
   "cell_type": "markdown",
   "metadata": {},
   "source": [
    "## 4. Interactive Tuple Sampling and Labeling\n",
    "Raha then iteratively samples a tuple. We should label data cells of each sampled tuple."
   ]
  },
  {
   "cell_type": "code",
   "execution_count": 5,
   "metadata": {
    "scrolled": true
   },
   "outputs": [],
   "source": [
    "# def on_button_clicked(_):\n",
    "#     for j in range(0, len(texts)):\n",
    "#         cell = (d.sampled_tuple, j)\n",
    "#         error_label = 0\n",
    "#         correction = texts[j].value\n",
    "#         if d.dataframe.iloc[cell] != correction:\n",
    "#             error_label = 1\n",
    "#         d.labeled_cells[cell] = [error_label, correction]\n",
    "#     d.labeled_tuples[d.sampled_tuple] = 1\n",
    "#\n",
    "# app_1.sample_tuple(d)\n",
    "# print(\"Fix the dirty cells in the following sampled tuple.\")\n",
    "# sampled_tuple = pandas.DataFrame(data=[d.dataframe.iloc[d.sampled_tuple, :]], columns=d.dataframe.columns)\n",
    "# IPython.display.display(sampled_tuple)\n",
    "# texts = [ipywidgets.Text(value=d.dataframe.iloc[d.sampled_tuple, j]) for j in range(d.dataframe.shape[1])]\n",
    "# button = ipywidgets.Button(description=\"Save the Annotation\")\n",
    "# button.on_click(on_button_clicked)\n",
    "# output = ipywidgets.VBox(children=texts + [button])\n",
    "# IPython.display.display(output)"
   ]
  },
  {
   "cell_type": "markdown",
   "metadata": {},
   "source": [
    "For the sake of time, we use the ground truth of the dataset to label tuples below."
   ]
  },
  {
   "cell_type": "code",
   "execution_count": 6,
   "metadata": {
    "scrolled": true
   },
   "outputs": [],
   "source": [
    "%%capture\n",
    "while len(d.labeled_tuples) < app_1.LABELING_BUDGET:\n",
    "    app_1.sample_tuple(d)\n",
    "    if d.has_ground_truth:\n",
    "        app_1.label_with_ground_truth(d)"
   ]
  },
  {
   "cell_type": "markdown",
   "metadata": {},
   "source": [
    "## 5. Propagating User Labels and Predicting the Labels\n",
    "Raha then propagates each user label through its cluster. Raha then trains and applies one classifier per data column to predict the label of the rest of data cells."
   ]
  },
  {
   "cell_type": "code",
   "execution_count": 7,
   "metadata": {},
   "outputs": [
    {
     "name": "stdout",
     "output_type": "stream",
     "text": [
      "The number of labeled data cells increased from 140 to 13032.\n",
      "A classifier is trained and applied on column 0.\n",
      "A classifier is trained and applied on column 1.\n",
      "A classifier is trained and applied on column 2.\n",
      "A classifier is trained and applied on column 3.\n",
      "A classifier is trained and applied on column 4.\n",
      "A classifier is trained and applied on column 5.\n",
      "A classifier is trained and applied on column 6.\n"
     ]
    }
   ],
   "source": [
    "app_1.propagate_labels(d)\n",
    "app_1.predict_labels(d)"
   ]
  },
  {
   "cell_type": "markdown",
   "metadata": {},
   "source": [
    "## 6. Initializing and Updating the Error Corrector Models\n",
    "Baran initializes the error corrector models. Baran then iteratively samples a tuple. We should label data cells of each sampled tuple. It then udpates the models accordingly and generates a feature vector for each pair of a data error and a correction candidate. Finally, it trains and applies a classifier to each data column to predict the final correction of each data error. Since we already labeled tuples for Raha, we use the same labeled tuples and do not label new tuples here."
   ]
  },
  {
   "cell_type": "code",
   "execution_count": 8,
   "metadata": {},
   "outputs": [
    {
     "name": "stdout",
     "output_type": "stream",
     "text": [
      "The error corrector models are initialized.\n",
      "The error corrector models are updated with new labeled tuple 385.\n",
      "472729 pairs of (a data error, a potential correction) are featurized.\n",
      "Prediction Method in this step:\n",
      "    Column 3: Train\n",
      "    Column 4: Train\n",
      "    Column 5: Train\n",
      "    Column 6: Train\n",
      "Train sizes in this step:\n",
      "    Column 3: 768\n",
      "    Column 4: 872\n",
      "    Column 5: 1719\n",
      "    Column 6: 2288\n",
      "Corrections applied in this step:\n",
      "    Column 3: 876 Real changes: 876\n",
      "    Column 4: 698 Real changes: 698\n",
      "    Column 5: 907 Real changes: 907\n",
      "    Column 6: 689 Real changes: 689\n",
      "70% (3167 / 4550) of data errors are corrected.\n",
      "The error corrector models are updated with new labeled tuple 2166.\n",
      "478042 pairs of (a data error, a potential correction) are featurized.\n",
      "Prediction Method in this step:\n",
      "    Column 3: Train\n",
      "    Column 4: Train\n",
      "    Column 5: Train\n",
      "    Column 6: Train\n",
      "Train sizes in this step:\n",
      "    Column 3: 774\n",
      "    Column 4: 891\n",
      "    Column 5: 1726\n",
      "    Column 6: 2310\n",
      "Corrections applied in this step:\n",
      "    Column 3: 876 Real changes: 0\n",
      "    Column 4: 695 Real changes: 14\n",
      "    Column 5: 907 Real changes: 0\n",
      "    Column 6: 689 Real changes: 92\n",
      "70% (3167 / 4550) of data errors are corrected.\n",
      "The error corrector models are updated with new labeled tuple 1615.\n",
      "478782 pairs of (a data error, a potential correction) are featurized.\n",
      "Prediction Method in this step:\n",
      "    Column 3: Train\n",
      "    Column 4: Train\n",
      "    Column 5: Train\n",
      "    Column 6: Train\n",
      "Train sizes in this step:\n",
      "    Column 3: 776\n",
      "    Column 4: 893\n",
      "    Column 5: 1729\n",
      "    Column 6: 2313\n",
      "Corrections applied in this step:\n",
      "    Column 3: 876 Real changes: 0\n",
      "    Column 4: 695 Real changes: 14\n",
      "    Column 5: 907 Real changes: 0\n",
      "    Column 6: 661 Real changes: 108\n",
      "70% (3176 / 4550) of data errors are corrected.\n",
      "The error corrector models are updated with new labeled tuple 534.\n",
      "480029 pairs of (a data error, a potential correction) are featurized.\n",
      "Prediction Method in this step:\n",
      "    Column 3: Train\n",
      "    Column 4: Train\n",
      "    Column 5: Train\n",
      "    Column 6: Train\n",
      "Train sizes in this step:\n",
      "    Column 3: 776\n",
      "    Column 4: 896\n",
      "    Column 5: 1729\n",
      "    Column 6: 2319\n",
      "Corrections applied in this step:\n",
      "    Column 3: 876 Real changes: 0\n",
      "    Column 4: 688 Real changes: 0\n",
      "    Column 5: 907 Real changes: 0\n",
      "    Column 6: 664 Real changes: 89\n",
      "70% (3176 / 4550) of data errors are corrected.\n",
      "The error corrector models are updated with new labeled tuple 315.\n",
      "483111 pairs of (a data error, a potential correction) are featurized.\n",
      "Prediction Method in this step:\n",
      "    Column 3: Train\n",
      "    Column 4: Train\n",
      "    Column 5: Train\n",
      "    Column 6: Train\n",
      "Train sizes in this step:\n",
      "    Column 3: 782\n",
      "    Column 4: 901\n",
      "    Column 5: 1743\n",
      "    Column 6: 2324\n",
      "Corrections applied in this step:\n",
      "    Column 3: 876 Real changes: 0\n",
      "    Column 4: 688 Real changes: 0\n",
      "    Column 5: 907 Real changes: 0\n",
      "    Column 6: 687 Real changes: 120\n",
      "70% (3176 / 4550) of data errors are corrected.\n",
      "The error corrector models are updated with new labeled tuple 2362.\n",
      "485920 pairs of (a data error, a potential correction) are featurized.\n",
      "Prediction Method in this step:\n",
      "    Column 3: Train\n",
      "    Column 4: Train\n",
      "    Column 5: Train\n",
      "    Column 6: Train\n",
      "Train sizes in this step:\n",
      "    Column 3: 782\n",
      "    Column 4: 922\n",
      "    Column 5: 1743\n",
      "    Column 6: 2340\n",
      "Corrections applied in this step:\n",
      "    Column 3: 876 Real changes: 0\n",
      "    Column 4: 709 Real changes: 21\n",
      "    Column 5: 907 Real changes: 0\n",
      "    Column 6: 715 Real changes: 138\n",
      "71% (3218 / 4550) of data errors are corrected.\n",
      "The error corrector models are updated with new labeled tuple 184.\n",
      "492932 pairs of (a data error, a potential correction) are featurized.\n",
      "Prediction Method in this step:\n",
      "    Column 3: Train\n",
      "    Column 4: Train\n",
      "    Column 5: Train\n",
      "    Column 6: Train\n",
      "Train sizes in this step:\n",
      "    Column 3: 788\n",
      "    Column 4: 971\n",
      "    Column 5: 1743\n",
      "    Column 6: 2350\n",
      "Corrections applied in this step:\n",
      "    Column 3: 876 Real changes: 0\n",
      "    Column 4: 731 Real changes: 22\n",
      "    Column 5: 907 Real changes: 0\n",
      "    Column 6: 670 Real changes: 117\n",
      "71% (3240 / 4550) of data errors are corrected.\n",
      "The error corrector models are updated with new labeled tuple 2374.\n",
      "492932 pairs of (a data error, a potential correction) are featurized.\n",
      "Prediction Method in this step:\n",
      "    Column 3: Train\n",
      "    Column 4: Train\n",
      "    Column 5: Train\n",
      "    Column 6: Train\n",
      "Train sizes in this step:\n",
      "    Column 3: 788\n",
      "    Column 4: 971\n",
      "    Column 5: 1743\n",
      "    Column 6: 2350\n",
      "Corrections applied in this step:\n",
      "    Column 3: 876 Real changes: 0\n",
      "    Column 4: 731 Real changes: 0\n",
      "    Column 5: 907 Real changes: 0\n",
      "    Column 6: 670 Real changes: 110\n",
      "71% (3240 / 4550) of data errors are corrected.\n",
      "The error corrector models are updated with new labeled tuple 1243.\n",
      "498819 pairs of (a data error, a potential correction) are featurized.\n",
      "Prediction Method in this step:\n",
      "    Column 3: Train\n",
      "    Column 4: Train\n",
      "    Column 5: Train\n",
      "    Column 6: Train\n",
      "Train sizes in this step:\n",
      "    Column 3: 794\n",
      "    Column 4: 1010\n",
      "    Column 5: 1743\n",
      "    Column 6: 2360\n",
      "Corrections applied in this step:\n",
      "    Column 3: 876 Real changes: 0\n",
      "    Column 4: 749 Real changes: 18\n",
      "    Column 5: 907 Real changes: 0\n",
      "    Column 6: 641 Real changes: 104\n",
      "72% (3258 / 4550) of data errors are corrected.\n",
      "The error corrector models are updated with new labeled tuple 2239.\n",
      "502926 pairs of (a data error, a potential correction) are featurized.\n",
      "Prediction Method in this step:\n",
      "    Column 3: Train\n",
      "    Column 4: Train\n",
      "    Column 5: Train\n",
      "    Column 6: Train\n",
      "Train sizes in this step:\n",
      "    Column 3: 794\n",
      "    Column 4: 1036\n",
      "    Column 5: 1743\n",
      "    Column 6: 2370\n",
      "Corrections applied in this step:\n",
      "    Column 3: 876 Real changes: 0\n",
      "    Column 4: 749 Real changes: 0\n",
      "    Column 5: 907 Real changes: 0\n",
      "    Column 6: 359 Real changes: 85\n",
      "72% (3258 / 4550) of data errors are corrected.\n",
      "The error corrector models are updated with new labeled tuple 1287.\n",
      "509053 pairs of (a data error, a potential correction) are featurized.\n",
      "Prediction Method in this step:\n",
      "    Column 3: Train\n",
      "    Column 4: Train\n",
      "    Column 5: Train\n",
      "    Column 6: Train\n",
      "Train sizes in this step:\n",
      "    Column 3: 800\n",
      "    Column 4: 1063\n",
      "    Column 5: 1743\n",
      "    Column 6: 2394\n",
      "Corrections applied in this step:\n",
      "    Column 3: 876 Real changes: 0\n",
      "    Column 4: 781 Real changes: 39\n",
      "    Column 5: 907 Real changes: 0\n",
      "    Column 6: 450 Real changes: 63\n",
      "73% (3306 / 4550) of data errors are corrected.\n",
      "The error corrector models are updated with new labeled tuple 1025.\n",
      "510912 pairs of (a data error, a potential correction) are featurized.\n",
      "Prediction Method in this step:\n",
      "    Column 3: Train\n",
      "    Column 4: Train\n",
      "    Column 5: Train\n",
      "    Column 6: Train\n",
      "Train sizes in this step:\n",
      "    Column 3: 800\n",
      "    Column 4: 1080\n",
      "    Column 5: 1743\n",
      "    Column 6: 2396\n",
      "Corrections applied in this step:\n",
      "    Column 3: 876 Real changes: 0\n",
      "    Column 4: 806 Real changes: 39\n",
      "    Column 5: 907 Real changes: 0\n",
      "    Column 6: 380 Real changes: 34\n",
      "73% (3331 / 4550) of data errors are corrected.\n",
      "The error corrector models are updated with new labeled tuple 1170.\n",
      "514778 pairs of (a data error, a potential correction) are featurized.\n",
      "Prediction Method in this step:\n",
      "    Column 3: Train\n",
      "    Column 4: Train\n",
      "    Column 5: Train\n",
      "    Column 6: Train\n",
      "Train sizes in this step:\n",
      "    Column 3: 812\n",
      "    Column 4: 1085\n",
      "    Column 5: 1757\n",
      "    Column 6: 2401\n",
      "Corrections applied in this step:\n",
      "    Column 3: 876 Real changes: 0\n",
      "    Column 4: 7 Real changes: 7\n",
      "    Column 5: 907 Real changes: 0\n",
      "    Column 6: 111 Real changes: 0\n",
      "73% (3331 / 4550) of data errors are corrected.\n",
      "The error corrector models are updated with new labeled tuple 1643.\n",
      "518759 pairs of (a data error, a potential correction) are featurized.\n",
      "Prediction Method in this step:\n",
      "    Column 3: Train\n",
      "    Column 4: Train\n",
      "    Column 5: Train\n",
      "    Column 6: Train\n",
      "Train sizes in this step:\n",
      "    Column 3: 819\n",
      "    Column 4: 1090\n",
      "    Column 5: 1772\n",
      "    Column 6: 2419\n",
      "Corrections applied in this step:\n",
      "    Column 3: 876 Real changes: 0\n",
      "    Column 4: 820 Real changes: 28\n",
      "    Column 5: 907 Real changes: 0\n",
      "    Column 6: 497 Real changes: 66\n",
      "75% (3396 / 4550) of data errors are corrected.\n",
      "The error corrector models are updated with new labeled tuple 1628.\n",
      "522030 pairs of (a data error, a potential correction) are featurized.\n",
      "Prediction Method in this step:\n",
      "    Column 3: Train\n",
      "    Column 4: Train\n",
      "    Column 5: Train\n",
      "    Column 6: Train\n",
      "Train sizes in this step:\n",
      "    Column 3: 823\n",
      "    Column 4: 1112\n",
      "    Column 5: 1776\n",
      "    Column 6: 2425\n",
      "Corrections applied in this step:\n",
      "    Column 3: 876 Real changes: 0\n",
      "    Column 4: 839 Real changes: 19\n",
      "    Column 5: 907 Real changes: 0\n",
      "    Column 6: 497 Real changes: 0\n",
      "75% (3415 / 4550) of data errors are corrected.\n",
      "The error corrector models are updated with new labeled tuple 1927.\n",
      "522030 pairs of (a data error, a potential correction) are featurized.\n",
      "Prediction Method in this step:\n",
      "    Column 3: Train\n",
      "    Column 4: Train\n",
      "    Column 5: Train\n",
      "    Column 6: Train\n",
      "Train sizes in this step:\n",
      "    Column 3: 823\n",
      "    Column 4: 1112\n",
      "    Column 5: 1776\n",
      "    Column 6: 2425\n",
      "Corrections applied in this step:\n",
      "    Column 3: 876 Real changes: 0\n",
      "    Column 4: 839 Real changes: 0\n",
      "    Column 5: 907 Real changes: 0\n",
      "    Column 6: 497 Real changes: 0\n",
      "75% (3415 / 4550) of data errors are corrected.\n",
      "The error corrector models are updated with new labeled tuple 1177.\n",
      "522030 pairs of (a data error, a potential correction) are featurized.\n",
      "Prediction Method in this step:\n",
      "    Column 3: Train\n",
      "    Column 4: Train\n",
      "    Column 5: Train\n",
      "    Column 6: Train\n",
      "Train sizes in this step:\n",
      "    Column 3: 823\n",
      "    Column 4: 1112\n",
      "    Column 5: 1776\n",
      "    Column 6: 2425\n",
      "Corrections applied in this step:\n",
      "    Column 3: 876 Real changes: 0\n",
      "    Column 4: 839 Real changes: 0\n",
      "    Column 5: 907 Real changes: 0\n",
      "    Column 6: 497 Real changes: 0\n",
      "75% (3415 / 4550) of data errors are corrected.\n",
      "The error corrector models are updated with new labeled tuple 2153.\n",
      "523190 pairs of (a data error, a potential correction) are featurized.\n",
      "Prediction Method in this step:\n",
      "    Column 3: Train\n",
      "    Column 4: Train\n",
      "    Column 5: Train\n",
      "    Column 6: Train\n",
      "Train sizes in this step:\n",
      "    Column 3: 829\n",
      "    Column 4: 1117\n",
      "    Column 5: 1776\n",
      "    Column 6: 2425\n",
      "Corrections applied in this step:\n",
      "    Column 3: 876 Real changes: 0\n",
      "    Column 4: 839 Real changes: 0\n",
      "    Column 5: 907 Real changes: 0\n",
      "    Column 6: 402 Real changes: 18\n",
      "75% (3416 / 4550) of data errors are corrected.\n",
      "The error corrector models are updated with new labeled tuple 1504.\n",
      "528417 pairs of (a data error, a potential correction) are featurized.\n",
      "Prediction Method in this step:\n",
      "    Column 3: Train\n",
      "    Column 4: Train\n",
      "    Column 5: Train\n",
      "    Column 6: Train\n",
      "Train sizes in this step:\n",
      "    Column 3: 835\n",
      "    Column 4: 1144\n",
      "    Column 5: 1783\n",
      "    Column 6: 2439\n",
      "Corrections applied in this step:\n",
      "    Column 3: 876 Real changes: 0\n",
      "    Column 4: 858 Real changes: 19\n",
      "    Column 5: 907 Real changes: 0\n",
      "    Column 6: 402 Real changes: 0\n",
      "75% (3435 / 4550) of data errors are corrected.\n",
      "The error corrector models are updated with new labeled tuple 784.\n",
      "532575 pairs of (a data error, a potential correction) are featurized.\n",
      "Prediction Method in this step:\n",
      "    Column 3: Train\n",
      "    Column 4: Train\n",
      "    Column 5: Train\n",
      "    Column 6: Train\n",
      "Train sizes in this step:\n",
      "    Column 3: 841\n",
      "    Column 4: 1167\n",
      "    Column 5: 1790\n",
      "    Column 6: 2442\n",
      "Corrections applied in this step:\n",
      "    Column 3: 0 Real changes: 0\n",
      "    Column 4: 0 Real changes: 0\n",
      "    Column 5: 907 Real changes: 0\n",
      "    Column 6: 0 Real changes: 0\n",
      "75% (3435 / 4550) of data errors are corrected.\n"
     ]
    }
   ],
   "source": [
    "app_2.initialize_models(d)\n",
    "app_2.initialize_dataset(d)\n",
    "for si in d.labeled_tuples:\n",
    "    d.sampled_tuple = si\n",
    "    app_2.update_models(d)\n",
    "    app_2.generate_features(d)\n",
    "    app_2.predict_corrections(d)"
   ]
  },
  {
   "cell_type": "markdown",
   "metadata": {},
   "source": [
    "## 7. Storing Results\n",
    "Both Raha and Baran can also store the error detection/correction results."
   ]
  },
  {
   "cell_type": "code",
   "execution_count": 9,
   "metadata": {},
   "outputs": [
    {
     "name": "stdout",
     "output_type": "stream",
     "text": [
      "The results are stored in datasets/flights/raha-baran-results-flights/error-detection/detection.dataset.\n",
      "The results are stored in datasets/flights/raha-baran-results-flights/error-correction/correction.dataset.\n"
     ]
    }
   ],
   "source": [
    "app_1.store_results(d)\n",
    "app_2.store_results(d)"
   ]
  },
  {
   "cell_type": "markdown",
   "metadata": {},
   "source": [
    "## 8. Evaluating the Data Cleaning Task\n",
    "We can finally evaluate our data cleaning task."
   ]
  },
  {
   "cell_type": "code",
   "execution_count": 10,
   "metadata": {
    "scrolled": true
   },
   "outputs": [
    {
     "name": "stderr",
     "output_type": "stream",
     "text": [
      "/home/adrian/source/MA/raha/raha/dataset.py:123: FutureWarning: elementwise comparison failed; returning scalar instead, but in the future will perform elementwise comparison\n",
      "  if correction_dictionary[cell] == actual_errors[cell]:\n"
     ]
    },
    {
     "data": {
      "text/html": [
       "<div>\n",
       "<style scoped>\n",
       "    .dataframe tbody tr th:only-of-type {\n",
       "        vertical-align: middle;\n",
       "    }\n",
       "\n",
       "    .dataframe tbody tr th {\n",
       "        vertical-align: top;\n",
       "    }\n",
       "\n",
       "    .dataframe thead th {\n",
       "        text-align: right;\n",
       "    }\n",
       "</style>\n",
       "<table border=\"1\" class=\"dataframe\">\n",
       "  <thead>\n",
       "    <tr style=\"text-align: right;\">\n",
       "      <th></th>\n",
       "      <th>Task</th>\n",
       "      <th>Precision</th>\n",
       "      <th>Recall</th>\n",
       "      <th>F1 Score</th>\n",
       "    </tr>\n",
       "  </thead>\n",
       "  <tbody>\n",
       "    <tr>\n",
       "      <th>0</th>\n",
       "      <td>Error Detection (Raha)</td>\n",
       "      <td>0.89</td>\n",
       "      <td>0.82</td>\n",
       "      <td>0.85</td>\n",
       "    </tr>\n",
       "    <tr>\n",
       "      <th>1</th>\n",
       "      <td>Error Correction (Baran)</td>\n",
       "      <td>0.84</td>\n",
       "      <td>0.59</td>\n",
       "      <td>0.69</td>\n",
       "    </tr>\n",
       "  </tbody>\n",
       "</table>\n",
       "</div>"
      ],
      "text/plain": [
       "                       Task Precision Recall F1 Score\n",
       "0    Error Detection (Raha)      0.89   0.82     0.85\n",
       "1  Error Correction (Baran)      0.84   0.59     0.69"
      ]
     },
     "execution_count": 10,
     "metadata": {},
     "output_type": "execute_result"
    }
   ],
   "source": [
    "edp, edr, edf = d.get_data_cleaning_evaluation(d.detected_cells)[:3]\n",
    "ecp, ecr, ecf = d.get_data_cleaning_evaluation(d.corrected_cells)[-3:]\n",
    "\n",
    "evaluation_df = pandas.DataFrame(columns=[\"Task\", \"Precision\", \"Recall\", \"F1 Score\"])\n",
    "evaluation_df = evaluation_df.append({\"Task\": \"Error Detection (Raha)\", \"Precision\": \"{:.2f}\".format(edp), \n",
    "                                      \"Recall\": \"{:.2f}\".format(edr), \"F1 Score\": \"{:.2f}\".format(edf)}, ignore_index=True)\n",
    "evaluation_df = evaluation_df.append({\"Task\": \"Error Correction (Baran)\", \"Precision\": \"{:.2f}\".format(ecp), \n",
    "                                      \"Recall\": \"{:.2f}\".format(ecr), \"F1 Score\": \"{:.2f}\".format(ecf)}, ignore_index=True)\n",
    "evaluation_df.head()"
   ]
  },
  {
   "cell_type": "code",
   "execution_count": 11,
   "metadata": {},
   "outputs": [],
   "source": [
    "import importlib\n",
    "importlib.reload(analysis_utilities)\n",
    "import matplotlib.pyplot as plt\n",
    "plt.style.use('seaborn')\n"
   ]
  },
  {
   "cell_type": "code",
   "execution_count": 12,
   "metadata": {
    "pycharm": {
     "name": "#%%\n"
    }
   },
   "outputs": [],
   "source": [
    "actual_errors = d.get_actual_errors_dictionary()"
   ]
  },
  {
   "cell_type": "code",
   "execution_count": 13,
   "metadata": {
    "pycharm": {
     "name": "#%%\n"
    }
   },
   "outputs": [
    {
     "name": "stdout",
     "output_type": "stream",
     "text": [
      "Histograms of the probabilities of the detection algorithm by (label, true label)\n"
     ]
    },
    {
     "data": {
      "image/png": "[encoded data removed]",
      "text/plain": [
       "<Figure size 576x396 with 4 Axes>"
      ]
     },
     "metadata": {},
     "output_type": "display_data"
    }
   ],
   "source": [
    "analysis_utilities.detection_evaluation(d, actual_errors)"
   ]
  },
  {
   "cell_type": "code",
   "execution_count": 14,
   "metadata": {
    "pycharm": {
     "name": "#%%\n"
    }
   },
   "outputs": [],
   "source": [
    "correction_confidence_df = analysis_utilities.get_correction_confidence_df(d, actual_errors)"
   ]
  },
  {
   "cell_type": "code",
   "execution_count": 15,
   "metadata": {
    "pycharm": {
     "name": "#%%\n"
    }
   },
   "outputs": [
    {
     "data": {
      "text/plain": [
       "3435"
      ]
     },
     "execution_count": 15,
     "metadata": {},
     "output_type": "execute_result"
    }
   ],
   "source": [
    "correction_confidence_df.shape[0]"
   ]
  },
  {
   "cell_type": "code",
   "execution_count": 16,
   "metadata": {
    "pycharm": {
     "name": "#%%\n"
    }
   },
   "outputs": [
    {
     "data": {
      "text/plain": [
       "240"
      ]
     },
     "execution_count": 16,
     "metadata": {},
     "output_type": "execute_result"
    }
   ],
   "source": [
    "(correction_confidence_df[\"confidence\"] < 0.98).sum()"
   ]
  },
  {
   "cell_type": "code",
   "execution_count": 17,
   "metadata": {
    "pycharm": {
     "name": "#%%\n"
    }
   },
   "outputs": [
    {
     "name": "stdout",
     "output_type": "stream",
     "text": [
      "Distribution of confidences for wrong (False) and correct (True) corrections:\n"
     ]
    },
    {
     "data": {
      "image/png": "[encoded data removed]",
      "text/plain": [
       "<Figure size 576x396 with 2 Axes>"
      ]
     },
     "metadata": {},
     "output_type": "display_data"
    }
   ],
   "source": [
    "analysis_utilities.correction_confidence_distributions(correction_confidence_df)"
   ]
  },
  {
   "cell_type": "code",
   "execution_count": 18,
   "metadata": {
    "pycharm": {
     "name": "#%%\n"
    }
   },
   "outputs": [
    {
     "name": "stdout",
     "output_type": "stream",
     "text": [
      "Empirical probability of a correction being wrong given its confidence:\n"
     ]
    },
    {
     "name": "stderr",
     "output_type": "stream",
     "text": [
      "<ipython-input-18-6f5863a60e14>:2: UserWarning: Matplotlib is currently using module://ipykernel.pylab.backend_inline, which is a non-GUI backend, so cannot show the figure.\n",
      "  f.show()\n"
     ]
    },
    {
     "data": {
      "image/png": "[encoded data removed]",
      "text/plain": [
       "<Figure size 576x396 with 2 Axes>"
      ]
     },
     "metadata": {},
     "output_type": "display_data"
    }
   ],
   "source": [
    "f = analysis_utilities.correction_correctness_by_confidence(correction_confidence_df)\n",
    "f.show()"
   ]
  },
  {
   "cell_type": "code",
   "execution_count": 19,
   "metadata": {
    "pycharm": {
     "name": "#%%\n"
    }
   },
   "outputs": [
    {
     "name": "stdout",
     "output_type": "stream",
     "text": [
      "Changed attributes: [(3, 'sched_dep_time'), (4, 'act_dep_time'), (5, 'sched_arr_time'), (6, 'act_arr_time')]\n",
      "Number of changed cells: 3435\n",
      "Number of changed tuples: 1593\n",
      "% of tuples changed: 67.05All changes:\n",
      "       row  column value_before value_after    type_before     type_after  \\\n",
      "0      184       3               11:45 a.m.  <class 'str'>  <class 'str'>   \n",
      "1      784       3                7:35 a.m.  <class 'str'>  <class 'str'>   \n",
      "2     1243       3               10:45 a.m.  <class 'str'>  <class 'str'>   \n",
      "3     1287       3                9:00 p.m.  <class 'str'>  <class 'str'>   \n",
      "4     1504       3                8:15 a.m.  <class 'str'>  <class 'str'>   \n",
      "...    ...     ...          ...         ...            ...            ...   \n",
      "3430  1775       4    8:12 a.m.   8:12 a.m.  <class 'str'>  <class 'str'>   \n",
      "3431  1875       4    8:12 a.m.   8:12 a.m.  <class 'str'>  <class 'str'>   \n",
      "3432  1967       4    8:26 a.m.   8:12 a.m.  <class 'str'>  <class 'str'>   \n",
      "3433  2067       4    8:12 a.m.   8:12 a.m.  <class 'str'>  <class 'str'>   \n",
      "3434  2172       4    8:26 a.m.   8:12 a.m.  <class 'str'>  <class 'str'>   \n",
      "\n",
      "     value_before_string value_after_string  \n",
      "0                                11:45 a.m.  \n",
      "1                                 7:35 a.m.  \n",
      "2                                10:45 a.m.  \n",
      "3                                 9:00 p.m.  \n",
      "4                                 8:15 a.m.  \n",
      "...                  ...                ...  \n",
      "3430           8:12 a.m.          8:12 a.m.  \n",
      "3431           8:12 a.m.          8:12 a.m.  \n",
      "3432           8:26 a.m.          8:12 a.m.  \n",
      "3433           8:12 a.m.          8:12 a.m.  \n",
      "3434           8:26 a.m.          8:12 a.m.  \n",
      "\n",
      "[3435 rows x 8 columns]\n",
      "Type changes:\n",
      "      column    type_before     type_after\n",
      "0          3  <class 'str'>  <class 'str'>\n",
      "885        4  <class 'str'>  <class 'str'>\n",
      "1593       5  <class 'str'>  <class 'str'>\n",
      "2511       6  <class 'str'>  <class 'str'>\n",
      "Change frequency:\n",
      "value_before      value_after\n",
      "                  2:55 p.m.      0.013100\n",
      "                  6:00 a.m.      0.011936\n",
      "                  10:40 a.m.     0.009025\n",
      "                  11:45 a.m.     0.007569\n",
      "                  3:50 p.m.      0.007569\n",
      "                                   ...   \n",
      "7:27aDec 1        7:27 a.m.      0.000291\n",
      "7:28 a.m.         8:04 a.m.      0.000291\n",
      "11/30 11:55 p.m.  11:55 p.m.     0.000291\n",
      "11/30 11:25 a.m.  11:25 a.m.     0.000291\n",
      "Thu 7:45          7:45 a.m.      0.000291\n",
      "Length: 722, dtype: float64\n",
      "Distribution of changes over columns:\n",
      "column\n",
      "5         0.267249\n",
      "3         0.257642\n",
      "4         0.255604\n",
      "6         0.219505\n",
      "dtype: float64\n",
      "Not all changes are injective! look:\n",
      "column  value_after_string\n",
      "3       10:15 a.m.            False\n",
      "        10:25 a.m.            False\n",
      "        10:39 a.m.            False\n",
      "        10:40 a.m.            False\n",
      "        10:45 a.m.            False\n",
      "                              ...  \n",
      "6       9:43 a.m.             False\n",
      "        9:45 a.m.             False\n",
      "        9:52 p.m.             False\n",
      "        9:53 p.m.             False\n",
      "        9:56 a.m.             False\n",
      "Name: value_before_string, Length: 320, dtype: bool\n"
     ]
    }
   ],
   "source": [
    "print(analysis_utilities.result_analysis(d.dataframe, d.corrected_cells))"
   ]
  },
  {
   "cell_type": "code",
   "execution_count": 20,
   "metadata": {
    "pycharm": {
     "name": "#%%\n"
    }
   },
   "outputs": [],
   "source": [
    "import pandas_profiling"
   ]
  },
  {
   "cell_type": "code",
   "execution_count": 24,
   "metadata": {
    "pycharm": {
     "name": "#%%\n"
    }
   },
   "outputs": [],
   "source": [
    "profile = pandas_profiling.ProfileReport(d.dataframe, title=\"Pandas Profiling Report\"explorative=True)"
   ]
  },
  {
   "cell_type": "code",
   "execution_count": 25,
   "metadata": {
    "pycharm": {
     "name": "#%%\n"
    }
   },
   "outputs": [
    {
     "data": {
      "application/vnd.jupyter.widget-view+json": {
       "model_id": "5867388440c54b9c9220e412a35b4913",
       "version_major": 2,
       "version_minor": 0
      },
      "text/plain": [
       "Summarize dataset:   0%|          | 0/20 [00:00<?, ?it/s]"
      ]
     },
     "metadata": {},
     "output_type": "display_data"
    },
    {
     "data": {
      "application/vnd.jupyter.widget-view+json": {
       "model_id": "dc67667a8ab64417914775c54f2260a7",
       "version_major": 2,
       "version_minor": 0
      },
      "text/plain": [
       "Generate report structure:   0%|          | 0/1 [00:00<?, ?it/s]"
      ]
     },
     "metadata": {},
     "output_type": "display_data"
    },
    {
     "data": {
      "application/vnd.jupyter.widget-view+json": {
       "model_id": "",
       "version_major": 2,
       "version_minor": 0
      },
      "text/plain": [
       "Render widgets:   0%|          | 0/1 [00:00<?, ?it/s]"
      ]
     },
     "metadata": {},
     "output_type": "display_data"
    },
    {
     "data": {
      "application/vnd.jupyter.widget-view+json": {
       "model_id": "816bed91abdd4a119438e3b5efabaf8a",
       "version_major": 2,
       "version_minor": 0
      },
      "text/plain": [
       "VBox(children=(Tab(children=(Tab(children=(GridBox(children=(VBox(children=(GridspecLayout(children=(HTML(valu…"
      ]
     },
     "metadata": {},
     "output_type": "display_data"
    }
   ],
   "source": [
    "profile.to_widgets()"
   ]
  },
  {
   "cell_type": "code",
   "execution_count": 30,
   "metadata": {
    "pycharm": {
     "name": "#%%\n"
    }
   },
   "outputs": [],
   "source": [
    "df = d.create_repaired_dataset(d.corrected_cells)\n",
    "df"
   ]
  },
  {
   "cell_type": "code",
   "execution_count": 31,
   "metadata": {
    "pycharm": {
     "name": "#%%\n"
    }
   },
   "outputs": [
    {
     "data": {
      "application/vnd.jupyter.widget-view+json": {
       "model_id": "987c0819cfbb48bfa503a793926b2fc4",
       "version_major": 2,
       "version_minor": 0
      },
      "text/plain": [
       "Summarize dataset:   0%|          | 0/20 [00:00<?, ?it/s]"
      ]
     },
     "metadata": {},
     "output_type": "display_data"
    },
    {
     "data": {
      "application/vnd.jupyter.widget-view+json": {
       "model_id": "46b72c6ce7734c09a253a4c5daf43f30",
       "version_major": 2,
       "version_minor": 0
      },
      "text/plain": [
       "Generate report structure:   0%|          | 0/1 [00:00<?, ?it/s]"
      ]
     },
     "metadata": {},
     "output_type": "display_data"
    },
    {
     "data": {
      "application/vnd.jupyter.widget-view+json": {
       "model_id": "",
       "version_major": 2,
       "version_minor": 0
      },
      "text/plain": [
       "Render widgets:   0%|          | 0/1 [00:00<?, ?it/s]"
      ]
     },
     "metadata": {},
     "output_type": "display_data"
    },
    {
     "data": {
      "application/vnd.jupyter.widget-view+json": {
       "model_id": "6e17e5a3a7ab4874a6a3ce22ad21210f",
       "version_major": 2,
       "version_minor": 0
      },
      "text/plain": [
       "VBox(children=(Tab(children=(Tab(children=(GridBox(children=(VBox(children=(GridspecLayout(children=(HTML(valu…"
      ]
     },
     "metadata": {},
     "output_type": "display_data"
    }
   ],
   "source": [
    "profile2 = pandas_profiling.ProfileReport(d.repaired_dataframe, title=\"After Clean Report\", explorative=True)\n",
    "profile2.to_widgets()"
   ]
  },
  {
   "cell_type": "code",
   "execution_count": null,
   "metadata": {},
   "outputs": [],
   "source": []
  }
 ],
 "metadata": {
  "kernelspec": {
   "display_name": "Python 3",
   "language": "python",
   "name": "python3"
  },
  "language_info": {
   "codemirror_mode": {
    "name": "ipython",
    "version": 3
   },
   "file_extension": ".py",
   "mimetype": "text/x-python",
   "name": "python",
   "nbconvert_exporter": "python",
   "pygments_lexer": "ipython3",
   "version": "3.8.5"
  }
 },
 "nbformat": 4,
 "nbformat_minor": 4
}

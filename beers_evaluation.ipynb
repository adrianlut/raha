{
 "cells": [
  {
   "cell_type": "markdown",
   "metadata": {},
   "source": [
    "# Beers example"
   ]
  },
  {
   "cell_type": "code",
   "execution_count": 1,
   "metadata": {},
   "outputs": [],
   "source": [
    "import numpy as np\n",
    "import pandas\n",
    "from IPython.core.display import display\n",
    "\n",
    "import raha"
   ]
  },
  {
   "cell_type": "markdown",
   "source": [
    "## Run error detection and repair 30 times\n",
    "\n",
    "We use ground truth to label 20 tuples in each run."
   ],
   "metadata": {
    "collapsed": false
   }
  },
  {
   "cell_type": "code",
   "execution_count": 2,
   "metadata": {},
   "outputs": [
    {
     "name": "stderr",
     "output_type": "stream",
     "text": [
      "I just load strategies' results as they have already been run on the dataset!\n"
     ]
    },
    {
     "name": "stdout",
     "output_type": "stream",
     "text": [
      "Run 0 done\n"
     ]
    },
    {
     "name": "stderr",
     "output_type": "stream",
     "text": [
      "I just load strategies' results as they have already been run on the dataset!\n"
     ]
    },
    {
     "name": "stdout",
     "output_type": "stream",
     "text": [
      "Run 1 done\n"
     ]
    },
    {
     "name": "stderr",
     "output_type": "stream",
     "text": [
      "I just load strategies' results as they have already been run on the dataset!\n"
     ]
    },
    {
     "name": "stdout",
     "output_type": "stream",
     "text": [
      "Run 2 done\n"
     ]
    },
    {
     "name": "stderr",
     "output_type": "stream",
     "text": [
      "I just load strategies' results as they have already been run on the dataset!\n"
     ]
    },
    {
     "name": "stdout",
     "output_type": "stream",
     "text": [
      "Run 3 done\n"
     ]
    },
    {
     "name": "stderr",
     "output_type": "stream",
     "text": [
      "I just load strategies' results as they have already been run on the dataset!\n"
     ]
    },
    {
     "name": "stdout",
     "output_type": "stream",
     "text": [
      "Run 4 done\n"
     ]
    },
    {
     "name": "stderr",
     "output_type": "stream",
     "text": [
      "I just load strategies' results as they have already been run on the dataset!\n"
     ]
    },
    {
     "name": "stdout",
     "output_type": "stream",
     "text": [
      "Run 5 done\n"
     ]
    },
    {
     "name": "stderr",
     "output_type": "stream",
     "text": [
      "I just load strategies' results as they have already been run on the dataset!\n"
     ]
    },
    {
     "name": "stdout",
     "output_type": "stream",
     "text": [
      "Run 6 done\n"
     ]
    },
    {
     "name": "stderr",
     "output_type": "stream",
     "text": [
      "I just load strategies' results as they have already been run on the dataset!\n"
     ]
    },
    {
     "name": "stdout",
     "output_type": "stream",
     "text": [
      "Run 7 done\n"
     ]
    },
    {
     "name": "stderr",
     "output_type": "stream",
     "text": [
      "I just load strategies' results as they have already been run on the dataset!\n"
     ]
    },
    {
     "name": "stdout",
     "output_type": "stream",
     "text": [
      "Run 8 done\n"
     ]
    },
    {
     "name": "stderr",
     "output_type": "stream",
     "text": [
      "I just load strategies' results as they have already been run on the dataset!\n"
     ]
    },
    {
     "name": "stdout",
     "output_type": "stream",
     "text": [
      "Run 9 done\n"
     ]
    },
    {
     "name": "stderr",
     "output_type": "stream",
     "text": [
      "I just load strategies' results as they have already been run on the dataset!\n"
     ]
    },
    {
     "name": "stdout",
     "output_type": "stream",
     "text": [
      "Run 10 done\n"
     ]
    },
    {
     "name": "stderr",
     "output_type": "stream",
     "text": [
      "I just load strategies' results as they have already been run on the dataset!\n"
     ]
    },
    {
     "name": "stdout",
     "output_type": "stream",
     "text": [
      "Run 11 done\n"
     ]
    },
    {
     "name": "stderr",
     "output_type": "stream",
     "text": [
      "I just load strategies' results as they have already been run on the dataset!\n"
     ]
    },
    {
     "name": "stdout",
     "output_type": "stream",
     "text": [
      "Run 12 done\n"
     ]
    },
    {
     "name": "stderr",
     "output_type": "stream",
     "text": [
      "I just load strategies' results as they have already been run on the dataset!\n"
     ]
    },
    {
     "name": "stdout",
     "output_type": "stream",
     "text": [
      "Run 13 done\n"
     ]
    },
    {
     "name": "stderr",
     "output_type": "stream",
     "text": [
      "I just load strategies' results as they have already been run on the dataset!\n"
     ]
    },
    {
     "name": "stdout",
     "output_type": "stream",
     "text": [
      "Run 14 done\n"
     ]
    },
    {
     "name": "stderr",
     "output_type": "stream",
     "text": [
      "I just load strategies' results as they have already been run on the dataset!\n"
     ]
    },
    {
     "name": "stdout",
     "output_type": "stream",
     "text": [
      "Run 15 done\n"
     ]
    },
    {
     "name": "stderr",
     "output_type": "stream",
     "text": [
      "I just load strategies' results as they have already been run on the dataset!\n"
     ]
    },
    {
     "name": "stdout",
     "output_type": "stream",
     "text": [
      "Run 16 done\n"
     ]
    },
    {
     "name": "stderr",
     "output_type": "stream",
     "text": [
      "I just load strategies' results as they have already been run on the dataset!\n"
     ]
    },
    {
     "name": "stdout",
     "output_type": "stream",
     "text": [
      "Run 17 done\n"
     ]
    },
    {
     "name": "stderr",
     "output_type": "stream",
     "text": [
      "I just load strategies' results as they have already been run on the dataset!\n"
     ]
    },
    {
     "name": "stdout",
     "output_type": "stream",
     "text": [
      "Run 18 done\n"
     ]
    },
    {
     "name": "stderr",
     "output_type": "stream",
     "text": [
      "I just load strategies' results as they have already been run on the dataset!\n"
     ]
    },
    {
     "name": "stdout",
     "output_type": "stream",
     "text": [
      "Run 19 done\n"
     ]
    },
    {
     "name": "stderr",
     "output_type": "stream",
     "text": [
      "I just load strategies' results as they have already been run on the dataset!\n"
     ]
    },
    {
     "name": "stdout",
     "output_type": "stream",
     "text": [
      "Run 20 done\n"
     ]
    },
    {
     "name": "stderr",
     "output_type": "stream",
     "text": [
      "I just load strategies' results as they have already been run on the dataset!\n"
     ]
    },
    {
     "name": "stdout",
     "output_type": "stream",
     "text": [
      "Run 21 done\n"
     ]
    },
    {
     "name": "stderr",
     "output_type": "stream",
     "text": [
      "I just load strategies' results as they have already been run on the dataset!\n"
     ]
    },
    {
     "name": "stdout",
     "output_type": "stream",
     "text": [
      "Run 22 done\n"
     ]
    },
    {
     "name": "stderr",
     "output_type": "stream",
     "text": [
      "I just load strategies' results as they have already been run on the dataset!\n"
     ]
    },
    {
     "name": "stdout",
     "output_type": "stream",
     "text": [
      "Run 23 done\n"
     ]
    },
    {
     "name": "stderr",
     "output_type": "stream",
     "text": [
      "I just load strategies' results as they have already been run on the dataset!\n"
     ]
    },
    {
     "name": "stdout",
     "output_type": "stream",
     "text": [
      "Run 24 done\n"
     ]
    },
    {
     "name": "stderr",
     "output_type": "stream",
     "text": [
      "I just load strategies' results as they have already been run on the dataset!\n"
     ]
    },
    {
     "name": "stdout",
     "output_type": "stream",
     "text": [
      "Run 25 done\n"
     ]
    },
    {
     "name": "stderr",
     "output_type": "stream",
     "text": [
      "I just load strategies' results as they have already been run on the dataset!\n"
     ]
    },
    {
     "name": "stdout",
     "output_type": "stream",
     "text": [
      "Run 26 done\n"
     ]
    },
    {
     "name": "stderr",
     "output_type": "stream",
     "text": [
      "I just load strategies' results as they have already been run on the dataset!\n"
     ]
    },
    {
     "name": "stdout",
     "output_type": "stream",
     "text": [
      "Run 27 done\n"
     ]
    },
    {
     "name": "stderr",
     "output_type": "stream",
     "text": [
      "I just load strategies' results as they have already been run on the dataset!\n"
     ]
    },
    {
     "name": "stdout",
     "output_type": "stream",
     "text": [
      "Run 28 done\n"
     ]
    },
    {
     "name": "stderr",
     "output_type": "stream",
     "text": [
      "I just load strategies' results as they have already been run on the dataset!\n"
     ]
    },
    {
     "name": "stdout",
     "output_type": "stream",
     "text": [
      "Run 29 done\n"
     ]
    }
   ],
   "source": [
    "datasets = []\n",
    "\n",
    "for i in range(30):\n",
    "    from raha import analysis_utilities\n",
    "    app_1 = raha.Detection()\n",
    "    app_2 = raha.Correction()\n",
    "\n",
    "    # How many tuples would you label?\n",
    "    app_1.LABELING_BUDGET = 20\n",
    "    app_2.LABELING_BUDGET = 0\n",
    "\n",
    "    # Would you like to see the logs?\n",
    "    app_1.VERBOSE = False\n",
    "    app_2.VERBOSE = False\n",
    "\n",
    "    dataset_dictionary = {\n",
    "            \"name\": \"beers\",\n",
    "            \"path\": \"datasets/beers/dirty.csv\",\n",
    "            \"clean_path\": \"datasets/beers/clean.csv\"\n",
    "        }\n",
    "    d = app_1.initialize_dataset(dataset_dictionary)\n",
    "\n",
    "    app_1.run_strategies(d)\n",
    "    app_1.generate_features(d)\n",
    "    app_1.build_clusters(d)\n",
    "\n",
    "    while len(d.labeled_tuples) < app_1.LABELING_BUDGET:\n",
    "        app_1.sample_tuple(d)\n",
    "        if d.has_ground_truth:\n",
    "            app_1.label_with_ground_truth(d)\n",
    "\n",
    "    app_1.propagate_labels(d)\n",
    "    app_1.predict_labels(d)\n",
    "\n",
    "    app_2.initialize_models(d)\n",
    "    app_2.initialize_dataset(d)\n",
    "    for si in d.labeled_tuples:\n",
    "        d.sampled_tuple = si\n",
    "        app_2.update_models(d)\n",
    "        app_2.generate_features(d)\n",
    "        app_2.predict_corrections(d)\n",
    "\n",
    "    print(f\"Run {i} done\")\n",
    "\n",
    "    datasets.append(d)"
   ]
  },
  {
   "cell_type": "markdown",
   "source": [
    "## Evaluation"
   ],
   "metadata": {
    "collapsed": false
   }
  },
  {
   "cell_type": "code",
   "execution_count": 3,
   "metadata": {
    "scrolled": true
   },
   "outputs": [
    {
     "name": "stderr",
     "output_type": "stream",
     "text": [
      "/home/adrian/source/MA/raha/raha/dataset.py:123: FutureWarning: elementwise comparison failed; returning scalar instead, but in the future will perform elementwise comparison\n",
      "  if correction_dictionary[cell] == actual_errors[cell]:\n"
     ]
    },
    {
     "data": {
      "text/plain": "                        Task  Precision    Recall  F1 Score\n0     Error Detection (Raha)   0.998398  1.000000  0.999198\n1   Error Correction (Baran)   0.976327  0.973865  0.975095\n2     Error Detection (Raha)   0.998398  1.000000  0.999198\n3   Error Correction (Baran)   0.981621  0.955066  0.968162\n4     Error Detection (Raha)   0.998398  1.000000  0.999198\n5   Error Correction (Baran)   0.988923  0.961944  0.975247\n6     Error Detection (Raha)   0.979484  0.974094  0.976782\n7   Error Correction (Baran)   0.980350  0.949335  0.964594\n8     Error Detection (Raha)   0.998398  1.000000  0.999198\n9   Error Correction (Baran)   0.910575  0.908070  0.909320\n10    Error Detection (Raha)   0.998398  1.000000  0.999198\n11  Error Correction (Baran)   0.921127  0.891564  0.906104\n12    Error Detection (Raha)   0.998398  1.000000  0.999198\n13  Error Correction (Baran)   0.973733  0.968822  0.971271\n14    Error Detection (Raha)   0.998398  1.000000  0.999198\n15  Error Correction (Baran)   0.902651  0.882164  0.892290\n16    Error Detection (Raha)   0.998398  1.000000  0.999198\n17  Error Correction (Baran)   0.980410  0.975241  0.977819\n18    Error Detection (Raha)   0.998398  1.000000  0.999198\n19  Error Correction (Baran)   0.978885  0.977762  0.978323\n20    Error Detection (Raha)   1.000000  1.000000  1.000000\n21  Error Correction (Baran)   0.972555  0.966758  0.969648\n22    Error Detection (Raha)   0.998377  0.987391  0.992854\n23  Error Correction (Baran)   0.977176  0.952086  0.964468\n24    Error Detection (Raha)   0.998398  1.000000  0.999198\n25  Error Correction (Baran)   0.969669  0.952774  0.961147\n26    Error Detection (Raha)   0.998398  1.000000  0.999198\n27  Error Correction (Baran)   0.970350  0.960339  0.965319\n28    Error Detection (Raha)   0.998398  1.000000  0.999198\n29  Error Correction (Baran)   0.905435  0.851674  0.877732\n30    Error Detection (Raha)   1.000000  0.998624  0.999312\n31  Error Correction (Baran)   0.934504  0.902797  0.918377\n32    Error Detection (Raha)   0.998393  0.996790  0.997591\n33  Error Correction (Baran)   0.971152  0.964695  0.967913\n34    Error Detection (Raha)   0.999541  0.998624  0.999083\n35  Error Correction (Baran)   0.974959  0.946126  0.960326\n36    Error Detection (Raha)   0.998398  1.000000  0.999198\n37  Error Correction (Baran)   0.971494  0.968822  0.970156\n38    Error Detection (Raha)   0.978466  1.000000  0.989116\n39  Error Correction (Baran)   0.966328  0.960569  0.963440\n40    Error Detection (Raha)   0.998398  1.000000  0.999198\n41  Error Correction (Baran)   0.877043  0.848693  0.862635\n42    Error Detection (Raha)   0.980004  1.000000  0.989901\n43  Error Correction (Baran)   0.980433  0.964924  0.972617\n44    Error Detection (Raha)   0.978466  1.000000  0.989116\n45  Error Correction (Baran)   0.973167  0.964466  0.968797\n46    Error Detection (Raha)   0.998398  1.000000  0.999198\n47  Error Correction (Baran)   0.977931  0.975241  0.976584\n48    Error Detection (Raha)   0.998398  1.000000  0.999198\n49  Error Correction (Baran)   0.913747  0.854883  0.883335\n50    Error Detection (Raha)   0.998398  1.000000  0.999198\n51  Error Correction (Baran)   0.975780  0.960569  0.968115\n52    Error Detection (Raha)   0.998398  1.000000  0.999198\n53  Error Correction (Baran)   0.963431  0.960339  0.961883\n54    Error Detection (Raha)   0.998398  1.000000  0.999198\n55  Error Correction (Baran)   0.935506  0.934434  0.934970\n56    Error Detection (Raha)   0.978466  1.000000  0.989116\n57  Error Correction (Baran)   0.977096  0.919303  0.947319\n58    Error Detection (Raha)   0.998398  1.000000  0.999198\n59  Error Correction (Baran)   0.892047  0.856259  0.873786",
      "text/html": "<div>\n<style scoped>\n    .dataframe tbody tr th:only-of-type {\n        vertical-align: middle;\n    }\n\n    .dataframe tbody tr th {\n        vertical-align: top;\n    }\n\n    .dataframe thead th {\n        text-align: right;\n    }\n</style>\n<table border=\"1\" class=\"dataframe\">\n  <thead>\n    <tr style=\"text-align: right;\">\n      <th></th>\n      <th>Task</th>\n      <th>Precision</th>\n      <th>Recall</th>\n      <th>F1 Score</th>\n    </tr>\n  </thead>\n  <tbody>\n    <tr>\n      <th>0</th>\n      <td>Error Detection (Raha)</td>\n      <td>0.998398</td>\n      <td>1.000000</td>\n      <td>0.999198</td>\n    </tr>\n    <tr>\n      <th>1</th>\n      <td>Error Correction (Baran)</td>\n      <td>0.976327</td>\n      <td>0.973865</td>\n      <td>0.975095</td>\n    </tr>\n    <tr>\n      <th>2</th>\n      <td>Error Detection (Raha)</td>\n      <td>0.998398</td>\n      <td>1.000000</td>\n      <td>0.999198</td>\n    </tr>\n    <tr>\n      <th>3</th>\n      <td>Error Correction (Baran)</td>\n      <td>0.981621</td>\n      <td>0.955066</td>\n      <td>0.968162</td>\n    </tr>\n    <tr>\n      <th>4</th>\n      <td>Error Detection (Raha)</td>\n      <td>0.998398</td>\n      <td>1.000000</td>\n      <td>0.999198</td>\n    </tr>\n    <tr>\n      <th>5</th>\n      <td>Error Correction (Baran)</td>\n      <td>0.988923</td>\n      <td>0.961944</td>\n      <td>0.975247</td>\n    </tr>\n    <tr>\n      <th>6</th>\n      <td>Error Detection (Raha)</td>\n      <td>0.979484</td>\n      <td>0.974094</td>\n      <td>0.976782</td>\n    </tr>\n    <tr>\n      <th>7</th>\n      <td>Error Correction (Baran)</td>\n      <td>0.980350</td>\n      <td>0.949335</td>\n      <td>0.964594</td>\n    </tr>\n    <tr>\n      <th>8</th>\n      <td>Error Detection (Raha)</td>\n      <td>0.998398</td>\n      <td>1.000000</td>\n      <td>0.999198</td>\n    </tr>\n    <tr>\n      <th>9</th>\n      <td>Error Correction (Baran)</td>\n      <td>0.910575</td>\n      <td>0.908070</td>\n      <td>0.909320</td>\n    </tr>\n    <tr>\n      <th>10</th>\n      <td>Error Detection (Raha)</td>\n      <td>0.998398</td>\n      <td>1.000000</td>\n      <td>0.999198</td>\n    </tr>\n    <tr>\n      <th>11</th>\n      <td>Error Correction (Baran)</td>\n      <td>0.921127</td>\n      <td>0.891564</td>\n      <td>0.906104</td>\n    </tr>\n    <tr>\n      <th>12</th>\n      <td>Error Detection (Raha)</td>\n      <td>0.998398</td>\n      <td>1.000000</td>\n      <td>0.999198</td>\n    </tr>\n    <tr>\n      <th>13</th>\n      <td>Error Correction (Baran)</td>\n      <td>0.973733</td>\n      <td>0.968822</td>\n      <td>0.971271</td>\n    </tr>\n    <tr>\n      <th>14</th>\n      <td>Error Detection (Raha)</td>\n      <td>0.998398</td>\n      <td>1.000000</td>\n      <td>0.999198</td>\n    </tr>\n    <tr>\n      <th>15</th>\n      <td>Error Correction (Baran)</td>\n      <td>0.902651</td>\n      <td>0.882164</td>\n      <td>0.892290</td>\n    </tr>\n    <tr>\n      <th>16</th>\n      <td>Error Detection (Raha)</td>\n      <td>0.998398</td>\n      <td>1.000000</td>\n      <td>0.999198</td>\n    </tr>\n    <tr>\n      <th>17</th>\n      <td>Error Correction (Baran)</td>\n      <td>0.980410</td>\n      <td>0.975241</td>\n      <td>0.977819</td>\n    </tr>\n    <tr>\n      <th>18</th>\n      <td>Error Detection (Raha)</td>\n      <td>0.998398</td>\n      <td>1.000000</td>\n      <td>0.999198</td>\n    </tr>\n    <tr>\n      <th>19</th>\n      <td>Error Correction (Baran)</td>\n      <td>0.978885</td>\n      <td>0.977762</td>\n      <td>0.978323</td>\n    </tr>\n    <tr>\n      <th>20</th>\n      <td>Error Detection (Raha)</td>\n      <td>1.000000</td>\n      <td>1.000000</td>\n      <td>1.000000</td>\n    </tr>\n    <tr>\n      <th>21</th>\n      <td>Error Correction (Baran)</td>\n      <td>0.972555</td>\n      <td>0.966758</td>\n      <td>0.969648</td>\n    </tr>\n    <tr>\n      <th>22</th>\n      <td>Error Detection (Raha)</td>\n      <td>0.998377</td>\n      <td>0.987391</td>\n      <td>0.992854</td>\n    </tr>\n    <tr>\n      <th>23</th>\n      <td>Error Correction (Baran)</td>\n      <td>0.977176</td>\n      <td>0.952086</td>\n      <td>0.964468</td>\n    </tr>\n    <tr>\n      <th>24</th>\n      <td>Error Detection (Raha)</td>\n      <td>0.998398</td>\n      <td>1.000000</td>\n      <td>0.999198</td>\n    </tr>\n    <tr>\n      <th>25</th>\n      <td>Error Correction (Baran)</td>\n      <td>0.969669</td>\n      <td>0.952774</td>\n      <td>0.961147</td>\n    </tr>\n    <tr>\n      <th>26</th>\n      <td>Error Detection (Raha)</td>\n      <td>0.998398</td>\n      <td>1.000000</td>\n      <td>0.999198</td>\n    </tr>\n    <tr>\n      <th>27</th>\n      <td>Error Correction (Baran)</td>\n      <td>0.970350</td>\n      <td>0.960339</td>\n      <td>0.965319</td>\n    </tr>\n    <tr>\n      <th>28</th>\n      <td>Error Detection (Raha)</td>\n      <td>0.998398</td>\n      <td>1.000000</td>\n      <td>0.999198</td>\n    </tr>\n    <tr>\n      <th>29</th>\n      <td>Error Correction (Baran)</td>\n      <td>0.905435</td>\n      <td>0.851674</td>\n      <td>0.877732</td>\n    </tr>\n    <tr>\n      <th>30</th>\n      <td>Error Detection (Raha)</td>\n      <td>1.000000</td>\n      <td>0.998624</td>\n      <td>0.999312</td>\n    </tr>\n    <tr>\n      <th>31</th>\n      <td>Error Correction (Baran)</td>\n      <td>0.934504</td>\n      <td>0.902797</td>\n      <td>0.918377</td>\n    </tr>\n    <tr>\n      <th>32</th>\n      <td>Error Detection (Raha)</td>\n      <td>0.998393</td>\n      <td>0.996790</td>\n      <td>0.997591</td>\n    </tr>\n    <tr>\n      <th>33</th>\n      <td>Error Correction (Baran)</td>\n      <td>0.971152</td>\n      <td>0.964695</td>\n      <td>0.967913</td>\n    </tr>\n    <tr>\n      <th>34</th>\n      <td>Error Detection (Raha)</td>\n      <td>0.999541</td>\n      <td>0.998624</td>\n      <td>0.999083</td>\n    </tr>\n    <tr>\n      <th>35</th>\n      <td>Error Correction (Baran)</td>\n      <td>0.974959</td>\n      <td>0.946126</td>\n      <td>0.960326</td>\n    </tr>\n    <tr>\n      <th>36</th>\n      <td>Error Detection (Raha)</td>\n      <td>0.998398</td>\n      <td>1.000000</td>\n      <td>0.999198</td>\n    </tr>\n    <tr>\n      <th>37</th>\n      <td>Error Correction (Baran)</td>\n      <td>0.971494</td>\n      <td>0.968822</td>\n      <td>0.970156</td>\n    </tr>\n    <tr>\n      <th>38</th>\n      <td>Error Detection (Raha)</td>\n      <td>0.978466</td>\n      <td>1.000000</td>\n      <td>0.989116</td>\n    </tr>\n    <tr>\n      <th>39</th>\n      <td>Error Correction (Baran)</td>\n      <td>0.966328</td>\n      <td>0.960569</td>\n      <td>0.963440</td>\n    </tr>\n    <tr>\n      <th>40</th>\n      <td>Error Detection (Raha)</td>\n      <td>0.998398</td>\n      <td>1.000000</td>\n      <td>0.999198</td>\n    </tr>\n    <tr>\n      <th>41</th>\n      <td>Error Correction (Baran)</td>\n      <td>0.877043</td>\n      <td>0.848693</td>\n      <td>0.862635</td>\n    </tr>\n    <tr>\n      <th>42</th>\n      <td>Error Detection (Raha)</td>\n      <td>0.980004</td>\n      <td>1.000000</td>\n      <td>0.989901</td>\n    </tr>\n    <tr>\n      <th>43</th>\n      <td>Error Correction (Baran)</td>\n      <td>0.980433</td>\n      <td>0.964924</td>\n      <td>0.972617</td>\n    </tr>\n    <tr>\n      <th>44</th>\n      <td>Error Detection (Raha)</td>\n      <td>0.978466</td>\n      <td>1.000000</td>\n      <td>0.989116</td>\n    </tr>\n    <tr>\n      <th>45</th>\n      <td>Error Correction (Baran)</td>\n      <td>0.973167</td>\n      <td>0.964466</td>\n      <td>0.968797</td>\n    </tr>\n    <tr>\n      <th>46</th>\n      <td>Error Detection (Raha)</td>\n      <td>0.998398</td>\n      <td>1.000000</td>\n      <td>0.999198</td>\n    </tr>\n    <tr>\n      <th>47</th>\n      <td>Error Correction (Baran)</td>\n      <td>0.977931</td>\n      <td>0.975241</td>\n      <td>0.976584</td>\n    </tr>\n    <tr>\n      <th>48</th>\n      <td>Error Detection (Raha)</td>\n      <td>0.998398</td>\n      <td>1.000000</td>\n      <td>0.999198</td>\n    </tr>\n    <tr>\n      <th>49</th>\n      <td>Error Correction (Baran)</td>\n      <td>0.913747</td>\n      <td>0.854883</td>\n      <td>0.883335</td>\n    </tr>\n    <tr>\n      <th>50</th>\n      <td>Error Detection (Raha)</td>\n      <td>0.998398</td>\n      <td>1.000000</td>\n      <td>0.999198</td>\n    </tr>\n    <tr>\n      <th>51</th>\n      <td>Error Correction (Baran)</td>\n      <td>0.975780</td>\n      <td>0.960569</td>\n      <td>0.968115</td>\n    </tr>\n    <tr>\n      <th>52</th>\n      <td>Error Detection (Raha)</td>\n      <td>0.998398</td>\n      <td>1.000000</td>\n      <td>0.999198</td>\n    </tr>\n    <tr>\n      <th>53</th>\n      <td>Error Correction (Baran)</td>\n      <td>0.963431</td>\n      <td>0.960339</td>\n      <td>0.961883</td>\n    </tr>\n    <tr>\n      <th>54</th>\n      <td>Error Detection (Raha)</td>\n      <td>0.998398</td>\n      <td>1.000000</td>\n      <td>0.999198</td>\n    </tr>\n    <tr>\n      <th>55</th>\n      <td>Error Correction (Baran)</td>\n      <td>0.935506</td>\n      <td>0.934434</td>\n      <td>0.934970</td>\n    </tr>\n    <tr>\n      <th>56</th>\n      <td>Error Detection (Raha)</td>\n      <td>0.978466</td>\n      <td>1.000000</td>\n      <td>0.989116</td>\n    </tr>\n    <tr>\n      <th>57</th>\n      <td>Error Correction (Baran)</td>\n      <td>0.977096</td>\n      <td>0.919303</td>\n      <td>0.947319</td>\n    </tr>\n    <tr>\n      <th>58</th>\n      <td>Error Detection (Raha)</td>\n      <td>0.998398</td>\n      <td>1.000000</td>\n      <td>0.999198</td>\n    </tr>\n    <tr>\n      <th>59</th>\n      <td>Error Correction (Baran)</td>\n      <td>0.892047</td>\n      <td>0.856259</td>\n      <td>0.873786</td>\n    </tr>\n  </tbody>\n</table>\n</div>"
     },
     "metadata": {},
     "output_type": "display_data"
    },
    {
     "data": {
      "text/plain": "                         Precision                                  Recall  \\\n                              mean       std       min       max      mean   \nTask                                                                         \nError Correction (Baran)  0.955814  0.032254  0.877043  0.988923  0.936986   \nError Detection (Raha)    0.995305  0.007445  0.978466  1.000000  0.998517   \n\n                                                        F1 Score            \\\n                               std       min       max      mean       std   \nTask                                                                         \nError Correction (Baran)  0.041836  0.848693  0.977762  0.946226  0.036518   \nError Detection (Raha)    0.005180  0.974094  1.000000  0.996894  0.005180   \n\n                                              \n                               min       max  \nTask                                          \nError Correction (Baran)  0.862635  0.978323  \nError Detection (Raha)    0.976782  1.000000  ",
      "text/html": "<div>\n<style scoped>\n    .dataframe tbody tr th:only-of-type {\n        vertical-align: middle;\n    }\n\n    .dataframe tbody tr th {\n        vertical-align: top;\n    }\n\n    .dataframe thead tr th {\n        text-align: left;\n    }\n\n    .dataframe thead tr:last-of-type th {\n        text-align: right;\n    }\n</style>\n<table border=\"1\" class=\"dataframe\">\n  <thead>\n    <tr>\n      <th></th>\n      <th colspan=\"4\" halign=\"left\">Precision</th>\n      <th colspan=\"4\" halign=\"left\">Recall</th>\n      <th colspan=\"4\" halign=\"left\">F1 Score</th>\n    </tr>\n    <tr>\n      <th></th>\n      <th>mean</th>\n      <th>std</th>\n      <th>min</th>\n      <th>max</th>\n      <th>mean</th>\n      <th>std</th>\n      <th>min</th>\n      <th>max</th>\n      <th>mean</th>\n      <th>std</th>\n      <th>min</th>\n      <th>max</th>\n    </tr>\n    <tr>\n      <th>Task</th>\n      <th></th>\n      <th></th>\n      <th></th>\n      <th></th>\n      <th></th>\n      <th></th>\n      <th></th>\n      <th></th>\n      <th></th>\n      <th></th>\n      <th></th>\n      <th></th>\n    </tr>\n  </thead>\n  <tbody>\n    <tr>\n      <th>Error Correction (Baran)</th>\n      <td>0.955814</td>\n      <td>0.032254</td>\n      <td>0.877043</td>\n      <td>0.988923</td>\n      <td>0.936986</td>\n      <td>0.041836</td>\n      <td>0.848693</td>\n      <td>0.977762</td>\n      <td>0.946226</td>\n      <td>0.036518</td>\n      <td>0.862635</td>\n      <td>0.978323</td>\n    </tr>\n    <tr>\n      <th>Error Detection (Raha)</th>\n      <td>0.995305</td>\n      <td>0.007445</td>\n      <td>0.978466</td>\n      <td>1.000000</td>\n      <td>0.998517</td>\n      <td>0.005180</td>\n      <td>0.974094</td>\n      <td>1.000000</td>\n      <td>0.996894</td>\n      <td>0.005180</td>\n      <td>0.976782</td>\n      <td>1.000000</td>\n    </tr>\n  </tbody>\n</table>\n</div>"
     },
     "execution_count": 3,
     "metadata": {},
     "output_type": "execute_result"
    }
   ],
   "source": [
    "evaluation_df = pandas.DataFrame(columns=[\"Task\", \"Precision\", \"Recall\", \"F1 Score\"])\n",
    "\n",
    "for d in datasets:\n",
    "    edp, edr, edf = d.get_data_cleaning_evaluation(d.detected_cells)[:3]\n",
    "    ecp, ecr, ecf = d.get_data_cleaning_evaluation(d.corrected_cells)[-3:]\n",
    "\n",
    "    evaluation_df = evaluation_df.append({\"Task\": \"Error Detection (Raha)\", \"Precision\": edp,\n",
    "                                          \"Recall\": edr, \"F1 Score\": edf}, ignore_index=True)\n",
    "    evaluation_df = evaluation_df.append({\"Task\": \"Error Correction (Baran)\", \"Precision\": ecp,\n",
    "                                          \"Recall\": ecr, \"F1 Score\": ecf}, ignore_index=True)\n",
    "display(evaluation_df)\n",
    "\n",
    "evaluation_df.groupby(\"Task\").agg([\"mean\", \"std\", \"min\", \"max\"])"
   ]
  },
  {
   "cell_type": "markdown",
   "source": [
    "## Analyze the alternative repairs"
   ],
   "metadata": {
    "collapsed": false,
    "pycharm": {
     "name": "#%% md\n"
    }
   }
  },
  {
   "cell_type": "code",
   "execution_count": 13,
   "outputs": [
    {
     "data": {
      "text/plain": "        1       2      3      4     5     6     7     8    9    10   11    12  \\\n0   2935.0  1133.0  180.0   48.0   9.0   2.0   4.0   0.0  0.0  0.0  0.0   0.0   \n1   3521.0   637.0   40.0    4.0   1.0   0.0   0.0   0.0  0.0  0.0  0.0   0.0   \n2   2952.0  1214.0   30.0    4.0   2.0   0.0   2.0   0.0  0.0  0.0  0.0   0.0   \n3   2955.0  1193.0   29.0    3.0   2.0   0.0   0.0   0.0  0.0  0.0  0.0   0.0   \n4   3191.0   795.0  149.0  114.0  42.0  13.0   7.0   0.0  0.0  0.0  0.0   0.0   \n5   3073.0   978.0   77.0   26.0  14.0   5.0   2.0   0.0  0.0  0.0  0.0   0.0   \n6   3206.0   748.0  154.0  108.0  58.0  20.0   6.0   0.0  1.0  0.0  0.0   0.0   \n7   3187.0   781.0  113.0   57.0  41.0  27.0  14.0   2.0  0.0  0.0  0.0   0.0   \n8   2031.0  2120.0  122.0   17.0   6.0   3.0   1.0   0.0  0.0  0.0  0.0   0.0   \n9   3058.0   996.0  231.0   32.0   2.0   0.0   0.0   0.0  0.0  0.0  0.0   0.0   \n10  2607.0  1527.0  130.0   25.0   7.0   0.0   1.0   0.0  0.0  0.0  0.0   0.0   \n11  2402.0  1703.0   77.0   18.0   7.0   1.0   0.0   0.0  0.0  0.0  0.0   0.0   \n12  3324.0   765.0  100.0   33.0   8.0   9.0   0.0   2.0  2.0  0.0  0.0   0.0   \n13  3297.0   765.0  145.0   59.0  13.0   0.0   0.0   0.0  0.0  0.0  0.0   0.0   \n14  3111.0   901.0   42.0   10.0   0.0   0.0   0.0   0.0  0.0  0.0  0.0   0.0   \n15  3465.0   577.0   84.0   23.0  14.0   6.0   5.0   1.0  0.0  0.0  0.0   0.0   \n16  2956.0  1134.0  144.0   55.0   3.0   0.0   0.0   0.0  0.0  0.0  0.0   0.0   \n17  3947.0   220.0   22.0    6.0   1.0   0.0   0.0   0.0  0.0  0.0  0.0   0.0   \n18  2787.0  1077.0  150.0  139.0  91.0  42.0  14.0   7.0  3.0  1.0  0.0   0.0   \n19  3167.0   870.0  130.0   78.0  25.0  13.0   8.0   3.0  0.0  0.0  0.0   0.0   \n20  3303.0   766.0   74.0   13.0  13.0  10.0   3.0   0.0  0.0  0.0  0.0   0.0   \n21  3807.0   336.0   68.0   30.0  10.0   1.0   0.0   0.0  0.0  0.0  0.0   0.0   \n22  3184.0   907.0  118.0   34.0  19.0  16.0   4.0   3.0  0.0  0.0  0.0   0.0   \n23  3288.0   944.0   49.0   16.0   6.0   5.0   0.0   1.0  0.0  0.0  0.0   0.0   \n24  3582.0   431.0   29.0    6.0   0.0   1.0   0.0   0.0  0.0  0.0  0.0   0.0   \n25  3172.0   973.0   40.0    9.0   9.0  10.0  20.0   7.0  4.0  2.0  8.0   0.0   \n26  2232.0  1923.0  112.0   30.0   6.0   6.0   1.0   0.0  0.0  0.0  0.0   0.0   \n27  2897.0  1119.0   92.0   69.0  29.0  20.0  10.0  13.0  2.0  3.0  5.0  13.0   \n28  2449.0  1572.0   38.0    3.0   0.0   0.0   0.0   0.0  0.0  0.0  0.0   0.0   \n29  3360.0   717.0   59.0   11.0   3.0   1.0   1.0   0.0  0.0  0.0  0.0   0.0   \n\n      13   14    15   16   17  \n0    0.0  0.0   0.0  0.0  0.0  \n1    0.0  0.0   0.0  0.0  0.0  \n2    0.0  0.0   0.0  0.0  0.0  \n3    0.0  0.0   0.0  0.0  0.0  \n4    0.0  0.0   0.0  0.0  0.0  \n5    0.0  0.0   0.0  0.0  0.0  \n6    0.0  0.0   0.0  0.0  0.0  \n7    0.0  0.0   0.0  0.0  0.0  \n8    0.0  0.0   0.0  0.0  0.0  \n9    0.0  0.0   0.0  0.0  0.0  \n10   0.0  0.0   0.0  0.0  0.0  \n11   0.0  0.0   0.0  0.0  0.0  \n12   0.0  0.0   0.0  0.0  0.0  \n13   0.0  0.0   0.0  0.0  0.0  \n14   0.0  0.0   0.0  0.0  0.0  \n15   0.0  0.0   0.0  0.0  0.0  \n16   0.0  0.0   0.0  0.0  0.0  \n17   0.0  0.0   0.0  0.0  0.0  \n18   0.0  0.0   0.0  0.0  0.0  \n19   0.0  0.0   0.0  0.0  0.0  \n20   0.0  0.0   0.0  0.0  0.0  \n21   0.0  0.0   0.0  0.0  0.0  \n22   0.0  0.0   0.0  0.0  0.0  \n23   0.0  0.0   0.0  0.0  0.0  \n24   0.0  0.0   0.0  0.0  0.0  \n25   1.0  0.0   0.0  0.0  0.0  \n26   0.0  0.0   0.0  0.0  0.0  \n27  13.0  8.0  12.0  2.0  6.0  \n28   0.0  0.0   0.0  0.0  0.0  \n29   0.0  0.0   0.0  0.0  0.0  ",
      "text/html": "<div>\n<style scoped>\n    .dataframe tbody tr th:only-of-type {\n        vertical-align: middle;\n    }\n\n    .dataframe tbody tr th {\n        vertical-align: top;\n    }\n\n    .dataframe thead th {\n        text-align: right;\n    }\n</style>\n<table border=\"1\" class=\"dataframe\">\n  <thead>\n    <tr style=\"text-align: right;\">\n      <th></th>\n      <th>1</th>\n      <th>2</th>\n      <th>3</th>\n      <th>4</th>\n      <th>5</th>\n      <th>6</th>\n      <th>7</th>\n      <th>8</th>\n      <th>9</th>\n      <th>10</th>\n      <th>11</th>\n      <th>12</th>\n      <th>13</th>\n      <th>14</th>\n      <th>15</th>\n      <th>16</th>\n      <th>17</th>\n    </tr>\n  </thead>\n  <tbody>\n    <tr>\n      <th>0</th>\n      <td>2935.0</td>\n      <td>1133.0</td>\n      <td>180.0</td>\n      <td>48.0</td>\n      <td>9.0</td>\n      <td>2.0</td>\n      <td>4.0</td>\n      <td>0.0</td>\n      <td>0.0</td>\n      <td>0.0</td>\n      <td>0.0</td>\n      <td>0.0</td>\n      <td>0.0</td>\n      <td>0.0</td>\n      <td>0.0</td>\n      <td>0.0</td>\n      <td>0.0</td>\n    </tr>\n    <tr>\n      <th>1</th>\n      <td>3521.0</td>\n      <td>637.0</td>\n      <td>40.0</td>\n      <td>4.0</td>\n      <td>1.0</td>\n      <td>0.0</td>\n      <td>0.0</td>\n      <td>0.0</td>\n      <td>0.0</td>\n      <td>0.0</td>\n      <td>0.0</td>\n      <td>0.0</td>\n      <td>0.0</td>\n      <td>0.0</td>\n      <td>0.0</td>\n      <td>0.0</td>\n      <td>0.0</td>\n    </tr>\n    <tr>\n      <th>2</th>\n      <td>2952.0</td>\n      <td>1214.0</td>\n      <td>30.0</td>\n      <td>4.0</td>\n      <td>2.0</td>\n      <td>0.0</td>\n      <td>2.0</td>\n      <td>0.0</td>\n      <td>0.0</td>\n      <td>0.0</td>\n      <td>0.0</td>\n      <td>0.0</td>\n      <td>0.0</td>\n      <td>0.0</td>\n      <td>0.0</td>\n      <td>0.0</td>\n      <td>0.0</td>\n    </tr>\n    <tr>\n      <th>3</th>\n      <td>2955.0</td>\n      <td>1193.0</td>\n      <td>29.0</td>\n      <td>3.0</td>\n      <td>2.0</td>\n      <td>0.0</td>\n      <td>0.0</td>\n      <td>0.0</td>\n      <td>0.0</td>\n      <td>0.0</td>\n      <td>0.0</td>\n      <td>0.0</td>\n      <td>0.0</td>\n      <td>0.0</td>\n      <td>0.0</td>\n      <td>0.0</td>\n      <td>0.0</td>\n    </tr>\n    <tr>\n      <th>4</th>\n      <td>3191.0</td>\n      <td>795.0</td>\n      <td>149.0</td>\n      <td>114.0</td>\n      <td>42.0</td>\n      <td>13.0</td>\n      <td>7.0</td>\n      <td>0.0</td>\n      <td>0.0</td>\n      <td>0.0</td>\n      <td>0.0</td>\n      <td>0.0</td>\n      <td>0.0</td>\n      <td>0.0</td>\n      <td>0.0</td>\n      <td>0.0</td>\n      <td>0.0</td>\n    </tr>\n    <tr>\n      <th>5</th>\n      <td>3073.0</td>\n      <td>978.0</td>\n      <td>77.0</td>\n      <td>26.0</td>\n      <td>14.0</td>\n      <td>5.0</td>\n      <td>2.0</td>\n      <td>0.0</td>\n      <td>0.0</td>\n      <td>0.0</td>\n      <td>0.0</td>\n      <td>0.0</td>\n      <td>0.0</td>\n      <td>0.0</td>\n      <td>0.0</td>\n      <td>0.0</td>\n      <td>0.0</td>\n    </tr>\n    <tr>\n      <th>6</th>\n      <td>3206.0</td>\n      <td>748.0</td>\n      <td>154.0</td>\n      <td>108.0</td>\n      <td>58.0</td>\n      <td>20.0</td>\n      <td>6.0</td>\n      <td>0.0</td>\n      <td>1.0</td>\n      <td>0.0</td>\n      <td>0.0</td>\n      <td>0.0</td>\n      <td>0.0</td>\n      <td>0.0</td>\n      <td>0.0</td>\n      <td>0.0</td>\n      <td>0.0</td>\n    </tr>\n    <tr>\n      <th>7</th>\n      <td>3187.0</td>\n      <td>781.0</td>\n      <td>113.0</td>\n      <td>57.0</td>\n      <td>41.0</td>\n      <td>27.0</td>\n      <td>14.0</td>\n      <td>2.0</td>\n      <td>0.0</td>\n      <td>0.0</td>\n      <td>0.0</td>\n      <td>0.0</td>\n      <td>0.0</td>\n      <td>0.0</td>\n      <td>0.0</td>\n      <td>0.0</td>\n      <td>0.0</td>\n    </tr>\n    <tr>\n      <th>8</th>\n      <td>2031.0</td>\n      <td>2120.0</td>\n      <td>122.0</td>\n      <td>17.0</td>\n      <td>6.0</td>\n      <td>3.0</td>\n      <td>1.0</td>\n      <td>0.0</td>\n      <td>0.0</td>\n      <td>0.0</td>\n      <td>0.0</td>\n      <td>0.0</td>\n      <td>0.0</td>\n      <td>0.0</td>\n      <td>0.0</td>\n      <td>0.0</td>\n      <td>0.0</td>\n    </tr>\n    <tr>\n      <th>9</th>\n      <td>3058.0</td>\n      <td>996.0</td>\n      <td>231.0</td>\n      <td>32.0</td>\n      <td>2.0</td>\n      <td>0.0</td>\n      <td>0.0</td>\n      <td>0.0</td>\n      <td>0.0</td>\n      <td>0.0</td>\n      <td>0.0</td>\n      <td>0.0</td>\n      <td>0.0</td>\n      <td>0.0</td>\n      <td>0.0</td>\n      <td>0.0</td>\n      <td>0.0</td>\n    </tr>\n    <tr>\n      <th>10</th>\n      <td>2607.0</td>\n      <td>1527.0</td>\n      <td>130.0</td>\n      <td>25.0</td>\n      <td>7.0</td>\n      <td>0.0</td>\n      <td>1.0</td>\n      <td>0.0</td>\n      <td>0.0</td>\n      <td>0.0</td>\n      <td>0.0</td>\n      <td>0.0</td>\n      <td>0.0</td>\n      <td>0.0</td>\n      <td>0.0</td>\n      <td>0.0</td>\n      <td>0.0</td>\n    </tr>\n    <tr>\n      <th>11</th>\n      <td>2402.0</td>\n      <td>1703.0</td>\n      <td>77.0</td>\n      <td>18.0</td>\n      <td>7.0</td>\n      <td>1.0</td>\n      <td>0.0</td>\n      <td>0.0</td>\n      <td>0.0</td>\n      <td>0.0</td>\n      <td>0.0</td>\n      <td>0.0</td>\n      <td>0.0</td>\n      <td>0.0</td>\n      <td>0.0</td>\n      <td>0.0</td>\n      <td>0.0</td>\n    </tr>\n    <tr>\n      <th>12</th>\n      <td>3324.0</td>\n      <td>765.0</td>\n      <td>100.0</td>\n      <td>33.0</td>\n      <td>8.0</td>\n      <td>9.0</td>\n      <td>0.0</td>\n      <td>2.0</td>\n      <td>2.0</td>\n      <td>0.0</td>\n      <td>0.0</td>\n      <td>0.0</td>\n      <td>0.0</td>\n      <td>0.0</td>\n      <td>0.0</td>\n      <td>0.0</td>\n      <td>0.0</td>\n    </tr>\n    <tr>\n      <th>13</th>\n      <td>3297.0</td>\n      <td>765.0</td>\n      <td>145.0</td>\n      <td>59.0</td>\n      <td>13.0</td>\n      <td>0.0</td>\n      <td>0.0</td>\n      <td>0.0</td>\n      <td>0.0</td>\n      <td>0.0</td>\n      <td>0.0</td>\n      <td>0.0</td>\n      <td>0.0</td>\n      <td>0.0</td>\n      <td>0.0</td>\n      <td>0.0</td>\n      <td>0.0</td>\n    </tr>\n    <tr>\n      <th>14</th>\n      <td>3111.0</td>\n      <td>901.0</td>\n      <td>42.0</td>\n      <td>10.0</td>\n      <td>0.0</td>\n      <td>0.0</td>\n      <td>0.0</td>\n      <td>0.0</td>\n      <td>0.0</td>\n      <td>0.0</td>\n      <td>0.0</td>\n      <td>0.0</td>\n      <td>0.0</td>\n      <td>0.0</td>\n      <td>0.0</td>\n      <td>0.0</td>\n      <td>0.0</td>\n    </tr>\n    <tr>\n      <th>15</th>\n      <td>3465.0</td>\n      <td>577.0</td>\n      <td>84.0</td>\n      <td>23.0</td>\n      <td>14.0</td>\n      <td>6.0</td>\n      <td>5.0</td>\n      <td>1.0</td>\n      <td>0.0</td>\n      <td>0.0</td>\n      <td>0.0</td>\n      <td>0.0</td>\n      <td>0.0</td>\n      <td>0.0</td>\n      <td>0.0</td>\n      <td>0.0</td>\n      <td>0.0</td>\n    </tr>\n    <tr>\n      <th>16</th>\n      <td>2956.0</td>\n      <td>1134.0</td>\n      <td>144.0</td>\n      <td>55.0</td>\n      <td>3.0</td>\n      <td>0.0</td>\n      <td>0.0</td>\n      <td>0.0</td>\n      <td>0.0</td>\n      <td>0.0</td>\n      <td>0.0</td>\n      <td>0.0</td>\n      <td>0.0</td>\n      <td>0.0</td>\n      <td>0.0</td>\n      <td>0.0</td>\n      <td>0.0</td>\n    </tr>\n    <tr>\n      <th>17</th>\n      <td>3947.0</td>\n      <td>220.0</td>\n      <td>22.0</td>\n      <td>6.0</td>\n      <td>1.0</td>\n      <td>0.0</td>\n      <td>0.0</td>\n      <td>0.0</td>\n      <td>0.0</td>\n      <td>0.0</td>\n      <td>0.0</td>\n      <td>0.0</td>\n      <td>0.0</td>\n      <td>0.0</td>\n      <td>0.0</td>\n      <td>0.0</td>\n      <td>0.0</td>\n    </tr>\n    <tr>\n      <th>18</th>\n      <td>2787.0</td>\n      <td>1077.0</td>\n      <td>150.0</td>\n      <td>139.0</td>\n      <td>91.0</td>\n      <td>42.0</td>\n      <td>14.0</td>\n      <td>7.0</td>\n      <td>3.0</td>\n      <td>1.0</td>\n      <td>0.0</td>\n      <td>0.0</td>\n      <td>0.0</td>\n      <td>0.0</td>\n      <td>0.0</td>\n      <td>0.0</td>\n      <td>0.0</td>\n    </tr>\n    <tr>\n      <th>19</th>\n      <td>3167.0</td>\n      <td>870.0</td>\n      <td>130.0</td>\n      <td>78.0</td>\n      <td>25.0</td>\n      <td>13.0</td>\n      <td>8.0</td>\n      <td>3.0</td>\n      <td>0.0</td>\n      <td>0.0</td>\n      <td>0.0</td>\n      <td>0.0</td>\n      <td>0.0</td>\n      <td>0.0</td>\n      <td>0.0</td>\n      <td>0.0</td>\n      <td>0.0</td>\n    </tr>\n    <tr>\n      <th>20</th>\n      <td>3303.0</td>\n      <td>766.0</td>\n      <td>74.0</td>\n      <td>13.0</td>\n      <td>13.0</td>\n      <td>10.0</td>\n      <td>3.0</td>\n      <td>0.0</td>\n      <td>0.0</td>\n      <td>0.0</td>\n      <td>0.0</td>\n      <td>0.0</td>\n      <td>0.0</td>\n      <td>0.0</td>\n      <td>0.0</td>\n      <td>0.0</td>\n      <td>0.0</td>\n    </tr>\n    <tr>\n      <th>21</th>\n      <td>3807.0</td>\n      <td>336.0</td>\n      <td>68.0</td>\n      <td>30.0</td>\n      <td>10.0</td>\n      <td>1.0</td>\n      <td>0.0</td>\n      <td>0.0</td>\n      <td>0.0</td>\n      <td>0.0</td>\n      <td>0.0</td>\n      <td>0.0</td>\n      <td>0.0</td>\n      <td>0.0</td>\n      <td>0.0</td>\n      <td>0.0</td>\n      <td>0.0</td>\n    </tr>\n    <tr>\n      <th>22</th>\n      <td>3184.0</td>\n      <td>907.0</td>\n      <td>118.0</td>\n      <td>34.0</td>\n      <td>19.0</td>\n      <td>16.0</td>\n      <td>4.0</td>\n      <td>3.0</td>\n      <td>0.0</td>\n      <td>0.0</td>\n      <td>0.0</td>\n      <td>0.0</td>\n      <td>0.0</td>\n      <td>0.0</td>\n      <td>0.0</td>\n      <td>0.0</td>\n      <td>0.0</td>\n    </tr>\n    <tr>\n      <th>23</th>\n      <td>3288.0</td>\n      <td>944.0</td>\n      <td>49.0</td>\n      <td>16.0</td>\n      <td>6.0</td>\n      <td>5.0</td>\n      <td>0.0</td>\n      <td>1.0</td>\n      <td>0.0</td>\n      <td>0.0</td>\n      <td>0.0</td>\n      <td>0.0</td>\n      <td>0.0</td>\n      <td>0.0</td>\n      <td>0.0</td>\n      <td>0.0</td>\n      <td>0.0</td>\n    </tr>\n    <tr>\n      <th>24</th>\n      <td>3582.0</td>\n      <td>431.0</td>\n      <td>29.0</td>\n      <td>6.0</td>\n      <td>0.0</td>\n      <td>1.0</td>\n      <td>0.0</td>\n      <td>0.0</td>\n      <td>0.0</td>\n      <td>0.0</td>\n      <td>0.0</td>\n      <td>0.0</td>\n      <td>0.0</td>\n      <td>0.0</td>\n      <td>0.0</td>\n      <td>0.0</td>\n      <td>0.0</td>\n    </tr>\n    <tr>\n      <th>25</th>\n      <td>3172.0</td>\n      <td>973.0</td>\n      <td>40.0</td>\n      <td>9.0</td>\n      <td>9.0</td>\n      <td>10.0</td>\n      <td>20.0</td>\n      <td>7.0</td>\n      <td>4.0</td>\n      <td>2.0</td>\n      <td>8.0</td>\n      <td>0.0</td>\n      <td>1.0</td>\n      <td>0.0</td>\n      <td>0.0</td>\n      <td>0.0</td>\n      <td>0.0</td>\n    </tr>\n    <tr>\n      <th>26</th>\n      <td>2232.0</td>\n      <td>1923.0</td>\n      <td>112.0</td>\n      <td>30.0</td>\n      <td>6.0</td>\n      <td>6.0</td>\n      <td>1.0</td>\n      <td>0.0</td>\n      <td>0.0</td>\n      <td>0.0</td>\n      <td>0.0</td>\n      <td>0.0</td>\n      <td>0.0</td>\n      <td>0.0</td>\n      <td>0.0</td>\n      <td>0.0</td>\n      <td>0.0</td>\n    </tr>\n    <tr>\n      <th>27</th>\n      <td>2897.0</td>\n      <td>1119.0</td>\n      <td>92.0</td>\n      <td>69.0</td>\n      <td>29.0</td>\n      <td>20.0</td>\n      <td>10.0</td>\n      <td>13.0</td>\n      <td>2.0</td>\n      <td>3.0</td>\n      <td>5.0</td>\n      <td>13.0</td>\n      <td>13.0</td>\n      <td>8.0</td>\n      <td>12.0</td>\n      <td>2.0</td>\n      <td>6.0</td>\n    </tr>\n    <tr>\n      <th>28</th>\n      <td>2449.0</td>\n      <td>1572.0</td>\n      <td>38.0</td>\n      <td>3.0</td>\n      <td>0.0</td>\n      <td>0.0</td>\n      <td>0.0</td>\n      <td>0.0</td>\n      <td>0.0</td>\n      <td>0.0</td>\n      <td>0.0</td>\n      <td>0.0</td>\n      <td>0.0</td>\n      <td>0.0</td>\n      <td>0.0</td>\n      <td>0.0</td>\n      <td>0.0</td>\n    </tr>\n    <tr>\n      <th>29</th>\n      <td>3360.0</td>\n      <td>717.0</td>\n      <td>59.0</td>\n      <td>11.0</td>\n      <td>3.0</td>\n      <td>1.0</td>\n      <td>1.0</td>\n      <td>0.0</td>\n      <td>0.0</td>\n      <td>0.0</td>\n      <td>0.0</td>\n      <td>0.0</td>\n      <td>0.0</td>\n      <td>0.0</td>\n      <td>0.0</td>\n      <td>0.0</td>\n      <td>0.0</td>\n    </tr>\n  </tbody>\n</table>\n</div>"
     },
     "execution_count": 13,
     "metadata": {},
     "output_type": "execute_result"
    }
   ],
   "source": [
    "alternative_count_list = []\n",
    "\n",
    "for d in datasets:\n",
    "    number_of_repairs = len(d.correction_collection)\n",
    "    number_of_repairs_hist = dict()\n",
    "\n",
    "    for cell_repairs in d.correction_collection.values():\n",
    "        num = len(cell_repairs)\n",
    "        number_of_repairs_hist[num] = number_of_repairs_hist.get(num, 0) + 1\n",
    "\n",
    "    hist = [0] * (max(number_of_repairs_hist.keys()) + 1)\n",
    "    for num, count in number_of_repairs_hist.items():\n",
    "        hist[num] = count\n",
    "\n",
    "    alternative_count_list.append(number_of_repairs_hist)\n",
    "\n",
    "    #print(f\"Histogram of the number of alternative repairs: {list(enumerate(hist))}\")\n",
    "\n",
    "max_alternatives = max(max(h.keys()) for h in alternative_count_list)\n",
    "\n",
    "alternative_count_df = pandas.DataFrame(columns=list(range(max_alternatives + 1)))\n",
    "\n",
    "for hist in alternative_count_list:\n",
    "    alternative_count_df = alternative_count_df.append(hist, ignore_index=True)\n",
    "\n",
    "alternative_count_df.drop(0,axis=1,inplace=True)\n",
    "alternative_count_df = alternative_count_df.fillna(0)\n",
    "alternative_count_df"
   ],
   "metadata": {
    "collapsed": false,
    "pycharm": {
     "name": "#%%\n"
    }
   }
  },
  {
   "cell_type": "code",
   "execution_count": 14,
   "outputs": [
    {
     "data": {
      "text/plain": "mean    1.340410\nstd     0.133729\nmin     1.068160\nmax     1.618363\ndtype: float64"
     },
     "execution_count": 14,
     "metadata": {},
     "output_type": "execute_result"
    }
   ],
   "source": [
    "mean_number_of_repairs = (alternative_count_df * np.arange(1,max_alternatives+1,1)).sum(axis=1) / alternative_count_df.sum(axis=1)\n",
    "mean_number_of_repairs.agg([\"mean\", \"std\", \"min\", \"max\"])"
   ],
   "metadata": {
    "collapsed": false,
    "pycharm": {
     "name": "#%%\n"
    }
   }
  },
  {
   "cell_type": "code",
   "execution_count": 15,
   "outputs": [
    {
     "data": {
      "text/plain": "mean    0.271746\nstd     0.104996\nmin     0.059342\nmax     0.527674\ndtype: float64"
     },
     "execution_count": 15,
     "metadata": {},
     "output_type": "execute_result"
    }
   ],
   "source": [
    "more_than_one = alternative_count_df.loc[:, alternative_count_df.columns[1:]].sum(axis=1) / alternative_count_df.sum(axis=1)\n",
    "more_than_one.agg([\"mean\", \"std\", \"min\", \"max\"])"
   ],
   "metadata": {
    "collapsed": false,
    "pycharm": {
     "name": "#%%\n"
    }
   }
  },
  {
   "cell_type": "code",
   "execution_count": 16,
   "outputs": [
    {
     "name": "stdout",
     "output_type": "stream",
     "text": [
      "Mean number of cells with x predicted alternatives in 10 runs\n"
     ]
    },
    {
     "data": {
      "text/plain": "1     3081.533333\n2      994.066667\n3       94.266667\n4       36.000000\n5       14.700000\n6        7.033333\n7        3.433333\n8        1.300000\n9        0.400000\n10       0.200000\n11       0.433333\n12       0.433333\n13       0.466667\n14       0.266667\n15       0.400000\n16       0.066667\n17       0.200000\ndtype: float64"
     },
     "execution_count": 16,
     "metadata": {},
     "output_type": "execute_result"
    }
   ],
   "source": [
    "print(\"Mean number of cells with x predicted alternatives in 10 runs\")\n",
    "mean_count_series = alternative_count_df.mean()\n",
    "mean_count_series"
   ],
   "metadata": {
    "collapsed": false,
    "pycharm": {
     "name": "#%%\n"
    }
   }
  },
  {
   "cell_type": "code",
   "execution_count": 17,
   "outputs": [
    {
     "data": {
      "text/plain": "           repairs      alt_all   alt_rate      errors  error_rate  \\\ncount    30.000000    30.000000  30.000000   30.000000   30.000000   \nmean   4235.200000  1153.666667   0.271746  187.800000    0.044179   \nstd      79.608698   452.108343   0.104996  135.054625    0.032259   \nmin    4049.000000   249.000000   0.059342   47.000000    0.011077   \n25%    4185.500000   927.500000   0.219817   96.250000    0.022844   \n50%    4253.500000  1101.500000   0.258372  121.500000    0.027975   \n75%    4300.750000  1366.000000   0.317207  279.750000    0.065245   \nmax    4319.000000  2269.000000   0.527674  519.000000    0.122957   \n\n       wrong_detection  alt_if_error  correct_in_alt  highest_alternative  \\\ncount        30.000000     30.000000       30.000000            30.000000   \nmean          0.033333    110.000000       51.433333            43.200000   \nstd           0.182574     91.207229       71.140310            55.152078   \nmin           0.000000     11.000000        0.000000             0.000000   \n25%           0.000000     46.250000        8.500000             7.500000   \n50%           0.000000     75.000000       23.500000            22.500000   \n75%           0.000000    149.000000       43.250000            41.250000   \nmax           1.000000    363.000000      297.000000           211.000000   \n\n       only_alternative  higher_chosen  error_alt_avail  correct_alt_avail  \\\ncount          30.00000      30.000000        30.000000          30.000000   \nmean           32.30000       8.133333         0.567650           0.225194   \nstd            42.90338      26.867149         0.180665           0.181632   \nmin             0.00000       0.000000         0.104762           0.000000   \n25%             6.50000       0.000000         0.478266           0.083777   \n50%            20.50000       0.000000         0.552112           0.176458   \n75%            39.75000       3.000000         0.689205           0.346151   \nmax           207.00000     143.000000         0.933162           0.763496   \n\n       highest_if_avail  only_if_avail  highest_if_error  highest_is_correct  \\\ncount         29.000000      29.000000         30.000000           30.000000   \nmean           0.886381       0.745045          0.197501            0.047233   \nstd            0.162390       0.259461          0.147976            0.069610   \nmin            0.250000       0.239521          0.000000            0.000000   \n25%            0.812500       0.656250          0.074848            0.008744   \n50%            0.946429       0.833333          0.154906            0.018695   \n75%            1.000000       0.949275          0.302477            0.041145   \nmax            1.000000       1.000000          0.543814            0.284797   \n\n       higher_percentage  \ncount          30.000000  \nmean            0.026658  \nstd             0.066765  \nmin             0.000000  \n25%             0.000000  \n50%             0.000000  \n75%             0.020159  \nmax             0.344578  ",
      "text/html": "<div>\n<style scoped>\n    .dataframe tbody tr th:only-of-type {\n        vertical-align: middle;\n    }\n\n    .dataframe tbody tr th {\n        vertical-align: top;\n    }\n\n    .dataframe thead th {\n        text-align: right;\n    }\n</style>\n<table border=\"1\" class=\"dataframe\">\n  <thead>\n    <tr style=\"text-align: right;\">\n      <th></th>\n      <th>repairs</th>\n      <th>alt_all</th>\n      <th>alt_rate</th>\n      <th>errors</th>\n      <th>error_rate</th>\n      <th>wrong_detection</th>\n      <th>alt_if_error</th>\n      <th>correct_in_alt</th>\n      <th>highest_alternative</th>\n      <th>only_alternative</th>\n      <th>higher_chosen</th>\n      <th>error_alt_avail</th>\n      <th>correct_alt_avail</th>\n      <th>highest_if_avail</th>\n      <th>only_if_avail</th>\n      <th>highest_if_error</th>\n      <th>highest_is_correct</th>\n      <th>higher_percentage</th>\n    </tr>\n  </thead>\n  <tbody>\n    <tr>\n      <th>count</th>\n      <td>30.000000</td>\n      <td>30.000000</td>\n      <td>30.000000</td>\n      <td>30.000000</td>\n      <td>30.000000</td>\n      <td>30.000000</td>\n      <td>30.000000</td>\n      <td>30.000000</td>\n      <td>30.000000</td>\n      <td>30.00000</td>\n      <td>30.000000</td>\n      <td>30.000000</td>\n      <td>30.000000</td>\n      <td>29.000000</td>\n      <td>29.000000</td>\n      <td>30.000000</td>\n      <td>30.000000</td>\n      <td>30.000000</td>\n    </tr>\n    <tr>\n      <th>mean</th>\n      <td>4235.200000</td>\n      <td>1153.666667</td>\n      <td>0.271746</td>\n      <td>187.800000</td>\n      <td>0.044179</td>\n      <td>0.033333</td>\n      <td>110.000000</td>\n      <td>51.433333</td>\n      <td>43.200000</td>\n      <td>32.30000</td>\n      <td>8.133333</td>\n      <td>0.567650</td>\n      <td>0.225194</td>\n      <td>0.886381</td>\n      <td>0.745045</td>\n      <td>0.197501</td>\n      <td>0.047233</td>\n      <td>0.026658</td>\n    </tr>\n    <tr>\n      <th>std</th>\n      <td>79.608698</td>\n      <td>452.108343</td>\n      <td>0.104996</td>\n      <td>135.054625</td>\n      <td>0.032259</td>\n      <td>0.182574</td>\n      <td>91.207229</td>\n      <td>71.140310</td>\n      <td>55.152078</td>\n      <td>42.90338</td>\n      <td>26.867149</td>\n      <td>0.180665</td>\n      <td>0.181632</td>\n      <td>0.162390</td>\n      <td>0.259461</td>\n      <td>0.147976</td>\n      <td>0.069610</td>\n      <td>0.066765</td>\n    </tr>\n    <tr>\n      <th>min</th>\n      <td>4049.000000</td>\n      <td>249.000000</td>\n      <td>0.059342</td>\n      <td>47.000000</td>\n      <td>0.011077</td>\n      <td>0.000000</td>\n      <td>11.000000</td>\n      <td>0.000000</td>\n      <td>0.000000</td>\n      <td>0.00000</td>\n      <td>0.000000</td>\n      <td>0.104762</td>\n      <td>0.000000</td>\n      <td>0.250000</td>\n      <td>0.239521</td>\n      <td>0.000000</td>\n      <td>0.000000</td>\n      <td>0.000000</td>\n    </tr>\n    <tr>\n      <th>25%</th>\n      <td>4185.500000</td>\n      <td>927.500000</td>\n      <td>0.219817</td>\n      <td>96.250000</td>\n      <td>0.022844</td>\n      <td>0.000000</td>\n      <td>46.250000</td>\n      <td>8.500000</td>\n      <td>7.500000</td>\n      <td>6.50000</td>\n      <td>0.000000</td>\n      <td>0.478266</td>\n      <td>0.083777</td>\n      <td>0.812500</td>\n      <td>0.656250</td>\n      <td>0.074848</td>\n      <td>0.008744</td>\n      <td>0.000000</td>\n    </tr>\n    <tr>\n      <th>50%</th>\n      <td>4253.500000</td>\n      <td>1101.500000</td>\n      <td>0.258372</td>\n      <td>121.500000</td>\n      <td>0.027975</td>\n      <td>0.000000</td>\n      <td>75.000000</td>\n      <td>23.500000</td>\n      <td>22.500000</td>\n      <td>20.50000</td>\n      <td>0.000000</td>\n      <td>0.552112</td>\n      <td>0.176458</td>\n      <td>0.946429</td>\n      <td>0.833333</td>\n      <td>0.154906</td>\n      <td>0.018695</td>\n      <td>0.000000</td>\n    </tr>\n    <tr>\n      <th>75%</th>\n      <td>4300.750000</td>\n      <td>1366.000000</td>\n      <td>0.317207</td>\n      <td>279.750000</td>\n      <td>0.065245</td>\n      <td>0.000000</td>\n      <td>149.000000</td>\n      <td>43.250000</td>\n      <td>41.250000</td>\n      <td>39.75000</td>\n      <td>3.000000</td>\n      <td>0.689205</td>\n      <td>0.346151</td>\n      <td>1.000000</td>\n      <td>0.949275</td>\n      <td>0.302477</td>\n      <td>0.041145</td>\n      <td>0.020159</td>\n    </tr>\n    <tr>\n      <th>max</th>\n      <td>4319.000000</td>\n      <td>2269.000000</td>\n      <td>0.527674</td>\n      <td>519.000000</td>\n      <td>0.122957</td>\n      <td>1.000000</td>\n      <td>363.000000</td>\n      <td>297.000000</td>\n      <td>211.000000</td>\n      <td>207.00000</td>\n      <td>143.000000</td>\n      <td>0.933162</td>\n      <td>0.763496</td>\n      <td>1.000000</td>\n      <td>1.000000</td>\n      <td>0.543814</td>\n      <td>0.284797</td>\n      <td>0.344578</td>\n    </tr>\n  </tbody>\n</table>\n</div>"
     },
     "execution_count": 17,
     "metadata": {},
     "output_type": "execute_result"
    }
   ],
   "source": [
    "correct_repairs = datasets[0].get_actual_errors_dictionary()\n",
    "\n",
    "collection = []\n",
    "correct_repair_probs = []\n",
    "incorrect_repair_probs = []\n",
    "other_repair_probs = []\n",
    "\n",
    "for d in datasets:\n",
    "\n",
    "    wrong_detection = 0\n",
    "    alt_available_all = 0\n",
    "\n",
    "    for cell, repairs in d.correction_collection.items():\n",
    "        if cell in correct_repairs:\n",
    "            if len(repairs) > 1:\n",
    "                alt_available_all += 1\n",
    "        else:\n",
    "            wrong_detection += 1\n",
    "\n",
    "    alt_rate = alt_available_all / len(d.correction_collection)\n",
    "\n",
    "    error_repaired_cells = [cell for cell, correction in d.corrected_cells.items() if cell in correct_repairs and correction != correct_repairs[cell]]\n",
    "    #print(f\"Number of incorrectly repaired cells: {len(error_repaired_cells)}\")\n",
    "\n",
    "    error_rate = len(error_repaired_cells) / len(d.corrected_cells)\n",
    "    alt_available = 0\n",
    "    correct_repair_available = 0\n",
    "    correct_repair_only = 0\n",
    "    correct_repair_highest = 0\n",
    "    correct_repair_better_chosen = 0\n",
    "\n",
    "    for cell in error_repaired_cells:\n",
    "        assert len(d.correction_collection[cell]) > 0\n",
    "        if len(d.correction_collection[cell]) > 1:\n",
    "            alt_available += 1\n",
    "        if correct_repairs[cell] in d.correction_collection[cell].keys():\n",
    "            correct_repair_available += 1\n",
    "            other_repairs = d.correction_collection[cell].copy()\n",
    "            other_repairs.pop(d.corrected_cells[cell], None)\n",
    "            other_repairs.pop(correct_repairs[cell], None)\n",
    "            if len(other_repairs) == 0:\n",
    "                correct_repair_only += 1\n",
    "            if d.correction_collection[cell][correct_repairs[cell]] > max(list(other_repairs.values()) + [0]):\n",
    "                correct_repair_highest += 1\n",
    "                if d.correction_collection[cell][correct_repairs[cell]] > d.correction_collection[cell][d.corrected_cells[cell]]:\n",
    "                    correct_repair_better_chosen += 1\n",
    "\n",
    "    #print(f\"Number of incorrectly repaired cells, where the correct repair is among the alternative repairs: {correct_repair_available}\")\n",
    "\n",
    "    collection.append((len(d.correction_collection),\n",
    "                       alt_available_all,\n",
    "                       alt_rate,\n",
    "                       len(error_repaired_cells),\n",
    "                       error_rate,\n",
    "                       wrong_detection,\n",
    "                       alt_available,\n",
    "                       correct_repair_available,\n",
    "                       correct_repair_highest,\n",
    "                       correct_repair_only,\n",
    "                       correct_repair_better_chosen))\n",
    "\n",
    "    for cell in error_repaired_cells:\n",
    "        if correct_repairs[cell] in d.correction_collection[cell]:\n",
    "            correct_repair_probs.append(d.correction_collection[cell][correct_repairs[cell]])\n",
    "            incorrect_repair_probs.append(d.correction_confidences[cell])\n",
    "            other_repair_probs.append([prob for val, prob in d.correction_collection[cell].items()\n",
    "                                       if val not in [correct_repairs[cell], d.corrected_cells[cell]]])\n",
    "\n",
    "repairable_df = pandas.DataFrame(collection, columns=[\"repairs\",\n",
    "                                                      \"alt_all\",\n",
    "                                                      \"alt_rate\",\n",
    "                                                      \"errors\",\n",
    "                                                      \"error_rate\",\n",
    "                                                      \"wrong_detection\",\n",
    "                                                      \"alt_if_error\",\n",
    "                                                      \"correct_in_alt\",\n",
    "                                                      \"highest_alternative\",\n",
    "                                                      \"only_alternative\",\n",
    "                                                      \"higher_chosen\"])\n",
    "\n",
    "repairable_df[\"error_alt_avail\"] = repairable_df[\"alt_if_error\"] / repairable_df[\"errors\"]\n",
    "repairable_df[\"correct_alt_avail\"] = repairable_df[\"correct_in_alt\"] / repairable_df[\"errors\"]\n",
    "repairable_df[\"highest_if_avail\"] = repairable_df[\"highest_alternative\"] / repairable_df[\"correct_in_alt\"]\n",
    "repairable_df[\"only_if_avail\"] = repairable_df[\"only_alternative\"] / repairable_df[\"correct_in_alt\"]\n",
    "repairable_df[\"highest_if_error\"] = repairable_df[\"highest_alternative\"] / repairable_df[\"errors\"]\n",
    "repairable_df[\"highest_is_correct\"] = repairable_df[\"highest_alternative\"] / repairable_df[\"alt_all\"]\n",
    "repairable_df[\"higher_percentage\"] = repairable_df[\"higher_chosen\"] / repairable_df[\"errors\"]\n",
    "repairable_df.describe(percentiles=[0.25, 0.5, 0.75])"
   ],
   "metadata": {
    "collapsed": false,
    "pycharm": {
     "name": "#%%\n"
    }
   }
  },
  {
   "cell_type": "code",
   "execution_count": 18,
   "outputs": [
    {
     "data": {
      "text/plain": "    repairs  alt_all  alt_rate  errors  error_rate  wrong_detection  \\\n0      4311     1376  0.319183     103    0.023673                0   \n1      4203      682  0.162265      78    0.018379                0   \n2      4204     1252  0.297812      47    0.011077                0   \n3      4182     1227  0.293400      83    0.019650                0   \n4      4311     1120  0.259801     389    0.089425                0   \n5      4175     1102  0.263952     333    0.078873                0   \n6      4301     1095  0.254592     114    0.026267                0   \n7      4222     1035  0.245144     415    0.097349                0   \n8      4300     2269  0.527674      85    0.019590                0   \n9      4319     1261  0.291966      92    0.021115                0   \n10     4297     1690  0.393298     119    0.027445                0   \n11     4208     1806  0.429183      97    0.022824                0   \n12     4243      919  0.216592     130    0.030331                0   \n13     4279      982  0.229493     128    0.029650                0   \n14     4064      953  0.234498     388    0.094565                0   \n15     4175      710  0.170060     276    0.065496                0   \n16     4292     1336  0.311277     125    0.028848                0   \n17     4196      249  0.059342     105    0.024805                1   \n18     4311     1524  0.353514     124    0.028506                0   \n19     4294     1127  0.262459     146    0.033672                0   \n20     4182      879  0.210187     519    0.122957                0   \n21     4252      445  0.104657      84    0.019567                0   \n22     4285     1101  0.256943     116    0.026833                0   \n23     4309     1021  0.236946      96    0.022069                0   \n24     4049      467  0.115337     352    0.086253                0   \n25     4255     1083  0.254524     104    0.024220                0   \n26     4310     2078  0.482135     159    0.036569                0   \n27     4313     1416  0.328310     281    0.064494                0   \n28     4062     1613  0.397095      94    0.022904                0   \n29     4152      792  0.190751     452    0.107953                0   \n\n    alt_if_error  correct_in_alt  highest_alternative  only_alternative  \\\n0             67              15                   12                 8   \n1             43              36                   36                34   \n2             25               4                    4                 4   \n3             27               0                    0                 0   \n4            363             297                  163                79   \n5            204             136                  101                51   \n6             94              24                   24                20   \n7            291             167                  159                40   \n8             47               4                    4                 1   \n9             61               4                    4                 3   \n10            69              15                   15                10   \n11            46              15                   15                15   \n12            88              39                   39                39   \n13            63               8                    7                 6   \n14           269             216                  211               207   \n15           179             101                   80                44   \n16            93              41                   38                38   \n17            11               6                    6                 6   \n18           110              36                   29                27   \n19           103              44                   42                42   \n20           281              33                   30                28   \n21            28               7                    6                 6   \n22            61              23                   18                18   \n23            45              10                    9                 9   \n24           185             138                  133               131   \n25            51              11                   10                 9   \n26           113              56                   53                51   \n27            81              32                   26                21   \n28            41              21                   21                21   \n29           161               4                    1                 1   \n\n    higher_chosen  error_alt_avail  correct_alt_avail  highest_if_avail  \\\n0               6         0.650485           0.145631          0.800000   \n1               0         0.551282           0.461538          1.000000   \n2               1         0.531915           0.085106          1.000000   \n3               0         0.325301           0.000000               NaN   \n4               0         0.933162           0.763496          0.548822   \n5              42         0.612613           0.408408          0.742647   \n6               0         0.824561           0.210526          1.000000   \n7             143         0.701205           0.402410          0.952096   \n8               0         0.552941           0.047059          1.000000   \n9               0         0.663043           0.043478          1.000000   \n10              2         0.579832           0.126050          1.000000   \n11              0         0.474227           0.154639          1.000000   \n12              0         0.676923           0.300000          1.000000   \n13              0         0.492188           0.062500          0.875000   \n14              3         0.693299           0.556701          0.976852   \n15             21         0.648551           0.365942          0.792079   \n16              0         0.744000           0.328000          0.926829   \n17              3         0.104762           0.057143          1.000000   \n18              0         0.887097           0.290323          0.805556   \n19              0         0.705479           0.301370          0.954545   \n20              1         0.541426           0.063584          0.909091   \n21              0         0.333333           0.083333          0.857143   \n22              0         0.525862           0.198276          0.782609   \n23              1         0.468750           0.104167          0.900000   \n24              3         0.525568           0.392045          0.963768   \n25              0         0.490385           0.105769          0.909091   \n26              0         0.710692           0.352201          0.946429   \n27             13         0.288256           0.113879          0.812500   \n28              5         0.436170           0.223404          1.000000   \n29              0         0.356195           0.008850          0.250000   \n\n    only_if_avail  highest_if_error  highest_is_correct  higher_percentage  \n0        0.533333          0.116505            0.008721           0.058252  \n1        0.944444          0.461538            0.052786           0.000000  \n2        1.000000          0.085106            0.003195           0.021277  \n3             NaN          0.000000            0.000000           0.000000  \n4        0.265993          0.419023            0.145536           0.000000  \n5        0.375000          0.303303            0.091652           0.126126  \n6        0.833333          0.210526            0.021918           0.000000  \n7        0.239521          0.383133            0.153623           0.344578  \n8        0.250000          0.047059            0.001763           0.000000  \n9        0.750000          0.043478            0.003172           0.000000  \n10       0.666667          0.126050            0.008876           0.016807  \n11       1.000000          0.154639            0.008306           0.000000  \n12       1.000000          0.300000            0.042437           0.000000  \n13       0.750000          0.054688            0.007128           0.000000  \n14       0.958333          0.543814            0.221406           0.007732  \n15       0.435644          0.289855            0.112676           0.076087  \n16       0.926829          0.304000            0.028443           0.000000  \n17       1.000000          0.057143            0.024096           0.028571  \n18       0.750000          0.233871            0.019029           0.000000  \n19       0.954545          0.287671            0.037267           0.000000  \n20       0.848485          0.057803            0.034130           0.001927  \n21       0.857143          0.071429            0.013483           0.000000  \n22       0.782609          0.155172            0.016349           0.000000  \n23       0.900000          0.093750            0.008815           0.010417  \n24       0.949275          0.377841            0.284797           0.008523  \n25       0.818182          0.096154            0.009234           0.000000  \n26       0.910714          0.333333            0.025505           0.000000  \n27       0.656250          0.092527            0.018362           0.046263  \n28       1.000000          0.223404            0.013019           0.053191  \n29       0.250000          0.002212            0.001263           0.000000  ",
      "text/html": "<div>\n<style scoped>\n    .dataframe tbody tr th:only-of-type {\n        vertical-align: middle;\n    }\n\n    .dataframe tbody tr th {\n        vertical-align: top;\n    }\n\n    .dataframe thead th {\n        text-align: right;\n    }\n</style>\n<table border=\"1\" class=\"dataframe\">\n  <thead>\n    <tr style=\"text-align: right;\">\n      <th></th>\n      <th>repairs</th>\n      <th>alt_all</th>\n      <th>alt_rate</th>\n      <th>errors</th>\n      <th>error_rate</th>\n      <th>wrong_detection</th>\n      <th>alt_if_error</th>\n      <th>correct_in_alt</th>\n      <th>highest_alternative</th>\n      <th>only_alternative</th>\n      <th>higher_chosen</th>\n      <th>error_alt_avail</th>\n      <th>correct_alt_avail</th>\n      <th>highest_if_avail</th>\n      <th>only_if_avail</th>\n      <th>highest_if_error</th>\n      <th>highest_is_correct</th>\n      <th>higher_percentage</th>\n    </tr>\n  </thead>\n  <tbody>\n    <tr>\n      <th>0</th>\n      <td>4311</td>\n      <td>1376</td>\n      <td>0.319183</td>\n      <td>103</td>\n      <td>0.023673</td>\n      <td>0</td>\n      <td>67</td>\n      <td>15</td>\n      <td>12</td>\n      <td>8</td>\n      <td>6</td>\n      <td>0.650485</td>\n      <td>0.145631</td>\n      <td>0.800000</td>\n      <td>0.533333</td>\n      <td>0.116505</td>\n      <td>0.008721</td>\n      <td>0.058252</td>\n    </tr>\n    <tr>\n      <th>1</th>\n      <td>4203</td>\n      <td>682</td>\n      <td>0.162265</td>\n      <td>78</td>\n      <td>0.018379</td>\n      <td>0</td>\n      <td>43</td>\n      <td>36</td>\n      <td>36</td>\n      <td>34</td>\n      <td>0</td>\n      <td>0.551282</td>\n      <td>0.461538</td>\n      <td>1.000000</td>\n      <td>0.944444</td>\n      <td>0.461538</td>\n      <td>0.052786</td>\n      <td>0.000000</td>\n    </tr>\n    <tr>\n      <th>2</th>\n      <td>4204</td>\n      <td>1252</td>\n      <td>0.297812</td>\n      <td>47</td>\n      <td>0.011077</td>\n      <td>0</td>\n      <td>25</td>\n      <td>4</td>\n      <td>4</td>\n      <td>4</td>\n      <td>1</td>\n      <td>0.531915</td>\n      <td>0.085106</td>\n      <td>1.000000</td>\n      <td>1.000000</td>\n      <td>0.085106</td>\n      <td>0.003195</td>\n      <td>0.021277</td>\n    </tr>\n    <tr>\n      <th>3</th>\n      <td>4182</td>\n      <td>1227</td>\n      <td>0.293400</td>\n      <td>83</td>\n      <td>0.019650</td>\n      <td>0</td>\n      <td>27</td>\n      <td>0</td>\n      <td>0</td>\n      <td>0</td>\n      <td>0</td>\n      <td>0.325301</td>\n      <td>0.000000</td>\n      <td>NaN</td>\n      <td>NaN</td>\n      <td>0.000000</td>\n      <td>0.000000</td>\n      <td>0.000000</td>\n    </tr>\n    <tr>\n      <th>4</th>\n      <td>4311</td>\n      <td>1120</td>\n      <td>0.259801</td>\n      <td>389</td>\n      <td>0.089425</td>\n      <td>0</td>\n      <td>363</td>\n      <td>297</td>\n      <td>163</td>\n      <td>79</td>\n      <td>0</td>\n      <td>0.933162</td>\n      <td>0.763496</td>\n      <td>0.548822</td>\n      <td>0.265993</td>\n      <td>0.419023</td>\n      <td>0.145536</td>\n      <td>0.000000</td>\n    </tr>\n    <tr>\n      <th>5</th>\n      <td>4175</td>\n      <td>1102</td>\n      <td>0.263952</td>\n      <td>333</td>\n      <td>0.078873</td>\n      <td>0</td>\n      <td>204</td>\n      <td>136</td>\n      <td>101</td>\n      <td>51</td>\n      <td>42</td>\n      <td>0.612613</td>\n      <td>0.408408</td>\n      <td>0.742647</td>\n      <td>0.375000</td>\n      <td>0.303303</td>\n      <td>0.091652</td>\n      <td>0.126126</td>\n    </tr>\n    <tr>\n      <th>6</th>\n      <td>4301</td>\n      <td>1095</td>\n      <td>0.254592</td>\n      <td>114</td>\n      <td>0.026267</td>\n      <td>0</td>\n      <td>94</td>\n      <td>24</td>\n      <td>24</td>\n      <td>20</td>\n      <td>0</td>\n      <td>0.824561</td>\n      <td>0.210526</td>\n      <td>1.000000</td>\n      <td>0.833333</td>\n      <td>0.210526</td>\n      <td>0.021918</td>\n      <td>0.000000</td>\n    </tr>\n    <tr>\n      <th>7</th>\n      <td>4222</td>\n      <td>1035</td>\n      <td>0.245144</td>\n      <td>415</td>\n      <td>0.097349</td>\n      <td>0</td>\n      <td>291</td>\n      <td>167</td>\n      <td>159</td>\n      <td>40</td>\n      <td>143</td>\n      <td>0.701205</td>\n      <td>0.402410</td>\n      <td>0.952096</td>\n      <td>0.239521</td>\n      <td>0.383133</td>\n      <td>0.153623</td>\n      <td>0.344578</td>\n    </tr>\n    <tr>\n      <th>8</th>\n      <td>4300</td>\n      <td>2269</td>\n      <td>0.527674</td>\n      <td>85</td>\n      <td>0.019590</td>\n      <td>0</td>\n      <td>47</td>\n      <td>4</td>\n      <td>4</td>\n      <td>1</td>\n      <td>0</td>\n      <td>0.552941</td>\n      <td>0.047059</td>\n      <td>1.000000</td>\n      <td>0.250000</td>\n      <td>0.047059</td>\n      <td>0.001763</td>\n      <td>0.000000</td>\n    </tr>\n    <tr>\n      <th>9</th>\n      <td>4319</td>\n      <td>1261</td>\n      <td>0.291966</td>\n      <td>92</td>\n      <td>0.021115</td>\n      <td>0</td>\n      <td>61</td>\n      <td>4</td>\n      <td>4</td>\n      <td>3</td>\n      <td>0</td>\n      <td>0.663043</td>\n      <td>0.043478</td>\n      <td>1.000000</td>\n      <td>0.750000</td>\n      <td>0.043478</td>\n      <td>0.003172</td>\n      <td>0.000000</td>\n    </tr>\n    <tr>\n      <th>10</th>\n      <td>4297</td>\n      <td>1690</td>\n      <td>0.393298</td>\n      <td>119</td>\n      <td>0.027445</td>\n      <td>0</td>\n      <td>69</td>\n      <td>15</td>\n      <td>15</td>\n      <td>10</td>\n      <td>2</td>\n      <td>0.579832</td>\n      <td>0.126050</td>\n      <td>1.000000</td>\n      <td>0.666667</td>\n      <td>0.126050</td>\n      <td>0.008876</td>\n      <td>0.016807</td>\n    </tr>\n    <tr>\n      <th>11</th>\n      <td>4208</td>\n      <td>1806</td>\n      <td>0.429183</td>\n      <td>97</td>\n      <td>0.022824</td>\n      <td>0</td>\n      <td>46</td>\n      <td>15</td>\n      <td>15</td>\n      <td>15</td>\n      <td>0</td>\n      <td>0.474227</td>\n      <td>0.154639</td>\n      <td>1.000000</td>\n      <td>1.000000</td>\n      <td>0.154639</td>\n      <td>0.008306</td>\n      <td>0.000000</td>\n    </tr>\n    <tr>\n      <th>12</th>\n      <td>4243</td>\n      <td>919</td>\n      <td>0.216592</td>\n      <td>130</td>\n      <td>0.030331</td>\n      <td>0</td>\n      <td>88</td>\n      <td>39</td>\n      <td>39</td>\n      <td>39</td>\n      <td>0</td>\n      <td>0.676923</td>\n      <td>0.300000</td>\n      <td>1.000000</td>\n      <td>1.000000</td>\n      <td>0.300000</td>\n      <td>0.042437</td>\n      <td>0.000000</td>\n    </tr>\n    <tr>\n      <th>13</th>\n      <td>4279</td>\n      <td>982</td>\n      <td>0.229493</td>\n      <td>128</td>\n      <td>0.029650</td>\n      <td>0</td>\n      <td>63</td>\n      <td>8</td>\n      <td>7</td>\n      <td>6</td>\n      <td>0</td>\n      <td>0.492188</td>\n      <td>0.062500</td>\n      <td>0.875000</td>\n      <td>0.750000</td>\n      <td>0.054688</td>\n      <td>0.007128</td>\n      <td>0.000000</td>\n    </tr>\n    <tr>\n      <th>14</th>\n      <td>4064</td>\n      <td>953</td>\n      <td>0.234498</td>\n      <td>388</td>\n      <td>0.094565</td>\n      <td>0</td>\n      <td>269</td>\n      <td>216</td>\n      <td>211</td>\n      <td>207</td>\n      <td>3</td>\n      <td>0.693299</td>\n      <td>0.556701</td>\n      <td>0.976852</td>\n      <td>0.958333</td>\n      <td>0.543814</td>\n      <td>0.221406</td>\n      <td>0.007732</td>\n    </tr>\n    <tr>\n      <th>15</th>\n      <td>4175</td>\n      <td>710</td>\n      <td>0.170060</td>\n      <td>276</td>\n      <td>0.065496</td>\n      <td>0</td>\n      <td>179</td>\n      <td>101</td>\n      <td>80</td>\n      <td>44</td>\n      <td>21</td>\n      <td>0.648551</td>\n      <td>0.365942</td>\n      <td>0.792079</td>\n      <td>0.435644</td>\n      <td>0.289855</td>\n      <td>0.112676</td>\n      <td>0.076087</td>\n    </tr>\n    <tr>\n      <th>16</th>\n      <td>4292</td>\n      <td>1336</td>\n      <td>0.311277</td>\n      <td>125</td>\n      <td>0.028848</td>\n      <td>0</td>\n      <td>93</td>\n      <td>41</td>\n      <td>38</td>\n      <td>38</td>\n      <td>0</td>\n      <td>0.744000</td>\n      <td>0.328000</td>\n      <td>0.926829</td>\n      <td>0.926829</td>\n      <td>0.304000</td>\n      <td>0.028443</td>\n      <td>0.000000</td>\n    </tr>\n    <tr>\n      <th>17</th>\n      <td>4196</td>\n      <td>249</td>\n      <td>0.059342</td>\n      <td>105</td>\n      <td>0.024805</td>\n      <td>1</td>\n      <td>11</td>\n      <td>6</td>\n      <td>6</td>\n      <td>6</td>\n      <td>3</td>\n      <td>0.104762</td>\n      <td>0.057143</td>\n      <td>1.000000</td>\n      <td>1.000000</td>\n      <td>0.057143</td>\n      <td>0.024096</td>\n      <td>0.028571</td>\n    </tr>\n    <tr>\n      <th>18</th>\n      <td>4311</td>\n      <td>1524</td>\n      <td>0.353514</td>\n      <td>124</td>\n      <td>0.028506</td>\n      <td>0</td>\n      <td>110</td>\n      <td>36</td>\n      <td>29</td>\n      <td>27</td>\n      <td>0</td>\n      <td>0.887097</td>\n      <td>0.290323</td>\n      <td>0.805556</td>\n      <td>0.750000</td>\n      <td>0.233871</td>\n      <td>0.019029</td>\n      <td>0.000000</td>\n    </tr>\n    <tr>\n      <th>19</th>\n      <td>4294</td>\n      <td>1127</td>\n      <td>0.262459</td>\n      <td>146</td>\n      <td>0.033672</td>\n      <td>0</td>\n      <td>103</td>\n      <td>44</td>\n      <td>42</td>\n      <td>42</td>\n      <td>0</td>\n      <td>0.705479</td>\n      <td>0.301370</td>\n      <td>0.954545</td>\n      <td>0.954545</td>\n      <td>0.287671</td>\n      <td>0.037267</td>\n      <td>0.000000</td>\n    </tr>\n    <tr>\n      <th>20</th>\n      <td>4182</td>\n      <td>879</td>\n      <td>0.210187</td>\n      <td>519</td>\n      <td>0.122957</td>\n      <td>0</td>\n      <td>281</td>\n      <td>33</td>\n      <td>30</td>\n      <td>28</td>\n      <td>1</td>\n      <td>0.541426</td>\n      <td>0.063584</td>\n      <td>0.909091</td>\n      <td>0.848485</td>\n      <td>0.057803</td>\n      <td>0.034130</td>\n      <td>0.001927</td>\n    </tr>\n    <tr>\n      <th>21</th>\n      <td>4252</td>\n      <td>445</td>\n      <td>0.104657</td>\n      <td>84</td>\n      <td>0.019567</td>\n      <td>0</td>\n      <td>28</td>\n      <td>7</td>\n      <td>6</td>\n      <td>6</td>\n      <td>0</td>\n      <td>0.333333</td>\n      <td>0.083333</td>\n      <td>0.857143</td>\n      <td>0.857143</td>\n      <td>0.071429</td>\n      <td>0.013483</td>\n      <td>0.000000</td>\n    </tr>\n    <tr>\n      <th>22</th>\n      <td>4285</td>\n      <td>1101</td>\n      <td>0.256943</td>\n      <td>116</td>\n      <td>0.026833</td>\n      <td>0</td>\n      <td>61</td>\n      <td>23</td>\n      <td>18</td>\n      <td>18</td>\n      <td>0</td>\n      <td>0.525862</td>\n      <td>0.198276</td>\n      <td>0.782609</td>\n      <td>0.782609</td>\n      <td>0.155172</td>\n      <td>0.016349</td>\n      <td>0.000000</td>\n    </tr>\n    <tr>\n      <th>23</th>\n      <td>4309</td>\n      <td>1021</td>\n      <td>0.236946</td>\n      <td>96</td>\n      <td>0.022069</td>\n      <td>0</td>\n      <td>45</td>\n      <td>10</td>\n      <td>9</td>\n      <td>9</td>\n      <td>1</td>\n      <td>0.468750</td>\n      <td>0.104167</td>\n      <td>0.900000</td>\n      <td>0.900000</td>\n      <td>0.093750</td>\n      <td>0.008815</td>\n      <td>0.010417</td>\n    </tr>\n    <tr>\n      <th>24</th>\n      <td>4049</td>\n      <td>467</td>\n      <td>0.115337</td>\n      <td>352</td>\n      <td>0.086253</td>\n      <td>0</td>\n      <td>185</td>\n      <td>138</td>\n      <td>133</td>\n      <td>131</td>\n      <td>3</td>\n      <td>0.525568</td>\n      <td>0.392045</td>\n      <td>0.963768</td>\n      <td>0.949275</td>\n      <td>0.377841</td>\n      <td>0.284797</td>\n      <td>0.008523</td>\n    </tr>\n    <tr>\n      <th>25</th>\n      <td>4255</td>\n      <td>1083</td>\n      <td>0.254524</td>\n      <td>104</td>\n      <td>0.024220</td>\n      <td>0</td>\n      <td>51</td>\n      <td>11</td>\n      <td>10</td>\n      <td>9</td>\n      <td>0</td>\n      <td>0.490385</td>\n      <td>0.105769</td>\n      <td>0.909091</td>\n      <td>0.818182</td>\n      <td>0.096154</td>\n      <td>0.009234</td>\n      <td>0.000000</td>\n    </tr>\n    <tr>\n      <th>26</th>\n      <td>4310</td>\n      <td>2078</td>\n      <td>0.482135</td>\n      <td>159</td>\n      <td>0.036569</td>\n      <td>0</td>\n      <td>113</td>\n      <td>56</td>\n      <td>53</td>\n      <td>51</td>\n      <td>0</td>\n      <td>0.710692</td>\n      <td>0.352201</td>\n      <td>0.946429</td>\n      <td>0.910714</td>\n      <td>0.333333</td>\n      <td>0.025505</td>\n      <td>0.000000</td>\n    </tr>\n    <tr>\n      <th>27</th>\n      <td>4313</td>\n      <td>1416</td>\n      <td>0.328310</td>\n      <td>281</td>\n      <td>0.064494</td>\n      <td>0</td>\n      <td>81</td>\n      <td>32</td>\n      <td>26</td>\n      <td>21</td>\n      <td>13</td>\n      <td>0.288256</td>\n      <td>0.113879</td>\n      <td>0.812500</td>\n      <td>0.656250</td>\n      <td>0.092527</td>\n      <td>0.018362</td>\n      <td>0.046263</td>\n    </tr>\n    <tr>\n      <th>28</th>\n      <td>4062</td>\n      <td>1613</td>\n      <td>0.397095</td>\n      <td>94</td>\n      <td>0.022904</td>\n      <td>0</td>\n      <td>41</td>\n      <td>21</td>\n      <td>21</td>\n      <td>21</td>\n      <td>5</td>\n      <td>0.436170</td>\n      <td>0.223404</td>\n      <td>1.000000</td>\n      <td>1.000000</td>\n      <td>0.223404</td>\n      <td>0.013019</td>\n      <td>0.053191</td>\n    </tr>\n    <tr>\n      <th>29</th>\n      <td>4152</td>\n      <td>792</td>\n      <td>0.190751</td>\n      <td>452</td>\n      <td>0.107953</td>\n      <td>0</td>\n      <td>161</td>\n      <td>4</td>\n      <td>1</td>\n      <td>1</td>\n      <td>0</td>\n      <td>0.356195</td>\n      <td>0.008850</td>\n      <td>0.250000</td>\n      <td>0.250000</td>\n      <td>0.002212</td>\n      <td>0.001263</td>\n      <td>0.000000</td>\n    </tr>\n  </tbody>\n</table>\n</div>"
     },
     "execution_count": 18,
     "metadata": {},
     "output_type": "execute_result"
    }
   ],
   "source": [
    "repairable_df"
   ],
   "metadata": {
    "collapsed": false,
    "pycharm": {
     "name": "#%%\n"
    }
   }
  },
  {
   "cell_type": "markdown",
   "source": [
    "## Analyze detection confidence vs error probability"
   ],
   "metadata": {
    "collapsed": false
   }
  },
  {
   "cell_type": "code",
   "execution_count": 19,
   "outputs": [],
   "source": [
    "import importlib\n",
    "from raha import analysis_utilities\n",
    "import matplotlib.pyplot as plt\n",
    "plt.style.use('ggplot')\n",
    "plt.ion()"
   ],
   "metadata": {
    "collapsed": false,
    "pycharm": {
     "name": "#%%\n"
    }
   }
  },
  {
   "cell_type": "code",
   "execution_count": 20,
   "outputs": [
    {
     "data": {
      "text/plain": "<module 'raha.analysis_utilities' from '/home/adrian/source/MA/raha/raha/analysis_utilities.py'>"
     },
     "execution_count": 20,
     "metadata": {},
     "output_type": "execute_result"
    }
   ],
   "source": [
    "importlib.reload(analysis_utilities)"
   ],
   "metadata": {
    "collapsed": false,
    "pycharm": {
     "name": "#%%\n"
    }
   }
  },
  {
   "cell_type": "code",
   "execution_count": 21,
   "outputs": [],
   "source": [
    "evaluation_dfs = []\n",
    "\n",
    "for d in datasets:\n",
    "    df = analysis_utilities.get_detection_evaluation_df(d)\n",
    "    evaluation_dfs.append(df)\n",
    "    #display(df)\n",
    "    #display(df.value_counts(subset=[\"detected\", \"truth\"]))\n",
    "    #display(analysis_utilities.detection_evaluation(df))\n",
    "    #display(analysis_utilities.detection_correctness_by_confidence(df,number_of_bins=10))\n",
    "\n",
    "df = pandas.concat(evaluation_dfs)"
   ],
   "metadata": {
    "collapsed": false,
    "pycharm": {
     "name": "#%%\n"
    }
   }
  },
  {
   "cell_type": "code",
   "source": [
    "analysis_utilities.detection_evaluation(df, sharey=\"row\", number_of_bins=100)"
   ],
   "metadata": {
    "collapsed": false,
    "pycharm": {
     "name": "#%%\n"
    }
   },
   "execution_count": 22,
   "outputs": [
    {
     "data": {
      "text/plain": "<Figure size 648x432 with 4 Axes>",
      "image/png": "[encoded data removed]"
     },
     "execution_count": 22,
     "metadata": {},
     "output_type": "execute_result"
    }
   ]
  },
  {
   "cell_type": "code",
   "execution_count": 23,
   "outputs": [
    {
     "data": {
      "text/plain": "0.0006362378976486616"
     },
     "execution_count": 23,
     "metadata": {},
     "output_type": "execute_result"
    }
   ],
   "source": [
    "1 - ((df[\"p\"] < 0.01) | (df[\"p\"] > 0.99)).sum() / len(df.index)"
   ],
   "metadata": {
    "collapsed": false,
    "pycharm": {
     "name": "#%%\n"
    }
   }
  },
  {
   "cell_type": "code",
   "execution_count": 24,
   "outputs": [
    {
     "data": {
      "text/plain": "0.00017351942663146325"
     },
     "execution_count": 24,
     "metadata": {},
     "output_type": "execute_result"
    }
   ],
   "source": [
    "1 - ((df[\"p\"] < 0.05) | (df[\"p\"] > 0.95)).sum() / len(df.index)"
   ],
   "metadata": {
    "collapsed": false,
    "pycharm": {
     "name": "#%%\n"
    }
   }
  },
  {
   "cell_type": "code",
   "execution_count": 25,
   "outputs": [],
   "source": [
    "analysis_utilities.detection_evaluation(df, sharey=\"row\",number_of_bins=100).savefig(\"beers_detection_split.pdf\", dpi=600)"
   ],
   "metadata": {
    "collapsed": false,
    "pycharm": {
     "name": "#%%\n"
    }
   }
  },
  {
   "cell_type": "code",
   "execution_count": 26,
   "outputs": [],
   "source": [
    "analysis_utilities.detection_evaluation_without_grouping(df,number_of_bins=100).savefig(\"beers_detection_overview.pdf\", dpi=600)"
   ],
   "metadata": {
    "collapsed": false,
    "pycharm": {
     "name": "#%%\n"
    }
   }
  },
  {
   "cell_type": "code",
   "execution_count": 27,
   "outputs": [
    {
     "data": {
      "text/plain": "0.9965648040948144"
     },
     "execution_count": 27,
     "metadata": {},
     "output_type": "execute_result"
    }
   ],
   "source": [
    "(df[\"p\"] >= 0.99).sum() / (df[\"p\"] >= 0.5).sum()"
   ],
   "metadata": {
    "collapsed": false,
    "pycharm": {
     "name": "#%%\n"
    }
   }
  },
  {
   "cell_type": "markdown",
   "source": [
    "## Analyze confidence vs error probability"
   ],
   "metadata": {
    "collapsed": false
   }
  },
  {
   "cell_type": "code",
   "execution_count": 28,
   "outputs": [],
   "source": [
    "r_p_dfs = []\n",
    "\n",
    "for d in datasets:\n",
    "\n",
    "    r_p_dfs.append(analysis_utilities.get_correction_confidence_df(d))\n",
    "\n",
    "r_p_df = pandas.concat(r_p_dfs)"
   ],
   "metadata": {
    "collapsed": false,
    "pycharm": {
     "name": "#%%\n"
    }
   }
  },
  {
   "cell_type": "code",
   "execution_count": 29,
   "outputs": [
    {
     "data": {
      "text/plain": "<Figure size 648x432 with 1 Axes>",
      "image/png": "[encoded data removed]"
     },
     "execution_count": 29,
     "metadata": {},
     "output_type": "execute_result"
    }
   ],
   "source": [
    "analysis_utilities.correction_confidence_distribution(r_p_df, number_of_bins=100)"
   ],
   "metadata": {
    "collapsed": false,
    "pycharm": {
     "name": "#%%\n"
    }
   }
  },
  {
   "cell_type": "code",
   "execution_count": 30,
   "outputs": [
    {
     "data": {
      "text/plain": "0.9566858221116734"
     },
     "execution_count": 30,
     "metadata": {},
     "output_type": "execute_result"
    }
   ],
   "source": [
    "(r_p_df[\"confidence\"] >= 0.99).sum() / len(r_p_df.index)"
   ],
   "metadata": {
    "collapsed": false,
    "pycharm": {
     "name": "#%%\n"
    }
   }
  },
  {
   "cell_type": "code",
   "execution_count": 31,
   "outputs": [
    {
     "data": {
      "text/plain": "0.9624636449407012"
     },
     "execution_count": 31,
     "metadata": {},
     "output_type": "execute_result"
    }
   ],
   "source": [
    "(r_p_df[\"confidence\"] >= 0.95).sum() / len(r_p_df.index)"
   ],
   "metadata": {
    "collapsed": false,
    "pycharm": {
     "name": "#%%\n"
    }
   }
  },
  {
   "cell_type": "code",
   "execution_count": 32,
   "outputs": [
    {
     "data": {
      "text/plain": "0.0"
     },
     "execution_count": 32,
     "metadata": {},
     "output_type": "execute_result"
    }
   ],
   "source": [
    "((r_p_df[\"confidence\"] >= 0.99) & (r_p_df[\"detection_correct\"] == False)).sum() / (r_p_df[\"detection_correct\"] == False).sum()"
   ],
   "metadata": {
    "collapsed": false,
    "pycharm": {
     "name": "#%%\n"
    }
   }
  },
  {
   "cell_type": "code",
   "execution_count": 33,
   "outputs": [
    {
     "data": {
      "text/plain": "0.9566932817665773"
     },
     "execution_count": 33,
     "metadata": {},
     "output_type": "execute_result"
    }
   ],
   "source": [
    "((r_p_df[\"confidence\"] >= 0.99) & (r_p_df[\"detection_correct\"] == True)).sum() / (r_p_df[\"detection_correct\"] == True).sum()"
   ],
   "metadata": {
    "collapsed": false,
    "pycharm": {
     "name": "#%%\n"
    }
   }
  },
  {
   "cell_type": "code",
   "execution_count": 34,
   "outputs": [
    {
     "data": {
      "text/plain": "<Figure size 648x432 with 2 Axes>",
      "image/png": "[encoded data removed]"
     },
     "execution_count": 34,
     "metadata": {},
     "output_type": "execute_result"
    }
   ],
   "source": [
    "analysis_utilities.correction_confidence_distributions(r_p_df, number_of_bins=100)"
   ],
   "metadata": {
    "collapsed": false,
    "pycharm": {
     "name": "#%%\n"
    }
   }
  },
  {
   "cell_type": "code",
   "execution_count": 35,
   "outputs": [],
   "source": [
    "analysis_utilities.correction_confidence_distribution(r_p_df, number_of_bins=100).savefig(\"beers_correction_overview.pdf\")\n",
    "analysis_utilities.correction_confidence_distributions(r_p_df, number_of_bins=100).savefig(\"beers_correction_split.pdf\")"
   ],
   "metadata": {
    "collapsed": false,
    "pycharm": {
     "name": "#%%\n"
    }
   }
  },
  {
   "cell_type": "code",
   "execution_count": null,
   "outputs": [],
   "source": [],
   "metadata": {
    "collapsed": false,
    "pycharm": {
     "name": "#%%"
    }
   }
  }
 ],
 "metadata": {
  "kernelspec": {
   "display_name": "Python 3",
   "language": "python",
   "name": "python3"
  },
  "language_info": {
   "codemirror_mode": {
    "name": "ipython",
    "version": 3
   },
   "file_extension": ".py",
   "mimetype": "text/x-python",
   "name": "python",
   "nbconvert_exporter": "python",
   "pygments_lexer": "ipython3",
   "version": "3.7.9"
  }
 },
 "nbformat": 4,
 "nbformat_minor": 4
}
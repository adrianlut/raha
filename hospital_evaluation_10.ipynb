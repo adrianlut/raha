{
 "cells": [
  {
   "cell_type": "markdown",
   "metadata": {},
   "source": [
    "# Hospital example"
   ]
  },
  {
   "cell_type": "code",
   "execution_count": 1,
   "outputs": [],
   "source": [
    "import numpy as np\n",
    "import pandas\n",
    "from IPython.core.display import display\n",
    "\n",
    "import raha"
   ],
   "metadata": {
    "collapsed": false,
    "pycharm": {
     "name": "#%%\n"
    }
   }
  },
  {
   "cell_type": "code",
   "execution_count": 2,
   "metadata": {
    "pycharm": {
     "name": "#%%\n"
    }
   },
   "outputs": [
    {
     "name": "stderr",
     "output_type": "stream",
     "text": [
      "I just load strategies' results as they have already been run on the dataset!\n"
     ]
    },
    {
     "name": "stdout",
     "output_type": "stream",
     "text": [
      "Run 0 done\n"
     ]
    },
    {
     "name": "stderr",
     "output_type": "stream",
     "text": [
      "I just load strategies' results as they have already been run on the dataset!\n"
     ]
    },
    {
     "name": "stdout",
     "output_type": "stream",
     "text": [
      "Run 1 done\n"
     ]
    },
    {
     "name": "stderr",
     "output_type": "stream",
     "text": [
      "I just load strategies' results as they have already been run on the dataset!\n"
     ]
    },
    {
     "name": "stdout",
     "output_type": "stream",
     "text": [
      "Run 2 done\n"
     ]
    },
    {
     "name": "stderr",
     "output_type": "stream",
     "text": [
      "I just load strategies' results as they have already been run on the dataset!\n"
     ]
    },
    {
     "name": "stdout",
     "output_type": "stream",
     "text": [
      "Run 3 done\n"
     ]
    },
    {
     "name": "stderr",
     "output_type": "stream",
     "text": [
      "I just load strategies' results as they have already been run on the dataset!\n"
     ]
    },
    {
     "name": "stdout",
     "output_type": "stream",
     "text": [
      "Run 4 done\n"
     ]
    },
    {
     "name": "stderr",
     "output_type": "stream",
     "text": [
      "I just load strategies' results as they have already been run on the dataset!\n"
     ]
    },
    {
     "name": "stdout",
     "output_type": "stream",
     "text": [
      "Run 5 done\n"
     ]
    },
    {
     "name": "stderr",
     "output_type": "stream",
     "text": [
      "I just load strategies' results as they have already been run on the dataset!\n"
     ]
    },
    {
     "name": "stdout",
     "output_type": "stream",
     "text": [
      "Run 6 done\n"
     ]
    },
    {
     "name": "stderr",
     "output_type": "stream",
     "text": [
      "I just load strategies' results as they have already been run on the dataset!\n"
     ]
    },
    {
     "name": "stdout",
     "output_type": "stream",
     "text": [
      "Run 7 done\n"
     ]
    },
    {
     "name": "stderr",
     "output_type": "stream",
     "text": [
      "I just load strategies' results as they have already been run on the dataset!\n"
     ]
    },
    {
     "name": "stdout",
     "output_type": "stream",
     "text": [
      "Run 8 done\n"
     ]
    },
    {
     "name": "stderr",
     "output_type": "stream",
     "text": [
      "I just load strategies' results as they have already been run on the dataset!\n"
     ]
    },
    {
     "name": "stdout",
     "output_type": "stream",
     "text": [
      "Run 9 done\n"
     ]
    }
   ],
   "source": [
    "datasets = []\n",
    "\n",
    "for i in range(10):\n",
    "    from raha import analysis_utilities\n",
    "    app_1 = raha.Detection()\n",
    "    app_2 = raha.Correction()\n",
    "\n",
    "    # How many tuples would you label?\n",
    "    app_1.LABELING_BUDGET = 20\n",
    "    app_2.LABELING_BUDGET = 0\n",
    "\n",
    "    # Would you like to see the logs?\n",
    "    app_1.VERBOSE = False\n",
    "    app_2.VERBOSE = False\n",
    "\n",
    "    dataset_dictionary = {\n",
    "        \"name\": \"hospital\",\n",
    "        \"path\": \"datasets/hospital/dirty.csv\",\n",
    "        \"clean_path\": \"datasets/hospital/clean.csv\"\n",
    "    }\n",
    "    d = app_1.initialize_dataset(dataset_dictionary)\n",
    "\n",
    "    app_1.run_strategies(d)\n",
    "    app_1.generate_features(d)\n",
    "    app_1.build_clusters(d)\n",
    "\n",
    "    while len(d.labeled_tuples) < app_1.LABELING_BUDGET:\n",
    "        app_1.sample_tuple(d)\n",
    "        if d.has_ground_truth:\n",
    "            app_1.label_with_ground_truth(d)\n",
    "\n",
    "    app_1.propagate_labels(d)\n",
    "    app_1.predict_labels(d)\n",
    "\n",
    "    app_2.initialize_models(d)\n",
    "    app_2.initialize_dataset(d)\n",
    "    for si in d.labeled_tuples:\n",
    "        d.sampled_tuple = si\n",
    "        app_2.update_models(d)\n",
    "        app_2.generate_features(d)\n",
    "        app_2.predict_corrections(d)\n",
    "\n",
    "    print(f\"Run {i} done\")\n",
    "\n",
    "    datasets.append(d)"
   ]
  },
  {
   "cell_type": "markdown",
   "source": [
    "## Evaluation"
   ],
   "metadata": {
    "collapsed": false,
    "pycharm": {
     "name": "#%% md\n"
    }
   }
  },
  {
   "cell_type": "code",
   "execution_count": 3,
   "metadata": {
    "scrolled": true
   },
   "outputs": [
    {
     "name": "stderr",
     "output_type": "stream",
     "text": [
      "/home/adrian/source/MA/raha/raha/dataset.py:123: FutureWarning: elementwise comparison failed; returning scalar instead, but in the future will perform elementwise comparison\n",
      "  if correction_dictionary[cell] == actual_errors[cell]:\n"
     ]
    },
    {
     "data": {
      "text/plain": "                        Task  Precision    Recall  F1 Score\n0     Error Detection (Raha)   0.885965  0.595285  0.712103\n1   Error Correction (Baran)   0.851211  0.483301  0.616541\n2     Error Detection (Raha)   0.969697  0.565815  0.714640\n3   Error Correction (Baran)   0.835052  0.477407  0.607500\n4     Error Detection (Raha)   0.983380  0.697446  0.816092\n5   Error Correction (Baran)   0.817919  0.555992  0.661988\n6     Error Detection (Raha)   0.881919  0.469548  0.612821\n7   Error Correction (Baran)   0.649789  0.302554  0.412869\n8     Error Detection (Raha)   0.951654  0.734774  0.829268\n9   Error Correction (Baran)   0.823529  0.632613  0.715556\n10    Error Detection (Raha)   0.981723  0.738703  0.843049\n11  Error Correction (Baran)   0.718663  0.506876  0.594470\n12    Error Detection (Raha)   0.917563  0.502947  0.649746\n13  Error Correction (Baran)   0.827068  0.432220  0.567742\n14    Error Detection (Raha)   0.955335  0.756385  0.844298\n15  Error Correction (Baran)   0.844221  0.660118  0.740904\n16    Error Detection (Raha)   0.812796  0.673870  0.736842\n17  Error Correction (Baran)   0.748111  0.583497  0.655629\n18    Error Detection (Raha)   0.918728  0.510806  0.656566\n19  Error Correction (Baran)   0.793522  0.385069  0.518519",
      "text/html": "<div>\n<style scoped>\n    .dataframe tbody tr th:only-of-type {\n        vertical-align: middle;\n    }\n\n    .dataframe tbody tr th {\n        vertical-align: top;\n    }\n\n    .dataframe thead th {\n        text-align: right;\n    }\n</style>\n<table border=\"1\" class=\"dataframe\">\n  <thead>\n    <tr style=\"text-align: right;\">\n      <th></th>\n      <th>Task</th>\n      <th>Precision</th>\n      <th>Recall</th>\n      <th>F1 Score</th>\n    </tr>\n  </thead>\n  <tbody>\n    <tr>\n      <th>0</th>\n      <td>Error Detection (Raha)</td>\n      <td>0.885965</td>\n      <td>0.595285</td>\n      <td>0.712103</td>\n    </tr>\n    <tr>\n      <th>1</th>\n      <td>Error Correction (Baran)</td>\n      <td>0.851211</td>\n      <td>0.483301</td>\n      <td>0.616541</td>\n    </tr>\n    <tr>\n      <th>2</th>\n      <td>Error Detection (Raha)</td>\n      <td>0.969697</td>\n      <td>0.565815</td>\n      <td>0.714640</td>\n    </tr>\n    <tr>\n      <th>3</th>\n      <td>Error Correction (Baran)</td>\n      <td>0.835052</td>\n      <td>0.477407</td>\n      <td>0.607500</td>\n    </tr>\n    <tr>\n      <th>4</th>\n      <td>Error Detection (Raha)</td>\n      <td>0.983380</td>\n      <td>0.697446</td>\n      <td>0.816092</td>\n    </tr>\n    <tr>\n      <th>5</th>\n      <td>Error Correction (Baran)</td>\n      <td>0.817919</td>\n      <td>0.555992</td>\n      <td>0.661988</td>\n    </tr>\n    <tr>\n      <th>6</th>\n      <td>Error Detection (Raha)</td>\n      <td>0.881919</td>\n      <td>0.469548</td>\n      <td>0.612821</td>\n    </tr>\n    <tr>\n      <th>7</th>\n      <td>Error Correction (Baran)</td>\n      <td>0.649789</td>\n      <td>0.302554</td>\n      <td>0.412869</td>\n    </tr>\n    <tr>\n      <th>8</th>\n      <td>Error Detection (Raha)</td>\n      <td>0.951654</td>\n      <td>0.734774</td>\n      <td>0.829268</td>\n    </tr>\n    <tr>\n      <th>9</th>\n      <td>Error Correction (Baran)</td>\n      <td>0.823529</td>\n      <td>0.632613</td>\n      <td>0.715556</td>\n    </tr>\n    <tr>\n      <th>10</th>\n      <td>Error Detection (Raha)</td>\n      <td>0.981723</td>\n      <td>0.738703</td>\n      <td>0.843049</td>\n    </tr>\n    <tr>\n      <th>11</th>\n      <td>Error Correction (Baran)</td>\n      <td>0.718663</td>\n      <td>0.506876</td>\n      <td>0.594470</td>\n    </tr>\n    <tr>\n      <th>12</th>\n      <td>Error Detection (Raha)</td>\n      <td>0.917563</td>\n      <td>0.502947</td>\n      <td>0.649746</td>\n    </tr>\n    <tr>\n      <th>13</th>\n      <td>Error Correction (Baran)</td>\n      <td>0.827068</td>\n      <td>0.432220</td>\n      <td>0.567742</td>\n    </tr>\n    <tr>\n      <th>14</th>\n      <td>Error Detection (Raha)</td>\n      <td>0.955335</td>\n      <td>0.756385</td>\n      <td>0.844298</td>\n    </tr>\n    <tr>\n      <th>15</th>\n      <td>Error Correction (Baran)</td>\n      <td>0.844221</td>\n      <td>0.660118</td>\n      <td>0.740904</td>\n    </tr>\n    <tr>\n      <th>16</th>\n      <td>Error Detection (Raha)</td>\n      <td>0.812796</td>\n      <td>0.673870</td>\n      <td>0.736842</td>\n    </tr>\n    <tr>\n      <th>17</th>\n      <td>Error Correction (Baran)</td>\n      <td>0.748111</td>\n      <td>0.583497</td>\n      <td>0.655629</td>\n    </tr>\n    <tr>\n      <th>18</th>\n      <td>Error Detection (Raha)</td>\n      <td>0.918728</td>\n      <td>0.510806</td>\n      <td>0.656566</td>\n    </tr>\n    <tr>\n      <th>19</th>\n      <td>Error Correction (Baran)</td>\n      <td>0.793522</td>\n      <td>0.385069</td>\n      <td>0.518519</td>\n    </tr>\n  </tbody>\n</table>\n</div>"
     },
     "metadata": {},
     "output_type": "display_data"
    },
    {
     "data": {
      "text/plain": "                         Precision                                  Recall  \\\n                              mean       std       min       max      mean   \nTask                                                                         \nError Correction (Baran)  0.790908  0.065406  0.649789  0.851211  0.501965   \nError Detection (Raha)    0.925876  0.054068  0.812796  0.983380  0.624558   \n\n                                                        F1 Score            \\\n                               std       min       max      mean       std   \nTask                                                                         \nError Correction (Baran)  0.111014  0.302554  0.660118  0.609172  0.095662   \nError Detection (Raha)    0.108712  0.469548  0.756385  0.741543  0.086888   \n\n                                              \n                               min       max  \nTask                                          \nError Correction (Baran)  0.412869  0.740904  \nError Detection (Raha)    0.612821  0.844298  ",
      "text/html": "<div>\n<style scoped>\n    .dataframe tbody tr th:only-of-type {\n        vertical-align: middle;\n    }\n\n    .dataframe tbody tr th {\n        vertical-align: top;\n    }\n\n    .dataframe thead tr th {\n        text-align: left;\n    }\n\n    .dataframe thead tr:last-of-type th {\n        text-align: right;\n    }\n</style>\n<table border=\"1\" class=\"dataframe\">\n  <thead>\n    <tr>\n      <th></th>\n      <th colspan=\"4\" halign=\"left\">Precision</th>\n      <th colspan=\"4\" halign=\"left\">Recall</th>\n      <th colspan=\"4\" halign=\"left\">F1 Score</th>\n    </tr>\n    <tr>\n      <th></th>\n      <th>mean</th>\n      <th>std</th>\n      <th>min</th>\n      <th>max</th>\n      <th>mean</th>\n      <th>std</th>\n      <th>min</th>\n      <th>max</th>\n      <th>mean</th>\n      <th>std</th>\n      <th>min</th>\n      <th>max</th>\n    </tr>\n    <tr>\n      <th>Task</th>\n      <th></th>\n      <th></th>\n      <th></th>\n      <th></th>\n      <th></th>\n      <th></th>\n      <th></th>\n      <th></th>\n      <th></th>\n      <th></th>\n      <th></th>\n      <th></th>\n    </tr>\n  </thead>\n  <tbody>\n    <tr>\n      <th>Error Correction (Baran)</th>\n      <td>0.790908</td>\n      <td>0.065406</td>\n      <td>0.649789</td>\n      <td>0.851211</td>\n      <td>0.501965</td>\n      <td>0.111014</td>\n      <td>0.302554</td>\n      <td>0.660118</td>\n      <td>0.609172</td>\n      <td>0.095662</td>\n      <td>0.412869</td>\n      <td>0.740904</td>\n    </tr>\n    <tr>\n      <th>Error Detection (Raha)</th>\n      <td>0.925876</td>\n      <td>0.054068</td>\n      <td>0.812796</td>\n      <td>0.983380</td>\n      <td>0.624558</td>\n      <td>0.108712</td>\n      <td>0.469548</td>\n      <td>0.756385</td>\n      <td>0.741543</td>\n      <td>0.086888</td>\n      <td>0.612821</td>\n      <td>0.844298</td>\n    </tr>\n  </tbody>\n</table>\n</div>"
     },
     "execution_count": 3,
     "metadata": {},
     "output_type": "execute_result"
    }
   ],
   "source": [
    "evaluation_df = pandas.DataFrame(columns=[\"Task\", \"Precision\", \"Recall\", \"F1 Score\"])\n",
    "\n",
    "for d in datasets:\n",
    "    edp, edr, edf = d.get_data_cleaning_evaluation(d.detected_cells)[:3]\n",
    "    ecp, ecr, ecf = d.get_data_cleaning_evaluation(d.corrected_cells)[-3:]\n",
    "\n",
    "    evaluation_df = evaluation_df.append({\"Task\": \"Error Detection (Raha)\", \"Precision\": edp,\n",
    "                                          \"Recall\": edr, \"F1 Score\": edf}, ignore_index=True)\n",
    "    evaluation_df = evaluation_df.append({\"Task\": \"Error Correction (Baran)\", \"Precision\": ecp,\n",
    "                                          \"Recall\": ecr, \"F1 Score\": ecf}, ignore_index=True)\n",
    "display(evaluation_df)\n",
    "\n",
    "evaluation_df.groupby(\"Task\").agg([\"mean\", \"std\", \"min\", \"max\"])"
   ]
  },
  {
   "cell_type": "markdown",
   "source": [
    "## Analyze the alternative repairs"
   ],
   "metadata": {
    "collapsed": false
   }
  },
  {
   "cell_type": "code",
   "execution_count": 4,
   "outputs": [
    {
     "data": {
      "text/plain": "      1      2     3     4    5    6     7    8    9    10  ...   19   20  \\\n0  228.0   26.0   2.0   3.0  2.0  3.0   1.0  2.0  0.0  0.0  ...  0.0  0.0   \n1  212.0   47.0  14.0   0.0  0.0  0.0   0.0  0.0  0.0  0.0  ...  0.0  0.0   \n2  227.0   62.0  12.0   3.0  2.0  2.0   3.0  5.0  1.0  1.0  ...  0.0  0.0   \n3  136.0   40.0   9.0   2.0  3.0  9.0   8.0  2.0  9.0  0.0  ...  0.0  0.0   \n4  230.0  102.0  14.0   3.0  1.0  0.0   8.0  3.0  2.0  2.0  ...  0.0  0.0   \n5  207.0   72.0  24.0  13.0  3.0  9.0   2.0  1.0  2.0  1.0  ...  0.0  0.0   \n6  180.0   36.0  11.0   2.0  2.0  0.0   8.0  3.0  2.0  2.0  ...  0.0  0.0   \n7  282.0   48.0  14.0   4.0  0.0  1.0  17.0  2.0  2.0  0.0  ...  0.0  1.0   \n8  290.0   58.0   1.0   1.0  0.0  2.0   0.0  0.0  4.0  0.0  ...  1.0  5.0   \n9  176.0   51.0   3.0   0.0  0.0  0.0   0.0  0.0  0.0  0.0  ...  0.0  0.0   \n\n    21   22   23   24   25   26   27   28  \n0  0.0  0.0  0.0  0.0  0.0  0.0  0.0  0.0  \n1  0.0  0.0  0.0  0.0  0.0  0.0  0.0  0.0  \n2  0.0  0.0  0.0  0.0  0.0  0.0  0.0  0.0  \n3  0.0  0.0  0.0  0.0  0.0  0.0  0.0  0.0  \n4  0.0  0.0  0.0  0.0  0.0  0.0  0.0  0.0  \n5  1.0  0.0  0.0  0.0  0.0  0.0  0.0  1.0  \n6  0.0  0.0  0.0  0.0  0.0  0.0  0.0  0.0  \n7  0.0  0.0  0.0  0.0  1.0  0.0  0.0  0.0  \n8  1.0  0.0  1.0  0.0  0.0  0.0  0.0  0.0  \n9  0.0  0.0  0.0  0.0  0.0  0.0  0.0  0.0  \n\n[10 rows x 28 columns]",
      "text/html": "<div>\n<style scoped>\n    .dataframe tbody tr th:only-of-type {\n        vertical-align: middle;\n    }\n\n    .dataframe tbody tr th {\n        vertical-align: top;\n    }\n\n    .dataframe thead th {\n        text-align: right;\n    }\n</style>\n<table border=\"1\" class=\"dataframe\">\n  <thead>\n    <tr style=\"text-align: right;\">\n      <th></th>\n      <th>1</th>\n      <th>2</th>\n      <th>3</th>\n      <th>4</th>\n      <th>5</th>\n      <th>6</th>\n      <th>7</th>\n      <th>8</th>\n      <th>9</th>\n      <th>10</th>\n      <th>...</th>\n      <th>19</th>\n      <th>20</th>\n      <th>21</th>\n      <th>22</th>\n      <th>23</th>\n      <th>24</th>\n      <th>25</th>\n      <th>26</th>\n      <th>27</th>\n      <th>28</th>\n    </tr>\n  </thead>\n  <tbody>\n    <tr>\n      <th>0</th>\n      <td>228.0</td>\n      <td>26.0</td>\n      <td>2.0</td>\n      <td>3.0</td>\n      <td>2.0</td>\n      <td>3.0</td>\n      <td>1.0</td>\n      <td>2.0</td>\n      <td>0.0</td>\n      <td>0.0</td>\n      <td>...</td>\n      <td>0.0</td>\n      <td>0.0</td>\n      <td>0.0</td>\n      <td>0.0</td>\n      <td>0.0</td>\n      <td>0.0</td>\n      <td>0.0</td>\n      <td>0.0</td>\n      <td>0.0</td>\n      <td>0.0</td>\n    </tr>\n    <tr>\n      <th>1</th>\n      <td>212.0</td>\n      <td>47.0</td>\n      <td>14.0</td>\n      <td>0.0</td>\n      <td>0.0</td>\n      <td>0.0</td>\n      <td>0.0</td>\n      <td>0.0</td>\n      <td>0.0</td>\n      <td>0.0</td>\n      <td>...</td>\n      <td>0.0</td>\n      <td>0.0</td>\n      <td>0.0</td>\n      <td>0.0</td>\n      <td>0.0</td>\n      <td>0.0</td>\n      <td>0.0</td>\n      <td>0.0</td>\n      <td>0.0</td>\n      <td>0.0</td>\n    </tr>\n    <tr>\n      <th>2</th>\n      <td>227.0</td>\n      <td>62.0</td>\n      <td>12.0</td>\n      <td>3.0</td>\n      <td>2.0</td>\n      <td>2.0</td>\n      <td>3.0</td>\n      <td>5.0</td>\n      <td>1.0</td>\n      <td>1.0</td>\n      <td>...</td>\n      <td>0.0</td>\n      <td>0.0</td>\n      <td>0.0</td>\n      <td>0.0</td>\n      <td>0.0</td>\n      <td>0.0</td>\n      <td>0.0</td>\n      <td>0.0</td>\n      <td>0.0</td>\n      <td>0.0</td>\n    </tr>\n    <tr>\n      <th>3</th>\n      <td>136.0</td>\n      <td>40.0</td>\n      <td>9.0</td>\n      <td>2.0</td>\n      <td>3.0</td>\n      <td>9.0</td>\n      <td>8.0</td>\n      <td>2.0</td>\n      <td>9.0</td>\n      <td>0.0</td>\n      <td>...</td>\n      <td>0.0</td>\n      <td>0.0</td>\n      <td>0.0</td>\n      <td>0.0</td>\n      <td>0.0</td>\n      <td>0.0</td>\n      <td>0.0</td>\n      <td>0.0</td>\n      <td>0.0</td>\n      <td>0.0</td>\n    </tr>\n    <tr>\n      <th>4</th>\n      <td>230.0</td>\n      <td>102.0</td>\n      <td>14.0</td>\n      <td>3.0</td>\n      <td>1.0</td>\n      <td>0.0</td>\n      <td>8.0</td>\n      <td>3.0</td>\n      <td>2.0</td>\n      <td>2.0</td>\n      <td>...</td>\n      <td>0.0</td>\n      <td>0.0</td>\n      <td>0.0</td>\n      <td>0.0</td>\n      <td>0.0</td>\n      <td>0.0</td>\n      <td>0.0</td>\n      <td>0.0</td>\n      <td>0.0</td>\n      <td>0.0</td>\n    </tr>\n    <tr>\n      <th>5</th>\n      <td>207.0</td>\n      <td>72.0</td>\n      <td>24.0</td>\n      <td>13.0</td>\n      <td>3.0</td>\n      <td>9.0</td>\n      <td>2.0</td>\n      <td>1.0</td>\n      <td>2.0</td>\n      <td>1.0</td>\n      <td>...</td>\n      <td>0.0</td>\n      <td>0.0</td>\n      <td>1.0</td>\n      <td>0.0</td>\n      <td>0.0</td>\n      <td>0.0</td>\n      <td>0.0</td>\n      <td>0.0</td>\n      <td>0.0</td>\n      <td>1.0</td>\n    </tr>\n    <tr>\n      <th>6</th>\n      <td>180.0</td>\n      <td>36.0</td>\n      <td>11.0</td>\n      <td>2.0</td>\n      <td>2.0</td>\n      <td>0.0</td>\n      <td>8.0</td>\n      <td>3.0</td>\n      <td>2.0</td>\n      <td>2.0</td>\n      <td>...</td>\n      <td>0.0</td>\n      <td>0.0</td>\n      <td>0.0</td>\n      <td>0.0</td>\n      <td>0.0</td>\n      <td>0.0</td>\n      <td>0.0</td>\n      <td>0.0</td>\n      <td>0.0</td>\n      <td>0.0</td>\n    </tr>\n    <tr>\n      <th>7</th>\n      <td>282.0</td>\n      <td>48.0</td>\n      <td>14.0</td>\n      <td>4.0</td>\n      <td>0.0</td>\n      <td>1.0</td>\n      <td>17.0</td>\n      <td>2.0</td>\n      <td>2.0</td>\n      <td>0.0</td>\n      <td>...</td>\n      <td>0.0</td>\n      <td>1.0</td>\n      <td>0.0</td>\n      <td>0.0</td>\n      <td>0.0</td>\n      <td>0.0</td>\n      <td>1.0</td>\n      <td>0.0</td>\n      <td>0.0</td>\n      <td>0.0</td>\n    </tr>\n    <tr>\n      <th>8</th>\n      <td>290.0</td>\n      <td>58.0</td>\n      <td>1.0</td>\n      <td>1.0</td>\n      <td>0.0</td>\n      <td>2.0</td>\n      <td>0.0</td>\n      <td>0.0</td>\n      <td>4.0</td>\n      <td>0.0</td>\n      <td>...</td>\n      <td>1.0</td>\n      <td>5.0</td>\n      <td>1.0</td>\n      <td>0.0</td>\n      <td>1.0</td>\n      <td>0.0</td>\n      <td>0.0</td>\n      <td>0.0</td>\n      <td>0.0</td>\n      <td>0.0</td>\n    </tr>\n    <tr>\n      <th>9</th>\n      <td>176.0</td>\n      <td>51.0</td>\n      <td>3.0</td>\n      <td>0.0</td>\n      <td>0.0</td>\n      <td>0.0</td>\n      <td>0.0</td>\n      <td>0.0</td>\n      <td>0.0</td>\n      <td>0.0</td>\n      <td>...</td>\n      <td>0.0</td>\n      <td>0.0</td>\n      <td>0.0</td>\n      <td>0.0</td>\n      <td>0.0</td>\n      <td>0.0</td>\n      <td>0.0</td>\n      <td>0.0</td>\n      <td>0.0</td>\n      <td>0.0</td>\n    </tr>\n  </tbody>\n</table>\n<p>10 rows × 28 columns</p>\n</div>"
     },
     "execution_count": 4,
     "metadata": {},
     "output_type": "execute_result"
    }
   ],
   "source": [
    "alternative_count_list = []\n",
    "\n",
    "for d in datasets:\n",
    "    number_of_repairs = len(d.correction_collection)\n",
    "    number_of_repairs_hist = dict()\n",
    "\n",
    "    for cell_repairs in d.correction_collection.values():\n",
    "        num = len(cell_repairs)\n",
    "        number_of_repairs_hist[num] = number_of_repairs_hist.get(num, 0) + 1\n",
    "\n",
    "    hist = [0] * (max(number_of_repairs_hist.keys()) + 1)\n",
    "    for num, count in number_of_repairs_hist.items():\n",
    "        hist[num] = count\n",
    "\n",
    "    alternative_count_list.append(number_of_repairs_hist)\n",
    "\n",
    "    #print(f\"Histogram of the number of alternative repairs: {list(enumerate(hist))}\")\n",
    "\n",
    "max_alternatives = max(max(h.keys()) for h in alternative_count_list)\n",
    "\n",
    "alternative_count_df = pandas.DataFrame(columns=list(range(max_alternatives + 1)))\n",
    "\n",
    "for hist in alternative_count_list:\n",
    "    alternative_count_df = alternative_count_df.append(hist, ignore_index=True)\n",
    "\n",
    "alternative_count_df.drop(0,axis=1,inplace=True)\n",
    "alternative_count_df = alternative_count_df.fillna(0)\n",
    "alternative_count_df"
   ],
   "metadata": {
    "collapsed": false,
    "pycharm": {
     "name": "#%%\n"
    }
   }
  },
  {
   "cell_type": "code",
   "execution_count": 5,
   "outputs": [
    {
     "data": {
      "text/plain": "mean    1.737485\nstd     0.384027\nmin     1.247826\nmax     2.502222\ndtype: float64"
     },
     "execution_count": 5,
     "metadata": {},
     "output_type": "execute_result"
    }
   ],
   "source": [
    "mean_number_of_repairs = (alternative_count_df * np.arange(1,max_alternatives+1,1)).sum(axis=1) / alternative_count_df.sum(axis=1)\n",
    "mean_number_of_repairs.agg([\"mean\", \"std\", \"min\", \"max\"])"
   ],
   "metadata": {
    "collapsed": false,
    "pycharm": {
     "name": "#%%\n"
    }
   }
  },
  {
   "cell_type": "code",
   "execution_count": 6,
   "outputs": [
    {
     "data": {
      "text/plain": "mean    0.280013\nstd     0.081709\nmin     0.149254\nmax     0.395556\ndtype: float64"
     },
     "execution_count": 6,
     "metadata": {},
     "output_type": "execute_result"
    }
   ],
   "source": [
    "more_than_one = alternative_count_df.loc[:, alternative_count_df.columns[1:]].sum(axis=1) / alternative_count_df.sum(axis=1)\n",
    "more_than_one.agg([\"mean\", \"std\", \"min\", \"max\"])"
   ],
   "metadata": {
    "collapsed": false,
    "pycharm": {
     "name": "#%%\n"
    }
   }
  },
  {
   "cell_type": "code",
   "execution_count": 7,
   "outputs": [
    {
     "name": "stdout",
     "output_type": "stream",
     "text": [
      "Mean number of cells with x predicted alternatives in 10 runs\n"
     ]
    },
    {
     "data": {
      "text/plain": "1     216.8\n2      54.2\n3      10.4\n4       3.1\n5       1.3\n6       2.6\n7       4.7\n8       1.8\n9       2.2\n10      0.6\n11      0.4\n12      1.1\n13      0.3\n14      0.3\n15      0.2\n16      0.0\n17      0.2\n18      0.3\n19      0.1\n20      0.6\n21      0.2\n22      0.0\n23      0.1\n24      0.0\n25      0.1\n26      0.0\n27      0.0\n28      0.1\ndtype: float64"
     },
     "execution_count": 7,
     "metadata": {},
     "output_type": "execute_result"
    }
   ],
   "source": [
    "print(\"Mean number of cells with x predicted alternatives in 10 runs\")\n",
    "mean_count_series = alternative_count_df.mean()\n",
    "mean_count_series"
   ],
   "metadata": {
    "collapsed": false,
    "pycharm": {
     "name": "#%%\n"
    }
   }
  },
  {
   "cell_type": "code",
   "execution_count": 10,
   "outputs": [
    {
     "name": "stdout",
     "output_type": "stream",
     "text": [
      "mean    0.599643\n",
      "std     0.244627\n",
      "min     0.276596\n",
      "max     0.961538\n",
      "Name: repair_percentage, dtype: float64\n"
     ]
    }
   ],
   "source": [
    "correct_repairs = datasets[0].get_actual_errors_dictionary()\n",
    "\n",
    "collection = []\n",
    "correct_repair_probs = []\n",
    "incorrect_repair_probs = []\n",
    "other_repair_probs = []\n",
    "\n",
    "for d in datasets:\n",
    "    error_repaired_cells = [cell for cell, correction in d.corrected_cells.items() if cell in correct_repairs and correction != correct_repairs[cell]]\n",
    "    #print(f\"Number of incorrectly repaired cells: {len(error_repaired_cells)}\")\n",
    "\n",
    "    correct_repair_available = 0\n",
    "\n",
    "    for cell in error_repaired_cells:\n",
    "        if correct_repairs[cell] in d.correction_collection[cell].keys():\n",
    "            correct_repair_available += 1\n",
    "\n",
    "    #print(f\"Number of incorrectly repaired cells, where the correct repair is among the alternative repairs: {correct_repair_available}\")\n",
    "\n",
    "    collection.append((len(error_repaired_cells),correct_repair_available))\n",
    "\n",
    "    for cell in error_repaired_cells:\n",
    "        if correct_repairs[cell] in d.correction_collection[cell]:\n",
    "            correct_repair_probs.append(d.correction_collection[cell][correct_repairs[cell]])\n",
    "            incorrect_repair_probs.append(d.correction_confidences[cell])\n",
    "            other_repair_probs.append([prob for val, prob in d.correction_collection[cell].items()\n",
    "                                       if val not in [correct_repairs[cell], d.corrected_cells[cell]]])\n",
    "\n",
    "print(\"Proportion of wrong repairs to erroneous values that can be corrected by using one of the alternative repairs.\")\n",
    "repairable_df = pandas.DataFrame(collection, columns=[\"errors\",\"repairs\"])\n",
    "repairable_df[\"repair_percentage\"] = repairable_df[\"repairs\"] / repairable_df[\"errors\"]\n",
    "print(repairable_df[\"repair_percentage\"].agg([\"mean\", \"std\", \"min\", \"max\"]))"
   ],
   "metadata": {
    "collapsed": false,
    "pycharm": {
     "name": "#%%\n"
    }
   }
  },
  {
   "cell_type": "code",
   "execution_count": 18,
   "outputs": [
    {
     "name": "stdout",
     "output_type": "stream",
     "text": [
      "mean    0.996887\n",
      "std     0.031710\n",
      "min     0.543884\n",
      "max     1.000000\n",
      "dtype: float64\n"
     ]
    }
   ],
   "source": [
    "print(\"Distribution of the probabilities assigned to the correct repairs.\")\n",
    "print(pandas.Series(correct_repair_probs).agg([\"mean\", \"std\", \"min\", \"max\"]))\n",
    "\n",
    "#np.histogram(correct_repair_probs,np.linspace(0.5,1.0,101))"
   ],
   "metadata": {
    "collapsed": false,
    "pycharm": {
     "name": "#%%\n"
    }
   }
  },
  {
   "cell_type": "code",
   "execution_count": 19,
   "outputs": [
    {
     "name": "stdout",
     "output_type": "stream",
     "text": [
      "mean    0.999637\n",
      "std     0.003962\n",
      "min     0.936457\n",
      "max     1.000000\n",
      "dtype: float64\n"
     ]
    }
   ],
   "source": [
    "print(\"Distribution of the probabilities assigned to the chosen repairs.\")\n",
    "print(pandas.Series(incorrect_repair_probs).agg([\"mean\", \"std\", \"min\", \"max\"]))\n",
    "\n",
    "#np.histogram(incorrect_repair_probs,np.linspace(0.5,1.0,101))"
   ],
   "metadata": {
    "collapsed": false,
    "pycharm": {
     "name": "#%%\n"
    }
   }
  },
  {
   "cell_type": "code",
   "execution_count": 20,
   "outputs": [
    {
     "name": "stdout",
     "output_type": "stream",
     "text": [
      "mean    0.982135\n",
      "std     0.070091\n",
      "min     0.543676\n",
      "max     1.000000\n",
      "dtype: float64\n"
     ]
    }
   ],
   "source": [
    "flat_others = [value for sublist in other_repair_probs for value in sublist]\n",
    "\n",
    "print(\"Distribution of the probabilities assigned to all other alternatives, that are neither the correct not the chosen repair.\")\n",
    "print(pandas.Series(flat_others).agg([\"mean\", \"std\", \"min\", \"max\"]))\n",
    "\n",
    "#np.histogram(flat_others,np.linspace(0.5, 1.0, 101))"
   ],
   "metadata": {
    "collapsed": false,
    "pycharm": {
     "name": "#%%\n"
    }
   }
  },
  {
   "cell_type": "code",
   "execution_count": 14,
   "outputs": [
    {
     "name": "stdout",
     "output_type": "stream",
     "text": [
      "315\n",
      "0.6825396825396826\n",
      "0.012698412698412698\n",
      "0.9396825396825397\n",
      "0.9523809523809523\n",
      "0.0031746031746031746\n",
      "0.6730158730158731\n",
      "0.6761904761904762\n",
      "0.9746031746031746\n"
     ]
    },
    {
     "data": {
      "text/plain": "count    315.000000\nmean       0.002771\nstd        0.029524\nmin        0.000000\n25%        0.000000\n50%        0.000000\n75%        0.000000\nmax        0.450531\ndtype: float64"
     },
     "execution_count": 14,
     "metadata": {},
     "output_type": "execute_result"
    }
   ],
   "source": [
    "correct_s = pandas.Series(correct_repair_probs)\n",
    "incorrect_s = pandas.Series(incorrect_repair_probs)\n",
    "max_other_s = pandas.Series(max(other + [0]) for other in other_repair_probs)\n",
    "\n",
    "print(\"Number of repairs fixable by alternatives.\")\n",
    "print(len(correct_s))\n",
    "\n",
    "print(\"Proportion of cases where the correct repair has the highest probability among all alternatives\")\n",
    "print((correct_s > max_other_s).sum() / len(correct_s))\n",
    "print((correct_s > incorrect_s).sum() / len(correct_s))\n",
    "print((correct_s == incorrect_s).sum() / len(correct_s))\n",
    "print((correct_s >= incorrect_s).sum() / len(correct_s))\n",
    "print(((correct_s > incorrect_s) & (correct_s > max_other_s)).sum() / len(correct_s))\n",
    "print(((correct_s == incorrect_s) & (correct_s > max_other_s)).sum() / len(correct_s))\n",
    "print(((correct_s >= incorrect_s) & (correct_s > max_other_s)).sum() / len(correct_s))\n",
    "print(((correct_s >= incorrect_s) | (max_other_s >= incorrect_s)).sum() / len(correct_s))\n",
    "\n",
    "abs(correct_s - incorrect_s).describe()"
   ],
   "metadata": {
    "collapsed": false,
    "pycharm": {
     "name": "#%%\n"
    }
   }
  },
  {
   "cell_type": "code",
   "execution_count": 23,
   "outputs": [
    {
     "name": "stdout",
     "output_type": "stream",
     "text": [
      "Proportion of cases where there only is the correct alternative available\n",
      "0.6666666666666666\n",
      "Proportion of cases where there are more alternatives than the correct one and the correct alterantive has the highest probability.\n",
      "0.819047619047619\n"
     ]
    }
   ],
   "source": [
    "other_count = pandas.Series(len(other) for other in other_repair_probs)\n",
    "print(\"Proportion of cases where there only is the correct alternative available\")\n",
    "print((other_count == 0).sum() / len(other_count))\n",
    "\n",
    "print(\"Proportion of cases where there are more alternatives than the correct one and the correct alterantive has the highest probability.\")\n",
    "print(((correct_s == max_other_s) & (other_count > 0)).sum() / (other_count > 0).sum())"
   ],
   "metadata": {
    "collapsed": false,
    "pycharm": {
     "name": "#%%\n"
    }
   }
  },
  {
   "cell_type": "code",
   "execution_count": 16,
   "outputs": [],
   "source": [
    "incorrect_repair_probs_full = []\n",
    "max_other_repair_probs = []\n",
    "\n",
    "for d in datasets:\n",
    "    error_repaired_cells = [cell for cell, correction in d.corrected_cells.items() if cell in correct_repairs and correction != correct_repairs[cell]]\n",
    "\n",
    "    for cell in error_repaired_cells:\n",
    "        incorrect_repair_probs_full.append(d.correction_confidences[cell])\n",
    "        max_other_repair_probs.append(max([prob for val, prob in d.correction_collection[cell].items()\n",
    "                                   if val != d.corrected_cells[cell]] + [0]))"
   ],
   "metadata": {
    "collapsed": false,
    "pycharm": {
     "name": "#%%\n"
    }
   }
  },
  {
   "cell_type": "code",
   "execution_count": 17,
   "outputs": [
    {
     "name": "stdout",
     "output_type": "stream",
     "text": [
      "502\n",
      "502\n",
      "0.7470119521912351\n",
      "mean    0.986834\n",
      "std     0.069742\n",
      "min     0.500980\n",
      "max     1.000000\n",
      "dtype: float64\n"
     ]
    },
    {
     "data": {
      "text/plain": "(array([  7,   0,   1,   0,   0,   0,   0,   0,   0,   0,   0,   0,   1,\n          0,   0,   0,   0,   0,   0,   0,   0,   0,   0,   0,   0,   0,\n          0,   0,   0,   0,   0,   0,   0,   0,   0,   0,   0,   0,   0,\n          0,   0,   0,   0,   0,   0,   2,   0,   0,   0,   0,   0,   0,\n          0,   0,   0,   0,   1,   0,   0,   0,   0,   1,   0,   0,   0,\n          0,   0,   0,   0,   2,   0,   0,   1,   0,   0,   0,   1,   2,\n          0,   0,   0,   0,   0,   1,   0,   2,   0,   1,   0,   0,   0,\n          0,   0,   0,   1,   1,   2,   3,   4, 468]),\n array([0.5  , 0.505, 0.51 , 0.515, 0.52 , 0.525, 0.53 , 0.535, 0.54 ,\n        0.545, 0.55 , 0.555, 0.56 , 0.565, 0.57 , 0.575, 0.58 , 0.585,\n        0.59 , 0.595, 0.6  , 0.605, 0.61 , 0.615, 0.62 , 0.625, 0.63 ,\n        0.635, 0.64 , 0.645, 0.65 , 0.655, 0.66 , 0.665, 0.67 , 0.675,\n        0.68 , 0.685, 0.69 , 0.695, 0.7  , 0.705, 0.71 , 0.715, 0.72 ,\n        0.725, 0.73 , 0.735, 0.74 , 0.745, 0.75 , 0.755, 0.76 , 0.765,\n        0.77 , 0.775, 0.78 , 0.785, 0.79 , 0.795, 0.8  , 0.805, 0.81 ,\n        0.815, 0.82 , 0.825, 0.83 , 0.835, 0.84 , 0.845, 0.85 , 0.855,\n        0.86 , 0.865, 0.87 , 0.875, 0.88 , 0.885, 0.89 , 0.895, 0.9  ,\n        0.905, 0.91 , 0.915, 0.92 , 0.925, 0.93 , 0.935, 0.94 , 0.945,\n        0.95 , 0.955, 0.96 , 0.965, 0.97 , 0.975, 0.98 , 0.985, 0.99 ,\n        0.995, 1.   ]))"
     },
     "execution_count": 17,
     "metadata": {},
     "output_type": "execute_result"
    }
   ],
   "source": [
    "print(len(incorrect_repair_probs_full))\n",
    "print(len(max_other_repair_probs))\n",
    "\n",
    "incorrect_repair_probs_full = pandas.Series(incorrect_repair_probs_full)\n",
    "max_other_repair_probs = pandas.Series(max_other_repair_probs)\n",
    "\n",
    "print((max_other_repair_probs >= incorrect_repair_probs_full).sum() / len(max_other_repair_probs))\n",
    "\n",
    "print(incorrect_repair_probs_full.agg([\"mean\", \"std\", \"min\", \"max\"]))\n",
    "\n",
    "np.histogram(incorrect_repair_probs_full, np.linspace(0.5,1.0,101))"
   ],
   "metadata": {
    "collapsed": false,
    "pycharm": {
     "name": "#%%\n"
    }
   }
  },
  {
   "cell_type": "markdown",
   "source": [
    "## Analyze confidence vs error probability"
   ],
   "metadata": {
    "collapsed": false,
    "pycharm": {
     "name": "#%% md\n"
    }
   }
  },
  {
   "cell_type": "code",
   "execution_count": 16,
   "outputs": [],
   "source": [
    "import importlib\n",
    "from raha import analysis_utilities\n",
    "import matplotlib.pyplot as plt\n",
    "plt.style.use('seaborn')\n",
    "plt.ion()"
   ],
   "metadata": {
    "collapsed": false,
    "pycharm": {
     "name": "#%%\n"
    }
   }
  },
  {
   "cell_type": "code",
   "execution_count": 17,
   "outputs": [
    {
     "data": {
      "text/plain": "<module 'raha.analysis_utilities' from '/home/adrian/source/MA/raha/raha/analysis_utilities.py'>"
     },
     "execution_count": 17,
     "metadata": {},
     "output_type": "execute_result"
    }
   ],
   "source": [
    "importlib.reload(analysis_utilities)"
   ],
   "metadata": {
    "collapsed": false,
    "pycharm": {
     "name": "#%%\n"
    }
   }
  },
  {
   "cell_type": "code",
   "source": [
    "r_p_dfs = []\n",
    "\n",
    "for d in datasets:\n",
    "\n",
    "    r_p_dfs.append(analysis_utilities.get_correction_confidence_df(d))\n",
    "\n",
    "r_p_df = pandas.concat(r_p_dfs)\n",
    "\n",
    "display(analysis_utilities.correction_confidence_distributions(r_p_df))\n",
    "display(analysis_utilities.correction_correctness_by_confidence(r_p_df, number_of_bins=10))"
   ],
   "metadata": {
    "collapsed": false,
    "pycharm": {
     "name": "#%%\n"
    }
   },
   "execution_count": 18,
   "outputs": [
    {
     "data": {
      "text/plain": "<Figure size 576x396 with 2 Axes>",
      "image/png": "[encoded data removed]"
     },
     "metadata": {},
     "output_type": "display_data"
    },
    {
     "data": {
      "text/plain": "<Figure size 576x396 with 2 Axes>",
      "image/png": "[encoded data removed]"
     },
     "metadata": {},
     "output_type": "display_data"
    }
   ]
  },
  {
   "cell_type": "markdown",
   "metadata": {
    "pycharm": {
     "name": "#%% md\n"
    }
   },
   "source": [
    "## Analyze detection confidence vs error probability"
   ]
  },
  {
   "cell_type": "code",
   "execution_count": 19,
   "metadata": {
    "pycharm": {
     "name": "#%%\n"
    }
   },
   "outputs": [
    {
     "data": {
      "text/plain": "<Figure size 576x396 with 4 Axes>",
      "image/png": "[encoded data removed]"
     },
     "metadata": {},
     "output_type": "display_data"
    },
    {
     "data": {
      "text/plain": "<Figure size 576x396 with 2 Axes>",
      "image/png": "[encoded data removed]"
     },
     "metadata": {},
     "output_type": "display_data"
    }
   ],
   "source": [
    "evaluation_dfs = []\n",
    "\n",
    "for d in datasets:\n",
    "    df = analysis_utilities.get_detection_evaluation_df(d)\n",
    "    evaluation_dfs.append(df)\n",
    "    #display(df)\n",
    "    #display(df.value_counts(subset=[\"detected\", \"truth\"]))\n",
    "    #display(analysis_utilities.detection_evaluation(df))\n",
    "    #display(analysis_utilities.detection_correctness_by_confidence(df,number_of_bins=10))\n",
    "\n",
    "df = pandas.concat(evaluation_dfs)\n",
    "display(analysis_utilities.detection_evaluation(df))\n",
    "display(analysis_utilities.detection_correctness_by_confidence(df))"
   ]
  },
  {
   "cell_type": "code",
   "execution_count": 21,
   "outputs": [
    {
     "data": {
      "text/plain": "0.0005500000000000504"
     },
     "execution_count": 21,
     "metadata": {},
     "output_type": "execute_result"
    }
   ],
   "source": [
    "1 - ((df[\"p\"] < 0.05) | (df[\"p\"] > 0.95)).sum() / len(df.index)"
   ],
   "metadata": {
    "collapsed": false,
    "pycharm": {
     "name": "#%%\n"
    }
   }
  },
  {
   "cell_type": "code",
   "execution_count": null,
   "outputs": [],
   "source": [],
   "metadata": {
    "collapsed": false,
    "pycharm": {
     "name": "#%%\n"
    }
   }
  }
 ],
 "metadata": {
  "kernelspec": {
   "display_name": "Python 3",
   "language": "python",
   "name": "python3"
  },
  "language_info": {
   "codemirror_mode": {
    "name": "ipython",
    "version": 3
   },
   "file_extension": ".py",
   "mimetype": "text/x-python",
   "name": "python",
   "nbconvert_exporter": "python",
   "pygments_lexer": "ipython3",
   "version": "3.8.5"
  }
 },
 "nbformat": 4,
 "nbformat_minor": 4
}
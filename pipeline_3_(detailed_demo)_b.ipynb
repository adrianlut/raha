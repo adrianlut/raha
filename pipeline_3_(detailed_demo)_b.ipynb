{
 "cells": [
  {
   "cell_type": "markdown",
   "metadata": {},
   "source": [
    "# End-to-End Data Cleaning Pipeline with Raha and Baran (Detailed Demo)\n",
    "We build an end-to-end data cleaning pipeline with our configuration-free error detection and correction systems, Raha and Baran."
   ]
  },
  {
   "cell_type": "code",
   "execution_count": 1,
   "metadata": {},
   "outputs": [],
   "source": [
    "import bz2\n",
    "import json\n",
    "import pickle\n",
    "\n",
    "import numpy\n",
    "import pandas\n",
    "import ipywidgets\n",
    "import IPython.display\n",
    "import sklearn.decomposition\n",
    "import scipy.cluster.hierarchy\n",
    "import matplotlib.pyplot as plt\n",
    "\n",
    "import raha"
   ]
  },
  {
   "cell_type": "markdown",
   "metadata": {},
   "source": [
    "## 1. Instantiating the Detection and Correction Classes\n",
    "We first instantiate the `Detection` and `Correction` classes."
   ]
  },
  {
   "cell_type": "code",
   "execution_count": 2,
   "metadata": {},
   "outputs": [],
   "source": [
    "app_1 = raha.Detection()\n",
    "app_2 = raha.Correction()\n",
    "\n",
    "# How many tuples would you label?\n",
    "app_1.LABELING_BUDGET = 20\n",
    "app_2.LABELING_BUDGET = 0\n",
    "\n",
    "# Would you like to see the logs?\n",
    "app_1.VERBOSE = True\n",
    "app_2.VERBOSE = True\n",
    "\n",
    "# Do you want to filter out ineffective error detector startegies?\n",
    "app_1.STRATEGY_FILTERING = True\n",
    "app_1.HISTORICAL_DATASETS = [\n",
    "    {\n",
    "        \"name\": \"hospital\",\n",
    "        \"path\": \"datasets/hospital/dirty.csv\",\n",
    "        \"clean_path\": \"datasets/hospital/clean.csv\"\n",
    "    },\n",
    "    {\n",
    "        \"name\": \"beers\",\n",
    "        \"path\": \"datasets/beers/dirty.csv\",\n",
    "        \"clean_path\": \"datasets/beers/clean.csv\"\n",
    "    }\n",
    "]\n",
    "\n",
    "# Do you have any pretrained error corrector models to load?\n",
    "#PRETRAINED_VALUE_BASED_MODELS_PATH = \"/media/mohammad/C20E45C80E45B5E7/Projects/raha/supplementaries/models/pretrained_value_based_models_small.dictionary\"\n",
    "#pretrained_models = pickle.load(bz2.BZ2File(PRETRAINED_VALUE_BASED_MODELS_PATH, \"rb\"))"
   ]
  },
  {
   "cell_type": "markdown",
   "metadata": {},
   "source": [
    "## 2. Instantiating the Dataset\n",
    "We next load and instantiate the dataset object."
   ]
  },
  {
   "cell_type": "code",
   "execution_count": 3,
   "metadata": {},
   "outputs": [
    {
     "data": {
      "text/html": [
       "<div>\n",
       "<style scoped>\n",
       "    .dataframe tbody tr th:only-of-type {\n",
       "        vertical-align: middle;\n",
       "    }\n",
       "\n",
       "    .dataframe tbody tr th {\n",
       "        vertical-align: top;\n",
       "    }\n",
       "\n",
       "    .dataframe thead th {\n",
       "        text-align: right;\n",
       "    }\n",
       "</style>\n",
       "<table border=\"1\" class=\"dataframe\">\n",
       "  <thead>\n",
       "    <tr style=\"text-align: right;\">\n",
       "      <th></th>\n",
       "      <th>tuple_id</th>\n",
       "      <th>src</th>\n",
       "      <th>flight</th>\n",
       "      <th>sched_dep_time</th>\n",
       "      <th>act_dep_time</th>\n",
       "      <th>sched_arr_time</th>\n",
       "      <th>act_arr_time</th>\n",
       "    </tr>\n",
       "  </thead>\n",
       "  <tbody>\n",
       "    <tr>\n",
       "      <th>0</th>\n",
       "      <td>1</td>\n",
       "      <td>aa</td>\n",
       "      <td>AA-3859-IAH-ORD</td>\n",
       "      <td>7:10 a.m.</td>\n",
       "      <td>7:16 a.m.</td>\n",
       "      <td>9:40 a.m.</td>\n",
       "      <td>9:32 a.m.</td>\n",
       "    </tr>\n",
       "    <tr>\n",
       "      <th>1</th>\n",
       "      <td>2</td>\n",
       "      <td>aa</td>\n",
       "      <td>AA-1733-ORD-PHX</td>\n",
       "      <td>7:45 p.m.</td>\n",
       "      <td>7:58 p.m.</td>\n",
       "      <td>10:30 p.m.</td>\n",
       "      <td></td>\n",
       "    </tr>\n",
       "    <tr>\n",
       "      <th>2</th>\n",
       "      <td>3</td>\n",
       "      <td>aa</td>\n",
       "      <td>AA-1640-MIA-MCO</td>\n",
       "      <td>6:30 p.m.</td>\n",
       "      <td></td>\n",
       "      <td>7:25 p.m.</td>\n",
       "      <td></td>\n",
       "    </tr>\n",
       "    <tr>\n",
       "      <th>3</th>\n",
       "      <td>4</td>\n",
       "      <td>aa</td>\n",
       "      <td>AA-518-MIA-JFK</td>\n",
       "      <td>6:40 a.m.</td>\n",
       "      <td>6:54 a.m.</td>\n",
       "      <td>9:25 a.m.</td>\n",
       "      <td>9:28 a.m.</td>\n",
       "    </tr>\n",
       "    <tr>\n",
       "      <th>4</th>\n",
       "      <td>5</td>\n",
       "      <td>aa</td>\n",
       "      <td>AA-3756-ORD-SLC</td>\n",
       "      <td>12:15 p.m.</td>\n",
       "      <td>12:41 p.m.</td>\n",
       "      <td>2:45 p.m.</td>\n",
       "      <td>2:50 p.m.</td>\n",
       "    </tr>\n",
       "  </tbody>\n",
       "</table>\n",
       "</div>"
      ],
      "text/plain": [
       "  tuple_id src           flight sched_dep_time act_dep_time sched_arr_time  \\\n",
       "0        1  aa  AA-3859-IAH-ORD      7:10 a.m.    7:16 a.m.      9:40 a.m.   \n",
       "1        2  aa  AA-1733-ORD-PHX      7:45 p.m.    7:58 p.m.     10:30 p.m.   \n",
       "2        3  aa  AA-1640-MIA-MCO      6:30 p.m.                   7:25 p.m.   \n",
       "3        4  aa   AA-518-MIA-JFK      6:40 a.m.    6:54 a.m.      9:25 a.m.   \n",
       "4        5  aa  AA-3756-ORD-SLC     12:15 p.m.   12:41 p.m.      2:45 p.m.   \n",
       "\n",
       "  act_arr_time  \n",
       "0    9:32 a.m.  \n",
       "1               \n",
       "2               \n",
       "3    9:28 a.m.  \n",
       "4    2:50 p.m.  "
      ]
     },
     "execution_count": 3,
     "metadata": {},
     "output_type": "execute_result"
    }
   ],
   "source": [
    "dataset_dictionary = {\n",
    "    \"name\": \"flights\",\n",
    "    \"path\": \"datasets/flights/dirty.csv\",\n",
    "    \"clean_path\": \"datasets/flights/clean.csv\"\n",
    "}\n",
    "d = app_1.initialize_dataset(dataset_dictionary)\n",
    "d.dataframe.head()"
   ]
  },
  {
   "cell_type": "markdown",
   "metadata": {},
   "source": [
    "## 3. Running Error Detection Strategies\n",
    "Raha runs (all or the promising) error detection strategies on the dataset. This step could take a while because all the strategies should be run on the dataset. "
   ]
  },
  {
   "cell_type": "code",
   "execution_count": 4,
   "metadata": {},
   "outputs": [
    {
     "name": "stdout",
     "output_type": "stream",
     "text": [
      "209 strategy profiles are collected.\n"
     ]
    }
   ],
   "source": [
    "app_1.run_strategies(d)"
   ]
  },
  {
   "cell_type": "code",
   "execution_count": 5,
   "metadata": {},
   "outputs": [
    {
     "data": {
      "text/html": [
       "<div>\n",
       "<style scoped>\n",
       "    .dataframe tbody tr th:only-of-type {\n",
       "        vertical-align: middle;\n",
       "    }\n",
       "\n",
       "    .dataframe tbody tr th {\n",
       "        vertical-align: top;\n",
       "    }\n",
       "\n",
       "    .dataframe thead th {\n",
       "        text-align: right;\n",
       "    }\n",
       "</style>\n",
       "<table border=\"1\" class=\"dataframe\">\n",
       "  <thead>\n",
       "    <tr style=\"text-align: right;\">\n",
       "      <th></th>\n",
       "      <th>Name</th>\n",
       "      <th>Score</th>\n",
       "      <th>New Column</th>\n",
       "      <th>Historical Column</th>\n",
       "    </tr>\n",
       "  </thead>\n",
       "  <tbody>\n",
       "    <tr>\n",
       "      <th>0</th>\n",
       "      <td>[\"Outlier Detection\", [\"gaussian\", \"2.0\"]]</td>\n",
       "      <td>0.920941</td>\n",
       "      <td>flights.tuple_id</td>\n",
       "      <td>hospital.phone</td>\n",
       "    </tr>\n",
       "    <tr>\n",
       "      <th>1</th>\n",
       "      <td>[\"Outlier Detection\", [\"histogram\", \"0.9\", \"0....</td>\n",
       "      <td>0.920941</td>\n",
       "      <td>flights.tuple_id</td>\n",
       "      <td>hospital.phone</td>\n",
       "    </tr>\n",
       "    <tr>\n",
       "      <th>2</th>\n",
       "      <td>[\"Outlier Detection\", [\"histogram\", \"0.7\", \"0....</td>\n",
       "      <td>0.920941</td>\n",
       "      <td>flights.tuple_id</td>\n",
       "      <td>hospital.phone</td>\n",
       "    </tr>\n",
       "    <tr>\n",
       "      <th>3</th>\n",
       "      <td>[\"Outlier Detection\", [\"histogram\", \"0.1\", \"0....</td>\n",
       "      <td>0.920941</td>\n",
       "      <td>flights.tuple_id</td>\n",
       "      <td>hospital.phone</td>\n",
       "    </tr>\n",
       "    <tr>\n",
       "      <th>4</th>\n",
       "      <td>[\"Outlier Detection\", [\"gaussian\", \"1.0\"]]</td>\n",
       "      <td>0.920941</td>\n",
       "      <td>flights.tuple_id</td>\n",
       "      <td>hospital.phone</td>\n",
       "    </tr>\n",
       "  </tbody>\n",
       "</table>\n",
       "</div>"
      ],
      "text/plain": [
       "                                                Name     Score  \\\n",
       "0         [\"Outlier Detection\", [\"gaussian\", \"2.0\"]]  0.920941   \n",
       "1  [\"Outlier Detection\", [\"histogram\", \"0.9\", \"0....  0.920941   \n",
       "2  [\"Outlier Detection\", [\"histogram\", \"0.7\", \"0....  0.920941   \n",
       "3  [\"Outlier Detection\", [\"histogram\", \"0.1\", \"0....  0.920941   \n",
       "4         [\"Outlier Detection\", [\"gaussian\", \"1.0\"]]  0.920941   \n",
       "\n",
       "         New Column Historical Column  \n",
       "0  flights.tuple_id    hospital.phone  \n",
       "1  flights.tuple_id    hospital.phone  \n",
       "2  flights.tuple_id    hospital.phone  \n",
       "3  flights.tuple_id    hospital.phone  \n",
       "4  flights.tuple_id    hospital.phone  "
      ]
     },
     "execution_count": 5,
     "metadata": {},
     "output_type": "execute_result"
    },
    {
     "data": {
      "image/png": "[encoded data removed]",
      "text/plain": [
       "<Figure size 432x288 with 1 Axes>"
      ]
     },
     "metadata": {},
     "output_type": "display_data"
    },
    {
     "data": {
      "image/png": "[encoded data removed]",
      "text/plain": [
       "<Figure size 432x288 with 1 Axes>"
      ]
     },
     "metadata": {},
     "output_type": "display_data"
    }
   ],
   "source": [
    "optimized_strategies_count = len(d.strategy_profiles)\n",
    "optimized_runtime = sum([sp[\"runtime\"] for sp in d.strategy_profiles])\n",
    "original_strategies_count, original_runtime = raha.utilities.get_strategies_count_and_runtime(dataset_dictionary)\n",
    "approaches = [\"Without Strategy Filtering\", \"With Strategy Filtering\"]\n",
    "\n",
    "plt.style.use(\"ggplot\")\n",
    "fig = plt.figure()\n",
    "ax = plt.axes()\n",
    "x_pos = [0, 1]\n",
    "ax.bar(x_pos, [original_strategies_count, optimized_strategies_count])\n",
    "ax.set(ylabel=\"Number of Strategies\", title=\"Effect of Filtering out Ineffective Strategies\");\n",
    "ax.set_xticks(numpy.arange(len(x_pos)))\n",
    "_ = ax.set_xticklabels(approaches, rotation=0)\n",
    "\n",
    "plt.style.use(\"ggplot\")\n",
    "fig = plt.figure()\n",
    "ax = plt.axes()\n",
    "x_pos = [0, 1]\n",
    "ax.bar(x_pos, [original_runtime, optimized_runtime])\n",
    "ax.set(ylabel=\"Runtime of Strategies (s)\", title=\"Effect of Filtering out Ineffective Strategies\");\n",
    "ax.set_xticks(numpy.arange(len(x_pos)))\n",
    "_ = ax.set_xticklabels(approaches, rotation=0)\n",
    "\n",
    "strategies_df = pandas.DataFrame(columns=[\"Name\", \"Score\", \"New Column\", \"Historical Column\"])\n",
    "for sp in d.strategy_profiles:\n",
    "    strategies_df = strategies_df.append({\"Name\": sp[\"name\"].replace(\"OD\", \"Outlier Detection\").replace(\n",
    "        \"PVD\", \"Pattern Violation Detection\").replace(\"RVD\", \"Rule Violation Detection\").replace(\n",
    "        \"KBVD\", \"Knowledge Base Violation Detection\"), \"Score\": sp[\"score\"], \"New Column\": sp[\"new_column\"], \n",
    "                                          \"Historical Column\": sp[\"historical_column\"]}, ignore_index=True)    \n",
    "strategies_df.head()"
   ]
  },
  {
   "cell_type": "markdown",
   "metadata": {},
   "source": [
    "## 4. Generating Features\n",
    "Raha then generates a feature vector for each data cell based on the output of error detection strategies. "
   ]
  },
  {
   "cell_type": "code",
   "execution_count": 5,
   "metadata": {},
   "outputs": [
    {
     "name": "stdout",
     "output_type": "stream",
     "text": [
      "25 Features are generated for column 0.\n",
      "19 Features are generated for column 1.\n",
      "22 Features are generated for column 2.\n",
      "12 Features are generated for column 3.\n",
      "11 Features are generated for column 4.\n",
      "12 Features are generated for column 5.\n",
      "22 Features are generated for column 6.\n"
     ]
    }
   ],
   "source": [
    "app_1.generate_features(d)"
   ]
  },
  {
   "cell_type": "code",
   "execution_count": 8,
   "metadata": {},
   "outputs": [
    {
     "data": {
      "application/vnd.jupyter.widget-view+json": {
       "model_id": "f052b79e77a642d0926d8f8c0d632e3a",
       "version_major": 2,
       "version_minor": 0
      },
      "text/plain": [
       "interactive(children=(Text(value='100', description='row'), Text(value='6', description='column'), Output()), …"
      ]
     },
     "metadata": {},
     "output_type": "display_data"
    }
   ],
   "source": [
    "def callback(row, column):\n",
    "    selected_tuple = pandas.DataFrame(data=[d.dataframe.iloc[int(row), :]], columns=d.dataframe.columns)\n",
    "    IPython.display.display(selected_tuple)\n",
    "    features_df = pandas.DataFrame(columns=[\"Name\", \"Value\"])\n",
    "    for strategy_profile in d.strategy_profiles:\n",
    "        strategy_name = json.loads(strategy_profile[\"name\"])\n",
    "        value = 0\n",
    "        for cell in strategy_profile[\"output\"]:\n",
    "            if cell == (int(row), int(column)):\n",
    "                value = 1\n",
    "        features_df = features_df.append({\"Name\": strategy_name, \"Value\": value}, ignore_index=True)\n",
    "    IPython.display.display(features_df.sort_values(\"Value\", ascending=False))\n",
    "\n",
    "interactive_text = ipywidgets.interactive(callback, row=\"100\", column=\"6\")\n",
    "interactive_text"
   ]
  },
  {
   "cell_type": "markdown",
   "metadata": {},
   "source": [
    "## 5. Building Clusters\n",
    "Raha next builds a hierarchical clustering model for our clustering-based sampling approach."
   ]
  },
  {
   "cell_type": "code",
   "execution_count": 6,
   "metadata": {},
   "outputs": [
    {
     "name": "stdout",
     "output_type": "stream",
     "text": [
      "A hierarchical clustering model is built for column 0.\n",
      "A hierarchical clustering model is built for column 1.\n",
      "A hierarchical clustering model is built for column 2.\n",
      "A hierarchical clustering model is built for column 3.\n",
      "A hierarchical clustering model is built for column 4.\n",
      "A hierarchical clustering model is built for column 5.\n",
      "A hierarchical clustering model is built for column 6.\n"
     ]
    }
   ],
   "source": [
    "app_1.build_clusters(d)"
   ]
  },
  {
   "cell_type": "code",
   "execution_count": 10,
   "metadata": {},
   "outputs": [
    {
     "data": {
      "application/vnd.jupyter.widget-view+json": {
       "model_id": "8647442a71e74224930c900a6ccf9058",
       "version_major": 2,
       "version_minor": 0
      },
      "text/plain": [
       "interactive(children=(Dropdown(description='attribute', index=6, options=('tuple_id', 'src', 'flight', 'sched_…"
      ]
     },
     "metadata": {},
     "output_type": "display_data"
    }
   ],
   "source": [
    "def callback(attribute):\n",
    "    column = d.dataframe.columns.get_loc(attribute)\n",
    "    features = d.column_features[column]    \n",
    "    plt.figure(figsize=(20, 7))\n",
    "    plt.title(\"Data Cells Dendograms\")\n",
    "    linkage = scipy.cluster.hierarchy.linkage(features[:50], method=\"average\")\n",
    "    dend = scipy.cluster.hierarchy.dendrogram(linkage, labels=range(50))\n",
    "\n",
    "_ = ipywidgets.interact(callback, attribute=ipywidgets.Dropdown(options=d.dataframe.columns, value=d.dataframe.columns[-1]))"
   ]
  },
  {
   "cell_type": "code",
   "execution_count": 11,
   "metadata": {},
   "outputs": [
    {
     "data": {
      "text/html": [
       "<div>\n",
       "<style scoped>\n",
       "    .dataframe tbody tr th:only-of-type {\n",
       "        vertical-align: middle;\n",
       "    }\n",
       "\n",
       "    .dataframe tbody tr th {\n",
       "        vertical-align: top;\n",
       "    }\n",
       "\n",
       "    .dataframe thead th {\n",
       "        text-align: right;\n",
       "    }\n",
       "</style>\n",
       "<table border=\"1\" class=\"dataframe\">\n",
       "  <thead>\n",
       "    <tr style=\"text-align: right;\">\n",
       "      <th></th>\n",
       "      <th>Cell</th>\n",
       "      <th>Value</th>\n",
       "      <th>Strategies</th>\n",
       "    </tr>\n",
       "  </thead>\n",
       "  <tbody>\n",
       "    <tr>\n",
       "      <th>0</th>\n",
       "      <td>(37, 6)</td>\n",
       "      <td></td>\n",
       "      <td>15</td>\n",
       "    </tr>\n",
       "    <tr>\n",
       "      <th>1</th>\n",
       "      <td>(36, 6)</td>\n",
       "      <td></td>\n",
       "      <td>15</td>\n",
       "    </tr>\n",
       "    <tr>\n",
       "      <th>2</th>\n",
       "      <td>(33, 6)</td>\n",
       "      <td></td>\n",
       "      <td>15</td>\n",
       "    </tr>\n",
       "    <tr>\n",
       "      <th>3</th>\n",
       "      <td>(32, 6)</td>\n",
       "      <td></td>\n",
       "      <td>15</td>\n",
       "    </tr>\n",
       "    <tr>\n",
       "      <th>4</th>\n",
       "      <td>(31, 6)</td>\n",
       "      <td></td>\n",
       "      <td>15</td>\n",
       "    </tr>\n",
       "    <tr>\n",
       "      <th>5</th>\n",
       "      <td>(5, 6)</td>\n",
       "      <td></td>\n",
       "      <td>15</td>\n",
       "    </tr>\n",
       "    <tr>\n",
       "      <th>6</th>\n",
       "      <td>(1, 6)</td>\n",
       "      <td></td>\n",
       "      <td>15</td>\n",
       "    </tr>\n",
       "    <tr>\n",
       "      <th>7</th>\n",
       "      <td>(2, 6)</td>\n",
       "      <td></td>\n",
       "      <td>15</td>\n",
       "    </tr>\n",
       "  </tbody>\n",
       "</table>\n",
       "</div>"
      ],
      "text/plain": [
       "      Cell Value Strategies\n",
       "0  (37, 6)               15\n",
       "1  (36, 6)               15\n",
       "2  (33, 6)               15\n",
       "3  (32, 6)               15\n",
       "4  (31, 6)               15\n",
       "5   (5, 6)               15\n",
       "6   (1, 6)               15\n",
       "7   (2, 6)               15"
      ]
     },
     "metadata": {},
     "output_type": "display_data"
    },
    {
     "data": {
      "text/html": [
       "<div>\n",
       "<style scoped>\n",
       "    .dataframe tbody tr th:only-of-type {\n",
       "        vertical-align: middle;\n",
       "    }\n",
       "\n",
       "    .dataframe tbody tr th {\n",
       "        vertical-align: top;\n",
       "    }\n",
       "\n",
       "    .dataframe thead th {\n",
       "        text-align: right;\n",
       "    }\n",
       "</style>\n",
       "<table border=\"1\" class=\"dataframe\">\n",
       "  <thead>\n",
       "    <tr style=\"text-align: right;\">\n",
       "      <th></th>\n",
       "      <th>Strategies</th>\n",
       "    </tr>\n",
       "  </thead>\n",
       "  <tbody>\n",
       "    <tr>\n",
       "      <th>0</th>\n",
       "      <td>[\"OD\", [\"histogram\", \"0.7\", \"0.5\"]]</td>\n",
       "    </tr>\n",
       "    <tr>\n",
       "      <th>1</th>\n",
       "      <td>[\"OD\", [\"histogram\", \"0.5\", \"0.7\"]]</td>\n",
       "    </tr>\n",
       "    <tr>\n",
       "      <th>2</th>\n",
       "      <td>[\"OD\", [\"histogram\", \"0.3\", \"0.9\"]]</td>\n",
       "    </tr>\n",
       "    <tr>\n",
       "      <th>3</th>\n",
       "      <td>[\"OD\", [\"histogram\", \"0.5\", \"0.5\"]]</td>\n",
       "    </tr>\n",
       "    <tr>\n",
       "      <th>4</th>\n",
       "      <td>[\"OD\", [\"histogram\", \"0.1\", \"0.7\"]]</td>\n",
       "    </tr>\n",
       "    <tr>\n",
       "      <th>5</th>\n",
       "      <td>[\"OD\", [\"histogram\", \"0.5\", \"0.9\"]]</td>\n",
       "    </tr>\n",
       "    <tr>\n",
       "      <th>6</th>\n",
       "      <td>[\"OD\", [\"histogram\", \"0.3\", \"0.5\"]]</td>\n",
       "    </tr>\n",
       "    <tr>\n",
       "      <th>7</th>\n",
       "      <td>[\"OD\", [\"histogram\", \"0.3\", \"0.7\"]]</td>\n",
       "    </tr>\n",
       "    <tr>\n",
       "      <th>8</th>\n",
       "      <td>[\"OD\", [\"histogram\", \"0.1\", \"0.9\"]]</td>\n",
       "    </tr>\n",
       "    <tr>\n",
       "      <th>9</th>\n",
       "      <td>[\"OD\", [\"histogram\", \"0.1\", \"0.5\"]]</td>\n",
       "    </tr>\n",
       "    <tr>\n",
       "      <th>10</th>\n",
       "      <td>[\"OD\", [\"histogram\", \"0.7\", \"0.7\"]]</td>\n",
       "    </tr>\n",
       "    <tr>\n",
       "      <th>11</th>\n",
       "      <td>[\"OD\", [\"histogram\", \"0.7\", \"0.9\"]]</td>\n",
       "    </tr>\n",
       "    <tr>\n",
       "      <th>12</th>\n",
       "      <td>[\"RVD\", [\"src\", \"act_arr_time\"]]</td>\n",
       "    </tr>\n",
       "    <tr>\n",
       "      <th>13</th>\n",
       "      <td>[\"RVD\", [\"flight\", \"act_arr_time\"]]</td>\n",
       "    </tr>\n",
       "    <tr>\n",
       "      <th>14</th>\n",
       "      <td>[\"RVD\", [\"sched_dep_time\", \"act_arr_time\"]]</td>\n",
       "    </tr>\n",
       "  </tbody>\n",
       "</table>\n",
       "</div>"
      ],
      "text/plain": [
       "                                     Strategies\n",
       "0           [\"OD\", [\"histogram\", \"0.7\", \"0.5\"]]\n",
       "1           [\"OD\", [\"histogram\", \"0.5\", \"0.7\"]]\n",
       "2           [\"OD\", [\"histogram\", \"0.3\", \"0.9\"]]\n",
       "3           [\"OD\", [\"histogram\", \"0.5\", \"0.5\"]]\n",
       "4           [\"OD\", [\"histogram\", \"0.1\", \"0.7\"]]\n",
       "5           [\"OD\", [\"histogram\", \"0.5\", \"0.9\"]]\n",
       "6           [\"OD\", [\"histogram\", \"0.3\", \"0.5\"]]\n",
       "7           [\"OD\", [\"histogram\", \"0.3\", \"0.7\"]]\n",
       "8           [\"OD\", [\"histogram\", \"0.1\", \"0.9\"]]\n",
       "9           [\"OD\", [\"histogram\", \"0.1\", \"0.5\"]]\n",
       "10          [\"OD\", [\"histogram\", \"0.7\", \"0.7\"]]\n",
       "11          [\"OD\", [\"histogram\", \"0.7\", \"0.9\"]]\n",
       "12             [\"RVD\", [\"src\", \"act_arr_time\"]]\n",
       "13          [\"RVD\", [\"flight\", \"act_arr_time\"]]\n",
       "14  [\"RVD\", [\"sched_dep_time\", \"act_arr_time\"]]"
      ]
     },
     "metadata": {},
     "output_type": "display_data"
    },
    {
     "data": {
      "text/html": [
       "<div>\n",
       "<style scoped>\n",
       "    .dataframe tbody tr th:only-of-type {\n",
       "        vertical-align: middle;\n",
       "    }\n",
       "\n",
       "    .dataframe tbody tr th {\n",
       "        vertical-align: top;\n",
       "    }\n",
       "\n",
       "    .dataframe thead th {\n",
       "        text-align: right;\n",
       "    }\n",
       "</style>\n",
       "<table border=\"1\" class=\"dataframe\">\n",
       "  <thead>\n",
       "    <tr style=\"text-align: right;\">\n",
       "      <th></th>\n",
       "      <th>Cell</th>\n",
       "      <th>Value</th>\n",
       "      <th>Strategies</th>\n",
       "    </tr>\n",
       "  </thead>\n",
       "  <tbody>\n",
       "    <tr>\n",
       "      <th>0</th>\n",
       "      <td>(43, 6)</td>\n",
       "      <td>10:16 a.m.</td>\n",
       "      <td>13</td>\n",
       "    </tr>\n",
       "    <tr>\n",
       "      <th>1</th>\n",
       "      <td>(34, 6)</td>\n",
       "      <td>10:04 a.m.</td>\n",
       "      <td>13</td>\n",
       "    </tr>\n",
       "    <tr>\n",
       "      <th>2</th>\n",
       "      <td>(11, 6)</td>\n",
       "      <td>11:01 a.m.</td>\n",
       "      <td>13</td>\n",
       "    </tr>\n",
       "    <tr>\n",
       "      <th>3</th>\n",
       "      <td>(22, 6)</td>\n",
       "      <td>10:36 a.m.</td>\n",
       "      <td>13</td>\n",
       "    </tr>\n",
       "  </tbody>\n",
       "</table>\n",
       "</div>"
      ],
      "text/plain": [
       "      Cell       Value Strategies\n",
       "0  (43, 6)  10:16 a.m.         13\n",
       "1  (34, 6)  10:04 a.m.         13\n",
       "2  (11, 6)  11:01 a.m.         13\n",
       "3  (22, 6)  10:36 a.m.         13"
      ]
     },
     "metadata": {},
     "output_type": "display_data"
    },
    {
     "data": {
      "text/html": [
       "<div>\n",
       "<style scoped>\n",
       "    .dataframe tbody tr th:only-of-type {\n",
       "        vertical-align: middle;\n",
       "    }\n",
       "\n",
       "    .dataframe tbody tr th {\n",
       "        vertical-align: top;\n",
       "    }\n",
       "\n",
       "    .dataframe thead th {\n",
       "        text-align: right;\n",
       "    }\n",
       "</style>\n",
       "<table border=\"1\" class=\"dataframe\">\n",
       "  <thead>\n",
       "    <tr style=\"text-align: right;\">\n",
       "      <th></th>\n",
       "      <th>Strategies</th>\n",
       "    </tr>\n",
       "  </thead>\n",
       "  <tbody>\n",
       "    <tr>\n",
       "      <th>0</th>\n",
       "      <td>[\"OD\", [\"histogram\", \"0.3\", \"0.9\"]]</td>\n",
       "    </tr>\n",
       "    <tr>\n",
       "      <th>1</th>\n",
       "      <td>[\"OD\", [\"histogram\", \"0.5\", \"0.9\"]]</td>\n",
       "    </tr>\n",
       "    <tr>\n",
       "      <th>2</th>\n",
       "      <td>[\"OD\", [\"histogram\", \"0.1\", \"0.9\"]]</td>\n",
       "    </tr>\n",
       "    <tr>\n",
       "      <th>3</th>\n",
       "      <td>[\"OD\", [\"histogram\", \"0.7\", \"0.9\"]]</td>\n",
       "    </tr>\n",
       "    <tr>\n",
       "      <th>4</th>\n",
       "      <td>[\"PVD\", [\"act_arr_time\", \" \"]]</td>\n",
       "    </tr>\n",
       "    <tr>\n",
       "      <th>5</th>\n",
       "      <td>[\"PVD\", [\"act_arr_time\", \".\"]]</td>\n",
       "    </tr>\n",
       "    <tr>\n",
       "      <th>6</th>\n",
       "      <td>[\"RVD\", [\"act_arr_time\", \"src\"]]</td>\n",
       "    </tr>\n",
       "    <tr>\n",
       "      <th>7</th>\n",
       "      <td>[\"RVD\", [\"act_arr_time\", \"tuple_id\"]]</td>\n",
       "    </tr>\n",
       "    <tr>\n",
       "      <th>8</th>\n",
       "      <td>[\"PVD\", [\"act_arr_time\", \"0\"]]</td>\n",
       "    </tr>\n",
       "    <tr>\n",
       "      <th>9</th>\n",
       "      <td>[\"RVD\", [\"src\", \"act_arr_time\"]]</td>\n",
       "    </tr>\n",
       "    <tr>\n",
       "      <th>10</th>\n",
       "      <td>[\"RVD\", [\"flight\", \"act_arr_time\"]]</td>\n",
       "    </tr>\n",
       "    <tr>\n",
       "      <th>11</th>\n",
       "      <td>[\"PVD\", [\"act_arr_time\", \"1\"]]</td>\n",
       "    </tr>\n",
       "    <tr>\n",
       "      <th>12</th>\n",
       "      <td>[\"RVD\", [\"sched_dep_time\", \"act_arr_time\"]]</td>\n",
       "    </tr>\n",
       "  </tbody>\n",
       "</table>\n",
       "</div>"
      ],
      "text/plain": [
       "                                     Strategies\n",
       "0           [\"OD\", [\"histogram\", \"0.3\", \"0.9\"]]\n",
       "1           [\"OD\", [\"histogram\", \"0.5\", \"0.9\"]]\n",
       "2           [\"OD\", [\"histogram\", \"0.1\", \"0.9\"]]\n",
       "3           [\"OD\", [\"histogram\", \"0.7\", \"0.9\"]]\n",
       "4                [\"PVD\", [\"act_arr_time\", \" \"]]\n",
       "5                [\"PVD\", [\"act_arr_time\", \".\"]]\n",
       "6              [\"RVD\", [\"act_arr_time\", \"src\"]]\n",
       "7         [\"RVD\", [\"act_arr_time\", \"tuple_id\"]]\n",
       "8                [\"PVD\", [\"act_arr_time\", \"0\"]]\n",
       "9              [\"RVD\", [\"src\", \"act_arr_time\"]]\n",
       "10          [\"RVD\", [\"flight\", \"act_arr_time\"]]\n",
       "11               [\"PVD\", [\"act_arr_time\", \"1\"]]\n",
       "12  [\"RVD\", [\"sched_dep_time\", \"act_arr_time\"]]"
      ]
     },
     "metadata": {},
     "output_type": "display_data"
    }
   ],
   "source": [
    "def inspect_features(cell_list):\n",
    "    features_df = pandas.DataFrame(columns=[\"Cell\", \"Value\", \"Strategies\"])\n",
    "    for c in cell_list:\n",
    "        strategies = []\n",
    "        for strategy_profile in d.strategy_profiles:\n",
    "            strategy_name = json.loads(strategy_profile[\"name\"])\n",
    "            for cell in strategy_profile[\"output\"]:\n",
    "                if cell == c:\n",
    "                    strategies.append(strategy_profile[\"name\"])\n",
    "        features_df = features_df.append({\"Cell\": c, \"Value\": d.dataframe.iloc[c], \n",
    "                                          \"Strategies\": len(strategies)}, ignore_index=True)\n",
    "    IPython.display.display(features_df)\n",
    "    IPython.display.display(pandas.DataFrame({\"Strategies\": strategies}))\n",
    "\n",
    "    \n",
    "first_cluster = [(37, 6), (36, 6), (33, 6), (32, 6), (31, 6), (5, 6), (1, 6), (2, 6)]\n",
    "inspect_features(first_cluster)\n",
    "\n",
    "second_cluster = [(43, 6), (34, 6), (11, 6), (22, 6)]\n",
    "inspect_features(second_cluster)"
   ]
  },
  {
   "cell_type": "markdown",
   "metadata": {},
   "source": [
    "## 6. Interactive Tuple Sampling and Labeling\n",
    "Raha then iteratively samples a tuple. We should label data cells of each sampled tuple."
   ]
  },
  {
   "cell_type": "code",
   "execution_count": 53,
   "metadata": {},
   "outputs": [
    {
     "name": "stdout",
     "output_type": "stream",
     "text": [
      "Tuple 2026 is sampled.\n",
      "Fix the dirty cells in the following sampled tuple.\n"
     ]
    },
    {
     "data": {
      "text/html": [
       "<div>\n",
       "<style scoped>\n",
       "    .dataframe tbody tr th:only-of-type {\n",
       "        vertical-align: middle;\n",
       "    }\n",
       "\n",
       "    .dataframe tbody tr th {\n",
       "        vertical-align: top;\n",
       "    }\n",
       "\n",
       "    .dataframe thead th {\n",
       "        text-align: right;\n",
       "    }\n",
       "</style>\n",
       "<table border=\"1\" class=\"dataframe\">\n",
       "  <thead>\n",
       "    <tr style=\"text-align: right;\">\n",
       "      <th></th>\n",
       "      <th>tuple_id</th>\n",
       "      <th>src</th>\n",
       "      <th>flight</th>\n",
       "      <th>sched_dep_time</th>\n",
       "      <th>act_dep_time</th>\n",
       "      <th>sched_arr_time</th>\n",
       "      <th>act_arr_time</th>\n",
       "    </tr>\n",
       "  </thead>\n",
       "  <tbody>\n",
       "    <tr>\n",
       "      <th>2026</th>\n",
       "      <td>2027</td>\n",
       "      <td>allegiantair</td>\n",
       "      <td>UA-62-IAH-EWR</td>\n",
       "      <td></td>\n",
       "      <td>2:59 p.m.</td>\n",
       "      <td></td>\n",
       "      <td>7:10 p.m.</td>\n",
       "    </tr>\n",
       "  </tbody>\n",
       "</table>\n",
       "</div>"
      ],
      "text/plain": [
       "     tuple_id           src         flight sched_dep_time act_dep_time  \\\n",
       "2026     2027  allegiantair  UA-62-IAH-EWR                   2:59 p.m.   \n",
       "\n",
       "     sched_arr_time act_arr_time  \n",
       "2026                   7:10 p.m.  "
      ]
     },
     "metadata": {},
     "output_type": "display_data"
    },
    {
     "data": {
      "application/vnd.jupyter.widget-view+json": {
       "model_id": "cc0dc33c1acd4f3a9d69bcaf8cadac66",
       "version_major": 2,
       "version_minor": 0
      },
      "text/plain": [
       "VBox(children=(Text(value='2027'), Text(value='allegiantair'), Text(value='UA-62-IAH-EWR'), Text(value=''), Te…"
      ]
     },
     "metadata": {},
     "output_type": "display_data"
    }
   ],
   "source": [
    "def on_button_clicked(_):\n",
    "    for j in range(0, len(texts)):\n",
    "        cell = (d.sampled_tuple, j)\n",
    "        error_label = 0\n",
    "        correction = texts[j].value\n",
    "        if d.dataframe.iloc[cell] != correction:\n",
    "            error_label = 1\n",
    "        d.labeled_cells[cell] = [error_label, correction]\n",
    "    d.labeled_tuples[d.sampled_tuple] = 1\n",
    "\n",
    "app_1.sample_tuple(d)\n",
    "print(\"Fix the dirty cells in the following sampled tuple.\")\n",
    "sampled_tuple = pandas.DataFrame(data=[d.dataframe.iloc[d.sampled_tuple, :]], columns=d.dataframe.columns)\n",
    "IPython.display.display(sampled_tuple)  \n",
    "texts = [ipywidgets.Text(value=d.dataframe.iloc[d.sampled_tuple, j]) for j in range(d.dataframe.shape[1])]\n",
    "button = ipywidgets.Button(description=\"Save the Annotation\")\n",
    "button.on_click(on_button_clicked)\n",
    "output = ipywidgets.VBox(children=texts + [button])\n",
    "IPython.display.display(output)"
   ]
  },
  {
   "cell_type": "code",
   "execution_count": 12,
   "metadata": {},
   "outputs": [
    {
     "data": {
      "application/vnd.jupyter.widget-view+json": {
       "model_id": "a071ce046bf54cd69f4466a0a6c45c56",
       "version_major": 2,
       "version_minor": 0
      },
      "text/plain": [
       "interactive(children=(Text(value='x10:00', description='old_value'), Text(value='10:00', description='new_valu…"
      ]
     },
     "metadata": {},
     "output_type": "display_data"
    }
   ],
   "source": [
    "model_names = [\"Identity+Remover\", \"Unicode+Remover\", \"Identity+Adder\", \"Unicode+Adder\",\n",
    "               \"Identity+Replacer\", \"Unicode+Replacer\", \"Identity+Swapper\", \"Unicode+Swapper\"]\n",
    "def callback(old_value, new_value):\n",
    "    corrections = raha.Correction()._value_based_corrector(pretrained_models, {\"old_value\": old_value, \"new_value\": new_value})\n",
    "    annotation_df = pandas.DataFrame(columns=[\"Model\", \"Probability\"])   \n",
    "    for m, model in enumerate(corrections):\n",
    "        p = model[new_value] if new_value in model else 0\n",
    "        annotation_df = annotation_df.append({\"Model\": model_names[m], \"Probability\": \"{:.2f}\".format(p)}, ignore_index=True)\n",
    "    IPython.display.display(annotation_df)\n",
    "\n",
    "interactive_text = ipywidgets.interactive(callback, old_value=\"x10:00\", new_value=\"10:00\")\n",
    "interactive_text"
   ]
  },
  {
   "cell_type": "markdown",
   "metadata": {},
   "source": [
    "For the sake of time, we use the ground truth of the dataset to label tuples below."
   ]
  },
  {
   "cell_type": "code",
   "execution_count": 7,
   "metadata": {
    "scrolled": true
   },
   "outputs": [],
   "source": [
    "%%capture\n",
    "while len(d.labeled_tuples) < app_1.LABELING_BUDGET:\n",
    "    app_1.sample_tuple(d)\n",
    "    if d.has_ground_truth:\n",
    "        app_1.label_with_ground_truth(d)"
   ]
  },
  {
   "cell_type": "code",
   "execution_count": 8,
   "metadata": {},
   "outputs": [
    {
     "data": {
      "application/vnd.jupyter.widget-view+json": {
       "model_id": "4ff3d41820404b5885a63abda389ceee",
       "version_major": 2,
       "version_minor": 0
      },
      "text/plain": [
       "interactive(children=(Dropdown(description='attribute', index=6, options=('tuple_id', 'src', 'flight', 'sched_…"
      ]
     },
     "metadata": {},
     "output_type": "display_data"
    }
   ],
   "source": [
    "def callback(attribute):\n",
    "    column = d.dataframe.columns.get_loc(attribute)\n",
    "    features = d.column_features[column]\n",
    "    features = (features - features.min())/(features.max() - features.min())\n",
    "    pca = sklearn.decomposition.PCA(n_components=2)\n",
    "    transformed = pandas.DataFrame(pca.fit_transform(features))\n",
    "    clean_indexes = [True if (i, column) in d.labeled_cells and d.labeled_cells[(i, column)][0] == 0 \n",
    "                     else False for i in range(d.dataframe.shape[0])]\n",
    "    clean_data_cells = transformed[clean_indexes]\n",
    "    dirty_indexes = [True if (i, column) in d.labeled_cells and d.labeled_cells[(i, column)][0] == 1 \n",
    "                     else False for i in range(d.dataframe.shape[0])]\n",
    "    dirty_data_cells = transformed[dirty_indexes]\n",
    "    unlabeled_indexes = [True if (i, column) not in d.labeled_cells else False for i in range(d.dataframe.shape[0])]\n",
    "    unlabeled_data_cells = transformed[unlabeled_indexes]    \n",
    "    \n",
    "    plt.style.use(\"ggplot\")\n",
    "    fig = plt.figure()\n",
    "    ax = plt.axes()\n",
    "    plt.scatter(unlabeled_data_cells[0], unlabeled_data_cells[1], label=\"Unlabeled Data Cells\", c=\"gray\")\n",
    "    plt.scatter(clean_data_cells[0], clean_data_cells[1], label=\"Clean Data Cells\", c=\"green\")\n",
    "    plt.scatter(dirty_data_cells[0], dirty_data_cells[1], label=\"Dirty Data Cells\", c=\"red\")\n",
    "    plt.legend()\n",
    "    plt.show()\n",
    "\n",
    "    \n",
    "_ = ipywidgets.interact(callback, attribute=ipywidgets.Dropdown(options=d.dataframe.columns, value=d.dataframe.columns[-1]))"
   ]
  },
  {
   "cell_type": "markdown",
   "metadata": {},
   "source": [
    "## 7. Propagating User Labels\n",
    "Raha then propagates each user label through its cluster."
   ]
  },
  {
   "cell_type": "code",
   "execution_count": 9,
   "metadata": {},
   "outputs": [
    {
     "name": "stdout",
     "output_type": "stream",
     "text": [
      "The number of labeled data cells increased from 140 to 2901.\n"
     ]
    }
   ],
   "source": [
    "app_1.propagate_labels(d)"
   ]
  },
  {
   "cell_type": "code",
   "execution_count": 10,
   "metadata": {},
   "outputs": [
    {
     "data": {
      "application/vnd.jupyter.widget-view+json": {
       "model_id": "f76a1c669e8c4d449b199079aea7ffeb",
       "version_major": 2,
       "version_minor": 0
      },
      "text/plain": [
       "interactive(children=(Dropdown(description='attribute', index=6, options=('tuple_id', 'src', 'flight', 'sched_…"
      ]
     },
     "metadata": {},
     "output_type": "display_data"
    }
   ],
   "source": [
    "def callback(attribute):\n",
    "    column = d.dataframe.columns.get_loc(attribute)\n",
    "    features = d.column_features[column]\n",
    "    features = (features - features.min())/(features.max() - features.min())\n",
    "    pca = sklearn.decomposition.PCA(n_components=2)\n",
    "    transformed = pandas.DataFrame(pca.fit_transform(features))\n",
    "    clean_indexes = [True if (i, column) in d.extended_labeled_cells and d.extended_labeled_cells[(i, column)] == 0 \n",
    "                     else False for i in range(d.dataframe.shape[0])]\n",
    "    clean_data_cells = transformed[clean_indexes]\n",
    "    dirty_indexes = [True if (i, column) in d.extended_labeled_cells and d.extended_labeled_cells[(i, column)] == 1 \n",
    "                     else False for i in range(d.dataframe.shape[0])]\n",
    "    dirty_data_cells = transformed[dirty_indexes]\n",
    "    unlabeled_indexes = [True if (i, column) not in d.extended_labeled_cells else False for i in range(d.dataframe.shape[0])]\n",
    "    unlabeled_data_cells = transformed[unlabeled_indexes]    \n",
    "    \n",
    "    plt.style.use(\"ggplot\")\n",
    "    fig = plt.figure()\n",
    "    ax = plt.axes()\n",
    "    plt.scatter(unlabeled_data_cells[0], unlabeled_data_cells[1], label=\"Unlabeled Data Cells\", c=\"gray\")\n",
    "    plt.scatter(clean_data_cells[0], clean_data_cells[1], label=\"Clean Data Cells\", c=\"green\")\n",
    "    plt.scatter(dirty_data_cells[0], dirty_data_cells[1], label=\"Dirty Data Cells\", c=\"red\")\n",
    "    plt.legend()\n",
    "    plt.show()\n",
    "\n",
    "    \n",
    "_ = ipywidgets.interact(callback, attribute=ipywidgets.Dropdown(options=d.dataframe.columns, value=d.dataframe.columns[-1]))"
   ]
  },
  {
   "cell_type": "markdown",
   "metadata": {},
   "source": [
    "## 8. Predicting Labels of Data Cells\n",
    "Raha then trains and applies one classifier per data column to predict the label of the rest of data cells."
   ]
  },
  {
   "cell_type": "code",
   "execution_count": 11,
   "metadata": {},
   "outputs": [
    {
     "name": "stdout",
     "output_type": "stream",
     "text": [
      "A classifier is trained and applied on column 0.\n",
      "A classifier is trained and applied on column 1.\n",
      "A classifier is trained and applied on column 2.\n",
      "A classifier is trained and applied on column 3.\n",
      "A classifier is trained and applied on column 4.\n",
      "A classifier is trained and applied on column 5.\n",
      "A classifier is trained and applied on column 6.\n"
     ]
    }
   ],
   "source": [
    "app_1.predict_labels(d)"
   ]
  },
  {
   "cell_type": "code",
   "execution_count": 12,
   "metadata": {},
   "outputs": [
    {
     "data": {
      "application/vnd.jupyter.widget-view+json": {
       "model_id": "db906b31b16f4800a0ed3fb1e7d0f0de",
       "version_major": 2,
       "version_minor": 0
      },
      "text/plain": [
       "interactive(children=(Dropdown(description='attribute', index=6, options=('tuple_id', 'src', 'flight', 'sched_…"
      ]
     },
     "metadata": {},
     "output_type": "display_data"
    }
   ],
   "source": [
    "def callback(attribute):\n",
    "    column = d.dataframe.columns.get_loc(attribute)\n",
    "    features = d.column_features[column]\n",
    "    features = (features - features.min())/(features.max() - features.min())\n",
    "    pca = sklearn.decomposition.PCA(n_components=2)\n",
    "    transformed = pandas.DataFrame(pca.fit_transform(features))\n",
    "    clean_indexes = [True if (i, column) not in d.detected_cells else False for i in range(d.dataframe.shape[0])]\n",
    "    clean_data_cells = transformed[clean_indexes]\n",
    "    dirty_indexes = [True if (i, column) in d.detected_cells else False for i in range(d.dataframe.shape[0])]\n",
    "    dirty_data_cells = transformed[dirty_indexes]\n",
    "\n",
    "    plt.style.use(\"ggplot\")\n",
    "    fig = plt.figure()\n",
    "    ax = plt.axes()\n",
    "    plt.scatter(clean_data_cells[0], clean_data_cells[1], label=\"Clean Data Cells\", c=\"green\")\n",
    "    plt.scatter(dirty_data_cells[0], dirty_data_cells[1], label=\"Dirty Data Cells\", c=\"red\")\n",
    "    plt.legend()\n",
    "    plt.show()\n",
    "\n",
    "    \n",
    "_ = ipywidgets.interact(callback, attribute=ipywidgets.Dropdown(options=d.dataframe.columns, value=d.dataframe.columns[-1]))"
   ]
  },
  {
   "cell_type": "code",
   "execution_count": 13,
   "metadata": {},
   "outputs": [
    {
     "data": {
      "application/vnd.jupyter.widget-view+json": {
       "model_id": "092ddb7b44f84da0b34cdf49d76d835e",
       "version_major": 2,
       "version_minor": 0
      },
      "text/plain": [
       "interactive(children=(Dropdown(description='data_cell', options=('[50, 3]', '[52, 3]', '[53, 3]', '[54, 3]', '…"
      ]
     },
     "metadata": {},
     "output_type": "display_data"
    }
   ],
   "source": [
    "def callback(data_cell):\n",
    "    c = tuple(json.loads(data_cell))\n",
    "    selected_tuple = pandas.DataFrame(data=[d.dataframe.iloc[c[0], :]], columns=d.dataframe.columns)\n",
    "    IPython.display.display(selected_tuple)\n",
    "    features_df = pandas.DataFrame(columns=[\"Name\", \"Value\"])\n",
    "    for strategy_profile in d.strategy_profiles:\n",
    "        strategy_name = json.loads(strategy_profile[\"name\"])\n",
    "        for cell in strategy_profile[\"output\"]:\n",
    "            if cell == c:\n",
    "                features_df = features_df.append({\"Name\": strategy_name, \"Value\": 1}, ignore_index=True)\n",
    "    IPython.display.display(features_df)\n",
    "    \n",
    "    column = c[1]\n",
    "    features = d.column_features[column]\n",
    "    features = (features - features.min())/(features.max() - features.min())\n",
    "    pca = sklearn.decomposition.PCA(n_components=2)\n",
    "    transformed = pandas.DataFrame(pca.fit_transform(features))\n",
    "    clean_indexes = [True if (i, column) not in d.detected_cells else False for i in range(d.dataframe.shape[0])]\n",
    "    clean_data_cells = transformed[clean_indexes]\n",
    "    dirty_indexes = [True if (i, column) in d.detected_cells else False for i in range(d.dataframe.shape[0])]\n",
    "    dirty_data_cells = transformed[dirty_indexes]\n",
    "    selected_dirty_indexes = [True if i == c[0] else False for i in range(d.dataframe.shape[0])]\n",
    "    selected_dirty_data_cell = transformed[selected_dirty_indexes]\n",
    "\n",
    "    plt.style.use(\"ggplot\")\n",
    "    fig = plt.figure()\n",
    "    ax = plt.axes()\n",
    "    plt.scatter(clean_data_cells[0], clean_data_cells[1], label=\"Clean Data Cells\", c=\"green\")\n",
    "    plt.scatter(dirty_data_cells[0], dirty_data_cells[1], label=\"Dirty Data Cells\", c=\"red\")\n",
    "    plt.scatter(selected_dirty_data_cell[0], selected_dirty_data_cell[1], label=\"Selected Dirty Data Cells\", c=\"blue\")\n",
    "    plt.legend()\n",
    "    plt.show()\n",
    "                            \n",
    "                \n",
    "_ = ipywidgets.interact(callback, data_cell=[json.dumps(cell) for cell in d.detected_cells])"
   ]
  },
  {
   "cell_type": "code",
   "execution_count": 14,
   "metadata": {},
   "outputs": [
    {
     "data": {
      "image/png": "[encoded data removed]",
      "text/plain": [
       "<Figure size 432x288 with 1 Axes>"
      ]
     },
     "metadata": {},
     "output_type": "display_data"
    }
   ],
   "source": [
    "errors_per_attribute = d.dataframe.shape[1] * [0]\n",
    "for cell in d.detected_cells:\n",
    "    errors_per_attribute[cell[1]] += 1\n",
    "\n",
    "plt.style.use(\"ggplot\")\n",
    "fig = plt.figure()\n",
    "ax = plt.axes()\n",
    "x_pos = range(len(d.dataframe.columns))\n",
    "ax.bar(x_pos, errors_per_attribute)\n",
    "ax.set(ylabel=\"Data Errors per Attribute\", title=\"Error Detection Progress\");\n",
    "ax.set_xticks(numpy.arange(len(x_pos)))\n",
    "_ = ax.set_xticklabels(d.dataframe.columns, rotation=22)"
   ]
  },
  {
   "cell_type": "markdown",
   "metadata": {},
   "source": [
    "## 9. Initializing and Updating the Error Corrector Models\n",
    "Baran initializes the error corrector models. Baran then iteratively samples a tuple. We should label data cells of each sampled tuple. It then udpates the models accordingly and generates a feature vector for each pair of a data error and a correction candidate. Finally, it trains and applies a classifier to each data column to predict the final correction of each data error. Since we already labeled tuples for Raha, we use the same labeled tuples and do not label new tuples here."
   ]
  },
  {
   "cell_type": "code",
   "execution_count": 15,
   "metadata": {},
   "outputs": [
    {
     "name": "stdout",
     "output_type": "stream",
     "text": [
      "The error corrector models are initialized.\n",
      "The error corrector models are updated with new labeled tuple 2035.\n",
      "585015 pairs of (a data error, a potential correction) are featurized.\n",
      "49% (2627 / 5309) of data errors are corrected.\n",
      "The error corrector models are updated with new labeled tuple 920.\n",
      "588815 pairs of (a data error, a potential correction) are featurized.\n",
      "52% (2782 / 5309) of data errors are corrected.\n",
      "The error corrector models are updated with new labeled tuple 58.\n",
      "595508 pairs of (a data error, a potential correction) are featurized.\n",
      "52% (2783 / 5309) of data errors are corrected.\n",
      "The error corrector models are updated with new labeled tuple 2259.\n",
      "600179 pairs of (a data error, a potential correction) are featurized.\n",
      "53% (2817 / 5309) of data errors are corrected.\n",
      "The error corrector models are updated with new labeled tuple 1561.\n",
      "610384 pairs of (a data error, a potential correction) are featurized.\n",
      "54% (2875 / 5309) of data errors are corrected.\n",
      "The error corrector models are updated with new labeled tuple 387.\n",
      "621915 pairs of (a data error, a potential correction) are featurized.\n",
      "55% (2937 / 5309) of data errors are corrected.\n",
      "The error corrector models are updated with new labeled tuple 143.\n",
      "624782 pairs of (a data error, a potential correction) are featurized.\n",
      "56% (2952 / 5309) of data errors are corrected.\n",
      "The error corrector models are updated with new labeled tuple 598.\n",
      "628176 pairs of (a data error, a potential correction) are featurized.\n",
      "58% (3087 / 5309) of data errors are corrected.\n",
      "The error corrector models are updated with new labeled tuple 587.\n",
      "628176 pairs of (a data error, a potential correction) are featurized.\n",
      "58% (3087 / 5309) of data errors are corrected.\n",
      "The error corrector models are updated with new labeled tuple 748.\n",
      "632817 pairs of (a data error, a potential correction) are featurized.\n",
      "59% (3113 / 5309) of data errors are corrected.\n",
      "The error corrector models are updated with new labeled tuple 1431.\n",
      "632817 pairs of (a data error, a potential correction) are featurized.\n",
      "59% (3113 / 5309) of data errors are corrected.\n",
      "The error corrector models are updated with new labeled tuple 2330.\n",
      "632817 pairs of (a data error, a potential correction) are featurized.\n",
      "59% (3113 / 5309) of data errors are corrected.\n",
      "The error corrector models are updated with new labeled tuple 1508.\n",
      "632817 pairs of (a data error, a potential correction) are featurized.\n",
      "59% (3114 / 5309) of data errors are corrected.\n",
      "The error corrector models are updated with new labeled tuple 1931.\n",
      "634665 pairs of (a data error, a potential correction) are featurized.\n",
      "59% (3121 / 5309) of data errors are corrected.\n",
      "The error corrector models are updated with new labeled tuple 928.\n",
      "637277 pairs of (a data error, a potential correction) are featurized.\n",
      "59% (3121 / 5309) of data errors are corrected.\n",
      "The error corrector models are updated with new labeled tuple 157.\n",
      "641220 pairs of (a data error, a potential correction) are featurized.\n",
      "59% (3121 / 5309) of data errors are corrected.\n",
      "The error corrector models are updated with new labeled tuple 1338.\n",
      "643165 pairs of (a data error, a potential correction) are featurized.\n",
      "59% (3121 / 5309) of data errors are corrected.\n",
      "The error corrector models are updated with new labeled tuple 1199.\n",
      "646529 pairs of (a data error, a potential correction) are featurized.\n",
      "59% (3121 / 5309) of data errors are corrected.\n",
      "The error corrector models are updated with new labeled tuple 528.\n",
      "651086 pairs of (a data error, a potential correction) are featurized.\n",
      "59% (3121 / 5309) of data errors are corrected.\n",
      "The error corrector models are updated with new labeled tuple 2354.\n",
      "651086 pairs of (a data error, a potential correction) are featurized.\n",
      "59% (3121 / 5309) of data errors are corrected.\n"
     ]
    }
   ],
   "source": [
    "corrections_per_labels = [0]\n",
    "app_2.initialize_models(d)\n",
    "app_2.initialize_dataset(d)\n",
    "for si in d.labeled_tuples:\n",
    "    d.sampled_tuple = si\n",
    "    app_2.update_models(d)\n",
    "    app_2.generate_features(d)\n",
    "    app_2.predict_corrections(d)\n",
    "    corrections_per_labels.append(len(d.corrected_cells))"
   ]
  },
  {
   "cell_type": "code",
   "execution_count": 16,
   "metadata": {},
   "outputs": [
    {
     "data": {
      "application/vnd.jupyter.widget-view+json": {
       "model_id": "c5627cd307d74f71951ca280f2f95f07",
       "version_major": 2,
       "version_minor": 0
      },
      "text/plain": [
       "interactive(children=(Dropdown(description='data_cell', options=('[58, 3]', '[143, 3]', '[387, 3]', '[748, 3]'…"
      ]
     },
     "metadata": {},
     "output_type": "display_data"
    }
   ],
   "source": [
    "def callback(data_cell):\n",
    "    c = tuple(json.loads(data_cell))\n",
    "    selected_tuple = pandas.DataFrame(data=[d.dataframe.iloc[c[0], :]], columns=d.dataframe.columns)\n",
    "    IPython.display.display(selected_tuple)    \n",
    "    features_df = pandas.DataFrame(columns=[\"Erroneus Value\", \"Correction\", \"Model\", \"Probability\"])\n",
    "    correction = d.corrected_cells[c]\n",
    "    error_dictionary = {\"column\": c[1], \"old_value\": d.dataframe.iloc[c], \"vicinity\": list(d.dataframe.iloc[c[0], :])}\n",
    "    value_corrections = app_2._value_based_corrector(d.value_models, error_dictionary)\n",
    "    vicinity_corrections = app_2._vicinity_based_corrector(d.vicinity_models, error_dictionary)\n",
    "    domain_corrections = app_2._domain_based_corrector(d.domain_models, error_dictionary)\n",
    "    models_corrections = value_corrections + vicinity_corrections + domain_corrections\n",
    "    for mi, model in enumerate(models_corrections):\n",
    "        p = 0\n",
    "        if correction in model:\n",
    "            p = model[correction]\n",
    "        name = \"\"\n",
    "        if mi == len(models_corrections) - 1:\n",
    "            name = \"Domain \" + d.dataframe.columns[c[1]]\n",
    "        elif mi < len(model_names):\n",
    "            name = model_names[mi]\n",
    "        else:\n",
    "            name = \"{} -> {}\".format(d.dataframe.columns[mi - 8], d.dataframe.columns[c[1]])\n",
    "            \n",
    "        features_df = features_df.append({\"Erroneus Value\": d.dataframe.iloc[c], \"Correction\": correction,\n",
    "                                          \"Model\": name, \"Probability\": \"{:.2f}\".format(p)}, ignore_index=True)                                \n",
    "    IPython.display.display(features_df)\n",
    "    \n",
    "    column = c[1]\n",
    "    features = d.column_features[column]\n",
    "    features = (features - features.min())/(features.max() - features.min())\n",
    "    pca = sklearn.decomposition.PCA(n_components=2)\n",
    "    transformed = pandas.DataFrame(pca.fit_transform(features))\n",
    "    clean_indexes = [True if (i, column) not in d.detected_cells else False for i in range(d.dataframe.shape[0])]\n",
    "    clean_data_cells = transformed[clean_indexes]\n",
    "    dirty_indexes = [True if (i, column) in d.detected_cells else False for i in range(d.dataframe.shape[0])]\n",
    "    dirty_data_cells = transformed[dirty_indexes]\n",
    "    selected_dirty_indexes = [True if i == c[0] else False for i in range(d.dataframe.shape[0])]\n",
    "    selected_dirty_data_cell = transformed[selected_dirty_indexes]\n",
    "\n",
    "    plt.style.use(\"ggplot\")\n",
    "    fig = plt.figure()\n",
    "    ax = plt.axes()\n",
    "    plt.scatter(clean_data_cells[0], clean_data_cells[1], label=\"Clean Data Cells\", c=\"green\")\n",
    "    plt.scatter(dirty_data_cells[0], dirty_data_cells[1], label=\"Dirty Data Cells\", c=\"red\")\n",
    "    plt.scatter(selected_dirty_data_cell[0], selected_dirty_data_cell[1], label=\"Selected Dirty Data Cells\", c=\"blue\")\n",
    "    plt.legend()\n",
    "    plt.show()\n",
    "                            \n",
    "                \n",
    "_ = ipywidgets.interact(callback, data_cell=[json.dumps(cell) for cell in d.corrected_cells])"
   ]
  },
  {
   "cell_type": "code",
   "execution_count": 17,
   "metadata": {},
   "outputs": [
    {
     "data": {
      "image/png": "[encoded data removed]",
      "text/plain": [
       "<Figure size 432x288 with 1 Axes>"
      ]
     },
     "metadata": {},
     "output_type": "display_data"
    }
   ],
   "source": [
    "plt.style.use(\"ggplot\")\n",
    "fig = plt.figure()\n",
    "ax = plt.axes()\n",
    "ax.plot(range(0, len(d.labeled_tuples) + 1), corrections_per_labels)\n",
    "_ = ax.set(xlim=(0, len(d.labeled_tuples) + 1), xticks = range(0, len(d.labeled_tuples) + 1, 2), \n",
    "       xlabel=\"Labeled Tuples\", ylabel=\"Corrected Data Errors\", title=\"Error Correction Progress\")"
   ]
  },
  {
   "cell_type": "code",
   "execution_count": 18,
   "metadata": {},
   "outputs": [
    {
     "ename": "NameError",
     "evalue": "name 'pretrained_models' is not defined",
     "output_type": "error",
     "traceback": [
      "\u001b[0;31m---------------------------------------------------------------------------\u001b[0m",
      "\u001b[0;31mNameError\u001b[0m                                 Traceback (most recent call last)",
      "\u001b[0;32m<ipython-input-18-17e9596e531a>\u001b[0m in \u001b[0;36m<module>\u001b[0;34m\u001b[0m\n\u001b[1;32m      5\u001b[0m     \u001b[0mcorrection_candidates\u001b[0m\u001b[0;34m[\u001b[0m\u001b[0mcell\u001b[0m\u001b[0;34m]\u001b[0m \u001b[0;34m=\u001b[0m \u001b[0;34m{\u001b[0m\u001b[0;34m}\u001b[0m\u001b[0;34m\u001b[0m\u001b[0;34m\u001b[0m\u001b[0m\n\u001b[1;32m      6\u001b[0m     \u001b[0merror_dictionary\u001b[0m \u001b[0;34m=\u001b[0m \u001b[0;34m{\u001b[0m\u001b[0;34m\"column\"\u001b[0m\u001b[0;34m:\u001b[0m \u001b[0mcell\u001b[0m\u001b[0;34m[\u001b[0m\u001b[0;36m1\u001b[0m\u001b[0;34m]\u001b[0m\u001b[0;34m,\u001b[0m \u001b[0;34m\"old_value\"\u001b[0m\u001b[0;34m:\u001b[0m \u001b[0md\u001b[0m\u001b[0;34m.\u001b[0m\u001b[0mdataframe\u001b[0m\u001b[0;34m.\u001b[0m\u001b[0miloc\u001b[0m\u001b[0;34m[\u001b[0m\u001b[0mcell\u001b[0m\u001b[0;34m]\u001b[0m\u001b[0;34m,\u001b[0m \u001b[0;34m\"vicinity\"\u001b[0m\u001b[0;34m:\u001b[0m \u001b[0mlist\u001b[0m\u001b[0;34m(\u001b[0m\u001b[0md\u001b[0m\u001b[0;34m.\u001b[0m\u001b[0mdataframe\u001b[0m\u001b[0;34m.\u001b[0m\u001b[0miloc\u001b[0m\u001b[0;34m[\u001b[0m\u001b[0mcell\u001b[0m\u001b[0;34m[\u001b[0m\u001b[0;36m0\u001b[0m\u001b[0;34m]\u001b[0m\u001b[0;34m,\u001b[0m \u001b[0;34m:\u001b[0m\u001b[0;34m]\u001b[0m\u001b[0;34m)\u001b[0m\u001b[0;34m}\u001b[0m\u001b[0;34m\u001b[0m\u001b[0;34m\u001b[0m\u001b[0m\n\u001b[0;32m----> 7\u001b[0;31m     \u001b[0mvalue_corrections\u001b[0m \u001b[0;34m=\u001b[0m \u001b[0mapp_2\u001b[0m\u001b[0;34m.\u001b[0m\u001b[0m_value_based_corrector\u001b[0m\u001b[0;34m(\u001b[0m\u001b[0mpretrained_models\u001b[0m\u001b[0;34m,\u001b[0m \u001b[0merror_dictionary\u001b[0m\u001b[0;34m)\u001b[0m\u001b[0;34m\u001b[0m\u001b[0;34m\u001b[0m\u001b[0m\n\u001b[0m\u001b[1;32m      8\u001b[0m     \u001b[0;32mfor\u001b[0m \u001b[0mmodel\u001b[0m \u001b[0;32min\u001b[0m \u001b[0mvalue_corrections\u001b[0m\u001b[0;34m:\u001b[0m\u001b[0;34m\u001b[0m\u001b[0;34m\u001b[0m\u001b[0m\n\u001b[1;32m      9\u001b[0m         \u001b[0;32mfor\u001b[0m \u001b[0mvalue\u001b[0m \u001b[0;32min\u001b[0m \u001b[0mmodel\u001b[0m\u001b[0;34m:\u001b[0m\u001b[0;34m\u001b[0m\u001b[0;34m\u001b[0m\u001b[0m\n",
      "\u001b[0;31mNameError\u001b[0m: name 'pretrained_models' is not defined"
     ]
    }
   ],
   "source": [
    "correction_candidates = {}\n",
    "total_correction_candidates = 0\n",
    "actual_correction_candidates = 0\n",
    "for cell in d.detected_cells:\n",
    "    correction_candidates[cell] = {}\n",
    "    error_dictionary = {\"column\": cell[1], \"old_value\": d.dataframe.iloc[cell], \"vicinity\": list(d.dataframe.iloc[cell[0], :])}\n",
    "    value_corrections = app_2._value_based_corrector(pretrained_models, error_dictionary)\n",
    "    for model in value_corrections:\n",
    "        for value in model:\n",
    "            correction_candidates[cell][value] = 1\n",
    "            total_correction_candidates += 1\n",
    "            if value == d.clean_dataframe.iloc[cell]:\n",
    "                actual_correction_candidates += 1\n",
    "\n",
    "plt.style.use(\"ggplot\")\n",
    "fig = plt.figure(figsize=(10, 7))\n",
    "ax = plt.axes()\n",
    "x_pos = [0, 1]\n",
    "ax.bar(x_pos, [total_correction_candidates, actual_correction_candidates])\n",
    "ax.set_yscale(\"log\")\n",
    "ax.set(title=\"Effect of Pretraining Value-Based Models\");\n",
    "ax.set_xticks(numpy.arange(len(x_pos)))\n",
    "_ = ax.set_xticklabels([\"Total Additional Correction Candidates\", \"Actual Additional Correction Candidates\"], rotation=0)"
   ]
  },
  {
   "cell_type": "markdown",
   "metadata": {},
   "source": [
    "## 10. Storing Results\n",
    "Both Raha and Baran can also store the error detection/correction results."
   ]
  },
  {
   "cell_type": "code",
   "execution_count": 19,
   "metadata": {},
   "outputs": [
    {
     "name": "stdout",
     "output_type": "stream",
     "text": [
      "The results are stored in datasets/flights/raha-baran-results-flights/error-detection/detection.dataset.\n",
      "The results are stored in datasets/flights/raha-baran-results-flights/error-correction/correction.dataset.\n"
     ]
    }
   ],
   "source": [
    "app_1.store_results(d)\n",
    "app_2.store_results(d)"
   ]
  },
  {
   "cell_type": "markdown",
   "metadata": {},
   "source": [
    "## 11. Evaluating the Data Cleaning Task\n",
    "We can finally evaluate our data cleaning task."
   ]
  },
  {
   "cell_type": "code",
   "execution_count": 20,
   "metadata": {},
   "outputs": [
    {
     "name": "stderr",
     "output_type": "stream",
     "text": [
      "/home/adrian/source/MA/raha/raha/dataset.py:123: FutureWarning: elementwise comparison failed; returning scalar instead, but in the future will perform elementwise comparison\n",
      "  if correction_dictionary[cell] == actual_errors[cell]:\n"
     ]
    },
    {
     "data": {
      "text/html": [
       "<div>\n",
       "<style scoped>\n",
       "    .dataframe tbody tr th:only-of-type {\n",
       "        vertical-align: middle;\n",
       "    }\n",
       "\n",
       "    .dataframe tbody tr th {\n",
       "        vertical-align: top;\n",
       "    }\n",
       "\n",
       "    .dataframe thead th {\n",
       "        text-align: right;\n",
       "    }\n",
       "</style>\n",
       "<table border=\"1\" class=\"dataframe\">\n",
       "  <thead>\n",
       "    <tr style=\"text-align: right;\">\n",
       "      <th></th>\n",
       "      <th>Task</th>\n",
       "      <th>Precision</th>\n",
       "      <th>Recall</th>\n",
       "      <th>F1 Score</th>\n",
       "    </tr>\n",
       "  </thead>\n",
       "  <tbody>\n",
       "    <tr>\n",
       "      <th>0</th>\n",
       "      <td>Error Detection (Raha)</td>\n",
       "      <td>0.75</td>\n",
       "      <td>0.81</td>\n",
       "      <td>0.78</td>\n",
       "    </tr>\n",
       "    <tr>\n",
       "      <th>1</th>\n",
       "      <td>Error Correction (Baran)</td>\n",
       "      <td>0.66</td>\n",
       "      <td>0.42</td>\n",
       "      <td>0.51</td>\n",
       "    </tr>\n",
       "  </tbody>\n",
       "</table>\n",
       "</div>"
      ],
      "text/plain": [
       "                       Task Precision Recall F1 Score\n",
       "0    Error Detection (Raha)      0.75   0.81     0.78\n",
       "1  Error Correction (Baran)      0.66   0.42     0.51"
      ]
     },
     "execution_count": 20,
     "metadata": {},
     "output_type": "execute_result"
    }
   ],
   "source": [
    "edp, edr, edf = d.get_data_cleaning_evaluation(d.detected_cells)[:3]\n",
    "ecp, ecr, ecf = d.get_data_cleaning_evaluation(d.corrected_cells)[-3:]\n",
    "\n",
    "evaluation_df = pandas.DataFrame(columns=[\"Task\", \"Precision\", \"Recall\", \"F1 Score\"])\n",
    "evaluation_df = evaluation_df.append({\"Task\": \"Error Detection (Raha)\", \"Precision\": \"{:.2f}\".format(edp), \n",
    "                                      \"Recall\": \"{:.2f}\".format(edr), \"F1 Score\": \"{:.2f}\".format(edf)}, ignore_index=True)\n",
    "evaluation_df = evaluation_df.append({\"Task\": \"Error Correction (Baran)\", \"Precision\": \"{:.2f}\".format(ecp), \n",
    "                                      \"Recall\": \"{:.2f}\".format(ecr), \"F1 Score\": \"{:.2f}\".format(ecf)}, ignore_index=True)\n",
    "evaluation_df.head()"
   ]
  },
  {
   "cell_type": "code",
   "execution_count": null,
   "metadata": {},
   "outputs": [],
   "source": []
  }
 ],
 "metadata": {
  "kernelspec": {
   "display_name": "Python 3",
   "language": "python",
   "name": "python3"
  },
  "language_info": {
   "codemirror_mode": {
    "name": "ipython",
    "version": 3
   },
   "file_extension": ".py",
   "mimetype": "text/x-python",
   "name": "python",
   "nbconvert_exporter": "python",
   "pygments_lexer": "ipython3",
   "version": "3.8.5"
  }
 },
 "nbformat": 4,
 "nbformat_minor": 2
}

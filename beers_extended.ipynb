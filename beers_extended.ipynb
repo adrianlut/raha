{
 "cells": [
  {
   "cell_type": "markdown",
   "metadata": {},
   "source": [
    "# End-to-End Data Cleaning Pipeline with Raha and Baran (Minimal and Sequential)\n",
    "We build an end-to-end data cleaning pipeline with our configuration-free error detection and correction systems, Raha and Baran."
   ]
  },
  {
   "cell_type": "code",
   "execution_count": 1,
   "metadata": {},
   "outputs": [],
   "source": [
    "import pandas\n",
    "import IPython.display\n",
    "from pandas import DataFrame, Series\n",
    "import pickle\n",
    "import raha\n",
    "import numpy as np\n",
    "import matplotlib.pyplot as plt"
   ]
  },
  {
   "cell_type": "markdown",
   "metadata": {},
   "source": [
    "## Error Detection with Raha"
   ]
  },
  {
   "cell_type": "markdown",
   "metadata": {},
   "source": [
    "### 1. Instantiating the Detection Class\n",
    "We first instantiate the `Detection` class."
   ]
  },
  {
   "cell_type": "code",
   "execution_count": 2,
   "metadata": {},
   "outputs": [],
   "source": [
    "app_1 = raha.Detection()\n",
    "\n",
    "# How many tuples would you label?\n",
    "app_1.LABELING_BUDGET = 20\n",
    "\n",
    "# Would you like to see the logs?\n",
    "app_1.VERBOSE = True"
   ]
  },
  {
   "cell_type": "markdown",
   "metadata": {},
   "source": [
    "### 2. Instantiating the Dataset\n",
    "We next load and instantiate the dataset object."
   ]
  },
  {
   "cell_type": "code",
   "execution_count": 3,
   "metadata": {},
   "outputs": [
    {
     "data": {
      "text/plain": "  index    id            beer_name                           style  \\\n0     1  1436             Pub Beer             American Pale Lager   \n1     2  2265          Devil's Cup         American Pale Ale (APA)   \n2     3  2264  Rise of the Phoenix                    American IPA   \n3     4  2263             Sinister  American Double / Imperial IPA   \n4     5  2262        Sex and Candy                    American IPA   \n\n       ounces    abv  ibu brewery_id               brewery_name  city state  \n0     12.0 oz   0.05  N/A        408  10 Barrel Brewing Company  Bend    OR  \n1    12.0 oz.  0.066  N/A        177        18th Street Brewery  Gary    IN  \n2  12.0 ounce  0.071  N/A        177        18th Street Brewery  Gary    IN  \n3     12.0 oz  0.09%  N/A        177        18th Street Brewery  Gary    IN  \n4    12.0 OZ.  0.075  N/A        177        18th Street Brewery  Gary    IN  ",
      "text/html": "<div>\n<style scoped>\n    .dataframe tbody tr th:only-of-type {\n        vertical-align: middle;\n    }\n\n    .dataframe tbody tr th {\n        vertical-align: top;\n    }\n\n    .dataframe thead th {\n        text-align: right;\n    }\n</style>\n<table border=\"1\" class=\"dataframe\">\n  <thead>\n    <tr style=\"text-align: right;\">\n      <th></th>\n      <th>index</th>\n      <th>id</th>\n      <th>beer_name</th>\n      <th>style</th>\n      <th>ounces</th>\n      <th>abv</th>\n      <th>ibu</th>\n      <th>brewery_id</th>\n      <th>brewery_name</th>\n      <th>city</th>\n      <th>state</th>\n    </tr>\n  </thead>\n  <tbody>\n    <tr>\n      <th>0</th>\n      <td>1</td>\n      <td>1436</td>\n      <td>Pub Beer</td>\n      <td>American Pale Lager</td>\n      <td>12.0 oz</td>\n      <td>0.05</td>\n      <td>N/A</td>\n      <td>408</td>\n      <td>10 Barrel Brewing Company</td>\n      <td>Bend</td>\n      <td>OR</td>\n    </tr>\n    <tr>\n      <th>1</th>\n      <td>2</td>\n      <td>2265</td>\n      <td>Devil's Cup</td>\n      <td>American Pale Ale (APA)</td>\n      <td>12.0 oz.</td>\n      <td>0.066</td>\n      <td>N/A</td>\n      <td>177</td>\n      <td>18th Street Brewery</td>\n      <td>Gary</td>\n      <td>IN</td>\n    </tr>\n    <tr>\n      <th>2</th>\n      <td>3</td>\n      <td>2264</td>\n      <td>Rise of the Phoenix</td>\n      <td>American IPA</td>\n      <td>12.0 ounce</td>\n      <td>0.071</td>\n      <td>N/A</td>\n      <td>177</td>\n      <td>18th Street Brewery</td>\n      <td>Gary</td>\n      <td>IN</td>\n    </tr>\n    <tr>\n      <th>3</th>\n      <td>4</td>\n      <td>2263</td>\n      <td>Sinister</td>\n      <td>American Double / Imperial IPA</td>\n      <td>12.0 oz</td>\n      <td>0.09%</td>\n      <td>N/A</td>\n      <td>177</td>\n      <td>18th Street Brewery</td>\n      <td>Gary</td>\n      <td>IN</td>\n    </tr>\n    <tr>\n      <th>4</th>\n      <td>5</td>\n      <td>2262</td>\n      <td>Sex and Candy</td>\n      <td>American IPA</td>\n      <td>12.0 OZ.</td>\n      <td>0.075</td>\n      <td>N/A</td>\n      <td>177</td>\n      <td>18th Street Brewery</td>\n      <td>Gary</td>\n      <td>IN</td>\n    </tr>\n  </tbody>\n</table>\n</div>"
     },
     "execution_count": 3,
     "metadata": {},
     "output_type": "execute_result"
    }
   ],
   "source": [
    "dataset_dictionary = {\n",
    "        \"name\": \"beers\",\n",
    "        \"path\": \"datasets/beers/dirty.csv\",\n",
    "        \"clean_path\": \"datasets/beers/clean.csv\"\n",
    "    }\n",
    "d = app_1.initialize_dataset(dataset_dictionary)\n",
    "d.dataframe.head()"
   ]
  },
  {
   "cell_type": "markdown",
   "metadata": {},
   "source": [
    "### 3. Running Error Detection Strategies\n",
    "Raha runs (all or the promising) error detection strategies on the dataset. This step could take a while because all the strategies should be run on the dataset. "
   ]
  },
  {
   "cell_type": "code",
   "execution_count": 4,
   "metadata": {},
   "outputs": [
    {
     "name": "stdout",
     "output_type": "stream",
     "text": [
      "511 strategy profiles are collected.\n"
     ]
    },
    {
     "name": "stderr",
     "output_type": "stream",
     "text": [
      "I just load strategies' results as they have already been run on the dataset!\n"
     ]
    }
   ],
   "source": [
    "app_1.run_strategies(d)"
   ]
  },
  {
   "cell_type": "markdown",
   "metadata": {},
   "source": [
    "### 4. Generating Features\n",
    "Raha then generates a feature vector for each data cell based on the output of error detection strategies. "
   ]
  },
  {
   "cell_type": "code",
   "execution_count": 5,
   "metadata": {},
   "outputs": [
    {
     "name": "stdout",
     "output_type": "stream",
     "text": [
      "44 Features are generated for column 0.\n",
      "44 Features are generated for column 1.\n",
      "133 Features are generated for column 2.\n",
      "100 Features are generated for column 3.\n",
      "63 Features are generated for column 4.\n",
      "54 Features are generated for column 5.\n",
      "54 Features are generated for column 6.\n",
      "55 Features are generated for column 7.\n",
      "103 Features are generated for column 8.\n",
      "106 Features are generated for column 9.\n",
      "75 Features are generated for column 10.\n"
     ]
    }
   ],
   "source": [
    "app_1.generate_features(d)"
   ]
  },
  {
   "cell_type": "markdown",
   "metadata": {},
   "source": [
    "### 5. Building Clusters\n",
    "Raha next builds a hierarchical clustering model for our clustering-based sampling approach."
   ]
  },
  {
   "cell_type": "code",
   "execution_count": 6,
   "metadata": {},
   "outputs": [
    {
     "name": "stdout",
     "output_type": "stream",
     "text": [
      "A hierarchical clustering model is built for column 0.\n",
      "A hierarchical clustering model is built for column 1.\n",
      "A hierarchical clustering model is built for column 2.\n",
      "A hierarchical clustering model is built for column 3.\n",
      "A hierarchical clustering model is built for column 4.\n",
      "A hierarchical clustering model is built for column 5.\n",
      "A hierarchical clustering model is built for column 6.\n",
      "A hierarchical clustering model is built for column 7.\n",
      "A hierarchical clustering model is built for column 8.\n",
      "A hierarchical clustering model is built for column 9.\n",
      "A hierarchical clustering model is built for column 10.\n"
     ]
    }
   ],
   "source": [
    "app_1.build_clusters(d)"
   ]
  },
  {
   "cell_type": "markdown",
   "metadata": {},
   "source": [
    "### 6. Interactive Tuple Sampling and Labeling\n",
    "Raha then iteratively samples a tuple. We should label data cells of each sampled tuple."
   ]
  },
  {
   "cell_type": "code",
   "execution_count": 7,
   "metadata": {
    "scrolled": true
   },
   "outputs": [
    {
     "name": "stdout",
     "output_type": "stream",
     "text": [
      "Tuple 192 is sampled.\n",
      "Tuple 192 is labeled.\n",
      "Tuple 323 is sampled.\n",
      "Tuple 323 is labeled.\n",
      "Tuple 90 is sampled.\n",
      "Tuple 90 is labeled.\n",
      "Tuple 1121 is sampled.\n",
      "Tuple 1121 is labeled.\n",
      "Tuple 1185 is sampled.\n",
      "Tuple 1185 is labeled.\n",
      "Tuple 1666 is sampled.\n",
      "Tuple 1666 is labeled.\n",
      "Tuple 2251 is sampled.\n",
      "Tuple 2251 is labeled.\n",
      "Tuple 2395 is sampled.\n",
      "Tuple 2395 is labeled.\n",
      "Tuple 1039 is sampled.\n",
      "Tuple 1039 is labeled.\n",
      "Tuple 442 is sampled.\n",
      "Tuple 442 is labeled.\n",
      "Tuple 1955 is sampled.\n",
      "Tuple 1955 is labeled.\n",
      "Tuple 388 is sampled.\n",
      "Tuple 388 is labeled.\n",
      "Tuple 1969 is sampled.\n",
      "Tuple 1969 is labeled.\n",
      "Tuple 2394 is sampled.\n",
      "Tuple 2394 is labeled.\n",
      "Tuple 2391 is sampled.\n",
      "Tuple 2391 is labeled.\n",
      "Tuple 1579 is sampled.\n",
      "Tuple 1579 is labeled.\n",
      "Tuple 2260 is sampled.\n",
      "Tuple 2260 is labeled.\n",
      "Tuple 553 is sampled.\n",
      "Tuple 553 is labeled.\n",
      "Tuple 2221 is sampled.\n",
      "Tuple 2221 is labeled.\n",
      "Tuple 1000 is sampled.\n",
      "Tuple 1000 is labeled.\n"
     ]
    }
   ],
   "source": [
    "while len(d.labeled_tuples) < app_1.LABELING_BUDGET:\n",
    "    app_1.sample_tuple(d)\n",
    "    if d.has_ground_truth:\n",
    "        app_1.label_with_ground_truth(d)\n",
    "    else:\n",
    "        print(\"Label the dirty cells in the following sampled tuple.\")\n",
    "        sampled_tuple = pandas.DataFrame(data=[d.dataframe.iloc[d.sampled_tuple, :]], columns=d.dataframe.columns)\n",
    "        IPython.display.display(sampled_tuple)\n",
    "        for j in range(d.dataframe.shape[1]):\n",
    "            cell = (d.sampled_tuple, j)\n",
    "            value = d.dataframe.iloc[cell]\n",
    "            correction = input(\"What is the correction for value '{}'? Type in the same value if it is not erronous.\\n\".format(value))\n",
    "            user_label = 1 if value != correction else 0\n",
    "            d.labeled_cells[cell] = [user_label, correction]\n",
    "        d.labeled_tuples[d.sampled_tuple] = 1"
   ]
  },
  {
   "cell_type": "markdown",
   "metadata": {},
   "source": [
    "### 7. Propagating User Labels\n",
    "Raha then propagates each user label through its cluster."
   ]
  },
  {
   "cell_type": "code",
   "execution_count": 8,
   "metadata": {},
   "outputs": [
    {
     "name": "stdout",
     "output_type": "stream",
     "text": [
      "The number of labeled data cells increased from 220 to 24548.\n"
     ]
    }
   ],
   "source": [
    "app_1.propagate_labels(d)"
   ]
  },
  {
   "cell_type": "markdown",
   "metadata": {},
   "source": [
    "### 8. Predicting Labels of Data Cells\n",
    "Raha then trains and applies one classifier per data column to predict the label of the rest of data cells."
   ]
  },
  {
   "cell_type": "code",
   "execution_count": 9,
   "metadata": {},
   "outputs": [
    {
     "name": "stdout",
     "output_type": "stream",
     "text": [
      "A classifier is trained and applied on column 0.\n",
      "A classifier is trained and applied on column 1.\n",
      "A classifier is trained and applied on column 2.\n",
      "A classifier is trained and applied on column 3.\n",
      "A classifier is trained and applied on column 4.\n",
      "A classifier is trained and applied on column 5.\n",
      "A classifier is trained and applied on column 6.\n",
      "A classifier is trained and applied on column 7.\n",
      "A classifier is trained and applied on column 8.\n",
      "A classifier is trained and applied on column 9.\n",
      "A classifier is trained and applied on column 10.\n"
     ]
    }
   ],
   "source": [
    "app_1.predict_labels(d)"
   ]
  },
  {
   "cell_type": "markdown",
   "metadata": {},
   "source": [
    "### 9. Storing Results\n",
    "Raha can also store the error detection results."
   ]
  },
  {
   "cell_type": "code",
   "execution_count": 10,
   "metadata": {},
   "outputs": [
    {
     "name": "stdout",
     "output_type": "stream",
     "text": [
      "The results are stored in datasets/beers/raha-baran-results-beers/error-detection/detection.dataset.\n"
     ]
    }
   ],
   "source": [
    "app_1.store_results(d)"
   ]
  },
  {
   "cell_type": "markdown",
   "metadata": {},
   "source": [
    "### 10. Evaluating the Error Detection Task\n",
    "We can finally evaluate our error detection task."
   ]
  },
  {
   "cell_type": "code",
   "execution_count": 11,
   "metadata": {
    "scrolled": true
   },
   "outputs": [
    {
     "name": "stdout",
     "output_type": "stream",
     "text": [
      "Raha's performance on beers:\n",
      "Precision = 1.00\n",
      "Recall = 1.00\n",
      "F1 = 1.00\n"
     ]
    },
    {
     "name": "stderr",
     "output_type": "stream",
     "text": [
      "/home/adrian/source/MA/raha/raha/dataset.py:123: FutureWarning: elementwise comparison failed; returning scalar instead, but in the future will perform elementwise comparison\n",
      "  if correction_dictionary[cell] == actual_errors[cell]:\n"
     ]
    }
   ],
   "source": [
    "p, r, f = d.get_data_cleaning_evaluation(d.detected_cells)[:3]\n",
    "print(\"Raha's performance on {}:\\nPrecision = {:.2f}\\nRecall = {:.2f}\\nF1 = {:.2f}\".format(d.name, p, r, f))"
   ]
  },
  {
   "cell_type": "markdown",
   "metadata": {},
   "source": [
    "# Error Correction with Baran"
   ]
  },
  {
   "cell_type": "markdown",
   "metadata": {},
   "source": [
    "### 1. Instantiating the Correction Class\n",
    "We first instantiate the `Correction` class."
   ]
  },
  {
   "cell_type": "code",
   "execution_count": 12,
   "metadata": {},
   "outputs": [],
   "source": [
    "app_2 = raha.Correction()\n",
    "\n",
    "# How many tuples would you label?\n",
    "app_2.LABELING_BUDGET = 20\n",
    "\n",
    "# Would you like to see the logs?\n",
    "app_2.VERBOSE = True"
   ]
  },
  {
   "cell_type": "markdown",
   "metadata": {},
   "source": [
    "### 2. Initializing the Dataset Object\n",
    "We next initialize the dataset object."
   ]
  },
  {
   "cell_type": "code",
   "execution_count": 13,
   "metadata": {},
   "outputs": [
    {
     "data": {
      "text/plain": "  index    id            beer_name                           style  \\\n0     1  1436             Pub Beer             American Pale Lager   \n1     2  2265          Devil's Cup         American Pale Ale (APA)   \n2     3  2264  Rise of the Phoenix                    American IPA   \n3     4  2263             Sinister  American Double / Imperial IPA   \n4     5  2262        Sex and Candy                    American IPA   \n\n       ounces    abv  ibu brewery_id               brewery_name  city state  \n0     12.0 oz   0.05  N/A        408  10 Barrel Brewing Company  Bend    OR  \n1    12.0 oz.  0.066  N/A        177        18th Street Brewery  Gary    IN  \n2  12.0 ounce  0.071  N/A        177        18th Street Brewery  Gary    IN  \n3     12.0 oz  0.09%  N/A        177        18th Street Brewery  Gary    IN  \n4    12.0 OZ.  0.075  N/A        177        18th Street Brewery  Gary    IN  ",
      "text/html": "<div>\n<style scoped>\n    .dataframe tbody tr th:only-of-type {\n        vertical-align: middle;\n    }\n\n    .dataframe tbody tr th {\n        vertical-align: top;\n    }\n\n    .dataframe thead th {\n        text-align: right;\n    }\n</style>\n<table border=\"1\" class=\"dataframe\">\n  <thead>\n    <tr style=\"text-align: right;\">\n      <th></th>\n      <th>index</th>\n      <th>id</th>\n      <th>beer_name</th>\n      <th>style</th>\n      <th>ounces</th>\n      <th>abv</th>\n      <th>ibu</th>\n      <th>brewery_id</th>\n      <th>brewery_name</th>\n      <th>city</th>\n      <th>state</th>\n    </tr>\n  </thead>\n  <tbody>\n    <tr>\n      <th>0</th>\n      <td>1</td>\n      <td>1436</td>\n      <td>Pub Beer</td>\n      <td>American Pale Lager</td>\n      <td>12.0 oz</td>\n      <td>0.05</td>\n      <td>N/A</td>\n      <td>408</td>\n      <td>10 Barrel Brewing Company</td>\n      <td>Bend</td>\n      <td>OR</td>\n    </tr>\n    <tr>\n      <th>1</th>\n      <td>2</td>\n      <td>2265</td>\n      <td>Devil's Cup</td>\n      <td>American Pale Ale (APA)</td>\n      <td>12.0 oz.</td>\n      <td>0.066</td>\n      <td>N/A</td>\n      <td>177</td>\n      <td>18th Street Brewery</td>\n      <td>Gary</td>\n      <td>IN</td>\n    </tr>\n    <tr>\n      <th>2</th>\n      <td>3</td>\n      <td>2264</td>\n      <td>Rise of the Phoenix</td>\n      <td>American IPA</td>\n      <td>12.0 ounce</td>\n      <td>0.071</td>\n      <td>N/A</td>\n      <td>177</td>\n      <td>18th Street Brewery</td>\n      <td>Gary</td>\n      <td>IN</td>\n    </tr>\n    <tr>\n      <th>3</th>\n      <td>4</td>\n      <td>2263</td>\n      <td>Sinister</td>\n      <td>American Double / Imperial IPA</td>\n      <td>12.0 oz</td>\n      <td>0.09%</td>\n      <td>N/A</td>\n      <td>177</td>\n      <td>18th Street Brewery</td>\n      <td>Gary</td>\n      <td>IN</td>\n    </tr>\n    <tr>\n      <th>4</th>\n      <td>5</td>\n      <td>2262</td>\n      <td>Sex and Candy</td>\n      <td>American IPA</td>\n      <td>12.0 OZ.</td>\n      <td>0.075</td>\n      <td>N/A</td>\n      <td>177</td>\n      <td>18th Street Brewery</td>\n      <td>Gary</td>\n      <td>IN</td>\n    </tr>\n  </tbody>\n</table>\n</div>"
     },
     "execution_count": 13,
     "metadata": {},
     "output_type": "execute_result"
    }
   ],
   "source": [
    "d = app_2.initialize_dataset(d)\n",
    "d.dataframe.head()"
   ]
  },
  {
   "cell_type": "markdown",
   "metadata": {},
   "source": [
    "### 3. Initializing the Error Corrector Models\n",
    "Baran initializes the error corrector models."
   ]
  },
  {
   "cell_type": "code",
   "execution_count": 14,
   "metadata": {},
   "outputs": [
    {
     "name": "stdout",
     "output_type": "stream",
     "text": [
      "The error corrector models are initialized.\n"
     ]
    }
   ],
   "source": [
    "app_2.initialize_models(d)"
   ]
  },
  {
   "cell_type": "markdown",
   "metadata": {},
   "source": [
    "### 4. Interactive Tuple Sampling, Labeling, Model updating, Feature Generation, and Correction Prediction\n",
    "Baran then iteratively samples a tuple. We should label data cells of each sampled tuple. It then udpates the models accordingly and generates a feature vector for each pair of a data error and a correction candidate. Finally, it trains and applies a classifier to each data column to predict the final correction of each data error. Since we already labeled tuples for Raha, we use the same labeled tuples and do not label new tuples here."
   ]
  },
  {
   "cell_type": "code",
   "execution_count": 15,
   "metadata": {},
   "outputs": [
    {
     "name": "stdout",
     "output_type": "stream",
     "text": [
      "The error corrector models are updated with new labeled tuple 192.\n",
      "215102 pairs of (a data error, a potential correction) are featurized.\n",
      "Prediction Method in this step:\n",
      "    Column 4: Train\n",
      "    Column 5: Train\n",
      "    Column 6: No train 0\n",
      "    Column 9: Train\n",
      "    Column 10: Train\n",
      "Train sizes in this step:\n",
      "    Column 4: 21\n",
      "    Column 5: 207\n",
      "    Column 6: 963\n",
      "    Column 9: 1131\n",
      "    Column 10: 153\n",
      "Corrections identified in this step:\n",
      "    Column 4: 2125 Mean correction confidence: 0.6292802510655409\n",
      "    Column 5: 501 Mean correction confidence: 0.5273601408761199\n",
      "    Column 6: 0.0 Mean correction confidence: nan\n",
      "    Column 9: 119 Mean correction confidence: 0.9999999999999999\n",
      "    Column 10: 143 Mean correction confidence: 0.9233932273223042\n",
      "Corrections applied in this step:\n",
      "    Column 4: 2125 Real changes: 0\n",
      "    Column 5: 433 Real changes: 62\n",
      "    Column 6: 0 Real changes: 0\n",
      "    Column 9: 119 Real changes: 0\n",
      "    Column 10: 122 Real changes: 22\n",
      "63% (2753 / 4369) of data errors are corrected.\n",
      "The error corrector models are updated with new labeled tuple 323.\n",
      "216107 pairs of (a data error, a potential correction) are featurized.\n",
      "Prediction Method in this step:\n",
      "    Column 4: Train\n",
      "    Column 5: Train\n",
      "    Column 6: Train\n",
      "    Column 9: Train\n",
      "    Column 10: Train\n",
      "Train sizes in this step:\n",
      "    Column 4: 21\n",
      "    Column 5: 207\n",
      "    Column 6: 972\n",
      "    Column 9: 1131\n",
      "    Column 10: 153\n",
      "Corrections identified in this step:\n",
      "    Column 4: 2392 Mean correction confidence: 0.6188347672921399\n",
      "    Column 5: 498 Mean correction confidence: 0.527193385358584\n",
      "    Column 6: 996 Mean correction confidence: 0.9999999999999998\n",
      "    Column 9: 119 Mean correction confidence: 0.9999999999999999\n",
      "    Column 10: 143 Mean correction confidence: 0.9002059101452233\n",
      "Corrections applied in this step:\n",
      "    Column 4: 2390 Real changes: 0\n",
      "    Column 5: 431 Real changes: 113\n",
      "    Column 6: 996 Real changes: 0\n",
      "    Column 9: 119 Real changes: 2\n",
      "    Column 10: 121 Real changes: 43\n",
      "92% (4014 / 4369) of data errors are corrected.\n",
      "The error corrector models are updated with new labeled tuple 90.\n",
      "216298 pairs of (a data error, a potential correction) are featurized.\n",
      "Prediction Method in this step:\n",
      "    Column 4: Train\n",
      "    Column 5: Train\n",
      "    Column 6: Train\n",
      "    Column 9: Train\n",
      "    Column 10: Train\n",
      "Train sizes in this step:\n",
      "    Column 4: 21\n",
      "    Column 5: 207\n",
      "    Column 6: 972\n",
      "    Column 9: 1134\n",
      "    Column 10: 153\n",
      "Corrections identified in this step:\n",
      "    Column 4: 2390 Mean correction confidence: 0.578761411691808\n",
      "    Column 5: 501 Mean correction confidence: 0.5273601408761199\n",
      "    Column 6: 996 Mean correction confidence: 0.9999999999999998\n",
      "    Column 9: 119 Mean correction confidence: 0.9999999999999999\n",
      "    Column 10: 119 Mean correction confidence: 0.9999999999999999\n",
      "Corrections applied in this step:\n",
      "    Column 4: 2390 Real changes: 56\n",
      "    Column 5: 433 Real changes: 116\n",
      "    Column 6: 996 Real changes: 0\n",
      "    Column 9: 119 Real changes: 2\n",
      "    Column 10: 119 Real changes: 33\n",
      "92% (4036 / 4369) of data errors are corrected.\n",
      "The error corrector models are updated with new labeled tuple 1121.\n",
      "216513 pairs of (a data error, a potential correction) are featurized.\n",
      "Prediction Method in this step:\n",
      "    Column 4: Train\n",
      "    Column 5: Train\n",
      "    Column 6: Train\n",
      "    Column 9: Train\n",
      "    Column 10: Train\n",
      "Train sizes in this step:\n",
      "    Column 4: 22\n",
      "    Column 5: 207\n",
      "    Column 6: 972\n",
      "    Column 9: 1134\n",
      "    Column 10: 153\n",
      "Corrections identified in this step:\n",
      "    Column 4: 1980 Mean correction confidence: 0.9835925551862856\n",
      "    Column 5: 694 Mean correction confidence: 0.9941662254713526\n",
      "    Column 6: 996 Mean correction confidence: 0.9999999999999998\n",
      "    Column 9: 119 Mean correction confidence: 0.9999999999999999\n",
      "    Column 10: 119 Mean correction confidence: 0.9999999999999999\n",
      "Corrections applied in this step:\n",
      "    Column 4: 1833 Real changes: 208\n",
      "    Column 5: 577 Real changes: 319\n",
      "    Column 6: 996 Real changes: 0\n",
      "    Column 9: 119 Real changes: 0\n",
      "    Column 10: 119 Real changes: 0\n",
      "97% (4243 / 4369) of data errors are corrected.\n",
      "The error corrector models are updated with new labeled tuple 1185.\n",
      "216513 pairs of (a data error, a potential correction) are featurized.\n",
      "Prediction Method in this step:\n",
      "    Column 4: Train\n",
      "    Column 5: Train\n",
      "    Column 6: Train\n",
      "    Column 9: Train\n",
      "    Column 10: Train\n",
      "Train sizes in this step:\n",
      "    Column 4: 22\n",
      "    Column 5: 207\n",
      "    Column 6: 972\n",
      "    Column 9: 1134\n",
      "    Column 10: 153\n",
      "Corrections identified in this step:\n",
      "    Column 4: 1983 Mean correction confidence: 0.9833611308235113\n",
      "    Column 5: 548 Mean correction confidence: 0.9999999999999998\n",
      "    Column 6: 996 Mean correction confidence: 0.9999999999999998\n",
      "    Column 9: 119 Mean correction confidence: 0.9999999999999999\n",
      "    Column 10: 119 Mean correction confidence: 0.9999999999999999\n",
      "Corrections applied in this step:\n",
      "    Column 4: 1836 Real changes: 0\n",
      "    Column 5: 548 Real changes: 190\n",
      "    Column 6: 996 Real changes: 0\n",
      "    Column 9: 119 Real changes: 0\n",
      "    Column 10: 119 Real changes: 0\n",
      "98% (4298 / 4369) of data errors are corrected.\n",
      "The error corrector models are updated with new labeled tuple 1666.\n",
      "216513 pairs of (a data error, a potential correction) are featurized.\n",
      "Prediction Method in this step:\n",
      "    Column 4: Train\n",
      "    Column 5: Train\n",
      "    Column 6: Train\n",
      "    Column 9: Train\n",
      "    Column 10: Train\n",
      "Train sizes in this step:\n",
      "    Column 4: 22\n",
      "    Column 5: 207\n",
      "    Column 6: 972\n",
      "    Column 9: 1134\n",
      "    Column 10: 153\n",
      "Corrections identified in this step:\n",
      "    Column 4: 1974 Mean correction confidence: 0.9831217774340839\n",
      "    Column 5: 548 Mean correction confidence: 0.9999999999999998\n",
      "    Column 6: 996 Mean correction confidence: 0.9999999999999998\n",
      "    Column 9: 119 Mean correction confidence: 0.9999999999999999\n",
      "    Column 10: 119 Mean correction confidence: 0.9999999999999999\n",
      "Corrections applied in this step:\n",
      "    Column 4: 1832 Real changes: 0\n",
      "    Column 5: 548 Real changes: 0\n",
      "    Column 6: 996 Real changes: 0\n",
      "    Column 9: 119 Real changes: 2\n",
      "    Column 10: 119 Real changes: 0\n",
      "98% (4298 / 4369) of data errors are corrected.\n",
      "The error corrector models are updated with new labeled tuple 2251.\n",
      "216513 pairs of (a data error, a potential correction) are featurized.\n",
      "Prediction Method in this step:\n",
      "    Column 4: Train\n",
      "    Column 5: Train\n",
      "    Column 6: Train\n",
      "    Column 9: Train\n",
      "    Column 10: Train\n",
      "Train sizes in this step:\n",
      "    Column 4: 22\n",
      "    Column 5: 207\n",
      "    Column 6: 972\n",
      "    Column 9: 1134\n",
      "    Column 10: 153\n",
      "Corrections identified in this step:\n",
      "    Column 4: 1864 Mean correction confidence: 0.9640737514535437\n",
      "    Column 5: 548 Mean correction confidence: 0.9999999999999998\n",
      "    Column 6: 996 Mean correction confidence: 0.9999999999999998\n",
      "    Column 9: 119 Mean correction confidence: 0.9999999999999999\n",
      "    Column 10: 119 Mean correction confidence: 0.9999999999999999\n",
      "Corrections applied in this step:\n",
      "    Column 4: 1714 Real changes: 0\n",
      "    Column 5: 548 Real changes: 0\n",
      "    Column 6: 996 Real changes: 0\n",
      "    Column 9: 119 Real changes: 2\n",
      "    Column 10: 119 Real changes: 0\n",
      "98% (4298 / 4369) of data errors are corrected.\n",
      "The error corrector models are updated with new labeled tuple 2395.\n",
      "218351 pairs of (a data error, a potential correction) are featurized.\n",
      "Prediction Method in this step:\n",
      "    Column 4: Train\n",
      "    Column 5: Train\n",
      "    Column 6: Train\n",
      "    Column 9: Train\n",
      "    Column 10: Train\n",
      "Train sizes in this step:\n",
      "    Column 4: 40\n",
      "    Column 5: 207\n",
      "    Column 6: 972\n",
      "    Column 9: 1134\n",
      "    Column 10: 153\n",
      "Corrections identified in this step:\n",
      "    Column 4: 2484 Mean correction confidence: 0.9385573661932903\n",
      "    Column 5: 548 Mean correction confidence: 0.9999999999999998\n",
      "    Column 6: 996 Mean correction confidence: 0.9999999999999998\n",
      "    Column 9: 119 Mean correction confidence: 0.9999999999999999\n",
      "    Column 10: 119 Mean correction confidence: 0.9999999999999999\n",
      "Corrections applied in this step:\n",
      "    Column 4: 2286 Real changes: 222\n",
      "    Column 5: 548 Real changes: 0\n",
      "    Column 6: 996 Real changes: 0\n",
      "    Column 9: 119 Real changes: 0\n",
      "    Column 10: 119 Real changes: 0\n",
      "98% (4298 / 4369) of data errors are corrected.\n",
      "The error corrector models are updated with new labeled tuple 1039.\n",
      "218351 pairs of (a data error, a potential correction) are featurized.\n",
      "Prediction Method in this step:\n",
      "    Column 4: Train\n",
      "    Column 5: Train\n",
      "    Column 6: Train\n",
      "    Column 9: Train\n",
      "    Column 10: Train\n",
      "Train sizes in this step:\n",
      "    Column 4: 40\n",
      "    Column 5: 207\n",
      "    Column 6: 972\n",
      "    Column 9: 1134\n",
      "    Column 10: 153\n",
      "Corrections identified in this step:\n",
      "    Column 4: 2447 Mean correction confidence: 0.9517937977869114\n",
      "    Column 5: 548 Mean correction confidence: 0.9999999999999998\n",
      "    Column 6: 996 Mean correction confidence: 0.9999999999999998\n",
      "    Column 9: 119 Mean correction confidence: 0.9999999999999999\n",
      "    Column 10: 119 Mean correction confidence: 0.9999999999999999\n",
      "Corrections applied in this step:\n",
      "    Column 4: 2253 Real changes: 4\n",
      "    Column 5: 548 Real changes: 0\n",
      "    Column 6: 996 Real changes: 0\n",
      "    Column 9: 119 Real changes: 2\n",
      "    Column 10: 119 Real changes: 0\n",
      "98% (4298 / 4369) of data errors are corrected.\n",
      "The error corrector models are updated with new labeled tuple 442.\n",
      "218351 pairs of (a data error, a potential correction) are featurized.\n",
      "Prediction Method in this step:\n",
      "    Column 4: Train\n",
      "    Column 5: Train\n",
      "    Column 6: Train\n",
      "    Column 9: Train\n",
      "    Column 10: Train\n",
      "Train sizes in this step:\n",
      "    Column 4: 40\n",
      "    Column 5: 207\n",
      "    Column 6: 972\n",
      "    Column 9: 1134\n",
      "    Column 10: 153\n",
      "Corrections identified in this step:\n",
      "    Column 4: 2432 Mean correction confidence: 0.8844220757472366\n",
      "    Column 5: 548 Mean correction confidence: 0.9999999999999998\n",
      "    Column 6: 996 Mean correction confidence: 0.9999999999999998\n",
      "    Column 9: 119 Mean correction confidence: 0.9999999999999999\n",
      "    Column 10: 119 Mean correction confidence: 0.9999999999999999\n",
      "Corrections applied in this step:\n",
      "    Column 4: 2203 Real changes: 106\n",
      "    Column 5: 548 Real changes: 0\n",
      "    Column 6: 996 Real changes: 0\n",
      "    Column 9: 119 Real changes: 2\n",
      "    Column 10: 119 Real changes: 0\n",
      "98% (4298 / 4369) of data errors are corrected.\n",
      "The error corrector models are updated with new labeled tuple 1955.\n",
      "218352 pairs of (a data error, a potential correction) are featurized.\n",
      "Prediction Method in this step:\n",
      "    Column 4: Train\n",
      "    Column 5: Train\n",
      "    Column 6: Train\n",
      "    Column 9: Train\n",
      "    Column 10: Train\n",
      "Train sizes in this step:\n",
      "    Column 4: 40\n",
      "    Column 5: 207\n",
      "    Column 6: 972\n",
      "    Column 9: 1134\n",
      "    Column 10: 153\n",
      "Corrections identified in this step:\n",
      "    Column 4: 2066 Mean correction confidence: 0.9218599969248548\n",
      "    Column 5: 548 Mean correction confidence: 0.9999999999999998\n",
      "    Column 6: 996 Mean correction confidence: 0.9999999999999998\n",
      "    Column 9: 36 Mean correction confidence: 0.9999999999999998\n",
      "    Column 10: 0 Mean correction confidence: nan\n",
      "Corrections applied in this step:\n",
      "    Column 4: 1997 Real changes: 87\n",
      "    Column 5: 548 Real changes: 0\n",
      "    Column 6: 996 Real changes: 0\n",
      "    Column 9: 36 Real changes: 33\n",
      "    Column 10: 0 Real changes: 0\n",
      "98% (4301 / 4369) of data errors are corrected.\n",
      "The error corrector models are updated with new labeled tuple 388.\n",
      "218352 pairs of (a data error, a potential correction) are featurized.\n",
      "Prediction Method in this step:\n",
      "    Column 4: Train\n",
      "    Column 5: Train\n",
      "    Column 6: Train\n",
      "    Column 9: Train\n",
      "    Column 10: Train\n",
      "Train sizes in this step:\n",
      "    Column 4: 40\n",
      "    Column 5: 207\n",
      "    Column 6: 972\n",
      "    Column 9: 1134\n",
      "    Column 10: 153\n",
      "Corrections identified in this step:\n",
      "    Column 4: 2075 Mean correction confidence: 0.9095438809811152\n",
      "    Column 5: 548 Mean correction confidence: 0.9999999999999998\n",
      "    Column 6: 996 Mean correction confidence: 0.9999999999999998\n",
      "    Column 9: 0 Mean correction confidence: nan\n",
      "    Column 10: 0 Mean correction confidence: nan\n",
      "Corrections applied in this step:\n",
      "    Column 4: 2024 Real changes: 65\n",
      "    Column 5: 548 Real changes: 0\n",
      "    Column 6: 996 Real changes: 0\n",
      "    Column 9: 0 Real changes: 0\n",
      "    Column 10: 0 Real changes: 0\n",
      "98% (4301 / 4369) of data errors are corrected.\n",
      "The error corrector models are updated with new labeled tuple 1969.\n",
      "218352 pairs of (a data error, a potential correction) are featurized.\n",
      "Prediction Method in this step:\n",
      "    Column 4: Train\n",
      "    Column 5: Train\n",
      "    Column 6: Train\n",
      "    Column 9: Train\n",
      "    Column 10: Train\n",
      "Train sizes in this step:\n",
      "    Column 4: 40\n",
      "    Column 5: 207\n",
      "    Column 6: 972\n",
      "    Column 9: 1134\n",
      "    Column 10: 153\n",
      "Corrections identified in this step:\n",
      "    Column 4: 2068 Mean correction confidence: 0.9242404985036485\n",
      "    Column 5: 548 Mean correction confidence: 0.9999999999999998\n",
      "    Column 6: 996 Mean correction confidence: 0.9999999999999998\n",
      "    Column 9: 119 Mean correction confidence: 0.9999999999999999\n",
      "    Column 10: 119 Mean correction confidence: 0.9999999999999999\n",
      "Corrections applied in this step:\n",
      "    Column 4: 1997 Real changes: 63\n",
      "    Column 5: 548 Real changes: 0\n",
      "    Column 6: 996 Real changes: 0\n",
      "    Column 9: 119 Real changes: 35\n",
      "    Column 10: 119 Real changes: 0\n",
      "98% (4301 / 4369) of data errors are corrected.\n",
      "The error corrector models are updated with new labeled tuple 2394.\n",
      "218352 pairs of (a data error, a potential correction) are featurized.\n",
      "Prediction Method in this step:\n",
      "    Column 4: Train\n",
      "    Column 5: Train\n",
      "    Column 6: Train\n",
      "    Column 9: Train\n",
      "    Column 10: Train\n",
      "Train sizes in this step:\n",
      "    Column 4: 40\n",
      "    Column 5: 207\n",
      "    Column 6: 972\n",
      "    Column 9: 1134\n",
      "    Column 10: 153\n",
      "Corrections identified in this step:\n",
      "    Column 4: 2087 Mean correction confidence: 0.9108313233109971\n",
      "    Column 5: 548 Mean correction confidence: 0.9999999999999998\n",
      "    Column 6: 996 Mean correction confidence: 0.9999999999999998\n",
      "    Column 9: 14 Mean correction confidence: 0.9999999999999999\n",
      "    Column 10: 119 Mean correction confidence: 0.9999999999999999\n",
      "Corrections applied in this step:\n",
      "    Column 4: 2030 Real changes: 65\n",
      "    Column 5: 548 Real changes: 0\n",
      "    Column 6: 996 Real changes: 0\n",
      "    Column 9: 14 Real changes: 1\n",
      "    Column 10: 119 Real changes: 0\n",
      "98% (4301 / 4369) of data errors are corrected.\n",
      "The error corrector models are updated with new labeled tuple 2391.\n",
      "218352 pairs of (a data error, a potential correction) are featurized.\n",
      "Prediction Method in this step:\n",
      "    Column 4: Train\n",
      "    Column 5: Train\n",
      "    Column 6: Train\n",
      "    Column 9: Train\n",
      "    Column 10: Train\n",
      "Train sizes in this step:\n",
      "    Column 4: 40\n",
      "    Column 5: 207\n",
      "    Column 6: 972\n",
      "    Column 9: 1134\n",
      "    Column 10: 153\n",
      "Corrections identified in this step:\n",
      "    Column 4: 2055 Mean correction confidence: 0.9379309220452539\n",
      "    Column 5: 548 Mean correction confidence: 0.9999999999999998\n",
      "    Column 6: 996 Mean correction confidence: 0.9999999999999998\n",
      "    Column 9: 0 Mean correction confidence: nan\n",
      "    Column 10: 119 Mean correction confidence: 0.9999999999999999\n",
      "Corrections applied in this step:\n",
      "    Column 4: 2006 Real changes: 79\n",
      "    Column 5: 548 Real changes: 0\n",
      "    Column 6: 996 Real changes: 0\n",
      "    Column 9: 0 Real changes: 0\n",
      "    Column 10: 119 Real changes: 0\n",
      "98% (4301 / 4369) of data errors are corrected.\n",
      "The error corrector models are updated with new labeled tuple 1579.\n",
      "218352 pairs of (a data error, a potential correction) are featurized.\n",
      "Prediction Method in this step:\n",
      "    Column 4: Train\n",
      "    Column 5: Train\n",
      "    Column 6: Train\n",
      "    Column 9: Train\n",
      "    Column 10: Train\n",
      "Train sizes in this step:\n",
      "    Column 4: 40\n",
      "    Column 5: 207\n",
      "    Column 6: 972\n",
      "    Column 9: 1134\n",
      "    Column 10: 153\n",
      "Corrections identified in this step:\n",
      "    Column 4: 2198 Mean correction confidence: 0.9410378482578652\n",
      "    Column 5: 25 Mean correction confidence: 0.9999999999999997\n",
      "    Column 6: 996 Mean correction confidence: 0.9999999999999998\n",
      "    Column 9: 0 Mean correction confidence: nan\n",
      "    Column 10: 119 Mean correction confidence: 0.9999999999999999\n",
      "Corrections applied in this step:\n",
      "    Column 4: 2069 Real changes: 65\n",
      "    Column 5: 25 Real changes: 0\n",
      "    Column 6: 996 Real changes: 0\n",
      "    Column 9: 0 Real changes: 0\n",
      "    Column 10: 119 Real changes: 0\n",
      "98% (4301 / 4369) of data errors are corrected.\n",
      "The error corrector models are updated with new labeled tuple 2260.\n",
      "218352 pairs of (a data error, a potential correction) are featurized.\n",
      "Prediction Method in this step:\n",
      "    Column 4: Train\n",
      "    Column 5: Train\n",
      "    Column 6: Train\n",
      "    Column 9: Train\n",
      "    Column 10: Train\n",
      "Train sizes in this step:\n",
      "    Column 4: 40\n",
      "    Column 5: 207\n",
      "    Column 6: 972\n",
      "    Column 9: 1134\n",
      "    Column 10: 153\n",
      "Corrections identified in this step:\n",
      "    Column 4: 2075 Mean correction confidence: 0.9999948695206318\n",
      "    Column 5: 51 Mean correction confidence: 0.9999999999999999\n",
      "    Column 6: 996 Mean correction confidence: 0.9999999999999998\n",
      "    Column 9: 0 Mean correction confidence: nan\n",
      "    Column 10: 0 Mean correction confidence: nan\n",
      "Corrections applied in this step:\n",
      "    Column 4: 2075 Real changes: 175\n",
      "    Column 5: 51 Real changes: 12\n",
      "    Column 6: 996 Real changes: 0\n",
      "    Column 9: 0 Real changes: 0\n",
      "    Column 10: 0 Real changes: 0\n",
      "99% (4304 / 4369) of data errors are corrected.\n",
      "The error corrector models are updated with new labeled tuple 553.\n",
      "218352 pairs of (a data error, a potential correction) are featurized.\n",
      "Prediction Method in this step:\n",
      "    Column 4: Train\n",
      "    Column 5: Train\n",
      "    Column 6: Train\n",
      "    Column 9: Train\n",
      "    Column 10: Train\n",
      "Train sizes in this step:\n",
      "    Column 4: 40\n",
      "    Column 5: 207\n",
      "    Column 6: 972\n",
      "    Column 9: 1134\n",
      "    Column 10: 153\n",
      "Corrections identified in this step:\n",
      "    Column 4: 789 Mean correction confidence: 0.9979759153652372\n",
      "    Column 5: 0 Mean correction confidence: nan\n",
      "    Column 6: 0 Mean correction confidence: nan\n",
      "    Column 9: 36 Mean correction confidence: 0.9999999999999998\n",
      "    Column 10: 0 Mean correction confidence: nan\n",
      "Corrections applied in this step:\n",
      "    Column 4: 789 Real changes: 65\n",
      "    Column 5: 0 Real changes: 0\n",
      "    Column 6: 0 Real changes: 0\n",
      "    Column 9: 36 Real changes: 33\n",
      "    Column 10: 0 Real changes: 0\n",
      "99% (4304 / 4369) of data errors are corrected.\n",
      "The error corrector models are updated with new labeled tuple 2221.\n",
      "218356 pairs of (a data error, a potential correction) are featurized.\n",
      "Prediction Method in this step:\n",
      "    Column 4: Train\n",
      "    Column 5: Train\n",
      "    Column 6: Train\n",
      "    Column 9: Train\n",
      "    Column 10: Train\n",
      "Train sizes in this step:\n",
      "    Column 4: 40\n",
      "    Column 5: 207\n",
      "    Column 6: 972\n",
      "    Column 9: 1134\n",
      "    Column 10: 153\n",
      "Corrections identified in this step:\n",
      "    Column 4: 1854 Mean correction confidence: 0.9999999999999999\n",
      "    Column 5: 0 Mean correction confidence: nan\n",
      "    Column 6: 0 Mean correction confidence: nan\n",
      "    Column 9: 14 Mean correction confidence: 0.9999999999999999\n",
      "    Column 10: 14 Mean correction confidence: 0.9999999999999999\n",
      "Corrections applied in this step:\n",
      "    Column 4: 1854 Real changes: 200\n",
      "    Column 5: 0 Real changes: 0\n",
      "    Column 6: 0 Real changes: 0\n",
      "    Column 9: 14 Real changes: 4\n",
      "    Column 10: 14 Real changes: 1\n",
      "99% (4304 / 4369) of data errors are corrected.\n",
      "The error corrector models are updated with new labeled tuple 1000.\n",
      "218356 pairs of (a data error, a potential correction) are featurized.\n",
      "Prediction Method in this step:\n",
      "    Column 4: Train\n",
      "    Column 5: Train\n",
      "    Column 6: Train\n",
      "    Column 9: Train\n",
      "    Column 10: Train\n",
      "Train sizes in this step:\n",
      "    Column 4: 40\n",
      "    Column 5: 207\n",
      "    Column 6: 972\n",
      "    Column 9: 1134\n",
      "    Column 10: 153\n",
      "Corrections identified in this step:\n",
      "    Column 4: 0 Mean correction confidence: nan\n",
      "    Column 5: 0 Mean correction confidence: nan\n",
      "    Column 6: 0 Mean correction confidence: nan\n",
      "    Column 9: 0 Mean correction confidence: nan\n",
      "    Column 10: 14 Mean correction confidence: 0.9999999999999999\n",
      "Corrections applied in this step:\n",
      "    Column 4: 0 Real changes: 0\n",
      "    Column 5: 0 Real changes: 0\n",
      "    Column 6: 0 Real changes: 0\n",
      "    Column 9: 0 Real changes: 0\n",
      "    Column 10: 14 Real changes: 0\n",
      "99% (4304 / 4369) of data errors are corrected.\n"
     ]
    }
   ],
   "source": [
    "# while len(d.labeled_tuples) < app_2.LABELING_BUDGET:\n",
    "#     app_2.sample_tuple(d)\n",
    "#     if d.has_ground_truth:\n",
    "#         app_2.label_with_ground_truth(d)\n",
    "#     else:\n",
    "#         print(\"Label the dirty cells in the following sampled tuple.\")\n",
    "#         sampled_tuple = pandas.DataFrame(data=[d.dataframe.iloc[d.sampled_tuple, :]], columns=d.dataframe.columns)\n",
    "#         IPython.display.display(sampled_tuple)\n",
    "#         for j in range(d.dataframe.shape[1]):\n",
    "#             cell = (d.sampled_tuple, j)\n",
    "#             value = d.dataframe.iloc[cell]\n",
    "#             correction = input(\"What is the correction for value '{}'? Type in the same value if it is not erronous.\\n\".format(value))\n",
    "#             user_label = 1 if value != correction else 0\n",
    "#             d.labeled_cells[cell] = [user_label, correction]\n",
    "#         d.labeled_tuples[d.sampled_tuple] = 1\n",
    "#     app_2.update_models(d)\n",
    "#     app_2.generate_features(d)\n",
    "#     app_2.predict_corrections(d)\n",
    "\n",
    "#labeled_tuples_list = list(d.labeled_tuples.keys())\n",
    "#k = labeled_tuples_list[0]\n",
    "\n",
    "#si = d.labeled_tuples[k]\n",
    "#d.sampled_tuple = k\n",
    "#app_2.update_models(d)\n",
    "#app_2.generate_features(d)\n",
    "\n",
    "for si in d.labeled_tuples:\n",
    "    d.sampled_tuple = si\n",
    "    app_2.update_models(d)\n",
    "    app_2.generate_features(d)\n",
    "    app_2.predict_corrections(d)"
   ]
  },
  {
   "cell_type": "code",
   "execution_count": 16,
   "outputs": [],
   "source": [
    "#d.corrected_cells = {}"
   ],
   "metadata": {
    "collapsed": false,
    "pycharm": {
     "name": "#%%\n"
    }
   }
  },
  {
   "cell_type": "code",
   "execution_count": 17,
   "outputs": [],
   "source": [
    "#app_2.predict_corrections(d)"
   ],
   "metadata": {
    "collapsed": false,
    "pycharm": {
     "name": "#%%\n"
    }
   }
  },
  {
   "cell_type": "markdown",
   "metadata": {},
   "source": [
    "### 5. Storing Results\n",
    "Baran can also store the error correction results."
   ]
  },
  {
   "cell_type": "code",
   "execution_count": 18,
   "metadata": {},
   "outputs": [
    {
     "name": "stdout",
     "output_type": "stream",
     "text": [
      "The results are stored in datasets/beers/raha-baran-results-beers/error-correction/correction.dataset.\n"
     ]
    }
   ],
   "source": [
    "app_2.store_results(d)"
   ]
  },
  {
   "cell_type": "markdown",
   "metadata": {},
   "source": [
    "### 6. Evaluating the Error Correction Task\n",
    "We can finally evaluate our error correction task."
   ]
  },
  {
   "cell_type": "code",
   "execution_count": 19,
   "metadata": {},
   "outputs": [
    {
     "name": "stdout",
     "output_type": "stream",
     "text": [
      "Baran's performance on beers:\n",
      "Precision = 0.94\n",
      "Recall = 0.93\n",
      "F1 = 0.93\n"
     ]
    }
   ],
   "source": [
    "p, r, f = d.get_data_cleaning_evaluation(d.corrected_cells)[-3:]\n",
    "print(\"Baran's performance on {}:\\nPrecision = {:.2f}\\nRecall = {:.2f}\\nF1 = {:.2f}\".format(d.name, p, r, f))"
   ]
  },
  {
   "cell_type": "markdown",
   "source": [
    "### Further detection evaluation"
   ],
   "metadata": {
    "collapsed": false,
    "pycharm": {
     "name": "#%% md\n"
    }
   }
  },
  {
   "cell_type": "code",
   "execution_count": null,
   "outputs": [],
   "source": [
    "actual_errors = d.get_actual_errors_dictionary()\n",
    "len(actual_errors)"
   ],
   "metadata": {
    "collapsed": false,
    "pycharm": {
     "name": "#%%\n"
    }
   }
  },
  {
   "cell_type": "code",
   "execution_count": 21,
   "outputs": [],
   "source": [
    "#d = pickle.load(open(\"datasets/flights/raha-baran-results-flights/error-correction/correction.dataset\", \"rb\"))"
   ],
   "metadata": {
    "collapsed": false,
    "pycharm": {
     "name": "#%%\n"
    }
   }
  },
  {
   "cell_type": "code",
   "execution_count": 22,
   "metadata": {},
   "outputs": [
    {
     "data": {
      "text/plain": "26510"
     },
     "execution_count": 22,
     "metadata": {},
     "output_type": "execute_result"
    }
   ],
   "source": [
    "d.dataframe.shape[0] * d.dataframe.shape[1]"
   ]
  },
  {
   "cell_type": "code",
   "execution_count": 111,
   "outputs": [],
   "source": [
    "import importlib\n",
    "from raha import analysis_utilities"
   ],
   "metadata": {
    "collapsed": false,
    "pycharm": {
     "name": "#%%\n"
    }
   }
  },
  {
   "cell_type": "code",
   "execution_count": 116,
   "outputs": [
    {
     "name": "stdout",
     "output_type": "stream",
     "text": [
      "Histograms of the probabilities of the detection algorithm by (label, true label)\n"
     ]
    },
    {
     "data": {
      "text/plain": "<Figure size 432x288 with 4 Axes>",
      "image/png": "[encoded data removed]"
     },
     "metadata": {
      "needs_background": "light"
     },
     "output_type": "display_data"
    }
   ],
   "source": [
    "importlib.reload(analysis_utilities)\n",
    "\n",
    "analysis_utilities.detection_evaluation(d, actual_errors)"
   ],
   "metadata": {
    "collapsed": false,
    "pycharm": {
     "name": "#%%\n"
    }
   }
  },
  {
   "cell_type": "markdown",
   "source": [
    "### Correction feature analysis"
   ],
   "metadata": {
    "collapsed": false,
    "pycharm": {
     "name": "#%% md\n"
    }
   }
  },
  {
   "cell_type": "code",
   "execution_count": null,
   "outputs": [],
   "source": [
    "correction_features = []\n",
    "\n",
    "for cell in d.corrected_cells:\n",
    "    correction_features.append(list(cell) +\n",
    "                               [d.dataframe.iloc[cell]] +\n",
    "                               [d.corrected_cells[cell]] +\n",
    "                               [actual_errors[cell] if cell in actual_errors else d.dataframe.iloc[cell]] +\n",
    "                               list(d.pair_features[cell][d.corrected_cells[cell]]))"
   ],
   "metadata": {
    "collapsed": false,
    "pycharm": {
     "name": "#%%\n"
    }
   }
  },
  {
   "cell_type": "code",
   "execution_count": 35,
   "outputs": [],
   "source": [
    "correction_features_df = DataFrame(correction_features,\n",
    "                                   columns=[\"row\",\n",
    "                                            \"column\",\n",
    "                                            \"old_value\",\n",
    "                                            \"new_value\",\n",
    "                                            \"actual_value\",\n",
    "                                            *[f\"feature_value_{i}\" for i in range(8)],\n",
    "                                            *[f\"feature_vicinity_{i}\" for i in range(d.dataframe.shape[1])],\n",
    "                                            \"feature_domain\"])"
   ],
   "metadata": {
    "collapsed": false,
    "pycharm": {
     "name": "#%%\n"
    }
   }
  },
  {
   "cell_type": "code",
   "execution_count": 36,
   "outputs": [
    {
     "data": {
      "text/plain": "feature_value_4        0.000000\nfeature_value_5        0.000000\nfeature_vicinity_4     0.000000\nfeature_value_2        0.002169\nfeature_value_3        0.002169\nfeature_vicinity_1     0.008829\nfeature_vicinity_0     0.008829\nfeature_vicinity_2     0.027138\nfeature_vicinity_6     0.051442\nfeature_vicinity_9     0.059025\nfeature_vicinity_7     0.111781\nfeature_vicinity_8     0.114336\nfeature_vicinity_5     0.131783\nfeature_vicinity_3     0.185038\nfeature_vicinity_10    0.185315\nfeature_domain         0.323399\nfeature_value_7        0.570616\nfeature_value_0        0.676115\nfeature_value_6        0.678284\nfeature_value_1        0.890567\ndtype: float64"
     },
     "execution_count": 36,
     "metadata": {},
     "output_type": "execute_result"
    }
   ],
   "source": [
    "correction_features_df.iloc[:,5:].mean().sort_values()"
   ],
   "metadata": {
    "collapsed": false,
    "pycharm": {
     "name": "#%%\n"
    }
   }
  },
  {
   "cell_type": "code",
   "execution_count": 37,
   "outputs": [
    {
     "data": {
      "text/plain": "        feature_value_0  feature_value_1  feature_value_2  feature_value_3  \\\ncolumn                                                                       \n4              0.777593         0.945228         0.000000         0.000000   \n5              0.043818         0.851330         0.000000         0.000000   \n6              1.000000         1.000000         0.000000         0.000000   \n9              0.024000         0.048000         0.000000         0.000000   \n10             0.000000         0.000000         0.074667         0.074667   \n\n        feature_value_4  feature_value_5  feature_value_6  feature_value_7  \\\ncolumn                                                                       \n4                   0.0              0.0         0.777593         0.575768   \n5                   0.0              0.0         0.043818         0.029734   \n6                   0.0              0.0         1.000000         1.000000   \n9                   0.0              0.0         0.024000         0.280000   \n10                  0.0              0.0         0.074667         0.074667   \n\n        feature_vicinity_0  feature_vicinity_1  feature_vicinity_2  \\\ncolumn                                                               \n4                 0.008299            0.008299            0.008714   \n5                 0.004695            0.004695            0.083881   \n6                 0.008955            0.008955            0.008955   \n9                 0.024000            0.024000            0.132800   \n10                0.024000            0.024000            0.132800   \n\n        feature_vicinity_3  feature_vicinity_4  feature_vicinity_5  \\\ncolumn                                                               \n4                 0.288313                 0.0            0.203320   \n5                 0.074989                 0.0            0.000000   \n6                 0.042727                 0.0            0.067173   \n9                 0.021662                 0.0            0.022872   \n10                0.064030                 0.0            0.054594   \n\n        feature_vicinity_6  feature_vicinity_7  feature_vicinity_8  \\\ncolumn                                                               \n4                 0.074689            0.054772            0.060166   \n5                 0.051269            0.098513            0.099977   \n6                 0.000000            0.072790            0.072790   \n9                 0.019034            0.736000            0.712520   \n10                0.050130            0.968000            0.968000   \n\n        feature_vicinity_9  feature_vicinity_10  feature_domain  \ncolumn                                                           \n4                 0.071784             0.312725        0.562490  \n5                 0.071422             0.049827        0.036176  \n6                 0.035227             0.012028        0.006365  \n9                 0.000000             0.000000        0.006596  \n10                0.000000             0.000000        0.047773  ",
      "text/html": "<div>\n<style scoped>\n    .dataframe tbody tr th:only-of-type {\n        vertical-align: middle;\n    }\n\n    .dataframe tbody tr th {\n        vertical-align: top;\n    }\n\n    .dataframe thead th {\n        text-align: right;\n    }\n</style>\n<table border=\"1\" class=\"dataframe\">\n  <thead>\n    <tr style=\"text-align: right;\">\n      <th></th>\n      <th>feature_value_0</th>\n      <th>feature_value_1</th>\n      <th>feature_value_2</th>\n      <th>feature_value_3</th>\n      <th>feature_value_4</th>\n      <th>feature_value_5</th>\n      <th>feature_value_6</th>\n      <th>feature_value_7</th>\n      <th>feature_vicinity_0</th>\n      <th>feature_vicinity_1</th>\n      <th>feature_vicinity_2</th>\n      <th>feature_vicinity_3</th>\n      <th>feature_vicinity_4</th>\n      <th>feature_vicinity_5</th>\n      <th>feature_vicinity_6</th>\n      <th>feature_vicinity_7</th>\n      <th>feature_vicinity_8</th>\n      <th>feature_vicinity_9</th>\n      <th>feature_vicinity_10</th>\n      <th>feature_domain</th>\n    </tr>\n    <tr>\n      <th>column</th>\n      <th></th>\n      <th></th>\n      <th></th>\n      <th></th>\n      <th></th>\n      <th></th>\n      <th></th>\n      <th></th>\n      <th></th>\n      <th></th>\n      <th></th>\n      <th></th>\n      <th></th>\n      <th></th>\n      <th></th>\n      <th></th>\n      <th></th>\n      <th></th>\n      <th></th>\n      <th></th>\n    </tr>\n  </thead>\n  <tbody>\n    <tr>\n      <th>4</th>\n      <td>0.777593</td>\n      <td>0.945228</td>\n      <td>0.000000</td>\n      <td>0.000000</td>\n      <td>0.0</td>\n      <td>0.0</td>\n      <td>0.777593</td>\n      <td>0.575768</td>\n      <td>0.008299</td>\n      <td>0.008299</td>\n      <td>0.008714</td>\n      <td>0.288313</td>\n      <td>0.0</td>\n      <td>0.203320</td>\n      <td>0.074689</td>\n      <td>0.054772</td>\n      <td>0.060166</td>\n      <td>0.071784</td>\n      <td>0.312725</td>\n      <td>0.562490</td>\n    </tr>\n    <tr>\n      <th>5</th>\n      <td>0.043818</td>\n      <td>0.851330</td>\n      <td>0.000000</td>\n      <td>0.000000</td>\n      <td>0.0</td>\n      <td>0.0</td>\n      <td>0.043818</td>\n      <td>0.029734</td>\n      <td>0.004695</td>\n      <td>0.004695</td>\n      <td>0.083881</td>\n      <td>0.074989</td>\n      <td>0.0</td>\n      <td>0.000000</td>\n      <td>0.051269</td>\n      <td>0.098513</td>\n      <td>0.099977</td>\n      <td>0.071422</td>\n      <td>0.049827</td>\n      <td>0.036176</td>\n    </tr>\n    <tr>\n      <th>6</th>\n      <td>1.000000</td>\n      <td>1.000000</td>\n      <td>0.000000</td>\n      <td>0.000000</td>\n      <td>0.0</td>\n      <td>0.0</td>\n      <td>1.000000</td>\n      <td>1.000000</td>\n      <td>0.008955</td>\n      <td>0.008955</td>\n      <td>0.008955</td>\n      <td>0.042727</td>\n      <td>0.0</td>\n      <td>0.067173</td>\n      <td>0.000000</td>\n      <td>0.072790</td>\n      <td>0.072790</td>\n      <td>0.035227</td>\n      <td>0.012028</td>\n      <td>0.006365</td>\n    </tr>\n    <tr>\n      <th>9</th>\n      <td>0.024000</td>\n      <td>0.048000</td>\n      <td>0.000000</td>\n      <td>0.000000</td>\n      <td>0.0</td>\n      <td>0.0</td>\n      <td>0.024000</td>\n      <td>0.280000</td>\n      <td>0.024000</td>\n      <td>0.024000</td>\n      <td>0.132800</td>\n      <td>0.021662</td>\n      <td>0.0</td>\n      <td>0.022872</td>\n      <td>0.019034</td>\n      <td>0.736000</td>\n      <td>0.712520</td>\n      <td>0.000000</td>\n      <td>0.000000</td>\n      <td>0.006596</td>\n    </tr>\n    <tr>\n      <th>10</th>\n      <td>0.000000</td>\n      <td>0.000000</td>\n      <td>0.074667</td>\n      <td>0.074667</td>\n      <td>0.0</td>\n      <td>0.0</td>\n      <td>0.074667</td>\n      <td>0.074667</td>\n      <td>0.024000</td>\n      <td>0.024000</td>\n      <td>0.132800</td>\n      <td>0.064030</td>\n      <td>0.0</td>\n      <td>0.054594</td>\n      <td>0.050130</td>\n      <td>0.968000</td>\n      <td>0.968000</td>\n      <td>0.000000</td>\n      <td>0.000000</td>\n      <td>0.047773</td>\n    </tr>\n  </tbody>\n</table>\n</div>"
     },
     "execution_count": 37,
     "metadata": {},
     "output_type": "execute_result"
    }
   ],
   "source": [
    "correction_features_df.iloc[:,[1] + list(range(5,correction_features_df.shape[1]))].groupby(\"column\").mean()"
   ],
   "metadata": {
    "collapsed": false,
    "pycharm": {
     "name": "#%%\n"
    }
   }
  },
  {
   "cell_type": "code",
   "execution_count": 38,
   "outputs": [],
   "source": [
    "correction_features_df[\"wrong_correction\"] = (correction_features_df[\"old_value\"] == correction_features_df[\"actual_value\"]) & (correction_features_df[\"old_value\"] != correction_features_df[\"new_value\"])"
   ],
   "metadata": {
    "collapsed": false,
    "pycharm": {
     "name": "#%%\n"
    }
   }
  },
  {
   "cell_type": "code",
   "execution_count": 39,
   "outputs": [
    {
     "data": {
      "text/plain": "0.0"
     },
     "execution_count": 39,
     "metadata": {},
     "output_type": "execute_result"
    }
   ],
   "source": [
    "correction_features_df[\"wrong_correction\"].sum() / correction_features_df.shape[0]"
   ],
   "metadata": {
    "collapsed": false,
    "pycharm": {
     "name": "#%%\n"
    }
   }
  },
  {
   "cell_type": "code",
   "execution_count": 40,
   "outputs": [
    {
     "data": {
      "text/plain": "[1162, 1171, 2311, 282, 160, 358, 237, 693, 745, 619, 149]"
     },
     "execution_count": 40,
     "metadata": {},
     "output_type": "execute_result"
    }
   ],
   "source": [
    "distinct_features = []\n",
    "\n",
    "for column_index in range(d.dataframe.shape[1]):\n",
    "    unique_rows = np.unique(d.column_features[column_index], axis=0)\n",
    "    distinct_features.append(unique_rows.shape[0])\n",
    "\n",
    "distinct_features"
   ],
   "metadata": {
    "collapsed": false,
    "pycharm": {
     "name": "#%%\n"
    }
   }
  },
  {
   "cell_type": "code",
   "execution_count": 41,
   "outputs": [],
   "source": [
    "cluster_features = []\n",
    "\n",
    "for cluster_i in range(1,21):\n",
    "    cluster_features.append(d.column_features[3][\n",
    "        [key[0] for key in d.clusters_k_j_c_ce[21][3][cluster_i].keys()]])"
   ],
   "metadata": {
    "collapsed": false,
    "pycharm": {
     "name": "#%%\n"
    }
   }
  },
  {
   "cell_type": "code",
   "execution_count": 93,
   "outputs": [
    {
     "data": {
      "text/plain": "array([[1.        , 0.        , 0.        , ..., 0.        , 0.        ,\n        0.        ],\n       [1.        , 0.        , 1.        , ..., 0.        , 0.        ,\n        1.        ],\n       [0.99363057, 0.8089172 , 0.23566879, ..., 0.        , 0.        ,\n        0.98726115],\n       ...,\n       [1.        , 0.        , 1.        , ..., 0.        , 0.        ,\n        0.        ],\n       [1.        , 0.        , 1.        , ..., 0.        , 0.        ,\n        0.        ],\n       [1.        , 0.        , 0.        , ..., 0.        , 0.        ,\n        0.        ]])"
     },
     "execution_count": 93,
     "metadata": {},
     "output_type": "execute_result"
    }
   ],
   "source": [
    "cluster_feature_means = np.array([cluster.mean(axis=0) for cluster in cluster_features])\n",
    "cluster_feature_means"
   ],
   "metadata": {
    "collapsed": false,
    "pycharm": {
     "name": "#%%\n"
    }
   }
  },
  {
   "cell_type": "code",
   "execution_count": 94,
   "outputs": [
    {
     "data": {
      "text/plain": "1       6\n2       4\n3       1\n5       1\n7       1\n26      1\n30      1\n53      1\n59      1\n69      1\n86      1\n157     1\n1901    1\ndtype: int64"
     },
     "execution_count": 94,
     "metadata": {},
     "output_type": "execute_result"
    }
   ],
   "source": [
    "Series([len(cluster) for cluster in d.clusters_k_j_c_ce[21][3].values()]).value_counts().sort_index()"
   ],
   "metadata": {
    "collapsed": false,
    "pycharm": {
     "name": "#%%\n"
    }
   }
  },
  {
   "cell_type": "markdown",
   "source": [
    "### Correction prediction analysis"
   ],
   "metadata": {
    "collapsed": false,
    "pycharm": {
     "name": "#%% md\n"
    }
   }
  },
  {
   "cell_type": "code",
   "execution_count": null,
   "outputs": [],
   "source": [
    "df = d.correction_prediction_dfs[0][5]"
   ],
   "metadata": {
    "collapsed": false,
    "pycharm": {
     "name": "#%%\n"
    }
   }
  },
  {
   "cell_type": "code",
   "execution_count": 45,
   "outputs": [
    {
     "data": {
      "text/plain": "501"
     },
     "execution_count": 45,
     "metadata": {},
     "output_type": "execute_result"
    }
   ],
   "source": [
    "df[\"prediction\"].sum()"
   ],
   "metadata": {
    "collapsed": false,
    "pycharm": {
     "name": "#%%\n"
    }
   }
  },
  {
   "cell_type": "code",
   "execution_count": 46,
   "outputs": [
    {
     "data": {
      "text/plain": "cell\n(3, 5)       0\n(1403, 5)    0\n(1402, 5)    0\n(1397, 5)    0\n(1368, 5)    0\n(1364, 5)    0\n(1359, 5)    0\n(1334, 5)    0\n(1333, 5)    0\n(1321, 5)    0\n(1307, 5)    0\n(1306, 5)    0\n(1421, 5)    0\n(1295, 5)    0\n(1288, 5)    0\n(1283, 5)    0\n(1273, 5)    0\n(1238, 5)    0\n(1235, 5)    0\n(1232, 5)    0\n(1213, 5)    0\n(1203, 5)    0\n(1182, 5)    0\n(1181, 5)    0\n(1177, 5)    0\n(1293, 5)    0\n(1157, 5)    0\n(1423, 5)    0\n(1430, 5)    0\n(1634, 5)    0\n            ..\n(1988, 5)    2\n(1165, 5)    2\n(179, 5)     2\n(2124, 5)    2\n(1162, 5)    2\n(1951, 5)    3\n(1614, 5)    3\n(1603, 5)    3\n(78, 5)      3\n(2141, 5)    3\n(2197, 5)    3\n(1131, 5)    3\n(1933, 5)    3\n(1223, 5)    3\n(1254, 5)    3\n(501, 5)     3\n(788, 5)     3\n(1695, 5)    4\n(1952, 5)    4\n(1474, 5)    4\n(1928, 5)    4\n(1925, 5)    4\n(1226, 5)    4\n(669, 5)     4\n(681, 5)     4\n(1947, 5)    4\n(1233, 5)    4\n(667, 5)     5\n(685, 5)     5\n(331, 5)     6\nName: prediction, Length: 690, dtype: int64"
     },
     "execution_count": 46,
     "metadata": {},
     "output_type": "execute_result"
    }
   ],
   "source": [
    "df[\"prediction\"].groupby(df[\"cell\"]).sum().sort_values()"
   ],
   "metadata": {
    "collapsed": false,
    "pycharm": {
     "name": "#%%\n"
    }
   }
  },
  {
   "cell_type": "code",
   "execution_count": 47,
   "outputs": [],
   "source": [
    "#df = df[df[\"prediction\"] == 1]"
   ],
   "metadata": {
    "collapsed": false,
    "pycharm": {
     "name": "#%%\n"
    }
   }
  },
  {
   "cell_type": "code",
   "execution_count": 48,
   "outputs": [
    {
     "data": {
      "text/plain": "<matplotlib.axes._subplots.AxesSubplot at 0x7f52ccdd4290>"
     },
     "execution_count": 48,
     "metadata": {},
     "output_type": "execute_result"
    },
    {
     "data": {
      "text/plain": "<Figure size 432x288 with 1 Axes>",
      "image/png": "[encoded data removed]"
     },
     "metadata": {
      "needs_background": "light"
     },
     "output_type": "display_data"
    }
   ],
   "source": [
    "df[\"probability\"].hist(bins=np.linspace(0.0, 1.0, 21))"
   ],
   "metadata": {
    "collapsed": false,
    "pycharm": {
     "name": "#%%\n"
    }
   }
  },
  {
   "cell_type": "code",
   "execution_count": 49,
   "outputs": [
    {
     "data": {
      "text/plain": "           prediction       cell  \\\ncell                               \n(12, 5)             1    (12, 5)   \n(26, 5)             1    (26, 5)   \n(35, 5)             1    (35, 5)   \n(44, 5)             2    (44, 5)   \n(46, 5)             2    (46, 5)   \n(70, 5)             1    (70, 5)   \n(78, 5)             3    (78, 5)   \n(79, 5)             1    (79, 5)   \n(96, 5)             1    (96, 5)   \n(97, 5)             1    (97, 5)   \n(98, 5)             1    (98, 5)   \n(100, 5)            1   (100, 5)   \n(103, 5)            1   (103, 5)   \n(108, 5)            1   (108, 5)   \n(111, 5)            1   (111, 5)   \n(113, 5)            1   (113, 5)   \n(114, 5)            1   (114, 5)   \n(120, 5)            2   (120, 5)   \n(123, 5)            1   (123, 5)   \n(127, 5)            2   (127, 5)   \n(131, 5)            1   (131, 5)   \n(135, 5)            1   (135, 5)   \n(145, 5)            1   (145, 5)   \n(151, 5)            1   (151, 5)   \n(154, 5)            1   (154, 5)   \n(157, 5)            1   (157, 5)   \n(161, 5)            1   (161, 5)   \n(169, 5)            1   (169, 5)   \n(178, 5)            2   (178, 5)   \n(179, 5)            2   (179, 5)   \n...               ...        ...   \n(2267, 5)           1  (2267, 5)   \n(2272, 5)           2  (2272, 5)   \n(2278, 5)           1  (2278, 5)   \n(2279, 5)           1  (2279, 5)   \n(2284, 5)           1  (2284, 5)   \n(2290, 5)           1  (2290, 5)   \n(2298, 5)           1  (2298, 5)   \n(2300, 5)           1  (2300, 5)   \n(2308, 5)           1  (2308, 5)   \n(2314, 5)           1  (2314, 5)   \n(2319, 5)           1  (2319, 5)   \n(2320, 5)           1  (2320, 5)   \n(2325, 5)           1  (2325, 5)   \n(2328, 5)           1  (2328, 5)   \n(2334, 5)           1  (2334, 5)   \n(2346, 5)           1  (2346, 5)   \n(2348, 5)           2  (2348, 5)   \n(2350, 5)           1  (2350, 5)   \n(2374, 5)           1  (2374, 5)   \n(2379, 5)           1  (2379, 5)   \n(2381, 5)           1  (2381, 5)   \n(2382, 5)           1  (2382, 5)   \n(2385, 5)           2  (2385, 5)   \n(2388, 5)           1  (2388, 5)   \n(2389, 5)           1  (2389, 5)   \n(2390, 5)           2  (2390, 5)   \n(2393, 5)           1  (2393, 5)   \n(2402, 5)           1  (2402, 5)   \n(2403, 5)           1  (2403, 5)   \n(2407, 5)           1  (2407, 5)   \n\n                                                 probability  \\\ncell                                                           \n(12, 5)                                 [0.5129718302458491]   \n(26, 5)                                 [0.5117321209240264]   \n(35, 5)                                 [0.5246889485427785]   \n(44, 5)             [0.5596671708080119, 0.5026945983566269]   \n(46, 5)             [0.5129718302458491, 0.5596671708080119]   \n(70, 5)                                 [0.5468403303422108]   \n(78, 5)    [0.5129718302458491, 0.5184749112477279, 0.502...   \n(79, 5)                                 [0.5468403303422108]   \n(96, 5)                                 [0.5246889485427785]   \n(97, 5)                                 [0.5246889485427785]   \n(98, 5)                                 [0.5117321209240264]   \n(100, 5)                                [0.5117321209240264]   \n(103, 5)                                [0.5117321209240264]   \n(108, 5)                                [0.5117321209240264]   \n(111, 5)                                [0.5117321209240264]   \n(113, 5)                                [0.5117321209240264]   \n(114, 5)                                [0.5117321209240264]   \n(120, 5)            [0.5596671708080119, 0.5026945983566269]   \n(123, 5)                                [0.5468403303422108]   \n(127, 5)             [0.5597543486907339, 0.573320543380727]   \n(131, 5)                                [0.5144249219590883]   \n(135, 5)                                [0.5129718302458491]   \n(145, 5)                                [0.5014541533464889]   \n(151, 5)                                [0.5014541533464889]   \n(154, 5)                                [0.5014541533464889]   \n(157, 5)                                [0.5129718302458491]   \n(161, 5)                                [0.5014541533464889]   \n(169, 5)                                [0.5026945983566269]   \n(178, 5)            [0.5026945983566269, 0.5694592785849029]   \n(179, 5)            [0.5596671708080119, 0.5694592785849029]   \n...                                                      ...   \n(2267, 5)                               [0.5117321209240264]   \n(2272, 5)           [0.5055083346175661, 0.5468403303422108]   \n(2278, 5)                               [0.5014541533464889]   \n(2279, 5)                               [0.5014541533464889]   \n(2284, 5)                               [0.5014541533464889]   \n(2290, 5)                               [0.5014541533464889]   \n(2298, 5)                               [0.5596671708080119]   \n(2300, 5)                               [0.5468403303422108]   \n(2308, 5)                               [0.5014541533464889]   \n(2314, 5)                               [0.5026945983566269]   \n(2319, 5)                               [0.5129718302458491]   \n(2320, 5)                               [0.5129718302458491]   \n(2325, 5)                               [0.5129718302458491]   \n(2328, 5)                               [0.5129718302458491]   \n(2334, 5)                               [0.5468403303422108]   \n(2346, 5)                               [0.5468403303422108]   \n(2348, 5)           [0.5596671708080119, 0.5129718302458491]   \n(2350, 5)                               [0.5055083346175661]   \n(2374, 5)                               [0.5468403303422108]   \n(2379, 5)                               [0.5129718302458491]   \n(2381, 5)                               [0.5596671708080119]   \n(2382, 5)                               [0.5596671708080119]   \n(2385, 5)           [0.5129718302458491, 0.5026945983566269]   \n(2388, 5)                               [0.5014541533464889]   \n(2389, 5)                               [0.5144249219590883]   \n(2390, 5)           [0.5129718302458491, 0.5468403303422108]   \n(2393, 5)                               [0.5129718302458491]   \n(2402, 5)                               [0.5014541533464889]   \n(2403, 5)                               [0.5014541533464889]   \n(2407, 5)                               [0.5014541533464889]   \n\n                     correction  \ncell                             \n(12, 5)                 [0.067]  \n(26, 5)                 [0.067]  \n(35, 5)                 [0.067]  \n(44, 5)           [0.05, 0.053]  \n(46, 5)           [0.067, 0.05]  \n(70, 5)                  [0.05]  \n(78, 5)    [0.067, 0.05, 0.053]  \n(79, 5)                  [0.05]  \n(96, 5)                 [0.067]  \n(97, 5)                 [0.067]  \n(98, 5)                 [0.067]  \n(100, 5)                [0.067]  \n(103, 5)                [0.067]  \n(108, 5)                [0.067]  \n(111, 5)                [0.067]  \n(113, 5)                [0.067]  \n(114, 5)                [0.067]  \n(120, 5)          [0.05, 0.053]  \n(123, 5)                 [0.07]  \n(127, 5)          [0.053, 0.04]  \n(131, 5)                [0.053]  \n(135, 5)                [0.067]  \n(145, 5)                [0.053]  \n(151, 5)                [0.053]  \n(154, 5)                [0.053]  \n(157, 5)                [0.067]  \n(161, 5)                [0.053]  \n(169, 5)                [0.053]  \n(178, 5)         [0.053, 0.051]  \n(179, 5)          [0.05, 0.051]  \n...                         ...  \n(2267, 5)               [0.067]  \n(2272, 5)         [0.055, 0.06]  \n(2278, 5)               [0.053]  \n(2279, 5)               [0.053]  \n(2284, 5)               [0.053]  \n(2290, 5)               [0.053]  \n(2298, 5)                [0.06]  \n(2300, 5)                [0.06]  \n(2308, 5)               [0.053]  \n(2314, 5)               [0.053]  \n(2319, 5)               [0.067]  \n(2320, 5)               [0.067]  \n(2325, 5)               [0.067]  \n(2328, 5)               [0.067]  \n(2334, 5)                [0.05]  \n(2346, 5)                [0.05]  \n(2348, 5)         [0.05, 0.067]  \n(2350, 5)                [0.05]  \n(2374, 5)                [0.05]  \n(2379, 5)               [0.067]  \n(2381, 5)                [0.05]  \n(2382, 5)                [0.05]  \n(2385, 5)        [0.067, 0.053]  \n(2388, 5)               [0.053]  \n(2389, 5)               [0.053]  \n(2390, 5)        [0.067, 0.045]  \n(2393, 5)               [0.067]  \n(2402, 5)               [0.053]  \n(2403, 5)               [0.053]  \n(2407, 5)               [0.053]  \n\n[371 rows x 4 columns]",
      "text/html": "<div>\n<style scoped>\n    .dataframe tbody tr th:only-of-type {\n        vertical-align: middle;\n    }\n\n    .dataframe tbody tr th {\n        vertical-align: top;\n    }\n\n    .dataframe thead th {\n        text-align: right;\n    }\n</style>\n<table border=\"1\" class=\"dataframe\">\n  <thead>\n    <tr style=\"text-align: right;\">\n      <th></th>\n      <th>prediction</th>\n      <th>cell</th>\n      <th>probability</th>\n      <th>correction</th>\n    </tr>\n    <tr>\n      <th>cell</th>\n      <th></th>\n      <th></th>\n      <th></th>\n      <th></th>\n    </tr>\n  </thead>\n  <tbody>\n    <tr>\n      <th>(12, 5)</th>\n      <td>1</td>\n      <td>(12, 5)</td>\n      <td>[0.5129718302458491]</td>\n      <td>[0.067]</td>\n    </tr>\n    <tr>\n      <th>(26, 5)</th>\n      <td>1</td>\n      <td>(26, 5)</td>\n      <td>[0.5117321209240264]</td>\n      <td>[0.067]</td>\n    </tr>\n    <tr>\n      <th>(35, 5)</th>\n      <td>1</td>\n      <td>(35, 5)</td>\n      <td>[0.5246889485427785]</td>\n      <td>[0.067]</td>\n    </tr>\n    <tr>\n      <th>(44, 5)</th>\n      <td>2</td>\n      <td>(44, 5)</td>\n      <td>[0.5596671708080119, 0.5026945983566269]</td>\n      <td>[0.05, 0.053]</td>\n    </tr>\n    <tr>\n      <th>(46, 5)</th>\n      <td>2</td>\n      <td>(46, 5)</td>\n      <td>[0.5129718302458491, 0.5596671708080119]</td>\n      <td>[0.067, 0.05]</td>\n    </tr>\n    <tr>\n      <th>(70, 5)</th>\n      <td>1</td>\n      <td>(70, 5)</td>\n      <td>[0.5468403303422108]</td>\n      <td>[0.05]</td>\n    </tr>\n    <tr>\n      <th>(78, 5)</th>\n      <td>3</td>\n      <td>(78, 5)</td>\n      <td>[0.5129718302458491, 0.5184749112477279, 0.502...</td>\n      <td>[0.067, 0.05, 0.053]</td>\n    </tr>\n    <tr>\n      <th>(79, 5)</th>\n      <td>1</td>\n      <td>(79, 5)</td>\n      <td>[0.5468403303422108]</td>\n      <td>[0.05]</td>\n    </tr>\n    <tr>\n      <th>(96, 5)</th>\n      <td>1</td>\n      <td>(96, 5)</td>\n      <td>[0.5246889485427785]</td>\n      <td>[0.067]</td>\n    </tr>\n    <tr>\n      <th>(97, 5)</th>\n      <td>1</td>\n      <td>(97, 5)</td>\n      <td>[0.5246889485427785]</td>\n      <td>[0.067]</td>\n    </tr>\n    <tr>\n      <th>(98, 5)</th>\n      <td>1</td>\n      <td>(98, 5)</td>\n      <td>[0.5117321209240264]</td>\n      <td>[0.067]</td>\n    </tr>\n    <tr>\n      <th>(100, 5)</th>\n      <td>1</td>\n      <td>(100, 5)</td>\n      <td>[0.5117321209240264]</td>\n      <td>[0.067]</td>\n    </tr>\n    <tr>\n      <th>(103, 5)</th>\n      <td>1</td>\n      <td>(103, 5)</td>\n      <td>[0.5117321209240264]</td>\n      <td>[0.067]</td>\n    </tr>\n    <tr>\n      <th>(108, 5)</th>\n      <td>1</td>\n      <td>(108, 5)</td>\n      <td>[0.5117321209240264]</td>\n      <td>[0.067]</td>\n    </tr>\n    <tr>\n      <th>(111, 5)</th>\n      <td>1</td>\n      <td>(111, 5)</td>\n      <td>[0.5117321209240264]</td>\n      <td>[0.067]</td>\n    </tr>\n    <tr>\n      <th>(113, 5)</th>\n      <td>1</td>\n      <td>(113, 5)</td>\n      <td>[0.5117321209240264]</td>\n      <td>[0.067]</td>\n    </tr>\n    <tr>\n      <th>(114, 5)</th>\n      <td>1</td>\n      <td>(114, 5)</td>\n      <td>[0.5117321209240264]</td>\n      <td>[0.067]</td>\n    </tr>\n    <tr>\n      <th>(120, 5)</th>\n      <td>2</td>\n      <td>(120, 5)</td>\n      <td>[0.5596671708080119, 0.5026945983566269]</td>\n      <td>[0.05, 0.053]</td>\n    </tr>\n    <tr>\n      <th>(123, 5)</th>\n      <td>1</td>\n      <td>(123, 5)</td>\n      <td>[0.5468403303422108]</td>\n      <td>[0.07]</td>\n    </tr>\n    <tr>\n      <th>(127, 5)</th>\n      <td>2</td>\n      <td>(127, 5)</td>\n      <td>[0.5597543486907339, 0.573320543380727]</td>\n      <td>[0.053, 0.04]</td>\n    </tr>\n    <tr>\n      <th>(131, 5)</th>\n      <td>1</td>\n      <td>(131, 5)</td>\n      <td>[0.5144249219590883]</td>\n      <td>[0.053]</td>\n    </tr>\n    <tr>\n      <th>(135, 5)</th>\n      <td>1</td>\n      <td>(135, 5)</td>\n      <td>[0.5129718302458491]</td>\n      <td>[0.067]</td>\n    </tr>\n    <tr>\n      <th>(145, 5)</th>\n      <td>1</td>\n      <td>(145, 5)</td>\n      <td>[0.5014541533464889]</td>\n      <td>[0.053]</td>\n    </tr>\n    <tr>\n      <th>(151, 5)</th>\n      <td>1</td>\n      <td>(151, 5)</td>\n      <td>[0.5014541533464889]</td>\n      <td>[0.053]</td>\n    </tr>\n    <tr>\n      <th>(154, 5)</th>\n      <td>1</td>\n      <td>(154, 5)</td>\n      <td>[0.5014541533464889]</td>\n      <td>[0.053]</td>\n    </tr>\n    <tr>\n      <th>(157, 5)</th>\n      <td>1</td>\n      <td>(157, 5)</td>\n      <td>[0.5129718302458491]</td>\n      <td>[0.067]</td>\n    </tr>\n    <tr>\n      <th>(161, 5)</th>\n      <td>1</td>\n      <td>(161, 5)</td>\n      <td>[0.5014541533464889]</td>\n      <td>[0.053]</td>\n    </tr>\n    <tr>\n      <th>(169, 5)</th>\n      <td>1</td>\n      <td>(169, 5)</td>\n      <td>[0.5026945983566269]</td>\n      <td>[0.053]</td>\n    </tr>\n    <tr>\n      <th>(178, 5)</th>\n      <td>2</td>\n      <td>(178, 5)</td>\n      <td>[0.5026945983566269, 0.5694592785849029]</td>\n      <td>[0.053, 0.051]</td>\n    </tr>\n    <tr>\n      <th>(179, 5)</th>\n      <td>2</td>\n      <td>(179, 5)</td>\n      <td>[0.5596671708080119, 0.5694592785849029]</td>\n      <td>[0.05, 0.051]</td>\n    </tr>\n    <tr>\n      <th>...</th>\n      <td>...</td>\n      <td>...</td>\n      <td>...</td>\n      <td>...</td>\n    </tr>\n    <tr>\n      <th>(2267, 5)</th>\n      <td>1</td>\n      <td>(2267, 5)</td>\n      <td>[0.5117321209240264]</td>\n      <td>[0.067]</td>\n    </tr>\n    <tr>\n      <th>(2272, 5)</th>\n      <td>2</td>\n      <td>(2272, 5)</td>\n      <td>[0.5055083346175661, 0.5468403303422108]</td>\n      <td>[0.055, 0.06]</td>\n    </tr>\n    <tr>\n      <th>(2278, 5)</th>\n      <td>1</td>\n      <td>(2278, 5)</td>\n      <td>[0.5014541533464889]</td>\n      <td>[0.053]</td>\n    </tr>\n    <tr>\n      <th>(2279, 5)</th>\n      <td>1</td>\n      <td>(2279, 5)</td>\n      <td>[0.5014541533464889]</td>\n      <td>[0.053]</td>\n    </tr>\n    <tr>\n      <th>(2284, 5)</th>\n      <td>1</td>\n      <td>(2284, 5)</td>\n      <td>[0.5014541533464889]</td>\n      <td>[0.053]</td>\n    </tr>\n    <tr>\n      <th>(2290, 5)</th>\n      <td>1</td>\n      <td>(2290, 5)</td>\n      <td>[0.5014541533464889]</td>\n      <td>[0.053]</td>\n    </tr>\n    <tr>\n      <th>(2298, 5)</th>\n      <td>1</td>\n      <td>(2298, 5)</td>\n      <td>[0.5596671708080119]</td>\n      <td>[0.06]</td>\n    </tr>\n    <tr>\n      <th>(2300, 5)</th>\n      <td>1</td>\n      <td>(2300, 5)</td>\n      <td>[0.5468403303422108]</td>\n      <td>[0.06]</td>\n    </tr>\n    <tr>\n      <th>(2308, 5)</th>\n      <td>1</td>\n      <td>(2308, 5)</td>\n      <td>[0.5014541533464889]</td>\n      <td>[0.053]</td>\n    </tr>\n    <tr>\n      <th>(2314, 5)</th>\n      <td>1</td>\n      <td>(2314, 5)</td>\n      <td>[0.5026945983566269]</td>\n      <td>[0.053]</td>\n    </tr>\n    <tr>\n      <th>(2319, 5)</th>\n      <td>1</td>\n      <td>(2319, 5)</td>\n      <td>[0.5129718302458491]</td>\n      <td>[0.067]</td>\n    </tr>\n    <tr>\n      <th>(2320, 5)</th>\n      <td>1</td>\n      <td>(2320, 5)</td>\n      <td>[0.5129718302458491]</td>\n      <td>[0.067]</td>\n    </tr>\n    <tr>\n      <th>(2325, 5)</th>\n      <td>1</td>\n      <td>(2325, 5)</td>\n      <td>[0.5129718302458491]</td>\n      <td>[0.067]</td>\n    </tr>\n    <tr>\n      <th>(2328, 5)</th>\n      <td>1</td>\n      <td>(2328, 5)</td>\n      <td>[0.5129718302458491]</td>\n      <td>[0.067]</td>\n    </tr>\n    <tr>\n      <th>(2334, 5)</th>\n      <td>1</td>\n      <td>(2334, 5)</td>\n      <td>[0.5468403303422108]</td>\n      <td>[0.05]</td>\n    </tr>\n    <tr>\n      <th>(2346, 5)</th>\n      <td>1</td>\n      <td>(2346, 5)</td>\n      <td>[0.5468403303422108]</td>\n      <td>[0.05]</td>\n    </tr>\n    <tr>\n      <th>(2348, 5)</th>\n      <td>2</td>\n      <td>(2348, 5)</td>\n      <td>[0.5596671708080119, 0.5129718302458491]</td>\n      <td>[0.05, 0.067]</td>\n    </tr>\n    <tr>\n      <th>(2350, 5)</th>\n      <td>1</td>\n      <td>(2350, 5)</td>\n      <td>[0.5055083346175661]</td>\n      <td>[0.05]</td>\n    </tr>\n    <tr>\n      <th>(2374, 5)</th>\n      <td>1</td>\n      <td>(2374, 5)</td>\n      <td>[0.5468403303422108]</td>\n      <td>[0.05]</td>\n    </tr>\n    <tr>\n      <th>(2379, 5)</th>\n      <td>1</td>\n      <td>(2379, 5)</td>\n      <td>[0.5129718302458491]</td>\n      <td>[0.067]</td>\n    </tr>\n    <tr>\n      <th>(2381, 5)</th>\n      <td>1</td>\n      <td>(2381, 5)</td>\n      <td>[0.5596671708080119]</td>\n      <td>[0.05]</td>\n    </tr>\n    <tr>\n      <th>(2382, 5)</th>\n      <td>1</td>\n      <td>(2382, 5)</td>\n      <td>[0.5596671708080119]</td>\n      <td>[0.05]</td>\n    </tr>\n    <tr>\n      <th>(2385, 5)</th>\n      <td>2</td>\n      <td>(2385, 5)</td>\n      <td>[0.5129718302458491, 0.5026945983566269]</td>\n      <td>[0.067, 0.053]</td>\n    </tr>\n    <tr>\n      <th>(2388, 5)</th>\n      <td>1</td>\n      <td>(2388, 5)</td>\n      <td>[0.5014541533464889]</td>\n      <td>[0.053]</td>\n    </tr>\n    <tr>\n      <th>(2389, 5)</th>\n      <td>1</td>\n      <td>(2389, 5)</td>\n      <td>[0.5144249219590883]</td>\n      <td>[0.053]</td>\n    </tr>\n    <tr>\n      <th>(2390, 5)</th>\n      <td>2</td>\n      <td>(2390, 5)</td>\n      <td>[0.5129718302458491, 0.5468403303422108]</td>\n      <td>[0.067, 0.045]</td>\n    </tr>\n    <tr>\n      <th>(2393, 5)</th>\n      <td>1</td>\n      <td>(2393, 5)</td>\n      <td>[0.5129718302458491]</td>\n      <td>[0.067]</td>\n    </tr>\n    <tr>\n      <th>(2402, 5)</th>\n      <td>1</td>\n      <td>(2402, 5)</td>\n      <td>[0.5014541533464889]</td>\n      <td>[0.053]</td>\n    </tr>\n    <tr>\n      <th>(2403, 5)</th>\n      <td>1</td>\n      <td>(2403, 5)</td>\n      <td>[0.5014541533464889]</td>\n      <td>[0.053]</td>\n    </tr>\n    <tr>\n      <th>(2407, 5)</th>\n      <td>1</td>\n      <td>(2407, 5)</td>\n      <td>[0.5014541533464889]</td>\n      <td>[0.053]</td>\n    </tr>\n  </tbody>\n</table>\n<p>371 rows × 4 columns</p>\n</div>"
     },
     "execution_count": 49,
     "metadata": {},
     "output_type": "execute_result"
    }
   ],
   "source": [
    "aggregated = df[df[\"prediction\"] == 1].groupby(\"cell\").agg({\"prediction\": \"sum\",\n",
    "                                     \"cell\": \"first\",\n",
    "                                     \"probability\": list,\n",
    "                                     \"correction\": list})\n",
    "aggregated"
   ],
   "metadata": {
    "collapsed": false,
    "pycharm": {
     "name": "#%%\n"
    }
   }
  },
  {
   "cell_type": "code",
   "execution_count": 50,
   "outputs": [
    {
     "ename": "KeyError",
     "evalue": "(59, 5)",
     "output_type": "error",
     "traceback": [
      "\u001B[0;31m---------------------------------------------------------------------------\u001B[0m",
      "\u001B[0;31mKeyError\u001B[0m                                  Traceback (most recent call last)",
      "\u001B[0;32m<ipython-input-50-17e902cda7f7>\u001B[0m in \u001B[0;36m<module>\u001B[0;34m\u001B[0m\n\u001B[1;32m      1\u001B[0m \u001B[0;31m# Compare correction and actual\u001B[0m\u001B[0;34m\u001B[0m\u001B[0;34m\u001B[0m\u001B[0;34m\u001B[0m\u001B[0m\n\u001B[1;32m      2\u001B[0m \u001B[0mcell\u001B[0m \u001B[0;34m=\u001B[0m \u001B[0;34m(\u001B[0m\u001B[0;36m59\u001B[0m\u001B[0;34m,\u001B[0m\u001B[0;36m5\u001B[0m\u001B[0;34m)\u001B[0m\u001B[0;34m\u001B[0m\u001B[0;34m\u001B[0m\u001B[0m\n\u001B[0;32m----> 3\u001B[0;31m \u001B[0mprint\u001B[0m\u001B[0;34m(\u001B[0m\u001B[0md\u001B[0m\u001B[0;34m.\u001B[0m\u001B[0mcorrected_cells\u001B[0m\u001B[0;34m[\u001B[0m\u001B[0mcell\u001B[0m\u001B[0;34m]\u001B[0m\u001B[0;34m)\u001B[0m\u001B[0;34m\u001B[0m\u001B[0;34m\u001B[0m\u001B[0m\n\u001B[0m\u001B[1;32m      4\u001B[0m \u001B[0mprint\u001B[0m\u001B[0;34m(\u001B[0m\u001B[0mactual_errors\u001B[0m\u001B[0;34m[\u001B[0m\u001B[0mcell\u001B[0m\u001B[0;34m]\u001B[0m\u001B[0;34m)\u001B[0m\u001B[0;34m\u001B[0m\u001B[0;34m\u001B[0m\u001B[0m\n\u001B[1;32m      5\u001B[0m \u001B[0;34m\u001B[0m\u001B[0m\n",
      "\u001B[0;31mKeyError\u001B[0m: (59, 5)"
     ]
    }
   ],
   "source": [
    "# Compare correction and actual\n",
    "cell = (59,5)\n",
    "print(d.corrected_cells[cell])\n",
    "print(actual_errors[cell])"
   ],
   "metadata": {
    "collapsed": false,
    "pycharm": {
     "name": "#%%\n"
    }
   }
  },
  {
   "cell_type": "code",
   "execution_count": 51,
   "outputs": [
    {
     "data": {
      "text/plain": "           cell  confidence  detection_correct  correct\n0       (90, 4)    1.000000               True     True\n1      (192, 4)    1.000000               True     True\n2      (323, 4)    1.000000               True     True\n3      (388, 4)    1.000000               True     True\n4      (442, 4)    1.000000               True     True\n5      (553, 4)    1.000000               True     True\n6     (1000, 4)    1.000000               True     True\n7     (1039, 4)    1.000000               True     True\n8     (1121, 4)    1.000000               True     True\n9     (1185, 4)    1.000000               True     True\n10    (1579, 4)    1.000000               True     True\n11    (1666, 4)    1.000000               True     True\n12    (1955, 4)    1.000000               True     True\n13    (1969, 4)    1.000000               True     True\n14    (2221, 4)    1.000000               True     True\n15    (2251, 4)    1.000000               True     True\n16    (2260, 4)    1.000000               True     True\n17    (2391, 4)    1.000000               True     True\n18    (2394, 4)    1.000000               True     True\n19    (2395, 4)    1.000000               True     True\n20       (0, 4)    0.999995               True    False\n21       (1, 4)    1.000000               True     True\n22       (3, 4)    0.794066               True     True\n23       (5, 4)    0.794066               True     True\n24       (6, 4)    1.000000               True     True\n25       (7, 4)    1.000000               True     True\n26       (8, 4)    1.000000               True     True\n27       (9, 4)    1.000000               True     True\n28      (10, 4)    1.000000               True     True\n29      (11, 4)    1.000000               True     True\n...         ...         ...                ...      ...\n4274  (1307, 5)    1.000000               True     True\n4275  (1333, 5)    1.000000               True     True\n4276  (1466, 5)    1.000000               True     True\n4277  (1469, 5)    1.000000               True     True\n4278  (1599, 5)    1.000000               True     True\n4279  (1706, 5)    1.000000               True     True\n4280  (1727, 5)    1.000000               True     True\n4281  (1790, 5)    1.000000               True     True\n4282  (1794, 5)    1.000000               True     True\n4283  (1814, 5)    1.000000               True     True\n4284  (1817, 5)    1.000000               True     True\n4285  (1832, 5)    1.000000               True     True\n4286  (1898, 5)    1.000000               True     True\n4287  (1941, 5)    1.000000               True     True\n4288  (2056, 5)    1.000000               True     True\n4289  (2063, 5)    1.000000               True     True\n4290  (2112, 5)    1.000000               True     True\n4291  (2133, 5)    1.000000               True     True\n4292  (2147, 5)    1.000000               True     True\n4293  (2174, 5)    1.000000               True     True\n4294  (2212, 5)    1.000000               True     True\n4295  (2250, 5)    1.000000               True     True\n4296  (2261, 5)    1.000000               True     True\n4297  (2378, 5)    1.000000               True     True\n4298   (309, 9)    1.000000               True    False\n4299   (836, 9)    1.000000               True    False\n4300  (2135, 9)    1.000000               True    False\n4301   (916, 5)    1.000000               True     True\n4302  (1451, 5)    1.000000               True     True\n4303  (1669, 5)    1.000000               True     True\n\n[4304 rows x 4 columns]",
      "text/html": "<div>\n<style scoped>\n    .dataframe tbody tr th:only-of-type {\n        vertical-align: middle;\n    }\n\n    .dataframe tbody tr th {\n        vertical-align: top;\n    }\n\n    .dataframe thead th {\n        text-align: right;\n    }\n</style>\n<table border=\"1\" class=\"dataframe\">\n  <thead>\n    <tr style=\"text-align: right;\">\n      <th></th>\n      <th>cell</th>\n      <th>confidence</th>\n      <th>detection_correct</th>\n      <th>correct</th>\n    </tr>\n  </thead>\n  <tbody>\n    <tr>\n      <th>0</th>\n      <td>(90, 4)</td>\n      <td>1.000000</td>\n      <td>True</td>\n      <td>True</td>\n    </tr>\n    <tr>\n      <th>1</th>\n      <td>(192, 4)</td>\n      <td>1.000000</td>\n      <td>True</td>\n      <td>True</td>\n    </tr>\n    <tr>\n      <th>2</th>\n      <td>(323, 4)</td>\n      <td>1.000000</td>\n      <td>True</td>\n      <td>True</td>\n    </tr>\n    <tr>\n      <th>3</th>\n      <td>(388, 4)</td>\n      <td>1.000000</td>\n      <td>True</td>\n      <td>True</td>\n    </tr>\n    <tr>\n      <th>4</th>\n      <td>(442, 4)</td>\n      <td>1.000000</td>\n      <td>True</td>\n      <td>True</td>\n    </tr>\n    <tr>\n      <th>5</th>\n      <td>(553, 4)</td>\n      <td>1.000000</td>\n      <td>True</td>\n      <td>True</td>\n    </tr>\n    <tr>\n      <th>6</th>\n      <td>(1000, 4)</td>\n      <td>1.000000</td>\n      <td>True</td>\n      <td>True</td>\n    </tr>\n    <tr>\n      <th>7</th>\n      <td>(1039, 4)</td>\n      <td>1.000000</td>\n      <td>True</td>\n      <td>True</td>\n    </tr>\n    <tr>\n      <th>8</th>\n      <td>(1121, 4)</td>\n      <td>1.000000</td>\n      <td>True</td>\n      <td>True</td>\n    </tr>\n    <tr>\n      <th>9</th>\n      <td>(1185, 4)</td>\n      <td>1.000000</td>\n      <td>True</td>\n      <td>True</td>\n    </tr>\n    <tr>\n      <th>10</th>\n      <td>(1579, 4)</td>\n      <td>1.000000</td>\n      <td>True</td>\n      <td>True</td>\n    </tr>\n    <tr>\n      <th>11</th>\n      <td>(1666, 4)</td>\n      <td>1.000000</td>\n      <td>True</td>\n      <td>True</td>\n    </tr>\n    <tr>\n      <th>12</th>\n      <td>(1955, 4)</td>\n      <td>1.000000</td>\n      <td>True</td>\n      <td>True</td>\n    </tr>\n    <tr>\n      <th>13</th>\n      <td>(1969, 4)</td>\n      <td>1.000000</td>\n      <td>True</td>\n      <td>True</td>\n    </tr>\n    <tr>\n      <th>14</th>\n      <td>(2221, 4)</td>\n      <td>1.000000</td>\n      <td>True</td>\n      <td>True</td>\n    </tr>\n    <tr>\n      <th>15</th>\n      <td>(2251, 4)</td>\n      <td>1.000000</td>\n      <td>True</td>\n      <td>True</td>\n    </tr>\n    <tr>\n      <th>16</th>\n      <td>(2260, 4)</td>\n      <td>1.000000</td>\n      <td>True</td>\n      <td>True</td>\n    </tr>\n    <tr>\n      <th>17</th>\n      <td>(2391, 4)</td>\n      <td>1.000000</td>\n      <td>True</td>\n      <td>True</td>\n    </tr>\n    <tr>\n      <th>18</th>\n      <td>(2394, 4)</td>\n      <td>1.000000</td>\n      <td>True</td>\n      <td>True</td>\n    </tr>\n    <tr>\n      <th>19</th>\n      <td>(2395, 4)</td>\n      <td>1.000000</td>\n      <td>True</td>\n      <td>True</td>\n    </tr>\n    <tr>\n      <th>20</th>\n      <td>(0, 4)</td>\n      <td>0.999995</td>\n      <td>True</td>\n      <td>False</td>\n    </tr>\n    <tr>\n      <th>21</th>\n      <td>(1, 4)</td>\n      <td>1.000000</td>\n      <td>True</td>\n      <td>True</td>\n    </tr>\n    <tr>\n      <th>22</th>\n      <td>(3, 4)</td>\n      <td>0.794066</td>\n      <td>True</td>\n      <td>True</td>\n    </tr>\n    <tr>\n      <th>23</th>\n      <td>(5, 4)</td>\n      <td>0.794066</td>\n      <td>True</td>\n      <td>True</td>\n    </tr>\n    <tr>\n      <th>24</th>\n      <td>(6, 4)</td>\n      <td>1.000000</td>\n      <td>True</td>\n      <td>True</td>\n    </tr>\n    <tr>\n      <th>25</th>\n      <td>(7, 4)</td>\n      <td>1.000000</td>\n      <td>True</td>\n      <td>True</td>\n    </tr>\n    <tr>\n      <th>26</th>\n      <td>(8, 4)</td>\n      <td>1.000000</td>\n      <td>True</td>\n      <td>True</td>\n    </tr>\n    <tr>\n      <th>27</th>\n      <td>(9, 4)</td>\n      <td>1.000000</td>\n      <td>True</td>\n      <td>True</td>\n    </tr>\n    <tr>\n      <th>28</th>\n      <td>(10, 4)</td>\n      <td>1.000000</td>\n      <td>True</td>\n      <td>True</td>\n    </tr>\n    <tr>\n      <th>29</th>\n      <td>(11, 4)</td>\n      <td>1.000000</td>\n      <td>True</td>\n      <td>True</td>\n    </tr>\n    <tr>\n      <th>...</th>\n      <td>...</td>\n      <td>...</td>\n      <td>...</td>\n      <td>...</td>\n    </tr>\n    <tr>\n      <th>4274</th>\n      <td>(1307, 5)</td>\n      <td>1.000000</td>\n      <td>True</td>\n      <td>True</td>\n    </tr>\n    <tr>\n      <th>4275</th>\n      <td>(1333, 5)</td>\n      <td>1.000000</td>\n      <td>True</td>\n      <td>True</td>\n    </tr>\n    <tr>\n      <th>4276</th>\n      <td>(1466, 5)</td>\n      <td>1.000000</td>\n      <td>True</td>\n      <td>True</td>\n    </tr>\n    <tr>\n      <th>4277</th>\n      <td>(1469, 5)</td>\n      <td>1.000000</td>\n      <td>True</td>\n      <td>True</td>\n    </tr>\n    <tr>\n      <th>4278</th>\n      <td>(1599, 5)</td>\n      <td>1.000000</td>\n      <td>True</td>\n      <td>True</td>\n    </tr>\n    <tr>\n      <th>4279</th>\n      <td>(1706, 5)</td>\n      <td>1.000000</td>\n      <td>True</td>\n      <td>True</td>\n    </tr>\n    <tr>\n      <th>4280</th>\n      <td>(1727, 5)</td>\n      <td>1.000000</td>\n      <td>True</td>\n      <td>True</td>\n    </tr>\n    <tr>\n      <th>4281</th>\n      <td>(1790, 5)</td>\n      <td>1.000000</td>\n      <td>True</td>\n      <td>True</td>\n    </tr>\n    <tr>\n      <th>4282</th>\n      <td>(1794, 5)</td>\n      <td>1.000000</td>\n      <td>True</td>\n      <td>True</td>\n    </tr>\n    <tr>\n      <th>4283</th>\n      <td>(1814, 5)</td>\n      <td>1.000000</td>\n      <td>True</td>\n      <td>True</td>\n    </tr>\n    <tr>\n      <th>4284</th>\n      <td>(1817, 5)</td>\n      <td>1.000000</td>\n      <td>True</td>\n      <td>True</td>\n    </tr>\n    <tr>\n      <th>4285</th>\n      <td>(1832, 5)</td>\n      <td>1.000000</td>\n      <td>True</td>\n      <td>True</td>\n    </tr>\n    <tr>\n      <th>4286</th>\n      <td>(1898, 5)</td>\n      <td>1.000000</td>\n      <td>True</td>\n      <td>True</td>\n    </tr>\n    <tr>\n      <th>4287</th>\n      <td>(1941, 5)</td>\n      <td>1.000000</td>\n      <td>True</td>\n      <td>True</td>\n    </tr>\n    <tr>\n      <th>4288</th>\n      <td>(2056, 5)</td>\n      <td>1.000000</td>\n      <td>True</td>\n      <td>True</td>\n    </tr>\n    <tr>\n      <th>4289</th>\n      <td>(2063, 5)</td>\n      <td>1.000000</td>\n      <td>True</td>\n      <td>True</td>\n    </tr>\n    <tr>\n      <th>4290</th>\n      <td>(2112, 5)</td>\n      <td>1.000000</td>\n      <td>True</td>\n      <td>True</td>\n    </tr>\n    <tr>\n      <th>4291</th>\n      <td>(2133, 5)</td>\n      <td>1.000000</td>\n      <td>True</td>\n      <td>True</td>\n    </tr>\n    <tr>\n      <th>4292</th>\n      <td>(2147, 5)</td>\n      <td>1.000000</td>\n      <td>True</td>\n      <td>True</td>\n    </tr>\n    <tr>\n      <th>4293</th>\n      <td>(2174, 5)</td>\n      <td>1.000000</td>\n      <td>True</td>\n      <td>True</td>\n    </tr>\n    <tr>\n      <th>4294</th>\n      <td>(2212, 5)</td>\n      <td>1.000000</td>\n      <td>True</td>\n      <td>True</td>\n    </tr>\n    <tr>\n      <th>4295</th>\n      <td>(2250, 5)</td>\n      <td>1.000000</td>\n      <td>True</td>\n      <td>True</td>\n    </tr>\n    <tr>\n      <th>4296</th>\n      <td>(2261, 5)</td>\n      <td>1.000000</td>\n      <td>True</td>\n      <td>True</td>\n    </tr>\n    <tr>\n      <th>4297</th>\n      <td>(2378, 5)</td>\n      <td>1.000000</td>\n      <td>True</td>\n      <td>True</td>\n    </tr>\n    <tr>\n      <th>4298</th>\n      <td>(309, 9)</td>\n      <td>1.000000</td>\n      <td>True</td>\n      <td>False</td>\n    </tr>\n    <tr>\n      <th>4299</th>\n      <td>(836, 9)</td>\n      <td>1.000000</td>\n      <td>True</td>\n      <td>False</td>\n    </tr>\n    <tr>\n      <th>4300</th>\n      <td>(2135, 9)</td>\n      <td>1.000000</td>\n      <td>True</td>\n      <td>False</td>\n    </tr>\n    <tr>\n      <th>4301</th>\n      <td>(916, 5)</td>\n      <td>1.000000</td>\n      <td>True</td>\n      <td>True</td>\n    </tr>\n    <tr>\n      <th>4302</th>\n      <td>(1451, 5)</td>\n      <td>1.000000</td>\n      <td>True</td>\n      <td>True</td>\n    </tr>\n    <tr>\n      <th>4303</th>\n      <td>(1669, 5)</td>\n      <td>1.000000</td>\n      <td>True</td>\n      <td>True</td>\n    </tr>\n  </tbody>\n</table>\n<p>4304 rows × 4 columns</p>\n</div>"
     },
     "execution_count": 51,
     "metadata": {},
     "output_type": "execute_result"
    }
   ],
   "source": [
    "correction_confidence_df = analysis_utilities.get_correction_confidence_df(d, actual_errors)"
   ],
   "metadata": {
    "collapsed": false,
    "pycharm": {
     "name": "#%%\n"
    }
   }
  },
  {
   "cell_type": "code",
   "execution_count": 129,
   "outputs": [
    {
     "name": "stdout",
     "output_type": "stream",
     "text": [
      "Distribution of confidences for wrong (False) and correct (True) corrections:\n"
     ]
    },
    {
     "data": {
      "text/plain": "<Figure size 432x288 with 2 Axes>",
      "image/png": "[encoded data removed]"
     },
     "metadata": {
      "needs_background": "light"
     },
     "output_type": "display_data"
    }
   ],
   "source": [
    "analysis_utilities.correction_confidence_distributions(correction_confidence_df)"
   ],
   "metadata": {
    "collapsed": false,
    "pycharm": {
     "name": "#%%\n"
    }
   }
  },
  {
   "cell_type": "code",
   "execution_count": 135,
   "outputs": [
    {
     "name": "stdout",
     "output_type": "stream",
     "text": [
      "Empirical probability of a correction being wrong given its confidence:\n"
     ]
    },
    {
     "name": "stderr",
     "output_type": "stream",
     "text": [
      "/home/adrian/anaconda3/envs/raha/lib/python3.7/site-packages/ipykernel_launcher.py:4: UserWarning: Matplotlib is currently using module://ipykernel.pylab.backend_inline, which is a non-GUI backend, so cannot show the figure.\n",
      "  after removing the cwd from sys.path.\n"
     ]
    },
    {
     "data": {
      "text/plain": "<Figure size 432x288 with 2 Axes>",
      "image/png": "[encoded data removed]"
     },
     "metadata": {
      "needs_background": "light"
     },
     "output_type": "display_data"
    }
   ],
   "source": [
    "importlib.reload(analysis_utilities)\n",
    "\n",
    "f = analysis_utilities.correction_correctness_by_confidence(correction_confidence_df)\n",
    "f.show()"
   ],
   "metadata": {
    "collapsed": false,
    "pycharm": {
     "name": "#%%\n"
    }
   }
  },
  {
   "cell_type": "markdown",
   "source": [
    "### Analyze steps"
   ],
   "metadata": {
    "collapsed": false,
    "pycharm": {
     "name": "#%% md\n"
    }
   }
  },
  {
   "cell_type": "code",
   "execution_count": 53,
   "outputs": [
    {
     "data": {
      "text/plain": "            cell correction  prediction  probability\n143      (12, 5)      0.067           1     0.512972\n307      (26, 5)      0.067           1     0.511732\n564      (35, 5)      0.067           1     0.524689\n690      (44, 5)       0.05           1     0.559667\n704      (44, 5)      0.053           1     0.502695\n771      (46, 5)      0.067           1     0.512972\n774      (46, 5)       0.05           1     0.559667\n1045     (70, 5)       0.05           1     0.546840\n1109     (78, 5)      0.067           1     0.512972\n1114     (78, 5)       0.05           1     0.518475\n1116     (78, 5)      0.053           1     0.502695\n1180     (79, 5)       0.05           1     0.546840\n1254     (96, 5)      0.067           1     0.524689\n1323     (97, 5)      0.067           1     0.524689\n1413     (98, 5)      0.067           1     0.511732\n1476    (100, 5)      0.067           1     0.511732\n1540    (103, 5)      0.067           1     0.511732\n1595    (108, 5)      0.067           1     0.511732\n1664    (111, 5)      0.067           1     0.511732\n1752    (113, 5)      0.067           1     0.511732\n1820    (114, 5)      0.067           1     0.511732\n1867    (120, 5)       0.05           1     0.559667\n1868    (120, 5)      0.053           1     0.502695\n2016    (123, 5)       0.07           1     0.546840\n2071    (127, 5)      0.053           1     0.559754\n2088    (127, 5)       0.04           1     0.573321\n2144    (131, 5)      0.053           1     0.514425\n2213    (135, 5)      0.067           1     0.512972\n2317    (145, 5)      0.053           1     0.501454\n2417    (151, 5)      0.053           1     0.501454\n...          ...        ...         ...          ...\n44671  (2279, 5)      0.053           1     0.501454\n44742  (2284, 5)      0.053           1     0.501454\n44810  (2290, 5)      0.053           1     0.501454\n45008  (2298, 5)       0.06           1     0.559667\n45062  (2300, 5)       0.06           1     0.546840\n45142  (2308, 5)      0.053           1     0.501454\n45209  (2314, 5)      0.053           1     0.502695\n45345  (2319, 5)      0.067           1     0.512972\n45414  (2320, 5)      0.067           1     0.512972\n45552  (2325, 5)      0.067           1     0.512972\n45690  (2328, 5)      0.067           1     0.512972\n45760  (2334, 5)       0.05           1     0.546840\n45892  (2346, 5)       0.05           1     0.546840\n45958  (2348, 5)       0.05           1     0.559667\n45966  (2348, 5)      0.067           1     0.512972\n46025  (2350, 5)       0.05           1     0.505508\n46579  (2374, 5)       0.05           1     0.546840\n46725  (2379, 5)      0.067           1     0.512972\n46788  (2381, 5)       0.05           1     0.559667\n46855  (2382, 5)       0.05           1     0.559667\n46925  (2385, 5)      0.067           1     0.512972\n46932  (2385, 5)      0.053           1     0.502695\n47028  (2388, 5)      0.053           1     0.501454\n47072  (2389, 5)      0.053           1     0.514425\n47139  (2390, 5)      0.067           1     0.512972\n47149  (2390, 5)      0.045           1     0.546840\n47208  (2393, 5)      0.067           1     0.512972\n47362  (2402, 5)      0.053           1     0.501454\n47430  (2403, 5)      0.053           1     0.501454\n47496  (2407, 5)      0.053           1     0.501454\n\n[501 rows x 4 columns]",
      "text/html": "<div>\n<style scoped>\n    .dataframe tbody tr th:only-of-type {\n        vertical-align: middle;\n    }\n\n    .dataframe tbody tr th {\n        vertical-align: top;\n    }\n\n    .dataframe thead th {\n        text-align: right;\n    }\n</style>\n<table border=\"1\" class=\"dataframe\">\n  <thead>\n    <tr style=\"text-align: right;\">\n      <th></th>\n      <th>cell</th>\n      <th>correction</th>\n      <th>prediction</th>\n      <th>probability</th>\n    </tr>\n  </thead>\n  <tbody>\n    <tr>\n      <th>143</th>\n      <td>(12, 5)</td>\n      <td>0.067</td>\n      <td>1</td>\n      <td>0.512972</td>\n    </tr>\n    <tr>\n      <th>307</th>\n      <td>(26, 5)</td>\n      <td>0.067</td>\n      <td>1</td>\n      <td>0.511732</td>\n    </tr>\n    <tr>\n      <th>564</th>\n      <td>(35, 5)</td>\n      <td>0.067</td>\n      <td>1</td>\n      <td>0.524689</td>\n    </tr>\n    <tr>\n      <th>690</th>\n      <td>(44, 5)</td>\n      <td>0.05</td>\n      <td>1</td>\n      <td>0.559667</td>\n    </tr>\n    <tr>\n      <th>704</th>\n      <td>(44, 5)</td>\n      <td>0.053</td>\n      <td>1</td>\n      <td>0.502695</td>\n    </tr>\n    <tr>\n      <th>771</th>\n      <td>(46, 5)</td>\n      <td>0.067</td>\n      <td>1</td>\n      <td>0.512972</td>\n    </tr>\n    <tr>\n      <th>774</th>\n      <td>(46, 5)</td>\n      <td>0.05</td>\n      <td>1</td>\n      <td>0.559667</td>\n    </tr>\n    <tr>\n      <th>1045</th>\n      <td>(70, 5)</td>\n      <td>0.05</td>\n      <td>1</td>\n      <td>0.546840</td>\n    </tr>\n    <tr>\n      <th>1109</th>\n      <td>(78, 5)</td>\n      <td>0.067</td>\n      <td>1</td>\n      <td>0.512972</td>\n    </tr>\n    <tr>\n      <th>1114</th>\n      <td>(78, 5)</td>\n      <td>0.05</td>\n      <td>1</td>\n      <td>0.518475</td>\n    </tr>\n    <tr>\n      <th>1116</th>\n      <td>(78, 5)</td>\n      <td>0.053</td>\n      <td>1</td>\n      <td>0.502695</td>\n    </tr>\n    <tr>\n      <th>1180</th>\n      <td>(79, 5)</td>\n      <td>0.05</td>\n      <td>1</td>\n      <td>0.546840</td>\n    </tr>\n    <tr>\n      <th>1254</th>\n      <td>(96, 5)</td>\n      <td>0.067</td>\n      <td>1</td>\n      <td>0.524689</td>\n    </tr>\n    <tr>\n      <th>1323</th>\n      <td>(97, 5)</td>\n      <td>0.067</td>\n      <td>1</td>\n      <td>0.524689</td>\n    </tr>\n    <tr>\n      <th>1413</th>\n      <td>(98, 5)</td>\n      <td>0.067</td>\n      <td>1</td>\n      <td>0.511732</td>\n    </tr>\n    <tr>\n      <th>1476</th>\n      <td>(100, 5)</td>\n      <td>0.067</td>\n      <td>1</td>\n      <td>0.511732</td>\n    </tr>\n    <tr>\n      <th>1540</th>\n      <td>(103, 5)</td>\n      <td>0.067</td>\n      <td>1</td>\n      <td>0.511732</td>\n    </tr>\n    <tr>\n      <th>1595</th>\n      <td>(108, 5)</td>\n      <td>0.067</td>\n      <td>1</td>\n      <td>0.511732</td>\n    </tr>\n    <tr>\n      <th>1664</th>\n      <td>(111, 5)</td>\n      <td>0.067</td>\n      <td>1</td>\n      <td>0.511732</td>\n    </tr>\n    <tr>\n      <th>1752</th>\n      <td>(113, 5)</td>\n      <td>0.067</td>\n      <td>1</td>\n      <td>0.511732</td>\n    </tr>\n    <tr>\n      <th>1820</th>\n      <td>(114, 5)</td>\n      <td>0.067</td>\n      <td>1</td>\n      <td>0.511732</td>\n    </tr>\n    <tr>\n      <th>1867</th>\n      <td>(120, 5)</td>\n      <td>0.05</td>\n      <td>1</td>\n      <td>0.559667</td>\n    </tr>\n    <tr>\n      <th>1868</th>\n      <td>(120, 5)</td>\n      <td>0.053</td>\n      <td>1</td>\n      <td>0.502695</td>\n    </tr>\n    <tr>\n      <th>2016</th>\n      <td>(123, 5)</td>\n      <td>0.07</td>\n      <td>1</td>\n      <td>0.546840</td>\n    </tr>\n    <tr>\n      <th>2071</th>\n      <td>(127, 5)</td>\n      <td>0.053</td>\n      <td>1</td>\n      <td>0.559754</td>\n    </tr>\n    <tr>\n      <th>2088</th>\n      <td>(127, 5)</td>\n      <td>0.04</td>\n      <td>1</td>\n      <td>0.573321</td>\n    </tr>\n    <tr>\n      <th>2144</th>\n      <td>(131, 5)</td>\n      <td>0.053</td>\n      <td>1</td>\n      <td>0.514425</td>\n    </tr>\n    <tr>\n      <th>2213</th>\n      <td>(135, 5)</td>\n      <td>0.067</td>\n      <td>1</td>\n      <td>0.512972</td>\n    </tr>\n    <tr>\n      <th>2317</th>\n      <td>(145, 5)</td>\n      <td>0.053</td>\n      <td>1</td>\n      <td>0.501454</td>\n    </tr>\n    <tr>\n      <th>2417</th>\n      <td>(151, 5)</td>\n      <td>0.053</td>\n      <td>1</td>\n      <td>0.501454</td>\n    </tr>\n    <tr>\n      <th>...</th>\n      <td>...</td>\n      <td>...</td>\n      <td>...</td>\n      <td>...</td>\n    </tr>\n    <tr>\n      <th>44671</th>\n      <td>(2279, 5)</td>\n      <td>0.053</td>\n      <td>1</td>\n      <td>0.501454</td>\n    </tr>\n    <tr>\n      <th>44742</th>\n      <td>(2284, 5)</td>\n      <td>0.053</td>\n      <td>1</td>\n      <td>0.501454</td>\n    </tr>\n    <tr>\n      <th>44810</th>\n      <td>(2290, 5)</td>\n      <td>0.053</td>\n      <td>1</td>\n      <td>0.501454</td>\n    </tr>\n    <tr>\n      <th>45008</th>\n      <td>(2298, 5)</td>\n      <td>0.06</td>\n      <td>1</td>\n      <td>0.559667</td>\n    </tr>\n    <tr>\n      <th>45062</th>\n      <td>(2300, 5)</td>\n      <td>0.06</td>\n      <td>1</td>\n      <td>0.546840</td>\n    </tr>\n    <tr>\n      <th>45142</th>\n      <td>(2308, 5)</td>\n      <td>0.053</td>\n      <td>1</td>\n      <td>0.501454</td>\n    </tr>\n    <tr>\n      <th>45209</th>\n      <td>(2314, 5)</td>\n      <td>0.053</td>\n      <td>1</td>\n      <td>0.502695</td>\n    </tr>\n    <tr>\n      <th>45345</th>\n      <td>(2319, 5)</td>\n      <td>0.067</td>\n      <td>1</td>\n      <td>0.512972</td>\n    </tr>\n    <tr>\n      <th>45414</th>\n      <td>(2320, 5)</td>\n      <td>0.067</td>\n      <td>1</td>\n      <td>0.512972</td>\n    </tr>\n    <tr>\n      <th>45552</th>\n      <td>(2325, 5)</td>\n      <td>0.067</td>\n      <td>1</td>\n      <td>0.512972</td>\n    </tr>\n    <tr>\n      <th>45690</th>\n      <td>(2328, 5)</td>\n      <td>0.067</td>\n      <td>1</td>\n      <td>0.512972</td>\n    </tr>\n    <tr>\n      <th>45760</th>\n      <td>(2334, 5)</td>\n      <td>0.05</td>\n      <td>1</td>\n      <td>0.546840</td>\n    </tr>\n    <tr>\n      <th>45892</th>\n      <td>(2346, 5)</td>\n      <td>0.05</td>\n      <td>1</td>\n      <td>0.546840</td>\n    </tr>\n    <tr>\n      <th>45958</th>\n      <td>(2348, 5)</td>\n      <td>0.05</td>\n      <td>1</td>\n      <td>0.559667</td>\n    </tr>\n    <tr>\n      <th>45966</th>\n      <td>(2348, 5)</td>\n      <td>0.067</td>\n      <td>1</td>\n      <td>0.512972</td>\n    </tr>\n    <tr>\n      <th>46025</th>\n      <td>(2350, 5)</td>\n      <td>0.05</td>\n      <td>1</td>\n      <td>0.505508</td>\n    </tr>\n    <tr>\n      <th>46579</th>\n      <td>(2374, 5)</td>\n      <td>0.05</td>\n      <td>1</td>\n      <td>0.546840</td>\n    </tr>\n    <tr>\n      <th>46725</th>\n      <td>(2379, 5)</td>\n      <td>0.067</td>\n      <td>1</td>\n      <td>0.512972</td>\n    </tr>\n    <tr>\n      <th>46788</th>\n      <td>(2381, 5)</td>\n      <td>0.05</td>\n      <td>1</td>\n      <td>0.559667</td>\n    </tr>\n    <tr>\n      <th>46855</th>\n      <td>(2382, 5)</td>\n      <td>0.05</td>\n      <td>1</td>\n      <td>0.559667</td>\n    </tr>\n    <tr>\n      <th>46925</th>\n      <td>(2385, 5)</td>\n      <td>0.067</td>\n      <td>1</td>\n      <td>0.512972</td>\n    </tr>\n    <tr>\n      <th>46932</th>\n      <td>(2385, 5)</td>\n      <td>0.053</td>\n      <td>1</td>\n      <td>0.502695</td>\n    </tr>\n    <tr>\n      <th>47028</th>\n      <td>(2388, 5)</td>\n      <td>0.053</td>\n      <td>1</td>\n      <td>0.501454</td>\n    </tr>\n    <tr>\n      <th>47072</th>\n      <td>(2389, 5)</td>\n      <td>0.053</td>\n      <td>1</td>\n      <td>0.514425</td>\n    </tr>\n    <tr>\n      <th>47139</th>\n      <td>(2390, 5)</td>\n      <td>0.067</td>\n      <td>1</td>\n      <td>0.512972</td>\n    </tr>\n    <tr>\n      <th>47149</th>\n      <td>(2390, 5)</td>\n      <td>0.045</td>\n      <td>1</td>\n      <td>0.546840</td>\n    </tr>\n    <tr>\n      <th>47208</th>\n      <td>(2393, 5)</td>\n      <td>0.067</td>\n      <td>1</td>\n      <td>0.512972</td>\n    </tr>\n    <tr>\n      <th>47362</th>\n      <td>(2402, 5)</td>\n      <td>0.053</td>\n      <td>1</td>\n      <td>0.501454</td>\n    </tr>\n    <tr>\n      <th>47430</th>\n      <td>(2403, 5)</td>\n      <td>0.053</td>\n      <td>1</td>\n      <td>0.501454</td>\n    </tr>\n    <tr>\n      <th>47496</th>\n      <td>(2407, 5)</td>\n      <td>0.053</td>\n      <td>1</td>\n      <td>0.501454</td>\n    </tr>\n  </tbody>\n</table>\n<p>501 rows × 4 columns</p>\n</div>"
     },
     "execution_count": 53,
     "metadata": {},
     "output_type": "execute_result"
    }
   ],
   "source": [
    "# Prediction of step 0 for column 5\n",
    "d.correction_prediction_dfs[0][5][d.correction_prediction_dfs[0][5][\"prediction\"] == 1]"
   ],
   "metadata": {
    "collapsed": false,
    "pycharm": {
     "name": "#%%\n"
    }
   }
  },
  {
   "cell_type": "code",
   "execution_count": 102,
   "outputs": [
    {
     "data": {
      "text/plain": "<Figure size 1080x864 with 20 Axes>",
      "image/png": "[encoded data removed]"
     },
     "metadata": {
      "needs_background": "light"
     },
     "output_type": "display_data"
    }
   ],
   "source": [
    "import matplotlib.pyplot as plt\n",
    "\n",
    "fig, axs = plt.subplots(4, 5, sharex=\"all\", sharey=\"row\", figsize=(15,12))\n",
    "\n",
    "for row in range(4):\n",
    "    for column in range(5):\n",
    "        df = d.correction_prediction_dfs[row * 5 + column][5]\n",
    "        df[\"probability\"].hist(bins=np.linspace(0.0, 1.0, 21), ax=axs[row][column])"
   ],
   "metadata": {
    "collapsed": false,
    "pycharm": {
     "name": "#%%\n"
    }
   }
  },
  {
   "cell_type": "code",
   "execution_count": null,
   "outputs": [],
   "source": [],
   "metadata": {
    "collapsed": false,
    "pycharm": {
     "name": "#%%\n"
    }
   }
  }
 ],
 "metadata": {
  "kernelspec": {
   "display_name": "Python 3",
   "language": "python",
   "name": "python3"
  },
  "language_info": {
   "codemirror_mode": {
    "name": "ipython",
    "version": 3
   },
   "file_extension": ".py",
   "mimetype": "text/x-python",
   "name": "python",
   "nbconvert_exporter": "python",
   "pygments_lexer": "ipython3",
   "version": "3.8.5"
  }
 },
 "nbformat": 4,
 "nbformat_minor": 2
}
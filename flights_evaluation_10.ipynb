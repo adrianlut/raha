{
 "cells": [
  {
   "cell_type": "markdown",
   "metadata": {},
   "source": [
    "# Flights example"
   ]
  },
  {
   "cell_type": "code",
   "execution_count": 1,
   "outputs": [],
   "source": [
    "import numpy as np\n",
    "import pandas\n",
    "from IPython.core.display import display\n",
    "\n",
    "import raha"
   ],
   "metadata": {
    "collapsed": false,
    "pycharm": {
     "name": "#%%\n"
    }
   }
  },
  {
   "cell_type": "code",
   "execution_count": 2,
   "metadata": {
    "pycharm": {
     "name": "#%%\n"
    }
   },
   "outputs": [
    {
     "name": "stderr",
     "output_type": "stream",
     "text": [
      "I just load strategies' results as they have already been run on the dataset!\n"
     ]
    },
    {
     "name": "stdout",
     "output_type": "stream",
     "text": [
      "Run 0 done\n"
     ]
    },
    {
     "name": "stderr",
     "output_type": "stream",
     "text": [
      "I just load strategies' results as they have already been run on the dataset!\n"
     ]
    },
    {
     "name": "stdout",
     "output_type": "stream",
     "text": [
      "Run 1 done\n"
     ]
    },
    {
     "name": "stderr",
     "output_type": "stream",
     "text": [
      "I just load strategies' results as they have already been run on the dataset!\n"
     ]
    },
    {
     "name": "stdout",
     "output_type": "stream",
     "text": [
      "Run 2 done\n"
     ]
    },
    {
     "name": "stderr",
     "output_type": "stream",
     "text": [
      "I just load strategies' results as they have already been run on the dataset!\n"
     ]
    },
    {
     "name": "stdout",
     "output_type": "stream",
     "text": [
      "Run 3 done\n"
     ]
    },
    {
     "name": "stderr",
     "output_type": "stream",
     "text": [
      "I just load strategies' results as they have already been run on the dataset!\n"
     ]
    },
    {
     "name": "stdout",
     "output_type": "stream",
     "text": [
      "Run 4 done\n"
     ]
    },
    {
     "name": "stderr",
     "output_type": "stream",
     "text": [
      "I just load strategies' results as they have already been run on the dataset!\n"
     ]
    },
    {
     "name": "stdout",
     "output_type": "stream",
     "text": [
      "Run 5 done\n"
     ]
    },
    {
     "name": "stderr",
     "output_type": "stream",
     "text": [
      "I just load strategies' results as they have already been run on the dataset!\n"
     ]
    },
    {
     "name": "stdout",
     "output_type": "stream",
     "text": [
      "Run 6 done\n"
     ]
    },
    {
     "name": "stderr",
     "output_type": "stream",
     "text": [
      "I just load strategies' results as they have already been run on the dataset!\n"
     ]
    },
    {
     "name": "stdout",
     "output_type": "stream",
     "text": [
      "Run 7 done\n"
     ]
    },
    {
     "name": "stderr",
     "output_type": "stream",
     "text": [
      "I just load strategies' results as they have already been run on the dataset!\n"
     ]
    },
    {
     "name": "stdout",
     "output_type": "stream",
     "text": [
      "Run 8 done\n"
     ]
    },
    {
     "name": "stderr",
     "output_type": "stream",
     "text": [
      "I just load strategies' results as they have already been run on the dataset!\n"
     ]
    },
    {
     "name": "stdout",
     "output_type": "stream",
     "text": [
      "Run 9 done\n"
     ]
    }
   ],
   "source": [
    "datasets = []\n",
    "\n",
    "for i in range(10):\n",
    "    from raha import analysis_utilities\n",
    "    app_1 = raha.Detection()\n",
    "    app_2 = raha.Correction()\n",
    "\n",
    "    # How many tuples would you label?\n",
    "    app_1.LABELING_BUDGET = 20\n",
    "    app_2.LABELING_BUDGET = 0\n",
    "\n",
    "    # Would you like to see the logs?\n",
    "    app_1.VERBOSE = False\n",
    "    app_2.VERBOSE = False\n",
    "\n",
    "    dataset_dictionary = {\n",
    "        \"name\": \"flights\",\n",
    "        \"path\": \"datasets/flights/dirty.csv\",\n",
    "        \"clean_path\": \"datasets/flights/clean.csv\"\n",
    "    }\n",
    "    d = app_1.initialize_dataset(dataset_dictionary)\n",
    "\n",
    "    app_1.run_strategies(d)\n",
    "    app_1.generate_features(d)\n",
    "    app_1.build_clusters(d)\n",
    "\n",
    "    while len(d.labeled_tuples) < app_1.LABELING_BUDGET:\n",
    "        app_1.sample_tuple(d)\n",
    "        if d.has_ground_truth:\n",
    "            app_1.label_with_ground_truth(d)\n",
    "\n",
    "    app_1.propagate_labels(d)\n",
    "    app_1.predict_labels(d)\n",
    "\n",
    "    app_2.initialize_models(d)\n",
    "    app_2.initialize_dataset(d)\n",
    "    for si in d.labeled_tuples:\n",
    "        d.sampled_tuple = si\n",
    "        app_2.update_models(d)\n",
    "        app_2.generate_features(d)\n",
    "        app_2.predict_corrections(d)\n",
    "\n",
    "    print(f\"Run {i} done\")\n",
    "\n",
    "    datasets.append(d)"
   ]
  },
  {
   "cell_type": "markdown",
   "source": [
    "## Evaluation"
   ],
   "metadata": {
    "collapsed": false,
    "pycharm": {
     "name": "#%% md\n"
    }
   }
  },
  {
   "cell_type": "code",
   "execution_count": 3,
   "metadata": {
    "scrolled": true
   },
   "outputs": [
    {
     "name": "stderr",
     "output_type": "stream",
     "text": [
      "/home/adrian/source/MA/raha/raha/dataset.py:123: FutureWarning: elementwise comparison failed; returning scalar instead, but in the future will perform elementwise comparison\n",
      "  if correction_dictionary[cell] == actual_errors[cell]:\n"
     ]
    },
    {
     "data": {
      "text/plain": "                        Task  Precision    Recall  F1 Score\n0     Error Detection (Raha)   0.892382  0.830894  0.860541\n1   Error Correction (Baran)   0.778986  0.640447  0.702956\n2     Error Detection (Raha)   0.817333  0.818496  0.817914\n3   Error Correction (Baran)   0.762683  0.550000  0.639112\n4     Error Detection (Raha)   0.879244  0.831707  0.854815\n5   Error Correction (Baran)   0.865794  0.578252  0.693395\n6     Error Detection (Raha)   0.811794  0.861789  0.836045\n7   Error Correction (Baran)   0.719086  0.556707  0.627563\n8     Error Detection (Raha)   0.753571  0.943496  0.837906\n9   Error Correction (Baran)   0.779672  0.492683  0.603811\n10    Error Detection (Raha)   0.864527  0.843089  0.853674\n11  Error Correction (Baran)   0.856964  0.556504  0.674800\n12    Error Detection (Raha)   0.814968  0.843293  0.828888\n13  Error Correction (Baran)   0.847048  0.548171  0.665597\n14    Error Detection (Raha)   0.734158  0.880691  0.800776\n15  Error Correction (Baran)   0.710878  0.454268  0.554315\n16    Error Detection (Raha)   0.854623  0.817276  0.835532\n17  Error Correction (Baran)   0.790614  0.534146  0.637555\n18    Error Detection (Raha)   0.866011  0.859146  0.862565\n19  Error Correction (Baran)   0.929613  0.518089  0.665362",
      "text/html": "<div>\n<style scoped>\n    .dataframe tbody tr th:only-of-type {\n        vertical-align: middle;\n    }\n\n    .dataframe tbody tr th {\n        vertical-align: top;\n    }\n\n    .dataframe thead th {\n        text-align: right;\n    }\n</style>\n<table border=\"1\" class=\"dataframe\">\n  <thead>\n    <tr style=\"text-align: right;\">\n      <th></th>\n      <th>Task</th>\n      <th>Precision</th>\n      <th>Recall</th>\n      <th>F1 Score</th>\n    </tr>\n  </thead>\n  <tbody>\n    <tr>\n      <th>0</th>\n      <td>Error Detection (Raha)</td>\n      <td>0.892382</td>\n      <td>0.830894</td>\n      <td>0.860541</td>\n    </tr>\n    <tr>\n      <th>1</th>\n      <td>Error Correction (Baran)</td>\n      <td>0.778986</td>\n      <td>0.640447</td>\n      <td>0.702956</td>\n    </tr>\n    <tr>\n      <th>2</th>\n      <td>Error Detection (Raha)</td>\n      <td>0.817333</td>\n      <td>0.818496</td>\n      <td>0.817914</td>\n    </tr>\n    <tr>\n      <th>3</th>\n      <td>Error Correction (Baran)</td>\n      <td>0.762683</td>\n      <td>0.550000</td>\n      <td>0.639112</td>\n    </tr>\n    <tr>\n      <th>4</th>\n      <td>Error Detection (Raha)</td>\n      <td>0.879244</td>\n      <td>0.831707</td>\n      <td>0.854815</td>\n    </tr>\n    <tr>\n      <th>5</th>\n      <td>Error Correction (Baran)</td>\n      <td>0.865794</td>\n      <td>0.578252</td>\n      <td>0.693395</td>\n    </tr>\n    <tr>\n      <th>6</th>\n      <td>Error Detection (Raha)</td>\n      <td>0.811794</td>\n      <td>0.861789</td>\n      <td>0.836045</td>\n    </tr>\n    <tr>\n      <th>7</th>\n      <td>Error Correction (Baran)</td>\n      <td>0.719086</td>\n      <td>0.556707</td>\n      <td>0.627563</td>\n    </tr>\n    <tr>\n      <th>8</th>\n      <td>Error Detection (Raha)</td>\n      <td>0.753571</td>\n      <td>0.943496</td>\n      <td>0.837906</td>\n    </tr>\n    <tr>\n      <th>9</th>\n      <td>Error Correction (Baran)</td>\n      <td>0.779672</td>\n      <td>0.492683</td>\n      <td>0.603811</td>\n    </tr>\n    <tr>\n      <th>10</th>\n      <td>Error Detection (Raha)</td>\n      <td>0.864527</td>\n      <td>0.843089</td>\n      <td>0.853674</td>\n    </tr>\n    <tr>\n      <th>11</th>\n      <td>Error Correction (Baran)</td>\n      <td>0.856964</td>\n      <td>0.556504</td>\n      <td>0.674800</td>\n    </tr>\n    <tr>\n      <th>12</th>\n      <td>Error Detection (Raha)</td>\n      <td>0.814968</td>\n      <td>0.843293</td>\n      <td>0.828888</td>\n    </tr>\n    <tr>\n      <th>13</th>\n      <td>Error Correction (Baran)</td>\n      <td>0.847048</td>\n      <td>0.548171</td>\n      <td>0.665597</td>\n    </tr>\n    <tr>\n      <th>14</th>\n      <td>Error Detection (Raha)</td>\n      <td>0.734158</td>\n      <td>0.880691</td>\n      <td>0.800776</td>\n    </tr>\n    <tr>\n      <th>15</th>\n      <td>Error Correction (Baran)</td>\n      <td>0.710878</td>\n      <td>0.454268</td>\n      <td>0.554315</td>\n    </tr>\n    <tr>\n      <th>16</th>\n      <td>Error Detection (Raha)</td>\n      <td>0.854623</td>\n      <td>0.817276</td>\n      <td>0.835532</td>\n    </tr>\n    <tr>\n      <th>17</th>\n      <td>Error Correction (Baran)</td>\n      <td>0.790614</td>\n      <td>0.534146</td>\n      <td>0.637555</td>\n    </tr>\n    <tr>\n      <th>18</th>\n      <td>Error Detection (Raha)</td>\n      <td>0.866011</td>\n      <td>0.859146</td>\n      <td>0.862565</td>\n    </tr>\n    <tr>\n      <th>19</th>\n      <td>Error Correction (Baran)</td>\n      <td>0.929613</td>\n      <td>0.518089</td>\n      <td>0.665362</td>\n    </tr>\n  </tbody>\n</table>\n</div>"
     },
     "metadata": {},
     "output_type": "display_data"
    },
    {
     "data": {
      "text/plain": "                         Precision                                  Recall  \\\n                              mean       std       min       max      mean   \nTask                                                                         \nError Correction (Baran)  0.804134  0.069315  0.710878  0.929613  0.542927   \nError Detection (Raha)    0.828861  0.052856  0.734158  0.892382  0.852988   \n\n                                                        F1 Score            \\\n                               std       min       max      mean       std   \nTask                                                                         \nError Correction (Baran)  0.049765  0.454268  0.640447  0.646447  0.044374   \nError Detection (Raha)    0.037524  0.817276  0.943496  0.838866  0.019761   \n\n                                              \n                               min       max  \nTask                                          \nError Correction (Baran)  0.554315  0.702956  \nError Detection (Raha)    0.800776  0.862565  ",
      "text/html": "<div>\n<style scoped>\n    .dataframe tbody tr th:only-of-type {\n        vertical-align: middle;\n    }\n\n    .dataframe tbody tr th {\n        vertical-align: top;\n    }\n\n    .dataframe thead tr th {\n        text-align: left;\n    }\n\n    .dataframe thead tr:last-of-type th {\n        text-align: right;\n    }\n</style>\n<table border=\"1\" class=\"dataframe\">\n  <thead>\n    <tr>\n      <th></th>\n      <th colspan=\"4\" halign=\"left\">Precision</th>\n      <th colspan=\"4\" halign=\"left\">Recall</th>\n      <th colspan=\"4\" halign=\"left\">F1 Score</th>\n    </tr>\n    <tr>\n      <th></th>\n      <th>mean</th>\n      <th>std</th>\n      <th>min</th>\n      <th>max</th>\n      <th>mean</th>\n      <th>std</th>\n      <th>min</th>\n      <th>max</th>\n      <th>mean</th>\n      <th>std</th>\n      <th>min</th>\n      <th>max</th>\n    </tr>\n    <tr>\n      <th>Task</th>\n      <th></th>\n      <th></th>\n      <th></th>\n      <th></th>\n      <th></th>\n      <th></th>\n      <th></th>\n      <th></th>\n      <th></th>\n      <th></th>\n      <th></th>\n      <th></th>\n    </tr>\n  </thead>\n  <tbody>\n    <tr>\n      <th>Error Correction (Baran)</th>\n      <td>0.804134</td>\n      <td>0.069315</td>\n      <td>0.710878</td>\n      <td>0.929613</td>\n      <td>0.542927</td>\n      <td>0.049765</td>\n      <td>0.454268</td>\n      <td>0.640447</td>\n      <td>0.646447</td>\n      <td>0.044374</td>\n      <td>0.554315</td>\n      <td>0.702956</td>\n    </tr>\n    <tr>\n      <th>Error Detection (Raha)</th>\n      <td>0.828861</td>\n      <td>0.052856</td>\n      <td>0.734158</td>\n      <td>0.892382</td>\n      <td>0.852988</td>\n      <td>0.037524</td>\n      <td>0.817276</td>\n      <td>0.943496</td>\n      <td>0.838866</td>\n      <td>0.019761</td>\n      <td>0.800776</td>\n      <td>0.862565</td>\n    </tr>\n  </tbody>\n</table>\n</div>"
     },
     "execution_count": 3,
     "metadata": {},
     "output_type": "execute_result"
    }
   ],
   "source": [
    "evaluation_df = pandas.DataFrame(columns=[\"Task\", \"Precision\", \"Recall\", \"F1 Score\"])\n",
    "\n",
    "for d in datasets:\n",
    "    edp, edr, edf = d.get_data_cleaning_evaluation(d.detected_cells)[:3]\n",
    "    ecp, ecr, ecf = d.get_data_cleaning_evaluation(d.corrected_cells)[-3:]\n",
    "\n",
    "    evaluation_df = evaluation_df.append({\"Task\": \"Error Detection (Raha)\", \"Precision\": edp,\n",
    "                                          \"Recall\": edr, \"F1 Score\": edf}, ignore_index=True)\n",
    "    evaluation_df = evaluation_df.append({\"Task\": \"Error Correction (Baran)\", \"Precision\": ecp,\n",
    "                                          \"Recall\": ecr, \"F1 Score\": ecf}, ignore_index=True)\n",
    "display(evaluation_df)\n",
    "\n",
    "evaluation_df.groupby(\"Task\").agg([\"mean\", \"std\", \"min\", \"max\"])"
   ]
  },
  {
   "cell_type": "markdown",
   "source": [
    "## Analyze the alternative repairs"
   ],
   "metadata": {
    "collapsed": false
   }
  },
  {
   "cell_type": "code",
   "execution_count": 4,
   "outputs": [
    {
     "data": {
      "text/plain": "        1      2     3     4\n0  3568.0  390.0  18.0  19.0\n1  3346.0  133.0  17.0   0.0\n2  3051.0  177.0  15.0   0.0\n3  3346.0  403.0  10.0   1.0\n4  2981.0   76.0   0.0   0.0\n5  2964.0  180.0   6.0   0.0\n6  3125.0   16.0   0.0   0.0\n7  2985.0  107.0   7.0   0.0\n8  3082.0  182.0   6.0   7.0\n9  2472.0  226.0   0.0   0.0",
      "text/html": "<div>\n<style scoped>\n    .dataframe tbody tr th:only-of-type {\n        vertical-align: middle;\n    }\n\n    .dataframe tbody tr th {\n        vertical-align: top;\n    }\n\n    .dataframe thead th {\n        text-align: right;\n    }\n</style>\n<table border=\"1\" class=\"dataframe\">\n  <thead>\n    <tr style=\"text-align: right;\">\n      <th></th>\n      <th>1</th>\n      <th>2</th>\n      <th>3</th>\n      <th>4</th>\n    </tr>\n  </thead>\n  <tbody>\n    <tr>\n      <th>0</th>\n      <td>3568.0</td>\n      <td>390.0</td>\n      <td>18.0</td>\n      <td>19.0</td>\n    </tr>\n    <tr>\n      <th>1</th>\n      <td>3346.0</td>\n      <td>133.0</td>\n      <td>17.0</td>\n      <td>0.0</td>\n    </tr>\n    <tr>\n      <th>2</th>\n      <td>3051.0</td>\n      <td>177.0</td>\n      <td>15.0</td>\n      <td>0.0</td>\n    </tr>\n    <tr>\n      <th>3</th>\n      <td>3346.0</td>\n      <td>403.0</td>\n      <td>10.0</td>\n      <td>1.0</td>\n    </tr>\n    <tr>\n      <th>4</th>\n      <td>2981.0</td>\n      <td>76.0</td>\n      <td>0.0</td>\n      <td>0.0</td>\n    </tr>\n    <tr>\n      <th>5</th>\n      <td>2964.0</td>\n      <td>180.0</td>\n      <td>6.0</td>\n      <td>0.0</td>\n    </tr>\n    <tr>\n      <th>6</th>\n      <td>3125.0</td>\n      <td>16.0</td>\n      <td>0.0</td>\n      <td>0.0</td>\n    </tr>\n    <tr>\n      <th>7</th>\n      <td>2985.0</td>\n      <td>107.0</td>\n      <td>7.0</td>\n      <td>0.0</td>\n    </tr>\n    <tr>\n      <th>8</th>\n      <td>3082.0</td>\n      <td>182.0</td>\n      <td>6.0</td>\n      <td>7.0</td>\n    </tr>\n    <tr>\n      <th>9</th>\n      <td>2472.0</td>\n      <td>226.0</td>\n      <td>0.0</td>\n      <td>0.0</td>\n    </tr>\n  </tbody>\n</table>\n</div>"
     },
     "execution_count": 4,
     "metadata": {},
     "output_type": "execute_result"
    }
   ],
   "source": [
    "alternative_count_list = []\n",
    "\n",
    "for d in datasets:\n",
    "    number_of_repairs = len(d.correction_collection)\n",
    "    number_of_repairs_hist = dict()\n",
    "\n",
    "    for cell_repairs in d.correction_collection.values():\n",
    "        num = len(cell_repairs)\n",
    "        number_of_repairs_hist[num] = number_of_repairs_hist.get(num, 0) + 1\n",
    "\n",
    "    hist = [0] * (max(number_of_repairs_hist.keys()) + 1)\n",
    "    for num, count in number_of_repairs_hist.items():\n",
    "        hist[num] = count\n",
    "\n",
    "    alternative_count_list.append(number_of_repairs_hist)\n",
    "\n",
    "    #print(f\"Histogram of the number of alternative repairs: {list(enumerate(hist))}\")\n",
    "\n",
    "max_alternatives = max(len(h) for h in alternative_count_list)\n",
    "\n",
    "alternative_count_df = pandas.DataFrame(columns=list(range(max_alternatives + 1)))\n",
    "\n",
    "for hist in alternative_count_list:\n",
    "    alternative_count_df = alternative_count_df.append(hist, ignore_index=True)\n",
    "\n",
    "alternative_count_df.drop(0,axis=1,inplace=True)\n",
    "alternative_count_df = alternative_count_df.fillna(0)\n",
    "alternative_count_df"
   ],
   "metadata": {
    "collapsed": false,
    "pycharm": {
     "name": "#%%\n"
    }
   }
  },
  {
   "cell_type": "code",
   "execution_count": 5,
   "outputs": [
    {
     "data": {
      "text/plain": "mean    1.062512\nstd     0.036418\nmin     1.005094\nmax     1.120901\ndtype: float64"
     },
     "execution_count": 5,
     "metadata": {},
     "output_type": "execute_result"
    }
   ],
   "source": [
    "mean_number_of_repairs = (alternative_count_df * np.arange(1,max_alternatives+1,1)).sum(axis=1) / alternative_count_df.sum(axis=1)\n",
    "mean_number_of_repairs.agg([\"mean\", \"std\", \"min\", \"max\"])"
   ],
   "metadata": {
    "collapsed": false,
    "pycharm": {
     "name": "#%%\n"
    }
   }
  },
  {
   "cell_type": "code",
   "execution_count": 6,
   "outputs": [
    {
     "data": {
      "text/plain": "mean    0.058816\nstd     0.033898\nmin     0.005094\nmax     0.110106\ndtype: float64"
     },
     "execution_count": 6,
     "metadata": {},
     "output_type": "execute_result"
    }
   ],
   "source": [
    "more_than_one = alternative_count_df.loc[:, alternative_count_df.columns[1:]].sum(axis=1) / alternative_count_df.sum(axis=1)\n",
    "more_than_one.agg([\"mean\", \"std\", \"min\", \"max\"])"
   ],
   "metadata": {
    "collapsed": false,
    "pycharm": {
     "name": "#%%\n"
    }
   }
  },
  {
   "cell_type": "code",
   "execution_count": 7,
   "outputs": [
    {
     "name": "stdout",
     "output_type": "stream",
     "text": [
      "Mean number of cells with x predicted alternatives in 10 runs\n"
     ]
    },
    {
     "data": {
      "text/plain": "1    3092.0\n2     189.0\n3       7.9\n4       2.7\ndtype: float64"
     },
     "execution_count": 7,
     "metadata": {},
     "output_type": "execute_result"
    }
   ],
   "source": [
    "print(\"Mean number of cells with x predicted alternatives in 10 runs\")\n",
    "mean_count_series = alternative_count_df.mean()\n",
    "mean_count_series"
   ],
   "metadata": {
    "collapsed": false,
    "pycharm": {
     "name": "#%%\n"
    }
   }
  },
  {
   "cell_type": "code",
   "execution_count": 10,
   "outputs": [
    {
     "name": "stdout",
     "output_type": "stream",
     "text": [
      "mean    0.128420\n",
      "std     0.095999\n",
      "min     0.003676\n",
      "max     0.287402\n",
      "Name: repair_percentage, dtype: float64\n"
     ]
    }
   ],
   "source": [
    "correct_repairs = datasets[0].get_actual_errors_dictionary()\n",
    "\n",
    "collection = []\n",
    "correct_repair_probs = []\n",
    "incorrect_repair_probs = []\n",
    "other_repair_probs = []\n",
    "\n",
    "for d in datasets:\n",
    "    error_repaired_cells = [cell for cell, correction in d.corrected_cells.items() if cell in correct_repairs and correction != correct_repairs[cell]]\n",
    "    #print(f\"Number of incorrectly repaired cells: {len(error_repaired_cells)}\")\n",
    "\n",
    "    correct_repair_available = 0\n",
    "\n",
    "    for cell in error_repaired_cells:\n",
    "        if correct_repairs[cell] in d.correction_collection[cell].keys():\n",
    "            correct_repair_available += 1\n",
    "\n",
    "    #print(f\"Number of incorrectly repaired cells, where the correct repair is among the alternative repairs: {correct_repair_available}\")\n",
    "\n",
    "    collection.append((len(error_repaired_cells),correct_repair_available))\n",
    "\n",
    "    for cell in error_repaired_cells:\n",
    "        if correct_repairs[cell] in d.correction_collection[cell]:\n",
    "            correct_repair_probs.append(d.correction_collection[cell][correct_repairs[cell]])\n",
    "            incorrect_repair_probs.append(d.correction_confidences[cell])\n",
    "            other_repair_probs.append([prob for val, prob in d.correction_collection[cell].items()\n",
    "                                       if val not in [correct_repairs[cell], d.corrected_cells[cell]]])\n",
    "\n",
    "repairable_df = pandas.DataFrame(collection, columns=[\"errors\",\"repairs\"])\n",
    "repairable_df[\"repair_percentage\"] = repairable_df[\"repairs\"] / repairable_df[\"errors\"]\n",
    "print(repairable_df[\"repair_percentage\"].agg([\"mean\", \"std\", \"min\", \"max\"]))"
   ],
   "metadata": {
    "collapsed": false,
    "pycharm": {
     "name": "#%%\n"
    }
   }
  },
  {
   "cell_type": "code",
   "execution_count": 11,
   "outputs": [
    {
     "name": "stdout",
     "output_type": "stream",
     "text": [
      "mean    0.874177\n",
      "std     0.171195\n",
      "min     0.503317\n",
      "max     1.000000\n",
      "dtype: float64\n"
     ]
    },
    {
     "data": {
      "text/plain": "(array([ 30,   8,   0,   2,   0,   0,   0,   0,   0,   0,   0,   0,   2,\n          0,   0,   8,   0,   0,   0,   0,  10,   0,   0,   0,   0,   0,\n          0,  14,   5,   0,   3,   2,   0,   1,  13,   0,   0,   0,   0,\n          0,   0,   0,   0,   0,   0,   0,   0,   0,   0,   0,   0,   0,\n          3,   5,  17,   0,   0,   0,   0,   0,   0,   0,  16,   7,   2,\n          0,   0,   0,   0,   0,   2,   0,   0,   0,   2,   0,   0,   0,\n          0,   2,   0,   0,   0,   0,   0,  12,  27,   0,   0,   0,   0,\n          0,   0,  10,   0,  23,   5,  29,  43, 147]),\n array([0.5  , 0.505, 0.51 , 0.515, 0.52 , 0.525, 0.53 , 0.535, 0.54 ,\n        0.545, 0.55 , 0.555, 0.56 , 0.565, 0.57 , 0.575, 0.58 , 0.585,\n        0.59 , 0.595, 0.6  , 0.605, 0.61 , 0.615, 0.62 , 0.625, 0.63 ,\n        0.635, 0.64 , 0.645, 0.65 , 0.655, 0.66 , 0.665, 0.67 , 0.675,\n        0.68 , 0.685, 0.69 , 0.695, 0.7  , 0.705, 0.71 , 0.715, 0.72 ,\n        0.725, 0.73 , 0.735, 0.74 , 0.745, 0.75 , 0.755, 0.76 , 0.765,\n        0.77 , 0.775, 0.78 , 0.785, 0.79 , 0.795, 0.8  , 0.805, 0.81 ,\n        0.815, 0.82 , 0.825, 0.83 , 0.835, 0.84 , 0.845, 0.85 , 0.855,\n        0.86 , 0.865, 0.87 , 0.875, 0.88 , 0.885, 0.89 , 0.895, 0.9  ,\n        0.905, 0.91 , 0.915, 0.92 , 0.925, 0.93 , 0.935, 0.94 , 0.945,\n        0.95 , 0.955, 0.96 , 0.965, 0.97 , 0.975, 0.98 , 0.985, 0.99 ,\n        0.995, 1.   ]))"
     },
     "execution_count": 11,
     "metadata": {},
     "output_type": "execute_result"
    }
   ],
   "source": [
    "print(pandas.Series(correct_repair_probs).agg([\"mean\", \"std\", \"min\", \"max\"]))\n",
    "\n",
    "np.histogram(correct_repair_probs,np.linspace(0.5,1.0,101))"
   ],
   "metadata": {
    "collapsed": false,
    "pycharm": {
     "name": "#%%\n"
    }
   }
  },
  {
   "cell_type": "code",
   "execution_count": 12,
   "outputs": [
    {
     "name": "stdout",
     "output_type": "stream",
     "text": [
      "mean    0.870292\n",
      "std     0.178566\n",
      "min     0.502536\n",
      "max     1.000000\n",
      "dtype: float64\n"
     ]
    },
    {
     "data": {
      "text/plain": "(array([15,  1, 10, 12,  9,  0, 16,  0,  0,  0,  1,  0,  0,  0,  0,  0,  0,\n        17,  0,  0,  0,  0,  0,  0,  0,  0,  0,  0,  0,  0,  4,  0,  0,  0,\n         0,  0,  0,  0,  0,  0,  0,  0,  0,  0,  0, 21,  0, 22,  0,  0,  0,\n         0,  0,  0,  0,  0,  0,  0,  0,  1,  0,  0,  0,  0,  1,  0,  0,  0,\n         0,  0,  0,  0, 11,  6,  0,  0,  0,  0,  6,  5,  0,  0,  0,  0,  2,\n         0,  0,  0,  0, 15,  0,  8, 20, 11,  0,  9,  0, 57, 94, 76]),\n array([0.5  , 0.505, 0.51 , 0.515, 0.52 , 0.525, 0.53 , 0.535, 0.54 ,\n        0.545, 0.55 , 0.555, 0.56 , 0.565, 0.57 , 0.575, 0.58 , 0.585,\n        0.59 , 0.595, 0.6  , 0.605, 0.61 , 0.615, 0.62 , 0.625, 0.63 ,\n        0.635, 0.64 , 0.645, 0.65 , 0.655, 0.66 , 0.665, 0.67 , 0.675,\n        0.68 , 0.685, 0.69 , 0.695, 0.7  , 0.705, 0.71 , 0.715, 0.72 ,\n        0.725, 0.73 , 0.735, 0.74 , 0.745, 0.75 , 0.755, 0.76 , 0.765,\n        0.77 , 0.775, 0.78 , 0.785, 0.79 , 0.795, 0.8  , 0.805, 0.81 ,\n        0.815, 0.82 , 0.825, 0.83 , 0.835, 0.84 , 0.845, 0.85 , 0.855,\n        0.86 , 0.865, 0.87 , 0.875, 0.88 , 0.885, 0.89 , 0.895, 0.9  ,\n        0.905, 0.91 , 0.915, 0.92 , 0.925, 0.93 , 0.935, 0.94 , 0.945,\n        0.95 , 0.955, 0.96 , 0.965, 0.97 , 0.975, 0.98 , 0.985, 0.99 ,\n        0.995, 1.   ]))"
     },
     "execution_count": 12,
     "metadata": {},
     "output_type": "execute_result"
    }
   ],
   "source": [
    "print(pandas.Series(incorrect_repair_probs).agg([\"mean\", \"std\", \"min\", \"max\"]))\n",
    "\n",
    "np.histogram(incorrect_repair_probs,np.linspace(0.5,1.0,101))"
   ],
   "metadata": {
    "collapsed": false,
    "pycharm": {
     "name": "#%%\n"
    }
   }
  },
  {
   "cell_type": "code",
   "execution_count": 13,
   "outputs": [
    {
     "name": "stdout",
     "output_type": "stream",
     "text": [
      "mean    0.918885\n",
      "std     0.118925\n",
      "min     0.501722\n",
      "max     0.999993\n",
      "dtype: float64\n"
     ]
    },
    {
     "data": {
      "text/plain": "(array([2, 0, 0, 0, 0, 0, 1, 0, 0, 0, 0, 0, 0, 0, 0, 0, 0, 0, 0, 0, 0, 0,\n        0, 0, 0, 0, 0, 0, 0, 0, 0, 0, 0, 0, 0, 0, 0, 0, 0, 0, 0, 0, 0, 0,\n        0, 0, 0, 0, 0, 0, 0, 0, 0, 0, 0, 0, 0, 0, 3, 0, 0, 0, 0, 1, 0, 0,\n        0, 0, 0, 2, 0, 0, 0, 0, 0, 0, 0, 0, 0, 0, 0, 0, 0, 3, 9, 5, 0, 0,\n        0, 0, 0, 0, 0, 0, 0, 0, 4, 8, 4, 8]),\n array([0.5  , 0.505, 0.51 , 0.515, 0.52 , 0.525, 0.53 , 0.535, 0.54 ,\n        0.545, 0.55 , 0.555, 0.56 , 0.565, 0.57 , 0.575, 0.58 , 0.585,\n        0.59 , 0.595, 0.6  , 0.605, 0.61 , 0.615, 0.62 , 0.625, 0.63 ,\n        0.635, 0.64 , 0.645, 0.65 , 0.655, 0.66 , 0.665, 0.67 , 0.675,\n        0.68 , 0.685, 0.69 , 0.695, 0.7  , 0.705, 0.71 , 0.715, 0.72 ,\n        0.725, 0.73 , 0.735, 0.74 , 0.745, 0.75 , 0.755, 0.76 , 0.765,\n        0.77 , 0.775, 0.78 , 0.785, 0.79 , 0.795, 0.8  , 0.805, 0.81 ,\n        0.815, 0.82 , 0.825, 0.83 , 0.835, 0.84 , 0.845, 0.85 , 0.855,\n        0.86 , 0.865, 0.87 , 0.875, 0.88 , 0.885, 0.89 , 0.895, 0.9  ,\n        0.905, 0.91 , 0.915, 0.92 , 0.925, 0.93 , 0.935, 0.94 , 0.945,\n        0.95 , 0.955, 0.96 , 0.965, 0.97 , 0.975, 0.98 , 0.985, 0.99 ,\n        0.995, 1.   ]))"
     },
     "execution_count": 13,
     "metadata": {},
     "output_type": "execute_result"
    }
   ],
   "source": [
    "flat_others = [value for sublist in other_repair_probs for value in sublist]\n",
    "\n",
    "print(pandas.Series(flat_others).agg([\"mean\", \"std\", \"min\", \"max\"]))\n",
    "\n",
    "np.histogram(flat_others,np.linspace(0.5, 1.0, 101))"
   ],
   "metadata": {
    "collapsed": false,
    "pycharm": {
     "name": "#%%\n"
    }
   }
  },
  {
   "cell_type": "code",
   "execution_count": 14,
   "outputs": [
    {
     "name": "stdout",
     "output_type": "stream",
     "text": [
      "450\n",
      "0.9733333333333334\n",
      "0.39555555555555555\n",
      "0.08666666666666667\n",
      "0.4822222222222222\n",
      "0.39555555555555555\n",
      "0.08666666666666667\n",
      "0.4822222222222222\n",
      "0.4911111111111111\n"
     ]
    },
    {
     "data": {
      "text/plain": "count    450.000000\nmean       0.089384\nstd        0.144923\nmin        0.000000\n25%        0.001566\n50%        0.021243\n75%        0.085252\nmax        0.496652\ndtype: float64"
     },
     "execution_count": 14,
     "metadata": {},
     "output_type": "execute_result"
    }
   ],
   "source": [
    "correct_s = pandas.Series(correct_repair_probs)\n",
    "incorrect_s = pandas.Series(incorrect_repair_probs)\n",
    "max_other_s = pandas.Series(max(other + [0]) for other in other_repair_probs)\n",
    "\n",
    "print(len(correct_s))\n",
    "\n",
    "print((correct_s > max_other_s).sum() / len(correct_s))\n",
    "print((correct_s > incorrect_s).sum() / len(correct_s))\n",
    "print((correct_s == incorrect_s).sum() / len(correct_s))\n",
    "print((correct_s >= incorrect_s).sum() / len(correct_s))\n",
    "print(((correct_s > incorrect_s) & (correct_s > max_other_s)).sum() / len(correct_s))\n",
    "print(((correct_s == incorrect_s) & (correct_s > max_other_s)).sum() / len(correct_s))\n",
    "print(((correct_s >= incorrect_s) & (correct_s > max_other_s)).sum() / len(correct_s))\n",
    "print(((correct_s >= incorrect_s) | (max_other_s >= incorrect_s)).sum() / len(correct_s))\n",
    "\n",
    "abs(correct_s - incorrect_s).describe()"
   ],
   "metadata": {
    "collapsed": false,
    "pycharm": {
     "name": "#%%\n"
    }
   }
  },
  {
   "cell_type": "code",
   "execution_count": 15,
   "outputs": [
    {
     "name": "stdout",
     "output_type": "stream",
     "text": [
      "0.9111111111111111\n",
      "0.7\n"
     ]
    }
   ],
   "source": [
    "other_count = pandas.Series(len(other) for other in other_repair_probs)\n",
    "print((other_count == 0).sum() / len(other_count))\n",
    "\n",
    "print(((correct_s > max_other_s) & (other_count > 0)).sum() / (other_count > 0).sum())"
   ],
   "metadata": {
    "collapsed": false,
    "pycharm": {
     "name": "#%%\n"
    }
   }
  },
  {
   "cell_type": "code",
   "execution_count": 16,
   "outputs": [],
   "source": [
    "incorrect_repair_probs_full = []\n",
    "max_other_repair_probs = []\n",
    "\n",
    "for d in datasets:\n",
    "    error_repaired_cells = [cell for cell, correction in d.corrected_cells.items() if cell in correct_repairs and correction != correct_repairs[cell]]\n",
    "\n",
    "    for cell in error_repaired_cells:\n",
    "        incorrect_repair_probs_full.append(d.correction_confidences[cell])\n",
    "        max_other_repair_probs.append(max([prob for val, prob in d.correction_collection[cell].items()\n",
    "                                   if val != d.corrected_cells[cell]] + [0]))"
   ],
   "metadata": {
    "collapsed": false,
    "pycharm": {
     "name": "#%%\n"
    }
   }
  },
  {
   "cell_type": "code",
   "execution_count": 17,
   "outputs": [
    {
     "name": "stdout",
     "output_type": "stream",
     "text": [
      "3430\n",
      "3430\n",
      "0.07871720116618076\n",
      "0.021865889212827987\n",
      "mean    0.866809\n",
      "std     0.170465\n",
      "min     0.500000\n",
      "max     1.000000\n",
      "dtype: float64\n"
     ]
    },
    {
     "data": {
      "text/plain": "(array([  38,    4,   38,   62,   11,   33,   64,   10,   26,    6,    3,\n          25,   21,   26,    0,    4,   10,   68,   20,    6,    0,    4,\n           2,    0,    2,    4,    8,   18,   10,    0,    4,    0,   52,\n          54,    0,    0,    0,    0,    0,   38,    0,   71,    0,    0,\n          83,   53,    6,  146,    3,    0,   61,   29,    0,    1,    0,\n          13,    0,    9,    0,   13,   15,    0,   29,    3,    1,   46,\n           4,    2,    0,    3,    0,    0,   13,    7,    0,    7,    0,\n           3,   11,    8,    3,    3,   22,    8,   35,    0,    2,    0,\n           0,   33,    1,   67,   78,   74,    7,   48,   70,  112,  177,\n        1379]),\n array([0.5  , 0.505, 0.51 , 0.515, 0.52 , 0.525, 0.53 , 0.535, 0.54 ,\n        0.545, 0.55 , 0.555, 0.56 , 0.565, 0.57 , 0.575, 0.58 , 0.585,\n        0.59 , 0.595, 0.6  , 0.605, 0.61 , 0.615, 0.62 , 0.625, 0.63 ,\n        0.635, 0.64 , 0.645, 0.65 , 0.655, 0.66 , 0.665, 0.67 , 0.675,\n        0.68 , 0.685, 0.69 , 0.695, 0.7  , 0.705, 0.71 , 0.715, 0.72 ,\n        0.725, 0.73 , 0.735, 0.74 , 0.745, 0.75 , 0.755, 0.76 , 0.765,\n        0.77 , 0.775, 0.78 , 0.785, 0.79 , 0.795, 0.8  , 0.805, 0.81 ,\n        0.815, 0.82 , 0.825, 0.83 , 0.835, 0.84 , 0.845, 0.85 , 0.855,\n        0.86 , 0.865, 0.87 , 0.875, 0.88 , 0.885, 0.89 , 0.895, 0.9  ,\n        0.905, 0.91 , 0.915, 0.92 , 0.925, 0.93 , 0.935, 0.94 , 0.945,\n        0.95 , 0.955, 0.96 , 0.965, 0.97 , 0.975, 0.98 , 0.985, 0.99 ,\n        0.995, 1.   ]))"
     },
     "execution_count": 17,
     "metadata": {},
     "output_type": "execute_result"
    }
   ],
   "source": [
    "print(len(incorrect_repair_probs_full))\n",
    "print(len(max_other_repair_probs))\n",
    "\n",
    "incorrect_repair_probs_full = pandas.Series(incorrect_repair_probs_full)\n",
    "max_other_repair_probs = pandas.Series(max_other_repair_probs)\n",
    "\n",
    "print((max_other_repair_probs > incorrect_repair_probs_full).sum() / len(max_other_repair_probs))\n",
    "print((max_other_repair_probs == incorrect_repair_probs_full).sum() / len(max_other_repair_probs))\n",
    "\n",
    "print(incorrect_repair_probs_full.agg([\"mean\", \"std\", \"min\", \"max\"]))\n",
    "\n",
    "np.histogram(incorrect_repair_probs_full, np.linspace(0.5,1.0,101))"
   ],
   "metadata": {
    "collapsed": false,
    "pycharm": {
     "name": "#%%\n"
    }
   }
  },
  {
   "cell_type": "markdown",
   "source": [
    "## Analyze confidence vs error probability"
   ],
   "metadata": {
    "collapsed": false,
    "pycharm": {
     "name": "#%% md\n"
    }
   }
  },
  {
   "cell_type": "code",
   "execution_count": 18,
   "outputs": [],
   "source": [
    "import importlib\n",
    "from raha import analysis_utilities\n",
    "import matplotlib.pyplot as plt\n",
    "plt.style.use('ggplot')\n",
    "plt.ion()"
   ],
   "metadata": {
    "collapsed": false,
    "pycharm": {
     "name": "#%%\n"
    }
   }
  },
  {
   "cell_type": "code",
   "execution_count": 19,
   "outputs": [
    {
     "data": {
      "text/plain": "<module 'raha.analysis_utilities' from '/home/adrian/source/MA/raha/raha/analysis_utilities.py'>"
     },
     "execution_count": 19,
     "metadata": {},
     "output_type": "execute_result"
    }
   ],
   "source": [
    "importlib.reload(analysis_utilities)"
   ],
   "metadata": {
    "collapsed": false,
    "pycharm": {
     "name": "#%%\n"
    }
   }
  },
  {
   "cell_type": "code",
   "source": [
    "r_p_dfs = []\n",
    "\n",
    "for d in datasets:\n",
    "\n",
    "    r_p_dfs.append(analysis_utilities.get_correction_confidence_df(d))\n",
    "\n",
    "r_p_df = pandas.concat(r_p_dfs)"
   ],
   "metadata": {
    "collapsed": false,
    "pycharm": {
     "name": "#%%\n"
    }
   },
   "execution_count": 20,
   "outputs": []
  },
  {
   "cell_type": "code",
   "execution_count": 21,
   "outputs": [
    {
     "data": {
      "text/plain": "<Figure size 432x288 with 1 Axes>",
      "image/png": "[encoded data removed]"
     },
     "execution_count": 21,
     "metadata": {},
     "output_type": "execute_result"
    }
   ],
   "source": [
    "analysis_utilities.correction_confidence_distribution(r_p_df, number_of_bins=100)"
   ],
   "metadata": {
    "collapsed": false,
    "pycharm": {
     "name": "#%%\n"
    }
   }
  },
  {
   "cell_type": "code",
   "execution_count": 22,
   "outputs": [
    {
     "data": {
      "text/plain": "0.8322051159168514"
     },
     "execution_count": 22,
     "metadata": {},
     "output_type": "execute_result"
    }
   ],
   "source": [
    "(r_p_df[\"confidence\"] >= 0.95).sum() / len(r_p_df.index)"
   ],
   "metadata": {
    "collapsed": false,
    "pycharm": {
     "name": "#%%\n"
    }
   }
  },
  {
   "cell_type": "code",
   "execution_count": 23,
   "outputs": [
    {
     "data": {
      "text/plain": "0.6630702836004932"
     },
     "execution_count": 23,
     "metadata": {},
     "output_type": "execute_result"
    }
   ],
   "source": [
    "((r_p_df[\"confidence\"] >= 0.95) & (r_p_df[\"detection_correct\"] == False)).sum() / (r_p_df[\"detection_correct\"] == False).sum()"
   ],
   "metadata": {
    "collapsed": false,
    "pycharm": {
     "name": "#%%\n"
    }
   }
  },
  {
   "cell_type": "code",
   "execution_count": 24,
   "outputs": [
    {
     "data": {
      "text/plain": "0.8504080684758808"
     },
     "execution_count": 24,
     "metadata": {},
     "output_type": "execute_result"
    }
   ],
   "source": [
    "((r_p_df[\"confidence\"] >= 0.95) & (r_p_df[\"detection_correct\"] == True)).sum() / (r_p_df[\"detection_correct\"] == True).sum()"
   ],
   "metadata": {
    "collapsed": false,
    "pycharm": {
     "name": "#%%\n"
    }
   }
  },
  {
   "cell_type": "code",
   "execution_count": 25,
   "outputs": [
    {
     "data": {
      "text/plain": "<Figure size 432x288 with 2 Axes>",
      "image/png": "[encoded data removed]"
     },
     "execution_count": 25,
     "metadata": {},
     "output_type": "execute_result"
    }
   ],
   "source": [
    "analysis_utilities.correction_confidence_distributions(r_p_df, number_of_bins=100)"
   ],
   "metadata": {
    "collapsed": false,
    "pycharm": {
     "name": "#%%\n"
    }
   }
  },
  {
   "cell_type": "code",
   "execution_count": 26,
   "outputs": [],
   "source": [
    "analysis_utilities.correction_confidence_distribution(r_p_df, number_of_bins=100).savefig(\"flights_correction_overview.pdf\")\n",
    "analysis_utilities.correction_confidence_distributions(r_p_df, number_of_bins=100).savefig(\"flights_correction_split.pdf\")"
   ],
   "metadata": {
    "collapsed": false,
    "pycharm": {
     "name": "#%%\n"
    }
   }
  },
  {
   "cell_type": "code",
   "execution_count": 27,
   "outputs": [
    {
     "data": {
      "text/plain": "<Figure size 432x288 with 2 Axes>",
      "image/png": "[encoded data removed]"
     },
     "metadata": {},
     "output_type": "display_data"
    }
   ],
   "source": [
    "display(analysis_utilities.correction_correctness_by_confidence(r_p_df, number_of_bins=10))"
   ],
   "metadata": {
    "collapsed": false,
    "pycharm": {
     "name": "#%%\n"
    }
   }
  },
  {
   "cell_type": "markdown",
   "metadata": {
    "pycharm": {
     "name": "#%% md\n"
    }
   },
   "source": [
    "## Analyze detection confidence vs error probability"
   ]
  },
  {
   "cell_type": "code",
   "execution_count": 28,
   "metadata": {
    "pycharm": {
     "name": "#%%\n"
    }
   },
   "outputs": [],
   "source": [
    "evaluation_dfs = []\n",
    "\n",
    "for d in datasets:\n",
    "    df = analysis_utilities.get_detection_evaluation_df(d)\n",
    "    evaluation_dfs.append(df)\n",
    "    #display(df)\n",
    "    #display(df.value_counts(subset=[\"detected\", \"truth\"]))\n",
    "    #display(analysis_utilities.detection_evaluation(df))\n",
    "    #display(analysis_utilities.detection_correctness_by_confidence(df,number_of_bins=10))\n",
    "\n",
    "df = pandas.concat(evaluation_dfs)"
   ]
  },
  {
   "cell_type": "code",
   "execution_count": 29,
   "outputs": [
    {
     "data": {
      "text/plain": "<Figure size 1152x648 with 4 Axes>",
      "image/png": "[encoded data removed]"
     },
     "execution_count": 29,
     "metadata": {},
     "output_type": "execute_result"
    }
   ],
   "source": [
    "analysis_utilities.detection_evaluation(df, sharey=\"all\", number_of_bins=100)"
   ],
   "metadata": {
    "collapsed": false,
    "pycharm": {
     "name": "#%%\n"
    }
   }
  },
  {
   "cell_type": "code",
   "execution_count": 30,
   "outputs": [
    {
     "data": {
      "text/plain": "<Figure size 432x288 with 2 Axes>",
      "image/png": "[encoded data removed]"
     },
     "metadata": {},
     "output_type": "display_data"
    }
   ],
   "source": [
    "display(analysis_utilities.detection_correctness_by_confidence(df))"
   ],
   "metadata": {
    "collapsed": false,
    "pycharm": {
     "name": "#%%\n"
    }
   }
  },
  {
   "cell_type": "code",
   "execution_count": 31,
   "outputs": [
    {
     "data": {
      "text/plain": "<Figure size 432x288 with 2 Axes>",
      "image/png": "[encoded data removed]"
     },
     "execution_count": 31,
     "metadata": {},
     "output_type": "execute_result"
    }
   ],
   "source": [
    "analysis_utilities.detection_correctness_by_confidence2(df, number_of_bins=10)"
   ],
   "metadata": {
    "collapsed": false,
    "pycharm": {
     "name": "#%%\n"
    }
   }
  },
  {
   "cell_type": "code",
   "execution_count": 32,
   "outputs": [
    {
     "data": {
      "text/plain": "0.0642376142376142"
     },
     "execution_count": 32,
     "metadata": {},
     "output_type": "execute_result"
    }
   ],
   "source": [
    "1 - ((df[\"p\"] < 0.02) | (df[\"p\"] > 0.98)).sum() / len(df.index)"
   ],
   "metadata": {
    "collapsed": false,
    "pycharm": {
     "name": "#%%\n"
    }
   }
  },
  {
   "cell_type": "code",
   "execution_count": 33,
   "outputs": [],
   "source": [
    "analysis_utilities.detection_evaluation(df, sharey=\"all\",number_of_bins=100).savefig(\"flights_detection_split.pdf\", dpi=600)"
   ],
   "metadata": {
    "collapsed": false,
    "pycharm": {
     "name": "#%%\n"
    }
   }
  },
  {
   "cell_type": "code",
   "execution_count": 34,
   "outputs": [],
   "source": [
    "analysis_utilities.detection_evaluation_without_grouping(df,number_of_bins=100).savefig(\"flights_detection_overview.pdf\", dpi=600)"
   ],
   "metadata": {
    "collapsed": false,
    "pycharm": {
     "name": "#%%\n"
    }
   }
  },
  {
   "cell_type": "code",
   "execution_count": 35,
   "outputs": [
    {
     "data": {
      "text/plain": "0.30616883116883115"
     },
     "execution_count": 35,
     "metadata": {},
     "output_type": "execute_result"
    }
   ],
   "source": [
    "(df[\"p\"] >= 0.5).sum() / len(df.index)"
   ],
   "metadata": {
    "collapsed": false,
    "pycharm": {
     "name": "#%%\n"
    }
   }
  },
  {
   "cell_type": "code",
   "execution_count": 36,
   "outputs": [
    {
     "data": {
      "text/plain": "0.26447210197210197"
     },
     "execution_count": 36,
     "metadata": {},
     "output_type": "execute_result"
    }
   ],
   "source": [
    "(df[\"p\"] >= 0.99).sum() / len(df.index)"
   ],
   "metadata": {
    "collapsed": false,
    "pycharm": {
     "name": "#%%\n"
    }
   }
  },
  {
   "cell_type": "code",
   "execution_count": 37,
   "outputs": [
    {
     "data": {
      "text/plain": "0.863811319272613"
     },
     "execution_count": 37,
     "metadata": {},
     "output_type": "execute_result"
    }
   ],
   "source": [
    "(df[\"p\"] >= 0.99).sum() / (df[\"p\"] >= 0.5).sum()\n"
   ],
   "metadata": {
    "collapsed": false,
    "pycharm": {
     "name": "#%%\n"
    }
   }
  },
  {
   "cell_type": "code",
   "execution_count": null,
   "outputs": [],
   "source": [],
   "metadata": {
    "collapsed": false,
    "pycharm": {
     "name": "#%%\n"
    }
   }
  }
 ],
 "metadata": {
  "kernelspec": {
   "display_name": "Python 3",
   "language": "python",
   "name": "python3"
  },
  "language_info": {
   "codemirror_mode": {
    "name": "ipython",
    "version": 3
   },
   "file_extension": ".py",
   "mimetype": "text/x-python",
   "name": "python",
   "nbconvert_exporter": "python",
   "pygments_lexer": "ipython3",
   "version": "3.8.5"
  }
 },
 "nbformat": 4,
 "nbformat_minor": 4
}
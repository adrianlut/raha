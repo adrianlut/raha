{
 "cells": [
  {
   "cell_type": "markdown",
   "metadata": {},
   "source": [
    "# Rayyan example"
   ]
  },
  {
   "cell_type": "code",
   "execution_count": 1,
   "outputs": [],
   "source": [
    "import numpy as np\n",
    "import pandas\n",
    "from IPython.core.display import display\n",
    "\n",
    "import raha"
   ],
   "metadata": {
    "collapsed": false,
    "pycharm": {
     "name": "#%%\n"
    }
   }
  },
  {
   "cell_type": "markdown",
   "source": [
    "## Run error detection and repair 30 times\n",
    "\n",
    "We use ground truth to label 20 tuples in each run."
   ],
   "metadata": {
    "collapsed": false
   }
  },
  {
   "cell_type": "code",
   "execution_count": 2,
   "metadata": {
    "pycharm": {
     "name": "#%%\n"
    }
   },
   "outputs": [
    {
     "name": "stderr",
     "output_type": "stream",
     "text": [
      "I just load strategies' results as they have already been run on the dataset!\n"
     ]
    },
    {
     "name": "stdout",
     "output_type": "stream",
     "text": [
      "Run 0 done\n"
     ]
    },
    {
     "name": "stderr",
     "output_type": "stream",
     "text": [
      "I just load strategies' results as they have already been run on the dataset!\n"
     ]
    },
    {
     "name": "stdout",
     "output_type": "stream",
     "text": [
      "Run 1 done\n"
     ]
    },
    {
     "name": "stderr",
     "output_type": "stream",
     "text": [
      "I just load strategies' results as they have already been run on the dataset!\n"
     ]
    },
    {
     "name": "stdout",
     "output_type": "stream",
     "text": [
      "Run 2 done\n"
     ]
    },
    {
     "name": "stderr",
     "output_type": "stream",
     "text": [
      "I just load strategies' results as they have already been run on the dataset!\n"
     ]
    },
    {
     "name": "stdout",
     "output_type": "stream",
     "text": [
      "Run 3 done\n"
     ]
    },
    {
     "name": "stderr",
     "output_type": "stream",
     "text": [
      "I just load strategies' results as they have already been run on the dataset!\n"
     ]
    },
    {
     "name": "stdout",
     "output_type": "stream",
     "text": [
      "Run 4 done\n"
     ]
    },
    {
     "name": "stderr",
     "output_type": "stream",
     "text": [
      "I just load strategies' results as they have already been run on the dataset!\n"
     ]
    },
    {
     "name": "stdout",
     "output_type": "stream",
     "text": [
      "Run 5 done\n"
     ]
    },
    {
     "name": "stderr",
     "output_type": "stream",
     "text": [
      "I just load strategies' results as they have already been run on the dataset!\n"
     ]
    },
    {
     "name": "stdout",
     "output_type": "stream",
     "text": [
      "Run 6 done\n"
     ]
    },
    {
     "name": "stderr",
     "output_type": "stream",
     "text": [
      "I just load strategies' results as they have already been run on the dataset!\n"
     ]
    },
    {
     "name": "stdout",
     "output_type": "stream",
     "text": [
      "Run 7 done\n"
     ]
    },
    {
     "name": "stderr",
     "output_type": "stream",
     "text": [
      "I just load strategies' results as they have already been run on the dataset!\n"
     ]
    },
    {
     "name": "stdout",
     "output_type": "stream",
     "text": [
      "Run 8 done\n"
     ]
    },
    {
     "name": "stderr",
     "output_type": "stream",
     "text": [
      "I just load strategies' results as they have already been run on the dataset!\n"
     ]
    },
    {
     "name": "stdout",
     "output_type": "stream",
     "text": [
      "Run 9 done\n"
     ]
    },
    {
     "name": "stderr",
     "output_type": "stream",
     "text": [
      "I just load strategies' results as they have already been run on the dataset!\n"
     ]
    },
    {
     "name": "stdout",
     "output_type": "stream",
     "text": [
      "Run 10 done\n"
     ]
    },
    {
     "name": "stderr",
     "output_type": "stream",
     "text": [
      "I just load strategies' results as they have already been run on the dataset!\n"
     ]
    },
    {
     "name": "stdout",
     "output_type": "stream",
     "text": [
      "Run 11 done\n"
     ]
    },
    {
     "name": "stderr",
     "output_type": "stream",
     "text": [
      "I just load strategies' results as they have already been run on the dataset!\n"
     ]
    },
    {
     "name": "stdout",
     "output_type": "stream",
     "text": [
      "Run 12 done\n"
     ]
    },
    {
     "name": "stderr",
     "output_type": "stream",
     "text": [
      "I just load strategies' results as they have already been run on the dataset!\n"
     ]
    },
    {
     "name": "stdout",
     "output_type": "stream",
     "text": [
      "Run 13 done\n"
     ]
    },
    {
     "name": "stderr",
     "output_type": "stream",
     "text": [
      "I just load strategies' results as they have already been run on the dataset!\n"
     ]
    },
    {
     "name": "stdout",
     "output_type": "stream",
     "text": [
      "Run 14 done\n"
     ]
    },
    {
     "name": "stderr",
     "output_type": "stream",
     "text": [
      "I just load strategies' results as they have already been run on the dataset!\n"
     ]
    },
    {
     "name": "stdout",
     "output_type": "stream",
     "text": [
      "Run 15 done\n"
     ]
    },
    {
     "name": "stderr",
     "output_type": "stream",
     "text": [
      "I just load strategies' results as they have already been run on the dataset!\n"
     ]
    },
    {
     "name": "stdout",
     "output_type": "stream",
     "text": [
      "Run 16 done\n"
     ]
    },
    {
     "name": "stderr",
     "output_type": "stream",
     "text": [
      "I just load strategies' results as they have already been run on the dataset!\n"
     ]
    },
    {
     "name": "stdout",
     "output_type": "stream",
     "text": [
      "Run 17 done\n"
     ]
    },
    {
     "name": "stderr",
     "output_type": "stream",
     "text": [
      "I just load strategies' results as they have already been run on the dataset!\n"
     ]
    },
    {
     "name": "stdout",
     "output_type": "stream",
     "text": [
      "Run 18 done\n"
     ]
    },
    {
     "name": "stderr",
     "output_type": "stream",
     "text": [
      "I just load strategies' results as they have already been run on the dataset!\n"
     ]
    },
    {
     "name": "stdout",
     "output_type": "stream",
     "text": [
      "Run 19 done\n"
     ]
    },
    {
     "name": "stderr",
     "output_type": "stream",
     "text": [
      "I just load strategies' results as they have already been run on the dataset!\n"
     ]
    },
    {
     "name": "stdout",
     "output_type": "stream",
     "text": [
      "Run 20 done\n"
     ]
    },
    {
     "name": "stderr",
     "output_type": "stream",
     "text": [
      "I just load strategies' results as they have already been run on the dataset!\n"
     ]
    },
    {
     "name": "stdout",
     "output_type": "stream",
     "text": [
      "Run 21 done\n"
     ]
    },
    {
     "name": "stderr",
     "output_type": "stream",
     "text": [
      "I just load strategies' results as they have already been run on the dataset!\n"
     ]
    },
    {
     "name": "stdout",
     "output_type": "stream",
     "text": [
      "Run 22 done\n"
     ]
    },
    {
     "name": "stderr",
     "output_type": "stream",
     "text": [
      "I just load strategies' results as they have already been run on the dataset!\n"
     ]
    },
    {
     "name": "stdout",
     "output_type": "stream",
     "text": [
      "Run 23 done\n"
     ]
    },
    {
     "name": "stderr",
     "output_type": "stream",
     "text": [
      "I just load strategies' results as they have already been run on the dataset!\n"
     ]
    },
    {
     "name": "stdout",
     "output_type": "stream",
     "text": [
      "Run 24 done\n"
     ]
    },
    {
     "name": "stderr",
     "output_type": "stream",
     "text": [
      "I just load strategies' results as they have already been run on the dataset!\n"
     ]
    },
    {
     "name": "stdout",
     "output_type": "stream",
     "text": [
      "Run 25 done\n"
     ]
    },
    {
     "name": "stderr",
     "output_type": "stream",
     "text": [
      "I just load strategies' results as they have already been run on the dataset!\n"
     ]
    },
    {
     "name": "stdout",
     "output_type": "stream",
     "text": [
      "Run 26 done\n"
     ]
    },
    {
     "name": "stderr",
     "output_type": "stream",
     "text": [
      "I just load strategies' results as they have already been run on the dataset!\n"
     ]
    },
    {
     "name": "stdout",
     "output_type": "stream",
     "text": [
      "Run 27 done\n"
     ]
    },
    {
     "name": "stderr",
     "output_type": "stream",
     "text": [
      "I just load strategies' results as they have already been run on the dataset!\n"
     ]
    },
    {
     "name": "stdout",
     "output_type": "stream",
     "text": [
      "Run 28 done\n"
     ]
    },
    {
     "name": "stderr",
     "output_type": "stream",
     "text": [
      "I just load strategies' results as they have already been run on the dataset!\n"
     ]
    },
    {
     "name": "stdout",
     "output_type": "stream",
     "text": [
      "Run 29 done\n"
     ]
    }
   ],
   "source": [
    "datasets = []\n",
    "\n",
    "for i in range(30):\n",
    "    from raha import analysis_utilities\n",
    "    app_1 = raha.Detection()\n",
    "    app_2 = raha.Correction()\n",
    "\n",
    "    # How many tuples would you label?\n",
    "    app_1.LABELING_BUDGET = 20\n",
    "    app_2.LABELING_BUDGET = 0\n",
    "\n",
    "    # Would you like to see the logs?\n",
    "    app_1.VERBOSE = False\n",
    "    app_2.VERBOSE = False\n",
    "\n",
    "    dataset_dictionary = {\n",
    "        \"name\": \"rayyan\",\n",
    "        \"path\": \"datasets/rayyan/dirty.csv\",\n",
    "        \"clean_path\": \"datasets/rayyan/clean.csv\"\n",
    "    }\n",
    "    d = app_1.initialize_dataset(dataset_dictionary)\n",
    "\n",
    "    app_1.run_strategies(d)\n",
    "    app_1.generate_features(d)\n",
    "    app_1.build_clusters(d)\n",
    "\n",
    "    while len(d.labeled_tuples) < app_1.LABELING_BUDGET:\n",
    "        app_1.sample_tuple(d)\n",
    "        if d.has_ground_truth:\n",
    "            app_1.label_with_ground_truth(d)\n",
    "\n",
    "    app_1.propagate_labels(d)\n",
    "    app_1.predict_labels(d)\n",
    "\n",
    "    app_2.initialize_models(d)\n",
    "    app_2.initialize_dataset(d)\n",
    "    for si in d.labeled_tuples:\n",
    "        d.sampled_tuple = si\n",
    "        app_2.update_models(d)\n",
    "        app_2.generate_features(d)\n",
    "        app_2.predict_corrections(d)\n",
    "\n",
    "    print(f\"Run {i} done\")\n",
    "\n",
    "    datasets.append(d)"
   ]
  },
  {
   "cell_type": "markdown",
   "source": [
    "## Evaluation"
   ],
   "metadata": {
    "collapsed": false,
    "pycharm": {
     "name": "#%% md\n"
    }
   }
  },
  {
   "cell_type": "code",
   "execution_count": 3,
   "metadata": {
    "scrolled": true
   },
   "outputs": [
    {
     "name": "stderr",
     "output_type": "stream",
     "text": [
      "/home/adrian/source/MA/raha/raha/dataset.py:123: FutureWarning: elementwise comparison failed; returning scalar instead, but in the future will perform elementwise comparison\n",
      "  if correction_dictionary[cell] == actual_errors[cell]:\n"
     ]
    },
    {
     "data": {
      "text/plain": "                        Task  Precision    Recall  F1 Score\n0     Error Detection (Raha)   0.805876  0.810127  0.807996\n1   Error Correction (Baran)   0.960573  0.282700  0.436838\n2     Error Detection (Raha)   0.889182  0.710970  0.790152\n3   Error Correction (Baran)   0.885185  0.252110  0.392447\n4     Error Detection (Raha)   0.707038  0.911392  0.796313\n5   Error Correction (Baran)   0.842105  0.219409  0.348117\n6     Error Detection (Raha)   0.830000  0.787975  0.808442\n7   Error Correction (Baran)   0.874644  0.323840  0.472671\n8     Error Detection (Raha)   0.886986  0.273207  0.417742\n9   Error Correction (Baran)   0.854701  0.105485  0.187793\n10    Error Detection (Raha)   0.861714  0.795359  0.827208\n11  Error Correction (Baran)   0.772152  0.257384  0.386076\n12    Error Detection (Raha)   0.847896  0.829114  0.838400\n13  Error Correction (Baran)   0.810409  0.229958  0.358258\n14    Error Detection (Raha)   0.838415  0.580169  0.685786\n15  Error Correction (Baran)   0.864407  0.268987  0.410298\n16    Error Detection (Raha)   0.794471  0.697257  0.742697\n17  Error Correction (Baran)   0.791809  0.244726  0.373892\n18    Error Detection (Raha)   0.824369  0.792194  0.807961\n19  Error Correction (Baran)   0.882096  0.213080  0.343246\n20    Error Detection (Raha)   0.830861  0.590717  0.690506\n21  Error Correction (Baran)   0.925676  0.289030  0.440514\n22    Error Detection (Raha)   0.804511  0.902954  0.850895\n23  Error Correction (Baran)   0.938830  0.372363  0.533233\n24    Error Detection (Raha)   0.861017  0.803797  0.831424\n25  Error Correction (Baran)   0.458333  0.174051  0.252294\n26    Error Detection (Raha)   0.869936  0.860759  0.865323\n27  Error Correction (Baran)   0.888563  0.319620  0.470132\n28    Error Detection (Raha)   0.843468  0.790084  0.815904\n29  Error Correction (Baran)   0.685654  0.342827  0.457103\n30    Error Detection (Raha)   0.892715  0.710970  0.791544\n31  Error Correction (Baran)   0.845395  0.271097  0.410543\n32    Error Detection (Raha)   0.825953  0.845992  0.835852\n33  Error Correction (Baran)   0.961538  0.237342  0.380711\n34    Error Detection (Raha)   0.900119  0.798523  0.846283\n35  Error Correction (Baran)   0.866667  0.178270  0.295713\n36    Error Detection (Raha)   0.910714  0.430380  0.584527\n37  Error Correction (Baran)   0.950192  0.261603  0.410256\n38    Error Detection (Raha)   0.821689  0.831224  0.826429\n39  Error Correction (Baran)   0.817021  0.202532  0.324598\n40    Error Detection (Raha)   0.863962  0.763713  0.810750\n41  Error Correction (Baran)   0.882006  0.315401  0.464646\n42    Error Detection (Raha)   0.809926  0.809072  0.809499\n43  Error Correction (Baran)   0.953846  0.261603  0.410596\n44    Error Detection (Raha)   0.819083  0.697257  0.753276\n45  Error Correction (Baran)   0.962382  0.323840  0.484609\n46    Error Detection (Raha)   0.793804  0.864979  0.827865\n47  Error Correction (Baran)   0.939683  0.312236  0.468725\n48    Error Detection (Raha)   0.809257  0.608650  0.694762\n49  Error Correction (Baran)   0.919444  0.349156  0.506116\n50    Error Detection (Raha)   0.789150  0.813291  0.801039\n51  Error Correction (Baran)   0.926154  0.317511  0.472899\n52    Error Detection (Raha)   0.897243  0.755274  0.820160\n53  Error Correction (Baran)   0.732143  0.129747  0.220430\n54    Error Detection (Raha)   0.858586  0.806962  0.831974\n55  Error Correction (Baran)   0.348718  0.143460  0.203288\n56    Error Detection (Raha)   0.629630  0.914557  0.745806\n57  Error Correction (Baran)   0.821970  0.228903  0.358086\n58    Error Detection (Raha)   0.822928  0.764768  0.792783\n59  Error Correction (Baran)   0.713235  0.102321  0.178967",
      "text/html": "<div>\n<style scoped>\n    .dataframe tbody tr th:only-of-type {\n        vertical-align: middle;\n    }\n\n    .dataframe tbody tr th {\n        vertical-align: top;\n    }\n\n    .dataframe thead th {\n        text-align: right;\n    }\n</style>\n<table border=\"1\" class=\"dataframe\">\n  <thead>\n    <tr style=\"text-align: right;\">\n      <th></th>\n      <th>Task</th>\n      <th>Precision</th>\n      <th>Recall</th>\n      <th>F1 Score</th>\n    </tr>\n  </thead>\n  <tbody>\n    <tr>\n      <th>0</th>\n      <td>Error Detection (Raha)</td>\n      <td>0.805876</td>\n      <td>0.810127</td>\n      <td>0.807996</td>\n    </tr>\n    <tr>\n      <th>1</th>\n      <td>Error Correction (Baran)</td>\n      <td>0.960573</td>\n      <td>0.282700</td>\n      <td>0.436838</td>\n    </tr>\n    <tr>\n      <th>2</th>\n      <td>Error Detection (Raha)</td>\n      <td>0.889182</td>\n      <td>0.710970</td>\n      <td>0.790152</td>\n    </tr>\n    <tr>\n      <th>3</th>\n      <td>Error Correction (Baran)</td>\n      <td>0.885185</td>\n      <td>0.252110</td>\n      <td>0.392447</td>\n    </tr>\n    <tr>\n      <th>4</th>\n      <td>Error Detection (Raha)</td>\n      <td>0.707038</td>\n      <td>0.911392</td>\n      <td>0.796313</td>\n    </tr>\n    <tr>\n      <th>5</th>\n      <td>Error Correction (Baran)</td>\n      <td>0.842105</td>\n      <td>0.219409</td>\n      <td>0.348117</td>\n    </tr>\n    <tr>\n      <th>6</th>\n      <td>Error Detection (Raha)</td>\n      <td>0.830000</td>\n      <td>0.787975</td>\n      <td>0.808442</td>\n    </tr>\n    <tr>\n      <th>7</th>\n      <td>Error Correction (Baran)</td>\n      <td>0.874644</td>\n      <td>0.323840</td>\n      <td>0.472671</td>\n    </tr>\n    <tr>\n      <th>8</th>\n      <td>Error Detection (Raha)</td>\n      <td>0.886986</td>\n      <td>0.273207</td>\n      <td>0.417742</td>\n    </tr>\n    <tr>\n      <th>9</th>\n      <td>Error Correction (Baran)</td>\n      <td>0.854701</td>\n      <td>0.105485</td>\n      <td>0.187793</td>\n    </tr>\n    <tr>\n      <th>10</th>\n      <td>Error Detection (Raha)</td>\n      <td>0.861714</td>\n      <td>0.795359</td>\n      <td>0.827208</td>\n    </tr>\n    <tr>\n      <th>11</th>\n      <td>Error Correction (Baran)</td>\n      <td>0.772152</td>\n      <td>0.257384</td>\n      <td>0.386076</td>\n    </tr>\n    <tr>\n      <th>12</th>\n      <td>Error Detection (Raha)</td>\n      <td>0.847896</td>\n      <td>0.829114</td>\n      <td>0.838400</td>\n    </tr>\n    <tr>\n      <th>13</th>\n      <td>Error Correction (Baran)</td>\n      <td>0.810409</td>\n      <td>0.229958</td>\n      <td>0.358258</td>\n    </tr>\n    <tr>\n      <th>14</th>\n      <td>Error Detection (Raha)</td>\n      <td>0.838415</td>\n      <td>0.580169</td>\n      <td>0.685786</td>\n    </tr>\n    <tr>\n      <th>15</th>\n      <td>Error Correction (Baran)</td>\n      <td>0.864407</td>\n      <td>0.268987</td>\n      <td>0.410298</td>\n    </tr>\n    <tr>\n      <th>16</th>\n      <td>Error Detection (Raha)</td>\n      <td>0.794471</td>\n      <td>0.697257</td>\n      <td>0.742697</td>\n    </tr>\n    <tr>\n      <th>17</th>\n      <td>Error Correction (Baran)</td>\n      <td>0.791809</td>\n      <td>0.244726</td>\n      <td>0.373892</td>\n    </tr>\n    <tr>\n      <th>18</th>\n      <td>Error Detection (Raha)</td>\n      <td>0.824369</td>\n      <td>0.792194</td>\n      <td>0.807961</td>\n    </tr>\n    <tr>\n      <th>19</th>\n      <td>Error Correction (Baran)</td>\n      <td>0.882096</td>\n      <td>0.213080</td>\n      <td>0.343246</td>\n    </tr>\n    <tr>\n      <th>20</th>\n      <td>Error Detection (Raha)</td>\n      <td>0.830861</td>\n      <td>0.590717</td>\n      <td>0.690506</td>\n    </tr>\n    <tr>\n      <th>21</th>\n      <td>Error Correction (Baran)</td>\n      <td>0.925676</td>\n      <td>0.289030</td>\n      <td>0.440514</td>\n    </tr>\n    <tr>\n      <th>22</th>\n      <td>Error Detection (Raha)</td>\n      <td>0.804511</td>\n      <td>0.902954</td>\n      <td>0.850895</td>\n    </tr>\n    <tr>\n      <th>23</th>\n      <td>Error Correction (Baran)</td>\n      <td>0.938830</td>\n      <td>0.372363</td>\n      <td>0.533233</td>\n    </tr>\n    <tr>\n      <th>24</th>\n      <td>Error Detection (Raha)</td>\n      <td>0.861017</td>\n      <td>0.803797</td>\n      <td>0.831424</td>\n    </tr>\n    <tr>\n      <th>25</th>\n      <td>Error Correction (Baran)</td>\n      <td>0.458333</td>\n      <td>0.174051</td>\n      <td>0.252294</td>\n    </tr>\n    <tr>\n      <th>26</th>\n      <td>Error Detection (Raha)</td>\n      <td>0.869936</td>\n      <td>0.860759</td>\n      <td>0.865323</td>\n    </tr>\n    <tr>\n      <th>27</th>\n      <td>Error Correction (Baran)</td>\n      <td>0.888563</td>\n      <td>0.319620</td>\n      <td>0.470132</td>\n    </tr>\n    <tr>\n      <th>28</th>\n      <td>Error Detection (Raha)</td>\n      <td>0.843468</td>\n      <td>0.790084</td>\n      <td>0.815904</td>\n    </tr>\n    <tr>\n      <th>29</th>\n      <td>Error Correction (Baran)</td>\n      <td>0.685654</td>\n      <td>0.342827</td>\n      <td>0.457103</td>\n    </tr>\n    <tr>\n      <th>30</th>\n      <td>Error Detection (Raha)</td>\n      <td>0.892715</td>\n      <td>0.710970</td>\n      <td>0.791544</td>\n    </tr>\n    <tr>\n      <th>31</th>\n      <td>Error Correction (Baran)</td>\n      <td>0.845395</td>\n      <td>0.271097</td>\n      <td>0.410543</td>\n    </tr>\n    <tr>\n      <th>32</th>\n      <td>Error Detection (Raha)</td>\n      <td>0.825953</td>\n      <td>0.845992</td>\n      <td>0.835852</td>\n    </tr>\n    <tr>\n      <th>33</th>\n      <td>Error Correction (Baran)</td>\n      <td>0.961538</td>\n      <td>0.237342</td>\n      <td>0.380711</td>\n    </tr>\n    <tr>\n      <th>34</th>\n      <td>Error Detection (Raha)</td>\n      <td>0.900119</td>\n      <td>0.798523</td>\n      <td>0.846283</td>\n    </tr>\n    <tr>\n      <th>35</th>\n      <td>Error Correction (Baran)</td>\n      <td>0.866667</td>\n      <td>0.178270</td>\n      <td>0.295713</td>\n    </tr>\n    <tr>\n      <th>36</th>\n      <td>Error Detection (Raha)</td>\n      <td>0.910714</td>\n      <td>0.430380</td>\n      <td>0.584527</td>\n    </tr>\n    <tr>\n      <th>37</th>\n      <td>Error Correction (Baran)</td>\n      <td>0.950192</td>\n      <td>0.261603</td>\n      <td>0.410256</td>\n    </tr>\n    <tr>\n      <th>38</th>\n      <td>Error Detection (Raha)</td>\n      <td>0.821689</td>\n      <td>0.831224</td>\n      <td>0.826429</td>\n    </tr>\n    <tr>\n      <th>39</th>\n      <td>Error Correction (Baran)</td>\n      <td>0.817021</td>\n      <td>0.202532</td>\n      <td>0.324598</td>\n    </tr>\n    <tr>\n      <th>40</th>\n      <td>Error Detection (Raha)</td>\n      <td>0.863962</td>\n      <td>0.763713</td>\n      <td>0.810750</td>\n    </tr>\n    <tr>\n      <th>41</th>\n      <td>Error Correction (Baran)</td>\n      <td>0.882006</td>\n      <td>0.315401</td>\n      <td>0.464646</td>\n    </tr>\n    <tr>\n      <th>42</th>\n      <td>Error Detection (Raha)</td>\n      <td>0.809926</td>\n      <td>0.809072</td>\n      <td>0.809499</td>\n    </tr>\n    <tr>\n      <th>43</th>\n      <td>Error Correction (Baran)</td>\n      <td>0.953846</td>\n      <td>0.261603</td>\n      <td>0.410596</td>\n    </tr>\n    <tr>\n      <th>44</th>\n      <td>Error Detection (Raha)</td>\n      <td>0.819083</td>\n      <td>0.697257</td>\n      <td>0.753276</td>\n    </tr>\n    <tr>\n      <th>45</th>\n      <td>Error Correction (Baran)</td>\n      <td>0.962382</td>\n      <td>0.323840</td>\n      <td>0.484609</td>\n    </tr>\n    <tr>\n      <th>46</th>\n      <td>Error Detection (Raha)</td>\n      <td>0.793804</td>\n      <td>0.864979</td>\n      <td>0.827865</td>\n    </tr>\n    <tr>\n      <th>47</th>\n      <td>Error Correction (Baran)</td>\n      <td>0.939683</td>\n      <td>0.312236</td>\n      <td>0.468725</td>\n    </tr>\n    <tr>\n      <th>48</th>\n      <td>Error Detection (Raha)</td>\n      <td>0.809257</td>\n      <td>0.608650</td>\n      <td>0.694762</td>\n    </tr>\n    <tr>\n      <th>49</th>\n      <td>Error Correction (Baran)</td>\n      <td>0.919444</td>\n      <td>0.349156</td>\n      <td>0.506116</td>\n    </tr>\n    <tr>\n      <th>50</th>\n      <td>Error Detection (Raha)</td>\n      <td>0.789150</td>\n      <td>0.813291</td>\n      <td>0.801039</td>\n    </tr>\n    <tr>\n      <th>51</th>\n      <td>Error Correction (Baran)</td>\n      <td>0.926154</td>\n      <td>0.317511</td>\n      <td>0.472899</td>\n    </tr>\n    <tr>\n      <th>52</th>\n      <td>Error Detection (Raha)</td>\n      <td>0.897243</td>\n      <td>0.755274</td>\n      <td>0.820160</td>\n    </tr>\n    <tr>\n      <th>53</th>\n      <td>Error Correction (Baran)</td>\n      <td>0.732143</td>\n      <td>0.129747</td>\n      <td>0.220430</td>\n    </tr>\n    <tr>\n      <th>54</th>\n      <td>Error Detection (Raha)</td>\n      <td>0.858586</td>\n      <td>0.806962</td>\n      <td>0.831974</td>\n    </tr>\n    <tr>\n      <th>55</th>\n      <td>Error Correction (Baran)</td>\n      <td>0.348718</td>\n      <td>0.143460</td>\n      <td>0.203288</td>\n    </tr>\n    <tr>\n      <th>56</th>\n      <td>Error Detection (Raha)</td>\n      <td>0.629630</td>\n      <td>0.914557</td>\n      <td>0.745806</td>\n    </tr>\n    <tr>\n      <th>57</th>\n      <td>Error Correction (Baran)</td>\n      <td>0.821970</td>\n      <td>0.228903</td>\n      <td>0.358086</td>\n    </tr>\n    <tr>\n      <th>58</th>\n      <td>Error Detection (Raha)</td>\n      <td>0.822928</td>\n      <td>0.764768</td>\n      <td>0.792783</td>\n    </tr>\n    <tr>\n      <th>59</th>\n      <td>Error Correction (Baran)</td>\n      <td>0.713235</td>\n      <td>0.102321</td>\n      <td>0.178967</td>\n    </tr>\n  </tbody>\n</table>\n</div>"
     },
     "metadata": {},
     "output_type": "display_data"
    },
    {
     "data": {
      "text/plain": "                         Precision                                  Recall  \\\n                              mean       std       min       max      mean   \nTask                                                                         \nError Correction (Baran)  0.835851  0.139896  0.348718  0.962382  0.251020   \nError Detection (Raha)    0.831350  0.057099  0.629630  0.910714  0.751723   \n\n                                                       F1 Score            \\\n                               std       min       max     mean       std   \nTask                                                                        \nError Correction (Baran)  0.072059  0.102321  0.372363  0.38177  0.096710   \nError Detection (Raha)    0.139359  0.273207  0.914557  0.77831  0.091016   \n\n                                              \n                               min       max  \nTask                                          \nError Correction (Baran)  0.178967  0.533233  \nError Detection (Raha)    0.417742  0.865323  ",
      "text/html": "<div>\n<style scoped>\n    .dataframe tbody tr th:only-of-type {\n        vertical-align: middle;\n    }\n\n    .dataframe tbody tr th {\n        vertical-align: top;\n    }\n\n    .dataframe thead tr th {\n        text-align: left;\n    }\n\n    .dataframe thead tr:last-of-type th {\n        text-align: right;\n    }\n</style>\n<table border=\"1\" class=\"dataframe\">\n  <thead>\n    <tr>\n      <th></th>\n      <th colspan=\"4\" halign=\"left\">Precision</th>\n      <th colspan=\"4\" halign=\"left\">Recall</th>\n      <th colspan=\"4\" halign=\"left\">F1 Score</th>\n    </tr>\n    <tr>\n      <th></th>\n      <th>mean</th>\n      <th>std</th>\n      <th>min</th>\n      <th>max</th>\n      <th>mean</th>\n      <th>std</th>\n      <th>min</th>\n      <th>max</th>\n      <th>mean</th>\n      <th>std</th>\n      <th>min</th>\n      <th>max</th>\n    </tr>\n    <tr>\n      <th>Task</th>\n      <th></th>\n      <th></th>\n      <th></th>\n      <th></th>\n      <th></th>\n      <th></th>\n      <th></th>\n      <th></th>\n      <th></th>\n      <th></th>\n      <th></th>\n      <th></th>\n    </tr>\n  </thead>\n  <tbody>\n    <tr>\n      <th>Error Correction (Baran)</th>\n      <td>0.835851</td>\n      <td>0.139896</td>\n      <td>0.348718</td>\n      <td>0.962382</td>\n      <td>0.251020</td>\n      <td>0.072059</td>\n      <td>0.102321</td>\n      <td>0.372363</td>\n      <td>0.38177</td>\n      <td>0.096710</td>\n      <td>0.178967</td>\n      <td>0.533233</td>\n    </tr>\n    <tr>\n      <th>Error Detection (Raha)</th>\n      <td>0.831350</td>\n      <td>0.057099</td>\n      <td>0.629630</td>\n      <td>0.910714</td>\n      <td>0.751723</td>\n      <td>0.139359</td>\n      <td>0.273207</td>\n      <td>0.914557</td>\n      <td>0.77831</td>\n      <td>0.091016</td>\n      <td>0.417742</td>\n      <td>0.865323</td>\n    </tr>\n  </tbody>\n</table>\n</div>"
     },
     "execution_count": 3,
     "metadata": {},
     "output_type": "execute_result"
    }
   ],
   "source": [
    "evaluation_df = pandas.DataFrame(columns=[\"Task\", \"Precision\", \"Recall\", \"F1 Score\"])\n",
    "\n",
    "for d in datasets:\n",
    "    edp, edr, edf = d.get_data_cleaning_evaluation(d.detected_cells)[:3]\n",
    "    ecp, ecr, ecf = d.get_data_cleaning_evaluation(d.corrected_cells)[-3:]\n",
    "\n",
    "    evaluation_df = evaluation_df.append({\"Task\": \"Error Detection (Raha)\", \"Precision\": edp,\n",
    "                                          \"Recall\": edr, \"F1 Score\": edf}, ignore_index=True)\n",
    "    evaluation_df = evaluation_df.append({\"Task\": \"Error Correction (Baran)\", \"Precision\": ecp,\n",
    "                                          \"Recall\": ecr, \"F1 Score\": ecf}, ignore_index=True)\n",
    "display(evaluation_df)\n",
    "\n",
    "evaluation_df.groupby(\"Task\").agg([\"mean\", \"std\", \"min\", \"max\"])"
   ]
  },
  {
   "cell_type": "markdown",
   "source": [
    "## Analyze the alternative repairs"
   ],
   "metadata": {
    "collapsed": false
   }
  },
  {
   "cell_type": "code",
   "execution_count": 4,
   "outputs": [
    {
     "data": {
      "text/plain": "       1     2    3    4    5    6    7    8    9    10   11   12   13\n0   249.0  12.0  0.0  0.0  0.0  0.0  0.0  0.0  0.0  0.0  0.0  0.0  0.0\n1   245.0   9.0  0.0  0.0  0.0  0.0  0.0  0.0  0.0  0.0  0.0  0.0  0.0\n2   220.0   1.0  0.0  0.0  0.0  0.0  0.0  0.0  0.0  0.0  0.0  0.0  0.0\n3   282.0  39.0  8.0  0.0  0.0  0.0  0.0  0.0  0.0  0.0  0.0  0.0  0.0\n4    87.0  18.0  0.0  0.0  0.0  0.0  0.0  0.0  0.0  0.0  0.0  0.0  0.0\n5   289.0   9.0  0.0  0.0  0.0  0.0  0.0  0.0  0.0  0.0  0.0  0.0  0.0\n6   235.0  14.0  0.0  0.0  0.0  0.0  0.0  0.0  0.0  0.0  0.0  0.0  0.0\n7   266.0   9.0  0.0  0.0  0.0  0.0  0.0  0.0  0.0  0.0  0.0  0.0  0.0\n8   262.0  11.0  0.0  0.0  0.0  0.0  0.0  0.0  0.0  0.0  0.0  0.0  0.0\n9   192.0  10.0  0.0  0.0  0.0  0.0  0.0  0.0  0.0  0.0  0.0  0.0  0.0\n10  257.0  19.0  0.0  0.0  0.0  0.0  0.0  0.0  0.0  0.0  0.0  0.0  0.0\n11  341.0   9.0  0.0  0.0  0.0  0.0  0.0  0.0  0.0  0.0  0.0  0.0  0.0\n12  284.0  58.0  0.0  0.0  0.0  0.0  0.0  0.0  0.0  0.0  0.0  0.0  0.0\n13  303.0  17.0  1.0  0.0  0.0  0.0  0.0  0.0  0.0  0.0  0.0  0.0  0.0\n14  374.0  74.0  1.0  1.0  0.0  0.0  0.0  2.0  0.0  1.0  0.0  0.0  0.0\n15  262.0  27.0  0.0  0.0  0.0  0.0  0.0  0.0  0.0  0.0  0.0  0.0  0.0\n16  212.0   1.0  0.0  0.0  0.0  0.0  0.0  0.0  0.0  0.0  0.0  0.0  0.0\n17  165.0   5.0  0.0  0.0  0.0  0.0  0.0  0.0  1.0  0.0  0.0  0.0  0.0\n18  234.0   8.0  0.0  0.0  0.0  0.0  0.0  0.0  0.0  0.0  0.0  0.0  0.0\n19  205.0   7.0  0.0  0.0  0.0  0.0  0.0  0.0  0.0  0.0  0.0  0.0  0.0\n20  304.0  16.0  0.0  0.0  0.0  0.0  0.0  0.0  0.0  0.0  0.0  0.0  0.0\n21  221.0  21.0  0.0  0.0  0.0  0.0  0.0  0.0  0.0  0.0  0.0  0.0  0.0\n22  299.0   4.0  0.0  0.0  0.0  0.0  0.0  0.0  0.0  0.0  0.0  0.0  0.0\n23  286.0   7.0  0.0  0.0  0.0  0.0  0.0  0.0  0.0  0.0  0.0  0.0  0.0\n24  331.0  11.0  0.0  0.0  0.0  0.0  0.0  0.0  0.0  0.0  0.0  0.0  0.0\n25  292.0   7.0  0.0  0.0  0.0  0.0  0.0  0.0  0.0  0.0  0.0  0.0  0.0\n26  146.0   7.0  0.0  0.0  0.0  0.0  0.0  0.0  0.0  0.0  0.0  0.0  0.0\n27  301.0  63.0  0.0  0.0  0.0  0.0  0.0  0.0  0.0  0.0  0.0  0.0  1.0\n28  237.0   2.0  0.0  0.0  0.0  0.0  0.0  0.0  0.0  0.0  0.0  0.0  0.0\n29  101.0  13.0  5.0  0.0  0.0  0.0  0.0  0.0  0.0  0.0  0.0  0.0  0.0",
      "text/html": "<div>\n<style scoped>\n    .dataframe tbody tr th:only-of-type {\n        vertical-align: middle;\n    }\n\n    .dataframe tbody tr th {\n        vertical-align: top;\n    }\n\n    .dataframe thead th {\n        text-align: right;\n    }\n</style>\n<table border=\"1\" class=\"dataframe\">\n  <thead>\n    <tr style=\"text-align: right;\">\n      <th></th>\n      <th>1</th>\n      <th>2</th>\n      <th>3</th>\n      <th>4</th>\n      <th>5</th>\n      <th>6</th>\n      <th>7</th>\n      <th>8</th>\n      <th>9</th>\n      <th>10</th>\n      <th>11</th>\n      <th>12</th>\n      <th>13</th>\n    </tr>\n  </thead>\n  <tbody>\n    <tr>\n      <th>0</th>\n      <td>249.0</td>\n      <td>12.0</td>\n      <td>0.0</td>\n      <td>0.0</td>\n      <td>0.0</td>\n      <td>0.0</td>\n      <td>0.0</td>\n      <td>0.0</td>\n      <td>0.0</td>\n      <td>0.0</td>\n      <td>0.0</td>\n      <td>0.0</td>\n      <td>0.0</td>\n    </tr>\n    <tr>\n      <th>1</th>\n      <td>245.0</td>\n      <td>9.0</td>\n      <td>0.0</td>\n      <td>0.0</td>\n      <td>0.0</td>\n      <td>0.0</td>\n      <td>0.0</td>\n      <td>0.0</td>\n      <td>0.0</td>\n      <td>0.0</td>\n      <td>0.0</td>\n      <td>0.0</td>\n      <td>0.0</td>\n    </tr>\n    <tr>\n      <th>2</th>\n      <td>220.0</td>\n      <td>1.0</td>\n      <td>0.0</td>\n      <td>0.0</td>\n      <td>0.0</td>\n      <td>0.0</td>\n      <td>0.0</td>\n      <td>0.0</td>\n      <td>0.0</td>\n      <td>0.0</td>\n      <td>0.0</td>\n      <td>0.0</td>\n      <td>0.0</td>\n    </tr>\n    <tr>\n      <th>3</th>\n      <td>282.0</td>\n      <td>39.0</td>\n      <td>8.0</td>\n      <td>0.0</td>\n      <td>0.0</td>\n      <td>0.0</td>\n      <td>0.0</td>\n      <td>0.0</td>\n      <td>0.0</td>\n      <td>0.0</td>\n      <td>0.0</td>\n      <td>0.0</td>\n      <td>0.0</td>\n    </tr>\n    <tr>\n      <th>4</th>\n      <td>87.0</td>\n      <td>18.0</td>\n      <td>0.0</td>\n      <td>0.0</td>\n      <td>0.0</td>\n      <td>0.0</td>\n      <td>0.0</td>\n      <td>0.0</td>\n      <td>0.0</td>\n      <td>0.0</td>\n      <td>0.0</td>\n      <td>0.0</td>\n      <td>0.0</td>\n    </tr>\n    <tr>\n      <th>5</th>\n      <td>289.0</td>\n      <td>9.0</td>\n      <td>0.0</td>\n      <td>0.0</td>\n      <td>0.0</td>\n      <td>0.0</td>\n      <td>0.0</td>\n      <td>0.0</td>\n      <td>0.0</td>\n      <td>0.0</td>\n      <td>0.0</td>\n      <td>0.0</td>\n      <td>0.0</td>\n    </tr>\n    <tr>\n      <th>6</th>\n      <td>235.0</td>\n      <td>14.0</td>\n      <td>0.0</td>\n      <td>0.0</td>\n      <td>0.0</td>\n      <td>0.0</td>\n      <td>0.0</td>\n      <td>0.0</td>\n      <td>0.0</td>\n      <td>0.0</td>\n      <td>0.0</td>\n      <td>0.0</td>\n      <td>0.0</td>\n    </tr>\n    <tr>\n      <th>7</th>\n      <td>266.0</td>\n      <td>9.0</td>\n      <td>0.0</td>\n      <td>0.0</td>\n      <td>0.0</td>\n      <td>0.0</td>\n      <td>0.0</td>\n      <td>0.0</td>\n      <td>0.0</td>\n      <td>0.0</td>\n      <td>0.0</td>\n      <td>0.0</td>\n      <td>0.0</td>\n    </tr>\n    <tr>\n      <th>8</th>\n      <td>262.0</td>\n      <td>11.0</td>\n      <td>0.0</td>\n      <td>0.0</td>\n      <td>0.0</td>\n      <td>0.0</td>\n      <td>0.0</td>\n      <td>0.0</td>\n      <td>0.0</td>\n      <td>0.0</td>\n      <td>0.0</td>\n      <td>0.0</td>\n      <td>0.0</td>\n    </tr>\n    <tr>\n      <th>9</th>\n      <td>192.0</td>\n      <td>10.0</td>\n      <td>0.0</td>\n      <td>0.0</td>\n      <td>0.0</td>\n      <td>0.0</td>\n      <td>0.0</td>\n      <td>0.0</td>\n      <td>0.0</td>\n      <td>0.0</td>\n      <td>0.0</td>\n      <td>0.0</td>\n      <td>0.0</td>\n    </tr>\n    <tr>\n      <th>10</th>\n      <td>257.0</td>\n      <td>19.0</td>\n      <td>0.0</td>\n      <td>0.0</td>\n      <td>0.0</td>\n      <td>0.0</td>\n      <td>0.0</td>\n      <td>0.0</td>\n      <td>0.0</td>\n      <td>0.0</td>\n      <td>0.0</td>\n      <td>0.0</td>\n      <td>0.0</td>\n    </tr>\n    <tr>\n      <th>11</th>\n      <td>341.0</td>\n      <td>9.0</td>\n      <td>0.0</td>\n      <td>0.0</td>\n      <td>0.0</td>\n      <td>0.0</td>\n      <td>0.0</td>\n      <td>0.0</td>\n      <td>0.0</td>\n      <td>0.0</td>\n      <td>0.0</td>\n      <td>0.0</td>\n      <td>0.0</td>\n    </tr>\n    <tr>\n      <th>12</th>\n      <td>284.0</td>\n      <td>58.0</td>\n      <td>0.0</td>\n      <td>0.0</td>\n      <td>0.0</td>\n      <td>0.0</td>\n      <td>0.0</td>\n      <td>0.0</td>\n      <td>0.0</td>\n      <td>0.0</td>\n      <td>0.0</td>\n      <td>0.0</td>\n      <td>0.0</td>\n    </tr>\n    <tr>\n      <th>13</th>\n      <td>303.0</td>\n      <td>17.0</td>\n      <td>1.0</td>\n      <td>0.0</td>\n      <td>0.0</td>\n      <td>0.0</td>\n      <td>0.0</td>\n      <td>0.0</td>\n      <td>0.0</td>\n      <td>0.0</td>\n      <td>0.0</td>\n      <td>0.0</td>\n      <td>0.0</td>\n    </tr>\n    <tr>\n      <th>14</th>\n      <td>374.0</td>\n      <td>74.0</td>\n      <td>1.0</td>\n      <td>1.0</td>\n      <td>0.0</td>\n      <td>0.0</td>\n      <td>0.0</td>\n      <td>2.0</td>\n      <td>0.0</td>\n      <td>1.0</td>\n      <td>0.0</td>\n      <td>0.0</td>\n      <td>0.0</td>\n    </tr>\n    <tr>\n      <th>15</th>\n      <td>262.0</td>\n      <td>27.0</td>\n      <td>0.0</td>\n      <td>0.0</td>\n      <td>0.0</td>\n      <td>0.0</td>\n      <td>0.0</td>\n      <td>0.0</td>\n      <td>0.0</td>\n      <td>0.0</td>\n      <td>0.0</td>\n      <td>0.0</td>\n      <td>0.0</td>\n    </tr>\n    <tr>\n      <th>16</th>\n      <td>212.0</td>\n      <td>1.0</td>\n      <td>0.0</td>\n      <td>0.0</td>\n      <td>0.0</td>\n      <td>0.0</td>\n      <td>0.0</td>\n      <td>0.0</td>\n      <td>0.0</td>\n      <td>0.0</td>\n      <td>0.0</td>\n      <td>0.0</td>\n      <td>0.0</td>\n    </tr>\n    <tr>\n      <th>17</th>\n      <td>165.0</td>\n      <td>5.0</td>\n      <td>0.0</td>\n      <td>0.0</td>\n      <td>0.0</td>\n      <td>0.0</td>\n      <td>0.0</td>\n      <td>0.0</td>\n      <td>1.0</td>\n      <td>0.0</td>\n      <td>0.0</td>\n      <td>0.0</td>\n      <td>0.0</td>\n    </tr>\n    <tr>\n      <th>18</th>\n      <td>234.0</td>\n      <td>8.0</td>\n      <td>0.0</td>\n      <td>0.0</td>\n      <td>0.0</td>\n      <td>0.0</td>\n      <td>0.0</td>\n      <td>0.0</td>\n      <td>0.0</td>\n      <td>0.0</td>\n      <td>0.0</td>\n      <td>0.0</td>\n      <td>0.0</td>\n    </tr>\n    <tr>\n      <th>19</th>\n      <td>205.0</td>\n      <td>7.0</td>\n      <td>0.0</td>\n      <td>0.0</td>\n      <td>0.0</td>\n      <td>0.0</td>\n      <td>0.0</td>\n      <td>0.0</td>\n      <td>0.0</td>\n      <td>0.0</td>\n      <td>0.0</td>\n      <td>0.0</td>\n      <td>0.0</td>\n    </tr>\n    <tr>\n      <th>20</th>\n      <td>304.0</td>\n      <td>16.0</td>\n      <td>0.0</td>\n      <td>0.0</td>\n      <td>0.0</td>\n      <td>0.0</td>\n      <td>0.0</td>\n      <td>0.0</td>\n      <td>0.0</td>\n      <td>0.0</td>\n      <td>0.0</td>\n      <td>0.0</td>\n      <td>0.0</td>\n    </tr>\n    <tr>\n      <th>21</th>\n      <td>221.0</td>\n      <td>21.0</td>\n      <td>0.0</td>\n      <td>0.0</td>\n      <td>0.0</td>\n      <td>0.0</td>\n      <td>0.0</td>\n      <td>0.0</td>\n      <td>0.0</td>\n      <td>0.0</td>\n      <td>0.0</td>\n      <td>0.0</td>\n      <td>0.0</td>\n    </tr>\n    <tr>\n      <th>22</th>\n      <td>299.0</td>\n      <td>4.0</td>\n      <td>0.0</td>\n      <td>0.0</td>\n      <td>0.0</td>\n      <td>0.0</td>\n      <td>0.0</td>\n      <td>0.0</td>\n      <td>0.0</td>\n      <td>0.0</td>\n      <td>0.0</td>\n      <td>0.0</td>\n      <td>0.0</td>\n    </tr>\n    <tr>\n      <th>23</th>\n      <td>286.0</td>\n      <td>7.0</td>\n      <td>0.0</td>\n      <td>0.0</td>\n      <td>0.0</td>\n      <td>0.0</td>\n      <td>0.0</td>\n      <td>0.0</td>\n      <td>0.0</td>\n      <td>0.0</td>\n      <td>0.0</td>\n      <td>0.0</td>\n      <td>0.0</td>\n    </tr>\n    <tr>\n      <th>24</th>\n      <td>331.0</td>\n      <td>11.0</td>\n      <td>0.0</td>\n      <td>0.0</td>\n      <td>0.0</td>\n      <td>0.0</td>\n      <td>0.0</td>\n      <td>0.0</td>\n      <td>0.0</td>\n      <td>0.0</td>\n      <td>0.0</td>\n      <td>0.0</td>\n      <td>0.0</td>\n    </tr>\n    <tr>\n      <th>25</th>\n      <td>292.0</td>\n      <td>7.0</td>\n      <td>0.0</td>\n      <td>0.0</td>\n      <td>0.0</td>\n      <td>0.0</td>\n      <td>0.0</td>\n      <td>0.0</td>\n      <td>0.0</td>\n      <td>0.0</td>\n      <td>0.0</td>\n      <td>0.0</td>\n      <td>0.0</td>\n    </tr>\n    <tr>\n      <th>26</th>\n      <td>146.0</td>\n      <td>7.0</td>\n      <td>0.0</td>\n      <td>0.0</td>\n      <td>0.0</td>\n      <td>0.0</td>\n      <td>0.0</td>\n      <td>0.0</td>\n      <td>0.0</td>\n      <td>0.0</td>\n      <td>0.0</td>\n      <td>0.0</td>\n      <td>0.0</td>\n    </tr>\n    <tr>\n      <th>27</th>\n      <td>301.0</td>\n      <td>63.0</td>\n      <td>0.0</td>\n      <td>0.0</td>\n      <td>0.0</td>\n      <td>0.0</td>\n      <td>0.0</td>\n      <td>0.0</td>\n      <td>0.0</td>\n      <td>0.0</td>\n      <td>0.0</td>\n      <td>0.0</td>\n      <td>1.0</td>\n    </tr>\n    <tr>\n      <th>28</th>\n      <td>237.0</td>\n      <td>2.0</td>\n      <td>0.0</td>\n      <td>0.0</td>\n      <td>0.0</td>\n      <td>0.0</td>\n      <td>0.0</td>\n      <td>0.0</td>\n      <td>0.0</td>\n      <td>0.0</td>\n      <td>0.0</td>\n      <td>0.0</td>\n      <td>0.0</td>\n    </tr>\n    <tr>\n      <th>29</th>\n      <td>101.0</td>\n      <td>13.0</td>\n      <td>5.0</td>\n      <td>0.0</td>\n      <td>0.0</td>\n      <td>0.0</td>\n      <td>0.0</td>\n      <td>0.0</td>\n      <td>0.0</td>\n      <td>0.0</td>\n      <td>0.0</td>\n      <td>0.0</td>\n      <td>0.0</td>\n    </tr>\n  </tbody>\n</table>\n</div>"
     },
     "execution_count": 4,
     "metadata": {},
     "output_type": "execute_result"
    }
   ],
   "source": [
    "alternative_count_list = []\n",
    "\n",
    "for d in datasets:\n",
    "    number_of_repairs = len(d.correction_collection)\n",
    "    number_of_repairs_hist = dict()\n",
    "\n",
    "    for cell_repairs in d.correction_collection.values():\n",
    "        num = len(cell_repairs)\n",
    "        number_of_repairs_hist[num] = number_of_repairs_hist.get(num, 0) + 1\n",
    "\n",
    "    hist = [0] * (max(number_of_repairs_hist.keys()) + 1)\n",
    "    for num, count in number_of_repairs_hist.items():\n",
    "        hist[num] = count\n",
    "\n",
    "    alternative_count_list.append(number_of_repairs_hist)\n",
    "\n",
    "    #print(f\"Histogram of the number of alternative repairs: {list(enumerate(hist))}\")\n",
    "\n",
    "max_alternatives = max(max(h.keys()) for h in alternative_count_list)\n",
    "\n",
    "alternative_count_df = pandas.DataFrame(columns=list(range(max_alternatives + 1)))\n",
    "\n",
    "for hist in alternative_count_list:\n",
    "    alternative_count_df = alternative_count_df.append(hist, ignore_index=True)\n",
    "\n",
    "alternative_count_df.drop(0,axis=1,inplace=True)\n",
    "alternative_count_df = alternative_count_df.fillna(0)\n",
    "alternative_count_df"
   ],
   "metadata": {
    "collapsed": false,
    "pycharm": {
     "name": "#%%\n"
    }
   }
  },
  {
   "cell_type": "code",
   "execution_count": 5,
   "outputs": [
    {
     "data": {
      "text/plain": "mean    1.070151\nstd     0.064723\nmin     1.004525\nmax     1.225166\ndtype: float64"
     },
     "execution_count": 5,
     "metadata": {},
     "output_type": "execute_result"
    }
   ],
   "source": [
    "mean_number_of_repairs = (alternative_count_df * np.arange(1,max_alternatives+1,1)).sum(axis=1) / alternative_count_df.sum(axis=1)\n",
    "mean_number_of_repairs.agg([\"mean\", \"std\", \"min\", \"max\"])"
   ],
   "metadata": {
    "collapsed": false,
    "pycharm": {
     "name": "#%%\n"
    }
   }
  },
  {
   "cell_type": "code",
   "execution_count": 6,
   "outputs": [
    {
     "data": {
      "text/plain": "mean    0.063775\nstd     0.055217\nmin     0.004525\nmax     0.175342\ndtype: float64"
     },
     "execution_count": 6,
     "metadata": {},
     "output_type": "execute_result"
    }
   ],
   "source": [
    "more_than_one = alternative_count_df.loc[:, alternative_count_df.columns[1:]].sum(axis=1) / alternative_count_df.sum(axis=1)\n",
    "more_than_one.agg([\"mean\", \"std\", \"min\", \"max\"])"
   ],
   "metadata": {
    "collapsed": false,
    "pycharm": {
     "name": "#%%\n"
    }
   }
  },
  {
   "cell_type": "code",
   "execution_count": 7,
   "outputs": [
    {
     "name": "stdout",
     "output_type": "stream",
     "text": [
      "Mean number of cells with x predicted alternatives in 10 runs\n"
     ]
    },
    {
     "data": {
      "text/plain": "1     249.400000\n2      16.933333\n3       0.500000\n4       0.033333\n5       0.000000\n6       0.000000\n7       0.000000\n8       0.066667\n9       0.033333\n10      0.033333\n11      0.000000\n12      0.000000\n13      0.033333\ndtype: float64"
     },
     "execution_count": 7,
     "metadata": {},
     "output_type": "execute_result"
    }
   ],
   "source": [
    "print(\"Mean number of cells with x predicted alternatives in 10 runs\")\n",
    "mean_count_series = alternative_count_df.mean()\n",
    "mean_count_series"
   ],
   "metadata": {
    "collapsed": false,
    "pycharm": {
     "name": "#%%\n"
    }
   }
  },
  {
   "cell_type": "code",
   "execution_count": 8,
   "outputs": [
    {
     "data": {
      "text/plain": "          repairs    alt_all   alt_rate      errors  error_rate  \\\ncount   30.000000  30.000000  30.000000   30.000000   30.000000   \nmean   267.033333  17.266667   0.062235   38.866667    0.128665   \nstd     74.679768  18.693413   0.053363   48.354106    0.124429   \nmin    105.000000   1.000000   0.004525    7.000000    0.021944   \n25%    225.500000   7.000000   0.027444   16.250000    0.051093   \n50%    274.000000  10.000000   0.043022   25.500000    0.095277   \n75%    315.750000  17.750000   0.082293   37.000000    0.134730   \nmax    453.000000  75.000000   0.172603  232.000000    0.594872   \n\n       wrong_detection  alt_if_error  correct_in_alt  highest_alternative  \\\ncount        30.000000     30.000000       30.000000            30.000000   \nmean         10.433333      8.833333        7.300000             7.133333   \nstd          10.047073     14.056741       14.239697            14.124406   \nmin           1.000000      0.000000        0.000000             0.000000   \n25%           4.250000      2.250000        0.000000             0.000000   \n50%           7.500000      5.000000        3.000000             3.000000   \n75%          11.000000      8.500000        6.000000             6.000000   \nmax          46.000000     62.000000       62.000000            62.000000   \n\n       only_alternative  higher_chosen  error_alt_avail  correct_alt_avail  \\\ncount         30.000000           30.0        30.000000          30.000000   \nmean           7.133333            0.0         0.215856           0.169183   \nstd           14.124406            0.0         0.203930           0.197407   \nmin            0.000000            0.0         0.000000           0.000000   \n25%            0.000000            0.0         0.055939           0.000000   \n50%            3.000000            0.0         0.189744           0.093172   \n75%            6.000000            0.0         0.309106           0.296429   \nmax           62.000000            0.0         0.764706           0.705882   \n\n       highest_if_avail  only_if_avail  highest_if_error  highest_is_correct  \\\ncount         18.000000      18.000000         30.000000           30.000000   \nmean           0.982474       0.982474          0.164289            0.314037   \nstd            0.052231       0.052231          0.189615            0.305695   \nmin            0.809524       0.809524          0.000000            0.000000   \n25%            1.000000       1.000000          0.000000            0.000000   \n50%            1.000000       1.000000          0.093172            0.375296   \n75%            1.000000       1.000000          0.291810            0.541667   \nmax            1.000000       1.000000          0.705882            0.984127   \n\n       higher_percentage  \ncount               30.0  \nmean                 0.0  \nstd                  0.0  \nmin                  0.0  \n25%                  0.0  \n50%                  0.0  \n75%                  0.0  \nmax                  0.0  ",
      "text/html": "<div>\n<style scoped>\n    .dataframe tbody tr th:only-of-type {\n        vertical-align: middle;\n    }\n\n    .dataframe tbody tr th {\n        vertical-align: top;\n    }\n\n    .dataframe thead th {\n        text-align: right;\n    }\n</style>\n<table border=\"1\" class=\"dataframe\">\n  <thead>\n    <tr style=\"text-align: right;\">\n      <th></th>\n      <th>repairs</th>\n      <th>alt_all</th>\n      <th>alt_rate</th>\n      <th>errors</th>\n      <th>error_rate</th>\n      <th>wrong_detection</th>\n      <th>alt_if_error</th>\n      <th>correct_in_alt</th>\n      <th>highest_alternative</th>\n      <th>only_alternative</th>\n      <th>higher_chosen</th>\n      <th>error_alt_avail</th>\n      <th>correct_alt_avail</th>\n      <th>highest_if_avail</th>\n      <th>only_if_avail</th>\n      <th>highest_if_error</th>\n      <th>highest_is_correct</th>\n      <th>higher_percentage</th>\n    </tr>\n  </thead>\n  <tbody>\n    <tr>\n      <th>count</th>\n      <td>30.000000</td>\n      <td>30.000000</td>\n      <td>30.000000</td>\n      <td>30.000000</td>\n      <td>30.000000</td>\n      <td>30.000000</td>\n      <td>30.000000</td>\n      <td>30.000000</td>\n      <td>30.000000</td>\n      <td>30.000000</td>\n      <td>30.0</td>\n      <td>30.000000</td>\n      <td>30.000000</td>\n      <td>18.000000</td>\n      <td>18.000000</td>\n      <td>30.000000</td>\n      <td>30.000000</td>\n      <td>30.0</td>\n    </tr>\n    <tr>\n      <th>mean</th>\n      <td>267.033333</td>\n      <td>17.266667</td>\n      <td>0.062235</td>\n      <td>38.866667</td>\n      <td>0.128665</td>\n      <td>10.433333</td>\n      <td>8.833333</td>\n      <td>7.300000</td>\n      <td>7.133333</td>\n      <td>7.133333</td>\n      <td>0.0</td>\n      <td>0.215856</td>\n      <td>0.169183</td>\n      <td>0.982474</td>\n      <td>0.982474</td>\n      <td>0.164289</td>\n      <td>0.314037</td>\n      <td>0.0</td>\n    </tr>\n    <tr>\n      <th>std</th>\n      <td>74.679768</td>\n      <td>18.693413</td>\n      <td>0.053363</td>\n      <td>48.354106</td>\n      <td>0.124429</td>\n      <td>10.047073</td>\n      <td>14.056741</td>\n      <td>14.239697</td>\n      <td>14.124406</td>\n      <td>14.124406</td>\n      <td>0.0</td>\n      <td>0.203930</td>\n      <td>0.197407</td>\n      <td>0.052231</td>\n      <td>0.052231</td>\n      <td>0.189615</td>\n      <td>0.305695</td>\n      <td>0.0</td>\n    </tr>\n    <tr>\n      <th>min</th>\n      <td>105.000000</td>\n      <td>1.000000</td>\n      <td>0.004525</td>\n      <td>7.000000</td>\n      <td>0.021944</td>\n      <td>1.000000</td>\n      <td>0.000000</td>\n      <td>0.000000</td>\n      <td>0.000000</td>\n      <td>0.000000</td>\n      <td>0.0</td>\n      <td>0.000000</td>\n      <td>0.000000</td>\n      <td>0.809524</td>\n      <td>0.809524</td>\n      <td>0.000000</td>\n      <td>0.000000</td>\n      <td>0.0</td>\n    </tr>\n    <tr>\n      <th>25%</th>\n      <td>225.500000</td>\n      <td>7.000000</td>\n      <td>0.027444</td>\n      <td>16.250000</td>\n      <td>0.051093</td>\n      <td>4.250000</td>\n      <td>2.250000</td>\n      <td>0.000000</td>\n      <td>0.000000</td>\n      <td>0.000000</td>\n      <td>0.0</td>\n      <td>0.055939</td>\n      <td>0.000000</td>\n      <td>1.000000</td>\n      <td>1.000000</td>\n      <td>0.000000</td>\n      <td>0.000000</td>\n      <td>0.0</td>\n    </tr>\n    <tr>\n      <th>50%</th>\n      <td>274.000000</td>\n      <td>10.000000</td>\n      <td>0.043022</td>\n      <td>25.500000</td>\n      <td>0.095277</td>\n      <td>7.500000</td>\n      <td>5.000000</td>\n      <td>3.000000</td>\n      <td>3.000000</td>\n      <td>3.000000</td>\n      <td>0.0</td>\n      <td>0.189744</td>\n      <td>0.093172</td>\n      <td>1.000000</td>\n      <td>1.000000</td>\n      <td>0.093172</td>\n      <td>0.375296</td>\n      <td>0.0</td>\n    </tr>\n    <tr>\n      <th>75%</th>\n      <td>315.750000</td>\n      <td>17.750000</td>\n      <td>0.082293</td>\n      <td>37.000000</td>\n      <td>0.134730</td>\n      <td>11.000000</td>\n      <td>8.500000</td>\n      <td>6.000000</td>\n      <td>6.000000</td>\n      <td>6.000000</td>\n      <td>0.0</td>\n      <td>0.309106</td>\n      <td>0.296429</td>\n      <td>1.000000</td>\n      <td>1.000000</td>\n      <td>0.291810</td>\n      <td>0.541667</td>\n      <td>0.0</td>\n    </tr>\n    <tr>\n      <th>max</th>\n      <td>453.000000</td>\n      <td>75.000000</td>\n      <td>0.172603</td>\n      <td>232.000000</td>\n      <td>0.594872</td>\n      <td>46.000000</td>\n      <td>62.000000</td>\n      <td>62.000000</td>\n      <td>62.000000</td>\n      <td>62.000000</td>\n      <td>0.0</td>\n      <td>0.764706</td>\n      <td>0.705882</td>\n      <td>1.000000</td>\n      <td>1.000000</td>\n      <td>0.705882</td>\n      <td>0.984127</td>\n      <td>0.0</td>\n    </tr>\n  </tbody>\n</table>\n</div>"
     },
     "execution_count": 8,
     "metadata": {},
     "output_type": "execute_result"
    }
   ],
   "source": [
    "correct_repairs = datasets[0].get_actual_errors_dictionary()\n",
    "\n",
    "collection = []\n",
    "correct_repair_probs = []\n",
    "incorrect_repair_probs = []\n",
    "other_repair_probs = []\n",
    "\n",
    "for d in datasets:\n",
    "\n",
    "    wrong_detection = 0\n",
    "    alt_available_all = 0\n",
    "\n",
    "    for cell, repairs in d.correction_collection.items():\n",
    "        if cell in correct_repairs:\n",
    "            if len(repairs) > 1:\n",
    "                alt_available_all += 1\n",
    "        else:\n",
    "            wrong_detection += 1\n",
    "\n",
    "    alt_rate = alt_available_all / len(d.correction_collection)\n",
    "\n",
    "    error_repaired_cells = [cell for cell, correction in d.corrected_cells.items() if cell in correct_repairs and correction != correct_repairs[cell]]\n",
    "    #print(f\"Number of incorrectly repaired cells: {len(error_repaired_cells)}\")\n",
    "\n",
    "    error_rate = len(error_repaired_cells) / len(d.corrected_cells)\n",
    "    alt_available = 0\n",
    "    correct_repair_available = 0\n",
    "    correct_repair_only = 0\n",
    "    correct_repair_highest = 0\n",
    "    correct_repair_better_chosen = 0\n",
    "\n",
    "    for cell in error_repaired_cells:\n",
    "        assert len(d.correction_collection[cell]) > 0\n",
    "        if len(d.correction_collection[cell]) > 1:\n",
    "            alt_available += 1\n",
    "        if correct_repairs[cell] in d.correction_collection[cell].keys():\n",
    "            correct_repair_available += 1\n",
    "            other_repairs = d.correction_collection[cell].copy()\n",
    "            other_repairs.pop(d.corrected_cells[cell], None)\n",
    "            other_repairs.pop(correct_repairs[cell], None)\n",
    "            if len(other_repairs) == 0:\n",
    "                correct_repair_only += 1\n",
    "            if d.correction_collection[cell][correct_repairs[cell]] > max(list(other_repairs.values()) + [0]):\n",
    "                correct_repair_highest += 1\n",
    "                if d.correction_collection[cell][correct_repairs[cell]] > d.correction_collection[cell][d.corrected_cells[cell]]:\n",
    "                    correct_repair_better_chosen += 1\n",
    "\n",
    "    #print(f\"Number of incorrectly repaired cells, where the correct repair is among the alternative repairs: {correct_repair_available}\")\n",
    "\n",
    "    collection.append((len(d.correction_collection),\n",
    "                       alt_available_all,\n",
    "                       alt_rate,\n",
    "                       len(error_repaired_cells),\n",
    "                       error_rate,\n",
    "                       wrong_detection,\n",
    "                       alt_available,\n",
    "                       correct_repair_available,\n",
    "                       correct_repair_highest,\n",
    "                       correct_repair_only,\n",
    "                       correct_repair_better_chosen))\n",
    "\n",
    "    for cell in error_repaired_cells:\n",
    "        if correct_repairs[cell] in d.correction_collection[cell]:\n",
    "            correct_repair_probs.append(d.correction_collection[cell][correct_repairs[cell]])\n",
    "            incorrect_repair_probs.append(d.correction_confidences[cell])\n",
    "            other_repair_probs.append([prob for val, prob in d.correction_collection[cell].items()\n",
    "                                       if val not in [correct_repairs[cell], d.corrected_cells[cell]]])\n",
    "\n",
    "repairable_df = pandas.DataFrame(collection, columns=[\"repairs\",\n",
    "                                                      \"alt_all\",\n",
    "                                                      \"alt_rate\",\n",
    "                                                      \"errors\",\n",
    "                                                      \"error_rate\",\n",
    "                                                      \"wrong_detection\",\n",
    "                                                      \"alt_if_error\",\n",
    "                                                      \"correct_in_alt\",\n",
    "                                                      \"highest_alternative\",\n",
    "                                                      \"only_alternative\",\n",
    "                                                      \"higher_chosen\"])\n",
    "\n",
    "repairable_df[\"error_alt_avail\"] = repairable_df[\"alt_if_error\"] / repairable_df[\"errors\"]\n",
    "repairable_df[\"correct_alt_avail\"] = repairable_df[\"correct_in_alt\"] / repairable_df[\"errors\"]\n",
    "repairable_df[\"highest_if_avail\"] = repairable_df[\"highest_alternative\"] / repairable_df[\"correct_in_alt\"]\n",
    "repairable_df[\"only_if_avail\"] = repairable_df[\"only_alternative\"] / repairable_df[\"correct_in_alt\"]\n",
    "repairable_df[\"highest_if_error\"] = repairable_df[\"highest_alternative\"] / repairable_df[\"errors\"]\n",
    "repairable_df[\"highest_is_correct\"] = repairable_df[\"highest_alternative\"] / repairable_df[\"alt_all\"]\n",
    "repairable_df[\"higher_percentage\"] = repairable_df[\"higher_chosen\"] / repairable_df[\"errors\"]\n",
    "repairable_df.describe(percentiles=[0.25, 0.5, 0.75])"
   ],
   "metadata": {
    "collapsed": false,
    "pycharm": {
     "name": "#%%\n"
    }
   }
  },
  {
   "cell_type": "code",
   "execution_count": 9,
   "outputs": [
    {
     "data": {
      "text/plain": "    repairs  alt_all  alt_rate  errors  error_rate  wrong_detection  \\\n0       261       12  0.045977       8    0.028674                3   \n1       254        9  0.035433      29    0.107407                2   \n2       221        1  0.004525      23    0.093117               16   \n3       329       47  0.142857      36    0.102564                8   \n4       105       18  0.171429      14    0.119658                3   \n5       298        8  0.026846      64    0.202532                8   \n6       249       14  0.056225      37    0.137546               14   \n7       275        9  0.032727      33    0.111864                7   \n8       273       11  0.040293      37    0.126280               24   \n9       202       10  0.049505      20    0.087336                7   \n10      276       19  0.068841      17    0.057432                5   \n11      350        9  0.025714      19    0.050532                4   \n12      342       58  0.169591     167    0.463889               28   \n13      321       17  0.052960      30    0.087977                8   \n14      453       75  0.165563     103    0.217300               46   \n15      289       27  0.093426      38    0.125000                9   \n16      213        1  0.004695       8    0.034188                1   \n17      171        6  0.035088      19    0.097436                7   \n18      242        8  0.033058      12    0.045977                1   \n19      212        7  0.033019      39    0.165957                4   \n20      320       16  0.050000      29    0.085546               11   \n21      242       21  0.086777      10    0.038462                2   \n22      303        4  0.013201       7    0.021944                5   \n23      293        7  0.023891      14    0.044444                5   \n24      342       10  0.029240      19    0.052778               10   \n25      299        7  0.023411      16    0.049231                8   \n26      153        7  0.045752      39    0.232143                6   \n27      365       63  0.172603     232    0.594872               22   \n28      239        2  0.008368      19    0.071970               28   \n29      119       15  0.126050      28    0.205882               11   \n\n    alt_if_error  correct_in_alt  highest_alternative  only_alternative  \\\n0              0               0                    0                 0   \n1              9               5                    5                 5   \n2              0               0                    0                 0   \n3             25              21                   17                17   \n4              7               7                    7                 7   \n5              5               0                    0                 0   \n6              3               3                    3                 3   \n7              4               0                    0                 0   \n8              9               5                    5                 5   \n9              6               6                    6                 6   \n10            13              12                   12                12   \n11             6               6                    6                 6   \n12            51              51                   51                51   \n13             3               0                    0                 0   \n14             5               0                    0                 0   \n15             4               4                    4                 4   \n16             0               0                    0                 0   \n17             4               3                    3                 3   \n18             5               5                    5                 5   \n19             7               3                    3                 3   \n20            11              11                   11                11   \n21             2               0                    0                 0   \n22             0               0                    0                 0   \n23             0               0                    0                 0   \n24             4               4                    4                 4   \n25             0               0                    0                 0   \n26             7               3                    3                 3   \n27            62              62                   62                62   \n28             0               0                    0                 0   \n29            13               8                    7                 7   \n\n    higher_chosen  error_alt_avail  correct_alt_avail  highest_if_avail  \\\n0               0         0.000000           0.000000               NaN   \n1               0         0.310345           0.172414          1.000000   \n2               0         0.000000           0.000000               NaN   \n3               0         0.694444           0.583333          0.809524   \n4               0         0.500000           0.500000          1.000000   \n5               0         0.078125           0.000000               NaN   \n6               0         0.081081           0.081081          1.000000   \n7               0         0.121212           0.000000               NaN   \n8               0         0.243243           0.135135          1.000000   \n9               0         0.300000           0.300000          1.000000   \n10              0         0.764706           0.705882          1.000000   \n11              0         0.315789           0.315789          1.000000   \n12              0         0.305389           0.305389          1.000000   \n13              0         0.100000           0.000000               NaN   \n14              0         0.048544           0.000000               NaN   \n15              0         0.105263           0.105263          1.000000   \n16              0         0.000000           0.000000               NaN   \n17              0         0.210526           0.157895          1.000000   \n18              0         0.416667           0.416667          1.000000   \n19              0         0.179487           0.076923          1.000000   \n20              0         0.379310           0.379310          1.000000   \n21              0         0.200000           0.000000               NaN   \n22              0         0.000000           0.000000               NaN   \n23              0         0.000000           0.000000               NaN   \n24              0         0.210526           0.210526          1.000000   \n25              0         0.000000           0.000000               NaN   \n26              0         0.179487           0.076923          1.000000   \n27              0         0.267241           0.267241          1.000000   \n28              0         0.000000           0.000000               NaN   \n29              0         0.464286           0.285714          0.875000   \n\n    only_if_avail  highest_if_error  highest_is_correct  higher_percentage  \n0             NaN          0.000000            0.000000                0.0  \n1        1.000000          0.172414            0.555556                0.0  \n2             NaN          0.000000            0.000000                0.0  \n3        0.809524          0.472222            0.361702                0.0  \n4        1.000000          0.500000            0.388889                0.0  \n5             NaN          0.000000            0.000000                0.0  \n6        1.000000          0.081081            0.214286                0.0  \n7             NaN          0.000000            0.000000                0.0  \n8        1.000000          0.135135            0.454545                0.0  \n9        1.000000          0.300000            0.600000                0.0  \n10       1.000000          0.705882            0.631579                0.0  \n11       1.000000          0.315789            0.666667                0.0  \n12       1.000000          0.305389            0.879310                0.0  \n13            NaN          0.000000            0.000000                0.0  \n14            NaN          0.000000            0.000000                0.0  \n15       1.000000          0.105263            0.148148                0.0  \n16            NaN          0.000000            0.000000                0.0  \n17       1.000000          0.157895            0.500000                0.0  \n18       1.000000          0.416667            0.625000                0.0  \n19       1.000000          0.076923            0.428571                0.0  \n20       1.000000          0.379310            0.687500                0.0  \n21            NaN          0.000000            0.000000                0.0  \n22            NaN          0.000000            0.000000                0.0  \n23            NaN          0.000000            0.000000                0.0  \n24       1.000000          0.210526            0.400000                0.0  \n25            NaN          0.000000            0.000000                0.0  \n26       1.000000          0.076923            0.428571                0.0  \n27       1.000000          0.267241            0.984127                0.0  \n28            NaN          0.000000            0.000000                0.0  \n29       0.875000          0.250000            0.466667                0.0  ",
      "text/html": "<div>\n<style scoped>\n    .dataframe tbody tr th:only-of-type {\n        vertical-align: middle;\n    }\n\n    .dataframe tbody tr th {\n        vertical-align: top;\n    }\n\n    .dataframe thead th {\n        text-align: right;\n    }\n</style>\n<table border=\"1\" class=\"dataframe\">\n  <thead>\n    <tr style=\"text-align: right;\">\n      <th></th>\n      <th>repairs</th>\n      <th>alt_all</th>\n      <th>alt_rate</th>\n      <th>errors</th>\n      <th>error_rate</th>\n      <th>wrong_detection</th>\n      <th>alt_if_error</th>\n      <th>correct_in_alt</th>\n      <th>highest_alternative</th>\n      <th>only_alternative</th>\n      <th>higher_chosen</th>\n      <th>error_alt_avail</th>\n      <th>correct_alt_avail</th>\n      <th>highest_if_avail</th>\n      <th>only_if_avail</th>\n      <th>highest_if_error</th>\n      <th>highest_is_correct</th>\n      <th>higher_percentage</th>\n    </tr>\n  </thead>\n  <tbody>\n    <tr>\n      <th>0</th>\n      <td>261</td>\n      <td>12</td>\n      <td>0.045977</td>\n      <td>8</td>\n      <td>0.028674</td>\n      <td>3</td>\n      <td>0</td>\n      <td>0</td>\n      <td>0</td>\n      <td>0</td>\n      <td>0</td>\n      <td>0.000000</td>\n      <td>0.000000</td>\n      <td>NaN</td>\n      <td>NaN</td>\n      <td>0.000000</td>\n      <td>0.000000</td>\n      <td>0.0</td>\n    </tr>\n    <tr>\n      <th>1</th>\n      <td>254</td>\n      <td>9</td>\n      <td>0.035433</td>\n      <td>29</td>\n      <td>0.107407</td>\n      <td>2</td>\n      <td>9</td>\n      <td>5</td>\n      <td>5</td>\n      <td>5</td>\n      <td>0</td>\n      <td>0.310345</td>\n      <td>0.172414</td>\n      <td>1.000000</td>\n      <td>1.000000</td>\n      <td>0.172414</td>\n      <td>0.555556</td>\n      <td>0.0</td>\n    </tr>\n    <tr>\n      <th>2</th>\n      <td>221</td>\n      <td>1</td>\n      <td>0.004525</td>\n      <td>23</td>\n      <td>0.093117</td>\n      <td>16</td>\n      <td>0</td>\n      <td>0</td>\n      <td>0</td>\n      <td>0</td>\n      <td>0</td>\n      <td>0.000000</td>\n      <td>0.000000</td>\n      <td>NaN</td>\n      <td>NaN</td>\n      <td>0.000000</td>\n      <td>0.000000</td>\n      <td>0.0</td>\n    </tr>\n    <tr>\n      <th>3</th>\n      <td>329</td>\n      <td>47</td>\n      <td>0.142857</td>\n      <td>36</td>\n      <td>0.102564</td>\n      <td>8</td>\n      <td>25</td>\n      <td>21</td>\n      <td>17</td>\n      <td>17</td>\n      <td>0</td>\n      <td>0.694444</td>\n      <td>0.583333</td>\n      <td>0.809524</td>\n      <td>0.809524</td>\n      <td>0.472222</td>\n      <td>0.361702</td>\n      <td>0.0</td>\n    </tr>\n    <tr>\n      <th>4</th>\n      <td>105</td>\n      <td>18</td>\n      <td>0.171429</td>\n      <td>14</td>\n      <td>0.119658</td>\n      <td>3</td>\n      <td>7</td>\n      <td>7</td>\n      <td>7</td>\n      <td>7</td>\n      <td>0</td>\n      <td>0.500000</td>\n      <td>0.500000</td>\n      <td>1.000000</td>\n      <td>1.000000</td>\n      <td>0.500000</td>\n      <td>0.388889</td>\n      <td>0.0</td>\n    </tr>\n    <tr>\n      <th>5</th>\n      <td>298</td>\n      <td>8</td>\n      <td>0.026846</td>\n      <td>64</td>\n      <td>0.202532</td>\n      <td>8</td>\n      <td>5</td>\n      <td>0</td>\n      <td>0</td>\n      <td>0</td>\n      <td>0</td>\n      <td>0.078125</td>\n      <td>0.000000</td>\n      <td>NaN</td>\n      <td>NaN</td>\n      <td>0.000000</td>\n      <td>0.000000</td>\n      <td>0.0</td>\n    </tr>\n    <tr>\n      <th>6</th>\n      <td>249</td>\n      <td>14</td>\n      <td>0.056225</td>\n      <td>37</td>\n      <td>0.137546</td>\n      <td>14</td>\n      <td>3</td>\n      <td>3</td>\n      <td>3</td>\n      <td>3</td>\n      <td>0</td>\n      <td>0.081081</td>\n      <td>0.081081</td>\n      <td>1.000000</td>\n      <td>1.000000</td>\n      <td>0.081081</td>\n      <td>0.214286</td>\n      <td>0.0</td>\n    </tr>\n    <tr>\n      <th>7</th>\n      <td>275</td>\n      <td>9</td>\n      <td>0.032727</td>\n      <td>33</td>\n      <td>0.111864</td>\n      <td>7</td>\n      <td>4</td>\n      <td>0</td>\n      <td>0</td>\n      <td>0</td>\n      <td>0</td>\n      <td>0.121212</td>\n      <td>0.000000</td>\n      <td>NaN</td>\n      <td>NaN</td>\n      <td>0.000000</td>\n      <td>0.000000</td>\n      <td>0.0</td>\n    </tr>\n    <tr>\n      <th>8</th>\n      <td>273</td>\n      <td>11</td>\n      <td>0.040293</td>\n      <td>37</td>\n      <td>0.126280</td>\n      <td>24</td>\n      <td>9</td>\n      <td>5</td>\n      <td>5</td>\n      <td>5</td>\n      <td>0</td>\n      <td>0.243243</td>\n      <td>0.135135</td>\n      <td>1.000000</td>\n      <td>1.000000</td>\n      <td>0.135135</td>\n      <td>0.454545</td>\n      <td>0.0</td>\n    </tr>\n    <tr>\n      <th>9</th>\n      <td>202</td>\n      <td>10</td>\n      <td>0.049505</td>\n      <td>20</td>\n      <td>0.087336</td>\n      <td>7</td>\n      <td>6</td>\n      <td>6</td>\n      <td>6</td>\n      <td>6</td>\n      <td>0</td>\n      <td>0.300000</td>\n      <td>0.300000</td>\n      <td>1.000000</td>\n      <td>1.000000</td>\n      <td>0.300000</td>\n      <td>0.600000</td>\n      <td>0.0</td>\n    </tr>\n    <tr>\n      <th>10</th>\n      <td>276</td>\n      <td>19</td>\n      <td>0.068841</td>\n      <td>17</td>\n      <td>0.057432</td>\n      <td>5</td>\n      <td>13</td>\n      <td>12</td>\n      <td>12</td>\n      <td>12</td>\n      <td>0</td>\n      <td>0.764706</td>\n      <td>0.705882</td>\n      <td>1.000000</td>\n      <td>1.000000</td>\n      <td>0.705882</td>\n      <td>0.631579</td>\n      <td>0.0</td>\n    </tr>\n    <tr>\n      <th>11</th>\n      <td>350</td>\n      <td>9</td>\n      <td>0.025714</td>\n      <td>19</td>\n      <td>0.050532</td>\n      <td>4</td>\n      <td>6</td>\n      <td>6</td>\n      <td>6</td>\n      <td>6</td>\n      <td>0</td>\n      <td>0.315789</td>\n      <td>0.315789</td>\n      <td>1.000000</td>\n      <td>1.000000</td>\n      <td>0.315789</td>\n      <td>0.666667</td>\n      <td>0.0</td>\n    </tr>\n    <tr>\n      <th>12</th>\n      <td>342</td>\n      <td>58</td>\n      <td>0.169591</td>\n      <td>167</td>\n      <td>0.463889</td>\n      <td>28</td>\n      <td>51</td>\n      <td>51</td>\n      <td>51</td>\n      <td>51</td>\n      <td>0</td>\n      <td>0.305389</td>\n      <td>0.305389</td>\n      <td>1.000000</td>\n      <td>1.000000</td>\n      <td>0.305389</td>\n      <td>0.879310</td>\n      <td>0.0</td>\n    </tr>\n    <tr>\n      <th>13</th>\n      <td>321</td>\n      <td>17</td>\n      <td>0.052960</td>\n      <td>30</td>\n      <td>0.087977</td>\n      <td>8</td>\n      <td>3</td>\n      <td>0</td>\n      <td>0</td>\n      <td>0</td>\n      <td>0</td>\n      <td>0.100000</td>\n      <td>0.000000</td>\n      <td>NaN</td>\n      <td>NaN</td>\n      <td>0.000000</td>\n      <td>0.000000</td>\n      <td>0.0</td>\n    </tr>\n    <tr>\n      <th>14</th>\n      <td>453</td>\n      <td>75</td>\n      <td>0.165563</td>\n      <td>103</td>\n      <td>0.217300</td>\n      <td>46</td>\n      <td>5</td>\n      <td>0</td>\n      <td>0</td>\n      <td>0</td>\n      <td>0</td>\n      <td>0.048544</td>\n      <td>0.000000</td>\n      <td>NaN</td>\n      <td>NaN</td>\n      <td>0.000000</td>\n      <td>0.000000</td>\n      <td>0.0</td>\n    </tr>\n    <tr>\n      <th>15</th>\n      <td>289</td>\n      <td>27</td>\n      <td>0.093426</td>\n      <td>38</td>\n      <td>0.125000</td>\n      <td>9</td>\n      <td>4</td>\n      <td>4</td>\n      <td>4</td>\n      <td>4</td>\n      <td>0</td>\n      <td>0.105263</td>\n      <td>0.105263</td>\n      <td>1.000000</td>\n      <td>1.000000</td>\n      <td>0.105263</td>\n      <td>0.148148</td>\n      <td>0.0</td>\n    </tr>\n    <tr>\n      <th>16</th>\n      <td>213</td>\n      <td>1</td>\n      <td>0.004695</td>\n      <td>8</td>\n      <td>0.034188</td>\n      <td>1</td>\n      <td>0</td>\n      <td>0</td>\n      <td>0</td>\n      <td>0</td>\n      <td>0</td>\n      <td>0.000000</td>\n      <td>0.000000</td>\n      <td>NaN</td>\n      <td>NaN</td>\n      <td>0.000000</td>\n      <td>0.000000</td>\n      <td>0.0</td>\n    </tr>\n    <tr>\n      <th>17</th>\n      <td>171</td>\n      <td>6</td>\n      <td>0.035088</td>\n      <td>19</td>\n      <td>0.097436</td>\n      <td>7</td>\n      <td>4</td>\n      <td>3</td>\n      <td>3</td>\n      <td>3</td>\n      <td>0</td>\n      <td>0.210526</td>\n      <td>0.157895</td>\n      <td>1.000000</td>\n      <td>1.000000</td>\n      <td>0.157895</td>\n      <td>0.500000</td>\n      <td>0.0</td>\n    </tr>\n    <tr>\n      <th>18</th>\n      <td>242</td>\n      <td>8</td>\n      <td>0.033058</td>\n      <td>12</td>\n      <td>0.045977</td>\n      <td>1</td>\n      <td>5</td>\n      <td>5</td>\n      <td>5</td>\n      <td>5</td>\n      <td>0</td>\n      <td>0.416667</td>\n      <td>0.416667</td>\n      <td>1.000000</td>\n      <td>1.000000</td>\n      <td>0.416667</td>\n      <td>0.625000</td>\n      <td>0.0</td>\n    </tr>\n    <tr>\n      <th>19</th>\n      <td>212</td>\n      <td>7</td>\n      <td>0.033019</td>\n      <td>39</td>\n      <td>0.165957</td>\n      <td>4</td>\n      <td>7</td>\n      <td>3</td>\n      <td>3</td>\n      <td>3</td>\n      <td>0</td>\n      <td>0.179487</td>\n      <td>0.076923</td>\n      <td>1.000000</td>\n      <td>1.000000</td>\n      <td>0.076923</td>\n      <td>0.428571</td>\n      <td>0.0</td>\n    </tr>\n    <tr>\n      <th>20</th>\n      <td>320</td>\n      <td>16</td>\n      <td>0.050000</td>\n      <td>29</td>\n      <td>0.085546</td>\n      <td>11</td>\n      <td>11</td>\n      <td>11</td>\n      <td>11</td>\n      <td>11</td>\n      <td>0</td>\n      <td>0.379310</td>\n      <td>0.379310</td>\n      <td>1.000000</td>\n      <td>1.000000</td>\n      <td>0.379310</td>\n      <td>0.687500</td>\n      <td>0.0</td>\n    </tr>\n    <tr>\n      <th>21</th>\n      <td>242</td>\n      <td>21</td>\n      <td>0.086777</td>\n      <td>10</td>\n      <td>0.038462</td>\n      <td>2</td>\n      <td>2</td>\n      <td>0</td>\n      <td>0</td>\n      <td>0</td>\n      <td>0</td>\n      <td>0.200000</td>\n      <td>0.000000</td>\n      <td>NaN</td>\n      <td>NaN</td>\n      <td>0.000000</td>\n      <td>0.000000</td>\n      <td>0.0</td>\n    </tr>\n    <tr>\n      <th>22</th>\n      <td>303</td>\n      <td>4</td>\n      <td>0.013201</td>\n      <td>7</td>\n      <td>0.021944</td>\n      <td>5</td>\n      <td>0</td>\n      <td>0</td>\n      <td>0</td>\n      <td>0</td>\n      <td>0</td>\n      <td>0.000000</td>\n      <td>0.000000</td>\n      <td>NaN</td>\n      <td>NaN</td>\n      <td>0.000000</td>\n      <td>0.000000</td>\n      <td>0.0</td>\n    </tr>\n    <tr>\n      <th>23</th>\n      <td>293</td>\n      <td>7</td>\n      <td>0.023891</td>\n      <td>14</td>\n      <td>0.044444</td>\n      <td>5</td>\n      <td>0</td>\n      <td>0</td>\n      <td>0</td>\n      <td>0</td>\n      <td>0</td>\n      <td>0.000000</td>\n      <td>0.000000</td>\n      <td>NaN</td>\n      <td>NaN</td>\n      <td>0.000000</td>\n      <td>0.000000</td>\n      <td>0.0</td>\n    </tr>\n    <tr>\n      <th>24</th>\n      <td>342</td>\n      <td>10</td>\n      <td>0.029240</td>\n      <td>19</td>\n      <td>0.052778</td>\n      <td>10</td>\n      <td>4</td>\n      <td>4</td>\n      <td>4</td>\n      <td>4</td>\n      <td>0</td>\n      <td>0.210526</td>\n      <td>0.210526</td>\n      <td>1.000000</td>\n      <td>1.000000</td>\n      <td>0.210526</td>\n      <td>0.400000</td>\n      <td>0.0</td>\n    </tr>\n    <tr>\n      <th>25</th>\n      <td>299</td>\n      <td>7</td>\n      <td>0.023411</td>\n      <td>16</td>\n      <td>0.049231</td>\n      <td>8</td>\n      <td>0</td>\n      <td>0</td>\n      <td>0</td>\n      <td>0</td>\n      <td>0</td>\n      <td>0.000000</td>\n      <td>0.000000</td>\n      <td>NaN</td>\n      <td>NaN</td>\n      <td>0.000000</td>\n      <td>0.000000</td>\n      <td>0.0</td>\n    </tr>\n    <tr>\n      <th>26</th>\n      <td>153</td>\n      <td>7</td>\n      <td>0.045752</td>\n      <td>39</td>\n      <td>0.232143</td>\n      <td>6</td>\n      <td>7</td>\n      <td>3</td>\n      <td>3</td>\n      <td>3</td>\n      <td>0</td>\n      <td>0.179487</td>\n      <td>0.076923</td>\n      <td>1.000000</td>\n      <td>1.000000</td>\n      <td>0.076923</td>\n      <td>0.428571</td>\n      <td>0.0</td>\n    </tr>\n    <tr>\n      <th>27</th>\n      <td>365</td>\n      <td>63</td>\n      <td>0.172603</td>\n      <td>232</td>\n      <td>0.594872</td>\n      <td>22</td>\n      <td>62</td>\n      <td>62</td>\n      <td>62</td>\n      <td>62</td>\n      <td>0</td>\n      <td>0.267241</td>\n      <td>0.267241</td>\n      <td>1.000000</td>\n      <td>1.000000</td>\n      <td>0.267241</td>\n      <td>0.984127</td>\n      <td>0.0</td>\n    </tr>\n    <tr>\n      <th>28</th>\n      <td>239</td>\n      <td>2</td>\n      <td>0.008368</td>\n      <td>19</td>\n      <td>0.071970</td>\n      <td>28</td>\n      <td>0</td>\n      <td>0</td>\n      <td>0</td>\n      <td>0</td>\n      <td>0</td>\n      <td>0.000000</td>\n      <td>0.000000</td>\n      <td>NaN</td>\n      <td>NaN</td>\n      <td>0.000000</td>\n      <td>0.000000</td>\n      <td>0.0</td>\n    </tr>\n    <tr>\n      <th>29</th>\n      <td>119</td>\n      <td>15</td>\n      <td>0.126050</td>\n      <td>28</td>\n      <td>0.205882</td>\n      <td>11</td>\n      <td>13</td>\n      <td>8</td>\n      <td>7</td>\n      <td>7</td>\n      <td>0</td>\n      <td>0.464286</td>\n      <td>0.285714</td>\n      <td>0.875000</td>\n      <td>0.875000</td>\n      <td>0.250000</td>\n      <td>0.466667</td>\n      <td>0.0</td>\n    </tr>\n  </tbody>\n</table>\n</div>"
     },
     "execution_count": 9,
     "metadata": {},
     "output_type": "execute_result"
    }
   ],
   "source": [
    "repairable_df"
   ],
   "metadata": {
    "collapsed": false,
    "pycharm": {
     "name": "#%%\n"
    }
   }
  },
  {
   "cell_type": "markdown",
   "source": [
    "## Analyze detection confidence vs error probability"
   ],
   "metadata": {
    "collapsed": false,
    "pycharm": {
     "name": "#%% md\n"
    }
   }
  },
  {
   "cell_type": "code",
   "execution_count": 26,
   "outputs": [],
   "source": [
    "import importlib\n",
    "from raha import analysis_utilities\n",
    "import matplotlib.pyplot as plt\n",
    "plt.style.use('ggplot')\n",
    "plt.ion()"
   ],
   "metadata": {
    "collapsed": false,
    "pycharm": {
     "name": "#%%\n"
    }
   }
  },
  {
   "cell_type": "code",
   "execution_count": 72,
   "outputs": [
    {
     "data": {
      "text/plain": "<module 'raha.analysis_utilities' from '/home/adrian/source/MA/raha/raha/analysis_utilities.py'>"
     },
     "execution_count": 72,
     "metadata": {},
     "output_type": "execute_result"
    }
   ],
   "source": [
    "importlib.reload(analysis_utilities)"
   ],
   "metadata": {
    "collapsed": false,
    "pycharm": {
     "name": "#%%\n"
    }
   }
  },
  {
   "cell_type": "code",
   "execution_count": 28,
   "outputs": [],
   "source": [
    "evaluation_dfs = []\n",
    "\n",
    "for d in datasets:\n",
    "    df = analysis_utilities.get_detection_evaluation_df(d)\n",
    "    evaluation_dfs.append(df)\n",
    "    #display(df)\n",
    "    #display(df.value_counts(subset=[\"detected\", \"truth\"]))\n",
    "    #display(analysis_utilities.detection_evaluation(df))\n",
    "    #display(analysis_utilities.detection_correctness_by_confidence(df,number_of_bins=10))\n",
    "\n",
    "df = pandas.concat(evaluation_dfs)"
   ],
   "metadata": {
    "collapsed": false,
    "pycharm": {
     "name": "#%%\n"
    }
   }
  },
  {
   "cell_type": "code",
   "execution_count": 56,
   "outputs": [
    {
     "data": {
      "text/plain": "<Figure size 864x576 with 4 Axes>",
      "image/png": "[encoded data removed]"
     },
     "execution_count": 56,
     "metadata": {},
     "output_type": "execute_result"
    }
   ],
   "source": [
    "analysis_utilities.detection_evaluation(df, sharey=\"row\", number_of_bins=100)"
   ],
   "metadata": {
    "collapsed": false,
    "pycharm": {
     "name": "#%%\n"
    }
   }
  },
  {
   "cell_type": "code",
   "source": [
    "1 - ((df[\"p\"] < 0.01) | (df[\"p\"] > 0.99)).sum() / len(df.index)"
   ],
   "metadata": {
    "collapsed": false,
    "pycharm": {
     "name": "#%%\n"
    }
   },
   "execution_count": 30,
   "outputs": [
    {
     "data": {
      "text/plain": "0.020166666666666666"
     },
     "execution_count": 30,
     "metadata": {},
     "output_type": "execute_result"
    }
   ]
  },
  {
   "cell_type": "code",
   "metadata": {
    "pycharm": {
     "name": "#%%\n"
    }
   },
   "source": [
    "1 - ((df[\"p\"] < 0.05) | (df[\"p\"] > 0.95)).sum() / len(df.index)"
   ],
   "execution_count": 31,
   "outputs": [
    {
     "data": {
      "text/plain": "0.011003030303030292"
     },
     "execution_count": 31,
     "metadata": {},
     "output_type": "execute_result"
    }
   ]
  },
  {
   "cell_type": "code",
   "execution_count": 73,
   "metadata": {
    "pycharm": {
     "name": "#%%\n"
    }
   },
   "outputs": [],
   "source": [
    "analysis_utilities.detection_evaluation(df, sharey=\"row\",number_of_bins=100).savefig(\"rayyan_detection_split.pdf\", dpi=600)"
   ]
  },
  {
   "cell_type": "code",
   "execution_count": 74,
   "outputs": [],
   "source": [
    "analysis_utilities.detection_evaluation_without_grouping(df,number_of_bins=100).savefig(\"rayyan_detection_overview.pdf\", dpi=600)"
   ],
   "metadata": {
    "collapsed": false,
    "pycharm": {
     "name": "#%%\n"
    }
   }
  },
  {
   "cell_type": "code",
   "execution_count": 34,
   "outputs": [
    {
     "data": {
      "text/plain": "0.8526833769029679"
     },
     "execution_count": 34,
     "metadata": {},
     "output_type": "execute_result"
    }
   ],
   "source": [
    "(df[\"p\"] >= 0.99).sum() / (df[\"p\"] >= 0.5).sum()"
   ],
   "metadata": {
    "collapsed": false,
    "pycharm": {
     "name": "#%%\n"
    }
   }
  },
  {
   "cell_type": "markdown",
   "source": [
    "## Analyze confidence vs error probability"
   ],
   "metadata": {
    "collapsed": false
   }
  },
  {
   "cell_type": "code",
   "execution_count": 35,
   "outputs": [],
   "source": [
    "r_p_dfs = []\n",
    "\n",
    "for d in datasets:\n",
    "\n",
    "    r_p_dfs.append(analysis_utilities.get_correction_confidence_df(d))\n",
    "\n",
    "r_p_df = pandas.concat(r_p_dfs)"
   ],
   "metadata": {
    "collapsed": false,
    "pycharm": {
     "name": "#%%\n"
    }
   }
  },
  {
   "cell_type": "code",
   "execution_count": 57,
   "outputs": [
    {
     "data": {
      "text/plain": "<Figure size 864x576 with 1 Axes>",
      "image/png": "[encoded data removed]"
     },
     "execution_count": 57,
     "metadata": {},
     "output_type": "execute_result"
    }
   ],
   "source": [
    "analysis_utilities.correction_confidence_distribution(r_p_df, number_of_bins=100)"
   ],
   "metadata": {
    "collapsed": false,
    "pycharm": {
     "name": "#%%\n"
    }
   }
  },
  {
   "cell_type": "code",
   "execution_count": 37,
   "outputs": [
    {
     "data": {
      "text/plain": "0.9738918542585286"
     },
     "execution_count": 37,
     "metadata": {},
     "output_type": "execute_result"
    }
   ],
   "source": [
    "(r_p_df[\"confidence\"] >= 0.99).sum() / len(r_p_df.index)"
   ],
   "metadata": {
    "collapsed": false,
    "pycharm": {
     "name": "#%%\n"
    }
   }
  },
  {
   "cell_type": "code",
   "execution_count": 42,
   "outputs": [
    {
     "data": {
      "text/plain": "0.9738918542585286"
     },
     "execution_count": 42,
     "metadata": {},
     "output_type": "execute_result"
    }
   ],
   "source": [
    "(r_p_df[\"confidence\"] >= 0.95).sum() / len(r_p_df.index)"
   ],
   "metadata": {
    "collapsed": false,
    "pycharm": {
     "name": "#%%\n"
    }
   }
  },
  {
   "cell_type": "code",
   "execution_count": 38,
   "outputs": [
    {
     "data": {
      "text/plain": "0.9009584664536742"
     },
     "execution_count": 38,
     "metadata": {},
     "output_type": "execute_result"
    }
   ],
   "source": [
    "((r_p_df[\"confidence\"] >= 0.99) & (r_p_df[\"detection_correct\"] == False)).sum() / (r_p_df[\"detection_correct\"] == False).sum()"
   ],
   "metadata": {
    "collapsed": false,
    "pycharm": {
     "name": "#%%\n"
    }
   }
  },
  {
   "cell_type": "code",
   "execution_count": 39,
   "outputs": [
    {
     "data": {
      "text/plain": "0.9766405779650813"
     },
     "execution_count": 39,
     "metadata": {},
     "output_type": "execute_result"
    }
   ],
   "source": [
    "((r_p_df[\"confidence\"] >= 0.99) & (r_p_df[\"detection_correct\"] == True)).sum() / (r_p_df[\"detection_correct\"] == True).sum()"
   ],
   "metadata": {
    "collapsed": false,
    "pycharm": {
     "name": "#%%\n"
    }
   }
  },
  {
   "cell_type": "code",
   "execution_count": 58,
   "outputs": [
    {
     "data": {
      "text/plain": "<Figure size 864x576 with 2 Axes>",
      "image/png": "[encoded data removed]"
     },
     "execution_count": 58,
     "metadata": {},
     "output_type": "execute_result"
    }
   ],
   "source": [
    "analysis_utilities.correction_confidence_distributions(r_p_df, number_of_bins=100)"
   ],
   "metadata": {
    "collapsed": false,
    "pycharm": {
     "name": "#%%\n"
    }
   }
  },
  {
   "cell_type": "code",
   "execution_count": 75,
   "outputs": [],
   "source": [
    "analysis_utilities.correction_confidence_distribution(r_p_df, number_of_bins=100).savefig(\"rayyan_correction_overview.pdf\")\n",
    "analysis_utilities.correction_confidence_distributions(r_p_df, number_of_bins=100).savefig(\"rayyan_correction_split.pdf\")"
   ],
   "metadata": {
    "collapsed": false,
    "pycharm": {
     "name": "#%%\n"
    }
   }
  },
  {
   "cell_type": "code",
   "execution_count": null,
   "outputs": [],
   "source": [],
   "metadata": {
    "collapsed": false,
    "pycharm": {
     "name": "#%%\n"
    }
   }
  }
 ],
 "metadata": {
  "kernelspec": {
   "display_name": "Python 3",
   "language": "python",
   "name": "python3"
  },
  "language_info": {
   "codemirror_mode": {
    "name": "ipython",
    "version": 3
   },
   "file_extension": ".py",
   "mimetype": "text/x-python",
   "name": "python",
   "nbconvert_exporter": "python",
   "pygments_lexer": "ipython3",
   "version": "3.8.5"
  }
 },
 "nbformat": 4,
 "nbformat_minor": 4
}
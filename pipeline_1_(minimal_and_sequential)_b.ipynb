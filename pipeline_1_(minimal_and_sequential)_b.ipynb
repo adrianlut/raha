{
 "cells": [
  {
   "cell_type": "markdown",
   "metadata": {},
   "source": [
    "# End-to-End Data Cleaning Pipeline with Raha and Baran (Minimal and Sequential)\n",
    "We build an end-to-end data cleaning pipeline with our configuration-free error detection and correction systems, Raha and Baran."
   ]
  },
  {
   "cell_type": "code",
   "execution_count": 1,
   "metadata": {},
   "outputs": [],
   "source": [
    "import pandas\n",
    "import IPython.display\n",
    "from pandas import DataFrame, Series\n",
    "import pickle\n",
    "import raha\n",
    "import numpy as np\n",
    "import matplotlib.pyplot as plt"
   ]
  },
  {
   "cell_type": "markdown",
   "metadata": {},
   "source": [
    "## Error Detection with Raha"
   ]
  },
  {
   "cell_type": "markdown",
   "metadata": {},
   "source": [
    "### 1. Instantiating the Detection Class\n",
    "We first instantiate the `Detection` class."
   ]
  },
  {
   "cell_type": "code",
   "execution_count": 2,
   "metadata": {},
   "outputs": [],
   "source": [
    "app_1 = raha.Detection()\n",
    "\n",
    "# How many tuples would you label?\n",
    "app_1.LABELING_BUDGET = 20\n",
    "\n",
    "# Would you like to see the logs?\n",
    "app_1.VERBOSE = True"
   ]
  },
  {
   "cell_type": "markdown",
   "metadata": {},
   "source": [
    "### 2. Instantiating the Dataset\n",
    "We next load and instantiate the dataset object."
   ]
  },
  {
   "cell_type": "code",
   "execution_count": 3,
   "metadata": {},
   "outputs": [
    {
     "data": {
      "text/plain": "  tuple_id src           flight sched_dep_time act_dep_time sched_arr_time  \\\n0        1  aa  AA-3859-IAH-ORD      7:10 a.m.    7:16 a.m.      9:40 a.m.   \n1        2  aa  AA-1733-ORD-PHX      7:45 p.m.    7:58 p.m.     10:30 p.m.   \n2        3  aa  AA-1640-MIA-MCO      6:30 p.m.                   7:25 p.m.   \n3        4  aa   AA-518-MIA-JFK      6:40 a.m.    6:54 a.m.      9:25 a.m.   \n4        5  aa  AA-3756-ORD-SLC     12:15 p.m.   12:41 p.m.      2:45 p.m.   \n\n  act_arr_time  \n0    9:32 a.m.  \n1               \n2               \n3    9:28 a.m.  \n4    2:50 p.m.  ",
      "text/html": "<div>\n<style scoped>\n    .dataframe tbody tr th:only-of-type {\n        vertical-align: middle;\n    }\n\n    .dataframe tbody tr th {\n        vertical-align: top;\n    }\n\n    .dataframe thead th {\n        text-align: right;\n    }\n</style>\n<table border=\"1\" class=\"dataframe\">\n  <thead>\n    <tr style=\"text-align: right;\">\n      <th></th>\n      <th>tuple_id</th>\n      <th>src</th>\n      <th>flight</th>\n      <th>sched_dep_time</th>\n      <th>act_dep_time</th>\n      <th>sched_arr_time</th>\n      <th>act_arr_time</th>\n    </tr>\n  </thead>\n  <tbody>\n    <tr>\n      <th>0</th>\n      <td>1</td>\n      <td>aa</td>\n      <td>AA-3859-IAH-ORD</td>\n      <td>7:10 a.m.</td>\n      <td>7:16 a.m.</td>\n      <td>9:40 a.m.</td>\n      <td>9:32 a.m.</td>\n    </tr>\n    <tr>\n      <th>1</th>\n      <td>2</td>\n      <td>aa</td>\n      <td>AA-1733-ORD-PHX</td>\n      <td>7:45 p.m.</td>\n      <td>7:58 p.m.</td>\n      <td>10:30 p.m.</td>\n      <td></td>\n    </tr>\n    <tr>\n      <th>2</th>\n      <td>3</td>\n      <td>aa</td>\n      <td>AA-1640-MIA-MCO</td>\n      <td>6:30 p.m.</td>\n      <td></td>\n      <td>7:25 p.m.</td>\n      <td></td>\n    </tr>\n    <tr>\n      <th>3</th>\n      <td>4</td>\n      <td>aa</td>\n      <td>AA-518-MIA-JFK</td>\n      <td>6:40 a.m.</td>\n      <td>6:54 a.m.</td>\n      <td>9:25 a.m.</td>\n      <td>9:28 a.m.</td>\n    </tr>\n    <tr>\n      <th>4</th>\n      <td>5</td>\n      <td>aa</td>\n      <td>AA-3756-ORD-SLC</td>\n      <td>12:15 p.m.</td>\n      <td>12:41 p.m.</td>\n      <td>2:45 p.m.</td>\n      <td>2:50 p.m.</td>\n    </tr>\n  </tbody>\n</table>\n</div>"
     },
     "execution_count": 3,
     "metadata": {},
     "output_type": "execute_result"
    }
   ],
   "source": [
    "dataset_dictionary = {\n",
    "    \"name\": \"flights\",\n",
    "    \"path\": \"datasets/flights/dirty.csv\",\n",
    "    \"clean_path\": \"datasets/flights/clean.csv\"\n",
    "}\n",
    "d = app_1.initialize_dataset(dataset_dictionary)\n",
    "d.dataframe.head()"
   ]
  },
  {
   "cell_type": "markdown",
   "metadata": {},
   "source": [
    "### 3. Running Error Detection Strategies\n",
    "Raha runs (all or the promising) error detection strategies on the dataset. This step could take a while because all the strategies should be run on the dataset. "
   ]
  },
  {
   "cell_type": "code",
   "execution_count": 4,
   "metadata": {},
   "outputs": [
    {
     "name": "stdout",
     "output_type": "stream",
     "text": [
      "309 strategy profiles are collected.\n"
     ]
    },
    {
     "name": "stderr",
     "output_type": "stream",
     "text": [
      "I just load strategies' results as they have already been run on the dataset!\n"
     ]
    }
   ],
   "source": [
    "app_1.run_strategies(d)"
   ]
  },
  {
   "cell_type": "markdown",
   "metadata": {},
   "source": [
    "### 4. Generating Features\n",
    "Raha then generates a feature vector for each data cell based on the output of error detection strategies. "
   ]
  },
  {
   "cell_type": "code",
   "execution_count": 5,
   "metadata": {},
   "outputs": [
    {
     "name": "stdout",
     "output_type": "stream",
     "text": [
      "40 Features are generated for column 0.\n",
      "65 Features are generated for column 1.\n",
      "62 Features are generated for column 2.\n",
      "65 Features are generated for column 3.\n",
      "71 Features are generated for column 4.\n",
      "65 Features are generated for column 5.\n",
      "86 Features are generated for column 6.\n"
     ]
    }
   ],
   "source": [
    "app_1.generate_features(d)"
   ]
  },
  {
   "cell_type": "markdown",
   "metadata": {},
   "source": [
    "### 5. Building Clusters\n",
    "Raha next builds a hierarchical clustering model for our clustering-based sampling approach."
   ]
  },
  {
   "cell_type": "code",
   "execution_count": 6,
   "metadata": {},
   "outputs": [
    {
     "name": "stdout",
     "output_type": "stream",
     "text": [
      "A hierarchical clustering model is built for column 0.\n",
      "A hierarchical clustering model is built for column 1.\n",
      "A hierarchical clustering model is built for column 2.\n",
      "A hierarchical clustering model is built for column 3.\n",
      "A hierarchical clustering model is built for column 4.\n",
      "A hierarchical clustering model is built for column 5.\n",
      "A hierarchical clustering model is built for column 6.\n"
     ]
    }
   ],
   "source": [
    "app_1.build_clusters(d)"
   ]
  },
  {
   "cell_type": "markdown",
   "metadata": {},
   "source": [
    "### 6. Interactive Tuple Sampling and Labeling\n",
    "Raha then iteratively samples a tuple. We should label data cells of each sampled tuple."
   ]
  },
  {
   "cell_type": "code",
   "execution_count": 7,
   "metadata": {
    "scrolled": true
   },
   "outputs": [
    {
     "name": "stdout",
     "output_type": "stream",
     "text": [
      "Tuple 39 is sampled.\n",
      "Tuple 39 is labeled.\n",
      "Tuple 1939 is sampled.\n",
      "Tuple 1939 is labeled.\n",
      "Tuple 222 is sampled.\n",
      "Tuple 222 is labeled.\n",
      "Tuple 2016 is sampled.\n",
      "Tuple 2016 is labeled.\n",
      "Tuple 943 is sampled.\n",
      "Tuple 943 is labeled.\n",
      "Tuple 1619 is sampled.\n",
      "Tuple 1619 is labeled.\n",
      "Tuple 262 is sampled.\n",
      "Tuple 262 is labeled.\n",
      "Tuple 1035 is sampled.\n",
      "Tuple 1035 is labeled.\n",
      "Tuple 688 is sampled.\n",
      "Tuple 688 is labeled.\n",
      "Tuple 572 is sampled.\n",
      "Tuple 572 is labeled.\n",
      "Tuple 1409 is sampled.\n",
      "Tuple 1409 is labeled.\n",
      "Tuple 1099 is sampled.\n",
      "Tuple 1099 is labeled.\n",
      "Tuple 708 is sampled.\n",
      "Tuple 708 is labeled.\n",
      "Tuple 1042 is sampled.\n",
      "Tuple 1042 is labeled.\n",
      "Tuple 1498 is sampled.\n",
      "Tuple 1498 is labeled.\n",
      "Tuple 1685 is sampled.\n",
      "Tuple 1685 is labeled.\n",
      "Tuple 2152 is sampled.\n",
      "Tuple 2152 is labeled.\n",
      "Tuple 241 is sampled.\n",
      "Tuple 241 is labeled.\n",
      "Tuple 1729 is sampled.\n",
      "Tuple 1729 is labeled.\n",
      "Tuple 290 is sampled.\n",
      "Tuple 290 is labeled.\n"
     ]
    }
   ],
   "source": [
    "while len(d.labeled_tuples) < app_1.LABELING_BUDGET:\n",
    "    app_1.sample_tuple(d)\n",
    "    if d.has_ground_truth:\n",
    "        app_1.label_with_ground_truth(d)\n",
    "    else:\n",
    "        print(\"Label the dirty cells in the following sampled tuple.\")\n",
    "        sampled_tuple = pandas.DataFrame(data=[d.dataframe.iloc[d.sampled_tuple, :]], columns=d.dataframe.columns)\n",
    "        IPython.display.display(sampled_tuple)\n",
    "        for j in range(d.dataframe.shape[1]):\n",
    "            cell = (d.sampled_tuple, j)\n",
    "            value = d.dataframe.iloc[cell]\n",
    "            correction = input(\"What is the correction for value '{}'? Type in the same value if it is not erronous.\\n\".format(value))\n",
    "            user_label = 1 if value != correction else 0\n",
    "            d.labeled_cells[cell] = [user_label, correction]\n",
    "        d.labeled_tuples[d.sampled_tuple] = 1"
   ]
  },
  {
   "cell_type": "markdown",
   "metadata": {},
   "source": [
    "### 7. Propagating User Labels\n",
    "Raha then propagates each user label through its cluster."
   ]
  },
  {
   "cell_type": "code",
   "execution_count": 8,
   "metadata": {},
   "outputs": [
    {
     "name": "stdout",
     "output_type": "stream",
     "text": [
      "The number of labeled data cells increased from 140 to 12307.\n"
     ]
    }
   ],
   "source": [
    "app_1.propagate_labels(d)"
   ]
  },
  {
   "cell_type": "markdown",
   "metadata": {},
   "source": [
    "### 8. Predicting Labels of Data Cells\n",
    "Raha then trains and applies one classifier per data column to predict the label of the rest of data cells."
   ]
  },
  {
   "cell_type": "code",
   "execution_count": 9,
   "metadata": {},
   "outputs": [
    {
     "name": "stdout",
     "output_type": "stream",
     "text": [
      "A classifier is trained and applied on column 0.\n",
      "A classifier is trained and applied on column 1.\n",
      "A classifier is trained and applied on column 2.\n",
      "A classifier is trained and applied on column 3.\n",
      "A classifier is trained and applied on column 4.\n",
      "A classifier is trained and applied on column 5.\n",
      "A classifier is trained and applied on column 6.\n"
     ]
    }
   ],
   "source": [
    "app_1.predict_labels(d)"
   ]
  },
  {
   "cell_type": "markdown",
   "metadata": {},
   "source": [
    "### 9. Storing Results\n",
    "Raha can also store the error detection results."
   ]
  },
  {
   "cell_type": "code",
   "execution_count": 10,
   "metadata": {},
   "outputs": [
    {
     "name": "stdout",
     "output_type": "stream",
     "text": [
      "The results are stored in datasets/flights/raha-baran-results-flights/error-detection/detection.dataset.\n"
     ]
    }
   ],
   "source": [
    "app_1.store_results(d)"
   ]
  },
  {
   "cell_type": "markdown",
   "metadata": {},
   "source": [
    "### 10. Evaluating the Error Detection Task\n",
    "We can finally evaluate our error detection task."
   ]
  },
  {
   "cell_type": "code",
   "execution_count": 11,
   "metadata": {
    "scrolled": true
   },
   "outputs": [
    {
     "name": "stdout",
     "output_type": "stream",
     "text": [
      "Raha's performance on flights:\n",
      "Precision = 0.70\n",
      "Recall = 0.82\n",
      "F1 = 0.76\n"
     ]
    },
    {
     "name": "stderr",
     "output_type": "stream",
     "text": [
      "/home/adrian/source/MA/raha/raha/dataset.py:123: FutureWarning: elementwise comparison failed; returning scalar instead, but in the future will perform elementwise comparison\n",
      "  if correction_dictionary[cell] == actual_errors[cell]:\n"
     ]
    }
   ],
   "source": [
    "p, r, f = d.get_data_cleaning_evaluation(d.detected_cells)[:3]\n",
    "print(\"Raha's performance on {}:\\nPrecision = {:.2f}\\nRecall = {:.2f}\\nF1 = {:.2f}\".format(d.name, p, r, f))"
   ]
  },
  {
   "cell_type": "markdown",
   "metadata": {},
   "source": [
    "# Error Correction with Baran"
   ]
  },
  {
   "cell_type": "markdown",
   "metadata": {},
   "source": [
    "### 1. Instantiating the Correction Class\n",
    "We first instantiate the `Correction` class."
   ]
  },
  {
   "cell_type": "code",
   "execution_count": 12,
   "metadata": {},
   "outputs": [],
   "source": [
    "app_2 = raha.Correction()\n",
    "\n",
    "# How many tuples would you label?\n",
    "app_2.LABELING_BUDGET = 20\n",
    "\n",
    "# Would you like to see the logs?\n",
    "app_2.VERBOSE = True"
   ]
  },
  {
   "cell_type": "markdown",
   "metadata": {},
   "source": [
    "### 2. Initializing the Dataset Object\n",
    "We next initialize the dataset object."
   ]
  },
  {
   "cell_type": "code",
   "execution_count": 13,
   "metadata": {},
   "outputs": [
    {
     "data": {
      "text/plain": "  tuple_id src           flight sched_dep_time act_dep_time sched_arr_time  \\\n0        1  aa  AA-3859-IAH-ORD      7:10 a.m.    7:16 a.m.      9:40 a.m.   \n1        2  aa  AA-1733-ORD-PHX      7:45 p.m.    7:58 p.m.     10:30 p.m.   \n2        3  aa  AA-1640-MIA-MCO      6:30 p.m.                   7:25 p.m.   \n3        4  aa   AA-518-MIA-JFK      6:40 a.m.    6:54 a.m.      9:25 a.m.   \n4        5  aa  AA-3756-ORD-SLC     12:15 p.m.   12:41 p.m.      2:45 p.m.   \n\n  act_arr_time  \n0    9:32 a.m.  \n1               \n2               \n3    9:28 a.m.  \n4    2:50 p.m.  ",
      "text/html": "<div>\n<style scoped>\n    .dataframe tbody tr th:only-of-type {\n        vertical-align: middle;\n    }\n\n    .dataframe tbody tr th {\n        vertical-align: top;\n    }\n\n    .dataframe thead th {\n        text-align: right;\n    }\n</style>\n<table border=\"1\" class=\"dataframe\">\n  <thead>\n    <tr style=\"text-align: right;\">\n      <th></th>\n      <th>tuple_id</th>\n      <th>src</th>\n      <th>flight</th>\n      <th>sched_dep_time</th>\n      <th>act_dep_time</th>\n      <th>sched_arr_time</th>\n      <th>act_arr_time</th>\n    </tr>\n  </thead>\n  <tbody>\n    <tr>\n      <th>0</th>\n      <td>1</td>\n      <td>aa</td>\n      <td>AA-3859-IAH-ORD</td>\n      <td>7:10 a.m.</td>\n      <td>7:16 a.m.</td>\n      <td>9:40 a.m.</td>\n      <td>9:32 a.m.</td>\n    </tr>\n    <tr>\n      <th>1</th>\n      <td>2</td>\n      <td>aa</td>\n      <td>AA-1733-ORD-PHX</td>\n      <td>7:45 p.m.</td>\n      <td>7:58 p.m.</td>\n      <td>10:30 p.m.</td>\n      <td></td>\n    </tr>\n    <tr>\n      <th>2</th>\n      <td>3</td>\n      <td>aa</td>\n      <td>AA-1640-MIA-MCO</td>\n      <td>6:30 p.m.</td>\n      <td></td>\n      <td>7:25 p.m.</td>\n      <td></td>\n    </tr>\n    <tr>\n      <th>3</th>\n      <td>4</td>\n      <td>aa</td>\n      <td>AA-518-MIA-JFK</td>\n      <td>6:40 a.m.</td>\n      <td>6:54 a.m.</td>\n      <td>9:25 a.m.</td>\n      <td>9:28 a.m.</td>\n    </tr>\n    <tr>\n      <th>4</th>\n      <td>5</td>\n      <td>aa</td>\n      <td>AA-3756-ORD-SLC</td>\n      <td>12:15 p.m.</td>\n      <td>12:41 p.m.</td>\n      <td>2:45 p.m.</td>\n      <td>2:50 p.m.</td>\n    </tr>\n  </tbody>\n</table>\n</div>"
     },
     "execution_count": 13,
     "metadata": {},
     "output_type": "execute_result"
    }
   ],
   "source": [
    "d = app_2.initialize_dataset(d)\n",
    "d.dataframe.head()"
   ]
  },
  {
   "cell_type": "markdown",
   "metadata": {},
   "source": [
    "### 3. Initializing the Error Corrector Models\n",
    "Baran initializes the error corrector models."
   ]
  },
  {
   "cell_type": "code",
   "execution_count": 14,
   "metadata": {},
   "outputs": [
    {
     "name": "stdout",
     "output_type": "stream",
     "text": [
      "The error corrector models are initialized.\n"
     ]
    }
   ],
   "source": [
    "app_2.initialize_models(d)"
   ]
  },
  {
   "cell_type": "markdown",
   "metadata": {},
   "source": [
    "### 4. Interactive Tuple Sampling, Labeling, Model updating, Feature Generation, and Correction Prediction\n",
    "Baran then iteratively samples a tuple. We should label data cells of each sampled tuple. It then udpates the models accordingly and generates a feature vector for each pair of a data error and a correction candidate. Finally, it trains and applies a classifier to each data column to predict the final correction of each data error. Since we already labeled tuples for Raha, we use the same labeled tuples and do not label new tuples here."
   ]
  },
  {
   "cell_type": "code",
   "execution_count": 15,
   "metadata": {},
   "outputs": [
    {
     "name": "stdout",
     "output_type": "stream",
     "text": [
      "The error corrector models are updated with new labeled tuple 39.\n",
      "363336 pairs of (a data error, a potential correction) are featurized.\n",
      "Prediction Method in this step:\n",
      "    Column 3: Train\n",
      "    Column 4: Train\n",
      "    Column 5: Train\n",
      "    Column 6: Train\n",
      "Train sizes in this step:\n",
      "    Column 3: 396\n",
      "    Column 4: 85\n",
      "    Column 5: 1080\n",
      "    Column 6: 2580\n",
      "Corrections identified in this step:\n",
      "    Column 3: 510 Mean confidence: 0.9999999999999998\n",
      "    Column 4: 107 Mean confidence: 0.9999999999999999\n",
      "    Column 5: 884 Mean confidence: 0.9546409508258391\n",
      "    Column 6: 348 Mean confidence: 0.9999928314673372\n",
      "Corrections applied in this step:\n",
      "    Column 3: 510\n",
      "    Column 4: 107\n",
      "    Column 5: 884\n",
      "    Column 6: 331\n",
      "32% (1879 / 5803) of data errors are corrected.\n",
      "The error corrector models are updated with new labeled tuple 1939.\n",
      "363336 pairs of (a data error, a potential correction) are featurized.\n",
      "Prediction Method in this step:\n",
      "    Column 3: Train\n",
      "    Column 4: Train\n",
      "    Column 5: Train\n",
      "    Column 6: Train\n",
      "Train sizes in this step:\n",
      "    Column 3: 396\n",
      "    Column 4: 85\n",
      "    Column 5: 1080\n",
      "    Column 6: 2580\n",
      "Corrections identified in this step:\n",
      "    Column 3: 510 Mean confidence: 0.9999999999999998\n",
      "    Column 4: 45 Mean confidence: 0.9999999999999999\n",
      "    Column 5: 884 Mean confidence: 0.9546409508258391\n",
      "    Column 6: 348 Mean confidence: 0.9999928314673372\n",
      "Corrections applied in this step:\n",
      "    Column 3: 0\n",
      "    Column 4: 0\n",
      "    Column 5: 0\n",
      "    Column 6: 0\n",
      "32% (1879 / 5803) of data errors are corrected.\n",
      "The error corrector models are updated with new labeled tuple 222.\n",
      "373700 pairs of (a data error, a potential correction) are featurized.\n",
      "Prediction Method in this step:\n",
      "    Column 3: Train\n",
      "    Column 4: Train\n",
      "    Column 5: Train\n",
      "    Column 6: Train\n",
      "Train sizes in this step:\n",
      "    Column 3: 406\n",
      "    Column 4: 127\n",
      "    Column 5: 1082\n",
      "    Column 6: 2594\n",
      "Corrections identified in this step:\n",
      "    Column 3: 510 Mean confidence: 0.9999999999999998\n",
      "    Column 4: 124 Mean confidence: 0.9999999999999999\n",
      "    Column 5: 883 Mean confidence: 0.9927172202287365\n",
      "    Column 6: 348 Mean confidence: 0.9999928314673372\n",
      "Corrections applied in this step:\n",
      "    Column 3: 0\n",
      "    Column 4: 17\n",
      "    Column 5: 844\n",
      "    Column 6: 0\n",
      "33% (1915 / 5803) of data errors are corrected.\n",
      "The error corrector models are updated with new labeled tuple 2016.\n",
      "381878 pairs of (a data error, a potential correction) are featurized.\n",
      "Prediction Method in this step:\n",
      "    Column 3: Train\n",
      "    Column 4: Train\n",
      "    Column 5: Train\n",
      "    Column 6: Train\n",
      "Train sizes in this step:\n",
      "    Column 3: 412\n",
      "    Column 4: 158\n",
      "    Column 5: 1089\n",
      "    Column 6: 2608\n",
      "Corrections identified in this step:\n",
      "    Column 3: 510 Mean confidence: 0.9999999999999998\n",
      "    Column 4: 145 Mean confidence: 0.9999999999999998\n",
      "    Column 5: 883 Mean confidence: 0.9927018525192169\n",
      "    Column 6: 348 Mean confidence: 0.9999928314673372\n",
      "Corrections applied in this step:\n",
      "    Column 3: 0\n",
      "    Column 4: 21\n",
      "    Column 5: 0\n",
      "    Column 6: 0\n",
      "33% (1936 / 5803) of data errors are corrected.\n",
      "The error corrector models are updated with new labeled tuple 943.\n",
      "385006 pairs of (a data error, a potential correction) are featurized.\n",
      "Prediction Method in this step:\n",
      "    Column 3: Train\n",
      "    Column 4: Train\n",
      "    Column 5: Train\n",
      "    Column 6: Train\n",
      "Train sizes in this step:\n",
      "    Column 3: 412\n",
      "    Column 4: 177\n",
      "    Column 5: 1089\n",
      "    Column 6: 2622\n",
      "Corrections identified in this step:\n",
      "    Column 3: 510 Mean confidence: 0.9999999999999998\n",
      "    Column 4: 170 Mean confidence: 0.9999999999999998\n",
      "    Column 5: 883 Mean confidence: 0.9927018525192169\n",
      "    Column 6: 400 Mean confidence: 0.9644587284814061\n",
      "Corrections applied in this step:\n",
      "    Column 3: 0\n",
      "    Column 4: 25\n",
      "    Column 5: 0\n",
      "    Column 6: 50\n",
      "35% (2011 / 5803) of data errors are corrected.\n",
      "The error corrector models are updated with new labeled tuple 1619.\n",
      "387318 pairs of (a data error, a potential correction) are featurized.\n",
      "Prediction Method in this step:\n",
      "    Column 3: Train\n",
      "    Column 4: Train\n",
      "    Column 5: Train\n",
      "    Column 6: Train\n",
      "Train sizes in this step:\n",
      "    Column 3: 418\n",
      "    Column 4: 181\n",
      "    Column 5: 1094\n",
      "    Column 6: 2626\n",
      "Corrections identified in this step:\n",
      "    Column 3: 510 Mean confidence: 0.9999999999999998\n",
      "    Column 4: 170 Mean confidence: 0.9999999999999998\n",
      "    Column 5: 883 Mean confidence: 0.9927018525190981\n",
      "    Column 6: 383 Mean confidence: 0.9585648760762082\n",
      "Corrections applied in this step:\n",
      "    Column 3: 0\n",
      "    Column 4: 0\n",
      "    Column 5: 0\n",
      "    Column 6: 0\n",
      "35% (2011 / 5803) of data errors are corrected.\n",
      "The error corrector models are updated with new labeled tuple 262.\n",
      "392728 pairs of (a data error, a potential correction) are featurized.\n",
      "Prediction Method in this step:\n",
      "    Column 3: Train\n",
      "    Column 4: Train\n",
      "    Column 5: Train\n",
      "    Column 6: Train\n",
      "Train sizes in this step:\n",
      "    Column 3: 430\n",
      "    Column 4: 202\n",
      "    Column 5: 1099\n",
      "    Column 6: 2630\n",
      "Corrections identified in this step:\n",
      "    Column 3: 510 Mean confidence: 0.9999999999999998\n",
      "    Column 4: 195 Mean confidence: 0.9999999999999999\n",
      "    Column 5: 883 Mean confidence: 0.99270185251898\n",
      "    Column 6: 383 Mean confidence: 0.9563388332586237\n",
      "Corrections applied in this step:\n",
      "    Column 3: 0\n",
      "    Column 4: 25\n",
      "    Column 5: 0\n",
      "    Column 6: 0\n",
      "35% (2036 / 5803) of data errors are corrected.\n",
      "The error corrector models are updated with new labeled tuple 1035.\n",
      "395768 pairs of (a data error, a potential correction) are featurized.\n",
      "Prediction Method in this step:\n",
      "    Column 3: Train\n",
      "    Column 4: Train\n",
      "    Column 5: Train\n",
      "    Column 6: Train\n",
      "Train sizes in this step:\n",
      "    Column 3: 430\n",
      "    Column 4: 219\n",
      "    Column 5: 1100\n",
      "    Column 6: 2644\n",
      "Corrections identified in this step:\n",
      "    Column 3: 510 Mean confidence: 0.9999999999999998\n",
      "    Column 4: 217 Mean confidence: 0.9999999999999999\n",
      "    Column 5: 883 Mean confidence: 0.9926829991139808\n",
      "    Column 6: 348 Mean confidence: 0.9047193956067033\n",
      "Corrections applied in this step:\n",
      "    Column 3: 0\n",
      "    Column 4: 22\n",
      "    Column 5: 0\n",
      "    Column 6: 0\n",
      "35% (2058 / 5803) of data errors are corrected.\n",
      "The error corrector models are updated with new labeled tuple 688.\n",
      "403733 pairs of (a data error, a potential correction) are featurized.\n",
      "Prediction Method in this step:\n",
      "    Column 3: Train\n",
      "    Column 4: Train\n",
      "    Column 5: Train\n",
      "    Column 6: Train\n",
      "Train sizes in this step:\n",
      "    Column 3: 436\n",
      "    Column 4: 249\n",
      "    Column 5: 1115\n",
      "    Column 6: 2654\n",
      "Corrections identified in this step:\n",
      "    Column 3: 510 Mean confidence: 0.9999999999999998\n",
      "    Column 4: 237 Mean confidence: 0.9999999999999999\n",
      "    Column 5: 793 Mean confidence: 0.9999960294586251\n",
      "    Column 6: 348 Mean confidence: 0.9051355532575592\n",
      "Corrections applied in this step:\n",
      "    Column 3: 0\n",
      "    Column 4: 20\n",
      "    Column 5: 793\n",
      "    Column 6: 0\n",
      "36% (2094 / 5803) of data errors are corrected.\n",
      "The error corrector models are updated with new labeled tuple 572.\n",
      "410597 pairs of (a data error, a potential correction) are featurized.\n",
      "Prediction Method in this step:\n",
      "    Column 3: Train\n",
      "    Column 4: Train\n",
      "    Column 5: Train\n",
      "    Column 6: Train\n",
      "Train sizes in this step:\n",
      "    Column 3: 448\n",
      "    Column 4: 273\n",
      "    Column 5: 1115\n",
      "    Column 6: 2659\n",
      "Corrections identified in this step:\n",
      "    Column 3: 533 Mean confidence: 0.9999999999999998\n",
      "    Column 4: 260 Mean confidence: 0.9999999999999998\n",
      "    Column 5: 818 Mean confidence: 0.9867013719521327\n",
      "    Column 6: 348 Mean confidence: 0.9051356900585421\n",
      "Corrections applied in this step:\n",
      "    Column 3: 23\n",
      "    Column 4: 23\n",
      "    Column 5: 256\n",
      "    Column 6: 0\n",
      "37% (2153 / 5803) of data errors are corrected.\n",
      "The error corrector models are updated with new labeled tuple 1409.\n",
      "415322 pairs of (a data error, a potential correction) are featurized.\n",
      "Prediction Method in this step:\n",
      "    Column 3: Train\n",
      "    Column 4: Train\n",
      "    Column 5: Train\n",
      "    Column 6: Train\n",
      "Train sizes in this step:\n",
      "    Column 3: 462\n",
      "    Column 4: 295\n",
      "    Column 5: 1119\n",
      "    Column 6: 2664\n",
      "Corrections identified in this step:\n",
      "    Column 3: 558 Mean confidence: 0.9999999999999998\n",
      "    Column 4: 285 Mean confidence: 0.9999999999999998\n",
      "    Column 5: 943 Mean confidence: 0.9778793567373395\n",
      "    Column 6: 314 Mean confidence: 0.9988793586352568\n",
      "Corrections applied in this step:\n",
      "    Column 3: 25\n",
      "    Column 4: 25\n",
      "    Column 5: 256\n",
      "    Column 6: 185\n",
      "40% (2302 / 5803) of data errors are corrected.\n",
      "The error corrector models are updated with new labeled tuple 1099.\n",
      "428770 pairs of (a data error, a potential correction) are featurized.\n",
      "Prediction Method in this step:\n",
      "    Column 3: Train\n",
      "    Column 4: Train\n",
      "    Column 5: Train\n",
      "    Column 6: Train\n",
      "Train sizes in this step:\n",
      "    Column 3: 477\n",
      "    Column 4: 339\n",
      "    Column 5: 1128\n",
      "    Column 6: 2687\n",
      "Corrections identified in this step:\n",
      "    Column 3: 577 Mean confidence: 0.9999999999999998\n",
      "    Column 4: 304 Mean confidence: 0.9999999999999998\n",
      "    Column 5: 793 Mean confidence: 0.9999959928687119\n",
      "    Column 6: 314 Mean confidence: 0.9989022175968127\n",
      "Corrections applied in this step:\n",
      "    Column 3: 19\n",
      "    Column 4: 19\n",
      "    Column 5: 0\n",
      "    Column 6: 41\n",
      "40% (2340 / 5803) of data errors are corrected.\n",
      "The error corrector models are updated with new labeled tuple 708.\n",
      "433228 pairs of (a data error, a potential correction) are featurized.\n",
      "Prediction Method in this step:\n",
      "    Column 3: Train\n",
      "    Column 4: Train\n",
      "    Column 5: Train\n",
      "    Column 6: Train\n",
      "Train sizes in this step:\n",
      "    Column 3: 477\n",
      "    Column 4: 353\n",
      "    Column 5: 1131\n",
      "    Column 6: 2694\n",
      "Corrections identified in this step:\n",
      "    Column 3: 577 Mean confidence: 0.9999999999999998\n",
      "    Column 4: 304 Mean confidence: 0.9999999999999998\n",
      "    Column 5: 818 Mean confidence: 0.9863735106926595\n",
      "    Column 6: 175 Mean confidence: 0.9999945473632379\n",
      "Corrections applied in this step:\n",
      "    Column 3: 0\n",
      "    Column 4: 0\n",
      "    Column 5: 0\n",
      "    Column 6: 114\n",
      "40% (2340 / 5803) of data errors are corrected.\n",
      "The error corrector models are updated with new labeled tuple 1042.\n",
      "433492 pairs of (a data error, a potential correction) are featurized.\n",
      "Prediction Method in this step:\n",
      "    Column 3: Train\n",
      "    Column 4: Train\n",
      "    Column 5: Train\n",
      "    Column 6: Train\n",
      "Train sizes in this step:\n",
      "    Column 3: 481\n",
      "    Column 4: 358\n",
      "    Column 5: 1135\n",
      "    Column 6: 2694\n",
      "Corrections identified in this step:\n",
      "    Column 3: 577 Mean confidence: 0.9999999999999998\n",
      "    Column 4: 0 Mean confidence: nan\n",
      "    Column 5: 818 Mean confidence: 0.9862213844385059\n",
      "    Column 6: 175 Mean confidence: 0.9999945473632379\n",
      "Corrections applied in this step:\n",
      "    Column 3: 0\n",
      "    Column 4: 0\n",
      "    Column 5: 0\n",
      "    Column 6: 0\n",
      "40% (2340 / 5803) of data errors are corrected.\n",
      "The error corrector models are updated with new labeled tuple 1498.\n",
      "450005 pairs of (a data error, a potential correction) are featurized.\n",
      "Prediction Method in this step:\n",
      "    Column 3: Train\n",
      "    Column 4: Train\n",
      "    Column 5: Train\n",
      "    Column 6: Train\n",
      "Train sizes in this step:\n",
      "    Column 3: 496\n",
      "    Column 4: 413\n",
      "    Column 5: 1145\n",
      "    Column 6: 2727\n",
      "Corrections identified in this step:\n",
      "    Column 3: 0 Mean confidence: nan\n",
      "    Column 4: 0 Mean confidence: nan\n",
      "    Column 5: 0 Mean confidence: nan\n",
      "    Column 6: 208 Mean confidence: 0.9999945413257413\n",
      "Corrections applied in this step:\n",
      "    Column 3: 0\n",
      "    Column 4: 0\n",
      "    Column 5: 0\n",
      "    Column 6: 33\n",
      "41% (2365 / 5803) of data errors are corrected.\n",
      "The error corrector models are updated with new labeled tuple 1685.\n",
      "461494 pairs of (a data error, a potential correction) are featurized.\n",
      "Prediction Method in this step:\n",
      "    Column 3: Train\n",
      "    Column 4: Train\n",
      "    Column 5: Train\n",
      "    Column 6: Train\n",
      "Train sizes in this step:\n",
      "    Column 3: 496\n",
      "    Column 4: 459\n",
      "    Column 5: 1156\n",
      "    Column 6: 2736\n",
      "Corrections identified in this step:\n",
      "    Column 3: 599 Mean confidence: 0.9999999999999998\n",
      "    Column 4: 346 Mean confidence: 0.9999999999999999\n",
      "    Column 5: 0 Mean confidence: nan\n",
      "    Column 6: 210 Mean confidence: 0.756518867234352\n",
      "Corrections applied in this step:\n",
      "    Column 3: 22\n",
      "    Column 4: 42\n",
      "    Column 5: 0\n",
      "    Column 6: 1\n",
      "42% (2430 / 5803) of data errors are corrected.\n",
      "The error corrector models are updated with new labeled tuple 2152.\n",
      "468543 pairs of (a data error, a potential correction) are featurized.\n",
      "Prediction Method in this step:\n",
      "    Column 3: Train\n",
      "    Column 4: Train\n",
      "    Column 5: Train\n",
      "    Column 6: Train\n",
      "Train sizes in this step:\n",
      "    Column 3: 511\n",
      "    Column 4: 480\n",
      "    Column 5: 1161\n",
      "    Column 6: 2752\n",
      "Corrections identified in this step:\n",
      "    Column 3: 624 Mean confidence: 0.9999999999999998\n",
      "    Column 4: 371 Mean confidence: 0.9999999999999999\n",
      "    Column 5: 0 Mean confidence: nan\n",
      "    Column 6: 227 Mean confidence: 0.944898663977369\n",
      "Corrections applied in this step:\n",
      "    Column 3: 25\n",
      "    Column 4: 25\n",
      "    Column 5: 0\n",
      "    Column 6: 19\n",
      "43% (2499 / 5803) of data errors are corrected.\n",
      "The error corrector models are updated with new labeled tuple 241.\n",
      "475645 pairs of (a data error, a potential correction) are featurized.\n",
      "Prediction Method in this step:\n",
      "    Column 3: Train\n",
      "    Column 4: Train\n",
      "    Column 5: Train\n",
      "    Column 6: Train\n",
      "Train sizes in this step:\n",
      "    Column 3: 514\n",
      "    Column 4: 510\n",
      "    Column 5: 1163\n",
      "    Column 6: 2758\n",
      "Corrections identified in this step:\n",
      "    Column 3: 624 Mean confidence: 0.9999999999999998\n",
      "    Column 4: 0 Mean confidence: nan\n",
      "    Column 5: 0 Mean confidence: nan\n",
      "    Column 6: 0 Mean confidence: nan\n",
      "Corrections applied in this step:\n",
      "    Column 3: 0\n",
      "    Column 4: 0\n",
      "    Column 5: 0\n",
      "    Column 6: 0\n",
      "43% (2499 / 5803) of data errors are corrected.\n",
      "The error corrector models are updated with new labeled tuple 1729.\n",
      "475645 pairs of (a data error, a potential correction) are featurized.\n",
      "Prediction Method in this step:\n",
      "    Column 3: Train\n",
      "    Column 4: Train\n",
      "    Column 5: Train\n",
      "    Column 6: Train\n",
      "Train sizes in this step:\n",
      "    Column 3: 514\n",
      "    Column 4: 510\n",
      "    Column 5: 1163\n",
      "    Column 6: 2758\n",
      "Corrections identified in this step:\n",
      "    Column 3: 0 Mean confidence: nan\n",
      "    Column 4: 396 Mean confidence: 0.9999999999999999\n",
      "    Column 5: 0 Mean confidence: nan\n",
      "    Column 6: 0 Mean confidence: nan\n",
      "Corrections applied in this step:\n",
      "    Column 3: 0\n",
      "    Column 4: 25\n",
      "    Column 5: 0\n",
      "    Column 6: 0\n",
      "43% (2524 / 5803) of data errors are corrected.\n",
      "The error corrector models are updated with new labeled tuple 290.\n",
      "482147 pairs of (a data error, a potential correction) are featurized.\n",
      "Prediction Method in this step:\n",
      "    Column 3: Train\n",
      "    Column 4: Train\n",
      "    Column 5: Train\n",
      "    Column 6: Train\n",
      "Train sizes in this step:\n",
      "    Column 3: 526\n",
      "    Column 4: 531\n",
      "    Column 5: 1173\n",
      "    Column 6: 2770\n",
      "Corrections identified in this step:\n",
      "    Column 3: 0 Mean confidence: nan\n",
      "    Column 4: 0 Mean confidence: nan\n",
      "    Column 5: 0 Mean confidence: nan\n",
      "    Column 6: 0 Mean confidence: nan\n",
      "Corrections applied in this step:\n",
      "    Column 3: 0\n",
      "    Column 4: 0\n",
      "    Column 5: 0\n",
      "    Column 6: 0\n",
      "43% (2524 / 5803) of data errors are corrected.\n"
     ]
    }
   ],
   "source": [
    "# while len(d.labeled_tuples) < app_2.LABELING_BUDGET:\n",
    "#     app_2.sample_tuple(d)\n",
    "#     if d.has_ground_truth:\n",
    "#         app_2.label_with_ground_truth(d)\n",
    "#     else:\n",
    "#         print(\"Label the dirty cells in the following sampled tuple.\")\n",
    "#         sampled_tuple = pandas.DataFrame(data=[d.dataframe.iloc[d.sampled_tuple, :]], columns=d.dataframe.columns)\n",
    "#         IPython.display.display(sampled_tuple)\n",
    "#         for j in range(d.dataframe.shape[1]):\n",
    "#             cell = (d.sampled_tuple, j)\n",
    "#             value = d.dataframe.iloc[cell]\n",
    "#             correction = input(\"What is the correction for value '{}'? Type in the same value if it is not erronous.\\n\".format(value))\n",
    "#             user_label = 1 if value != correction else 0\n",
    "#             d.labeled_cells[cell] = [user_label, correction]\n",
    "#         d.labeled_tuples[d.sampled_tuple] = 1\n",
    "#     app_2.update_models(d)\n",
    "#     app_2.generate_features(d)\n",
    "#     app_2.predict_corrections(d)\n",
    "\n",
    "#labeled_tuples_list = list(d.labeled_tuples.keys())\n",
    "#k = labeled_tuples_list[0]\n",
    "\n",
    "#si = d.labeled_tuples[k]\n",
    "#d.sampled_tuple = k\n",
    "#app_2.update_models(d)\n",
    "#app_2.generate_features(d)\n",
    "\n",
    "for si in d.labeled_tuples:\n",
    "    d.sampled_tuple = si\n",
    "    app_2.update_models(d)\n",
    "    app_2.generate_features(d)\n",
    "    app_2.predict_corrections(d)"
   ]
  },
  {
   "cell_type": "code",
   "execution_count": 16,
   "outputs": [],
   "source": [
    "#d.corrected_cells = {}"
   ],
   "metadata": {
    "collapsed": false,
    "pycharm": {
     "name": "#%%\n"
    }
   }
  },
  {
   "cell_type": "code",
   "execution_count": 17,
   "outputs": [],
   "source": [
    "#app_2.predict_corrections(d)"
   ],
   "metadata": {
    "collapsed": false,
    "pycharm": {
     "name": "#%%\n"
    }
   }
  },
  {
   "cell_type": "markdown",
   "metadata": {},
   "source": [
    "### 5. Storing Results\n",
    "Baran can also store the error correction results."
   ]
  },
  {
   "cell_type": "code",
   "execution_count": 18,
   "metadata": {},
   "outputs": [
    {
     "name": "stdout",
     "output_type": "stream",
     "text": [
      "The results are stored in datasets/flights/raha-baran-results-flights/error-correction/correction.dataset.\n"
     ]
    }
   ],
   "source": [
    "app_2.store_results(d)"
   ]
  },
  {
   "cell_type": "markdown",
   "metadata": {},
   "source": [
    "### 6. Evaluating the Error Correction Task\n",
    "We can finally evaluate our error correction task."
   ]
  },
  {
   "cell_type": "code",
   "execution_count": 19,
   "metadata": {},
   "outputs": [
    {
     "name": "stdout",
     "output_type": "stream",
     "text": [
      "Baran's performance on flights:\n",
      "Precision = 0.82\n",
      "Recall = 0.42\n",
      "F1 = 0.56\n"
     ]
    }
   ],
   "source": [
    "p, r, f = d.get_data_cleaning_evaluation(d.corrected_cells)[-3:]\n",
    "print(\"Baran's performance on {}:\\nPrecision = {:.2f}\\nRecall = {:.2f}\\nF1 = {:.2f}\".format(d.name, p, r, f))"
   ]
  },
  {
   "cell_type": "code",
   "execution_count": 21,
   "outputs": [],
   "source": [
    "actual_errors = d.get_actual_errors_dictionary()"
   ],
   "metadata": {
    "collapsed": false,
    "pycharm": {
     "name": "#%%\n"
    }
   }
  },
  {
   "cell_type": "code",
   "execution_count": 22,
   "outputs": [],
   "source": [
    "#d = pickle.load(open(\"datasets/flights/raha-baran-results-flights/error-correction/correction.dataset\", \"rb\"))"
   ],
   "metadata": {
    "collapsed": false,
    "pycharm": {
     "name": "#%%\n"
    }
   }
  },
  {
   "cell_type": "code",
   "execution_count": 23,
   "metadata": {},
   "outputs": [
    {
     "data": {
      "text/plain": "16632"
     },
     "execution_count": 23,
     "metadata": {},
     "output_type": "execute_result"
    }
   ],
   "source": [
    "d.dataframe.shape[0] * d.dataframe.shape[1]"
   ]
  },
  {
   "cell_type": "code",
   "execution_count": 24,
   "outputs": [],
   "source": [
    "detected_cell_list = list(d.detected_cells.items())\n",
    "probabilities = [detection[1] for detection in detected_cell_list]\n",
    "is_correctly_detected = [cell[0] in actual_errors for cell in detected_cell_list]\n",
    "p_array = np.array(probabilities)"
   ],
   "metadata": {
    "collapsed": false,
    "pycharm": {
     "name": "#%%\n"
    }
   }
  },
  {
   "cell_type": "code",
   "execution_count": 25,
   "outputs": [
    {
     "data": {
      "text/plain": "(array([0.000e+00, 0.000e+00, 1.300e+01, 0.000e+00, 0.000e+00, 0.000e+00,\n        0.000e+00, 6.000e+00, 5.000e+00, 1.200e+01, 0.000e+00, 1.000e+01,\n        1.000e+01, 9.000e+00, 3.300e+01, 4.000e+00, 2.800e+01, 1.200e+01,\n        6.500e+01, 5.596e+03]),\n array([0.5  , 0.525, 0.55 , 0.575, 0.6  , 0.625, 0.65 , 0.675, 0.7  ,\n        0.725, 0.75 , 0.775, 0.8  , 0.825, 0.85 , 0.875, 0.9  , 0.925,\n        0.95 , 0.975, 1.   ]),\n <a list of 20 Patch objects>)"
     },
     "execution_count": 25,
     "metadata": {},
     "output_type": "execute_result"
    },
    {
     "data": {
      "text/plain": "<Figure size 432x288 with 1 Axes>",
      "image/png": "[encoded data removed]"
     },
     "metadata": {
      "needs_background": "light"
     },
     "output_type": "display_data"
    }
   ],
   "source": [
    "plt.hist(p_array[:,1], bins=np.linspace(0.5, 1.0, 21))"
   ],
   "metadata": {
    "collapsed": false,
    "pycharm": {
     "name": "#%%\n"
    }
   }
  },
  {
   "cell_type": "code",
   "execution_count": 26,
   "outputs": [],
   "source": [
    "p_df = DataFrame([list(detection[0]) + list(detection[1]) for detection in detected_cell_list], columns=[\"row\", \"column\", \"p_not\", \"p\"])\n",
    "p_df = p_df[[\"row\", \"column\", \"p\"]]\n",
    "p_df[\"correct\"] = is_correctly_detected"
   ],
   "metadata": {
    "collapsed": false,
    "pycharm": {
     "name": "#%%\n"
    }
   }
  },
  {
   "cell_type": "code",
   "execution_count": 28,
   "outputs": [
    {
     "data": {
      "text/plain": "correct\nFalse    [[AxesSubplot(0.125,0.125;0.775x0.755)]]\nTrue     [[AxesSubplot(0.125,0.125;0.775x0.755)]]\ndtype: object"
     },
     "execution_count": 28,
     "metadata": {},
     "output_type": "execute_result"
    },
    {
     "data": {
      "text/plain": "<Figure size 432x288 with 1 Axes>",
      "image/png": "[encoded data removed]"
     },
     "metadata": {
      "needs_background": "light"
     },
     "output_type": "display_data"
    },
    {
     "data": {
      "text/plain": "<Figure size 432x288 with 1 Axes>",
      "image/png": "[encoded data removed]"
     },
     "metadata": {
      "needs_background": "light"
     },
     "output_type": "display_data"
    }
   ],
   "source": [
    "p_df[[\"correct\",\"p\"]].groupby(\"correct\").hist(bins=np.linspace(0.5, 1.0, 21))"
   ],
   "metadata": {
    "collapsed": false,
    "pycharm": {
     "name": "#%%\n"
    }
   }
  },
  {
   "cell_type": "code",
   "execution_count": 29,
   "outputs": [],
   "source": [
    "undetected_cell_list = list(d.undetected_cells.items())\n",
    "probabilities = [detection[1] for detection in undetected_cell_list]\n",
    "is_correctly_detected = [cell[0] not in actual_errors for cell in undetected_cell_list]\n",
    "\n",
    "p_df_n = DataFrame([list(detection[0]) + list(detection[1]) for detection in undetected_cell_list], columns=[\"row\", \"column\", \"p_not\", \"p\"])\n",
    "p_df_n = p_df_n[[\"row\", \"column\", \"p\"]]\n",
    "p_df_n[\"correct\"] = is_correctly_detected"
   ],
   "metadata": {
    "collapsed": false,
    "pycharm": {
     "name": "#%%\n"
    }
   }
  },
  {
   "cell_type": "code",
   "execution_count": 30,
   "outputs": [
    {
     "data": {
      "text/plain": "correct\nFalse    [[AxesSubplot(0.125,0.125;0.775x0.755)]]\nTrue     [[AxesSubplot(0.125,0.125;0.775x0.755)]]\ndtype: object"
     },
     "execution_count": 30,
     "metadata": {},
     "output_type": "execute_result"
    },
    {
     "data": {
      "text/plain": "<Figure size 432x288 with 1 Axes>",
      "image/png": "[encoded data removed]"
     },
     "metadata": {
      "needs_background": "light"
     },
     "output_type": "display_data"
    },
    {
     "data": {
      "text/plain": "<Figure size 432x288 with 1 Axes>",
      "image/png": "[encoded data removed]"
     },
     "metadata": {
      "needs_background": "light"
     },
     "output_type": "display_data"
    }
   ],
   "source": [
    "p_df_n[[\"correct\",\"p\"]].groupby(\"correct\").hist(bins=np.linspace(0.0, 0.5, 21))"
   ],
   "metadata": {
    "collapsed": false,
    "pycharm": {
     "name": "#%%\n"
    }
   }
  },
  {
   "cell_type": "code",
   "execution_count": 31,
   "outputs": [],
   "source": [
    "low_p = p_df[p_df[\"p\"] < 0.60]"
   ],
   "metadata": {
    "collapsed": false,
    "pycharm": {
     "name": "#%%\n"
    }
   }
  },
  {
   "cell_type": "code",
   "execution_count": 32,
   "outputs": [
    {
     "data": {
      "text/plain": "13"
     },
     "execution_count": 32,
     "metadata": {},
     "output_type": "execute_result"
    }
   ],
   "source": [
    "low_p.shape[0]"
   ],
   "metadata": {
    "collapsed": false,
    "pycharm": {
     "name": "#%%\n"
    }
   }
  },
  {
   "cell_type": "code",
   "execution_count": 33,
   "outputs": [
    {
     "data": {
      "text/plain": "5803"
     },
     "execution_count": 33,
     "metadata": {},
     "output_type": "execute_result"
    }
   ],
   "source": [
    "p_df.shape[0]"
   ],
   "metadata": {
    "collapsed": false,
    "pycharm": {
     "name": "#%%\n"
    }
   }
  },
  {
   "cell_type": "code",
   "execution_count": 34,
   "outputs": [],
   "source": [
    "low_p_dataframe = d.dataframe.loc[low_p[\"row\"].unique(),:]"
   ],
   "metadata": {
    "collapsed": false,
    "pycharm": {
     "name": "#%%\n"
    }
   }
  },
  {
   "cell_type": "code",
   "execution_count": 35,
   "outputs": [
    {
     "data": {
      "text/plain": "4005"
     },
     "execution_count": 35,
     "metadata": {},
     "output_type": "execute_result"
    }
   ],
   "source": [
    "sum(d.extended_labeled_cells.values())\n"
   ],
   "metadata": {
    "collapsed": false,
    "pycharm": {
     "name": "#%%\n"
    }
   }
  },
  {
   "cell_type": "code",
   "execution_count": 36,
   "outputs": [],
   "source": [
    "correction_features = []\n",
    "\n",
    "for cell in d.corrected_cells:\n",
    "    correction_features.append(list(cell) +\n",
    "                               [d.dataframe.iloc[cell]] +\n",
    "                               [d.corrected_cells[cell]] +\n",
    "                               [actual_errors[cell] if cell in actual_errors else d.dataframe.iloc[cell]] +\n",
    "                               list(d.pair_features[cell][d.corrected_cells[cell]]))"
   ],
   "metadata": {
    "collapsed": false,
    "pycharm": {
     "name": "#%%\n"
    }
   }
  },
  {
   "cell_type": "code",
   "execution_count": 37,
   "outputs": [],
   "source": [
    "correction_features_df = DataFrame(correction_features,\n",
    "                                   columns=[\"row\",\n",
    "                                            \"column\",\n",
    "                                            \"old_value\",\n",
    "                                            \"new_value\",\n",
    "                                            \"actual_value\",\n",
    "                                            *[f\"feature_value_{i}\" for i in range(8)],\n",
    "                                            *[f\"feature_vicinity_{i}\" for i in range(7)],\n",
    "                                            \"feature_domain\"])"
   ],
   "metadata": {
    "collapsed": false,
    "pycharm": {
     "name": "#%%\n"
    }
   }
  },
  {
   "cell_type": "code",
   "execution_count": 38,
   "outputs": [
    {
     "data": {
      "text/plain": "feature_value_0       0.000396\nfeature_value_1       0.000396\nfeature_value_2       0.005046\nfeature_value_3       0.005046\nfeature_vicinity_1    0.008810\nfeature_value_5       0.011136\nfeature_vicinity_0    0.018621\nfeature_domain        0.019134\nfeature_value_7       0.021031\nfeature_value_4       0.032224\nfeature_vicinity_4    0.042789\nfeature_value_6       0.057344\nfeature_vicinity_5    0.200561\nfeature_vicinity_3    0.220696\nfeature_vicinity_6    0.301334\nfeature_vicinity_2    0.877990\ndtype: float64"
     },
     "execution_count": 38,
     "metadata": {},
     "output_type": "execute_result"
    }
   ],
   "source": [
    "correction_features_df.iloc[:,5:].mean().sort_values()"
   ],
   "metadata": {
    "collapsed": false,
    "pycharm": {
     "name": "#%%\n"
    }
   }
  },
  {
   "cell_type": "code",
   "execution_count": 39,
   "outputs": [
    {
     "data": {
      "text/plain": "        feature_value_0  feature_value_1  feature_value_2  feature_value_3  \\\ncolumn                                                                       \n3              0.000000         0.000000         0.006485         0.006485   \n4              0.000000         0.000000         0.005990         0.005990   \n5              0.001063         0.001063         0.004642         0.004642   \n6              0.000000         0.000000         0.003332         0.003332   \n\n        feature_value_4  feature_value_5  feature_value_6  feature_value_7  \\\ncolumn                                                                       \n3              0.028436         0.011298         0.038608         0.016400   \n4              0.138822         0.041492         0.215029         0.062580   \n5              0.001063         0.000869         0.011373         0.007204   \n6              0.009311         0.005587         0.038714         0.018767   \n\n        feature_vicinity_0  feature_vicinity_1  feature_vicinity_2  \\\ncolumn                                                               \n3                 0.014218            0.006459            0.994945   \n4                 0.041162            0.033697            1.000000   \n5                 0.009564            0.002586            0.921216   \n6                 0.022346            0.003348            0.570548   \n\n        feature_vicinity_3  feature_vicinity_4  feature_vicinity_5  \\\ncolumn                                                               \n3                 0.000000            0.096367            0.142180   \n4                 0.530266            0.000000            0.460048   \n5                 0.085902            0.043571            0.000000   \n6                 0.478963            0.011173            0.421257   \n\n        feature_vicinity_6  feature_domain  \ncolumn                                      \n3                 0.470379        0.018201  \n4                 0.421308        0.058263  \n5                 0.306924        0.010157  \n6                 0.000000        0.005873  ",
      "text/html": "<div>\n<style scoped>\n    .dataframe tbody tr th:only-of-type {\n        vertical-align: middle;\n    }\n\n    .dataframe tbody tr th {\n        vertical-align: top;\n    }\n\n    .dataframe thead th {\n        text-align: right;\n    }\n</style>\n<table border=\"1\" class=\"dataframe\">\n  <thead>\n    <tr style=\"text-align: right;\">\n      <th></th>\n      <th>feature_value_0</th>\n      <th>feature_value_1</th>\n      <th>feature_value_2</th>\n      <th>feature_value_3</th>\n      <th>feature_value_4</th>\n      <th>feature_value_5</th>\n      <th>feature_value_6</th>\n      <th>feature_value_7</th>\n      <th>feature_vicinity_0</th>\n      <th>feature_vicinity_1</th>\n      <th>feature_vicinity_2</th>\n      <th>feature_vicinity_3</th>\n      <th>feature_vicinity_4</th>\n      <th>feature_vicinity_5</th>\n      <th>feature_vicinity_6</th>\n      <th>feature_domain</th>\n    </tr>\n    <tr>\n      <th>column</th>\n      <th></th>\n      <th></th>\n      <th></th>\n      <th></th>\n      <th></th>\n      <th></th>\n      <th></th>\n      <th></th>\n      <th></th>\n      <th></th>\n      <th></th>\n      <th></th>\n      <th></th>\n      <th></th>\n      <th></th>\n      <th></th>\n    </tr>\n  </thead>\n  <tbody>\n    <tr>\n      <th>3</th>\n      <td>0.000000</td>\n      <td>0.000000</td>\n      <td>0.006485</td>\n      <td>0.006485</td>\n      <td>0.028436</td>\n      <td>0.011298</td>\n      <td>0.038608</td>\n      <td>0.016400</td>\n      <td>0.014218</td>\n      <td>0.006459</td>\n      <td>0.994945</td>\n      <td>0.000000</td>\n      <td>0.096367</td>\n      <td>0.142180</td>\n      <td>0.470379</td>\n      <td>0.018201</td>\n    </tr>\n    <tr>\n      <th>4</th>\n      <td>0.000000</td>\n      <td>0.000000</td>\n      <td>0.005990</td>\n      <td>0.005990</td>\n      <td>0.138822</td>\n      <td>0.041492</td>\n      <td>0.215029</td>\n      <td>0.062580</td>\n      <td>0.041162</td>\n      <td>0.033697</td>\n      <td>1.000000</td>\n      <td>0.530266</td>\n      <td>0.000000</td>\n      <td>0.460048</td>\n      <td>0.421308</td>\n      <td>0.058263</td>\n    </tr>\n    <tr>\n      <th>5</th>\n      <td>0.001063</td>\n      <td>0.001063</td>\n      <td>0.004642</td>\n      <td>0.004642</td>\n      <td>0.001063</td>\n      <td>0.000869</td>\n      <td>0.011373</td>\n      <td>0.007204</td>\n      <td>0.009564</td>\n      <td>0.002586</td>\n      <td>0.921216</td>\n      <td>0.085902</td>\n      <td>0.043571</td>\n      <td>0.000000</td>\n      <td>0.306924</td>\n      <td>0.010157</td>\n    </tr>\n    <tr>\n      <th>6</th>\n      <td>0.000000</td>\n      <td>0.000000</td>\n      <td>0.003332</td>\n      <td>0.003332</td>\n      <td>0.009311</td>\n      <td>0.005587</td>\n      <td>0.038714</td>\n      <td>0.018767</td>\n      <td>0.022346</td>\n      <td>0.003348</td>\n      <td>0.570548</td>\n      <td>0.478963</td>\n      <td>0.011173</td>\n      <td>0.421257</td>\n      <td>0.000000</td>\n      <td>0.005873</td>\n    </tr>\n  </tbody>\n</table>\n</div>"
     },
     "execution_count": 39,
     "metadata": {},
     "output_type": "execute_result"
    }
   ],
   "source": [
    "correction_features_df.iloc[:,[1] + list(range(5,correction_features_df.shape[1]))].groupby(\"column\").mean()"
   ],
   "metadata": {
    "collapsed": false,
    "pycharm": {
     "name": "#%%\n"
    }
   }
  },
  {
   "cell_type": "code",
   "execution_count": 41,
   "outputs": [],
   "source": [
    "correction_features_df[\"wrong_correction\"] = (correction_features_df[\"old_value\"] == correction_features_df[\"actual_value\"]) & (correction_features_df[\"old_value\"] != correction_features_df[\"new_value\"])"
   ],
   "metadata": {
    "collapsed": false,
    "pycharm": {
     "name": "#%%\n"
    }
   }
  },
  {
   "cell_type": "code",
   "execution_count": 42,
   "outputs": [
    {
     "data": {
      "text/plain": "0.044770206022187"
     },
     "execution_count": 42,
     "metadata": {},
     "output_type": "execute_result"
    }
   ],
   "source": [
    "correction_features_df[\"wrong_correction\"].sum() / correction_features_df.shape[0]"
   ],
   "metadata": {
    "collapsed": false,
    "pycharm": {
     "name": "#%%\n"
    }
   }
  },
  {
   "cell_type": "code",
   "execution_count": 43,
   "outputs": [
    {
     "data": {
      "text/plain": "[1390, 114, 308, 288, 514, 393, 525]"
     },
     "execution_count": 43,
     "metadata": {},
     "output_type": "execute_result"
    }
   ],
   "source": [
    "distinct_features = []\n",
    "\n",
    "for column_index in range(d.dataframe.shape[1]):\n",
    "    unique_rows = np.unique(d.column_features[column_index], axis=0)\n",
    "    distinct_features.append(unique_rows.shape[0])\n",
    "\n",
    "distinct_features"
   ],
   "metadata": {
    "collapsed": false,
    "pycharm": {
     "name": "#%%\n"
    }
   }
  },
  {
   "cell_type": "code",
   "execution_count": 44,
   "outputs": [],
   "source": [
    "cluster_features = []\n",
    "\n",
    "for cluster_i in range(1,21):\n",
    "    cluster_features.append(d.column_features[3][\n",
    "        [key[0] for key in d.clusters_k_j_c_ce[21][3][cluster_i].keys()]])"
   ],
   "metadata": {
    "collapsed": false,
    "pycharm": {
     "name": "#%%\n"
    }
   }
  },
  {
   "cell_type": "code",
   "execution_count": 45,
   "outputs": [],
   "source": [
    "cluster_feature_means = np.array([cluster.mean(axis=0) for cluster in cluster_features])"
   ],
   "metadata": {
    "collapsed": false,
    "pycharm": {
     "name": "#%%\n"
    }
   }
  },
  {
   "cell_type": "code",
   "execution_count": 46,
   "outputs": [
    {
     "data": {
      "text/plain": "1      3\n2      2\n4      3\n7      1\n10     1\n12     2\n13     1\n31     1\n32     1\n72     1\n102    1\n211    1\n344    1\n751    1\n760    1\ndtype: int64"
     },
     "execution_count": 46,
     "metadata": {},
     "output_type": "execute_result"
    }
   ],
   "source": [
    "Series([len(cluster) for cluster in d.clusters_k_j_c_ce[21][3].values()]).value_counts().sort_index()"
   ],
   "metadata": {
    "collapsed": false,
    "pycharm": {
     "name": "#%%\n"
    }
   }
  },
  {
   "cell_type": "code",
   "execution_count": 47,
   "outputs": [],
   "source": [
    "df = d.correction_prediction_dfs[0][5]"
   ],
   "metadata": {
    "collapsed": false,
    "pycharm": {
     "name": "#%%\n"
    }
   }
  },
  {
   "cell_type": "code",
   "execution_count": 48,
   "outputs": [
    {
     "data": {
      "text/plain": "884"
     },
     "execution_count": 48,
     "metadata": {},
     "output_type": "execute_result"
    }
   ],
   "source": [
    "df[\"prediction\"].sum()"
   ],
   "metadata": {
    "collapsed": false,
    "pycharm": {
     "name": "#%%\n"
    }
   }
  },
  {
   "cell_type": "code",
   "execution_count": 49,
   "outputs": [
    {
     "data": {
      "text/plain": "cell\n(5, 5)       0\n(1987, 5)    0\n(903, 5)     0\n(1414, 5)    0\n(388, 5)     0\n(391, 5)     0\n(1967, 5)    0\n(1434, 5)    0\n(879, 5)     0\n(398, 5)     0\n(1439, 5)    0\n(1443, 5)    0\n(1960, 5)    0\n(1451, 5)    0\n(1469, 5)    0\n(870, 5)     0\n(1944, 5)    0\n(407, 5)     0\n(1927, 5)    0\n(1917, 5)    0\n(1911, 5)    0\n(1908, 5)    0\n(1879, 5)    0\n(1850, 5)    0\n(863, 5)     0\n(861, 5)     0\n(1990, 5)    0\n(851, 5)     0\n(374, 5)     0\n(2000, 5)    0\n            ..\n(796, 5)     1\n(763, 5)     1\n(765, 5)     1\n(767, 5)     1\n(768, 5)     1\n(769, 5)     1\n(771, 5)     1\n(772, 5)     1\n(774, 5)     1\n(775, 5)     1\n(776, 5)     1\n(778, 5)     1\n(780, 5)     1\n(781, 5)     1\n(782, 5)     1\n(783, 5)     1\n(784, 5)     1\n(785, 5)     1\n(786, 5)     1\n(787, 5)     1\n(788, 5)     1\n(789, 5)     1\n(790, 5)     1\n(791, 5)     1\n(792, 5)     1\n(793, 5)     1\n(794, 5)     1\n(795, 5)     1\n(761, 5)     1\n(2318, 5)    1\nName: prediction, Length: 1057, dtype: int64"
     },
     "execution_count": 49,
     "metadata": {},
     "output_type": "execute_result"
    }
   ],
   "source": [
    "df[\"prediction\"].groupby(df[\"cell\"]).sum().sort_values()"
   ],
   "metadata": {
    "collapsed": false,
    "pycharm": {
     "name": "#%%\n"
    }
   }
  },
  {
   "cell_type": "code",
   "execution_count": 50,
   "outputs": [],
   "source": [
    "df = df[df[\"prediction\"] == 1]"
   ],
   "metadata": {
    "collapsed": false,
    "pycharm": {
     "name": "#%%\n"
    }
   }
  },
  {
   "cell_type": "code",
   "execution_count": 51,
   "outputs": [
    {
     "data": {
      "text/plain": "<matplotlib.axes._subplots.AxesSubplot at 0x7f4019e7de10>"
     },
     "execution_count": 51,
     "metadata": {},
     "output_type": "execute_result"
    },
    {
     "data": {
      "text/plain": "<Figure size 432x288 with 1 Axes>",
      "image/png": "[encoded data removed]"
     },
     "metadata": {
      "needs_background": "light"
     },
     "output_type": "display_data"
    }
   ],
   "source": [
    "df[\"probability\"].hist(bins=np.linspace(0.5, 1.0, 21))"
   ],
   "metadata": {
    "collapsed": false,
    "pycharm": {
     "name": "#%%\n"
    }
   }
  },
  {
   "cell_type": "code",
   "execution_count": 52,
   "outputs": [
    {
     "data": {
      "text/plain": "Empty DataFrame\nColumns: [prediction, cell, probability, correction]\nIndex: []",
      "text/html": "<div>\n<style scoped>\n    .dataframe tbody tr th:only-of-type {\n        vertical-align: middle;\n    }\n\n    .dataframe tbody tr th {\n        vertical-align: top;\n    }\n\n    .dataframe thead th {\n        text-align: right;\n    }\n</style>\n<table border=\"1\" class=\"dataframe\">\n  <thead>\n    <tr style=\"text-align: right;\">\n      <th></th>\n      <th>prediction</th>\n      <th>cell</th>\n      <th>probability</th>\n      <th>correction</th>\n    </tr>\n    <tr>\n      <th>cell</th>\n      <th></th>\n      <th></th>\n      <th></th>\n      <th></th>\n    </tr>\n  </thead>\n  <tbody>\n  </tbody>\n</table>\n</div>"
     },
     "execution_count": 52,
     "metadata": {},
     "output_type": "execute_result"
    }
   ],
   "source": [
    "aggregated = df.groupby(\"cell\").agg({\"prediction\": \"sum\",\n",
    "                                     \"cell\": \"first\",\n",
    "                                     \"probability\": list,\n",
    "                                     \"correction\": list})\n",
    "aggregated = aggregated[aggregated[\"prediction\"] == 2]\n",
    "aggregated"
   ],
   "metadata": {
    "collapsed": false,
    "pycharm": {
     "name": "#%%\n"
    }
   }
  },
  {
   "cell_type": "code",
   "execution_count": null,
   "outputs": [],
   "source": [
    "# Compare correction and actual\n",
    "cell = (59,5)\n",
    "print(d.corrected_cells[cell])\n",
    "print(actual_errors[cell])"
   ],
   "metadata": {
    "collapsed": false,
    "pycharm": {
     "name": "#%%\n"
    }
   }
  },
  {
   "cell_type": "code",
   "execution_count": 53,
   "outputs": [
    {
     "data": {
      "text/plain": "           cell  confidence  detection_correct  correct\n0      (222, 3)    1.000000               True     True\n1      (572, 3)    1.000000               True     True\n2      (688, 3)    1.000000               True     True\n3     (1042, 3)    1.000000               True     True\n4     (1099, 3)    1.000000               True     True\n5     (1409, 3)    1.000000               True     True\n6     (1498, 3)    1.000000               True     True\n7     (2016, 3)    1.000000               True     True\n8     (2152, 3)    1.000000               True     True\n9       (54, 3)    1.000000               True     True\n10      (55, 3)    1.000000               True     True\n11      (56, 3)    1.000000               True     True\n12      (58, 3)    1.000000               True     True\n13      (60, 3)    1.000000               True     True\n14      (67, 3)    1.000000               True     True\n15      (69, 3)    1.000000               True     True\n16      (73, 3)    1.000000               True     True\n17      (82, 3)    1.000000               True     True\n18      (84, 3)    1.000000               True     True\n19      (85, 3)    1.000000               True    False\n20      (88, 3)    1.000000              False    False\n21      (90, 3)    1.000000               True     True\n22      (92, 3)    1.000000               True     True\n23      (94, 3)    1.000000               True     True\n24      (97, 3)    1.000000               True     True\n25     (101, 3)    1.000000               True     True\n26     (102, 3)    1.000000               True     True\n27     (104, 3)    1.000000               True     True\n28     (109, 3)    1.000000               True     True\n29     (110, 3)    1.000000               True     True\n...         ...         ...                ...      ...\n2494  (1920, 6)    0.999995               True     True\n2495  (2012, 6)    0.917713               True     True\n2496  (2112, 6)    0.917713               True     True\n2497  (2217, 6)    0.917713               True     True\n2498  (2357, 6)    0.999995               True     True\n2499    (17, 4)    1.000000              False    False\n2500   (102, 4)    1.000000              False    False\n2501   (282, 4)    1.000000               True     True\n2502   (389, 4)    1.000000              False    False\n2503   (528, 4)    1.000000               True     True\n2504   (588, 4)    1.000000              False    False\n2505   (720, 4)    1.000000               True     True\n2506   (765, 4)    1.000000               True     True\n2507   (796, 4)    1.000000               True     True\n2508   (902, 4)    1.000000              False    False\n2509   (973, 4)    1.000000              False    False\n2510  (1019, 4)    1.000000               True     True\n2511  (1161, 4)    1.000000               True     True\n2512  (1275, 4)    1.000000              False    False\n2513  (1413, 4)    1.000000               True     True\n2514  (1539, 4)    1.000000              False    False\n2515  (1613, 4)    1.000000               True     True\n2516  (1686, 4)    1.000000              False    False\n2517  (1849, 4)    1.000000              False    False\n2518  (1909, 4)    1.000000              False    False\n2519  (2041, 4)    1.000000               True     True\n2520  (2141, 4)    1.000000              False    False\n2521  (2246, 4)    1.000000               True     True\n2522  (2280, 4)    1.000000              False    False\n2523  (2343, 4)    1.000000              False    False\n\n[2524 rows x 4 columns]",
      "text/html": "<div>\n<style scoped>\n    .dataframe tbody tr th:only-of-type {\n        vertical-align: middle;\n    }\n\n    .dataframe tbody tr th {\n        vertical-align: top;\n    }\n\n    .dataframe thead th {\n        text-align: right;\n    }\n</style>\n<table border=\"1\" class=\"dataframe\">\n  <thead>\n    <tr style=\"text-align: right;\">\n      <th></th>\n      <th>cell</th>\n      <th>confidence</th>\n      <th>detection_correct</th>\n      <th>correct</th>\n    </tr>\n  </thead>\n  <tbody>\n    <tr>\n      <th>0</th>\n      <td>(222, 3)</td>\n      <td>1.000000</td>\n      <td>True</td>\n      <td>True</td>\n    </tr>\n    <tr>\n      <th>1</th>\n      <td>(572, 3)</td>\n      <td>1.000000</td>\n      <td>True</td>\n      <td>True</td>\n    </tr>\n    <tr>\n      <th>2</th>\n      <td>(688, 3)</td>\n      <td>1.000000</td>\n      <td>True</td>\n      <td>True</td>\n    </tr>\n    <tr>\n      <th>3</th>\n      <td>(1042, 3)</td>\n      <td>1.000000</td>\n      <td>True</td>\n      <td>True</td>\n    </tr>\n    <tr>\n      <th>4</th>\n      <td>(1099, 3)</td>\n      <td>1.000000</td>\n      <td>True</td>\n      <td>True</td>\n    </tr>\n    <tr>\n      <th>5</th>\n      <td>(1409, 3)</td>\n      <td>1.000000</td>\n      <td>True</td>\n      <td>True</td>\n    </tr>\n    <tr>\n      <th>6</th>\n      <td>(1498, 3)</td>\n      <td>1.000000</td>\n      <td>True</td>\n      <td>True</td>\n    </tr>\n    <tr>\n      <th>7</th>\n      <td>(2016, 3)</td>\n      <td>1.000000</td>\n      <td>True</td>\n      <td>True</td>\n    </tr>\n    <tr>\n      <th>8</th>\n      <td>(2152, 3)</td>\n      <td>1.000000</td>\n      <td>True</td>\n      <td>True</td>\n    </tr>\n    <tr>\n      <th>9</th>\n      <td>(54, 3)</td>\n      <td>1.000000</td>\n      <td>True</td>\n      <td>True</td>\n    </tr>\n    <tr>\n      <th>10</th>\n      <td>(55, 3)</td>\n      <td>1.000000</td>\n      <td>True</td>\n      <td>True</td>\n    </tr>\n    <tr>\n      <th>11</th>\n      <td>(56, 3)</td>\n      <td>1.000000</td>\n      <td>True</td>\n      <td>True</td>\n    </tr>\n    <tr>\n      <th>12</th>\n      <td>(58, 3)</td>\n      <td>1.000000</td>\n      <td>True</td>\n      <td>True</td>\n    </tr>\n    <tr>\n      <th>13</th>\n      <td>(60, 3)</td>\n      <td>1.000000</td>\n      <td>True</td>\n      <td>True</td>\n    </tr>\n    <tr>\n      <th>14</th>\n      <td>(67, 3)</td>\n      <td>1.000000</td>\n      <td>True</td>\n      <td>True</td>\n    </tr>\n    <tr>\n      <th>15</th>\n      <td>(69, 3)</td>\n      <td>1.000000</td>\n      <td>True</td>\n      <td>True</td>\n    </tr>\n    <tr>\n      <th>16</th>\n      <td>(73, 3)</td>\n      <td>1.000000</td>\n      <td>True</td>\n      <td>True</td>\n    </tr>\n    <tr>\n      <th>17</th>\n      <td>(82, 3)</td>\n      <td>1.000000</td>\n      <td>True</td>\n      <td>True</td>\n    </tr>\n    <tr>\n      <th>18</th>\n      <td>(84, 3)</td>\n      <td>1.000000</td>\n      <td>True</td>\n      <td>True</td>\n    </tr>\n    <tr>\n      <th>19</th>\n      <td>(85, 3)</td>\n      <td>1.000000</td>\n      <td>True</td>\n      <td>False</td>\n    </tr>\n    <tr>\n      <th>20</th>\n      <td>(88, 3)</td>\n      <td>1.000000</td>\n      <td>False</td>\n      <td>False</td>\n    </tr>\n    <tr>\n      <th>21</th>\n      <td>(90, 3)</td>\n      <td>1.000000</td>\n      <td>True</td>\n      <td>True</td>\n    </tr>\n    <tr>\n      <th>22</th>\n      <td>(92, 3)</td>\n      <td>1.000000</td>\n      <td>True</td>\n      <td>True</td>\n    </tr>\n    <tr>\n      <th>23</th>\n      <td>(94, 3)</td>\n      <td>1.000000</td>\n      <td>True</td>\n      <td>True</td>\n    </tr>\n    <tr>\n      <th>24</th>\n      <td>(97, 3)</td>\n      <td>1.000000</td>\n      <td>True</td>\n      <td>True</td>\n    </tr>\n    <tr>\n      <th>25</th>\n      <td>(101, 3)</td>\n      <td>1.000000</td>\n      <td>True</td>\n      <td>True</td>\n    </tr>\n    <tr>\n      <th>26</th>\n      <td>(102, 3)</td>\n      <td>1.000000</td>\n      <td>True</td>\n      <td>True</td>\n    </tr>\n    <tr>\n      <th>27</th>\n      <td>(104, 3)</td>\n      <td>1.000000</td>\n      <td>True</td>\n      <td>True</td>\n    </tr>\n    <tr>\n      <th>28</th>\n      <td>(109, 3)</td>\n      <td>1.000000</td>\n      <td>True</td>\n      <td>True</td>\n    </tr>\n    <tr>\n      <th>29</th>\n      <td>(110, 3)</td>\n      <td>1.000000</td>\n      <td>True</td>\n      <td>True</td>\n    </tr>\n    <tr>\n      <th>...</th>\n      <td>...</td>\n      <td>...</td>\n      <td>...</td>\n      <td>...</td>\n    </tr>\n    <tr>\n      <th>2494</th>\n      <td>(1920, 6)</td>\n      <td>0.999995</td>\n      <td>True</td>\n      <td>True</td>\n    </tr>\n    <tr>\n      <th>2495</th>\n      <td>(2012, 6)</td>\n      <td>0.917713</td>\n      <td>True</td>\n      <td>True</td>\n    </tr>\n    <tr>\n      <th>2496</th>\n      <td>(2112, 6)</td>\n      <td>0.917713</td>\n      <td>True</td>\n      <td>True</td>\n    </tr>\n    <tr>\n      <th>2497</th>\n      <td>(2217, 6)</td>\n      <td>0.917713</td>\n      <td>True</td>\n      <td>True</td>\n    </tr>\n    <tr>\n      <th>2498</th>\n      <td>(2357, 6)</td>\n      <td>0.999995</td>\n      <td>True</td>\n      <td>True</td>\n    </tr>\n    <tr>\n      <th>2499</th>\n      <td>(17, 4)</td>\n      <td>1.000000</td>\n      <td>False</td>\n      <td>False</td>\n    </tr>\n    <tr>\n      <th>2500</th>\n      <td>(102, 4)</td>\n      <td>1.000000</td>\n      <td>False</td>\n      <td>False</td>\n    </tr>\n    <tr>\n      <th>2501</th>\n      <td>(282, 4)</td>\n      <td>1.000000</td>\n      <td>True</td>\n      <td>True</td>\n    </tr>\n    <tr>\n      <th>2502</th>\n      <td>(389, 4)</td>\n      <td>1.000000</td>\n      <td>False</td>\n      <td>False</td>\n    </tr>\n    <tr>\n      <th>2503</th>\n      <td>(528, 4)</td>\n      <td>1.000000</td>\n      <td>True</td>\n      <td>True</td>\n    </tr>\n    <tr>\n      <th>2504</th>\n      <td>(588, 4)</td>\n      <td>1.000000</td>\n      <td>False</td>\n      <td>False</td>\n    </tr>\n    <tr>\n      <th>2505</th>\n      <td>(720, 4)</td>\n      <td>1.000000</td>\n      <td>True</td>\n      <td>True</td>\n    </tr>\n    <tr>\n      <th>2506</th>\n      <td>(765, 4)</td>\n      <td>1.000000</td>\n      <td>True</td>\n      <td>True</td>\n    </tr>\n    <tr>\n      <th>2507</th>\n      <td>(796, 4)</td>\n      <td>1.000000</td>\n      <td>True</td>\n      <td>True</td>\n    </tr>\n    <tr>\n      <th>2508</th>\n      <td>(902, 4)</td>\n      <td>1.000000</td>\n      <td>False</td>\n      <td>False</td>\n    </tr>\n    <tr>\n      <th>2509</th>\n      <td>(973, 4)</td>\n      <td>1.000000</td>\n      <td>False</td>\n      <td>False</td>\n    </tr>\n    <tr>\n      <th>2510</th>\n      <td>(1019, 4)</td>\n      <td>1.000000</td>\n      <td>True</td>\n      <td>True</td>\n    </tr>\n    <tr>\n      <th>2511</th>\n      <td>(1161, 4)</td>\n      <td>1.000000</td>\n      <td>True</td>\n      <td>True</td>\n    </tr>\n    <tr>\n      <th>2512</th>\n      <td>(1275, 4)</td>\n      <td>1.000000</td>\n      <td>False</td>\n      <td>False</td>\n    </tr>\n    <tr>\n      <th>2513</th>\n      <td>(1413, 4)</td>\n      <td>1.000000</td>\n      <td>True</td>\n      <td>True</td>\n    </tr>\n    <tr>\n      <th>2514</th>\n      <td>(1539, 4)</td>\n      <td>1.000000</td>\n      <td>False</td>\n      <td>False</td>\n    </tr>\n    <tr>\n      <th>2515</th>\n      <td>(1613, 4)</td>\n      <td>1.000000</td>\n      <td>True</td>\n      <td>True</td>\n    </tr>\n    <tr>\n      <th>2516</th>\n      <td>(1686, 4)</td>\n      <td>1.000000</td>\n      <td>False</td>\n      <td>False</td>\n    </tr>\n    <tr>\n      <th>2517</th>\n      <td>(1849, 4)</td>\n      <td>1.000000</td>\n      <td>False</td>\n      <td>False</td>\n    </tr>\n    <tr>\n      <th>2518</th>\n      <td>(1909, 4)</td>\n      <td>1.000000</td>\n      <td>False</td>\n      <td>False</td>\n    </tr>\n    <tr>\n      <th>2519</th>\n      <td>(2041, 4)</td>\n      <td>1.000000</td>\n      <td>True</td>\n      <td>True</td>\n    </tr>\n    <tr>\n      <th>2520</th>\n      <td>(2141, 4)</td>\n      <td>1.000000</td>\n      <td>False</td>\n      <td>False</td>\n    </tr>\n    <tr>\n      <th>2521</th>\n      <td>(2246, 4)</td>\n      <td>1.000000</td>\n      <td>True</td>\n      <td>True</td>\n    </tr>\n    <tr>\n      <th>2522</th>\n      <td>(2280, 4)</td>\n      <td>1.000000</td>\n      <td>False</td>\n      <td>False</td>\n    </tr>\n    <tr>\n      <th>2523</th>\n      <td>(2343, 4)</td>\n      <td>1.000000</td>\n      <td>False</td>\n      <td>False</td>\n    </tr>\n  </tbody>\n</table>\n<p>2524 rows × 4 columns</p>\n</div>"
     },
     "execution_count": 53,
     "metadata": {},
     "output_type": "execute_result"
    }
   ],
   "source": [
    "confidence_list = list(d.correction_confidences.items())\n",
    "is_correctly_detected = [cell_conf_tuple[0] in actual_errors for cell_conf_tuple in confidence_list]\n",
    "is_correctly_corrected = [cell_conf_tuple[0] in actual_errors and\n",
    "                          d.corrected_cells[cell_conf_tuple[0]] == actual_errors[cell_conf_tuple[0]]\n",
    "                          for cell_conf_tuple in confidence_list]\n",
    "correction_confidence_df = DataFrame({\"cell\": [item[0] for item in confidence_list],\n",
    "                                      \"confidence\": [item[1] for item in confidence_list],\n",
    "                                      \"detection_correct\": is_correctly_detected,\n",
    "                                      \"correct\": is_correctly_corrected})\n",
    "correction_confidence_df"
   ],
   "metadata": {
    "collapsed": false,
    "pycharm": {
     "name": "#%%\n"
    }
   }
  },
  {
   "cell_type": "code",
   "execution_count": 54,
   "outputs": [
    {
     "data": {
      "text/plain": "           cell  confidence  detection_correct  correct\n19      (85, 3)    1.000000               True    False\n58     (188, 3)    1.000000               True    False\n84     (372, 3)    1.000000               True    False\n123    (475, 3)    1.000000               True    False\n152    (667, 3)    1.000000               True    False\n175    (753, 3)    1.000000               True    False\n212    (849, 3)    1.000000               True    False\n241   (1041, 3)    1.000000               True    False\n255   (1108, 3)    1.000000               True    False\n291   (1258, 3)    1.000000               True    False\n347   (1485, 3)    1.000000               True    False\n358   (1522, 3)    1.000000               True    False\n394   (1622, 3)    1.000000               True    False\n418   (1796, 3)    1.000000               True    False\n447   (1988, 3)    1.000000               True    False\n473   (2088, 3)    1.000000               True    False\n500   (2193, 3)    1.000000               True    False\n537     (53, 4)    1.000000               True    False\n540     (91, 4)    1.000000               True    False\n541    (129, 4)    1.000000               True    False\n552    (340, 4)    1.000000               True    False\n555    (378, 4)    1.000000               True    False\n556    (416, 4)    1.000000               True    False\n570    (732, 4)    1.000000               True    False\n582    (991, 4)    1.000000               True    False\n594   (1226, 4)    1.000000               True    False\n597   (1264, 4)    1.000000               True    False\n598   (1302, 4)    1.000000               True    False\n600   (1326, 4)    1.000000               True    False\n604   (1399, 4)    1.000000               True    False\n...         ...         ...                ...      ...\n2263  (1459, 6)    0.999995               True    False\n2264  (1464, 6)    0.999995               True    False\n2265  (1479, 6)    0.999995               True    False\n2266  (1533, 6)    0.999995               True    False\n2267  (1587, 6)    0.999995               True    False\n2269  (1617, 6)    0.999995               True    False\n2271  (1744, 6)    0.999995               True    False\n2272  (1763, 6)    0.999995               True    False\n2274  (1803, 6)    0.999995               True    False\n2276  (1819, 6)    0.999995               True    False\n2277  (1863, 6)    0.999995               True    False\n2279  (1903, 6)    0.999995               True    False\n2281  (1919, 6)    0.999995               True    False\n2282  (1955, 6)    0.999995               True    False\n2284  (1995, 6)    0.999995               True    False\n2286  (2011, 6)    0.999995               True    False\n2287  (2055, 6)    0.999995               True    False\n2289  (2095, 6)    0.999995               True    False\n2291  (2111, 6)    0.999995               True    False\n2292  (2160, 6)    0.999995               True    False\n2294  (2200, 6)    0.999995               True    False\n2296  (2216, 6)    0.999995               True    False\n2297  (2324, 6)    0.999995               True    False\n2298  (2326, 6)    0.999995               True    False\n2301  (2356, 6)    0.999995               True    False\n2343   (292, 6)    0.999995               True    False\n2350   (970, 6)    0.999995               True    False\n2354  (1638, 6)    0.999995               True    False\n2355  (1697, 6)    0.999995               True    False\n2363  (2291, 6)    0.999995               True    False\n\n[194 rows x 4 columns]",
      "text/html": "<div>\n<style scoped>\n    .dataframe tbody tr th:only-of-type {\n        vertical-align: middle;\n    }\n\n    .dataframe tbody tr th {\n        vertical-align: top;\n    }\n\n    .dataframe thead th {\n        text-align: right;\n    }\n</style>\n<table border=\"1\" class=\"dataframe\">\n  <thead>\n    <tr style=\"text-align: right;\">\n      <th></th>\n      <th>cell</th>\n      <th>confidence</th>\n      <th>detection_correct</th>\n      <th>correct</th>\n    </tr>\n  </thead>\n  <tbody>\n    <tr>\n      <th>19</th>\n      <td>(85, 3)</td>\n      <td>1.000000</td>\n      <td>True</td>\n      <td>False</td>\n    </tr>\n    <tr>\n      <th>58</th>\n      <td>(188, 3)</td>\n      <td>1.000000</td>\n      <td>True</td>\n      <td>False</td>\n    </tr>\n    <tr>\n      <th>84</th>\n      <td>(372, 3)</td>\n      <td>1.000000</td>\n      <td>True</td>\n      <td>False</td>\n    </tr>\n    <tr>\n      <th>123</th>\n      <td>(475, 3)</td>\n      <td>1.000000</td>\n      <td>True</td>\n      <td>False</td>\n    </tr>\n    <tr>\n      <th>152</th>\n      <td>(667, 3)</td>\n      <td>1.000000</td>\n      <td>True</td>\n      <td>False</td>\n    </tr>\n    <tr>\n      <th>175</th>\n      <td>(753, 3)</td>\n      <td>1.000000</td>\n      <td>True</td>\n      <td>False</td>\n    </tr>\n    <tr>\n      <th>212</th>\n      <td>(849, 3)</td>\n      <td>1.000000</td>\n      <td>True</td>\n      <td>False</td>\n    </tr>\n    <tr>\n      <th>241</th>\n      <td>(1041, 3)</td>\n      <td>1.000000</td>\n      <td>True</td>\n      <td>False</td>\n    </tr>\n    <tr>\n      <th>255</th>\n      <td>(1108, 3)</td>\n      <td>1.000000</td>\n      <td>True</td>\n      <td>False</td>\n    </tr>\n    <tr>\n      <th>291</th>\n      <td>(1258, 3)</td>\n      <td>1.000000</td>\n      <td>True</td>\n      <td>False</td>\n    </tr>\n    <tr>\n      <th>347</th>\n      <td>(1485, 3)</td>\n      <td>1.000000</td>\n      <td>True</td>\n      <td>False</td>\n    </tr>\n    <tr>\n      <th>358</th>\n      <td>(1522, 3)</td>\n      <td>1.000000</td>\n      <td>True</td>\n      <td>False</td>\n    </tr>\n    <tr>\n      <th>394</th>\n      <td>(1622, 3)</td>\n      <td>1.000000</td>\n      <td>True</td>\n      <td>False</td>\n    </tr>\n    <tr>\n      <th>418</th>\n      <td>(1796, 3)</td>\n      <td>1.000000</td>\n      <td>True</td>\n      <td>False</td>\n    </tr>\n    <tr>\n      <th>447</th>\n      <td>(1988, 3)</td>\n      <td>1.000000</td>\n      <td>True</td>\n      <td>False</td>\n    </tr>\n    <tr>\n      <th>473</th>\n      <td>(2088, 3)</td>\n      <td>1.000000</td>\n      <td>True</td>\n      <td>False</td>\n    </tr>\n    <tr>\n      <th>500</th>\n      <td>(2193, 3)</td>\n      <td>1.000000</td>\n      <td>True</td>\n      <td>False</td>\n    </tr>\n    <tr>\n      <th>537</th>\n      <td>(53, 4)</td>\n      <td>1.000000</td>\n      <td>True</td>\n      <td>False</td>\n    </tr>\n    <tr>\n      <th>540</th>\n      <td>(91, 4)</td>\n      <td>1.000000</td>\n      <td>True</td>\n      <td>False</td>\n    </tr>\n    <tr>\n      <th>541</th>\n      <td>(129, 4)</td>\n      <td>1.000000</td>\n      <td>True</td>\n      <td>False</td>\n    </tr>\n    <tr>\n      <th>552</th>\n      <td>(340, 4)</td>\n      <td>1.000000</td>\n      <td>True</td>\n      <td>False</td>\n    </tr>\n    <tr>\n      <th>555</th>\n      <td>(378, 4)</td>\n      <td>1.000000</td>\n      <td>True</td>\n      <td>False</td>\n    </tr>\n    <tr>\n      <th>556</th>\n      <td>(416, 4)</td>\n      <td>1.000000</td>\n      <td>True</td>\n      <td>False</td>\n    </tr>\n    <tr>\n      <th>570</th>\n      <td>(732, 4)</td>\n      <td>1.000000</td>\n      <td>True</td>\n      <td>False</td>\n    </tr>\n    <tr>\n      <th>582</th>\n      <td>(991, 4)</td>\n      <td>1.000000</td>\n      <td>True</td>\n      <td>False</td>\n    </tr>\n    <tr>\n      <th>594</th>\n      <td>(1226, 4)</td>\n      <td>1.000000</td>\n      <td>True</td>\n      <td>False</td>\n    </tr>\n    <tr>\n      <th>597</th>\n      <td>(1264, 4)</td>\n      <td>1.000000</td>\n      <td>True</td>\n      <td>False</td>\n    </tr>\n    <tr>\n      <th>598</th>\n      <td>(1302, 4)</td>\n      <td>1.000000</td>\n      <td>True</td>\n      <td>False</td>\n    </tr>\n    <tr>\n      <th>600</th>\n      <td>(1326, 4)</td>\n      <td>1.000000</td>\n      <td>True</td>\n      <td>False</td>\n    </tr>\n    <tr>\n      <th>604</th>\n      <td>(1399, 4)</td>\n      <td>1.000000</td>\n      <td>True</td>\n      <td>False</td>\n    </tr>\n    <tr>\n      <th>...</th>\n      <td>...</td>\n      <td>...</td>\n      <td>...</td>\n      <td>...</td>\n    </tr>\n    <tr>\n      <th>2263</th>\n      <td>(1459, 6)</td>\n      <td>0.999995</td>\n      <td>True</td>\n      <td>False</td>\n    </tr>\n    <tr>\n      <th>2264</th>\n      <td>(1464, 6)</td>\n      <td>0.999995</td>\n      <td>True</td>\n      <td>False</td>\n    </tr>\n    <tr>\n      <th>2265</th>\n      <td>(1479, 6)</td>\n      <td>0.999995</td>\n      <td>True</td>\n      <td>False</td>\n    </tr>\n    <tr>\n      <th>2266</th>\n      <td>(1533, 6)</td>\n      <td>0.999995</td>\n      <td>True</td>\n      <td>False</td>\n    </tr>\n    <tr>\n      <th>2267</th>\n      <td>(1587, 6)</td>\n      <td>0.999995</td>\n      <td>True</td>\n      <td>False</td>\n    </tr>\n    <tr>\n      <th>2269</th>\n      <td>(1617, 6)</td>\n      <td>0.999995</td>\n      <td>True</td>\n      <td>False</td>\n    </tr>\n    <tr>\n      <th>2271</th>\n      <td>(1744, 6)</td>\n      <td>0.999995</td>\n      <td>True</td>\n      <td>False</td>\n    </tr>\n    <tr>\n      <th>2272</th>\n      <td>(1763, 6)</td>\n      <td>0.999995</td>\n      <td>True</td>\n      <td>False</td>\n    </tr>\n    <tr>\n      <th>2274</th>\n      <td>(1803, 6)</td>\n      <td>0.999995</td>\n      <td>True</td>\n      <td>False</td>\n    </tr>\n    <tr>\n      <th>2276</th>\n      <td>(1819, 6)</td>\n      <td>0.999995</td>\n      <td>True</td>\n      <td>False</td>\n    </tr>\n    <tr>\n      <th>2277</th>\n      <td>(1863, 6)</td>\n      <td>0.999995</td>\n      <td>True</td>\n      <td>False</td>\n    </tr>\n    <tr>\n      <th>2279</th>\n      <td>(1903, 6)</td>\n      <td>0.999995</td>\n      <td>True</td>\n      <td>False</td>\n    </tr>\n    <tr>\n      <th>2281</th>\n      <td>(1919, 6)</td>\n      <td>0.999995</td>\n      <td>True</td>\n      <td>False</td>\n    </tr>\n    <tr>\n      <th>2282</th>\n      <td>(1955, 6)</td>\n      <td>0.999995</td>\n      <td>True</td>\n      <td>False</td>\n    </tr>\n    <tr>\n      <th>2284</th>\n      <td>(1995, 6)</td>\n      <td>0.999995</td>\n      <td>True</td>\n      <td>False</td>\n    </tr>\n    <tr>\n      <th>2286</th>\n      <td>(2011, 6)</td>\n      <td>0.999995</td>\n      <td>True</td>\n      <td>False</td>\n    </tr>\n    <tr>\n      <th>2287</th>\n      <td>(2055, 6)</td>\n      <td>0.999995</td>\n      <td>True</td>\n      <td>False</td>\n    </tr>\n    <tr>\n      <th>2289</th>\n      <td>(2095, 6)</td>\n      <td>0.999995</td>\n      <td>True</td>\n      <td>False</td>\n    </tr>\n    <tr>\n      <th>2291</th>\n      <td>(2111, 6)</td>\n      <td>0.999995</td>\n      <td>True</td>\n      <td>False</td>\n    </tr>\n    <tr>\n      <th>2292</th>\n      <td>(2160, 6)</td>\n      <td>0.999995</td>\n      <td>True</td>\n      <td>False</td>\n    </tr>\n    <tr>\n      <th>2294</th>\n      <td>(2200, 6)</td>\n      <td>0.999995</td>\n      <td>True</td>\n      <td>False</td>\n    </tr>\n    <tr>\n      <th>2296</th>\n      <td>(2216, 6)</td>\n      <td>0.999995</td>\n      <td>True</td>\n      <td>False</td>\n    </tr>\n    <tr>\n      <th>2297</th>\n      <td>(2324, 6)</td>\n      <td>0.999995</td>\n      <td>True</td>\n      <td>False</td>\n    </tr>\n    <tr>\n      <th>2298</th>\n      <td>(2326, 6)</td>\n      <td>0.999995</td>\n      <td>True</td>\n      <td>False</td>\n    </tr>\n    <tr>\n      <th>2301</th>\n      <td>(2356, 6)</td>\n      <td>0.999995</td>\n      <td>True</td>\n      <td>False</td>\n    </tr>\n    <tr>\n      <th>2343</th>\n      <td>(292, 6)</td>\n      <td>0.999995</td>\n      <td>True</td>\n      <td>False</td>\n    </tr>\n    <tr>\n      <th>2350</th>\n      <td>(970, 6)</td>\n      <td>0.999995</td>\n      <td>True</td>\n      <td>False</td>\n    </tr>\n    <tr>\n      <th>2354</th>\n      <td>(1638, 6)</td>\n      <td>0.999995</td>\n      <td>True</td>\n      <td>False</td>\n    </tr>\n    <tr>\n      <th>2355</th>\n      <td>(1697, 6)</td>\n      <td>0.999995</td>\n      <td>True</td>\n      <td>False</td>\n    </tr>\n    <tr>\n      <th>2363</th>\n      <td>(2291, 6)</td>\n      <td>0.999995</td>\n      <td>True</td>\n      <td>False</td>\n    </tr>\n  </tbody>\n</table>\n<p>194 rows × 4 columns</p>\n</div>"
     },
     "execution_count": 54,
     "metadata": {},
     "output_type": "execute_result"
    }
   ],
   "source": [
    "correction_confidence_df[correction_confidence_df[\"detection_correct\"] & ~correction_confidence_df[\"correct\"]]"
   ],
   "metadata": {
    "collapsed": false,
    "pycharm": {
     "name": "#%%\n"
    }
   }
  },
  {
   "cell_type": "code",
   "execution_count": 57,
   "outputs": [
    {
     "data": {
      "text/plain": "            cell  correction  prediction  probability\n1419     (54, 3)   8:41 a.m.           1          1.0\n1463     (55, 3)   7:45 p.m.           1          1.0\n1507     (56, 3)   3:27 p.m.           1          1.0\n1540     (58, 3)  11:25 a.m.           1          1.0\n1639     (60, 3)  11:25 p.m.           1          1.0\n1859     (67, 3)   8:15 a.m.           1          1.0\n1947     (69, 3)   4:15 p.m.           1          1.0\n2122     (73, 3)   2:55 p.m.           1          1.0\n2519     (82, 3)   7:53 a.m.           1          1.0\n2607     (84, 3)  11:45 a.m.           1          1.0\n2651     (85, 3)   2:46 p.m.           1          1.0\n2739     (88, 3)   7:27 p.m.           1          1.0\n2827     (90, 3)  12:57 p.m.           1          1.0\n2871     (92, 3)   7:15 a.m.           1          1.0\n2959     (94, 3)   6:45 p.m.           1          1.0\n3047     (97, 3)   1:55 p.m.           1          1.0\n3179    (101, 3)   4:55 p.m.           1          1.0\n3223    (102, 3)   7:25 a.m.           1          1.0\n3311    (104, 3)   4:16 p.m.           1          1.0\n3531    (109, 3)   1:33 p.m.           1          1.0\n3575    (110, 3)  12:15 p.m.           1          1.0\n3619    (112, 3)  11:55 p.m.           1          1.0\n3663    (113, 3)   4:25 p.m.           1          1.0\n3751    (115, 3)   8:25 p.m.           1          1.0\n3795    (116, 3)   6:59 a.m.           1          1.0\n3839    (117, 3)   8:35 a.m.           1          1.0\n3883    (118, 3)   8:29 a.m.           1          1.0\n3961    (121, 3)   7:35 a.m.           1          1.0\n4103    (124, 3)   1:45 p.m.           1          1.0\n4147    (125, 3)  11:15 a.m.           1          1.0\n...          ...         ...         ...          ...\n68436  (2142, 3)   2:55 p.m.           1          1.0\n68970  (2159, 3)   8:41 a.m.           1          1.0\n69058  (2163, 3)  11:25 a.m.           1          1.0\n69278  (2169, 3)   7:35 a.m.           1          1.0\n69322  (2170, 3)   9:45 a.m.           1          1.0\n69410  (2172, 3)   8:15 a.m.           1          1.0\n69624  (2178, 3)   2:55 p.m.           1          1.0\n70026  (2187, 3)   7:53 a.m.           1          1.0\n70114  (2189, 3)  11:45 a.m.           1          1.0\n70158  (2190, 3)   2:46 p.m.           1          1.0\n70246  (2192, 3)   5:25 p.m.           1          1.0\n70290  (2193, 3)   7:27 p.m.           1          1.0\n70378  (2195, 3)  12:57 p.m.           1          1.0\n70422  (2196, 3)   3:35 p.m.           1          1.0\n70510  (2201, 3)   1:55 p.m.           1          1.0\n70642  (2205, 3)   4:55 p.m.           1          1.0\n70730  (2207, 3)   4:16 p.m.           1          1.0\n70950  (2214, 3)   1:29 p.m.           1          1.0\n71038  (2221, 3)   8:29 a.m.           1          1.0\n71126  (2223, 3)   2:53 p.m.           1          1.0\n71170  (2224, 3)   7:35 a.m.           1          1.0\n71302  (2227, 3)   1:45 p.m.           1          1.0\n71346  (2228, 3)  11:15 a.m.           1          1.0\n71428  (2230, 3)   2:55 p.m.           1          1.0\n71522  (2232, 3)   8:55 a.m.           1          1.0\n71690  (2240, 3)   8:35 a.m.           1          1.0\n71830  (2243, 3)  11:25 a.m.           1          1.0\n71912  (2247, 3)   2:55 p.m.           1          1.0\n72803  (2277, 3)   2:46 p.m.           1          1.0\n74778  (2361, 3)   2:46 p.m.           1          1.0\n\n[510 rows x 4 columns]",
      "text/html": "<div>\n<style scoped>\n    .dataframe tbody tr th:only-of-type {\n        vertical-align: middle;\n    }\n\n    .dataframe tbody tr th {\n        vertical-align: top;\n    }\n\n    .dataframe thead th {\n        text-align: right;\n    }\n</style>\n<table border=\"1\" class=\"dataframe\">\n  <thead>\n    <tr style=\"text-align: right;\">\n      <th></th>\n      <th>cell</th>\n      <th>correction</th>\n      <th>prediction</th>\n      <th>probability</th>\n    </tr>\n  </thead>\n  <tbody>\n    <tr>\n      <th>1419</th>\n      <td>(54, 3)</td>\n      <td>8:41 a.m.</td>\n      <td>1</td>\n      <td>1.0</td>\n    </tr>\n    <tr>\n      <th>1463</th>\n      <td>(55, 3)</td>\n      <td>7:45 p.m.</td>\n      <td>1</td>\n      <td>1.0</td>\n    </tr>\n    <tr>\n      <th>1507</th>\n      <td>(56, 3)</td>\n      <td>3:27 p.m.</td>\n      <td>1</td>\n      <td>1.0</td>\n    </tr>\n    <tr>\n      <th>1540</th>\n      <td>(58, 3)</td>\n      <td>11:25 a.m.</td>\n      <td>1</td>\n      <td>1.0</td>\n    </tr>\n    <tr>\n      <th>1639</th>\n      <td>(60, 3)</td>\n      <td>11:25 p.m.</td>\n      <td>1</td>\n      <td>1.0</td>\n    </tr>\n    <tr>\n      <th>1859</th>\n      <td>(67, 3)</td>\n      <td>8:15 a.m.</td>\n      <td>1</td>\n      <td>1.0</td>\n    </tr>\n    <tr>\n      <th>1947</th>\n      <td>(69, 3)</td>\n      <td>4:15 p.m.</td>\n      <td>1</td>\n      <td>1.0</td>\n    </tr>\n    <tr>\n      <th>2122</th>\n      <td>(73, 3)</td>\n      <td>2:55 p.m.</td>\n      <td>1</td>\n      <td>1.0</td>\n    </tr>\n    <tr>\n      <th>2519</th>\n      <td>(82, 3)</td>\n      <td>7:53 a.m.</td>\n      <td>1</td>\n      <td>1.0</td>\n    </tr>\n    <tr>\n      <th>2607</th>\n      <td>(84, 3)</td>\n      <td>11:45 a.m.</td>\n      <td>1</td>\n      <td>1.0</td>\n    </tr>\n    <tr>\n      <th>2651</th>\n      <td>(85, 3)</td>\n      <td>2:46 p.m.</td>\n      <td>1</td>\n      <td>1.0</td>\n    </tr>\n    <tr>\n      <th>2739</th>\n      <td>(88, 3)</td>\n      <td>7:27 p.m.</td>\n      <td>1</td>\n      <td>1.0</td>\n    </tr>\n    <tr>\n      <th>2827</th>\n      <td>(90, 3)</td>\n      <td>12:57 p.m.</td>\n      <td>1</td>\n      <td>1.0</td>\n    </tr>\n    <tr>\n      <th>2871</th>\n      <td>(92, 3)</td>\n      <td>7:15 a.m.</td>\n      <td>1</td>\n      <td>1.0</td>\n    </tr>\n    <tr>\n      <th>2959</th>\n      <td>(94, 3)</td>\n      <td>6:45 p.m.</td>\n      <td>1</td>\n      <td>1.0</td>\n    </tr>\n    <tr>\n      <th>3047</th>\n      <td>(97, 3)</td>\n      <td>1:55 p.m.</td>\n      <td>1</td>\n      <td>1.0</td>\n    </tr>\n    <tr>\n      <th>3179</th>\n      <td>(101, 3)</td>\n      <td>4:55 p.m.</td>\n      <td>1</td>\n      <td>1.0</td>\n    </tr>\n    <tr>\n      <th>3223</th>\n      <td>(102, 3)</td>\n      <td>7:25 a.m.</td>\n      <td>1</td>\n      <td>1.0</td>\n    </tr>\n    <tr>\n      <th>3311</th>\n      <td>(104, 3)</td>\n      <td>4:16 p.m.</td>\n      <td>1</td>\n      <td>1.0</td>\n    </tr>\n    <tr>\n      <th>3531</th>\n      <td>(109, 3)</td>\n      <td>1:33 p.m.</td>\n      <td>1</td>\n      <td>1.0</td>\n    </tr>\n    <tr>\n      <th>3575</th>\n      <td>(110, 3)</td>\n      <td>12:15 p.m.</td>\n      <td>1</td>\n      <td>1.0</td>\n    </tr>\n    <tr>\n      <th>3619</th>\n      <td>(112, 3)</td>\n      <td>11:55 p.m.</td>\n      <td>1</td>\n      <td>1.0</td>\n    </tr>\n    <tr>\n      <th>3663</th>\n      <td>(113, 3)</td>\n      <td>4:25 p.m.</td>\n      <td>1</td>\n      <td>1.0</td>\n    </tr>\n    <tr>\n      <th>3751</th>\n      <td>(115, 3)</td>\n      <td>8:25 p.m.</td>\n      <td>1</td>\n      <td>1.0</td>\n    </tr>\n    <tr>\n      <th>3795</th>\n      <td>(116, 3)</td>\n      <td>6:59 a.m.</td>\n      <td>1</td>\n      <td>1.0</td>\n    </tr>\n    <tr>\n      <th>3839</th>\n      <td>(117, 3)</td>\n      <td>8:35 a.m.</td>\n      <td>1</td>\n      <td>1.0</td>\n    </tr>\n    <tr>\n      <th>3883</th>\n      <td>(118, 3)</td>\n      <td>8:29 a.m.</td>\n      <td>1</td>\n      <td>1.0</td>\n    </tr>\n    <tr>\n      <th>3961</th>\n      <td>(121, 3)</td>\n      <td>7:35 a.m.</td>\n      <td>1</td>\n      <td>1.0</td>\n    </tr>\n    <tr>\n      <th>4103</th>\n      <td>(124, 3)</td>\n      <td>1:45 p.m.</td>\n      <td>1</td>\n      <td>1.0</td>\n    </tr>\n    <tr>\n      <th>4147</th>\n      <td>(125, 3)</td>\n      <td>11:15 a.m.</td>\n      <td>1</td>\n      <td>1.0</td>\n    </tr>\n    <tr>\n      <th>...</th>\n      <td>...</td>\n      <td>...</td>\n      <td>...</td>\n      <td>...</td>\n    </tr>\n    <tr>\n      <th>68436</th>\n      <td>(2142, 3)</td>\n      <td>2:55 p.m.</td>\n      <td>1</td>\n      <td>1.0</td>\n    </tr>\n    <tr>\n      <th>68970</th>\n      <td>(2159, 3)</td>\n      <td>8:41 a.m.</td>\n      <td>1</td>\n      <td>1.0</td>\n    </tr>\n    <tr>\n      <th>69058</th>\n      <td>(2163, 3)</td>\n      <td>11:25 a.m.</td>\n      <td>1</td>\n      <td>1.0</td>\n    </tr>\n    <tr>\n      <th>69278</th>\n      <td>(2169, 3)</td>\n      <td>7:35 a.m.</td>\n      <td>1</td>\n      <td>1.0</td>\n    </tr>\n    <tr>\n      <th>69322</th>\n      <td>(2170, 3)</td>\n      <td>9:45 a.m.</td>\n      <td>1</td>\n      <td>1.0</td>\n    </tr>\n    <tr>\n      <th>69410</th>\n      <td>(2172, 3)</td>\n      <td>8:15 a.m.</td>\n      <td>1</td>\n      <td>1.0</td>\n    </tr>\n    <tr>\n      <th>69624</th>\n      <td>(2178, 3)</td>\n      <td>2:55 p.m.</td>\n      <td>1</td>\n      <td>1.0</td>\n    </tr>\n    <tr>\n      <th>70026</th>\n      <td>(2187, 3)</td>\n      <td>7:53 a.m.</td>\n      <td>1</td>\n      <td>1.0</td>\n    </tr>\n    <tr>\n      <th>70114</th>\n      <td>(2189, 3)</td>\n      <td>11:45 a.m.</td>\n      <td>1</td>\n      <td>1.0</td>\n    </tr>\n    <tr>\n      <th>70158</th>\n      <td>(2190, 3)</td>\n      <td>2:46 p.m.</td>\n      <td>1</td>\n      <td>1.0</td>\n    </tr>\n    <tr>\n      <th>70246</th>\n      <td>(2192, 3)</td>\n      <td>5:25 p.m.</td>\n      <td>1</td>\n      <td>1.0</td>\n    </tr>\n    <tr>\n      <th>70290</th>\n      <td>(2193, 3)</td>\n      <td>7:27 p.m.</td>\n      <td>1</td>\n      <td>1.0</td>\n    </tr>\n    <tr>\n      <th>70378</th>\n      <td>(2195, 3)</td>\n      <td>12:57 p.m.</td>\n      <td>1</td>\n      <td>1.0</td>\n    </tr>\n    <tr>\n      <th>70422</th>\n      <td>(2196, 3)</td>\n      <td>3:35 p.m.</td>\n      <td>1</td>\n      <td>1.0</td>\n    </tr>\n    <tr>\n      <th>70510</th>\n      <td>(2201, 3)</td>\n      <td>1:55 p.m.</td>\n      <td>1</td>\n      <td>1.0</td>\n    </tr>\n    <tr>\n      <th>70642</th>\n      <td>(2205, 3)</td>\n      <td>4:55 p.m.</td>\n      <td>1</td>\n      <td>1.0</td>\n    </tr>\n    <tr>\n      <th>70730</th>\n      <td>(2207, 3)</td>\n      <td>4:16 p.m.</td>\n      <td>1</td>\n      <td>1.0</td>\n    </tr>\n    <tr>\n      <th>70950</th>\n      <td>(2214, 3)</td>\n      <td>1:29 p.m.</td>\n      <td>1</td>\n      <td>1.0</td>\n    </tr>\n    <tr>\n      <th>71038</th>\n      <td>(2221, 3)</td>\n      <td>8:29 a.m.</td>\n      <td>1</td>\n      <td>1.0</td>\n    </tr>\n    <tr>\n      <th>71126</th>\n      <td>(2223, 3)</td>\n      <td>2:53 p.m.</td>\n      <td>1</td>\n      <td>1.0</td>\n    </tr>\n    <tr>\n      <th>71170</th>\n      <td>(2224, 3)</td>\n      <td>7:35 a.m.</td>\n      <td>1</td>\n      <td>1.0</td>\n    </tr>\n    <tr>\n      <th>71302</th>\n      <td>(2227, 3)</td>\n      <td>1:45 p.m.</td>\n      <td>1</td>\n      <td>1.0</td>\n    </tr>\n    <tr>\n      <th>71346</th>\n      <td>(2228, 3)</td>\n      <td>11:15 a.m.</td>\n      <td>1</td>\n      <td>1.0</td>\n    </tr>\n    <tr>\n      <th>71428</th>\n      <td>(2230, 3)</td>\n      <td>2:55 p.m.</td>\n      <td>1</td>\n      <td>1.0</td>\n    </tr>\n    <tr>\n      <th>71522</th>\n      <td>(2232, 3)</td>\n      <td>8:55 a.m.</td>\n      <td>1</td>\n      <td>1.0</td>\n    </tr>\n    <tr>\n      <th>71690</th>\n      <td>(2240, 3)</td>\n      <td>8:35 a.m.</td>\n      <td>1</td>\n      <td>1.0</td>\n    </tr>\n    <tr>\n      <th>71830</th>\n      <td>(2243, 3)</td>\n      <td>11:25 a.m.</td>\n      <td>1</td>\n      <td>1.0</td>\n    </tr>\n    <tr>\n      <th>71912</th>\n      <td>(2247, 3)</td>\n      <td>2:55 p.m.</td>\n      <td>1</td>\n      <td>1.0</td>\n    </tr>\n    <tr>\n      <th>72803</th>\n      <td>(2277, 3)</td>\n      <td>2:46 p.m.</td>\n      <td>1</td>\n      <td>1.0</td>\n    </tr>\n    <tr>\n      <th>74778</th>\n      <td>(2361, 3)</td>\n      <td>2:46 p.m.</td>\n      <td>1</td>\n      <td>1.0</td>\n    </tr>\n  </tbody>\n</table>\n<p>510 rows × 4 columns</p>\n</div>"
     },
     "execution_count": 57,
     "metadata": {},
     "output_type": "execute_result"
    }
   ],
   "source": [
    "d.correction_prediction_dfs[0][3][d.correction_prediction_dfs[0][3][\"prediction\"] == 1]"
   ],
   "metadata": {
    "collapsed": false,
    "pycharm": {
     "name": "#%%\n"
    }
   }
  },
  {
   "cell_type": "code",
   "execution_count": 66,
   "outputs": [
    {
     "data": {
      "text/plain": "<matplotlib.axes._subplots.AxesSubplot at 0x7f401a83ac90>"
     },
     "execution_count": 66,
     "metadata": {},
     "output_type": "execute_result"
    },
    {
     "data": {
      "text/plain": "<Figure size 432x288 with 1 Axes>",
      "image/png": "[encoded data removed]"
     },
     "metadata": {
      "needs_background": "light"
     },
     "output_type": "display_data"
    }
   ],
   "source": [
    "df = d.correction_prediction_dfs[15][3]\n",
    "df[\"probability\"].hist(bins=np.linspace(0.0, 1.0, 21))"
   ],
   "metadata": {
    "collapsed": false,
    "pycharm": {
     "name": "#%%\n"
    }
   }
  },
  {
   "cell_type": "code",
   "execution_count": null,
   "outputs": [],
   "source": [],
   "metadata": {
    "collapsed": false,
    "pycharm": {
     "name": "#%%\n"
    }
   }
  }
 ],
 "metadata": {
  "kernelspec": {
   "display_name": "Python 3",
   "language": "python",
   "name": "python3"
  },
  "language_info": {
   "codemirror_mode": {
    "name": "ipython",
    "version": 3
   },
   "file_extension": ".py",
   "mimetype": "text/x-python",
   "name": "python",
   "nbconvert_exporter": "python",
   "pygments_lexer": "ipython3",
   "version": "3.8.5"
  }
 },
 "nbformat": 4,
 "nbformat_minor": 2
}
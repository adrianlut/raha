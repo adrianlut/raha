{
 "cells": [
  {
   "cell_type": "markdown",
   "metadata": {},
   "source": [
    "# End-to-End Data Cleaning Pipeline with Raha and Baran (Minimal and Sequential)\n",
    "We build an end-to-end data cleaning pipeline with our configuration-free error detection and correction systems, Raha and Baran."
   ]
  },
  {
   "cell_type": "code",
   "execution_count": 64,
   "metadata": {},
   "outputs": [],
   "source": [
    "from importlib import reload\n",
    "import pandas\n",
    "import IPython.display\n",
    "from pandas import DataFrame, Series\n",
    "import raha\n",
    "import numpy as np\n",
    "import matplotlib.pyplot as plt"
   ]
  },
  {
   "cell_type": "markdown",
   "metadata": {},
   "source": [
    "## Error Detection with Raha"
   ]
  },
  {
   "cell_type": "markdown",
   "metadata": {},
   "source": [
    "### 1. Instantiating the Detection Class\n",
    "We first instantiate the `Detection` class."
   ]
  },
  {
   "cell_type": "code",
   "execution_count": 2,
   "metadata": {},
   "outputs": [],
   "source": [
    "app_1 = raha.Detection()\n",
    "\n",
    "# How many tuples would you label?\n",
    "app_1.LABELING_BUDGET = 20\n",
    "\n",
    "# Would you like to see the logs?\n",
    "app_1.VERBOSE = True"
   ]
  },
  {
   "cell_type": "markdown",
   "metadata": {},
   "source": [
    "### 2. Instantiating the Dataset\n",
    "We next load and instantiate the dataset object."
   ]
  },
  {
   "cell_type": "code",
   "execution_count": 3,
   "metadata": {},
   "outputs": [
    {
     "data": {
      "text/plain": "  tuple_id src           flight sched_dep_time act_dep_time sched_arr_time  \\\n0        1  aa  AA-3859-IAH-ORD      7:10 a.m.    7:16 a.m.      9:40 a.m.   \n1        2  aa  AA-1733-ORD-PHX      7:45 p.m.    7:58 p.m.     10:30 p.m.   \n2        3  aa  AA-1640-MIA-MCO      6:30 p.m.                   7:25 p.m.   \n3        4  aa   AA-518-MIA-JFK      6:40 a.m.    6:54 a.m.      9:25 a.m.   \n4        5  aa  AA-3756-ORD-SLC     12:15 p.m.   12:41 p.m.      2:45 p.m.   \n\n  act_arr_time  \n0    9:32 a.m.  \n1               \n2               \n3    9:28 a.m.  \n4    2:50 p.m.  ",
      "text/html": "<div>\n<style scoped>\n    .dataframe tbody tr th:only-of-type {\n        vertical-align: middle;\n    }\n\n    .dataframe tbody tr th {\n        vertical-align: top;\n    }\n\n    .dataframe thead th {\n        text-align: right;\n    }\n</style>\n<table border=\"1\" class=\"dataframe\">\n  <thead>\n    <tr style=\"text-align: right;\">\n      <th></th>\n      <th>tuple_id</th>\n      <th>src</th>\n      <th>flight</th>\n      <th>sched_dep_time</th>\n      <th>act_dep_time</th>\n      <th>sched_arr_time</th>\n      <th>act_arr_time</th>\n    </tr>\n  </thead>\n  <tbody>\n    <tr>\n      <th>0</th>\n      <td>1</td>\n      <td>aa</td>\n      <td>AA-3859-IAH-ORD</td>\n      <td>7:10 a.m.</td>\n      <td>7:16 a.m.</td>\n      <td>9:40 a.m.</td>\n      <td>9:32 a.m.</td>\n    </tr>\n    <tr>\n      <th>1</th>\n      <td>2</td>\n      <td>aa</td>\n      <td>AA-1733-ORD-PHX</td>\n      <td>7:45 p.m.</td>\n      <td>7:58 p.m.</td>\n      <td>10:30 p.m.</td>\n      <td></td>\n    </tr>\n    <tr>\n      <th>2</th>\n      <td>3</td>\n      <td>aa</td>\n      <td>AA-1640-MIA-MCO</td>\n      <td>6:30 p.m.</td>\n      <td></td>\n      <td>7:25 p.m.</td>\n      <td></td>\n    </tr>\n    <tr>\n      <th>3</th>\n      <td>4</td>\n      <td>aa</td>\n      <td>AA-518-MIA-JFK</td>\n      <td>6:40 a.m.</td>\n      <td>6:54 a.m.</td>\n      <td>9:25 a.m.</td>\n      <td>9:28 a.m.</td>\n    </tr>\n    <tr>\n      <th>4</th>\n      <td>5</td>\n      <td>aa</td>\n      <td>AA-3756-ORD-SLC</td>\n      <td>12:15 p.m.</td>\n      <td>12:41 p.m.</td>\n      <td>2:45 p.m.</td>\n      <td>2:50 p.m.</td>\n    </tr>\n  </tbody>\n</table>\n</div>"
     },
     "execution_count": 3,
     "metadata": {},
     "output_type": "execute_result"
    }
   ],
   "source": [
    "dataset_dictionary = {\n",
    "    \"name\": \"flights\",\n",
    "    \"path\": \"datasets/flights/dirty.csv\",\n",
    "    \"clean_path\": \"datasets/flights/clean.csv\"\n",
    "}\n",
    "d = app_1.initialize_dataset(dataset_dictionary)\n",
    "d.dataframe.head()"
   ]
  },
  {
   "cell_type": "markdown",
   "metadata": {},
   "source": [
    "### 3. Running Error Detection Strategies\n",
    "Raha runs (all or the promising) error detection strategies on the dataset. This step could take a while because all the strategies should be run on the dataset. "
   ]
  },
  {
   "cell_type": "code",
   "execution_count": 4,
   "metadata": {},
   "outputs": [
    {
     "name": "stdout",
     "output_type": "stream",
     "text": [
      "309 strategy profiles are collected.\n"
     ]
    },
    {
     "name": "stderr",
     "output_type": "stream",
     "text": [
      "I just load strategies' results as they have already been run on the dataset!\n"
     ]
    }
   ],
   "source": [
    "app_1.run_strategies(d)"
   ]
  },
  {
   "cell_type": "markdown",
   "metadata": {},
   "source": [
    "### 4. Generating Features\n",
    "Raha then generates a feature vector for each data cell based on the output of error detection strategies. "
   ]
  },
  {
   "cell_type": "code",
   "execution_count": 5,
   "metadata": {},
   "outputs": [
    {
     "name": "stdout",
     "output_type": "stream",
     "text": [
      "40 Features are generated for column 0.\n",
      "65 Features are generated for column 1.\n",
      "62 Features are generated for column 2.\n",
      "65 Features are generated for column 3.\n",
      "71 Features are generated for column 4.\n",
      "65 Features are generated for column 5.\n",
      "86 Features are generated for column 6.\n"
     ]
    }
   ],
   "source": [
    "app_1.generate_features(d)"
   ]
  },
  {
   "cell_type": "markdown",
   "metadata": {},
   "source": [
    "### 5. Building Clusters\n",
    "Raha next builds a hierarchical clustering model for our clustering-based sampling approach."
   ]
  },
  {
   "cell_type": "code",
   "execution_count": 6,
   "metadata": {},
   "outputs": [
    {
     "name": "stdout",
     "output_type": "stream",
     "text": [
      "A hierarchical clustering model is built for column 0.\n",
      "A hierarchical clustering model is built for column 1.\n",
      "A hierarchical clustering model is built for column 2.\n",
      "A hierarchical clustering model is built for column 3.\n",
      "A hierarchical clustering model is built for column 4.\n",
      "A hierarchical clustering model is built for column 5.\n",
      "A hierarchical clustering model is built for column 6.\n"
     ]
    }
   ],
   "source": [
    "app_1.build_clusters(d)"
   ]
  },
  {
   "cell_type": "markdown",
   "metadata": {},
   "source": [
    "### 6. Interactive Tuple Sampling and Labeling\n",
    "Raha then iteratively samples a tuple. We should label data cells of each sampled tuple."
   ]
  },
  {
   "cell_type": "code",
   "execution_count": 7,
   "metadata": {
    "scrolled": true
   },
   "outputs": [
    {
     "name": "stdout",
     "output_type": "stream",
     "text": [
      "Tuple 35 is sampled.\n",
      "Tuple 35 is labeled.\n",
      "Tuple 1613 is sampled.\n",
      "Tuple 1613 is labeled.\n",
      "Tuple 286 is sampled.\n",
      "Tuple 286 is labeled.\n",
      "Tuple 667 is sampled.\n",
      "Tuple 667 is labeled.\n",
      "Tuple 1788 is sampled.\n",
      "Tuple 1788 is labeled.\n",
      "Tuple 194 is sampled.\n",
      "Tuple 194 is labeled.\n",
      "Tuple 1068 is sampled.\n",
      "Tuple 1068 is labeled.\n",
      "Tuple 1473 is sampled.\n",
      "Tuple 1473 is labeled.\n",
      "Tuple 2070 is sampled.\n",
      "Tuple 2070 is labeled.\n",
      "Tuple 1505 is sampled.\n",
      "Tuple 1505 is labeled.\n",
      "Tuple 59 is sampled.\n",
      "Tuple 59 is labeled.\n",
      "Tuple 212 is sampled.\n",
      "Tuple 212 is labeled.\n",
      "Tuple 1042 is sampled.\n",
      "Tuple 1042 is labeled.\n",
      "Tuple 1642 is sampled.\n",
      "Tuple 1642 is labeled.\n",
      "Tuple 1939 is sampled.\n",
      "Tuple 1939 is labeled.\n",
      "Tuple 1611 is sampled.\n",
      "Tuple 1611 is labeled.\n",
      "Tuple 2189 is sampled.\n",
      "Tuple 2189 is labeled.\n",
      "Tuple 1864 is sampled.\n",
      "Tuple 1864 is labeled.\n",
      "Tuple 1710 is sampled.\n",
      "Tuple 1710 is labeled.\n",
      "Tuple 1944 is sampled.\n",
      "Tuple 1944 is labeled.\n"
     ]
    }
   ],
   "source": [
    "while len(d.labeled_tuples) < app_1.LABELING_BUDGET:\n",
    "    app_1.sample_tuple(d)\n",
    "    if d.has_ground_truth:\n",
    "        app_1.label_with_ground_truth(d)\n",
    "    else:\n",
    "        print(\"Label the dirty cells in the following sampled tuple.\")\n",
    "        sampled_tuple = pandas.DataFrame(data=[d.dataframe.iloc[d.sampled_tuple, :]], columns=d.dataframe.columns)\n",
    "        IPython.display.display(sampled_tuple)\n",
    "        for j in range(d.dataframe.shape[1]):\n",
    "            cell = (d.sampled_tuple, j)\n",
    "            value = d.dataframe.iloc[cell]\n",
    "            correction = input(\"What is the correction for value '{}'? Type in the same value if it is not erronous.\\n\".format(value))\n",
    "            user_label = 1 if value != correction else 0\n",
    "            d.labeled_cells[cell] = [user_label, correction]\n",
    "        d.labeled_tuples[d.sampled_tuple] = 1"
   ]
  },
  {
   "cell_type": "markdown",
   "metadata": {},
   "source": [
    "### 7. Propagating User Labels\n",
    "Raha then propagates each user label through its cluster."
   ]
  },
  {
   "cell_type": "code",
   "execution_count": 8,
   "metadata": {},
   "outputs": [
    {
     "name": "stdout",
     "output_type": "stream",
     "text": [
      "The number of labeled data cells increased from 140 to 12025.\n"
     ]
    }
   ],
   "source": [
    "app_1.propagate_labels(d)"
   ]
  },
  {
   "cell_type": "markdown",
   "metadata": {},
   "source": [
    "### 8. Predicting Labels of Data Cells\n",
    "Raha then trains and applies one classifier per data column to predict the label of the rest of data cells."
   ]
  },
  {
   "cell_type": "code",
   "execution_count": 9,
   "metadata": {},
   "outputs": [
    {
     "name": "stdout",
     "output_type": "stream",
     "text": [
      "A classifier is trained and applied on column 0.\n",
      "A classifier is trained and applied on column 1.\n",
      "A classifier is trained and applied on column 2.\n",
      "A classifier is trained and applied on column 3.\n",
      "A classifier is trained and applied on column 4.\n",
      "A classifier is trained and applied on column 5.\n",
      "A classifier is trained and applied on column 6.\n"
     ]
    }
   ],
   "source": [
    "app_1.predict_labels(d)"
   ]
  },
  {
   "cell_type": "markdown",
   "metadata": {},
   "source": [
    "### 9. Storing Results\n",
    "Raha can also store the error detection results."
   ]
  },
  {
   "cell_type": "code",
   "execution_count": 10,
   "metadata": {},
   "outputs": [
    {
     "name": "stdout",
     "output_type": "stream",
     "text": [
      "The results are stored in datasets/flights/raha-baran-results-flights/error-detection/detection.dataset.\n"
     ]
    }
   ],
   "source": [
    "app_1.store_results(d)"
   ]
  },
  {
   "cell_type": "markdown",
   "metadata": {},
   "source": [
    "### 10. Evaluating the Error Detection Task\n",
    "We can finally evaluate our error detection task."
   ]
  },
  {
   "cell_type": "code",
   "execution_count": 11,
   "metadata": {
    "scrolled": true
   },
   "outputs": [
    {
     "name": "stdout",
     "output_type": "stream",
     "text": [
      "Raha's performance on flights:\n",
      "Precision = 0.86\n",
      "Recall = 0.80\n",
      "F1 = 0.83\n"
     ]
    },
    {
     "name": "stderr",
     "output_type": "stream",
     "text": [
      "/home/adrian/source/MA/raha/raha/dataset.py:123: FutureWarning: elementwise comparison failed; returning scalar instead, but in the future will perform elementwise comparison\n",
      "  if correction_dictionary[cell] == actual_errors[cell]:\n"
     ]
    }
   ],
   "source": [
    "p, r, f = d.get_data_cleaning_evaluation(d.detected_cells)[:3]\n",
    "print(\"Raha's performance on {}:\\nPrecision = {:.2f}\\nRecall = {:.2f}\\nF1 = {:.2f}\".format(d.name, p, r, f))"
   ]
  },
  {
   "cell_type": "markdown",
   "metadata": {},
   "source": [
    "# Error Correction with Baran"
   ]
  },
  {
   "cell_type": "markdown",
   "metadata": {},
   "source": [
    "### 1. Instantiating the Correction Class\n",
    "We first instantiate the `Correction` class."
   ]
  },
  {
   "cell_type": "code",
   "execution_count": 12,
   "metadata": {},
   "outputs": [],
   "source": [
    "app_2 = raha.Correction()\n",
    "\n",
    "# How many tuples would you label?\n",
    "app_2.LABELING_BUDGET = 20\n",
    "\n",
    "# Would you like to see the logs?\n",
    "app_2.VERBOSE = True\n",
    "\n",
    "app_2.MIN_ALTERNATIVE_PROBABILITY = 0.45"
   ]
  },
  {
   "cell_type": "markdown",
   "metadata": {},
   "source": [
    "### 2. Initializing the Dataset Object\n",
    "We next initialize the dataset object."
   ]
  },
  {
   "cell_type": "code",
   "execution_count": 13,
   "metadata": {},
   "outputs": [
    {
     "data": {
      "text/plain": "  tuple_id src           flight sched_dep_time act_dep_time sched_arr_time  \\\n0        1  aa  AA-3859-IAH-ORD      7:10 a.m.    7:16 a.m.      9:40 a.m.   \n1        2  aa  AA-1733-ORD-PHX      7:45 p.m.    7:58 p.m.     10:30 p.m.   \n2        3  aa  AA-1640-MIA-MCO      6:30 p.m.                   7:25 p.m.   \n3        4  aa   AA-518-MIA-JFK      6:40 a.m.    6:54 a.m.      9:25 a.m.   \n4        5  aa  AA-3756-ORD-SLC     12:15 p.m.   12:41 p.m.      2:45 p.m.   \n\n  act_arr_time  \n0    9:32 a.m.  \n1               \n2               \n3    9:28 a.m.  \n4    2:50 p.m.  ",
      "text/html": "<div>\n<style scoped>\n    .dataframe tbody tr th:only-of-type {\n        vertical-align: middle;\n    }\n\n    .dataframe tbody tr th {\n        vertical-align: top;\n    }\n\n    .dataframe thead th {\n        text-align: right;\n    }\n</style>\n<table border=\"1\" class=\"dataframe\">\n  <thead>\n    <tr style=\"text-align: right;\">\n      <th></th>\n      <th>tuple_id</th>\n      <th>src</th>\n      <th>flight</th>\n      <th>sched_dep_time</th>\n      <th>act_dep_time</th>\n      <th>sched_arr_time</th>\n      <th>act_arr_time</th>\n    </tr>\n  </thead>\n  <tbody>\n    <tr>\n      <th>0</th>\n      <td>1</td>\n      <td>aa</td>\n      <td>AA-3859-IAH-ORD</td>\n      <td>7:10 a.m.</td>\n      <td>7:16 a.m.</td>\n      <td>9:40 a.m.</td>\n      <td>9:32 a.m.</td>\n    </tr>\n    <tr>\n      <th>1</th>\n      <td>2</td>\n      <td>aa</td>\n      <td>AA-1733-ORD-PHX</td>\n      <td>7:45 p.m.</td>\n      <td>7:58 p.m.</td>\n      <td>10:30 p.m.</td>\n      <td></td>\n    </tr>\n    <tr>\n      <th>2</th>\n      <td>3</td>\n      <td>aa</td>\n      <td>AA-1640-MIA-MCO</td>\n      <td>6:30 p.m.</td>\n      <td></td>\n      <td>7:25 p.m.</td>\n      <td></td>\n    </tr>\n    <tr>\n      <th>3</th>\n      <td>4</td>\n      <td>aa</td>\n      <td>AA-518-MIA-JFK</td>\n      <td>6:40 a.m.</td>\n      <td>6:54 a.m.</td>\n      <td>9:25 a.m.</td>\n      <td>9:28 a.m.</td>\n    </tr>\n    <tr>\n      <th>4</th>\n      <td>5</td>\n      <td>aa</td>\n      <td>AA-3756-ORD-SLC</td>\n      <td>12:15 p.m.</td>\n      <td>12:41 p.m.</td>\n      <td>2:45 p.m.</td>\n      <td>2:50 p.m.</td>\n    </tr>\n  </tbody>\n</table>\n</div>"
     },
     "execution_count": 13,
     "metadata": {},
     "output_type": "execute_result"
    }
   ],
   "source": [
    "d = app_2.initialize_dataset(d)\n",
    "d.dataframe.head()"
   ]
  },
  {
   "cell_type": "markdown",
   "metadata": {},
   "source": [
    "### 3. Initializing the Error Corrector Models\n",
    "Baran initializes the error corrector models."
   ]
  },
  {
   "cell_type": "code",
   "execution_count": 14,
   "metadata": {},
   "outputs": [
    {
     "name": "stdout",
     "output_type": "stream",
     "text": [
      "The error corrector models are initialized.\n"
     ]
    }
   ],
   "source": [
    "app_2.initialize_models(d)"
   ]
  },
  {
   "cell_type": "markdown",
   "metadata": {},
   "source": [
    "### 4. Interactive Tuple Sampling, Labeling, Model updating, Feature Generation, and Correction Prediction\n",
    "Baran then iteratively samples a tuple. We should label data cells of each sampled tuple. It then udpates the models accordingly and generates a feature vector for each pair of a data error and a correction candidate. Finally, it trains and applies a classifier to each data column to predict the final correction of each data error. Since we already labeled tuples for Raha, we use the same labeled tuples and do not label new tuples here."
   ]
  },
  {
   "cell_type": "code",
   "execution_count": 15,
   "metadata": {},
   "outputs": [
    {
     "name": "stdout",
     "output_type": "stream",
     "text": [
      "The error corrector models are updated with new labeled tuple 35.\n",
      "538163 pairs of (a data error, a potential correction) are featurized.\n",
      "Prediction Method in this step:\n",
      "    Column 3: Train\n",
      "    Column 4: Train\n",
      "    Column 5: Train\n",
      "    Column 6: Train\n",
      "Train sizes in this step:\n",
      "    Column 3: 756\n",
      "    Column 4: 1656\n",
      "    Column 5: 1639\n",
      "    Column 6: 1164\n",
      "Corrections applied in this step:\n",
      "    Column 3: 876 Real changes: 876\n",
      "    Column 4: 664 Real changes: 664\n",
      "    Column 5: 1049 Real changes: 1049\n",
      "    Column 6: 768 Real changes: 768\n",
      "74% (3359 / 4536) of data errors are corrected.\n",
      "The error corrector models are updated with new labeled tuple 1613.\n",
      "538973 pairs of (a data error, a potential correction) are featurized.\n",
      "Prediction Method in this step:\n",
      "    Column 3: Train\n",
      "    Column 4: Train\n",
      "    Column 5: Train\n",
      "    Column 6: Train\n",
      "Train sizes in this step:\n",
      "    Column 3: 762\n",
      "    Column 4: 1660\n",
      "    Column 5: 1646\n",
      "    Column 6: 1172\n",
      "Corrections applied in this step:\n",
      "    Column 3: 876 Real changes: 0\n",
      "    Column 4: 664 Real changes: 84\n",
      "    Column 5: 1049 Real changes: 0\n",
      "    Column 6: 768 Real changes: 0\n",
      "74% (3359 / 4536) of data errors are corrected.\n",
      "The error corrector models are updated with new labeled tuple 286.\n",
      "540909 pairs of (a data error, a potential correction) are featurized.\n",
      "Prediction Method in this step:\n",
      "    Column 3: Train\n",
      "    Column 4: Train\n",
      "    Column 5: Train\n",
      "    Column 6: Train\n",
      "Train sizes in this step:\n",
      "    Column 3: 767\n",
      "    Column 4: 1660\n",
      "    Column 5: 1651\n",
      "    Column 6: 1174\n",
      "Corrections applied in this step:\n",
      "    Column 3: 876 Real changes: 0\n",
      "    Column 4: 605 Real changes: 98\n",
      "    Column 5: 1049 Real changes: 0\n",
      "    Column 6: 768 Real changes: 0\n",
      "74% (3369 / 4536) of data errors are corrected.\n",
      "The error corrector models are updated with new labeled tuple 667.\n",
      "548696 pairs of (a data error, a potential correction) are featurized.\n",
      "Prediction Method in this step:\n",
      "    Column 3: Train\n",
      "    Column 4: Train\n",
      "    Column 5: Train\n",
      "    Column 6: Train\n",
      "Train sizes in this step:\n",
      "    Column 3: 772\n",
      "    Column 4: 1677\n",
      "    Column 5: 1660\n",
      "    Column 6: 1199\n",
      "Corrections applied in this step:\n",
      "    Column 3: 876 Real changes: 0\n",
      "    Column 4: 608 Real changes: 181\n",
      "    Column 5: 1032 Real changes: 13\n",
      "    Column 6: 788 Real changes: 20\n",
      "76% (3438 / 4536) of data errors are corrected.\n",
      "The error corrector models are updated with new labeled tuple 1788.\n",
      "548696 pairs of (a data error, a potential correction) are featurized.\n",
      "Prediction Method in this step:\n",
      "    Column 3: Train\n",
      "    Column 4: Train\n",
      "    Column 5: Train\n",
      "    Column 6: Train\n",
      "Train sizes in this step:\n",
      "    Column 3: 772\n",
      "    Column 4: 1677\n",
      "    Column 5: 1660\n",
      "    Column 6: 1199\n",
      "Corrections applied in this step:\n",
      "    Column 3: 876 Real changes: 0\n",
      "    Column 4: 588 Real changes: 72\n",
      "    Column 5: 1032 Real changes: 0\n",
      "    Column 6: 788 Real changes: 0\n",
      "76% (3438 / 4536) of data errors are corrected.\n",
      "The error corrector models are updated with new labeled tuple 194.\n",
      "552487 pairs of (a data error, a potential correction) are featurized.\n",
      "Prediction Method in this step:\n",
      "    Column 3: Train\n",
      "    Column 4: Train\n",
      "    Column 5: Train\n",
      "    Column 6: Train\n",
      "Train sizes in this step:\n",
      "    Column 3: 772\n",
      "    Column 4: 1689\n",
      "    Column 5: 1664\n",
      "    Column 6: 1212\n",
      "Corrections applied in this step:\n",
      "    Column 3: 876 Real changes: 0\n",
      "    Column 4: 686 Real changes: 230\n",
      "    Column 5: 1032 Real changes: 0\n",
      "    Column 6: 788 Real changes: 0\n",
      "78% (3553 / 4536) of data errors are corrected.\n",
      "The error corrector models are updated with new labeled tuple 1068.\n",
      "554378 pairs of (a data error, a potential correction) are featurized.\n",
      "Prediction Method in this step:\n",
      "    Column 3: Train\n",
      "    Column 4: Train\n",
      "    Column 5: Train\n",
      "    Column 6: Train\n",
      "Train sizes in this step:\n",
      "    Column 3: 772\n",
      "    Column 4: 1692\n",
      "    Column 5: 1666\n",
      "    Column 6: 1221\n",
      "Corrections applied in this step:\n",
      "    Column 3: 876 Real changes: 0\n",
      "    Column 4: 565 Real changes: 0\n",
      "    Column 5: 1032 Real changes: 0\n",
      "    Column 6: 780 Real changes: 0\n",
      "78% (3553 / 4536) of data errors are corrected.\n",
      "The error corrector models are updated with new labeled tuple 1473.\n",
      "555690 pairs of (a data error, a potential correction) are featurized.\n",
      "Prediction Method in this step:\n",
      "    Column 3: Train\n",
      "    Column 4: Train\n",
      "    Column 5: Train\n",
      "    Column 6: Train\n",
      "Train sizes in this step:\n",
      "    Column 3: 772\n",
      "    Column 4: 1692\n",
      "    Column 5: 1666\n",
      "    Column 6: 1235\n",
      "Corrections applied in this step:\n",
      "    Column 3: 876 Real changes: 0\n",
      "    Column 4: 672 Real changes: 26\n",
      "    Column 5: 1032 Real changes: 0\n",
      "    Column 6: 811 Real changes: 23\n",
      "79% (3576 / 4536) of data errors are corrected.\n",
      "The error corrector models are updated with new labeled tuple 2070.\n",
      "557990 pairs of (a data error, a potential correction) are featurized.\n",
      "Prediction Method in this step:\n",
      "    Column 3: Train\n",
      "    Column 4: Train\n",
      "    Column 5: Train\n",
      "    Column 6: Train\n",
      "Train sizes in this step:\n",
      "    Column 3: 777\n",
      "    Column 4: 1696\n",
      "    Column 5: 1666\n",
      "    Column 6: 1239\n",
      "Corrections applied in this step:\n",
      "    Column 3: 876 Real changes: 0\n",
      "    Column 4: 356 Real changes: 0\n",
      "    Column 5: 1032 Real changes: 0\n",
      "    Column 6: 811 Real changes: 0\n",
      "79% (3576 / 4536) of data errors are corrected.\n",
      "The error corrector models are updated with new labeled tuple 1505.\n",
      "563835 pairs of (a data error, a potential correction) are featurized.\n",
      "Prediction Method in this step:\n",
      "    Column 3: Train\n",
      "    Column 4: Train\n",
      "    Column 5: Train\n",
      "    Column 6: Train\n",
      "Train sizes in this step:\n",
      "    Column 3: 782\n",
      "    Column 4: 1709\n",
      "    Column 5: 1672\n",
      "    Column 6: 1257\n",
      "Corrections applied in this step:\n",
      "    Column 3: 876 Real changes: 0\n",
      "    Column 4: 565 Real changes: 0\n",
      "    Column 5: 1032 Real changes: 0\n",
      "    Column 6: 837 Real changes: 26\n",
      "79% (3602 / 4536) of data errors are corrected.\n",
      "The error corrector models are updated with new labeled tuple 59.\n",
      "567502 pairs of (a data error, a potential correction) are featurized.\n",
      "Prediction Method in this step:\n",
      "    Column 3: Train\n",
      "    Column 4: Train\n",
      "    Column 5: Train\n",
      "    Column 6: Train\n",
      "Train sizes in this step:\n",
      "    Column 3: 787\n",
      "    Column 4: 1718\n",
      "    Column 5: 1677\n",
      "    Column 6: 1263\n",
      "Corrections applied in this step:\n",
      "    Column 3: 876 Real changes: 0\n",
      "    Column 4: 393 Real changes: 89\n",
      "    Column 5: 1032 Real changes: 0\n",
      "    Column 6: 837 Real changes: 0\n",
      "79% (3602 / 4536) of data errors are corrected.\n",
      "The error corrector models are updated with new labeled tuple 212.\n",
      "570192 pairs of (a data error, a potential correction) are featurized.\n",
      "Prediction Method in this step:\n",
      "    Column 3: Train\n",
      "    Column 4: Train\n",
      "    Column 5: Train\n",
      "    Column 6: Train\n",
      "Train sizes in this step:\n",
      "    Column 3: 790\n",
      "    Column 4: 1733\n",
      "    Column 5: 1679\n",
      "    Column 6: 1278\n",
      "Corrections applied in this step:\n",
      "    Column 3: 876 Real changes: 0\n",
      "    Column 4: 178 Real changes: 16\n",
      "    Column 5: 1049 Real changes: 13\n",
      "    Column 6: 862 Real changes: 25\n",
      "80% (3627 / 4536) of data errors are corrected.\n",
      "The error corrector models are updated with new labeled tuple 1042.\n",
      "572460 pairs of (a data error, a potential correction) are featurized.\n",
      "Prediction Method in this step:\n",
      "    Column 3: Train\n",
      "    Column 4: Train\n",
      "    Column 5: Train\n",
      "    Column 6: Train\n",
      "Train sizes in this step:\n",
      "    Column 3: 793\n",
      "    Column 4: 1740\n",
      "    Column 5: 1684\n",
      "    Column 6: 1292\n",
      "Corrections applied in this step:\n",
      "    Column 3: 876 Real changes: 0\n",
      "    Column 4: 80 Real changes: 0\n",
      "    Column 5: 1049 Real changes: 0\n",
      "    Column 6: 863 Real changes: 2\n",
      "80% (3627 / 4536) of data errors are corrected.\n",
      "The error corrector models are updated with new labeled tuple 1642.\n",
      "577591 pairs of (a data error, a potential correction) are featurized.\n",
      "Prediction Method in this step:\n",
      "    Column 3: Train\n",
      "    Column 4: Train\n",
      "    Column 5: Train\n",
      "    Column 6: Train\n",
      "Train sizes in this step:\n",
      "    Column 3: 804\n",
      "    Column 4: 1754\n",
      "    Column 5: 1695\n",
      "    Column 6: 1294\n",
      "Corrections applied in this step:\n",
      "    Column 3: 876 Real changes: 0\n",
      "    Column 4: 646 Real changes: 176\n",
      "    Column 5: 1049 Real changes: 1\n",
      "    Column 6: 862 Real changes: 0\n",
      "84% (3803 / 4536) of data errors are corrected.\n",
      "The error corrector models are updated with new labeled tuple 1939.\n",
      "577591 pairs of (a data error, a potential correction) are featurized.\n",
      "Prediction Method in this step:\n",
      "    Column 3: Train\n",
      "    Column 4: Train\n",
      "    Column 5: Train\n",
      "    Column 6: Train\n",
      "Train sizes in this step:\n",
      "    Column 3: 804\n",
      "    Column 4: 1754\n",
      "    Column 5: 1695\n",
      "    Column 6: 1294\n",
      "Corrections applied in this step:\n",
      "    Column 3: 876 Real changes: 0\n",
      "    Column 4: 646 Real changes: 0\n",
      "    Column 5: 1049 Real changes: 0\n",
      "    Column 6: 831 Real changes: 2\n",
      "84% (3803 / 4536) of data errors are corrected.\n",
      "The error corrector models are updated with new labeled tuple 1611.\n",
      "578014 pairs of (a data error, a potential correction) are featurized.\n",
      "Prediction Method in this step:\n",
      "    Column 3: Train\n",
      "    Column 4: Train\n",
      "    Column 5: Train\n",
      "    Column 6: Train\n",
      "Train sizes in this step:\n",
      "    Column 3: 810\n",
      "    Column 4: 1760\n",
      "    Column 5: 1697\n",
      "    Column 6: 1297\n",
      "Corrections applied in this step:\n",
      "    Column 3: 876 Real changes: 0\n",
      "    Column 4: 646 Real changes: 0\n",
      "    Column 5: 1049 Real changes: 0\n",
      "    Column 6: 863 Real changes: 2\n",
      "84% (3803 / 4536) of data errors are corrected.\n",
      "The error corrector models are updated with new labeled tuple 2189.\n",
      "583108 pairs of (a data error, a potential correction) are featurized.\n",
      "Prediction Method in this step:\n",
      "    Column 3: Train\n",
      "    Column 4: Train\n",
      "    Column 5: Train\n",
      "    Column 6: Train\n",
      "Train sizes in this step:\n",
      "    Column 3: 815\n",
      "    Column 4: 1772\n",
      "    Column 5: 1699\n",
      "    Column 6: 1313\n",
      "Corrections applied in this step:\n",
      "    Column 3: 876 Real changes: 0\n",
      "    Column 4: 0 Real changes: 0\n",
      "    Column 5: 0 Real changes: 0\n",
      "    Column 6: 0 Real changes: 0\n",
      "84% (3803 / 4536) of data errors are corrected.\n",
      "The error corrector models are updated with new labeled tuple 1864.\n",
      "583108 pairs of (a data error, a potential correction) are featurized.\n",
      "Prediction Method in this step:\n",
      "    Column 3: Train\n",
      "    Column 4: Train\n",
      "    Column 5: Train\n",
      "    Column 6: Train\n",
      "Train sizes in this step:\n",
      "    Column 3: 815\n",
      "    Column 4: 1772\n",
      "    Column 5: 1699\n",
      "    Column 6: 1313\n",
      "Corrections applied in this step:\n",
      "    Column 3: 0 Real changes: 0\n",
      "    Column 4: 0 Real changes: 0\n",
      "    Column 5: 1050 Real changes: 1\n",
      "    Column 6: 34 Real changes: 0\n",
      "84% (3803 / 4536) of data errors are corrected.\n",
      "The error corrector models are updated with new labeled tuple 1710.\n",
      "588176 pairs of (a data error, a potential correction) are featurized.\n",
      "Prediction Method in this step:\n",
      "    Column 3: Train\n",
      "    Column 4: Train\n",
      "    Column 5: Train\n",
      "    Column 6: Train\n",
      "Train sizes in this step:\n",
      "    Column 3: 815\n",
      "    Column 4: 1787\n",
      "    Column 5: 1711\n",
      "    Column 6: 1328\n",
      "Corrections applied in this step:\n",
      "    Column 3: 876 Real changes: 0\n",
      "    Column 4: 0 Real changes: 0\n",
      "    Column 5: 0 Real changes: 0\n",
      "    Column 6: 883 Real changes: 21\n",
      "84% (3824 / 4536) of data errors are corrected.\n",
      "The error corrector models are updated with new labeled tuple 1944.\n",
      "588176 pairs of (a data error, a potential correction) are featurized.\n",
      "Prediction Method in this step:\n",
      "    Column 3: Train\n",
      "    Column 4: Train\n",
      "    Column 5: Train\n",
      "    Column 6: Train\n",
      "Train sizes in this step:\n",
      "    Column 3: 815\n",
      "    Column 4: 1787\n",
      "    Column 5: 1711\n",
      "    Column 6: 1328\n",
      "Corrections applied in this step:\n",
      "    Column 3: 0 Real changes: 0\n",
      "    Column 4: 0 Real changes: 0\n",
      "    Column 5: 1070 Real changes: 22\n",
      "    Column 6: 0 Real changes: 0\n",
      "85% (3845 / 4536) of data errors are corrected.\n"
     ]
    }
   ],
   "source": [
    "# while len(d.labeled_tuples) < app_2.LABELING_BUDGET:\n",
    "#     app_2.sample_tuple(d)\n",
    "#     if d.has_ground_truth:\n",
    "#         app_2.label_with_ground_truth(d)\n",
    "#     else:\n",
    "#         print(\"Label the dirty cells in the following sampled tuple.\")\n",
    "#         sampled_tuple = pandas.DataFrame(data=[d.dataframe.iloc[d.sampled_tuple, :]], columns=d.dataframe.columns)\n",
    "#         IPython.display.display(sampled_tuple)\n",
    "#         for j in range(d.dataframe.shape[1]):\n",
    "#             cell = (d.sampled_tuple, j)\n",
    "#             value = d.dataframe.iloc[cell]\n",
    "#             correction = input(\"What is the correction for value '{}'? Type in the same value if it is not erronous.\\n\".format(value))\n",
    "#             user_label = 1 if value != correction else 0\n",
    "#             d.labeled_cells[cell] = [user_label, correction]\n",
    "#         d.labeled_tuples[d.sampled_tuple] = 1\n",
    "#     app_2.update_models(d)\n",
    "#     app_2.generate_features(d)\n",
    "#     app_2.predict_corrections(d)\n",
    "\n",
    "#labeled_tuples_list = list(d.labeled_tuples.keys())\n",
    "#k = labeled_tuples_list[0]\n",
    "\n",
    "#si = d.labeled_tuples[k]\n",
    "#d.sampled_tuple = k\n",
    "#app_2.update_models(d)\n",
    "#app_2.generate_features(d)\n",
    "\n",
    "for si in d.labeled_tuples:\n",
    "    d.sampled_tuple = si\n",
    "    app_2.update_models(d)\n",
    "    app_2.generate_features(d)\n",
    "    app_2.predict_corrections(d)"
   ]
  },
  {
   "cell_type": "code",
   "execution_count": 16,
   "outputs": [],
   "source": [
    "#d.corrected_cells = {}"
   ],
   "metadata": {
    "collapsed": false,
    "pycharm": {
     "name": "#%%\n"
    }
   }
  },
  {
   "cell_type": "code",
   "execution_count": 17,
   "outputs": [],
   "source": [
    "#app_2.predict_corrections(d)"
   ],
   "metadata": {
    "collapsed": false,
    "pycharm": {
     "name": "#%%\n"
    }
   }
  },
  {
   "cell_type": "markdown",
   "metadata": {},
   "source": [
    "### 5. Storing Results\n",
    "Baran can also store the error correction results."
   ]
  },
  {
   "cell_type": "code",
   "execution_count": 18,
   "metadata": {},
   "outputs": [
    {
     "name": "stdout",
     "output_type": "stream",
     "text": [
      "The results are stored in datasets/flights/raha-baran-results-flights/error-correction/correction.dataset.\n"
     ]
    }
   ],
   "source": [
    "app_2.store_results(d)"
   ]
  },
  {
   "cell_type": "markdown",
   "metadata": {},
   "source": [
    "### 6. Evaluating the Error Correction Task\n",
    "We can finally evaluate our error correction task."
   ]
  },
  {
   "cell_type": "code",
   "execution_count": 19,
   "metadata": {},
   "outputs": [
    {
     "name": "stdout",
     "output_type": "stream",
     "text": [
      "Baran's performance on flights:\n",
      "Precision = 0.76\n",
      "Recall = 0.59\n",
      "F1 = 0.67\n"
     ]
    }
   ],
   "source": [
    "p, r, f = d.get_data_cleaning_evaluation(d.corrected_cells)[-3:]\n",
    "print(\"Baran's performance on {}:\\nPrecision = {:.2f}\\nRecall = {:.2f}\\nF1 = {:.2f}\".format(d.name, p, r, f))"
   ]
  },
  {
   "cell_type": "code",
   "execution_count": 20,
   "outputs": [],
   "source": [
    "actual_errors = d.get_actual_errors_dictionary()"
   ],
   "metadata": {
    "collapsed": false,
    "pycharm": {
     "name": "#%%\n"
    }
   }
  },
  {
   "cell_type": "code",
   "execution_count": 21,
   "outputs": [],
   "source": [
    "#d = pickle.load(open(\"datasets/flights/raha-baran-results-flights/error-correction/correction.dataset\", \"rb\"))"
   ],
   "metadata": {
    "collapsed": false,
    "pycharm": {
     "name": "#%%\n"
    }
   }
  },
  {
   "cell_type": "code",
   "execution_count": 22,
   "metadata": {},
   "outputs": [
    {
     "data": {
      "text/plain": "16632"
     },
     "execution_count": 22,
     "metadata": {},
     "output_type": "execute_result"
    }
   ],
   "source": [
    "d.dataframe.shape[0] * d.dataframe.shape[1]"
   ]
  },
  {
   "cell_type": "code",
   "execution_count": 23,
   "outputs": [],
   "source": [
    "detected_cell_list = list(d.detected_cells.items())\n",
    "probabilities = [detection[1] for detection in detected_cell_list]\n",
    "is_correctly_detected = [cell[0] in actual_errors for cell in detected_cell_list]\n",
    "p_array = np.array(probabilities)"
   ],
   "metadata": {
    "collapsed": false,
    "pycharm": {
     "name": "#%%\n"
    }
   }
  },
  {
   "cell_type": "code",
   "execution_count": 24,
   "outputs": [
    {
     "data": {
      "text/plain": "(array([  60.,   26.,   25.,   46.,   34.,   32.,    4.,   18.,   39.,\n          42.,   22.,   11.,   24.,    6.,   56.,   55.,   62.,  167.,\n         101., 3705.]),\n array([0.5  , 0.525, 0.55 , 0.575, 0.6  , 0.625, 0.65 , 0.675, 0.7  ,\n        0.725, 0.75 , 0.775, 0.8  , 0.825, 0.85 , 0.875, 0.9  , 0.925,\n        0.95 , 0.975, 1.   ]),\n <BarContainer object of 20 artists>)"
     },
     "execution_count": 24,
     "metadata": {},
     "output_type": "execute_result"
    },
    {
     "data": {
      "text/plain": "<Figure size 432x288 with 1 Axes>",
      "image/png": "[encoded data removed]"
     },
     "metadata": {
      "needs_background": "light"
     },
     "output_type": "display_data"
    }
   ],
   "source": [
    "plt.hist(p_array[:,1], bins=np.linspace(0.5, 1.0, 21))"
   ],
   "metadata": {
    "collapsed": false,
    "pycharm": {
     "name": "#%%\n"
    }
   }
  },
  {
   "cell_type": "code",
   "execution_count": 25,
   "outputs": [],
   "source": [
    "p_df = DataFrame([list(detection[0]) + list(detection[1]) for detection in detected_cell_list], columns=[\"row\", \"column\", \"p_not\", \"p\"])\n",
    "p_df = p_df[[\"row\", \"column\", \"p\"]]\n",
    "p_df[\"correct\"] = is_correctly_detected"
   ],
   "metadata": {
    "collapsed": false,
    "pycharm": {
     "name": "#%%\n"
    }
   }
  },
  {
   "cell_type": "code",
   "execution_count": 26,
   "outputs": [
    {
     "data": {
      "text/plain": "correct\nFalse    [[AxesSubplot(0.125,0.125;0.775x0.755)]]\nTrue     [[AxesSubplot(0.125,0.125;0.775x0.755)]]\ndtype: object"
     },
     "execution_count": 26,
     "metadata": {},
     "output_type": "execute_result"
    },
    {
     "data": {
      "text/plain": "<Figure size 432x288 with 1 Axes>",
      "image/png": "[encoded data removed]"
     },
     "metadata": {
      "needs_background": "light"
     },
     "output_type": "display_data"
    },
    {
     "data": {
      "text/plain": "<Figure size 432x288 with 1 Axes>",
      "image/png": "[encoded data removed]"
     },
     "metadata": {
      "needs_background": "light"
     },
     "output_type": "display_data"
    }
   ],
   "source": [
    "p_df[[\"correct\",\"p\"]].groupby(\"correct\").hist(bins=np.linspace(0.5, 1.0, 21))"
   ],
   "metadata": {
    "collapsed": false,
    "pycharm": {
     "name": "#%%\n"
    }
   }
  },
  {
   "cell_type": "code",
   "execution_count": 27,
   "outputs": [],
   "source": [
    "undetected_cell_list = list(d.undetected_cells.items())\n",
    "probabilities = [detection[1] for detection in undetected_cell_list]\n",
    "is_correctly_detected = [cell[0] not in actual_errors for cell in undetected_cell_list]\n",
    "\n",
    "p_df_n = DataFrame([list(detection[0]) + list(detection[1]) for detection in undetected_cell_list], columns=[\"row\", \"column\", \"p_not\", \"p\"])\n",
    "p_df_n = p_df_n[[\"row\", \"column\", \"p\"]]\n",
    "p_df_n[\"correct\"] = is_correctly_detected"
   ],
   "metadata": {
    "collapsed": false,
    "pycharm": {
     "name": "#%%\n"
    }
   }
  },
  {
   "cell_type": "code",
   "execution_count": 28,
   "outputs": [
    {
     "data": {
      "text/plain": "correct\nFalse    [[AxesSubplot(0.125,0.125;0.775x0.755)]]\nTrue     [[AxesSubplot(0.125,0.125;0.775x0.755)]]\ndtype: object"
     },
     "execution_count": 28,
     "metadata": {},
     "output_type": "execute_result"
    },
    {
     "data": {
      "text/plain": "<Figure size 432x288 with 1 Axes>",
      "image/png": "[encoded data removed]"
     },
     "metadata": {
      "needs_background": "light"
     },
     "output_type": "display_data"
    },
    {
     "data": {
      "text/plain": "<Figure size 432x288 with 1 Axes>",
      "image/png": "[encoded data removed]"
     },
     "metadata": {
      "needs_background": "light"
     },
     "output_type": "display_data"
    }
   ],
   "source": [
    "p_df_n[[\"correct\",\"p\"]].groupby(\"correct\").hist(bins=np.linspace(0.0, 0.5, 21))"
   ],
   "metadata": {
    "collapsed": false,
    "pycharm": {
     "name": "#%%\n"
    }
   }
  },
  {
   "cell_type": "code",
   "execution_count": 29,
   "outputs": [],
   "source": [
    "low_p = p_df[p_df[\"p\"] < 0.60]"
   ],
   "metadata": {
    "collapsed": false,
    "pycharm": {
     "name": "#%%\n"
    }
   }
  },
  {
   "cell_type": "code",
   "execution_count": 30,
   "outputs": [
    {
     "data": {
      "text/plain": "158"
     },
     "execution_count": 30,
     "metadata": {},
     "output_type": "execute_result"
    }
   ],
   "source": [
    "low_p.shape[0]"
   ],
   "metadata": {
    "collapsed": false,
    "pycharm": {
     "name": "#%%\n"
    }
   }
  },
  {
   "cell_type": "code",
   "execution_count": 31,
   "outputs": [
    {
     "data": {
      "text/plain": "4536"
     },
     "execution_count": 31,
     "metadata": {},
     "output_type": "execute_result"
    }
   ],
   "source": [
    "p_df.shape[0]"
   ],
   "metadata": {
    "collapsed": false,
    "pycharm": {
     "name": "#%%\n"
    }
   }
  },
  {
   "cell_type": "code",
   "execution_count": 32,
   "outputs": [],
   "source": [
    "low_p_dataframe = d.dataframe.loc[low_p[\"row\"].unique(),:]"
   ],
   "metadata": {
    "collapsed": false,
    "pycharm": {
     "name": "#%%\n"
    }
   }
  },
  {
   "cell_type": "code",
   "execution_count": 33,
   "outputs": [
    {
     "data": {
      "text/plain": "3195"
     },
     "execution_count": 33,
     "metadata": {},
     "output_type": "execute_result"
    }
   ],
   "source": [
    "sum(d.extended_labeled_cells.values())"
   ],
   "metadata": {
    "collapsed": false,
    "pycharm": {
     "name": "#%%\n"
    }
   }
  },
  {
   "cell_type": "code",
   "execution_count": 34,
   "outputs": [
    {
     "name": "stdout",
     "output_type": "stream",
     "text": [
      "Histograms of the probabilities of the detection algorithm by (label, true label)\n"
     ]
    },
    {
     "data": {
      "text/plain": "<Figure size 432x288 with 4 Axes>",
      "image/png": "[encoded data removed]"
     },
     "metadata": {
      "needs_background": "light"
     },
     "output_type": "display_data"
    }
   ],
   "source": [
    "from raha import analysis_utilities\n",
    "analysis_utilities.detection_evaluation(d,actual_errors)"
   ],
   "metadata": {
    "collapsed": false,
    "pycharm": {
     "name": "#%%\n"
    }
   }
  },
  {
   "cell_type": "code",
   "execution_count": 35,
   "outputs": [],
   "source": [
    "correction_features = []\n",
    "\n",
    "for cell in d.corrected_cells:\n",
    "    correction_features.append(list(cell) +\n",
    "                               [d.dataframe.iloc[cell]] +\n",
    "                               [d.corrected_cells[cell]] +\n",
    "                               [actual_errors[cell] if cell in actual_errors else d.dataframe.iloc[cell]] +\n",
    "                               list(d.pair_features[cell][d.corrected_cells[cell]]))"
   ],
   "metadata": {
    "collapsed": false,
    "pycharm": {
     "name": "#%%\n"
    }
   }
  },
  {
   "cell_type": "code",
   "execution_count": 36,
   "outputs": [],
   "source": [
    "correction_features_df = DataFrame(correction_features,\n",
    "                                   columns=[\"row\",\n",
    "                                            \"column\",\n",
    "                                            \"old_value\",\n",
    "                                            \"new_value\",\n",
    "                                            \"actual_value\",\n",
    "                                            *[f\"feature_value_{i}\" for i in range(8)],\n",
    "                                            *[f\"feature_vicinity_{i}\" for i in range(7)],\n",
    "                                            \"feature_domain\"])"
   ],
   "metadata": {
    "collapsed": false,
    "pycharm": {
     "name": "#%%\n"
    }
   }
  },
  {
   "cell_type": "code",
   "execution_count": 37,
   "outputs": [
    {
     "data": {
      "text/plain": "feature_value_0       0.002081\nfeature_vicinity_1    0.003178\nfeature_value_2       0.003232\nfeature_value_3       0.003232\nfeature_value_1       0.009103\nfeature_value_5       0.009749\nfeature_domain        0.009888\nfeature_vicinity_0    0.011443\nfeature_value_7       0.014562\nfeature_value_4       0.019831\nfeature_value_6       0.031841\nfeature_vicinity_5    0.168643\nfeature_vicinity_4    0.180750\nfeature_vicinity_6    0.196870\nfeature_vicinity_3    0.257959\nfeature_vicinity_2    0.906096\ndtype: float64"
     },
     "execution_count": 37,
     "metadata": {},
     "output_type": "execute_result"
    }
   ],
   "source": [
    "correction_features_df.iloc[:,5:].mean().sort_values()"
   ],
   "metadata": {
    "collapsed": false,
    "pycharm": {
     "name": "#%%\n"
    }
   }
  },
  {
   "cell_type": "code",
   "execution_count": 38,
   "outputs": [
    {
     "data": {
      "text/plain": "        feature_value_0  feature_value_1  feature_value_2  feature_value_3  \\\ncolumn                                                                       \n3              0.001130         0.006780         0.005085         0.005085   \n4              0.000000         0.000000         0.000944         0.000944   \n5              0.006475         0.024977         0.005154         0.005154   \n6              0.000000         0.002235         0.001596         0.001596   \n\n        feature_value_4  feature_value_5  feature_value_6  feature_value_7  \\\ncolumn                                                                       \n3              0.000000         0.000000         0.012147         0.007815   \n4              0.050051         0.018445         0.052011         0.015872   \n5              0.001850         0.007216         0.017411         0.015967   \n6              0.027933         0.012886         0.046568         0.018094   \n\n        feature_vicinity_0  feature_vicinity_1  feature_vicinity_2  \\\ncolumn                                                               \n3                 0.010169            0.005530            0.990729   \n4                 0.012195            0.002997            0.817284   \n5                 0.010176            0.001066            0.904671   \n6                 0.013408            0.003603            0.921775   \n\n        feature_vicinity_3  feature_vicinity_4  feature_vicinity_5  \\\ncolumn                                                               \n3                 0.000000            0.319062            0.042161   \n4                 0.407556            0.000000            0.270368   \n5                 0.178944            0.188534            0.000000   \n6                 0.443999            0.233304            0.385561   \n\n        feature_vicinity_6  feature_domain  \ncolumn                                      \n3                 0.363730        0.015170  \n4                 0.174126        0.008020  \n5                 0.243962        0.007403  \n6                 0.000000        0.009720  ",
      "text/html": "<div>\n<style scoped>\n    .dataframe tbody tr th:only-of-type {\n        vertical-align: middle;\n    }\n\n    .dataframe tbody tr th {\n        vertical-align: top;\n    }\n\n    .dataframe thead th {\n        text-align: right;\n    }\n</style>\n<table border=\"1\" class=\"dataframe\">\n  <thead>\n    <tr style=\"text-align: right;\">\n      <th></th>\n      <th>feature_value_0</th>\n      <th>feature_value_1</th>\n      <th>feature_value_2</th>\n      <th>feature_value_3</th>\n      <th>feature_value_4</th>\n      <th>feature_value_5</th>\n      <th>feature_value_6</th>\n      <th>feature_value_7</th>\n      <th>feature_vicinity_0</th>\n      <th>feature_vicinity_1</th>\n      <th>feature_vicinity_2</th>\n      <th>feature_vicinity_3</th>\n      <th>feature_vicinity_4</th>\n      <th>feature_vicinity_5</th>\n      <th>feature_vicinity_6</th>\n      <th>feature_domain</th>\n    </tr>\n    <tr>\n      <th>column</th>\n      <th></th>\n      <th></th>\n      <th></th>\n      <th></th>\n      <th></th>\n      <th></th>\n      <th></th>\n      <th></th>\n      <th></th>\n      <th></th>\n      <th></th>\n      <th></th>\n      <th></th>\n      <th></th>\n      <th></th>\n      <th></th>\n    </tr>\n  </thead>\n  <tbody>\n    <tr>\n      <th>3</th>\n      <td>0.001130</td>\n      <td>0.006780</td>\n      <td>0.005085</td>\n      <td>0.005085</td>\n      <td>0.000000</td>\n      <td>0.000000</td>\n      <td>0.012147</td>\n      <td>0.007815</td>\n      <td>0.010169</td>\n      <td>0.005530</td>\n      <td>0.990729</td>\n      <td>0.000000</td>\n      <td>0.319062</td>\n      <td>0.042161</td>\n      <td>0.363730</td>\n      <td>0.015170</td>\n    </tr>\n    <tr>\n      <th>4</th>\n      <td>0.000000</td>\n      <td>0.000000</td>\n      <td>0.000944</td>\n      <td>0.000944</td>\n      <td>0.050051</td>\n      <td>0.018445</td>\n      <td>0.052011</td>\n      <td>0.015872</td>\n      <td>0.012195</td>\n      <td>0.002997</td>\n      <td>0.817284</td>\n      <td>0.407556</td>\n      <td>0.000000</td>\n      <td>0.270368</td>\n      <td>0.174126</td>\n      <td>0.008020</td>\n    </tr>\n    <tr>\n      <th>5</th>\n      <td>0.006475</td>\n      <td>0.024977</td>\n      <td>0.005154</td>\n      <td>0.005154</td>\n      <td>0.001850</td>\n      <td>0.007216</td>\n      <td>0.017411</td>\n      <td>0.015967</td>\n      <td>0.010176</td>\n      <td>0.001066</td>\n      <td>0.904671</td>\n      <td>0.178944</td>\n      <td>0.188534</td>\n      <td>0.000000</td>\n      <td>0.243962</td>\n      <td>0.007403</td>\n    </tr>\n    <tr>\n      <th>6</th>\n      <td>0.000000</td>\n      <td>0.002235</td>\n      <td>0.001596</td>\n      <td>0.001596</td>\n      <td>0.027933</td>\n      <td>0.012886</td>\n      <td>0.046568</td>\n      <td>0.018094</td>\n      <td>0.013408</td>\n      <td>0.003603</td>\n      <td>0.921775</td>\n      <td>0.443999</td>\n      <td>0.233304</td>\n      <td>0.385561</td>\n      <td>0.000000</td>\n      <td>0.009720</td>\n    </tr>\n  </tbody>\n</table>\n</div>"
     },
     "execution_count": 38,
     "metadata": {},
     "output_type": "execute_result"
    }
   ],
   "source": [
    "correction_features_df.iloc[:,[1] + list(range(5,correction_features_df.shape[1]))].groupby(\"column\").mean()"
   ],
   "metadata": {
    "collapsed": false,
    "pycharm": {
     "name": "#%%\n"
    }
   }
  },
  {
   "cell_type": "code",
   "execution_count": 39,
   "outputs": [],
   "source": [
    "correction_features_df[\"wrong_correction\"] = (correction_features_df[\"old_value\"] == correction_features_df[\"actual_value\"]) & (correction_features_df[\"old_value\"] != correction_features_df[\"new_value\"])"
   ],
   "metadata": {
    "collapsed": false,
    "pycharm": {
     "name": "#%%\n"
    }
   }
  },
  {
   "cell_type": "code",
   "execution_count": 40,
   "outputs": [
    {
     "data": {
      "text/plain": "0.08894668400520156"
     },
     "execution_count": 40,
     "metadata": {},
     "output_type": "execute_result"
    }
   ],
   "source": [
    "correction_features_df[\"wrong_correction\"].sum() / correction_features_df.shape[0]"
   ],
   "metadata": {
    "collapsed": false,
    "pycharm": {
     "name": "#%%\n"
    }
   }
  },
  {
   "cell_type": "code",
   "execution_count": 41,
   "outputs": [
    {
     "data": {
      "text/plain": "[1390, 114, 308, 288, 514, 393, 525]"
     },
     "execution_count": 41,
     "metadata": {},
     "output_type": "execute_result"
    }
   ],
   "source": [
    "distinct_features = []\n",
    "\n",
    "for column_index in range(d.dataframe.shape[1]):\n",
    "    unique_rows = np.unique(d.column_features[column_index], axis=0)\n",
    "    distinct_features.append(unique_rows.shape[0])\n",
    "\n",
    "distinct_features"
   ],
   "metadata": {
    "collapsed": false,
    "pycharm": {
     "name": "#%%\n"
    }
   }
  },
  {
   "cell_type": "code",
   "execution_count": 42,
   "outputs": [],
   "source": [
    "cluster_features = []\n",
    "\n",
    "for cluster_i in range(1,21):\n",
    "    cluster_features.append(d.column_features[3][\n",
    "        [key[0] for key in d.clusters_k_j_c_ce[21][3][cluster_i].keys()]])"
   ],
   "metadata": {
    "collapsed": false,
    "pycharm": {
     "name": "#%%\n"
    }
   }
  },
  {
   "cell_type": "code",
   "execution_count": 43,
   "outputs": [],
   "source": [
    "cluster_feature_means = np.array([cluster.mean(axis=0) for cluster in cluster_features])"
   ],
   "metadata": {
    "collapsed": false,
    "pycharm": {
     "name": "#%%\n"
    }
   }
  },
  {
   "cell_type": "code",
   "execution_count": 44,
   "outputs": [
    {
     "data": {
      "text/plain": "1      3\n2      2\n4      3\n7      1\n10     1\n12     2\n13     1\n31     1\n32     1\n72     1\n102    1\n211    1\n344    1\n751    1\n760    1\ndtype: int64"
     },
     "execution_count": 44,
     "metadata": {},
     "output_type": "execute_result"
    }
   ],
   "source": [
    "Series([len(cluster) for cluster in d.clusters_k_j_c_ce[21][3].values()]).value_counts().sort_index()"
   ],
   "metadata": {
    "collapsed": false,
    "pycharm": {
     "name": "#%%\n"
    }
   }
  },
  {
   "cell_type": "code",
   "execution_count": 45,
   "outputs": [],
   "source": [
    "from raha.analysis_utilities import explain_detection"
   ],
   "metadata": {
    "collapsed": false,
    "pycharm": {
     "name": "#%%\n"
    }
   }
  },
  {
   "cell_type": "code",
   "execution_count": 46,
   "outputs": [
    {
     "name": "stdout",
     "output_type": "stream",
     "text": [
      "Original Value: ''\n",
      "Label: 1\n",
      "Confidence: 0.9999731508343098\n",
      "Cell belongs to cluster (Column 3, Cluster 2)\n",
      "Total number of cells in this cluster: 760\n",
      "Cell was labeled by cluster label extension with label 1\n",
      "Other cells in the same cluster (sample of max 5 cells):\n",
      "(2175, 3): '' Features: [0. 0. 0. 0. 0. 0. 0. 0. 0. 0. 0. 0. 0. 0. 0. 0. 0. 0. 0. 1. 0. 0. 0. 0.\n",
      " 1. 0. 0. 0. 0. 0. 0. 0. 0. 0. 0. 0. 0. 0. 0. 0. 0. 0. 1. 1. 0. 0. 0. 0.\n",
      " 0. 1. 0. 0. 0. 0. 0. 0. 0. 0. 1. 0. 0. 0. 0. 0. 0.]\n",
      "(1513, 3): '' Features: [0. 0. 0. 0. 0. 0. 0. 0. 0. 0. 0. 0. 0. 0. 0. 0. 0. 0. 0. 1. 0. 0. 0. 0.\n",
      " 1. 0. 0. 0. 0. 0. 0. 0. 0. 0. 0. 0. 0. 0. 0. 0. 0. 0. 1. 1. 0. 0. 0. 0.\n",
      " 0. 1. 0. 0. 0. 0. 0. 0. 0. 0. 0. 0. 0. 0. 0. 0. 0.]\n",
      "(964, 3): '' Features: [0. 0. 0. 0. 0. 0. 0. 0. 0. 0. 0. 0. 0. 0. 0. 0. 0. 0. 0. 1. 0. 0. 0. 0.\n",
      " 1. 0. 0. 0. 0. 0. 0. 0. 0. 0. 0. 0. 0. 0. 0. 0. 0. 0. 1. 1. 0. 0. 0. 0.\n",
      " 0. 0. 0. 0. 0. 0. 0. 0. 0. 0. 0. 0. 0. 0. 0. 0. 0.]\n",
      "(1545, 3): '' Features: [0. 0. 0. 0. 0. 0. 0. 0. 0. 0. 0. 0. 0. 0. 0. 0. 0. 0. 0. 1. 0. 0. 0. 0.\n",
      " 1. 0. 0. 0. 0. 0. 0. 0. 0. 0. 0. 0. 0. 0. 0. 0. 0. 0. 1. 1. 0. 0. 0. 0.\n",
      " 0. 0. 0. 0. 0. 0. 0. 0. 0. 0. 0. 0. 0. 0. 0. 0. 0.]\n",
      "(1770, 3): '' Features: [0. 0. 0. 0. 0. 0. 0. 0. 0. 0. 0. 0. 0. 0. 0. 0. 0. 0. 0. 1. 0. 0. 0. 0.\n",
      " 1. 0. 0. 0. 0. 0. 0. 0. 0. 0. 0. 0. 0. 0. 0. 0. 0. 0. 1. 1. 0. 0. 0. 0.\n",
      " 0. 0. 0. 0. 0. 0. 0. 0. 0. 0. 0. 0. 0. 0. 0. 0. 0.]\n",
      "Mean of all feature vectors in the cluster and feature vector of the current cell for comparison:\n",
      "[0.00 0.00 0.00 0.00 0.00 0.00 0.00 0.00 0.00 0.00 0.00 0.00 0.00 0.00 0.00 0.00 0.00 0.00 0.00 1.00 0.00 0.00 0.00 0.00 1.00 0.00 0.00 0.00 0.00 0.00 0.00 0.00 0.00 0.00 0.00 0.00 0.00 0.00 0.00 0.00 0.00 0.00 1.00 0.72 0.00 0.00 0.00 0.00 0.00 0.19 0.00 0.00 0.00 0.00 0.00 0.00 0.00 0.00 0.26 0.00 0.00 0.00 0.00 0.00 0.00]\n",
      "[0.00 0.00 0.00 0.00 0.00 0.00 0.00 0.00 0.00 0.00 0.00 0.00 0.00 0.00 0.00 0.00 0.00 0.00 0.00 1.00 0.00 0.00 0.00 0.00 1.00 0.00 0.00 0.00 0.00 0.00 0.00 0.00 0.00 0.00 0.00 0.00 0.00 0.00 0.00 0.00 0.00 0.00 1.00 1.00 0.00 0.00 0.00 0.00 0.00 0.00 0.00 0.00 0.00 0.00 0.00 0.00 0.00 0.00 0.00 0.00 0.00 0.00 0.00 0.00 0.00]\n",
      "This cluster was labeled because of the user labels of the following cells in its cluster: \n",
      "(59, 3): '' Label: 1\n",
      "(667, 3): '' Label: 1\n",
      "(1505, 3): '' Label: 1\n",
      "(2070, 3): '' Label: 1\n",
      "(2189, 3): '' Label: 1\n"
     ]
    }
   ],
   "source": [
    "explain_detection(d, (50,3))"
   ],
   "metadata": {
    "collapsed": false,
    "pycharm": {
     "name": "#%%\n"
    }
   }
  },
  {
   "cell_type": "code",
   "execution_count": 47,
   "outputs": [
    {
     "data": {
      "text/plain": "[((753, 3), ''),\n ((396, 3), ''),\n ((1348, 3), '11:40aDec 1'),\n ((1473, 6), '9:19 p.m. (Estimated)'),\n ((1623, 4), 'Not Available'),\n ((361, 4), '12:13 p.m.'),\n ((1705, 4), '4:35 p.m.'),\n ((698, 3), ''),\n ((93, 5), ''),\n ((1560, 6), '6:19 p.m.'),\n ((899, 3), ''),\n ((589, 4), '4:28 p.m.'),\n ((407, 4), ''),\n ((673, 4), '6:56 p.m.'),\n ((174, 5), '3:50 p.m.'),\n ((191, 4), '3:36 p.m.'),\n ((304, 6), '11:54 p.m.'),\n ((1391, 6), '8:45aDec 1'),\n ((651, 3), ''),\n ((977, 4), '1:19 p.m.')]"
     },
     "execution_count": 47,
     "metadata": {},
     "output_type": "execute_result"
    }
   ],
   "source": [
    "from random import sample\n",
    "\n",
    "[(cell, d.dataframe.iloc[cell]) for cell in sample(d.detected_cells.keys(), 20)]"
   ],
   "metadata": {
    "collapsed": false,
    "pycharm": {
     "name": "#%%\n"
    }
   }
  },
  {
   "cell_type": "code",
   "execution_count": 48,
   "outputs": [
    {
     "name": "stdout",
     "output_type": "stream",
     "text": [
      "Original Value: '12:10 p.m.'\n",
      "Label: 0\n",
      "Confidence: 0.9003630013790888\n",
      "Cell belongs to cluster (Column 4, Cluster 5)\n",
      "Total number of cells in this cluster: 483\n",
      "This cell is not part of a labeled cluster. It was labeled by the classification.\n",
      "However, there are the following labeled cells in its cluster:\n",
      "(59, 4): '10:53 a.m.' Label: 1\n",
      "(1788, 4): '10:18 a.m.' Label: 0\n",
      "(1864, 4): '12:13 p.m.' Label: 0\n",
      "(2070, 4): '10:55 a.m.' Label: 0\n",
      "(2189, 4): '12:14 p.m.' Label: 1\n"
     ]
    }
   ],
   "source": [
    "explain_detection(d, (1000, 4))"
   ],
   "metadata": {
    "collapsed": false,
    "pycharm": {
     "name": "#%%\n"
    }
   }
  },
  {
   "cell_type": "code",
   "execution_count": 49,
   "outputs": [
    {
     "name": "stdout",
     "output_type": "stream",
     "text": [
      "Original Value: '6:54 a.m.'\n",
      "Label: 0\n",
      "Confidence: 0.8046700242528028\n",
      "Cell belongs to cluster (Column 4, Cluster 8)\n",
      "Total number of cells in this cluster: 436\n",
      "This cell is not part of a labeled cluster. It was labeled by the classification.\n",
      "However, there are the following labeled cells in its cluster:\n",
      "(35, 4): '8:51 a.m.' Label: 0\n",
      "(1068, 4): '5:56 a.m.' Label: 1\n",
      "(1505, 4): '7:25 a.m.' Label: 0\n"
     ]
    }
   ],
   "source": [
    "explain_detection(d, (3,4))"
   ],
   "metadata": {
    "collapsed": false,
    "pycharm": {
     "name": "#%%\n"
    }
   }
  },
  {
   "cell_type": "code",
   "execution_count": 52,
   "outputs": [
    {
     "data": {
      "text/plain": "[((14, 4), {'2:03 p.m.': 0.5819464005465732, '2:04 p.m.': 0.6619050429798664}),\n ((47, 4),\n  {'7:16 a.m.': 0.465034512639066,\n   '7:39 a.m.': 0.465034512639066,\n   '7:32 a.m.': 0.999994552609424}),\n ((55, 4), {'7:58 p.m.': 0.6710175220915144, '7:59 p.m.': 0.8588688445647011}),\n ((57, 4),\n  {'12:37 p.m.': 0.5379362909232313, '11:32 a.m.': 0.5239766432260685}),\n ((62, 4),\n  {'12:58 a.m.': 0.5379362909232313, '12:41 a.m.': 0.5239766432260685}),\n ((64, 4), {'7:56 a.m.': 0.6026949519403603, '7:29 a.m.': 0.9556874941721657}),\n ((74, 4),\n  {'12:12 p.m.': 0.8007590661038395, '12:13 p.m.': 0.9621989308208898}),\n ((75, 4),\n  {'12:06 p.m.': 0.7148426455419488, '11:56 a.m.': 0.9556874941721657}),\n ((78, 4), {'6:17 a.m.': 0.8588688445647011, '6:02 a.m.': 0.8080191822575356}),\n ((79, 4), {'9:01 a.m.': 0.7944566271348601, '8:40 a.m.': 0.5239766432260685})]"
     },
     "execution_count": 52,
     "metadata": {},
     "output_type": "execute_result"
    }
   ],
   "source": [
    "[collection for collection in d.correction_collection.items() if len(collection[1]) > 1][:10]"
   ],
   "metadata": {
    "collapsed": false,
    "pycharm": {
     "name": "#%%\n"
    }
   }
  },
  {
   "cell_type": "code",
   "execution_count": 51,
   "outputs": [
    {
     "data": {
      "text/plain": "2.1618525896414345"
     },
     "execution_count": 51,
     "metadata": {},
     "output_type": "execute_result"
    }
   ],
   "source": [
    "sum([len(collection) for collection in d.correction_collection.values()]) / len(d.correction_collection)"
   ],
   "metadata": {
    "collapsed": false,
    "pycharm": {
     "name": "#%%\n"
    }
   }
  },
  {
   "cell_type": "code",
   "execution_count": 53,
   "outputs": [
    {
     "data": {
      "text/plain": "(array([2913.,  252.,   67.,    0.,   31.,  131.,    0.,  203.,  285.,\n         134.]),\n array([1. , 1.7, 2.4, 3.1, 3.8, 4.5, 5.2, 5.9, 6.6, 7.3, 8. ]),\n <BarContainer object of 10 artists>)"
     },
     "execution_count": 53,
     "metadata": {},
     "output_type": "execute_result"
    },
    {
     "data": {
      "text/plain": "<Figure size 432x288 with 1 Axes>",
      "image/png": "[encoded data removed]"
     },
     "metadata": {
      "needs_background": "light"
     },
     "output_type": "display_data"
    }
   ],
   "source": [
    "plt.hist([len(collection) for collection in d.correction_collection.values()])"
   ],
   "metadata": {
    "collapsed": false,
    "pycharm": {
     "name": "#%%\n"
    }
   }
  },
  {
   "cell_type": "code",
   "execution_count": 65,
   "outputs": [
    {
     "name": "stdout",
     "output_type": "stream",
     "text": [
      "Correction: 2:04 p.m.\n",
      "Correction confidence: 0.5977993326733696\n",
      "Alternative corrections and their confidence values: {'2:03 p.m.': 0.5819464005465732, '2:04 p.m.': 0.6619050429798664}\n",
      "Hint: The actual correction is included in the alternative corrections and the confidence value\n",
      "in the alternative corrections can be higher. This is because of baran prefering models trained with\n",
      "more examples. The alternative correction contains the maximum confidence for every repair value recorded\n",
      "over the cleaning process.\n"
     ]
    }
   ],
   "source": [
    "reload(analysis_utilities)\n",
    "\n",
    "from raha.analysis_utilities import alternative_corrections_overview\n",
    "\n",
    "alternative_corrections_overview(d, (14, 4))"
   ],
   "metadata": {
    "collapsed": false,
    "pycharm": {
     "name": "#%%\n"
    }
   }
  },
  {
   "cell_type": "code",
   "execution_count": 66,
   "outputs": [
    {
     "name": "stdout",
     "output_type": "stream",
     "text": [
      "Correction: 7:59 p.m.\n",
      "Correction confidence: 0.83029365006959\n",
      "Alternative corrections and their confidence values: {'7:58 p.m.': 0.6710175220915144, '7:59 p.m.': 0.8588688445647011}\n",
      "Hint: The actual correction is included in the alternative corrections and the confidence value\n",
      "in the alternative corrections can be higher. This is because of baran prefering models trained with\n",
      "more examples. The alternative correction contains the maximum confidence for every repair value recorded\n",
      "over the cleaning process.\n"
     ]
    }
   ],
   "source": [
    "alternative_corrections_overview(d, (55, 4))"
   ],
   "metadata": {
    "collapsed": false,
    "pycharm": {
     "name": "#%%\n"
    }
   }
  },
  {
   "cell_type": "code",
   "execution_count": 51,
   "outputs": [
    {
     "ename": "AttributeError",
     "evalue": "'Dataset' object has no attribute 'correction_prediction_dfs'",
     "output_type": "error",
     "traceback": [
      "\u001B[0;31m---------------------------------------------------------------------------\u001B[0m",
      "\u001B[0;31mAttributeError\u001B[0m                            Traceback (most recent call last)",
      "\u001B[0;32m<ipython-input-51-45e3a854c4b0>\u001B[0m in \u001B[0;36m<module>\u001B[0;34m\u001B[0m\n\u001B[0;32m----> 1\u001B[0;31m \u001B[0mdf\u001B[0m \u001B[0;34m=\u001B[0m \u001B[0md\u001B[0m\u001B[0;34m.\u001B[0m\u001B[0mcorrection_prediction_dfs\u001B[0m\u001B[0;34m[\u001B[0m\u001B[0;36m0\u001B[0m\u001B[0;34m]\u001B[0m\u001B[0;34m[\u001B[0m\u001B[0;36m5\u001B[0m\u001B[0;34m]\u001B[0m\u001B[0;34m\u001B[0m\u001B[0;34m\u001B[0m\u001B[0m\n\u001B[0m\u001B[1;32m      2\u001B[0m \u001B[0;34m\u001B[0m\u001B[0m\n",
      "\u001B[0;31mAttributeError\u001B[0m: 'Dataset' object has no attribute 'correction_prediction_dfs'"
     ]
    }
   ],
   "source": [
    "df = d.correction_prediction_dfs[0][5]"
   ],
   "metadata": {
    "collapsed": false,
    "pycharm": {
     "name": "#%%\n"
    }
   }
  },
  {
   "cell_type": "code",
   "execution_count": null,
   "outputs": [],
   "source": [
    "df[\"prediction\"].sum()"
   ],
   "metadata": {
    "collapsed": false,
    "pycharm": {
     "name": "#%%\n"
    }
   }
  },
  {
   "cell_type": "code",
   "execution_count": null,
   "outputs": [],
   "source": [
    "df[\"prediction\"].groupby(df[\"cell\"]).sum().sort_values()"
   ],
   "metadata": {
    "collapsed": false,
    "pycharm": {
     "name": "#%%\n"
    }
   }
  },
  {
   "cell_type": "code",
   "execution_count": null,
   "outputs": [],
   "source": [
    "df = df[df[\"prediction\"] == 1]"
   ],
   "metadata": {
    "collapsed": false,
    "pycharm": {
     "name": "#%%\n"
    }
   }
  },
  {
   "cell_type": "code",
   "execution_count": null,
   "outputs": [],
   "source": [
    "df[\"probability\"].hist(bins=np.linspace(0.5, 1.0, 21))"
   ],
   "metadata": {
    "collapsed": false,
    "pycharm": {
     "name": "#%%\n"
    }
   }
  },
  {
   "cell_type": "code",
   "execution_count": null,
   "outputs": [],
   "source": [
    "aggregated = df.groupby(\"cell\").agg({\"prediction\": \"sum\",\n",
    "                                     \"cell\": \"first\",\n",
    "                                     \"probability\": list,\n",
    "                                     \"correction\": list})\n",
    "aggregated = aggregated[aggregated[\"prediction\"] == 2]\n",
    "aggregated"
   ],
   "metadata": {
    "collapsed": false,
    "pycharm": {
     "name": "#%%\n"
    }
   }
  },
  {
   "cell_type": "code",
   "execution_count": null,
   "outputs": [],
   "source": [
    "# Compare correction and actual\n",
    "cell = (59,5)\n",
    "print(d.corrected_cells[cell])\n",
    "print(actual_errors[cell])"
   ],
   "metadata": {
    "collapsed": false,
    "pycharm": {
     "name": "#%%\n"
    }
   }
  },
  {
   "cell_type": "code",
   "execution_count": null,
   "outputs": [],
   "source": [
    "confidence_list = list(d.correction_confidences.items())\n",
    "is_correctly_detected = [cell_conf_tuple[0] in actual_errors for cell_conf_tuple in confidence_list]\n",
    "is_correctly_corrected = [cell_conf_tuple[0] in actual_errors and\n",
    "                          d.corrected_cells[cell_conf_tuple[0]] == actual_errors[cell_conf_tuple[0]]\n",
    "                          for cell_conf_tuple in confidence_list]\n",
    "correction_confidence_df = DataFrame({\"cell\": [item[0] for item in confidence_list],\n",
    "                                      \"confidence\": [item[1] for item in confidence_list],\n",
    "                                      \"detection_correct\": is_correctly_detected,\n",
    "                                      \"correct\": is_correctly_corrected})\n",
    "correction_confidence_df"
   ],
   "metadata": {
    "collapsed": false,
    "pycharm": {
     "name": "#%%\n"
    }
   }
  },
  {
   "cell_type": "code",
   "execution_count": null,
   "outputs": [],
   "source": [
    "correction_confidence_df[correction_confidence_df[\"detection_correct\"] & ~correction_confidence_df[\"correct\"]]"
   ],
   "metadata": {
    "collapsed": false,
    "pycharm": {
     "name": "#%%\n"
    }
   }
  },
  {
   "cell_type": "code",
   "execution_count": null,
   "outputs": [],
   "source": [
    "f = analysis_utilities.correction_correctness_by_confidence(correction_confidence_df)\n",
    "f.show()"
   ],
   "metadata": {
    "collapsed": false,
    "pycharm": {
     "name": "#%%\n"
    }
   }
  },
  {
   "cell_type": "code",
   "execution_count": null,
   "outputs": [],
   "source": [
    "d.correction_prediction_dfs[0][3][d.correction_prediction_dfs[0][3][\"prediction\"] == 1]"
   ],
   "metadata": {
    "collapsed": false,
    "pycharm": {
     "name": "#%%\n"
    }
   }
  },
  {
   "cell_type": "code",
   "execution_count": null,
   "outputs": [],
   "source": [
    "df = d.correction_prediction_dfs[15][3]\n",
    "df[\"probability\"].hist(bins=np.linspace(0.0, 1.0, 21))"
   ],
   "metadata": {
    "collapsed": false,
    "pycharm": {
     "name": "#%%\n"
    }
   }
  },
  {
   "cell_type": "code",
   "execution_count": null,
   "outputs": [],
   "source": [],
   "metadata": {
    "collapsed": false,
    "pycharm": {
     "name": "#%%\n"
    }
   }
  }
 ],
 "metadata": {
  "kernelspec": {
   "display_name": "Python 3",
   "language": "python",
   "name": "python3"
  },
  "language_info": {
   "codemirror_mode": {
    "name": "ipython",
    "version": 3
   },
   "file_extension": ".py",
   "mimetype": "text/x-python",
   "name": "python",
   "nbconvert_exporter": "python",
   "pygments_lexer": "ipython3",
   "version": "3.8.5"
  }
 },
 "nbformat": 4,
 "nbformat_minor": 2
}
{
 "cells": [
  {
   "cell_type": "markdown",
   "metadata": {},
   "source": [
    "# Flights example"
   ]
  },
  {
   "cell_type": "code",
   "execution_count": 1,
   "outputs": [],
   "source": [
    "import numpy as np\n",
    "import pandas\n",
    "from IPython.core.display import display\n",
    "\n",
    "import raha"
   ],
   "metadata": {
    "collapsed": false,
    "pycharm": {
     "name": "#%%\n"
    }
   }
  },
  {
   "cell_type": "markdown",
   "source": [
    "## Run error detection and repair 30 times\n",
    "\n",
    "We use ground truth to label 20 tuples in each run."
   ],
   "metadata": {
    "collapsed": false
   }
  },
  {
   "cell_type": "code",
   "execution_count": 2,
   "metadata": {
    "pycharm": {
     "name": "#%%\n"
    }
   },
   "outputs": [
    {
     "name": "stderr",
     "output_type": "stream",
     "text": [
      "I just load strategies' results as they have already been run on the dataset!\n"
     ]
    },
    {
     "name": "stdout",
     "output_type": "stream",
     "text": [
      "Run 0 done\n"
     ]
    },
    {
     "name": "stderr",
     "output_type": "stream",
     "text": [
      "I just load strategies' results as they have already been run on the dataset!\n"
     ]
    },
    {
     "name": "stdout",
     "output_type": "stream",
     "text": [
      "Run 1 done\n"
     ]
    },
    {
     "name": "stderr",
     "output_type": "stream",
     "text": [
      "I just load strategies' results as they have already been run on the dataset!\n"
     ]
    },
    {
     "name": "stdout",
     "output_type": "stream",
     "text": [
      "Run 2 done\n"
     ]
    },
    {
     "name": "stderr",
     "output_type": "stream",
     "text": [
      "I just load strategies' results as they have already been run on the dataset!\n"
     ]
    },
    {
     "name": "stdout",
     "output_type": "stream",
     "text": [
      "Run 3 done\n"
     ]
    },
    {
     "name": "stderr",
     "output_type": "stream",
     "text": [
      "I just load strategies' results as they have already been run on the dataset!\n"
     ]
    },
    {
     "name": "stdout",
     "output_type": "stream",
     "text": [
      "Run 4 done\n"
     ]
    },
    {
     "name": "stderr",
     "output_type": "stream",
     "text": [
      "I just load strategies' results as they have already been run on the dataset!\n"
     ]
    },
    {
     "name": "stdout",
     "output_type": "stream",
     "text": [
      "Run 5 done\n"
     ]
    },
    {
     "name": "stderr",
     "output_type": "stream",
     "text": [
      "I just load strategies' results as they have already been run on the dataset!\n"
     ]
    },
    {
     "name": "stdout",
     "output_type": "stream",
     "text": [
      "Run 6 done\n"
     ]
    },
    {
     "name": "stderr",
     "output_type": "stream",
     "text": [
      "I just load strategies' results as they have already been run on the dataset!\n"
     ]
    },
    {
     "name": "stdout",
     "output_type": "stream",
     "text": [
      "Run 7 done\n"
     ]
    },
    {
     "name": "stderr",
     "output_type": "stream",
     "text": [
      "I just load strategies' results as they have already been run on the dataset!\n"
     ]
    },
    {
     "name": "stdout",
     "output_type": "stream",
     "text": [
      "Run 8 done\n"
     ]
    },
    {
     "name": "stderr",
     "output_type": "stream",
     "text": [
      "I just load strategies' results as they have already been run on the dataset!\n"
     ]
    },
    {
     "name": "stdout",
     "output_type": "stream",
     "text": [
      "Run 9 done\n"
     ]
    },
    {
     "name": "stderr",
     "output_type": "stream",
     "text": [
      "I just load strategies' results as they have already been run on the dataset!\n"
     ]
    },
    {
     "name": "stdout",
     "output_type": "stream",
     "text": [
      "Run 10 done\n"
     ]
    },
    {
     "name": "stderr",
     "output_type": "stream",
     "text": [
      "I just load strategies' results as they have already been run on the dataset!\n"
     ]
    },
    {
     "name": "stdout",
     "output_type": "stream",
     "text": [
      "Run 11 done\n"
     ]
    },
    {
     "name": "stderr",
     "output_type": "stream",
     "text": [
      "I just load strategies' results as they have already been run on the dataset!\n"
     ]
    },
    {
     "name": "stdout",
     "output_type": "stream",
     "text": [
      "Run 12 done\n"
     ]
    },
    {
     "name": "stderr",
     "output_type": "stream",
     "text": [
      "I just load strategies' results as they have already been run on the dataset!\n"
     ]
    },
    {
     "name": "stdout",
     "output_type": "stream",
     "text": [
      "Run 13 done\n"
     ]
    },
    {
     "name": "stderr",
     "output_type": "stream",
     "text": [
      "I just load strategies' results as they have already been run on the dataset!\n"
     ]
    },
    {
     "name": "stdout",
     "output_type": "stream",
     "text": [
      "Run 14 done\n"
     ]
    },
    {
     "name": "stderr",
     "output_type": "stream",
     "text": [
      "I just load strategies' results as they have already been run on the dataset!\n"
     ]
    },
    {
     "name": "stdout",
     "output_type": "stream",
     "text": [
      "Run 15 done\n"
     ]
    },
    {
     "name": "stderr",
     "output_type": "stream",
     "text": [
      "I just load strategies' results as they have already been run on the dataset!\n"
     ]
    },
    {
     "name": "stdout",
     "output_type": "stream",
     "text": [
      "Run 16 done\n"
     ]
    },
    {
     "name": "stderr",
     "output_type": "stream",
     "text": [
      "I just load strategies' results as they have already been run on the dataset!\n"
     ]
    },
    {
     "name": "stdout",
     "output_type": "stream",
     "text": [
      "Run 17 done\n"
     ]
    },
    {
     "name": "stderr",
     "output_type": "stream",
     "text": [
      "I just load strategies' results as they have already been run on the dataset!\n"
     ]
    },
    {
     "name": "stdout",
     "output_type": "stream",
     "text": [
      "Run 18 done\n"
     ]
    },
    {
     "name": "stderr",
     "output_type": "stream",
     "text": [
      "I just load strategies' results as they have already been run on the dataset!\n"
     ]
    },
    {
     "name": "stdout",
     "output_type": "stream",
     "text": [
      "Run 19 done\n"
     ]
    },
    {
     "name": "stderr",
     "output_type": "stream",
     "text": [
      "I just load strategies' results as they have already been run on the dataset!\n"
     ]
    },
    {
     "name": "stdout",
     "output_type": "stream",
     "text": [
      "Run 20 done\n"
     ]
    },
    {
     "name": "stderr",
     "output_type": "stream",
     "text": [
      "I just load strategies' results as they have already been run on the dataset!\n"
     ]
    },
    {
     "name": "stdout",
     "output_type": "stream",
     "text": [
      "Run 21 done\n"
     ]
    },
    {
     "name": "stderr",
     "output_type": "stream",
     "text": [
      "I just load strategies' results as they have already been run on the dataset!\n"
     ]
    },
    {
     "name": "stdout",
     "output_type": "stream",
     "text": [
      "Run 22 done\n"
     ]
    },
    {
     "name": "stderr",
     "output_type": "stream",
     "text": [
      "I just load strategies' results as they have already been run on the dataset!\n"
     ]
    },
    {
     "name": "stdout",
     "output_type": "stream",
     "text": [
      "Run 23 done\n"
     ]
    },
    {
     "name": "stderr",
     "output_type": "stream",
     "text": [
      "I just load strategies' results as they have already been run on the dataset!\n"
     ]
    },
    {
     "name": "stdout",
     "output_type": "stream",
     "text": [
      "Run 24 done\n"
     ]
    },
    {
     "name": "stderr",
     "output_type": "stream",
     "text": [
      "I just load strategies' results as they have already been run on the dataset!\n"
     ]
    },
    {
     "name": "stdout",
     "output_type": "stream",
     "text": [
      "Run 25 done\n"
     ]
    },
    {
     "name": "stderr",
     "output_type": "stream",
     "text": [
      "I just load strategies' results as they have already been run on the dataset!\n"
     ]
    },
    {
     "name": "stdout",
     "output_type": "stream",
     "text": [
      "Run 26 done\n"
     ]
    },
    {
     "name": "stderr",
     "output_type": "stream",
     "text": [
      "I just load strategies' results as they have already been run on the dataset!\n"
     ]
    },
    {
     "name": "stdout",
     "output_type": "stream",
     "text": [
      "Run 27 done\n"
     ]
    },
    {
     "name": "stderr",
     "output_type": "stream",
     "text": [
      "I just load strategies' results as they have already been run on the dataset!\n"
     ]
    },
    {
     "name": "stdout",
     "output_type": "stream",
     "text": [
      "Run 28 done\n"
     ]
    },
    {
     "name": "stderr",
     "output_type": "stream",
     "text": [
      "I just load strategies' results as they have already been run on the dataset!\n"
     ]
    },
    {
     "name": "stdout",
     "output_type": "stream",
     "text": [
      "Run 29 done\n"
     ]
    }
   ],
   "source": [
    "datasets = []\n",
    "\n",
    "for i in range(30):\n",
    "    from raha import analysis_utilities\n",
    "    app_1 = raha.Detection()\n",
    "    app_2 = raha.Correction()\n",
    "\n",
    "    # How many tuples would you label?\n",
    "    app_1.LABELING_BUDGET = 20\n",
    "    app_2.LABELING_BUDGET = 0\n",
    "\n",
    "    # Would you like to see the logs?\n",
    "    app_1.VERBOSE = False\n",
    "    app_2.VERBOSE = False\n",
    "\n",
    "    dataset_dictionary = {\n",
    "        \"name\": \"flights\",\n",
    "        \"path\": \"datasets/flights/dirty.csv\",\n",
    "        \"clean_path\": \"datasets/flights/clean.csv\"\n",
    "    }\n",
    "    d = app_1.initialize_dataset(dataset_dictionary)\n",
    "\n",
    "    app_1.run_strategies(d)\n",
    "    app_1.generate_features(d)\n",
    "    app_1.build_clusters(d)\n",
    "\n",
    "    while len(d.labeled_tuples) < app_1.LABELING_BUDGET:\n",
    "        app_1.sample_tuple(d)\n",
    "        if d.has_ground_truth:\n",
    "            app_1.label_with_ground_truth(d)\n",
    "\n",
    "    app_1.propagate_labels(d)\n",
    "    app_1.predict_labels(d)\n",
    "\n",
    "    app_2.initialize_models(d)\n",
    "    app_2.initialize_dataset(d)\n",
    "    for si in d.labeled_tuples:\n",
    "        d.sampled_tuple = si\n",
    "        app_2.update_models(d)\n",
    "        app_2.generate_features(d)\n",
    "        app_2.predict_corrections(d)\n",
    "\n",
    "    print(f\"Run {i} done\")\n",
    "\n",
    "    datasets.append(d)"
   ]
  },
  {
   "cell_type": "markdown",
   "source": [
    "## Evaluation"
   ],
   "metadata": {
    "collapsed": false,
    "pycharm": {
     "name": "#%% md\n"
    }
   }
  },
  {
   "cell_type": "code",
   "execution_count": 3,
   "metadata": {
    "scrolled": true
   },
   "outputs": [
    {
     "name": "stderr",
     "output_type": "stream",
     "text": [
      "/home/adrian/source/MA/raha/raha/dataset.py:123: FutureWarning: elementwise comparison failed; returning scalar instead, but in the future will perform elementwise comparison\n",
      "  if correction_dictionary[cell] == actual_errors[cell]:\n"
     ]
    },
    {
     "data": {
      "text/plain": "                        Task  Precision    Recall  F1 Score\n0     Error Detection (Raha)   0.766289  0.908333  0.831287\n1   Error Correction (Baran)   0.639432  0.512195  0.568785\n2     Error Detection (Raha)   0.831194  0.881707  0.855706\n3   Error Correction (Baran)   0.733747  0.552846  0.630578\n4     Error Detection (Raha)   0.785315  0.884756  0.832075\n5   Error Correction (Baran)   0.812541  0.505691  0.623403\n6     Error Detection (Raha)   0.879736  0.703252  0.781656\n7   Error Correction (Baran)   0.811678  0.539634  0.648272\n8     Error Detection (Raha)   0.914200  0.740650  0.818325\n9   Error Correction (Baran)   0.820193  0.534959  0.647558\n10    Error Detection (Raha)   0.929471  0.825000  0.874125\n11  Error Correction (Baran)   0.891446  0.637602  0.743453\n12    Error Detection (Raha)   0.841816  0.840447  0.841131\n13  Error Correction (Baran)   0.835510  0.546138  0.660521\n14    Error Detection (Raha)   0.793435  0.923577  0.853574\n15  Error Correction (Baran)   0.863948  0.512398  0.643276\n16    Error Detection (Raha)   0.755079  0.830894  0.791175\n17  Error Correction (Baran)   0.797619  0.476626  0.596692\n18    Error Detection (Raha)   0.880612  0.877033  0.878819\n19  Error Correction (Baran)   0.828806  0.595325  0.692926\n20    Error Detection (Raha)   0.846566  0.834350  0.840414\n21  Error Correction (Baran)   0.817066  0.541057  0.651015\n22    Error Detection (Raha)   0.848684  0.812805  0.830357\n23  Error Correction (Baran)   0.741035  0.550203  0.631518\n24    Error Detection (Raha)   0.896029  0.816260  0.854286\n25  Error Correction (Baran)   0.848573  0.592276  0.697630\n26    Error Detection (Raha)   0.824306  0.863008  0.843213\n27  Error Correction (Baran)   0.712263  0.541870  0.615491\n28    Error Detection (Raha)   0.924764  0.796951  0.856114\n29  Error Correction (Baran)   0.857062  0.615447  0.716432\n30    Error Detection (Raha)   0.883895  0.815447  0.848293\n31  Error Correction (Baran)   0.761354  0.575813  0.655711\n32    Error Detection (Raha)   0.895120  0.749390  0.815798\n33  Error Correction (Baran)   0.840760  0.521545  0.643753\n34    Error Detection (Raha)   0.782912  0.912602  0.842797\n35  Error Correction (Baran)   0.741462  0.533943  0.620820\n36    Error Detection (Raha)   0.866016  0.847358  0.856585\n37  Error Correction (Baran)   0.855229  0.531911  0.655890\n38    Error Detection (Raha)   0.769696  0.905488  0.832088\n39  Error Correction (Baran)   0.744498  0.529472  0.618838\n40    Error Detection (Raha)   0.932334  0.784146  0.851844\n41  Error Correction (Baran)   0.815595  0.582520  0.679630\n42    Error Detection (Raha)   0.903009  0.683130  0.777829\n43  Error Correction (Baran)   0.818241  0.514228  0.631553\n44    Error Detection (Raha)   0.817695  0.899797  0.856783\n45  Error Correction (Baran)   0.836957  0.563415  0.673469\n46    Error Detection (Raha)   0.847314  0.810976  0.828746\n47  Error Correction (Baran)   0.785259  0.576016  0.664556\n48    Error Detection (Raha)   0.880621  0.796138  0.836251\n49  Error Correction (Baran)   0.829099  0.510772  0.632122\n50    Error Detection (Raha)   0.844779  0.787602  0.815189\n51  Error Correction (Baran)   0.804802  0.524593  0.635167\n52    Error Detection (Raha)   0.910137  0.755488  0.825633\n53  Error Correction (Baran)   0.846302  0.534959  0.655542\n54    Error Detection (Raha)   0.824022  0.899390  0.860058\n55  Error Correction (Baran)   0.835238  0.564634  0.673781\n56    Error Detection (Raha)   0.818437  0.828252  0.823315\n57  Error Correction (Baran)   0.782079  0.509146  0.616767\n58    Error Detection (Raha)   0.803694  0.902033  0.850029\n59  Error Correction (Baran)   0.756655  0.531504  0.624403",
      "text/html": "<div>\n<style scoped>\n    .dataframe tbody tr th:only-of-type {\n        vertical-align: middle;\n    }\n\n    .dataframe tbody tr th {\n        vertical-align: top;\n    }\n\n    .dataframe thead th {\n        text-align: right;\n    }\n</style>\n<table border=\"1\" class=\"dataframe\">\n  <thead>\n    <tr style=\"text-align: right;\">\n      <th></th>\n      <th>Task</th>\n      <th>Precision</th>\n      <th>Recall</th>\n      <th>F1 Score</th>\n    </tr>\n  </thead>\n  <tbody>\n    <tr>\n      <th>0</th>\n      <td>Error Detection (Raha)</td>\n      <td>0.766289</td>\n      <td>0.908333</td>\n      <td>0.831287</td>\n    </tr>\n    <tr>\n      <th>1</th>\n      <td>Error Correction (Baran)</td>\n      <td>0.639432</td>\n      <td>0.512195</td>\n      <td>0.568785</td>\n    </tr>\n    <tr>\n      <th>2</th>\n      <td>Error Detection (Raha)</td>\n      <td>0.831194</td>\n      <td>0.881707</td>\n      <td>0.855706</td>\n    </tr>\n    <tr>\n      <th>3</th>\n      <td>Error Correction (Baran)</td>\n      <td>0.733747</td>\n      <td>0.552846</td>\n      <td>0.630578</td>\n    </tr>\n    <tr>\n      <th>4</th>\n      <td>Error Detection (Raha)</td>\n      <td>0.785315</td>\n      <td>0.884756</td>\n      <td>0.832075</td>\n    </tr>\n    <tr>\n      <th>5</th>\n      <td>Error Correction (Baran)</td>\n      <td>0.812541</td>\n      <td>0.505691</td>\n      <td>0.623403</td>\n    </tr>\n    <tr>\n      <th>6</th>\n      <td>Error Detection (Raha)</td>\n      <td>0.879736</td>\n      <td>0.703252</td>\n      <td>0.781656</td>\n    </tr>\n    <tr>\n      <th>7</th>\n      <td>Error Correction (Baran)</td>\n      <td>0.811678</td>\n      <td>0.539634</td>\n      <td>0.648272</td>\n    </tr>\n    <tr>\n      <th>8</th>\n      <td>Error Detection (Raha)</td>\n      <td>0.914200</td>\n      <td>0.740650</td>\n      <td>0.818325</td>\n    </tr>\n    <tr>\n      <th>9</th>\n      <td>Error Correction (Baran)</td>\n      <td>0.820193</td>\n      <td>0.534959</td>\n      <td>0.647558</td>\n    </tr>\n    <tr>\n      <th>10</th>\n      <td>Error Detection (Raha)</td>\n      <td>0.929471</td>\n      <td>0.825000</td>\n      <td>0.874125</td>\n    </tr>\n    <tr>\n      <th>11</th>\n      <td>Error Correction (Baran)</td>\n      <td>0.891446</td>\n      <td>0.637602</td>\n      <td>0.743453</td>\n    </tr>\n    <tr>\n      <th>12</th>\n      <td>Error Detection (Raha)</td>\n      <td>0.841816</td>\n      <td>0.840447</td>\n      <td>0.841131</td>\n    </tr>\n    <tr>\n      <th>13</th>\n      <td>Error Correction (Baran)</td>\n      <td>0.835510</td>\n      <td>0.546138</td>\n      <td>0.660521</td>\n    </tr>\n    <tr>\n      <th>14</th>\n      <td>Error Detection (Raha)</td>\n      <td>0.793435</td>\n      <td>0.923577</td>\n      <td>0.853574</td>\n    </tr>\n    <tr>\n      <th>15</th>\n      <td>Error Correction (Baran)</td>\n      <td>0.863948</td>\n      <td>0.512398</td>\n      <td>0.643276</td>\n    </tr>\n    <tr>\n      <th>16</th>\n      <td>Error Detection (Raha)</td>\n      <td>0.755079</td>\n      <td>0.830894</td>\n      <td>0.791175</td>\n    </tr>\n    <tr>\n      <th>17</th>\n      <td>Error Correction (Baran)</td>\n      <td>0.797619</td>\n      <td>0.476626</td>\n      <td>0.596692</td>\n    </tr>\n    <tr>\n      <th>18</th>\n      <td>Error Detection (Raha)</td>\n      <td>0.880612</td>\n      <td>0.877033</td>\n      <td>0.878819</td>\n    </tr>\n    <tr>\n      <th>19</th>\n      <td>Error Correction (Baran)</td>\n      <td>0.828806</td>\n      <td>0.595325</td>\n      <td>0.692926</td>\n    </tr>\n    <tr>\n      <th>20</th>\n      <td>Error Detection (Raha)</td>\n      <td>0.846566</td>\n      <td>0.834350</td>\n      <td>0.840414</td>\n    </tr>\n    <tr>\n      <th>21</th>\n      <td>Error Correction (Baran)</td>\n      <td>0.817066</td>\n      <td>0.541057</td>\n      <td>0.651015</td>\n    </tr>\n    <tr>\n      <th>22</th>\n      <td>Error Detection (Raha)</td>\n      <td>0.848684</td>\n      <td>0.812805</td>\n      <td>0.830357</td>\n    </tr>\n    <tr>\n      <th>23</th>\n      <td>Error Correction (Baran)</td>\n      <td>0.741035</td>\n      <td>0.550203</td>\n      <td>0.631518</td>\n    </tr>\n    <tr>\n      <th>24</th>\n      <td>Error Detection (Raha)</td>\n      <td>0.896029</td>\n      <td>0.816260</td>\n      <td>0.854286</td>\n    </tr>\n    <tr>\n      <th>25</th>\n      <td>Error Correction (Baran)</td>\n      <td>0.848573</td>\n      <td>0.592276</td>\n      <td>0.697630</td>\n    </tr>\n    <tr>\n      <th>26</th>\n      <td>Error Detection (Raha)</td>\n      <td>0.824306</td>\n      <td>0.863008</td>\n      <td>0.843213</td>\n    </tr>\n    <tr>\n      <th>27</th>\n      <td>Error Correction (Baran)</td>\n      <td>0.712263</td>\n      <td>0.541870</td>\n      <td>0.615491</td>\n    </tr>\n    <tr>\n      <th>28</th>\n      <td>Error Detection (Raha)</td>\n      <td>0.924764</td>\n      <td>0.796951</td>\n      <td>0.856114</td>\n    </tr>\n    <tr>\n      <th>29</th>\n      <td>Error Correction (Baran)</td>\n      <td>0.857062</td>\n      <td>0.615447</td>\n      <td>0.716432</td>\n    </tr>\n    <tr>\n      <th>30</th>\n      <td>Error Detection (Raha)</td>\n      <td>0.883895</td>\n      <td>0.815447</td>\n      <td>0.848293</td>\n    </tr>\n    <tr>\n      <th>31</th>\n      <td>Error Correction (Baran)</td>\n      <td>0.761354</td>\n      <td>0.575813</td>\n      <td>0.655711</td>\n    </tr>\n    <tr>\n      <th>32</th>\n      <td>Error Detection (Raha)</td>\n      <td>0.895120</td>\n      <td>0.749390</td>\n      <td>0.815798</td>\n    </tr>\n    <tr>\n      <th>33</th>\n      <td>Error Correction (Baran)</td>\n      <td>0.840760</td>\n      <td>0.521545</td>\n      <td>0.643753</td>\n    </tr>\n    <tr>\n      <th>34</th>\n      <td>Error Detection (Raha)</td>\n      <td>0.782912</td>\n      <td>0.912602</td>\n      <td>0.842797</td>\n    </tr>\n    <tr>\n      <th>35</th>\n      <td>Error Correction (Baran)</td>\n      <td>0.741462</td>\n      <td>0.533943</td>\n      <td>0.620820</td>\n    </tr>\n    <tr>\n      <th>36</th>\n      <td>Error Detection (Raha)</td>\n      <td>0.866016</td>\n      <td>0.847358</td>\n      <td>0.856585</td>\n    </tr>\n    <tr>\n      <th>37</th>\n      <td>Error Correction (Baran)</td>\n      <td>0.855229</td>\n      <td>0.531911</td>\n      <td>0.655890</td>\n    </tr>\n    <tr>\n      <th>38</th>\n      <td>Error Detection (Raha)</td>\n      <td>0.769696</td>\n      <td>0.905488</td>\n      <td>0.832088</td>\n    </tr>\n    <tr>\n      <th>39</th>\n      <td>Error Correction (Baran)</td>\n      <td>0.744498</td>\n      <td>0.529472</td>\n      <td>0.618838</td>\n    </tr>\n    <tr>\n      <th>40</th>\n      <td>Error Detection (Raha)</td>\n      <td>0.932334</td>\n      <td>0.784146</td>\n      <td>0.851844</td>\n    </tr>\n    <tr>\n      <th>41</th>\n      <td>Error Correction (Baran)</td>\n      <td>0.815595</td>\n      <td>0.582520</td>\n      <td>0.679630</td>\n    </tr>\n    <tr>\n      <th>42</th>\n      <td>Error Detection (Raha)</td>\n      <td>0.903009</td>\n      <td>0.683130</td>\n      <td>0.777829</td>\n    </tr>\n    <tr>\n      <th>43</th>\n      <td>Error Correction (Baran)</td>\n      <td>0.818241</td>\n      <td>0.514228</td>\n      <td>0.631553</td>\n    </tr>\n    <tr>\n      <th>44</th>\n      <td>Error Detection (Raha)</td>\n      <td>0.817695</td>\n      <td>0.899797</td>\n      <td>0.856783</td>\n    </tr>\n    <tr>\n      <th>45</th>\n      <td>Error Correction (Baran)</td>\n      <td>0.836957</td>\n      <td>0.563415</td>\n      <td>0.673469</td>\n    </tr>\n    <tr>\n      <th>46</th>\n      <td>Error Detection (Raha)</td>\n      <td>0.847314</td>\n      <td>0.810976</td>\n      <td>0.828746</td>\n    </tr>\n    <tr>\n      <th>47</th>\n      <td>Error Correction (Baran)</td>\n      <td>0.785259</td>\n      <td>0.576016</td>\n      <td>0.664556</td>\n    </tr>\n    <tr>\n      <th>48</th>\n      <td>Error Detection (Raha)</td>\n      <td>0.880621</td>\n      <td>0.796138</td>\n      <td>0.836251</td>\n    </tr>\n    <tr>\n      <th>49</th>\n      <td>Error Correction (Baran)</td>\n      <td>0.829099</td>\n      <td>0.510772</td>\n      <td>0.632122</td>\n    </tr>\n    <tr>\n      <th>50</th>\n      <td>Error Detection (Raha)</td>\n      <td>0.844779</td>\n      <td>0.787602</td>\n      <td>0.815189</td>\n    </tr>\n    <tr>\n      <th>51</th>\n      <td>Error Correction (Baran)</td>\n      <td>0.804802</td>\n      <td>0.524593</td>\n      <td>0.635167</td>\n    </tr>\n    <tr>\n      <th>52</th>\n      <td>Error Detection (Raha)</td>\n      <td>0.910137</td>\n      <td>0.755488</td>\n      <td>0.825633</td>\n    </tr>\n    <tr>\n      <th>53</th>\n      <td>Error Correction (Baran)</td>\n      <td>0.846302</td>\n      <td>0.534959</td>\n      <td>0.655542</td>\n    </tr>\n    <tr>\n      <th>54</th>\n      <td>Error Detection (Raha)</td>\n      <td>0.824022</td>\n      <td>0.899390</td>\n      <td>0.860058</td>\n    </tr>\n    <tr>\n      <th>55</th>\n      <td>Error Correction (Baran)</td>\n      <td>0.835238</td>\n      <td>0.564634</td>\n      <td>0.673781</td>\n    </tr>\n    <tr>\n      <th>56</th>\n      <td>Error Detection (Raha)</td>\n      <td>0.818437</td>\n      <td>0.828252</td>\n      <td>0.823315</td>\n    </tr>\n    <tr>\n      <th>57</th>\n      <td>Error Correction (Baran)</td>\n      <td>0.782079</td>\n      <td>0.509146</td>\n      <td>0.616767</td>\n    </tr>\n    <tr>\n      <th>58</th>\n      <td>Error Detection (Raha)</td>\n      <td>0.803694</td>\n      <td>0.902033</td>\n      <td>0.850029</td>\n    </tr>\n    <tr>\n      <th>59</th>\n      <td>Error Correction (Baran)</td>\n      <td>0.756655</td>\n      <td>0.531504</td>\n      <td>0.624403</td>\n    </tr>\n  </tbody>\n</table>\n</div>"
     },
     "metadata": {},
     "output_type": "display_data"
    },
    {
     "data": {
      "text/plain": "                         Precision                                  Recall  \\\n                              mean       std       min       max      mean   \nTask                                                                         \nError Correction (Baran)  0.802148  0.053720  0.639432  0.891446  0.545291   \nError Detection (Raha)    0.849906  0.051825  0.755079  0.932334  0.830542   \n\n                                                        F1 Score            \\\n                               std       min       max      mean       std   \nTask                                                                         \nError Correction (Baran)  0.035301  0.476626  0.637602  0.648318  0.035331   \nError Detection (Raha)    0.063403  0.683130  0.923577  0.836783  0.024060   \n\n                                              \n                               min       max  \nTask                                          \nError Correction (Baran)  0.568785  0.743453  \nError Detection (Raha)    0.777829  0.878819  ",
      "text/html": "<div>\n<style scoped>\n    .dataframe tbody tr th:only-of-type {\n        vertical-align: middle;\n    }\n\n    .dataframe tbody tr th {\n        vertical-align: top;\n    }\n\n    .dataframe thead tr th {\n        text-align: left;\n    }\n\n    .dataframe thead tr:last-of-type th {\n        text-align: right;\n    }\n</style>\n<table border=\"1\" class=\"dataframe\">\n  <thead>\n    <tr>\n      <th></th>\n      <th colspan=\"4\" halign=\"left\">Precision</th>\n      <th colspan=\"4\" halign=\"left\">Recall</th>\n      <th colspan=\"4\" halign=\"left\">F1 Score</th>\n    </tr>\n    <tr>\n      <th></th>\n      <th>mean</th>\n      <th>std</th>\n      <th>min</th>\n      <th>max</th>\n      <th>mean</th>\n      <th>std</th>\n      <th>min</th>\n      <th>max</th>\n      <th>mean</th>\n      <th>std</th>\n      <th>min</th>\n      <th>max</th>\n    </tr>\n    <tr>\n      <th>Task</th>\n      <th></th>\n      <th></th>\n      <th></th>\n      <th></th>\n      <th></th>\n      <th></th>\n      <th></th>\n      <th></th>\n      <th></th>\n      <th></th>\n      <th></th>\n      <th></th>\n    </tr>\n  </thead>\n  <tbody>\n    <tr>\n      <th>Error Correction (Baran)</th>\n      <td>0.802148</td>\n      <td>0.053720</td>\n      <td>0.639432</td>\n      <td>0.891446</td>\n      <td>0.545291</td>\n      <td>0.035301</td>\n      <td>0.476626</td>\n      <td>0.637602</td>\n      <td>0.648318</td>\n      <td>0.035331</td>\n      <td>0.568785</td>\n      <td>0.743453</td>\n    </tr>\n    <tr>\n      <th>Error Detection (Raha)</th>\n      <td>0.849906</td>\n      <td>0.051825</td>\n      <td>0.755079</td>\n      <td>0.932334</td>\n      <td>0.830542</td>\n      <td>0.063403</td>\n      <td>0.683130</td>\n      <td>0.923577</td>\n      <td>0.836783</td>\n      <td>0.024060</td>\n      <td>0.777829</td>\n      <td>0.878819</td>\n    </tr>\n  </tbody>\n</table>\n</div>"
     },
     "execution_count": 3,
     "metadata": {},
     "output_type": "execute_result"
    }
   ],
   "source": [
    "evaluation_df = pandas.DataFrame(columns=[\"Task\", \"Precision\", \"Recall\", \"F1 Score\"])\n",
    "\n",
    "for d in datasets:\n",
    "    edp, edr, edf = d.get_data_cleaning_evaluation(d.detected_cells)[:3]\n",
    "    ecp, ecr, ecf = d.get_data_cleaning_evaluation(d.corrected_cells)[-3:]\n",
    "\n",
    "    evaluation_df = evaluation_df.append({\"Task\": \"Error Detection (Raha)\", \"Precision\": edp,\n",
    "                                          \"Recall\": edr, \"F1 Score\": edf}, ignore_index=True)\n",
    "    evaluation_df = evaluation_df.append({\"Task\": \"Error Correction (Baran)\", \"Precision\": ecp,\n",
    "                                          \"Recall\": ecr, \"F1 Score\": ecf}, ignore_index=True)\n",
    "display(evaluation_df)\n",
    "\n",
    "evaluation_df.groupby(\"Task\").agg([\"mean\", \"std\", \"min\", \"max\"])"
   ]
  },
  {
   "cell_type": "markdown",
   "source": [
    "## Analyze the alternative repairs"
   ],
   "metadata": {
    "collapsed": false
   }
  },
  {
   "cell_type": "code",
   "execution_count": 4,
   "outputs": [
    {
     "data": {
      "text/plain": "         1      2     3    4\n0   3631.0  247.0   9.0  0.0\n1   3368.0  267.0  24.0  0.0\n2   3001.0   11.0   0.0  0.0\n3   2820.0  391.0  13.0  3.0\n4   2856.0  259.0  48.0  6.0\n5   3363.0  110.0   0.0  0.0\n6   2943.0  227.0   0.0  0.0\n7   2755.0  111.0   0.0  0.0\n8   2804.0   80.0   7.0  0.0\n9   3214.0  268.0   4.0  0.0\n10  2949.0  222.0  41.0  2.0\n11  3318.0  258.0  26.0  0.0\n12  3371.0   22.0   0.0  0.0\n13  3257.0  419.0  27.0  0.0\n14  3345.0  124.0  22.0  0.0\n15  3432.0  225.0   7.0  7.0\n16  2899.0  110.0   0.0  0.0\n17  3392.0   86.0  16.0  0.0\n18  2906.0   95.0   0.0  7.0\n19  3394.0   58.0   0.0  0.0\n20  3199.0  221.0  49.0  4.0\n21  2907.0  136.0   6.0  0.0\n22  3169.0   94.0   0.0  0.0\n23  3363.0  195.0  10.0  0.0\n24  2867.0  122.0   1.0  0.0\n25  3099.0   63.0   0.0  0.0\n26  2859.0  197.0   0.0  0.0\n27  3072.0  206.0   1.0  0.0\n28  3040.0  115.0   6.0  0.0\n29  3096.0  285.0  23.0  0.0",
      "text/html": "<div>\n<style scoped>\n    .dataframe tbody tr th:only-of-type {\n        vertical-align: middle;\n    }\n\n    .dataframe tbody tr th {\n        vertical-align: top;\n    }\n\n    .dataframe thead th {\n        text-align: right;\n    }\n</style>\n<table border=\"1\" class=\"dataframe\">\n  <thead>\n    <tr style=\"text-align: right;\">\n      <th></th>\n      <th>1</th>\n      <th>2</th>\n      <th>3</th>\n      <th>4</th>\n    </tr>\n  </thead>\n  <tbody>\n    <tr>\n      <th>0</th>\n      <td>3631.0</td>\n      <td>247.0</td>\n      <td>9.0</td>\n      <td>0.0</td>\n    </tr>\n    <tr>\n      <th>1</th>\n      <td>3368.0</td>\n      <td>267.0</td>\n      <td>24.0</td>\n      <td>0.0</td>\n    </tr>\n    <tr>\n      <th>2</th>\n      <td>3001.0</td>\n      <td>11.0</td>\n      <td>0.0</td>\n      <td>0.0</td>\n    </tr>\n    <tr>\n      <th>3</th>\n      <td>2820.0</td>\n      <td>391.0</td>\n      <td>13.0</td>\n      <td>3.0</td>\n    </tr>\n    <tr>\n      <th>4</th>\n      <td>2856.0</td>\n      <td>259.0</td>\n      <td>48.0</td>\n      <td>6.0</td>\n    </tr>\n    <tr>\n      <th>5</th>\n      <td>3363.0</td>\n      <td>110.0</td>\n      <td>0.0</td>\n      <td>0.0</td>\n    </tr>\n    <tr>\n      <th>6</th>\n      <td>2943.0</td>\n      <td>227.0</td>\n      <td>0.0</td>\n      <td>0.0</td>\n    </tr>\n    <tr>\n      <th>7</th>\n      <td>2755.0</td>\n      <td>111.0</td>\n      <td>0.0</td>\n      <td>0.0</td>\n    </tr>\n    <tr>\n      <th>8</th>\n      <td>2804.0</td>\n      <td>80.0</td>\n      <td>7.0</td>\n      <td>0.0</td>\n    </tr>\n    <tr>\n      <th>9</th>\n      <td>3214.0</td>\n      <td>268.0</td>\n      <td>4.0</td>\n      <td>0.0</td>\n    </tr>\n    <tr>\n      <th>10</th>\n      <td>2949.0</td>\n      <td>222.0</td>\n      <td>41.0</td>\n      <td>2.0</td>\n    </tr>\n    <tr>\n      <th>11</th>\n      <td>3318.0</td>\n      <td>258.0</td>\n      <td>26.0</td>\n      <td>0.0</td>\n    </tr>\n    <tr>\n      <th>12</th>\n      <td>3371.0</td>\n      <td>22.0</td>\n      <td>0.0</td>\n      <td>0.0</td>\n    </tr>\n    <tr>\n      <th>13</th>\n      <td>3257.0</td>\n      <td>419.0</td>\n      <td>27.0</td>\n      <td>0.0</td>\n    </tr>\n    <tr>\n      <th>14</th>\n      <td>3345.0</td>\n      <td>124.0</td>\n      <td>22.0</td>\n      <td>0.0</td>\n    </tr>\n    <tr>\n      <th>15</th>\n      <td>3432.0</td>\n      <td>225.0</td>\n      <td>7.0</td>\n      <td>7.0</td>\n    </tr>\n    <tr>\n      <th>16</th>\n      <td>2899.0</td>\n      <td>110.0</td>\n      <td>0.0</td>\n      <td>0.0</td>\n    </tr>\n    <tr>\n      <th>17</th>\n      <td>3392.0</td>\n      <td>86.0</td>\n      <td>16.0</td>\n      <td>0.0</td>\n    </tr>\n    <tr>\n      <th>18</th>\n      <td>2906.0</td>\n      <td>95.0</td>\n      <td>0.0</td>\n      <td>7.0</td>\n    </tr>\n    <tr>\n      <th>19</th>\n      <td>3394.0</td>\n      <td>58.0</td>\n      <td>0.0</td>\n      <td>0.0</td>\n    </tr>\n    <tr>\n      <th>20</th>\n      <td>3199.0</td>\n      <td>221.0</td>\n      <td>49.0</td>\n      <td>4.0</td>\n    </tr>\n    <tr>\n      <th>21</th>\n      <td>2907.0</td>\n      <td>136.0</td>\n      <td>6.0</td>\n      <td>0.0</td>\n    </tr>\n    <tr>\n      <th>22</th>\n      <td>3169.0</td>\n      <td>94.0</td>\n      <td>0.0</td>\n      <td>0.0</td>\n    </tr>\n    <tr>\n      <th>23</th>\n      <td>3363.0</td>\n      <td>195.0</td>\n      <td>10.0</td>\n      <td>0.0</td>\n    </tr>\n    <tr>\n      <th>24</th>\n      <td>2867.0</td>\n      <td>122.0</td>\n      <td>1.0</td>\n      <td>0.0</td>\n    </tr>\n    <tr>\n      <th>25</th>\n      <td>3099.0</td>\n      <td>63.0</td>\n      <td>0.0</td>\n      <td>0.0</td>\n    </tr>\n    <tr>\n      <th>26</th>\n      <td>2859.0</td>\n      <td>197.0</td>\n      <td>0.0</td>\n      <td>0.0</td>\n    </tr>\n    <tr>\n      <th>27</th>\n      <td>3072.0</td>\n      <td>206.0</td>\n      <td>1.0</td>\n      <td>0.0</td>\n    </tr>\n    <tr>\n      <th>28</th>\n      <td>3040.0</td>\n      <td>115.0</td>\n      <td>6.0</td>\n      <td>0.0</td>\n    </tr>\n    <tr>\n      <th>29</th>\n      <td>3096.0</td>\n      <td>285.0</td>\n      <td>23.0</td>\n      <td>0.0</td>\n    </tr>\n  </tbody>\n</table>\n</div>"
     },
     "execution_count": 4,
     "metadata": {},
     "output_type": "execute_result"
    }
   ],
   "source": [
    "alternative_count_list = []\n",
    "\n",
    "for d in datasets:\n",
    "    number_of_repairs = len(d.correction_collection)\n",
    "    number_of_repairs_hist = dict()\n",
    "\n",
    "    for cell_repairs in d.correction_collection.values():\n",
    "        num = len(cell_repairs)\n",
    "        number_of_repairs_hist[num] = number_of_repairs_hist.get(num, 0) + 1\n",
    "\n",
    "    hist = [0] * (max(number_of_repairs_hist.keys()) + 1)\n",
    "    for num, count in number_of_repairs_hist.items():\n",
    "        hist[num] = count\n",
    "\n",
    "    alternative_count_list.append(number_of_repairs_hist)\n",
    "\n",
    "    #print(f\"Histogram of the number of alternative repairs: {list(enumerate(hist))}\")\n",
    "\n",
    "max_alternatives = max(max(h.keys()) for h in alternative_count_list)\n",
    "\n",
    "alternative_count_df = pandas.DataFrame(columns=list(range(max_alternatives + 1)))\n",
    "\n",
    "for hist in alternative_count_list:\n",
    "    alternative_count_df = alternative_count_df.append(hist, ignore_index=True)\n",
    "\n",
    "alternative_count_df.drop(0,axis=1,inplace=True)\n",
    "alternative_count_df = alternative_count_df.fillna(0)\n",
    "alternative_count_df"
   ],
   "metadata": {
    "collapsed": false,
    "pycharm": {
     "name": "#%%\n"
    }
   }
  },
  {
   "cell_type": "code",
   "execution_count": 5,
   "outputs": [
    {
     "data": {
      "text/plain": "mean    1.059411\nstd     0.034408\nmin     1.003652\nmax     1.132011\ndtype: float64"
     },
     "execution_count": 5,
     "metadata": {},
     "output_type": "execute_result"
    }
   ],
   "source": [
    "mean_number_of_repairs = (alternative_count_df * np.arange(1,max_alternatives+1,1)).sum(axis=1) / alternative_count_df.sum(axis=1)\n",
    "mean_number_of_repairs.agg([\"mean\", \"std\", \"min\", \"max\"])"
   ],
   "metadata": {
    "collapsed": false,
    "pycharm": {
     "name": "#%%\n"
    }
   }
  },
  {
   "cell_type": "code",
   "execution_count": 6,
   "outputs": [
    {
     "data": {
      "text/plain": "mean    0.055494\nstd     0.031158\nmin     0.003652\nmax     0.126123\ndtype: float64"
     },
     "execution_count": 6,
     "metadata": {},
     "output_type": "execute_result"
    }
   ],
   "source": [
    "more_than_one = alternative_count_df.loc[:, alternative_count_df.columns[1:]].sum(axis=1) / alternative_count_df.sum(axis=1)\n",
    "more_than_one.agg([\"mean\", \"std\", \"min\", \"max\"])"
   ],
   "metadata": {
    "collapsed": false,
    "pycharm": {
     "name": "#%%\n"
    }
   }
  },
  {
   "cell_type": "code",
   "execution_count": 7,
   "outputs": [
    {
     "name": "stdout",
     "output_type": "stream",
     "text": [
      "Mean number of cells with x predicted alternatives in 10 runs\n"
     ]
    },
    {
     "data": {
      "text/plain": "1    3122.966667\n2     174.133333\n3      11.333333\n4       0.966667\ndtype: float64"
     },
     "execution_count": 7,
     "metadata": {},
     "output_type": "execute_result"
    }
   ],
   "source": [
    "print(\"Mean number of cells with x predicted alternatives in 10 runs\")\n",
    "mean_count_series = alternative_count_df.mean()\n",
    "mean_count_series"
   ],
   "metadata": {
    "collapsed": false,
    "pycharm": {
     "name": "#%%\n"
    }
   }
  },
  {
   "cell_type": "code",
   "execution_count": 8,
   "outputs": [
    {
     "data": {
      "text/plain": "           repairs     alt_all   alt_rate      errors  error_rate  \\\ncount    30.000000   30.000000  30.000000   30.000000   30.000000   \nmean   3309.400000  150.266667   0.044979  366.733333    0.108066   \nstd     266.467388   87.487116   0.025620  117.693621    0.028084   \nmin    2866.000000   11.000000   0.003652  211.000000    0.067029   \n25%    3082.250000   97.250000   0.031170  282.250000    0.086757   \n50%    3271.000000  141.000000   0.038774  343.500000    0.104857   \n75%    3489.750000  210.750000   0.060136  428.000000    0.122378   \nmax    3887.000000  367.000000   0.113728  671.000000    0.170261   \n\n       wrong_detection  alt_if_error  correct_in_alt  highest_alternative  \\\ncount        30.000000     30.000000       30.000000            30.000000   \nmean        306.200000     69.766667       41.700000            37.833333   \nstd         153.463553     53.820060       40.300723            35.855152   \nmin          98.000000      5.000000        0.000000             0.000000   \n25%         191.750000     31.250000       12.250000            12.250000   \n50%         269.500000     49.000000       26.000000            25.500000   \n75%         373.500000    117.250000       49.750000            45.000000   \nmax         750.000000    166.000000      142.000000           128.000000   \n\n       only_alternative  higher_chosen  error_alt_avail  correct_alt_avail  \\\ncount         30.000000      30.000000        30.000000          30.000000   \nmean          36.000000       9.966667         0.177558           0.104427   \nstd           34.180051      15.753452         0.113724           0.083220   \nmin            0.000000       0.000000         0.018051           0.000000   \n25%           12.250000       1.000000         0.101617           0.047066   \n50%           24.000000       3.000000         0.140834           0.081656   \n75%           43.500000       9.750000         0.227619           0.141585   \nmax          125.000000      71.000000         0.432432           0.330769   \n\n       highest_if_avail  only_if_avail  highest_if_error  highest_is_correct  \\\ncount         29.000000      29.000000         30.000000           30.000000   \nmean           0.942160       0.909608          0.095603            0.253940   \nstd            0.094063       0.127300          0.075193            0.167691   \nmin            0.656250       0.437500          0.000000            0.000000   \n25%            0.882353       0.862745          0.045761            0.116559   \n50%            1.000000       0.968992          0.076856            0.231664   \n75%            1.000000       1.000000          0.132189            0.345644   \nmax            1.000000       1.000000          0.328205            0.636364   \n\n       higher_percentage  \ncount          30.000000  \nmean            0.024941  \nstd             0.039153  \nmin             0.000000  \n25%             0.003156  \n50%             0.008709  \n75%             0.021493  \nmax             0.182051  ",
      "text/html": "<div>\n<style scoped>\n    .dataframe tbody tr th:only-of-type {\n        vertical-align: middle;\n    }\n\n    .dataframe tbody tr th {\n        vertical-align: top;\n    }\n\n    .dataframe thead th {\n        text-align: right;\n    }\n</style>\n<table border=\"1\" class=\"dataframe\">\n  <thead>\n    <tr style=\"text-align: right;\">\n      <th></th>\n      <th>repairs</th>\n      <th>alt_all</th>\n      <th>alt_rate</th>\n      <th>errors</th>\n      <th>error_rate</th>\n      <th>wrong_detection</th>\n      <th>alt_if_error</th>\n      <th>correct_in_alt</th>\n      <th>highest_alternative</th>\n      <th>only_alternative</th>\n      <th>higher_chosen</th>\n      <th>error_alt_avail</th>\n      <th>correct_alt_avail</th>\n      <th>highest_if_avail</th>\n      <th>only_if_avail</th>\n      <th>highest_if_error</th>\n      <th>highest_is_correct</th>\n      <th>higher_percentage</th>\n    </tr>\n  </thead>\n  <tbody>\n    <tr>\n      <th>count</th>\n      <td>30.000000</td>\n      <td>30.000000</td>\n      <td>30.000000</td>\n      <td>30.000000</td>\n      <td>30.000000</td>\n      <td>30.000000</td>\n      <td>30.000000</td>\n      <td>30.000000</td>\n      <td>30.000000</td>\n      <td>30.000000</td>\n      <td>30.000000</td>\n      <td>30.000000</td>\n      <td>30.000000</td>\n      <td>29.000000</td>\n      <td>29.000000</td>\n      <td>30.000000</td>\n      <td>30.000000</td>\n      <td>30.000000</td>\n    </tr>\n    <tr>\n      <th>mean</th>\n      <td>3309.400000</td>\n      <td>150.266667</td>\n      <td>0.044979</td>\n      <td>366.733333</td>\n      <td>0.108066</td>\n      <td>306.200000</td>\n      <td>69.766667</td>\n      <td>41.700000</td>\n      <td>37.833333</td>\n      <td>36.000000</td>\n      <td>9.966667</td>\n      <td>0.177558</td>\n      <td>0.104427</td>\n      <td>0.942160</td>\n      <td>0.909608</td>\n      <td>0.095603</td>\n      <td>0.253940</td>\n      <td>0.024941</td>\n    </tr>\n    <tr>\n      <th>std</th>\n      <td>266.467388</td>\n      <td>87.487116</td>\n      <td>0.025620</td>\n      <td>117.693621</td>\n      <td>0.028084</td>\n      <td>153.463553</td>\n      <td>53.820060</td>\n      <td>40.300723</td>\n      <td>35.855152</td>\n      <td>34.180051</td>\n      <td>15.753452</td>\n      <td>0.113724</td>\n      <td>0.083220</td>\n      <td>0.094063</td>\n      <td>0.127300</td>\n      <td>0.075193</td>\n      <td>0.167691</td>\n      <td>0.039153</td>\n    </tr>\n    <tr>\n      <th>min</th>\n      <td>2866.000000</td>\n      <td>11.000000</td>\n      <td>0.003652</td>\n      <td>211.000000</td>\n      <td>0.067029</td>\n      <td>98.000000</td>\n      <td>5.000000</td>\n      <td>0.000000</td>\n      <td>0.000000</td>\n      <td>0.000000</td>\n      <td>0.000000</td>\n      <td>0.018051</td>\n      <td>0.000000</td>\n      <td>0.656250</td>\n      <td>0.437500</td>\n      <td>0.000000</td>\n      <td>0.000000</td>\n      <td>0.000000</td>\n    </tr>\n    <tr>\n      <th>25%</th>\n      <td>3082.250000</td>\n      <td>97.250000</td>\n      <td>0.031170</td>\n      <td>282.250000</td>\n      <td>0.086757</td>\n      <td>191.750000</td>\n      <td>31.250000</td>\n      <td>12.250000</td>\n      <td>12.250000</td>\n      <td>12.250000</td>\n      <td>1.000000</td>\n      <td>0.101617</td>\n      <td>0.047066</td>\n      <td>0.882353</td>\n      <td>0.862745</td>\n      <td>0.045761</td>\n      <td>0.116559</td>\n      <td>0.003156</td>\n    </tr>\n    <tr>\n      <th>50%</th>\n      <td>3271.000000</td>\n      <td>141.000000</td>\n      <td>0.038774</td>\n      <td>343.500000</td>\n      <td>0.104857</td>\n      <td>269.500000</td>\n      <td>49.000000</td>\n      <td>26.000000</td>\n      <td>25.500000</td>\n      <td>24.000000</td>\n      <td>3.000000</td>\n      <td>0.140834</td>\n      <td>0.081656</td>\n      <td>1.000000</td>\n      <td>0.968992</td>\n      <td>0.076856</td>\n      <td>0.231664</td>\n      <td>0.008709</td>\n    </tr>\n    <tr>\n      <th>75%</th>\n      <td>3489.750000</td>\n      <td>210.750000</td>\n      <td>0.060136</td>\n      <td>428.000000</td>\n      <td>0.122378</td>\n      <td>373.500000</td>\n      <td>117.250000</td>\n      <td>49.750000</td>\n      <td>45.000000</td>\n      <td>43.500000</td>\n      <td>9.750000</td>\n      <td>0.227619</td>\n      <td>0.141585</td>\n      <td>1.000000</td>\n      <td>1.000000</td>\n      <td>0.132189</td>\n      <td>0.345644</td>\n      <td>0.021493</td>\n    </tr>\n    <tr>\n      <th>max</th>\n      <td>3887.000000</td>\n      <td>367.000000</td>\n      <td>0.113728</td>\n      <td>671.000000</td>\n      <td>0.170261</td>\n      <td>750.000000</td>\n      <td>166.000000</td>\n      <td>142.000000</td>\n      <td>128.000000</td>\n      <td>125.000000</td>\n      <td>71.000000</td>\n      <td>0.432432</td>\n      <td>0.330769</td>\n      <td>1.000000</td>\n      <td>1.000000</td>\n      <td>0.328205</td>\n      <td>0.636364</td>\n      <td>0.182051</td>\n    </tr>\n  </tbody>\n</table>\n</div>"
     },
     "execution_count": 8,
     "metadata": {},
     "output_type": "execute_result"
    }
   ],
   "source": [
    "correct_repairs = datasets[0].get_actual_errors_dictionary()\n",
    "\n",
    "collection = []\n",
    "correct_repair_probs = []\n",
    "incorrect_repair_probs = []\n",
    "other_repair_probs = []\n",
    "\n",
    "for d in datasets:\n",
    "\n",
    "    wrong_detection = 0\n",
    "    alt_available_all = 0\n",
    "\n",
    "    for cell, repairs in d.correction_collection.items():\n",
    "        if cell in correct_repairs:\n",
    "            if len(repairs) > 1:\n",
    "                alt_available_all += 1\n",
    "        else:\n",
    "            wrong_detection += 1\n",
    "\n",
    "    alt_rate = alt_available_all / len(d.correction_collection)\n",
    "\n",
    "    error_repaired_cells = [cell for cell, correction in d.corrected_cells.items() if cell in correct_repairs and correction != correct_repairs[cell]]\n",
    "    #print(f\"Number of incorrectly repaired cells: {len(error_repaired_cells)}\")\n",
    "\n",
    "    error_rate = len(error_repaired_cells) / len(d.corrected_cells)\n",
    "    alt_available = 0\n",
    "    correct_repair_available = 0\n",
    "    correct_repair_only = 0\n",
    "    correct_repair_highest = 0\n",
    "    correct_repair_better_chosen = 0\n",
    "\n",
    "    for cell in error_repaired_cells:\n",
    "        assert len(d.correction_collection[cell]) > 0\n",
    "        if len(d.correction_collection[cell]) > 1:\n",
    "            alt_available += 1\n",
    "        if correct_repairs[cell] in d.correction_collection[cell].keys():\n",
    "            correct_repair_available += 1\n",
    "            other_repairs = d.correction_collection[cell].copy()\n",
    "            other_repairs.pop(d.corrected_cells[cell], None)\n",
    "            other_repairs.pop(correct_repairs[cell], None)\n",
    "            if len(other_repairs) == 0:\n",
    "                correct_repair_only += 1\n",
    "            if d.correction_collection[cell][correct_repairs[cell]] > max(list(other_repairs.values()) + [0]):\n",
    "                correct_repair_highest += 1\n",
    "                if d.correction_collection[cell][correct_repairs[cell]] > d.correction_collection[cell][d.corrected_cells[cell]]:\n",
    "                    correct_repair_better_chosen += 1\n",
    "\n",
    "    #print(f\"Number of incorrectly repaired cells, where the correct repair is among the alternative repairs: {correct_repair_available}\")\n",
    "\n",
    "    collection.append((len(d.correction_collection),\n",
    "                       alt_available_all,\n",
    "                       alt_rate,\n",
    "                       len(error_repaired_cells),\n",
    "                       error_rate,\n",
    "                       wrong_detection,\n",
    "                       alt_available,\n",
    "                       correct_repair_available,\n",
    "                       correct_repair_highest,\n",
    "                       correct_repair_only,\n",
    "                       correct_repair_better_chosen))\n",
    "\n",
    "    for cell in error_repaired_cells:\n",
    "        if correct_repairs[cell] in d.correction_collection[cell]:\n",
    "            correct_repair_probs.append(d.correction_collection[cell][correct_repairs[cell]])\n",
    "            incorrect_repair_probs.append(d.correction_confidences[cell])\n",
    "            other_repair_probs.append([prob for val, prob in d.correction_collection[cell].items()\n",
    "                                       if val not in [correct_repairs[cell], d.corrected_cells[cell]]])\n",
    "\n",
    "repairable_df = pandas.DataFrame(collection, columns=[\"repairs\",\n",
    "                                                      \"alt_all\",\n",
    "                                                      \"alt_rate\",\n",
    "                                                      \"errors\",\n",
    "                                                      \"error_rate\",\n",
    "                                                      \"wrong_detection\",\n",
    "                                                      \"alt_if_error\",\n",
    "                                                      \"correct_in_alt\",\n",
    "                                                      \"highest_alternative\",\n",
    "                                                      \"only_alternative\",\n",
    "                                                      \"higher_chosen\"])\n",
    "\n",
    "repairable_df[\"error_alt_avail\"] = repairable_df[\"alt_if_error\"] / repairable_df[\"errors\"]\n",
    "repairable_df[\"correct_alt_avail\"] = repairable_df[\"correct_in_alt\"] / repairable_df[\"errors\"]\n",
    "repairable_df[\"highest_if_avail\"] = repairable_df[\"highest_alternative\"] / repairable_df[\"correct_in_alt\"]\n",
    "repairable_df[\"only_if_avail\"] = repairable_df[\"only_alternative\"] / repairable_df[\"correct_in_alt\"]\n",
    "repairable_df[\"highest_if_error\"] = repairable_df[\"highest_alternative\"] / repairable_df[\"errors\"]\n",
    "repairable_df[\"highest_is_correct\"] = repairable_df[\"highest_alternative\"] / repairable_df[\"alt_all\"]\n",
    "repairable_df[\"higher_percentage\"] = repairable_df[\"higher_chosen\"] / repairable_df[\"errors\"]\n",
    "repairable_df.describe(percentiles=[0.25, 0.5, 0.75])"
   ],
   "metadata": {
    "collapsed": false,
    "pycharm": {
     "name": "#%%\n"
    }
   }
  },
  {
   "cell_type": "code",
   "execution_count": 9,
   "outputs": [
    {
     "data": {
      "text/plain": "    repairs  alt_all  alt_rate  errors  error_rate  wrong_detection  \\\n0      3887      150  0.038590     671    0.170261              750   \n1      3659      176  0.048101     484    0.130564              503   \n2      3012       11  0.003652     235    0.076747              339   \n3      3227      367  0.113728     380    0.116172              236   \n4      3169      293  0.092458     443    0.138049              134   \n5      3473      110  0.031673     238    0.067633              144   \n6      3170      192  0.060568     258    0.080224              271   \n7      2866       97  0.033845     211    0.072310              186   \n8      2891       61  0.021100     259    0.088095              336   \n9      3486      223  0.063970     390    0.110357              215   \n10     3214      221  0.068762     333    0.102210              263   \n11     3602      229  0.063576     546    0.149466              400   \n12     3393       15  0.004421     277    0.080664              243   \n13     3703      302  0.081555     575    0.153620              502   \n14     3491      136  0.038957     345    0.097651              160   \n15     3671      216  0.058840     525    0.141091              363   \n16     3009      101  0.033566     298    0.097641              188   \n17     3494       79  0.022610     438    0.123624              478   \n18     3008      102  0.033910     319    0.104248              124   \n19     3452       37  0.010718     302    0.086310              592   \n20     3473      255  0.073424     550    0.156517               98   \n21     3049      109  0.035749     342    0.110608              220   \n22     3263       70  0.021453     222    0.067029              318   \n23     3568      172  0.048206     398    0.110280              377   \n24     2990      114  0.038127     315    0.103926              203   \n25     3162       55  0.017394     358    0.111631              268   \n26     3056      176  0.057592     328    0.105466              150   \n27     3279      146  0.044526     225    0.067649              323   \n28     3161       98  0.031003     380    0.118639              318   \n29     3404      195  0.057286     357    0.103299              484   \n\n    alt_if_error  correct_in_alt  highest_alternative  only_alternative  \\\n0             53              12                   12                12   \n1            147              69                   60                60   \n2              9               7                    7                 7   \n3            164              51                   51                44   \n4            151             116                   99                99   \n5             33              33                   33                33   \n6             22               4                    4                 4   \n7             23              10                   10                10   \n8             40              22                   22                22   \n9            144             129                  128               125   \n10           144              64                   42                28   \n11           166             127                  126               112   \n12             5               0                    0                 0   \n13           115              27                   26                24   \n14            49              24                   24                24   \n15           118              85                   75                75   \n16            49              45                   45                45   \n17            55              41                   33                33   \n18            32              25                   25                18   \n19            12              12                   12                12   \n20           164             142                  109               104   \n21            45              22                   17                17   \n22            31              13                   13                13   \n23            42              42                   40                40   \n24            72              16                   16                16   \n25            22               6                    6                 6   \n26            48              17                   17                17   \n27            22               7                    7                 7   \n28            51              37                   31                31   \n29            65              46                   45                42   \n\n    higher_chosen  error_alt_avail  correct_alt_avail  highest_if_avail  \\\n0              10         0.078987           0.017884          1.000000   \n1               9         0.303719           0.142562          0.869565   \n2               1         0.038298           0.029787          1.000000   \n3               3         0.431579           0.134211          1.000000   \n4               1         0.340858           0.261851          0.853448   \n5               1         0.138655           0.138655          1.000000   \n6               0         0.085271           0.015504          1.000000   \n7               0         0.109005           0.047393          1.000000   \n8               5         0.154440           0.084942          1.000000   \n9              71         0.369231           0.330769          0.992248   \n10              2         0.432432           0.192192          0.656250   \n11             41         0.304029           0.232601          0.992126   \n12              0         0.018051           0.000000               NaN   \n13              2         0.200000           0.046957          0.962963   \n14              2         0.142029           0.069565          1.000000   \n15              5         0.224762           0.161905          0.882353   \n16             28         0.164430           0.151007          1.000000   \n17             21         0.125571           0.093607          0.804878   \n18             19         0.100313           0.078370          1.000000   \n19              0         0.039735           0.039735          1.000000   \n20             31         0.298182           0.258182          0.767606   \n21              0         0.131579           0.064327          0.772727   \n22              3         0.139640           0.058559          1.000000   \n23              6         0.105528           0.105528          0.952381   \n24              7         0.228571           0.050794          1.000000   \n25              2         0.061453           0.016760          1.000000   \n26              1         0.146341           0.051829          1.000000   \n27              0         0.097778           0.031111          1.000000   \n28              5         0.134211           0.097368          0.837838   \n29             23         0.182073           0.128852          0.978261   \n\n    only_if_avail  highest_if_error  highest_is_correct  higher_percentage  \n0        1.000000          0.017884            0.080000           0.014903  \n1        0.869565          0.123967            0.340909           0.018595  \n2        1.000000          0.029787            0.636364           0.004255  \n3        0.862745          0.134211            0.138965           0.007895  \n4        0.853448          0.223476            0.337884           0.002257  \n5        1.000000          0.138655            0.300000           0.004202  \n6        1.000000          0.015504            0.020833           0.000000  \n7        1.000000          0.047393            0.103093           0.000000  \n8        1.000000          0.084942            0.360656           0.019305  \n9        0.968992          0.328205            0.573991           0.182051  \n10       0.437500          0.126126            0.190045           0.006006  \n11       0.881890          0.230769            0.550218           0.075092  \n12            NaN          0.000000            0.000000           0.000000  \n13       0.888889          0.045217            0.086093           0.003478  \n14       1.000000          0.069565            0.176471           0.005797  \n15       0.882353          0.142857            0.347222           0.009524  \n16       1.000000          0.151007            0.445545           0.093960  \n17       0.804878          0.075342            0.417722           0.047945  \n18       0.720000          0.078370            0.245098           0.059561  \n19       1.000000          0.039735            0.324324           0.000000  \n20       0.732394          0.198182            0.427451           0.056364  \n21       0.772727          0.049708            0.155963           0.000000  \n22       1.000000          0.058559            0.185714           0.013514  \n23       0.952381          0.100503            0.232558           0.015075  \n24       1.000000          0.050794            0.140351           0.022222  \n25       1.000000          0.016760            0.109091           0.005587  \n26       1.000000          0.051829            0.096591           0.003049  \n27       1.000000          0.031111            0.047945           0.000000  \n28       0.837838          0.081579            0.316327           0.013158  \n29       0.913043          0.126050            0.230769           0.064426  ",
      "text/html": "<div>\n<style scoped>\n    .dataframe tbody tr th:only-of-type {\n        vertical-align: middle;\n    }\n\n    .dataframe tbody tr th {\n        vertical-align: top;\n    }\n\n    .dataframe thead th {\n        text-align: right;\n    }\n</style>\n<table border=\"1\" class=\"dataframe\">\n  <thead>\n    <tr style=\"text-align: right;\">\n      <th></th>\n      <th>repairs</th>\n      <th>alt_all</th>\n      <th>alt_rate</th>\n      <th>errors</th>\n      <th>error_rate</th>\n      <th>wrong_detection</th>\n      <th>alt_if_error</th>\n      <th>correct_in_alt</th>\n      <th>highest_alternative</th>\n      <th>only_alternative</th>\n      <th>higher_chosen</th>\n      <th>error_alt_avail</th>\n      <th>correct_alt_avail</th>\n      <th>highest_if_avail</th>\n      <th>only_if_avail</th>\n      <th>highest_if_error</th>\n      <th>highest_is_correct</th>\n      <th>higher_percentage</th>\n    </tr>\n  </thead>\n  <tbody>\n    <tr>\n      <th>0</th>\n      <td>3887</td>\n      <td>150</td>\n      <td>0.038590</td>\n      <td>671</td>\n      <td>0.170261</td>\n      <td>750</td>\n      <td>53</td>\n      <td>12</td>\n      <td>12</td>\n      <td>12</td>\n      <td>10</td>\n      <td>0.078987</td>\n      <td>0.017884</td>\n      <td>1.000000</td>\n      <td>1.000000</td>\n      <td>0.017884</td>\n      <td>0.080000</td>\n      <td>0.014903</td>\n    </tr>\n    <tr>\n      <th>1</th>\n      <td>3659</td>\n      <td>176</td>\n      <td>0.048101</td>\n      <td>484</td>\n      <td>0.130564</td>\n      <td>503</td>\n      <td>147</td>\n      <td>69</td>\n      <td>60</td>\n      <td>60</td>\n      <td>9</td>\n      <td>0.303719</td>\n      <td>0.142562</td>\n      <td>0.869565</td>\n      <td>0.869565</td>\n      <td>0.123967</td>\n      <td>0.340909</td>\n      <td>0.018595</td>\n    </tr>\n    <tr>\n      <th>2</th>\n      <td>3012</td>\n      <td>11</td>\n      <td>0.003652</td>\n      <td>235</td>\n      <td>0.076747</td>\n      <td>339</td>\n      <td>9</td>\n      <td>7</td>\n      <td>7</td>\n      <td>7</td>\n      <td>1</td>\n      <td>0.038298</td>\n      <td>0.029787</td>\n      <td>1.000000</td>\n      <td>1.000000</td>\n      <td>0.029787</td>\n      <td>0.636364</td>\n      <td>0.004255</td>\n    </tr>\n    <tr>\n      <th>3</th>\n      <td>3227</td>\n      <td>367</td>\n      <td>0.113728</td>\n      <td>380</td>\n      <td>0.116172</td>\n      <td>236</td>\n      <td>164</td>\n      <td>51</td>\n      <td>51</td>\n      <td>44</td>\n      <td>3</td>\n      <td>0.431579</td>\n      <td>0.134211</td>\n      <td>1.000000</td>\n      <td>0.862745</td>\n      <td>0.134211</td>\n      <td>0.138965</td>\n      <td>0.007895</td>\n    </tr>\n    <tr>\n      <th>4</th>\n      <td>3169</td>\n      <td>293</td>\n      <td>0.092458</td>\n      <td>443</td>\n      <td>0.138049</td>\n      <td>134</td>\n      <td>151</td>\n      <td>116</td>\n      <td>99</td>\n      <td>99</td>\n      <td>1</td>\n      <td>0.340858</td>\n      <td>0.261851</td>\n      <td>0.853448</td>\n      <td>0.853448</td>\n      <td>0.223476</td>\n      <td>0.337884</td>\n      <td>0.002257</td>\n    </tr>\n    <tr>\n      <th>5</th>\n      <td>3473</td>\n      <td>110</td>\n      <td>0.031673</td>\n      <td>238</td>\n      <td>0.067633</td>\n      <td>144</td>\n      <td>33</td>\n      <td>33</td>\n      <td>33</td>\n      <td>33</td>\n      <td>1</td>\n      <td>0.138655</td>\n      <td>0.138655</td>\n      <td>1.000000</td>\n      <td>1.000000</td>\n      <td>0.138655</td>\n      <td>0.300000</td>\n      <td>0.004202</td>\n    </tr>\n    <tr>\n      <th>6</th>\n      <td>3170</td>\n      <td>192</td>\n      <td>0.060568</td>\n      <td>258</td>\n      <td>0.080224</td>\n      <td>271</td>\n      <td>22</td>\n      <td>4</td>\n      <td>4</td>\n      <td>4</td>\n      <td>0</td>\n      <td>0.085271</td>\n      <td>0.015504</td>\n      <td>1.000000</td>\n      <td>1.000000</td>\n      <td>0.015504</td>\n      <td>0.020833</td>\n      <td>0.000000</td>\n    </tr>\n    <tr>\n      <th>7</th>\n      <td>2866</td>\n      <td>97</td>\n      <td>0.033845</td>\n      <td>211</td>\n      <td>0.072310</td>\n      <td>186</td>\n      <td>23</td>\n      <td>10</td>\n      <td>10</td>\n      <td>10</td>\n      <td>0</td>\n      <td>0.109005</td>\n      <td>0.047393</td>\n      <td>1.000000</td>\n      <td>1.000000</td>\n      <td>0.047393</td>\n      <td>0.103093</td>\n      <td>0.000000</td>\n    </tr>\n    <tr>\n      <th>8</th>\n      <td>2891</td>\n      <td>61</td>\n      <td>0.021100</td>\n      <td>259</td>\n      <td>0.088095</td>\n      <td>336</td>\n      <td>40</td>\n      <td>22</td>\n      <td>22</td>\n      <td>22</td>\n      <td>5</td>\n      <td>0.154440</td>\n      <td>0.084942</td>\n      <td>1.000000</td>\n      <td>1.000000</td>\n      <td>0.084942</td>\n      <td>0.360656</td>\n      <td>0.019305</td>\n    </tr>\n    <tr>\n      <th>9</th>\n      <td>3486</td>\n      <td>223</td>\n      <td>0.063970</td>\n      <td>390</td>\n      <td>0.110357</td>\n      <td>215</td>\n      <td>144</td>\n      <td>129</td>\n      <td>128</td>\n      <td>125</td>\n      <td>71</td>\n      <td>0.369231</td>\n      <td>0.330769</td>\n      <td>0.992248</td>\n      <td>0.968992</td>\n      <td>0.328205</td>\n      <td>0.573991</td>\n      <td>0.182051</td>\n    </tr>\n    <tr>\n      <th>10</th>\n      <td>3214</td>\n      <td>221</td>\n      <td>0.068762</td>\n      <td>333</td>\n      <td>0.102210</td>\n      <td>263</td>\n      <td>144</td>\n      <td>64</td>\n      <td>42</td>\n      <td>28</td>\n      <td>2</td>\n      <td>0.432432</td>\n      <td>0.192192</td>\n      <td>0.656250</td>\n      <td>0.437500</td>\n      <td>0.126126</td>\n      <td>0.190045</td>\n      <td>0.006006</td>\n    </tr>\n    <tr>\n      <th>11</th>\n      <td>3602</td>\n      <td>229</td>\n      <td>0.063576</td>\n      <td>546</td>\n      <td>0.149466</td>\n      <td>400</td>\n      <td>166</td>\n      <td>127</td>\n      <td>126</td>\n      <td>112</td>\n      <td>41</td>\n      <td>0.304029</td>\n      <td>0.232601</td>\n      <td>0.992126</td>\n      <td>0.881890</td>\n      <td>0.230769</td>\n      <td>0.550218</td>\n      <td>0.075092</td>\n    </tr>\n    <tr>\n      <th>12</th>\n      <td>3393</td>\n      <td>15</td>\n      <td>0.004421</td>\n      <td>277</td>\n      <td>0.080664</td>\n      <td>243</td>\n      <td>5</td>\n      <td>0</td>\n      <td>0</td>\n      <td>0</td>\n      <td>0</td>\n      <td>0.018051</td>\n      <td>0.000000</td>\n      <td>NaN</td>\n      <td>NaN</td>\n      <td>0.000000</td>\n      <td>0.000000</td>\n      <td>0.000000</td>\n    </tr>\n    <tr>\n      <th>13</th>\n      <td>3703</td>\n      <td>302</td>\n      <td>0.081555</td>\n      <td>575</td>\n      <td>0.153620</td>\n      <td>502</td>\n      <td>115</td>\n      <td>27</td>\n      <td>26</td>\n      <td>24</td>\n      <td>2</td>\n      <td>0.200000</td>\n      <td>0.046957</td>\n      <td>0.962963</td>\n      <td>0.888889</td>\n      <td>0.045217</td>\n      <td>0.086093</td>\n      <td>0.003478</td>\n    </tr>\n    <tr>\n      <th>14</th>\n      <td>3491</td>\n      <td>136</td>\n      <td>0.038957</td>\n      <td>345</td>\n      <td>0.097651</td>\n      <td>160</td>\n      <td>49</td>\n      <td>24</td>\n      <td>24</td>\n      <td>24</td>\n      <td>2</td>\n      <td>0.142029</td>\n      <td>0.069565</td>\n      <td>1.000000</td>\n      <td>1.000000</td>\n      <td>0.069565</td>\n      <td>0.176471</td>\n      <td>0.005797</td>\n    </tr>\n    <tr>\n      <th>15</th>\n      <td>3671</td>\n      <td>216</td>\n      <td>0.058840</td>\n      <td>525</td>\n      <td>0.141091</td>\n      <td>363</td>\n      <td>118</td>\n      <td>85</td>\n      <td>75</td>\n      <td>75</td>\n      <td>5</td>\n      <td>0.224762</td>\n      <td>0.161905</td>\n      <td>0.882353</td>\n      <td>0.882353</td>\n      <td>0.142857</td>\n      <td>0.347222</td>\n      <td>0.009524</td>\n    </tr>\n    <tr>\n      <th>16</th>\n      <td>3009</td>\n      <td>101</td>\n      <td>0.033566</td>\n      <td>298</td>\n      <td>0.097641</td>\n      <td>188</td>\n      <td>49</td>\n      <td>45</td>\n      <td>45</td>\n      <td>45</td>\n      <td>28</td>\n      <td>0.164430</td>\n      <td>0.151007</td>\n      <td>1.000000</td>\n      <td>1.000000</td>\n      <td>0.151007</td>\n      <td>0.445545</td>\n      <td>0.093960</td>\n    </tr>\n    <tr>\n      <th>17</th>\n      <td>3494</td>\n      <td>79</td>\n      <td>0.022610</td>\n      <td>438</td>\n      <td>0.123624</td>\n      <td>478</td>\n      <td>55</td>\n      <td>41</td>\n      <td>33</td>\n      <td>33</td>\n      <td>21</td>\n      <td>0.125571</td>\n      <td>0.093607</td>\n      <td>0.804878</td>\n      <td>0.804878</td>\n      <td>0.075342</td>\n      <td>0.417722</td>\n      <td>0.047945</td>\n    </tr>\n    <tr>\n      <th>18</th>\n      <td>3008</td>\n      <td>102</td>\n      <td>0.033910</td>\n      <td>319</td>\n      <td>0.104248</td>\n      <td>124</td>\n      <td>32</td>\n      <td>25</td>\n      <td>25</td>\n      <td>18</td>\n      <td>19</td>\n      <td>0.100313</td>\n      <td>0.078370</td>\n      <td>1.000000</td>\n      <td>0.720000</td>\n      <td>0.078370</td>\n      <td>0.245098</td>\n      <td>0.059561</td>\n    </tr>\n    <tr>\n      <th>19</th>\n      <td>3452</td>\n      <td>37</td>\n      <td>0.010718</td>\n      <td>302</td>\n      <td>0.086310</td>\n      <td>592</td>\n      <td>12</td>\n      <td>12</td>\n      <td>12</td>\n      <td>12</td>\n      <td>0</td>\n      <td>0.039735</td>\n      <td>0.039735</td>\n      <td>1.000000</td>\n      <td>1.000000</td>\n      <td>0.039735</td>\n      <td>0.324324</td>\n      <td>0.000000</td>\n    </tr>\n    <tr>\n      <th>20</th>\n      <td>3473</td>\n      <td>255</td>\n      <td>0.073424</td>\n      <td>550</td>\n      <td>0.156517</td>\n      <td>98</td>\n      <td>164</td>\n      <td>142</td>\n      <td>109</td>\n      <td>104</td>\n      <td>31</td>\n      <td>0.298182</td>\n      <td>0.258182</td>\n      <td>0.767606</td>\n      <td>0.732394</td>\n      <td>0.198182</td>\n      <td>0.427451</td>\n      <td>0.056364</td>\n    </tr>\n    <tr>\n      <th>21</th>\n      <td>3049</td>\n      <td>109</td>\n      <td>0.035749</td>\n      <td>342</td>\n      <td>0.110608</td>\n      <td>220</td>\n      <td>45</td>\n      <td>22</td>\n      <td>17</td>\n      <td>17</td>\n      <td>0</td>\n      <td>0.131579</td>\n      <td>0.064327</td>\n      <td>0.772727</td>\n      <td>0.772727</td>\n      <td>0.049708</td>\n      <td>0.155963</td>\n      <td>0.000000</td>\n    </tr>\n    <tr>\n      <th>22</th>\n      <td>3263</td>\n      <td>70</td>\n      <td>0.021453</td>\n      <td>222</td>\n      <td>0.067029</td>\n      <td>318</td>\n      <td>31</td>\n      <td>13</td>\n      <td>13</td>\n      <td>13</td>\n      <td>3</td>\n      <td>0.139640</td>\n      <td>0.058559</td>\n      <td>1.000000</td>\n      <td>1.000000</td>\n      <td>0.058559</td>\n      <td>0.185714</td>\n      <td>0.013514</td>\n    </tr>\n    <tr>\n      <th>23</th>\n      <td>3568</td>\n      <td>172</td>\n      <td>0.048206</td>\n      <td>398</td>\n      <td>0.110280</td>\n      <td>377</td>\n      <td>42</td>\n      <td>42</td>\n      <td>40</td>\n      <td>40</td>\n      <td>6</td>\n      <td>0.105528</td>\n      <td>0.105528</td>\n      <td>0.952381</td>\n      <td>0.952381</td>\n      <td>0.100503</td>\n      <td>0.232558</td>\n      <td>0.015075</td>\n    </tr>\n    <tr>\n      <th>24</th>\n      <td>2990</td>\n      <td>114</td>\n      <td>0.038127</td>\n      <td>315</td>\n      <td>0.103926</td>\n      <td>203</td>\n      <td>72</td>\n      <td>16</td>\n      <td>16</td>\n      <td>16</td>\n      <td>7</td>\n      <td>0.228571</td>\n      <td>0.050794</td>\n      <td>1.000000</td>\n      <td>1.000000</td>\n      <td>0.050794</td>\n      <td>0.140351</td>\n      <td>0.022222</td>\n    </tr>\n    <tr>\n      <th>25</th>\n      <td>3162</td>\n      <td>55</td>\n      <td>0.017394</td>\n      <td>358</td>\n      <td>0.111631</td>\n      <td>268</td>\n      <td>22</td>\n      <td>6</td>\n      <td>6</td>\n      <td>6</td>\n      <td>2</td>\n      <td>0.061453</td>\n      <td>0.016760</td>\n      <td>1.000000</td>\n      <td>1.000000</td>\n      <td>0.016760</td>\n      <td>0.109091</td>\n      <td>0.005587</td>\n    </tr>\n    <tr>\n      <th>26</th>\n      <td>3056</td>\n      <td>176</td>\n      <td>0.057592</td>\n      <td>328</td>\n      <td>0.105466</td>\n      <td>150</td>\n      <td>48</td>\n      <td>17</td>\n      <td>17</td>\n      <td>17</td>\n      <td>1</td>\n      <td>0.146341</td>\n      <td>0.051829</td>\n      <td>1.000000</td>\n      <td>1.000000</td>\n      <td>0.051829</td>\n      <td>0.096591</td>\n      <td>0.003049</td>\n    </tr>\n    <tr>\n      <th>27</th>\n      <td>3279</td>\n      <td>146</td>\n      <td>0.044526</td>\n      <td>225</td>\n      <td>0.067649</td>\n      <td>323</td>\n      <td>22</td>\n      <td>7</td>\n      <td>7</td>\n      <td>7</td>\n      <td>0</td>\n      <td>0.097778</td>\n      <td>0.031111</td>\n      <td>1.000000</td>\n      <td>1.000000</td>\n      <td>0.031111</td>\n      <td>0.047945</td>\n      <td>0.000000</td>\n    </tr>\n    <tr>\n      <th>28</th>\n      <td>3161</td>\n      <td>98</td>\n      <td>0.031003</td>\n      <td>380</td>\n      <td>0.118639</td>\n      <td>318</td>\n      <td>51</td>\n      <td>37</td>\n      <td>31</td>\n      <td>31</td>\n      <td>5</td>\n      <td>0.134211</td>\n      <td>0.097368</td>\n      <td>0.837838</td>\n      <td>0.837838</td>\n      <td>0.081579</td>\n      <td>0.316327</td>\n      <td>0.013158</td>\n    </tr>\n    <tr>\n      <th>29</th>\n      <td>3404</td>\n      <td>195</td>\n      <td>0.057286</td>\n      <td>357</td>\n      <td>0.103299</td>\n      <td>484</td>\n      <td>65</td>\n      <td>46</td>\n      <td>45</td>\n      <td>42</td>\n      <td>23</td>\n      <td>0.182073</td>\n      <td>0.128852</td>\n      <td>0.978261</td>\n      <td>0.913043</td>\n      <td>0.126050</td>\n      <td>0.230769</td>\n      <td>0.064426</td>\n    </tr>\n  </tbody>\n</table>\n</div>"
     },
     "execution_count": 9,
     "metadata": {},
     "output_type": "execute_result"
    }
   ],
   "source": [
    "repairable_df"
   ],
   "metadata": {
    "collapsed": false,
    "pycharm": {
     "name": "#%%\n"
    }
   }
  },
  {
   "cell_type": "markdown",
   "source": [
    "## Analyze detection confidence vs error probability"
   ],
   "metadata": {
    "collapsed": false,
    "pycharm": {
     "name": "#%% md\n"
    }
   }
  },
  {
   "cell_type": "code",
   "execution_count": 20,
   "outputs": [],
   "source": [
    "import importlib\n",
    "from raha import analysis_utilities\n",
    "import matplotlib.pyplot as plt\n",
    "plt.style.use('ggplot')\n",
    "plt.ion()"
   ],
   "metadata": {
    "collapsed": false,
    "pycharm": {
     "name": "#%%\n"
    }
   }
  },
  {
   "cell_type": "code",
   "execution_count": 21,
   "outputs": [
    {
     "data": {
      "text/plain": "<module 'raha.analysis_utilities' from '/home/adrian/source/MA/raha/raha/analysis_utilities.py'>"
     },
     "execution_count": 21,
     "metadata": {},
     "output_type": "execute_result"
    }
   ],
   "source": [
    "importlib.reload(analysis_utilities)"
   ],
   "metadata": {
    "collapsed": false,
    "pycharm": {
     "name": "#%%\n"
    }
   }
  },
  {
   "cell_type": "code",
   "execution_count": 22,
   "outputs": [],
   "source": [
    "evaluation_dfs = []\n",
    "\n",
    "for d in datasets:\n",
    "    df = analysis_utilities.get_detection_evaluation_df(d)\n",
    "    evaluation_dfs.append(df)\n",
    "    #display(df)\n",
    "    #display(df.value_counts(subset=[\"detected\", \"truth\"]))\n",
    "    #display(analysis_utilities.detection_evaluation(df))\n",
    "    #display(analysis_utilities.detection_correctness_by_confidence(df,number_of_bins=10))\n",
    "\n",
    "df = pandas.concat(evaluation_dfs)"
   ],
   "metadata": {
    "collapsed": false,
    "pycharm": {
     "name": "#%%\n"
    }
   }
  },
  {
   "cell_type": "code",
   "execution_count": 23,
   "outputs": [
    {
     "data": {
      "text/plain": "<Figure size 648x432 with 4 Axes>",
      "image/png": "[encoded data removed]"
     },
     "execution_count": 23,
     "metadata": {},
     "output_type": "execute_result"
    }
   ],
   "source": [
    "analysis_utilities.detection_evaluation(df, sharey=\"all\", number_of_bins=100)"
   ],
   "metadata": {
    "collapsed": false,
    "pycharm": {
     "name": "#%%\n"
    }
   }
  },
  {
   "cell_type": "code",
   "execution_count": 24,
   "outputs": [
    {
     "data": {
      "text/plain": "0.06503928170594842"
     },
     "execution_count": 24,
     "metadata": {},
     "output_type": "execute_result"
    }
   ],
   "source": [
    "1 - ((df[\"p\"] < 0.01) | (df[\"p\"] > 0.99)).sum() / len(df.index)"
   ],
   "metadata": {
    "collapsed": false,
    "pycharm": {
     "name": "#%%\n"
    }
   }
  },
  {
   "cell_type": "code",
   "source": [
    "1 - ((df[\"p\"] < 0.05) | (df[\"p\"] > 0.95)).sum() / len(df.index)"
   ],
   "metadata": {
    "collapsed": false,
    "pycharm": {
     "name": "#%%\n"
    }
   },
   "execution_count": 25,
   "outputs": [
    {
     "data": {
      "text/plain": "0.03905723905723901"
     },
     "execution_count": 25,
     "metadata": {},
     "output_type": "execute_result"
    }
   ]
  },
  {
   "cell_type": "code",
   "execution_count": 26,
   "outputs": [],
   "source": [
    "analysis_utilities.detection_evaluation(df, sharey=\"row\",number_of_bins=100).savefig(\"flights_detection_split.pdf\", dpi=600)"
   ],
   "metadata": {
    "collapsed": false,
    "pycharm": {
     "name": "#%%\n"
    }
   }
  },
  {
   "cell_type": "code",
   "execution_count": 27,
   "outputs": [],
   "source": [
    "analysis_utilities.detection_evaluation_without_grouping(df,number_of_bins=100).savefig(\"flights_detection_overview.pdf\", dpi=600)"
   ],
   "metadata": {
    "collapsed": false,
    "pycharm": {
     "name": "#%%\n"
    }
   }
  },
  {
   "cell_type": "code",
   "source": [
    "(df[\"p\"] >= 0.99).sum() / (df[\"p\"] >= 0.5).sum()"
   ],
   "metadata": {
    "collapsed": false,
    "pycharm": {
     "name": "#%%\n"
    }
   },
   "execution_count": 28,
   "outputs": [
    {
     "data": {
      "text/plain": "0.8905712082403812"
     },
     "execution_count": 28,
     "metadata": {},
     "output_type": "execute_result"
    }
   ]
  },
  {
   "cell_type": "code",
   "execution_count": 44,
   "outputs": [
    {
     "data": {
      "text/plain": "0.15593348710710228"
     },
     "execution_count": 44,
     "metadata": {},
     "output_type": "execute_result"
    }
   ],
   "source": [
    "(df[\"detected\"] & ~df[\"truth\"] & df[\"p\"] >= 0.99).sum() / (df[\"detected\"] & df[\"p\"] >= 0.99).sum()"
   ],
   "metadata": {
    "collapsed": false,
    "pycharm": {
     "name": "#%%\n"
    }
   }
  },
  {
   "cell_type": "markdown",
   "source": [
    "## Analyze confidence vs error probability"
   ],
   "metadata": {
    "collapsed": false,
    "pycharm": {
     "name": "#%% md\n"
    }
   }
  },
  {
   "cell_type": "code",
   "execution_count": 29,
   "outputs": [],
   "source": [
    "r_p_dfs = []\n",
    "\n",
    "for d in datasets:\n",
    "\n",
    "    r_p_dfs.append(analysis_utilities.get_correction_confidence_df(d))\n",
    "\n",
    "r_p_df = pandas.concat(r_p_dfs)"
   ],
   "metadata": {
    "collapsed": false,
    "pycharm": {
     "name": "#%%\n"
    }
   }
  },
  {
   "cell_type": "code",
   "execution_count": 30,
   "outputs": [
    {
     "data": {
      "text/plain": "<Figure size 648x432 with 1 Axes>",
      "image/png": "[encoded data removed]"
     },
     "execution_count": 30,
     "metadata": {},
     "output_type": "execute_result"
    }
   ],
   "source": [
    "analysis_utilities.correction_confidence_distribution(r_p_df, number_of_bins=100)"
   ],
   "metadata": {
    "collapsed": false,
    "pycharm": {
     "name": "#%%\n"
    }
   }
  },
  {
   "cell_type": "code",
   "execution_count": 31,
   "outputs": [
    {
     "data": {
      "text/plain": "0.7615249371728269"
     },
     "execution_count": 31,
     "metadata": {},
     "output_type": "execute_result"
    }
   ],
   "source": [
    "(r_p_df[\"confidence\"] >= 0.99).sum() / len(r_p_df.index)"
   ],
   "metadata": {
    "collapsed": false,
    "pycharm": {
     "name": "#%%\n"
    }
   }
  },
  {
   "cell_type": "code",
   "execution_count": 32,
   "outputs": [
    {
     "data": {
      "text/plain": "0.7975326055645505"
     },
     "execution_count": 32,
     "metadata": {},
     "output_type": "execute_result"
    }
   ],
   "source": [
    "(r_p_df[\"confidence\"] >= 0.95).sum() / len(r_p_df.index)"
   ],
   "metadata": {
    "collapsed": false,
    "pycharm": {
     "name": "#%%\n"
    }
   }
  },
  {
   "cell_type": "code",
   "execution_count": 45,
   "outputs": [
    {
     "data": {
      "text/plain": "0.061488293223765735"
     },
     "execution_count": 45,
     "metadata": {},
     "output_type": "execute_result"
    }
   ],
   "source": [
    "((r_p_df[\"confidence\"] >= 0.99) & (r_p_df[\"detection_correct\"] == False)).sum() / (r_p_df[\"confidence\"] >= 0.99).sum()"
   ],
   "metadata": {
    "collapsed": false,
    "pycharm": {
     "name": "#%%\n"
    }
   }
  },
  {
   "cell_type": "code",
   "execution_count": 47,
   "outputs": [
    {
     "data": {
      "text/plain": "0.5131722185935119"
     },
     "execution_count": 47,
     "metadata": {},
     "output_type": "execute_result"
    }
   ],
   "source": [
    "((r_p_df[\"confidence\"] >= 0.99) & (r_p_df[\"detection_correct\"] == False)).sum() / (r_p_df[\"detection_correct\"] == False).sum()"
   ],
   "metadata": {
    "collapsed": false,
    "pycharm": {
     "name": "#%%\n"
    }
   }
  },
  {
   "cell_type": "code",
   "execution_count": 34,
   "outputs": [
    {
     "data": {
      "text/plain": "0.7864614644703619"
     },
     "execution_count": 34,
     "metadata": {},
     "output_type": "execute_result"
    }
   ],
   "source": [
    "((r_p_df[\"confidence\"] >= 0.99) & (r_p_df[\"detection_correct\"] == True)).sum() / (r_p_df[\"detection_correct\"] == True).sum()"
   ],
   "metadata": {
    "collapsed": false,
    "pycharm": {
     "name": "#%%\n"
    }
   }
  },
  {
   "cell_type": "code",
   "metadata": {
    "pycharm": {
     "name": "#%%\n"
    }
   },
   "source": [
    "analysis_utilities.correction_confidence_distributions(r_p_df, number_of_bins=100)"
   ],
   "execution_count": 35,
   "outputs": [
    {
     "data": {
      "text/plain": "<Figure size 648x432 with 2 Axes>",
      "image/png": "[encoded data removed]"
     },
     "execution_count": 35,
     "metadata": {},
     "output_type": "execute_result"
    }
   ]
  },
  {
   "cell_type": "code",
   "execution_count": 36,
   "metadata": {
    "pycharm": {
     "name": "#%%\n"
    }
   },
   "outputs": [],
   "source": [
    "analysis_utilities.correction_confidence_distribution(r_p_df, number_of_bins=100).savefig(\"flights_correction_overview.pdf\")\n",
    "analysis_utilities.correction_confidence_distributions(r_p_df, number_of_bins=100).savefig(\"flights_correction_split.pdf\")"
   ]
  },
  {
   "cell_type": "code",
   "execution_count": 29,
   "outputs": [
    {
     "data": {
      "text/plain": "<Figure size 1152x648 with 4 Axes>",
      "image/png": "[encoded data removed]"
     },
     "execution_count": 29,
     "metadata": {},
     "output_type": "execute_result"
    }
   ],
   "source": [],
   "metadata": {
    "collapsed": false,
    "pycharm": {
     "name": "#%%"
    }
   }
  }
 ],
 "metadata": {
  "kernelspec": {
   "display_name": "Python 3",
   "language": "python",
   "name": "python3"
  },
  "language_info": {
   "codemirror_mode": {
    "name": "ipython",
    "version": 3
   },
   "file_extension": ".py",
   "mimetype": "text/x-python",
   "name": "python",
   "nbconvert_exporter": "python",
   "pygments_lexer": "ipython3",
   "version": "3.8.5"
  }
 },
 "nbformat": 4,
 "nbformat_minor": 4
}
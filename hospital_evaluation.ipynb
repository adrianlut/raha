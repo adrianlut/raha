{
 "cells": [
  {
   "cell_type": "markdown",
   "metadata": {},
   "source": [
    "# Hospital example"
   ]
  },
  {
   "cell_type": "markdown",
   "source": [
    "## Run error detection and repair 30 times\n",
    "\n",
    "We use ground truth to label 20 tuples in each run."
   ],
   "metadata": {
    "collapsed": false,
    "pycharm": {
     "name": "#%% md\n"
    }
   }
  },
  {
   "cell_type": "code",
   "execution_count": 1,
   "outputs": [],
   "source": [
    "import numpy as np\n",
    "import pandas\n",
    "from IPython.core.display import display\n",
    "\n",
    "import raha"
   ],
   "metadata": {
    "collapsed": false,
    "pycharm": {
     "name": "#%%\n"
    }
   }
  },
  {
   "cell_type": "code",
   "execution_count": 2,
   "metadata": {
    "pycharm": {
     "name": "#%%\n"
    }
   },
   "outputs": [
    {
     "name": "stderr",
     "output_type": "stream",
     "text": [
      "I just load strategies' results as they have already been run on the dataset!\n"
     ]
    },
    {
     "name": "stdout",
     "output_type": "stream",
     "text": [
      "Run 0 done\n"
     ]
    },
    {
     "name": "stderr",
     "output_type": "stream",
     "text": [
      "I just load strategies' results as they have already been run on the dataset!\n"
     ]
    },
    {
     "name": "stdout",
     "output_type": "stream",
     "text": [
      "Run 1 done\n"
     ]
    },
    {
     "name": "stderr",
     "output_type": "stream",
     "text": [
      "I just load strategies' results as they have already been run on the dataset!\n"
     ]
    },
    {
     "name": "stdout",
     "output_type": "stream",
     "text": [
      "Run 2 done\n"
     ]
    },
    {
     "name": "stderr",
     "output_type": "stream",
     "text": [
      "I just load strategies' results as they have already been run on the dataset!\n"
     ]
    },
    {
     "name": "stdout",
     "output_type": "stream",
     "text": [
      "Run 3 done\n"
     ]
    },
    {
     "name": "stderr",
     "output_type": "stream",
     "text": [
      "I just load strategies' results as they have already been run on the dataset!\n"
     ]
    },
    {
     "name": "stdout",
     "output_type": "stream",
     "text": [
      "Run 4 done\n"
     ]
    },
    {
     "name": "stderr",
     "output_type": "stream",
     "text": [
      "I just load strategies' results as they have already been run on the dataset!\n"
     ]
    },
    {
     "name": "stdout",
     "output_type": "stream",
     "text": [
      "Run 5 done\n"
     ]
    },
    {
     "name": "stderr",
     "output_type": "stream",
     "text": [
      "I just load strategies' results as they have already been run on the dataset!\n"
     ]
    },
    {
     "name": "stdout",
     "output_type": "stream",
     "text": [
      "Run 6 done\n"
     ]
    },
    {
     "name": "stderr",
     "output_type": "stream",
     "text": [
      "I just load strategies' results as they have already been run on the dataset!\n"
     ]
    },
    {
     "name": "stdout",
     "output_type": "stream",
     "text": [
      "Run 7 done\n"
     ]
    },
    {
     "name": "stderr",
     "output_type": "stream",
     "text": [
      "I just load strategies' results as they have already been run on the dataset!\n"
     ]
    },
    {
     "name": "stdout",
     "output_type": "stream",
     "text": [
      "Run 8 done\n"
     ]
    },
    {
     "name": "stderr",
     "output_type": "stream",
     "text": [
      "I just load strategies' results as they have already been run on the dataset!\n"
     ]
    },
    {
     "name": "stdout",
     "output_type": "stream",
     "text": [
      "Run 9 done\n"
     ]
    },
    {
     "name": "stderr",
     "output_type": "stream",
     "text": [
      "I just load strategies' results as they have already been run on the dataset!\n"
     ]
    },
    {
     "name": "stdout",
     "output_type": "stream",
     "text": [
      "Run 10 done\n"
     ]
    },
    {
     "name": "stderr",
     "output_type": "stream",
     "text": [
      "I just load strategies' results as they have already been run on the dataset!\n"
     ]
    },
    {
     "name": "stdout",
     "output_type": "stream",
     "text": [
      "Run 11 done\n"
     ]
    },
    {
     "name": "stderr",
     "output_type": "stream",
     "text": [
      "I just load strategies' results as they have already been run on the dataset!\n"
     ]
    },
    {
     "name": "stdout",
     "output_type": "stream",
     "text": [
      "Run 12 done\n"
     ]
    },
    {
     "name": "stderr",
     "output_type": "stream",
     "text": [
      "I just load strategies' results as they have already been run on the dataset!\n"
     ]
    },
    {
     "name": "stdout",
     "output_type": "stream",
     "text": [
      "Run 13 done\n"
     ]
    },
    {
     "name": "stderr",
     "output_type": "stream",
     "text": [
      "I just load strategies' results as they have already been run on the dataset!\n"
     ]
    },
    {
     "name": "stdout",
     "output_type": "stream",
     "text": [
      "Run 14 done\n"
     ]
    },
    {
     "name": "stderr",
     "output_type": "stream",
     "text": [
      "I just load strategies' results as they have already been run on the dataset!\n"
     ]
    },
    {
     "name": "stdout",
     "output_type": "stream",
     "text": [
      "Run 15 done\n"
     ]
    },
    {
     "name": "stderr",
     "output_type": "stream",
     "text": [
      "I just load strategies' results as they have already been run on the dataset!\n"
     ]
    },
    {
     "name": "stdout",
     "output_type": "stream",
     "text": [
      "Run 16 done\n"
     ]
    },
    {
     "name": "stderr",
     "output_type": "stream",
     "text": [
      "I just load strategies' results as they have already been run on the dataset!\n"
     ]
    },
    {
     "name": "stdout",
     "output_type": "stream",
     "text": [
      "Run 17 done\n"
     ]
    },
    {
     "name": "stderr",
     "output_type": "stream",
     "text": [
      "I just load strategies' results as they have already been run on the dataset!\n"
     ]
    },
    {
     "name": "stdout",
     "output_type": "stream",
     "text": [
      "Run 18 done\n"
     ]
    },
    {
     "name": "stderr",
     "output_type": "stream",
     "text": [
      "I just load strategies' results as they have already been run on the dataset!\n"
     ]
    },
    {
     "name": "stdout",
     "output_type": "stream",
     "text": [
      "Run 19 done\n"
     ]
    },
    {
     "name": "stderr",
     "output_type": "stream",
     "text": [
      "I just load strategies' results as they have already been run on the dataset!\n"
     ]
    },
    {
     "name": "stdout",
     "output_type": "stream",
     "text": [
      "Run 20 done\n"
     ]
    },
    {
     "name": "stderr",
     "output_type": "stream",
     "text": [
      "I just load strategies' results as they have already been run on the dataset!\n"
     ]
    },
    {
     "name": "stdout",
     "output_type": "stream",
     "text": [
      "Run 21 done\n"
     ]
    },
    {
     "name": "stderr",
     "output_type": "stream",
     "text": [
      "I just load strategies' results as they have already been run on the dataset!\n"
     ]
    },
    {
     "name": "stdout",
     "output_type": "stream",
     "text": [
      "Run 22 done\n"
     ]
    },
    {
     "name": "stderr",
     "output_type": "stream",
     "text": [
      "I just load strategies' results as they have already been run on the dataset!\n"
     ]
    },
    {
     "name": "stdout",
     "output_type": "stream",
     "text": [
      "Run 23 done\n"
     ]
    },
    {
     "name": "stderr",
     "output_type": "stream",
     "text": [
      "I just load strategies' results as they have already been run on the dataset!\n"
     ]
    },
    {
     "name": "stdout",
     "output_type": "stream",
     "text": [
      "Run 24 done\n"
     ]
    },
    {
     "name": "stderr",
     "output_type": "stream",
     "text": [
      "I just load strategies' results as they have already been run on the dataset!\n"
     ]
    },
    {
     "name": "stdout",
     "output_type": "stream",
     "text": [
      "Run 25 done\n"
     ]
    },
    {
     "name": "stderr",
     "output_type": "stream",
     "text": [
      "I just load strategies' results as they have already been run on the dataset!\n"
     ]
    },
    {
     "name": "stdout",
     "output_type": "stream",
     "text": [
      "Run 26 done\n"
     ]
    },
    {
     "name": "stderr",
     "output_type": "stream",
     "text": [
      "I just load strategies' results as they have already been run on the dataset!\n"
     ]
    },
    {
     "name": "stdout",
     "output_type": "stream",
     "text": [
      "Run 27 done\n"
     ]
    },
    {
     "name": "stderr",
     "output_type": "stream",
     "text": [
      "I just load strategies' results as they have already been run on the dataset!\n"
     ]
    },
    {
     "name": "stdout",
     "output_type": "stream",
     "text": [
      "Run 28 done\n"
     ]
    },
    {
     "name": "stderr",
     "output_type": "stream",
     "text": [
      "I just load strategies' results as they have already been run on the dataset!\n"
     ]
    },
    {
     "name": "stdout",
     "output_type": "stream",
     "text": [
      "Run 29 done\n"
     ]
    }
   ],
   "source": [
    "datasets = []\n",
    "\n",
    "for i in range(30):\n",
    "    from raha import analysis_utilities\n",
    "    app_1 = raha.Detection()\n",
    "    app_2 = raha.Correction()\n",
    "\n",
    "    # How many tuples would you label?\n",
    "    app_1.LABELING_BUDGET = 20\n",
    "    app_2.LABELING_BUDGET = 0\n",
    "\n",
    "    # Would you like to see the logs?\n",
    "    app_1.VERBOSE = False\n",
    "    app_2.VERBOSE = False\n",
    "\n",
    "    dataset_dictionary = {\n",
    "        \"name\": \"hospital\",\n",
    "        \"path\": \"datasets/hospital/dirty.csv\",\n",
    "        \"clean_path\": \"datasets/hospital/clean.csv\"\n",
    "    }\n",
    "    d = app_1.initialize_dataset(dataset_dictionary)\n",
    "\n",
    "    app_1.run_strategies(d)\n",
    "    app_1.generate_features(d)\n",
    "    app_1.build_clusters(d)\n",
    "\n",
    "    while len(d.labeled_tuples) < app_1.LABELING_BUDGET:\n",
    "        app_1.sample_tuple(d)\n",
    "        if d.has_ground_truth:\n",
    "            app_1.label_with_ground_truth(d)\n",
    "\n",
    "    app_1.propagate_labels(d)\n",
    "    app_1.predict_labels(d)\n",
    "\n",
    "    app_2.initialize_models(d)\n",
    "    app_2.initialize_dataset(d)\n",
    "    for si in d.labeled_tuples:\n",
    "        d.sampled_tuple = si\n",
    "        app_2.update_models(d)\n",
    "        app_2.generate_features(d)\n",
    "        app_2.predict_corrections(d)\n",
    "\n",
    "    print(f\"Run {i} done\")\n",
    "\n",
    "    datasets.append(d)"
   ]
  },
  {
   "cell_type": "markdown",
   "source": [
    "## Evaluation"
   ],
   "metadata": {
    "collapsed": false,
    "pycharm": {
     "name": "#%% md\n"
    }
   }
  },
  {
   "cell_type": "code",
   "execution_count": 3,
   "metadata": {
    "scrolled": true
   },
   "outputs": [
    {
     "name": "stderr",
     "output_type": "stream",
     "text": [
      "/home/adrian/source/MA/raha/raha/dataset.py:123: FutureWarning: elementwise comparison failed; returning scalar instead, but in the future will perform elementwise comparison\n",
      "  if correction_dictionary[cell] == actual_errors[cell]:\n"
     ]
    },
    {
     "data": {
      "text/plain": "                        Task  Precision    Recall  F1 Score\n0     Error Detection (Raha)   0.989619  0.561886  0.716792\n1   Error Correction (Baran)   0.705036  0.385069  0.498094\n2     Error Detection (Raha)   0.962264  0.601179  0.740024\n3   Error Correction (Baran)   0.706271  0.420432  0.527094\n4     Error Detection (Raha)   0.932584  0.652259  0.767630\n5   Error Correction (Baran)   0.772595  0.520629  0.622066\n6     Error Detection (Raha)   1.000000  0.457760  0.628032\n7   Error Correction (Baran)   0.798283  0.365422  0.501348\n8     Error Detection (Raha)   0.936170  0.432220  0.591398\n9   Error Correction (Baran)   0.706140  0.316306  0.436906\n10    Error Detection (Raha)   0.976351  0.567780  0.718012\n11  Error Correction (Baran)   0.706485  0.406680  0.516209\n12    Error Detection (Raha)   0.905063  0.561886  0.693333\n13  Error Correction (Baran)   0.745223  0.459725  0.568651\n14    Error Detection (Raha)   0.936288  0.664047  0.777011\n15  Error Correction (Baran)   0.752239  0.495088  0.597156\n16    Error Detection (Raha)   0.939068  0.514735  0.664975\n17  Error Correction (Baran)   0.772727  0.400786  0.527814\n18    Error Detection (Raha)   0.983923  0.601179  0.746341\n19  Error Correction (Baran)   0.836013  0.510806  0.634146\n20    Error Detection (Raha)   0.949008  0.658153  0.777262\n21  Error Correction (Baran)   0.800570  0.552063  0.653488\n22    Error Detection (Raha)   0.976562  0.491159  0.653595\n23  Error Correction (Baran)   0.884000  0.434185  0.582345\n24    Error Detection (Raha)   0.981873  0.638507  0.773810\n25  Error Correction (Baran)   0.739394  0.479371  0.581645\n26    Error Detection (Raha)   0.959877  0.611002  0.746699\n27  Error Correction (Baran)   0.767802  0.487230  0.596154\n28    Error Detection (Raha)   0.949008  0.658153  0.777262\n29  Error Correction (Baran)   0.832853  0.567780  0.675234\n30    Error Detection (Raha)   0.703163  0.567780  0.628261\n31  Error Correction (Baran)   0.530457  0.410609  0.462901\n32    Error Detection (Raha)   0.940000  0.554028  0.697157\n33  Error Correction (Baran)   0.735915  0.410609  0.527112\n34    Error Detection (Raha)   0.996835  0.618861  0.763636\n35  Error Correction (Baran)   0.797468  0.495088  0.610909\n36    Error Detection (Raha)   0.987113  0.752456  0.853958\n37  Error Correction (Baran)   0.924370  0.648330  0.762125\n38    Error Detection (Raha)   0.992063  0.491159  0.657030\n39  Error Correction (Baran)   0.764940  0.377210  0.505263\n40    Error Detection (Raha)   0.851735  0.530452  0.653753\n41  Error Correction (Baran)   0.756014  0.432220  0.550000\n42    Error Detection (Raha)   0.971326  0.532417  0.687817\n43  Error Correction (Baran)   0.815261  0.398821  0.535620\n44    Error Detection (Raha)   0.952909  0.675835  0.790805\n45  Error Correction (Baran)   0.810585  0.571709  0.670507\n46    Error Detection (Raha)   0.894866  0.719057  0.797386\n47  Error Correction (Baran)   0.837989  0.589391  0.692042\n48    Error Detection (Raha)   1.000000  0.561886  0.719497\n49  Error Correction (Baran)   0.944649  0.502947  0.656410\n50    Error Detection (Raha)   0.898305  0.624754  0.736964\n51  Error Correction (Baran)   0.781870  0.542240  0.640371\n52    Error Detection (Raha)   0.944444  0.567780  0.709202\n53  Error Correction (Baran)   0.857651  0.473477  0.610127\n54    Error Detection (Raha)   0.986413  0.713163  0.827822\n55  Error Correction (Baran)   0.776243  0.552063  0.645235\n56    Error Detection (Raha)   0.944272  0.599214  0.733173\n57  Error Correction (Baran)   0.822917  0.465619  0.594730\n58    Error Detection (Raha)   0.925490  0.463654  0.617801\n59  Error Correction (Baran)   0.802372  0.398821  0.532808",
      "text/html": "<div>\n<style scoped>\n    .dataframe tbody tr th:only-of-type {\n        vertical-align: middle;\n    }\n\n    .dataframe tbody tr th {\n        vertical-align: top;\n    }\n\n    .dataframe thead th {\n        text-align: right;\n    }\n</style>\n<table border=\"1\" class=\"dataframe\">\n  <thead>\n    <tr style=\"text-align: right;\">\n      <th></th>\n      <th>Task</th>\n      <th>Precision</th>\n      <th>Recall</th>\n      <th>F1 Score</th>\n    </tr>\n  </thead>\n  <tbody>\n    <tr>\n      <th>0</th>\n      <td>Error Detection (Raha)</td>\n      <td>0.989619</td>\n      <td>0.561886</td>\n      <td>0.716792</td>\n    </tr>\n    <tr>\n      <th>1</th>\n      <td>Error Correction (Baran)</td>\n      <td>0.705036</td>\n      <td>0.385069</td>\n      <td>0.498094</td>\n    </tr>\n    <tr>\n      <th>2</th>\n      <td>Error Detection (Raha)</td>\n      <td>0.962264</td>\n      <td>0.601179</td>\n      <td>0.740024</td>\n    </tr>\n    <tr>\n      <th>3</th>\n      <td>Error Correction (Baran)</td>\n      <td>0.706271</td>\n      <td>0.420432</td>\n      <td>0.527094</td>\n    </tr>\n    <tr>\n      <th>4</th>\n      <td>Error Detection (Raha)</td>\n      <td>0.932584</td>\n      <td>0.652259</td>\n      <td>0.767630</td>\n    </tr>\n    <tr>\n      <th>5</th>\n      <td>Error Correction (Baran)</td>\n      <td>0.772595</td>\n      <td>0.520629</td>\n      <td>0.622066</td>\n    </tr>\n    <tr>\n      <th>6</th>\n      <td>Error Detection (Raha)</td>\n      <td>1.000000</td>\n      <td>0.457760</td>\n      <td>0.628032</td>\n    </tr>\n    <tr>\n      <th>7</th>\n      <td>Error Correction (Baran)</td>\n      <td>0.798283</td>\n      <td>0.365422</td>\n      <td>0.501348</td>\n    </tr>\n    <tr>\n      <th>8</th>\n      <td>Error Detection (Raha)</td>\n      <td>0.936170</td>\n      <td>0.432220</td>\n      <td>0.591398</td>\n    </tr>\n    <tr>\n      <th>9</th>\n      <td>Error Correction (Baran)</td>\n      <td>0.706140</td>\n      <td>0.316306</td>\n      <td>0.436906</td>\n    </tr>\n    <tr>\n      <th>10</th>\n      <td>Error Detection (Raha)</td>\n      <td>0.976351</td>\n      <td>0.567780</td>\n      <td>0.718012</td>\n    </tr>\n    <tr>\n      <th>11</th>\n      <td>Error Correction (Baran)</td>\n      <td>0.706485</td>\n      <td>0.406680</td>\n      <td>0.516209</td>\n    </tr>\n    <tr>\n      <th>12</th>\n      <td>Error Detection (Raha)</td>\n      <td>0.905063</td>\n      <td>0.561886</td>\n      <td>0.693333</td>\n    </tr>\n    <tr>\n      <th>13</th>\n      <td>Error Correction (Baran)</td>\n      <td>0.745223</td>\n      <td>0.459725</td>\n      <td>0.568651</td>\n    </tr>\n    <tr>\n      <th>14</th>\n      <td>Error Detection (Raha)</td>\n      <td>0.936288</td>\n      <td>0.664047</td>\n      <td>0.777011</td>\n    </tr>\n    <tr>\n      <th>15</th>\n      <td>Error Correction (Baran)</td>\n      <td>0.752239</td>\n      <td>0.495088</td>\n      <td>0.597156</td>\n    </tr>\n    <tr>\n      <th>16</th>\n      <td>Error Detection (Raha)</td>\n      <td>0.939068</td>\n      <td>0.514735</td>\n      <td>0.664975</td>\n    </tr>\n    <tr>\n      <th>17</th>\n      <td>Error Correction (Baran)</td>\n      <td>0.772727</td>\n      <td>0.400786</td>\n      <td>0.527814</td>\n    </tr>\n    <tr>\n      <th>18</th>\n      <td>Error Detection (Raha)</td>\n      <td>0.983923</td>\n      <td>0.601179</td>\n      <td>0.746341</td>\n    </tr>\n    <tr>\n      <th>19</th>\n      <td>Error Correction (Baran)</td>\n      <td>0.836013</td>\n      <td>0.510806</td>\n      <td>0.634146</td>\n    </tr>\n    <tr>\n      <th>20</th>\n      <td>Error Detection (Raha)</td>\n      <td>0.949008</td>\n      <td>0.658153</td>\n      <td>0.777262</td>\n    </tr>\n    <tr>\n      <th>21</th>\n      <td>Error Correction (Baran)</td>\n      <td>0.800570</td>\n      <td>0.552063</td>\n      <td>0.653488</td>\n    </tr>\n    <tr>\n      <th>22</th>\n      <td>Error Detection (Raha)</td>\n      <td>0.976562</td>\n      <td>0.491159</td>\n      <td>0.653595</td>\n    </tr>\n    <tr>\n      <th>23</th>\n      <td>Error Correction (Baran)</td>\n      <td>0.884000</td>\n      <td>0.434185</td>\n      <td>0.582345</td>\n    </tr>\n    <tr>\n      <th>24</th>\n      <td>Error Detection (Raha)</td>\n      <td>0.981873</td>\n      <td>0.638507</td>\n      <td>0.773810</td>\n    </tr>\n    <tr>\n      <th>25</th>\n      <td>Error Correction (Baran)</td>\n      <td>0.739394</td>\n      <td>0.479371</td>\n      <td>0.581645</td>\n    </tr>\n    <tr>\n      <th>26</th>\n      <td>Error Detection (Raha)</td>\n      <td>0.959877</td>\n      <td>0.611002</td>\n      <td>0.746699</td>\n    </tr>\n    <tr>\n      <th>27</th>\n      <td>Error Correction (Baran)</td>\n      <td>0.767802</td>\n      <td>0.487230</td>\n      <td>0.596154</td>\n    </tr>\n    <tr>\n      <th>28</th>\n      <td>Error Detection (Raha)</td>\n      <td>0.949008</td>\n      <td>0.658153</td>\n      <td>0.777262</td>\n    </tr>\n    <tr>\n      <th>29</th>\n      <td>Error Correction (Baran)</td>\n      <td>0.832853</td>\n      <td>0.567780</td>\n      <td>0.675234</td>\n    </tr>\n    <tr>\n      <th>30</th>\n      <td>Error Detection (Raha)</td>\n      <td>0.703163</td>\n      <td>0.567780</td>\n      <td>0.628261</td>\n    </tr>\n    <tr>\n      <th>31</th>\n      <td>Error Correction (Baran)</td>\n      <td>0.530457</td>\n      <td>0.410609</td>\n      <td>0.462901</td>\n    </tr>\n    <tr>\n      <th>32</th>\n      <td>Error Detection (Raha)</td>\n      <td>0.940000</td>\n      <td>0.554028</td>\n      <td>0.697157</td>\n    </tr>\n    <tr>\n      <th>33</th>\n      <td>Error Correction (Baran)</td>\n      <td>0.735915</td>\n      <td>0.410609</td>\n      <td>0.527112</td>\n    </tr>\n    <tr>\n      <th>34</th>\n      <td>Error Detection (Raha)</td>\n      <td>0.996835</td>\n      <td>0.618861</td>\n      <td>0.763636</td>\n    </tr>\n    <tr>\n      <th>35</th>\n      <td>Error Correction (Baran)</td>\n      <td>0.797468</td>\n      <td>0.495088</td>\n      <td>0.610909</td>\n    </tr>\n    <tr>\n      <th>36</th>\n      <td>Error Detection (Raha)</td>\n      <td>0.987113</td>\n      <td>0.752456</td>\n      <td>0.853958</td>\n    </tr>\n    <tr>\n      <th>37</th>\n      <td>Error Correction (Baran)</td>\n      <td>0.924370</td>\n      <td>0.648330</td>\n      <td>0.762125</td>\n    </tr>\n    <tr>\n      <th>38</th>\n      <td>Error Detection (Raha)</td>\n      <td>0.992063</td>\n      <td>0.491159</td>\n      <td>0.657030</td>\n    </tr>\n    <tr>\n      <th>39</th>\n      <td>Error Correction (Baran)</td>\n      <td>0.764940</td>\n      <td>0.377210</td>\n      <td>0.505263</td>\n    </tr>\n    <tr>\n      <th>40</th>\n      <td>Error Detection (Raha)</td>\n      <td>0.851735</td>\n      <td>0.530452</td>\n      <td>0.653753</td>\n    </tr>\n    <tr>\n      <th>41</th>\n      <td>Error Correction (Baran)</td>\n      <td>0.756014</td>\n      <td>0.432220</td>\n      <td>0.550000</td>\n    </tr>\n    <tr>\n      <th>42</th>\n      <td>Error Detection (Raha)</td>\n      <td>0.971326</td>\n      <td>0.532417</td>\n      <td>0.687817</td>\n    </tr>\n    <tr>\n      <th>43</th>\n      <td>Error Correction (Baran)</td>\n      <td>0.815261</td>\n      <td>0.398821</td>\n      <td>0.535620</td>\n    </tr>\n    <tr>\n      <th>44</th>\n      <td>Error Detection (Raha)</td>\n      <td>0.952909</td>\n      <td>0.675835</td>\n      <td>0.790805</td>\n    </tr>\n    <tr>\n      <th>45</th>\n      <td>Error Correction (Baran)</td>\n      <td>0.810585</td>\n      <td>0.571709</td>\n      <td>0.670507</td>\n    </tr>\n    <tr>\n      <th>46</th>\n      <td>Error Detection (Raha)</td>\n      <td>0.894866</td>\n      <td>0.719057</td>\n      <td>0.797386</td>\n    </tr>\n    <tr>\n      <th>47</th>\n      <td>Error Correction (Baran)</td>\n      <td>0.837989</td>\n      <td>0.589391</td>\n      <td>0.692042</td>\n    </tr>\n    <tr>\n      <th>48</th>\n      <td>Error Detection (Raha)</td>\n      <td>1.000000</td>\n      <td>0.561886</td>\n      <td>0.719497</td>\n    </tr>\n    <tr>\n      <th>49</th>\n      <td>Error Correction (Baran)</td>\n      <td>0.944649</td>\n      <td>0.502947</td>\n      <td>0.656410</td>\n    </tr>\n    <tr>\n      <th>50</th>\n      <td>Error Detection (Raha)</td>\n      <td>0.898305</td>\n      <td>0.624754</td>\n      <td>0.736964</td>\n    </tr>\n    <tr>\n      <th>51</th>\n      <td>Error Correction (Baran)</td>\n      <td>0.781870</td>\n      <td>0.542240</td>\n      <td>0.640371</td>\n    </tr>\n    <tr>\n      <th>52</th>\n      <td>Error Detection (Raha)</td>\n      <td>0.944444</td>\n      <td>0.567780</td>\n      <td>0.709202</td>\n    </tr>\n    <tr>\n      <th>53</th>\n      <td>Error Correction (Baran)</td>\n      <td>0.857651</td>\n      <td>0.473477</td>\n      <td>0.610127</td>\n    </tr>\n    <tr>\n      <th>54</th>\n      <td>Error Detection (Raha)</td>\n      <td>0.986413</td>\n      <td>0.713163</td>\n      <td>0.827822</td>\n    </tr>\n    <tr>\n      <th>55</th>\n      <td>Error Correction (Baran)</td>\n      <td>0.776243</td>\n      <td>0.552063</td>\n      <td>0.645235</td>\n    </tr>\n    <tr>\n      <th>56</th>\n      <td>Error Detection (Raha)</td>\n      <td>0.944272</td>\n      <td>0.599214</td>\n      <td>0.733173</td>\n    </tr>\n    <tr>\n      <th>57</th>\n      <td>Error Correction (Baran)</td>\n      <td>0.822917</td>\n      <td>0.465619</td>\n      <td>0.594730</td>\n    </tr>\n    <tr>\n      <th>58</th>\n      <td>Error Detection (Raha)</td>\n      <td>0.925490</td>\n      <td>0.463654</td>\n      <td>0.617801</td>\n    </tr>\n    <tr>\n      <th>59</th>\n      <td>Error Correction (Baran)</td>\n      <td>0.802372</td>\n      <td>0.398821</td>\n      <td>0.532808</td>\n    </tr>\n  </tbody>\n</table>\n</div>"
     },
     "metadata": {},
     "output_type": "display_data"
    },
    {
     "data": {
      "text/plain": "                         Precision                                  Recall  \\\n                              mean       std       min       max      mean   \nTask                                                                         \nError Correction (Baran)  0.782811  0.076626  0.530457  0.944649  0.469024   \nError Detection (Raha)    0.945553  0.057776  0.703163  1.000000  0.588147   \n\n                                                        F1 Score            \\\n                               std       min       max      mean       std   \nTask                                                                         \nError Correction (Baran)  0.077293  0.316306  0.648330  0.583817  0.074119   \nError Detection (Raha)    0.079840  0.432220  0.752456  0.721548  0.064779   \n\n                                              \n                               min       max  \nTask                                          \nError Correction (Baran)  0.436906  0.762125  \nError Detection (Raha)    0.591398  0.853958  ",
      "text/html": "<div>\n<style scoped>\n    .dataframe tbody tr th:only-of-type {\n        vertical-align: middle;\n    }\n\n    .dataframe tbody tr th {\n        vertical-align: top;\n    }\n\n    .dataframe thead tr th {\n        text-align: left;\n    }\n\n    .dataframe thead tr:last-of-type th {\n        text-align: right;\n    }\n</style>\n<table border=\"1\" class=\"dataframe\">\n  <thead>\n    <tr>\n      <th></th>\n      <th colspan=\"4\" halign=\"left\">Precision</th>\n      <th colspan=\"4\" halign=\"left\">Recall</th>\n      <th colspan=\"4\" halign=\"left\">F1 Score</th>\n    </tr>\n    <tr>\n      <th></th>\n      <th>mean</th>\n      <th>std</th>\n      <th>min</th>\n      <th>max</th>\n      <th>mean</th>\n      <th>std</th>\n      <th>min</th>\n      <th>max</th>\n      <th>mean</th>\n      <th>std</th>\n      <th>min</th>\n      <th>max</th>\n    </tr>\n    <tr>\n      <th>Task</th>\n      <th></th>\n      <th></th>\n      <th></th>\n      <th></th>\n      <th></th>\n      <th></th>\n      <th></th>\n      <th></th>\n      <th></th>\n      <th></th>\n      <th></th>\n      <th></th>\n    </tr>\n  </thead>\n  <tbody>\n    <tr>\n      <th>Error Correction (Baran)</th>\n      <td>0.782811</td>\n      <td>0.076626</td>\n      <td>0.530457</td>\n      <td>0.944649</td>\n      <td>0.469024</td>\n      <td>0.077293</td>\n      <td>0.316306</td>\n      <td>0.648330</td>\n      <td>0.583817</td>\n      <td>0.074119</td>\n      <td>0.436906</td>\n      <td>0.762125</td>\n    </tr>\n    <tr>\n      <th>Error Detection (Raha)</th>\n      <td>0.945553</td>\n      <td>0.057776</td>\n      <td>0.703163</td>\n      <td>1.000000</td>\n      <td>0.588147</td>\n      <td>0.079840</td>\n      <td>0.432220</td>\n      <td>0.752456</td>\n      <td>0.721548</td>\n      <td>0.064779</td>\n      <td>0.591398</td>\n      <td>0.853958</td>\n    </tr>\n  </tbody>\n</table>\n</div>"
     },
     "execution_count": 3,
     "metadata": {},
     "output_type": "execute_result"
    }
   ],
   "source": [
    "evaluation_df = pandas.DataFrame(columns=[\"Task\", \"Precision\", \"Recall\", \"F1 Score\"])\n",
    "\n",
    "for d in datasets:\n",
    "    edp, edr, edf = d.get_data_cleaning_evaluation(d.detected_cells)[:3]\n",
    "    ecp, ecr, ecf = d.get_data_cleaning_evaluation(d.corrected_cells)[-3:]\n",
    "\n",
    "    evaluation_df = evaluation_df.append({\"Task\": \"Error Detection (Raha)\", \"Precision\": edp,\n",
    "                                          \"Recall\": edr, \"F1 Score\": edf}, ignore_index=True)\n",
    "    evaluation_df = evaluation_df.append({\"Task\": \"Error Correction (Baran)\", \"Precision\": ecp,\n",
    "                                          \"Recall\": ecr, \"F1 Score\": ecf}, ignore_index=True)\n",
    "display(evaluation_df)\n",
    "\n",
    "evaluation_df.groupby(\"Task\").agg([\"mean\", \"std\", \"min\", \"max\"])"
   ]
  },
  {
   "cell_type": "markdown",
   "source": [
    "## Analyze the alternative repairs"
   ],
   "metadata": {
    "collapsed": false
   }
  },
  {
   "cell_type": "code",
   "execution_count": 4,
   "outputs": [
    {
     "data": {
      "text/plain": "       1      2     3     4     5     6     7    8     9    10  ...   18   19  \\\n0   157.0   68.0  12.0   2.0   2.0   3.0   5.0  3.0   0.0  0.0  ...  0.0  0.0   \n1   193.0   68.0  10.0   0.0   1.0   0.0   5.0  2.0   0.0  0.0  ...  0.0  1.0   \n2   214.0   80.0   9.0   2.0   1.0   0.0   3.0  2.0   6.0  1.0  ...  0.0  0.0   \n3   150.0   45.0  17.0   5.0   2.0   0.0   0.0  0.0   0.0  0.0  ...  0.0  0.0   \n4   116.0   64.0  10.0  17.0   6.0   4.0   1.0  0.0   0.0  0.0  ...  0.0  0.0   \n5   168.0   72.0  14.0   5.0   1.0   1.0   0.0  2.0   1.0  2.0  ...  0.0  0.0   \n6   191.0   50.0  39.0   4.0   5.0   3.0   2.0  0.0   0.0  0.0  ...  0.0  0.0   \n7   198.0   74.0  20.0   5.0   1.0   0.0   8.0  3.0   2.0  2.0  ...  0.0  0.0   \n8   141.0   45.0  18.0   9.0   1.0   8.0  15.0  2.0   2.0  0.0  ...  0.0  0.0   \n9   214.0   45.0   2.0   0.0   0.0   0.0   1.0  3.0   7.0  2.0  ...  0.0  0.0   \n10  188.0   99.0  21.0   1.0   4.0   0.0   4.0  5.0   3.0  1.0  ...  0.0  0.0   \n11  182.0   32.0   7.0   4.0   2.0   1.0   2.0  2.0   0.0  2.0  ...  0.0  0.0   \n12  204.0   70.0  15.0   6.0   4.0   4.0   6.0  1.0   1.0  1.0  ...  0.0  0.0   \n13  176.0   69.0  25.0  13.0  11.0   5.0   5.0  2.0   0.0  1.0  ...  0.0  0.0   \n14  259.0   53.0   5.0   0.0   2.0   0.0   1.0  1.0   0.0  1.0  ...  1.0  0.0   \n15  257.0  106.0  14.0   0.0   0.0   0.0   0.0  0.0   0.0  0.0  ...  0.0  0.0   \n16  159.0   64.0  13.0   3.0   1.0   1.0  16.0  1.0   3.0  0.0  ...  0.0  0.0   \n17  191.0   53.0  12.0   6.0   9.0  11.0   7.0  4.0   1.0  0.0  ...  0.0  0.0   \n18  228.0   84.0  17.0   6.0   0.0   0.0   0.0  0.0   0.0  0.0  ...  0.0  0.0   \n19  154.0   37.0  24.0   3.0   2.0   3.0   2.0  4.0   1.0  3.0  ...  0.0  0.0   \n20  196.0   64.0   9.0   0.0   0.0   0.0   0.0  0.0   0.0  0.0  ...  0.0  0.0   \n21  143.0   61.0  15.0   4.0   2.0   1.0   5.0  2.0   2.0  0.0  ...  0.0  0.0   \n22  212.0   67.0   5.0   1.0   2.0   1.0  15.0  6.0  10.0  2.0  ...  0.0  0.0   \n23  232.0   59.0  17.0   4.0   0.0   1.0  16.0  2.0   3.0  0.0  ...  0.0  0.0   \n24  203.0   30.0  11.0   3.0   1.0   0.0   1.0  0.0   0.0  0.0  ...  0.0  1.0   \n25  256.0   43.0  28.0   4.0   0.0   0.0   0.0  0.0   0.0  0.0  ...  0.0  0.0   \n26  186.0   43.0   8.0   1.0   2.0   1.0  14.0  3.0   3.0  0.0  ...  0.0  0.0   \n27  224.0   75.0  28.0   7.0   0.0   0.0   1.0  0.0   0.0  0.0  ...  0.0  0.0   \n28  173.0   59.0  11.0   1.0   2.0   1.0  14.0  3.0   3.0  0.0  ...  0.0  0.0   \n29  144.0   63.0   8.0   2.0   1.0   0.0   8.0  3.0   3.0  1.0  ...  0.0  0.0   \n\n     20   21   22   23   24   25   26   27  \n0   1.0  0.0  0.0  0.0  1.0  0.0  0.0  0.0  \n1   0.0  0.0  0.0  0.0  1.0  0.0  0.0  0.0  \n2   0.0  0.0  0.0  0.0  0.0  0.0  0.0  0.0  \n3   0.0  0.0  0.0  0.0  0.0  0.0  0.0  0.0  \n4   0.0  0.0  0.0  0.0  0.0  0.0  0.0  0.0  \n5   0.0  0.0  0.0  0.0  0.0  0.0  0.0  0.0  \n6   0.0  0.0  0.0  0.0  0.0  0.0  0.0  0.0  \n7   0.0  0.0  0.0  0.0  0.0  0.0  0.0  0.0  \n8   0.0  0.0  1.0  0.0  0.0  0.0  0.0  0.0  \n9   0.0  0.0  0.0  0.0  0.0  0.0  0.0  0.0  \n10  0.0  0.0  0.0  0.0  0.0  0.0  0.0  0.0  \n11  0.0  0.0  0.0  0.0  0.0  0.0  0.0  0.0  \n12  0.0  0.0  0.0  0.0  0.0  0.0  0.0  0.0  \n13  0.0  0.0  0.0  0.0  0.0  0.0  0.0  0.0  \n14  1.0  1.0  0.0  0.0  0.0  0.0  0.0  0.0  \n15  0.0  0.0  0.0  0.0  0.0  0.0  0.0  0.0  \n16  0.0  0.0  0.0  0.0  0.0  0.0  0.0  0.0  \n17  0.0  0.0  0.0  0.0  0.0  0.0  0.0  0.0  \n18  0.0  0.0  0.0  0.0  0.0  0.0  0.0  0.0  \n19  0.0  0.0  0.0  0.0  2.0  0.0  0.0  0.0  \n20  0.0  0.0  0.0  0.0  0.0  0.0  0.0  0.0  \n21  0.0  0.0  0.0  0.0  0.0  0.0  0.0  0.0  \n22  0.0  0.0  0.0  0.0  0.0  0.0  0.0  0.0  \n23  0.0  0.0  0.0  0.0  0.0  0.0  0.0  0.0  \n24  0.0  1.0  0.0  0.0  0.0  0.0  0.0  0.0  \n25  0.0  0.0  0.0  0.0  0.0  0.0  0.0  0.0  \n26  0.0  0.0  0.0  0.0  0.0  0.0  0.0  0.0  \n27  0.0  0.0  0.0  0.0  0.0  0.0  1.0  1.0  \n28  0.0  0.0  0.0  0.0  0.0  0.0  0.0  0.0  \n29  0.0  0.0  0.0  0.0  0.0  0.0  0.0  0.0  \n\n[30 rows x 27 columns]",
      "text/html": "<div>\n<style scoped>\n    .dataframe tbody tr th:only-of-type {\n        vertical-align: middle;\n    }\n\n    .dataframe tbody tr th {\n        vertical-align: top;\n    }\n\n    .dataframe thead th {\n        text-align: right;\n    }\n</style>\n<table border=\"1\" class=\"dataframe\">\n  <thead>\n    <tr style=\"text-align: right;\">\n      <th></th>\n      <th>1</th>\n      <th>2</th>\n      <th>3</th>\n      <th>4</th>\n      <th>5</th>\n      <th>6</th>\n      <th>7</th>\n      <th>8</th>\n      <th>9</th>\n      <th>10</th>\n      <th>...</th>\n      <th>18</th>\n      <th>19</th>\n      <th>20</th>\n      <th>21</th>\n      <th>22</th>\n      <th>23</th>\n      <th>24</th>\n      <th>25</th>\n      <th>26</th>\n      <th>27</th>\n    </tr>\n  </thead>\n  <tbody>\n    <tr>\n      <th>0</th>\n      <td>157.0</td>\n      <td>68.0</td>\n      <td>12.0</td>\n      <td>2.0</td>\n      <td>2.0</td>\n      <td>3.0</td>\n      <td>5.0</td>\n      <td>3.0</td>\n      <td>0.0</td>\n      <td>0.0</td>\n      <td>...</td>\n      <td>0.0</td>\n      <td>0.0</td>\n      <td>1.0</td>\n      <td>0.0</td>\n      <td>0.0</td>\n      <td>0.0</td>\n      <td>1.0</td>\n      <td>0.0</td>\n      <td>0.0</td>\n      <td>0.0</td>\n    </tr>\n    <tr>\n      <th>1</th>\n      <td>193.0</td>\n      <td>68.0</td>\n      <td>10.0</td>\n      <td>0.0</td>\n      <td>1.0</td>\n      <td>0.0</td>\n      <td>5.0</td>\n      <td>2.0</td>\n      <td>0.0</td>\n      <td>0.0</td>\n      <td>...</td>\n      <td>0.0</td>\n      <td>1.0</td>\n      <td>0.0</td>\n      <td>0.0</td>\n      <td>0.0</td>\n      <td>0.0</td>\n      <td>1.0</td>\n      <td>0.0</td>\n      <td>0.0</td>\n      <td>0.0</td>\n    </tr>\n    <tr>\n      <th>2</th>\n      <td>214.0</td>\n      <td>80.0</td>\n      <td>9.0</td>\n      <td>2.0</td>\n      <td>1.0</td>\n      <td>0.0</td>\n      <td>3.0</td>\n      <td>2.0</td>\n      <td>6.0</td>\n      <td>1.0</td>\n      <td>...</td>\n      <td>0.0</td>\n      <td>0.0</td>\n      <td>0.0</td>\n      <td>0.0</td>\n      <td>0.0</td>\n      <td>0.0</td>\n      <td>0.0</td>\n      <td>0.0</td>\n      <td>0.0</td>\n      <td>0.0</td>\n    </tr>\n    <tr>\n      <th>3</th>\n      <td>150.0</td>\n      <td>45.0</td>\n      <td>17.0</td>\n      <td>5.0</td>\n      <td>2.0</td>\n      <td>0.0</td>\n      <td>0.0</td>\n      <td>0.0</td>\n      <td>0.0</td>\n      <td>0.0</td>\n      <td>...</td>\n      <td>0.0</td>\n      <td>0.0</td>\n      <td>0.0</td>\n      <td>0.0</td>\n      <td>0.0</td>\n      <td>0.0</td>\n      <td>0.0</td>\n      <td>0.0</td>\n      <td>0.0</td>\n      <td>0.0</td>\n    </tr>\n    <tr>\n      <th>4</th>\n      <td>116.0</td>\n      <td>64.0</td>\n      <td>10.0</td>\n      <td>17.0</td>\n      <td>6.0</td>\n      <td>4.0</td>\n      <td>1.0</td>\n      <td>0.0</td>\n      <td>0.0</td>\n      <td>0.0</td>\n      <td>...</td>\n      <td>0.0</td>\n      <td>0.0</td>\n      <td>0.0</td>\n      <td>0.0</td>\n      <td>0.0</td>\n      <td>0.0</td>\n      <td>0.0</td>\n      <td>0.0</td>\n      <td>0.0</td>\n      <td>0.0</td>\n    </tr>\n    <tr>\n      <th>5</th>\n      <td>168.0</td>\n      <td>72.0</td>\n      <td>14.0</td>\n      <td>5.0</td>\n      <td>1.0</td>\n      <td>1.0</td>\n      <td>0.0</td>\n      <td>2.0</td>\n      <td>1.0</td>\n      <td>2.0</td>\n      <td>...</td>\n      <td>0.0</td>\n      <td>0.0</td>\n      <td>0.0</td>\n      <td>0.0</td>\n      <td>0.0</td>\n      <td>0.0</td>\n      <td>0.0</td>\n      <td>0.0</td>\n      <td>0.0</td>\n      <td>0.0</td>\n    </tr>\n    <tr>\n      <th>6</th>\n      <td>191.0</td>\n      <td>50.0</td>\n      <td>39.0</td>\n      <td>4.0</td>\n      <td>5.0</td>\n      <td>3.0</td>\n      <td>2.0</td>\n      <td>0.0</td>\n      <td>0.0</td>\n      <td>0.0</td>\n      <td>...</td>\n      <td>0.0</td>\n      <td>0.0</td>\n      <td>0.0</td>\n      <td>0.0</td>\n      <td>0.0</td>\n      <td>0.0</td>\n      <td>0.0</td>\n      <td>0.0</td>\n      <td>0.0</td>\n      <td>0.0</td>\n    </tr>\n    <tr>\n      <th>7</th>\n      <td>198.0</td>\n      <td>74.0</td>\n      <td>20.0</td>\n      <td>5.0</td>\n      <td>1.0</td>\n      <td>0.0</td>\n      <td>8.0</td>\n      <td>3.0</td>\n      <td>2.0</td>\n      <td>2.0</td>\n      <td>...</td>\n      <td>0.0</td>\n      <td>0.0</td>\n      <td>0.0</td>\n      <td>0.0</td>\n      <td>0.0</td>\n      <td>0.0</td>\n      <td>0.0</td>\n      <td>0.0</td>\n      <td>0.0</td>\n      <td>0.0</td>\n    </tr>\n    <tr>\n      <th>8</th>\n      <td>141.0</td>\n      <td>45.0</td>\n      <td>18.0</td>\n      <td>9.0</td>\n      <td>1.0</td>\n      <td>8.0</td>\n      <td>15.0</td>\n      <td>2.0</td>\n      <td>2.0</td>\n      <td>0.0</td>\n      <td>...</td>\n      <td>0.0</td>\n      <td>0.0</td>\n      <td>0.0</td>\n      <td>0.0</td>\n      <td>1.0</td>\n      <td>0.0</td>\n      <td>0.0</td>\n      <td>0.0</td>\n      <td>0.0</td>\n      <td>0.0</td>\n    </tr>\n    <tr>\n      <th>9</th>\n      <td>214.0</td>\n      <td>45.0</td>\n      <td>2.0</td>\n      <td>0.0</td>\n      <td>0.0</td>\n      <td>0.0</td>\n      <td>1.0</td>\n      <td>3.0</td>\n      <td>7.0</td>\n      <td>2.0</td>\n      <td>...</td>\n      <td>0.0</td>\n      <td>0.0</td>\n      <td>0.0</td>\n      <td>0.0</td>\n      <td>0.0</td>\n      <td>0.0</td>\n      <td>0.0</td>\n      <td>0.0</td>\n      <td>0.0</td>\n      <td>0.0</td>\n    </tr>\n    <tr>\n      <th>10</th>\n      <td>188.0</td>\n      <td>99.0</td>\n      <td>21.0</td>\n      <td>1.0</td>\n      <td>4.0</td>\n      <td>0.0</td>\n      <td>4.0</td>\n      <td>5.0</td>\n      <td>3.0</td>\n      <td>1.0</td>\n      <td>...</td>\n      <td>0.0</td>\n      <td>0.0</td>\n      <td>0.0</td>\n      <td>0.0</td>\n      <td>0.0</td>\n      <td>0.0</td>\n      <td>0.0</td>\n      <td>0.0</td>\n      <td>0.0</td>\n      <td>0.0</td>\n    </tr>\n    <tr>\n      <th>11</th>\n      <td>182.0</td>\n      <td>32.0</td>\n      <td>7.0</td>\n      <td>4.0</td>\n      <td>2.0</td>\n      <td>1.0</td>\n      <td>2.0</td>\n      <td>2.0</td>\n      <td>0.0</td>\n      <td>2.0</td>\n      <td>...</td>\n      <td>0.0</td>\n      <td>0.0</td>\n      <td>0.0</td>\n      <td>0.0</td>\n      <td>0.0</td>\n      <td>0.0</td>\n      <td>0.0</td>\n      <td>0.0</td>\n      <td>0.0</td>\n      <td>0.0</td>\n    </tr>\n    <tr>\n      <th>12</th>\n      <td>204.0</td>\n      <td>70.0</td>\n      <td>15.0</td>\n      <td>6.0</td>\n      <td>4.0</td>\n      <td>4.0</td>\n      <td>6.0</td>\n      <td>1.0</td>\n      <td>1.0</td>\n      <td>1.0</td>\n      <td>...</td>\n      <td>0.0</td>\n      <td>0.0</td>\n      <td>0.0</td>\n      <td>0.0</td>\n      <td>0.0</td>\n      <td>0.0</td>\n      <td>0.0</td>\n      <td>0.0</td>\n      <td>0.0</td>\n      <td>0.0</td>\n    </tr>\n    <tr>\n      <th>13</th>\n      <td>176.0</td>\n      <td>69.0</td>\n      <td>25.0</td>\n      <td>13.0</td>\n      <td>11.0</td>\n      <td>5.0</td>\n      <td>5.0</td>\n      <td>2.0</td>\n      <td>0.0</td>\n      <td>1.0</td>\n      <td>...</td>\n      <td>0.0</td>\n      <td>0.0</td>\n      <td>0.0</td>\n      <td>0.0</td>\n      <td>0.0</td>\n      <td>0.0</td>\n      <td>0.0</td>\n      <td>0.0</td>\n      <td>0.0</td>\n      <td>0.0</td>\n    </tr>\n    <tr>\n      <th>14</th>\n      <td>259.0</td>\n      <td>53.0</td>\n      <td>5.0</td>\n      <td>0.0</td>\n      <td>2.0</td>\n      <td>0.0</td>\n      <td>1.0</td>\n      <td>1.0</td>\n      <td>0.0</td>\n      <td>1.0</td>\n      <td>...</td>\n      <td>1.0</td>\n      <td>0.0</td>\n      <td>1.0</td>\n      <td>1.0</td>\n      <td>0.0</td>\n      <td>0.0</td>\n      <td>0.0</td>\n      <td>0.0</td>\n      <td>0.0</td>\n      <td>0.0</td>\n    </tr>\n    <tr>\n      <th>15</th>\n      <td>257.0</td>\n      <td>106.0</td>\n      <td>14.0</td>\n      <td>0.0</td>\n      <td>0.0</td>\n      <td>0.0</td>\n      <td>0.0</td>\n      <td>0.0</td>\n      <td>0.0</td>\n      <td>0.0</td>\n      <td>...</td>\n      <td>0.0</td>\n      <td>0.0</td>\n      <td>0.0</td>\n      <td>0.0</td>\n      <td>0.0</td>\n      <td>0.0</td>\n      <td>0.0</td>\n      <td>0.0</td>\n      <td>0.0</td>\n      <td>0.0</td>\n    </tr>\n    <tr>\n      <th>16</th>\n      <td>159.0</td>\n      <td>64.0</td>\n      <td>13.0</td>\n      <td>3.0</td>\n      <td>1.0</td>\n      <td>1.0</td>\n      <td>16.0</td>\n      <td>1.0</td>\n      <td>3.0</td>\n      <td>0.0</td>\n      <td>...</td>\n      <td>0.0</td>\n      <td>0.0</td>\n      <td>0.0</td>\n      <td>0.0</td>\n      <td>0.0</td>\n      <td>0.0</td>\n      <td>0.0</td>\n      <td>0.0</td>\n      <td>0.0</td>\n      <td>0.0</td>\n    </tr>\n    <tr>\n      <th>17</th>\n      <td>191.0</td>\n      <td>53.0</td>\n      <td>12.0</td>\n      <td>6.0</td>\n      <td>9.0</td>\n      <td>11.0</td>\n      <td>7.0</td>\n      <td>4.0</td>\n      <td>1.0</td>\n      <td>0.0</td>\n      <td>...</td>\n      <td>0.0</td>\n      <td>0.0</td>\n      <td>0.0</td>\n      <td>0.0</td>\n      <td>0.0</td>\n      <td>0.0</td>\n      <td>0.0</td>\n      <td>0.0</td>\n      <td>0.0</td>\n      <td>0.0</td>\n    </tr>\n    <tr>\n      <th>18</th>\n      <td>228.0</td>\n      <td>84.0</td>\n      <td>17.0</td>\n      <td>6.0</td>\n      <td>0.0</td>\n      <td>0.0</td>\n      <td>0.0</td>\n      <td>0.0</td>\n      <td>0.0</td>\n      <td>0.0</td>\n      <td>...</td>\n      <td>0.0</td>\n      <td>0.0</td>\n      <td>0.0</td>\n      <td>0.0</td>\n      <td>0.0</td>\n      <td>0.0</td>\n      <td>0.0</td>\n      <td>0.0</td>\n      <td>0.0</td>\n      <td>0.0</td>\n    </tr>\n    <tr>\n      <th>19</th>\n      <td>154.0</td>\n      <td>37.0</td>\n      <td>24.0</td>\n      <td>3.0</td>\n      <td>2.0</td>\n      <td>3.0</td>\n      <td>2.0</td>\n      <td>4.0</td>\n      <td>1.0</td>\n      <td>3.0</td>\n      <td>...</td>\n      <td>0.0</td>\n      <td>0.0</td>\n      <td>0.0</td>\n      <td>0.0</td>\n      <td>0.0</td>\n      <td>0.0</td>\n      <td>2.0</td>\n      <td>0.0</td>\n      <td>0.0</td>\n      <td>0.0</td>\n    </tr>\n    <tr>\n      <th>20</th>\n      <td>196.0</td>\n      <td>64.0</td>\n      <td>9.0</td>\n      <td>0.0</td>\n      <td>0.0</td>\n      <td>0.0</td>\n      <td>0.0</td>\n      <td>0.0</td>\n      <td>0.0</td>\n      <td>0.0</td>\n      <td>...</td>\n      <td>0.0</td>\n      <td>0.0</td>\n      <td>0.0</td>\n      <td>0.0</td>\n      <td>0.0</td>\n      <td>0.0</td>\n      <td>0.0</td>\n      <td>0.0</td>\n      <td>0.0</td>\n      <td>0.0</td>\n    </tr>\n    <tr>\n      <th>21</th>\n      <td>143.0</td>\n      <td>61.0</td>\n      <td>15.0</td>\n      <td>4.0</td>\n      <td>2.0</td>\n      <td>1.0</td>\n      <td>5.0</td>\n      <td>2.0</td>\n      <td>2.0</td>\n      <td>0.0</td>\n      <td>...</td>\n      <td>0.0</td>\n      <td>0.0</td>\n      <td>0.0</td>\n      <td>0.0</td>\n      <td>0.0</td>\n      <td>0.0</td>\n      <td>0.0</td>\n      <td>0.0</td>\n      <td>0.0</td>\n      <td>0.0</td>\n    </tr>\n    <tr>\n      <th>22</th>\n      <td>212.0</td>\n      <td>67.0</td>\n      <td>5.0</td>\n      <td>1.0</td>\n      <td>2.0</td>\n      <td>1.0</td>\n      <td>15.0</td>\n      <td>6.0</td>\n      <td>10.0</td>\n      <td>2.0</td>\n      <td>...</td>\n      <td>0.0</td>\n      <td>0.0</td>\n      <td>0.0</td>\n      <td>0.0</td>\n      <td>0.0</td>\n      <td>0.0</td>\n      <td>0.0</td>\n      <td>0.0</td>\n      <td>0.0</td>\n      <td>0.0</td>\n    </tr>\n    <tr>\n      <th>23</th>\n      <td>232.0</td>\n      <td>59.0</td>\n      <td>17.0</td>\n      <td>4.0</td>\n      <td>0.0</td>\n      <td>1.0</td>\n      <td>16.0</td>\n      <td>2.0</td>\n      <td>3.0</td>\n      <td>0.0</td>\n      <td>...</td>\n      <td>0.0</td>\n      <td>0.0</td>\n      <td>0.0</td>\n      <td>0.0</td>\n      <td>0.0</td>\n      <td>0.0</td>\n      <td>0.0</td>\n      <td>0.0</td>\n      <td>0.0</td>\n      <td>0.0</td>\n    </tr>\n    <tr>\n      <th>24</th>\n      <td>203.0</td>\n      <td>30.0</td>\n      <td>11.0</td>\n      <td>3.0</td>\n      <td>1.0</td>\n      <td>0.0</td>\n      <td>1.0</td>\n      <td>0.0</td>\n      <td>0.0</td>\n      <td>0.0</td>\n      <td>...</td>\n      <td>0.0</td>\n      <td>1.0</td>\n      <td>0.0</td>\n      <td>1.0</td>\n      <td>0.0</td>\n      <td>0.0</td>\n      <td>0.0</td>\n      <td>0.0</td>\n      <td>0.0</td>\n      <td>0.0</td>\n    </tr>\n    <tr>\n      <th>25</th>\n      <td>256.0</td>\n      <td>43.0</td>\n      <td>28.0</td>\n      <td>4.0</td>\n      <td>0.0</td>\n      <td>0.0</td>\n      <td>0.0</td>\n      <td>0.0</td>\n      <td>0.0</td>\n      <td>0.0</td>\n      <td>...</td>\n      <td>0.0</td>\n      <td>0.0</td>\n      <td>0.0</td>\n      <td>0.0</td>\n      <td>0.0</td>\n      <td>0.0</td>\n      <td>0.0</td>\n      <td>0.0</td>\n      <td>0.0</td>\n      <td>0.0</td>\n    </tr>\n    <tr>\n      <th>26</th>\n      <td>186.0</td>\n      <td>43.0</td>\n      <td>8.0</td>\n      <td>1.0</td>\n      <td>2.0</td>\n      <td>1.0</td>\n      <td>14.0</td>\n      <td>3.0</td>\n      <td>3.0</td>\n      <td>0.0</td>\n      <td>...</td>\n      <td>0.0</td>\n      <td>0.0</td>\n      <td>0.0</td>\n      <td>0.0</td>\n      <td>0.0</td>\n      <td>0.0</td>\n      <td>0.0</td>\n      <td>0.0</td>\n      <td>0.0</td>\n      <td>0.0</td>\n    </tr>\n    <tr>\n      <th>27</th>\n      <td>224.0</td>\n      <td>75.0</td>\n      <td>28.0</td>\n      <td>7.0</td>\n      <td>0.0</td>\n      <td>0.0</td>\n      <td>1.0</td>\n      <td>0.0</td>\n      <td>0.0</td>\n      <td>0.0</td>\n      <td>...</td>\n      <td>0.0</td>\n      <td>0.0</td>\n      <td>0.0</td>\n      <td>0.0</td>\n      <td>0.0</td>\n      <td>0.0</td>\n      <td>0.0</td>\n      <td>0.0</td>\n      <td>1.0</td>\n      <td>1.0</td>\n    </tr>\n    <tr>\n      <th>28</th>\n      <td>173.0</td>\n      <td>59.0</td>\n      <td>11.0</td>\n      <td>1.0</td>\n      <td>2.0</td>\n      <td>1.0</td>\n      <td>14.0</td>\n      <td>3.0</td>\n      <td>3.0</td>\n      <td>0.0</td>\n      <td>...</td>\n      <td>0.0</td>\n      <td>0.0</td>\n      <td>0.0</td>\n      <td>0.0</td>\n      <td>0.0</td>\n      <td>0.0</td>\n      <td>0.0</td>\n      <td>0.0</td>\n      <td>0.0</td>\n      <td>0.0</td>\n    </tr>\n    <tr>\n      <th>29</th>\n      <td>144.0</td>\n      <td>63.0</td>\n      <td>8.0</td>\n      <td>2.0</td>\n      <td>1.0</td>\n      <td>0.0</td>\n      <td>8.0</td>\n      <td>3.0</td>\n      <td>3.0</td>\n      <td>1.0</td>\n      <td>...</td>\n      <td>0.0</td>\n      <td>0.0</td>\n      <td>0.0</td>\n      <td>0.0</td>\n      <td>0.0</td>\n      <td>0.0</td>\n      <td>0.0</td>\n      <td>0.0</td>\n      <td>0.0</td>\n      <td>0.0</td>\n    </tr>\n  </tbody>\n</table>\n<p>30 rows × 27 columns</p>\n</div>"
     },
     "execution_count": 4,
     "metadata": {},
     "output_type": "execute_result"
    }
   ],
   "source": [
    "alternative_count_list = []\n",
    "\n",
    "for d in datasets:\n",
    "    number_of_repairs = len(d.correction_collection)\n",
    "    number_of_repairs_hist = dict()\n",
    "\n",
    "    for cell_repairs in d.correction_collection.values():\n",
    "        num = len(cell_repairs)\n",
    "        number_of_repairs_hist[num] = number_of_repairs_hist.get(num, 0) + 1\n",
    "\n",
    "    hist = [0] * (max(number_of_repairs_hist.keys()) + 1)\n",
    "    for num, count in number_of_repairs_hist.items():\n",
    "        hist[num] = count\n",
    "\n",
    "    alternative_count_list.append(number_of_repairs_hist)\n",
    "\n",
    "    #print(f\"Histogram of the number of alternative repairs: {list(enumerate(hist))}\")\n",
    "\n",
    "max_alternatives = max(max(h.keys()) for h in alternative_count_list)\n",
    "\n",
    "alternative_count_df = pandas.DataFrame(columns=list(range(max_alternatives + 1)))\n",
    "\n",
    "for hist in alternative_count_list:\n",
    "    alternative_count_df = alternative_count_df.append(hist, ignore_index=True)\n",
    "\n",
    "alternative_count_df.drop(0,axis=1,inplace=True)\n",
    "alternative_count_df = alternative_count_df.fillna(0)\n",
    "alternative_count_df"
   ],
   "metadata": {
    "collapsed": false,
    "pycharm": {
     "name": "#%%\n"
    }
   }
  },
  {
   "cell_type": "code",
   "execution_count": 5,
   "outputs": [
    {
     "data": {
      "text/plain": "mean    1.811622\nstd     0.331050\nmin     1.304833\nmax     2.732558\ndtype: float64"
     },
     "execution_count": 5,
     "metadata": {},
     "output_type": "execute_result"
    }
   ],
   "source": [
    "mean_number_of_repairs = (alternative_count_df * np.arange(1,max_alternatives+1,1)).sum(axis=1) / alternative_count_df.sum(axis=1)\n",
    "mean_number_of_repairs.agg([\"mean\", \"std\", \"min\", \"max\"])"
   ],
   "metadata": {
    "collapsed": false,
    "pycharm": {
     "name": "#%%\n"
    }
   }
  },
  {
   "cell_type": "code",
   "execution_count": 6,
   "outputs": [
    {
     "data": {
      "text/plain": "mean    0.339243\nstd     0.068931\nmin     0.191235\nmax     0.467890\ndtype: float64"
     },
     "execution_count": 6,
     "metadata": {},
     "output_type": "execute_result"
    }
   ],
   "source": [
    "more_than_one = alternative_count_df.loc[:, alternative_count_df.columns[1:]].sum(axis=1) / alternative_count_df.sum(axis=1)\n",
    "more_than_one.agg([\"mean\", \"std\", \"min\", \"max\"])"
   ],
   "metadata": {
    "collapsed": false,
    "pycharm": {
     "name": "#%%\n"
    }
   }
  },
  {
   "cell_type": "code",
   "execution_count": 7,
   "outputs": [
    {
     "name": "stdout",
     "output_type": "stream",
     "text": [
      "Mean number of cells with x predicted alternatives in 10 runs\n"
     ]
    },
    {
     "data": {
      "text/plain": "1     190.300000\n2      61.400000\n3      14.800000\n4       3.933333\n5       2.166667\n6       1.633333\n7       5.233333\n8       1.866667\n9       1.700000\n10      0.633333\n11      0.800000\n12      0.833333\n13      0.533333\n14      0.633333\n15      0.200000\n16      0.100000\n17      0.166667\n18      0.033333\n19      0.066667\n20      0.066667\n21      0.066667\n22      0.033333\n23      0.000000\n24      0.133333\n25      0.000000\n26      0.033333\n27      0.033333\ndtype: float64"
     },
     "execution_count": 7,
     "metadata": {},
     "output_type": "execute_result"
    }
   ],
   "source": [
    "print(\"Mean number of cells with x predicted alternatives in 10 runs\")\n",
    "mean_count_series = alternative_count_df.mean()\n",
    "mean_count_series"
   ],
   "metadata": {
    "collapsed": false,
    "pycharm": {
     "name": "#%%\n"
    }
   }
  },
  {
   "cell_type": "code",
   "execution_count": 8,
   "outputs": [
    {
     "data": {
      "text/plain": "          repairs     alt_all   alt_rate     errors  error_rate  \\\ncount   30.000000   30.000000  30.000000  30.000000   30.000000   \nmean   287.400000   89.766667   0.314630  52.666667    0.173539   \nstd     42.797518   20.183099   0.065844  17.885331    0.058291   \nmin    218.000000   48.000000   0.167173  15.000000    0.055351   \n25%    252.250000   74.500000   0.273058  41.500000    0.131680   \n50%    287.000000   94.500000   0.322409  51.500000    0.172351   \n75%    327.250000  102.750000   0.355993  63.000000    0.214162   \nmax    377.000000  126.000000   0.440367  81.000000    0.284173   \n\n       wrong_detection  alt_if_error  correct_in_alt  highest_alternative  \\\ncount        30.000000     30.000000       30.000000            30.000000   \nmean         14.266667     47.400000       35.266667            25.533333   \nstd          20.619598     16.506216       16.669057            15.393087   \nmin           0.000000      7.000000        4.000000             0.000000   \n25%           3.500000     38.500000       26.000000            13.000000   \n50%          12.000000     47.000000       37.000000            26.500000   \n75%          16.000000     60.000000       48.500000            39.500000   \nmax         113.000000     75.000000       61.000000            53.000000   \n\n       only_alternative  higher_chosen  error_alt_avail  correct_alt_avail  \\\ncount         30.000000      30.000000        30.000000          30.000000   \nmean          25.233333       0.066667         0.891611           0.648265   \nstd           15.433245       0.253708         0.127462           0.234825   \nmin            0.000000       0.000000         0.466667           0.121951   \n25%           12.250000       0.000000         0.875386           0.557971   \n50%           26.000000       0.000000         0.950874           0.666667   \n75%           39.500000       0.000000         0.973193           0.794792   \nmax           53.000000       1.000000         1.000000           1.000000   \n\n       highest_if_avail  only_if_avail  highest_if_error  highest_is_correct  \\\ncount         30.000000      30.000000         30.000000           30.000000   \nmean           0.669010       0.659560          0.455532            0.274216   \nstd            0.244907       0.246126          0.237499            0.158639   \nmin            0.000000       0.000000          0.000000            0.000000   \n25%            0.502365       0.502365          0.294909            0.154641   \n50%            0.754310       0.754310          0.484096            0.287105   \n75%            0.842353       0.836897          0.612573            0.382214   \nmax            0.981481       0.981481          0.914894            0.589041   \n\n       higher_percentage  \ncount          30.000000  \nmean            0.001183  \nstd             0.004528  \nmin             0.000000  \n25%             0.000000  \n50%             0.000000  \n75%             0.000000  \nmax             0.019608  ",
      "text/html": "<div>\n<style scoped>\n    .dataframe tbody tr th:only-of-type {\n        vertical-align: middle;\n    }\n\n    .dataframe tbody tr th {\n        vertical-align: top;\n    }\n\n    .dataframe thead th {\n        text-align: right;\n    }\n</style>\n<table border=\"1\" class=\"dataframe\">\n  <thead>\n    <tr style=\"text-align: right;\">\n      <th></th>\n      <th>repairs</th>\n      <th>alt_all</th>\n      <th>alt_rate</th>\n      <th>errors</th>\n      <th>error_rate</th>\n      <th>wrong_detection</th>\n      <th>alt_if_error</th>\n      <th>correct_in_alt</th>\n      <th>highest_alternative</th>\n      <th>only_alternative</th>\n      <th>higher_chosen</th>\n      <th>error_alt_avail</th>\n      <th>correct_alt_avail</th>\n      <th>highest_if_avail</th>\n      <th>only_if_avail</th>\n      <th>highest_if_error</th>\n      <th>highest_is_correct</th>\n      <th>higher_percentage</th>\n    </tr>\n  </thead>\n  <tbody>\n    <tr>\n      <th>count</th>\n      <td>30.000000</td>\n      <td>30.000000</td>\n      <td>30.000000</td>\n      <td>30.000000</td>\n      <td>30.000000</td>\n      <td>30.000000</td>\n      <td>30.000000</td>\n      <td>30.000000</td>\n      <td>30.000000</td>\n      <td>30.000000</td>\n      <td>30.000000</td>\n      <td>30.000000</td>\n      <td>30.000000</td>\n      <td>30.000000</td>\n      <td>30.000000</td>\n      <td>30.000000</td>\n      <td>30.000000</td>\n      <td>30.000000</td>\n    </tr>\n    <tr>\n      <th>mean</th>\n      <td>287.400000</td>\n      <td>89.766667</td>\n      <td>0.314630</td>\n      <td>52.666667</td>\n      <td>0.173539</td>\n      <td>14.266667</td>\n      <td>47.400000</td>\n      <td>35.266667</td>\n      <td>25.533333</td>\n      <td>25.233333</td>\n      <td>0.066667</td>\n      <td>0.891611</td>\n      <td>0.648265</td>\n      <td>0.669010</td>\n      <td>0.659560</td>\n      <td>0.455532</td>\n      <td>0.274216</td>\n      <td>0.001183</td>\n    </tr>\n    <tr>\n      <th>std</th>\n      <td>42.797518</td>\n      <td>20.183099</td>\n      <td>0.065844</td>\n      <td>17.885331</td>\n      <td>0.058291</td>\n      <td>20.619598</td>\n      <td>16.506216</td>\n      <td>16.669057</td>\n      <td>15.393087</td>\n      <td>15.433245</td>\n      <td>0.253708</td>\n      <td>0.127462</td>\n      <td>0.234825</td>\n      <td>0.244907</td>\n      <td>0.246126</td>\n      <td>0.237499</td>\n      <td>0.158639</td>\n      <td>0.004528</td>\n    </tr>\n    <tr>\n      <th>min</th>\n      <td>218.000000</td>\n      <td>48.000000</td>\n      <td>0.167173</td>\n      <td>15.000000</td>\n      <td>0.055351</td>\n      <td>0.000000</td>\n      <td>7.000000</td>\n      <td>4.000000</td>\n      <td>0.000000</td>\n      <td>0.000000</td>\n      <td>0.000000</td>\n      <td>0.466667</td>\n      <td>0.121951</td>\n      <td>0.000000</td>\n      <td>0.000000</td>\n      <td>0.000000</td>\n      <td>0.000000</td>\n      <td>0.000000</td>\n    </tr>\n    <tr>\n      <th>25%</th>\n      <td>252.250000</td>\n      <td>74.500000</td>\n      <td>0.273058</td>\n      <td>41.500000</td>\n      <td>0.131680</td>\n      <td>3.500000</td>\n      <td>38.500000</td>\n      <td>26.000000</td>\n      <td>13.000000</td>\n      <td>12.250000</td>\n      <td>0.000000</td>\n      <td>0.875386</td>\n      <td>0.557971</td>\n      <td>0.502365</td>\n      <td>0.502365</td>\n      <td>0.294909</td>\n      <td>0.154641</td>\n      <td>0.000000</td>\n    </tr>\n    <tr>\n      <th>50%</th>\n      <td>287.000000</td>\n      <td>94.500000</td>\n      <td>0.322409</td>\n      <td>51.500000</td>\n      <td>0.172351</td>\n      <td>12.000000</td>\n      <td>47.000000</td>\n      <td>37.000000</td>\n      <td>26.500000</td>\n      <td>26.000000</td>\n      <td>0.000000</td>\n      <td>0.950874</td>\n      <td>0.666667</td>\n      <td>0.754310</td>\n      <td>0.754310</td>\n      <td>0.484096</td>\n      <td>0.287105</td>\n      <td>0.000000</td>\n    </tr>\n    <tr>\n      <th>75%</th>\n      <td>327.250000</td>\n      <td>102.750000</td>\n      <td>0.355993</td>\n      <td>63.000000</td>\n      <td>0.214162</td>\n      <td>16.000000</td>\n      <td>60.000000</td>\n      <td>48.500000</td>\n      <td>39.500000</td>\n      <td>39.500000</td>\n      <td>0.000000</td>\n      <td>0.973193</td>\n      <td>0.794792</td>\n      <td>0.842353</td>\n      <td>0.836897</td>\n      <td>0.612573</td>\n      <td>0.382214</td>\n      <td>0.000000</td>\n    </tr>\n    <tr>\n      <th>max</th>\n      <td>377.000000</td>\n      <td>126.000000</td>\n      <td>0.440367</td>\n      <td>81.000000</td>\n      <td>0.284173</td>\n      <td>113.000000</td>\n      <td>75.000000</td>\n      <td>61.000000</td>\n      <td>53.000000</td>\n      <td>53.000000</td>\n      <td>1.000000</td>\n      <td>1.000000</td>\n      <td>1.000000</td>\n      <td>0.981481</td>\n      <td>0.981481</td>\n      <td>0.914894</td>\n      <td>0.589041</td>\n      <td>0.019608</td>\n    </tr>\n  </tbody>\n</table>\n</div>"
     },
     "execution_count": 8,
     "metadata": {},
     "output_type": "execute_result"
    }
   ],
   "source": [
    "correct_repairs = datasets[0].get_actual_errors_dictionary()\n",
    "\n",
    "collection = []\n",
    "correct_repair_probs = []\n",
    "incorrect_repair_probs = []\n",
    "other_repair_probs = []\n",
    "\n",
    "for d in datasets:\n",
    "\n",
    "    wrong_detection = 0\n",
    "    alt_available_all = 0\n",
    "\n",
    "    for cell, repairs in d.correction_collection.items():\n",
    "        if cell in correct_repairs:\n",
    "            if len(repairs) > 1:\n",
    "                alt_available_all += 1\n",
    "        else:\n",
    "            wrong_detection += 1\n",
    "\n",
    "    alt_rate = alt_available_all / len(d.correction_collection)\n",
    "\n",
    "    error_repaired_cells = [cell for cell, correction in d.corrected_cells.items() if cell in correct_repairs and correction != correct_repairs[cell]]\n",
    "    #print(f\"Number of incorrectly repaired cells: {len(error_repaired_cells)}\")\n",
    "\n",
    "    error_rate = len(error_repaired_cells) / len(d.corrected_cells)\n",
    "    alt_available = 0\n",
    "    correct_repair_available = 0\n",
    "    correct_repair_only = 0\n",
    "    correct_repair_highest = 0\n",
    "    correct_repair_better_chosen = 0\n",
    "\n",
    "    for cell in error_repaired_cells:\n",
    "        assert len(d.correction_collection[cell]) > 0\n",
    "        if len(d.correction_collection[cell]) > 1:\n",
    "            alt_available += 1\n",
    "        if correct_repairs[cell] in d.correction_collection[cell].keys():\n",
    "            correct_repair_available += 1\n",
    "            other_repairs = d.correction_collection[cell].copy()\n",
    "            other_repairs.pop(d.corrected_cells[cell], None)\n",
    "            other_repairs.pop(correct_repairs[cell], None)\n",
    "            if len(other_repairs) == 0:\n",
    "                correct_repair_only += 1\n",
    "            if d.correction_collection[cell][correct_repairs[cell]] > max(list(other_repairs.values()) + [0]):\n",
    "                correct_repair_highest += 1\n",
    "                if d.correction_collection[cell][correct_repairs[cell]] > d.correction_collection[cell][d.corrected_cells[cell]]:\n",
    "                    correct_repair_better_chosen += 1\n",
    "\n",
    "    #print(f\"Number of incorrectly repaired cells, where the correct repair is among the alternative repairs: {correct_repair_available}\")\n",
    "\n",
    "    collection.append((len(d.correction_collection),\n",
    "                       alt_available_all,\n",
    "                       alt_rate,\n",
    "                       len(error_repaired_cells),\n",
    "                       error_rate,\n",
    "                       wrong_detection,\n",
    "                       alt_available,\n",
    "                       correct_repair_available,\n",
    "                       correct_repair_highest,\n",
    "                       correct_repair_only,\n",
    "                       correct_repair_better_chosen))\n",
    "\n",
    "    for cell in error_repaired_cells:\n",
    "        if correct_repairs[cell] in d.correction_collection[cell]:\n",
    "            correct_repair_probs.append(d.correction_collection[cell][correct_repairs[cell]])\n",
    "            incorrect_repair_probs.append(d.correction_confidences[cell])\n",
    "            other_repair_probs.append([prob for val, prob in d.correction_collection[cell].items()\n",
    "                                       if val not in [correct_repairs[cell], d.corrected_cells[cell]]])\n",
    "\n",
    "repairable_df = pandas.DataFrame(collection, columns=[\"repairs\",\n",
    "                                                      \"alt_all\",\n",
    "                                                      \"alt_rate\",\n",
    "                                                      \"errors\",\n",
    "                                                      \"error_rate\",\n",
    "                                                      \"wrong_detection\",\n",
    "                                                      \"alt_if_error\",\n",
    "                                                      \"correct_in_alt\",\n",
    "                                                      \"highest_alternative\",\n",
    "                                                      \"only_alternative\",\n",
    "                                                      \"higher_chosen\"])\n",
    "\n",
    "repairable_df[\"error_alt_avail\"] = repairable_df[\"alt_if_error\"] / repairable_df[\"errors\"]\n",
    "repairable_df[\"correct_alt_avail\"] = repairable_df[\"correct_in_alt\"] / repairable_df[\"errors\"]\n",
    "repairable_df[\"highest_if_avail\"] = repairable_df[\"highest_alternative\"] / repairable_df[\"correct_in_alt\"]\n",
    "repairable_df[\"only_if_avail\"] = repairable_df[\"only_alternative\"] / repairable_df[\"correct_in_alt\"]\n",
    "repairable_df[\"highest_if_error\"] = repairable_df[\"highest_alternative\"] / repairable_df[\"errors\"]\n",
    "repairable_df[\"highest_is_correct\"] = repairable_df[\"highest_alternative\"] / repairable_df[\"alt_all\"]\n",
    "repairable_df[\"higher_percentage\"] = repairable_df[\"higher_chosen\"] / repairable_df[\"errors\"]\n",
    "repairable_df.describe(percentiles=[0.25, 0.5, 0.75])"
   ],
   "metadata": {
    "collapsed": false,
    "pycharm": {
     "name": "#%%\n"
    }
   }
  },
  {
   "cell_type": "code",
   "execution_count": 9,
   "outputs": [
    {
     "data": {
      "text/plain": "    repairs  alt_all  alt_rate  errors  error_rate  wrong_detection  \\\n0       256       98  0.382812      79    0.284173                3   \n1       281       84  0.298932      81    0.267327                8   \n2       322       92  0.285714      59    0.172012               19   \n3       219       69  0.315068      47    0.201717                0   \n4       218       96  0.440367      55    0.241228               12   \n5       278      103  0.370504      79    0.269625                7   \n6       294      100  0.340136      51    0.162420               29   \n7       316      102  0.322785      67    0.200000               16   \n8       247       95  0.384615      48    0.181818               12   \n9       293       74  0.252560      46    0.147910                5   \n10      330      126  0.381818      54    0.153846               16   \n11      234       51  0.217949      24    0.096000                5   \n12      312      108  0.346154      81    0.245455                5   \n13      307      121  0.394137      63    0.195046               12   \n14      329       55  0.167173      41    0.118156               17   \n15      377      100  0.265252      72    0.182741              113   \n16      266       95  0.357143      62    0.218310               13   \n17      295      104  0.352542      63    0.199367                1   \n18      335      107  0.319403      27    0.075630                0   \n19      235       80  0.340426      57    0.227092                2   \n20      269       73  0.271375      47    0.161512               24   \n21      236       93  0.394068      43    0.172691                3   \n22      344      116  0.337209      52    0.144847               16   \n23      338       94  0.278107      45    0.125698               13   \n24      251       48  0.191235      15    0.055351                0   \n25      331       66  0.199396      41    0.116147               36   \n26      265       68  0.256604      29    0.103203               11   \n27      337      112  0.332344      80    0.220994                1   \n28      271       87  0.321033      39    0.135417               12   \n29      236       76  0.322034      33    0.130435               17   \n\n    alt_if_error  correct_in_alt  highest_alternative  only_alternative  \\\n0             64              49                   38                38   \n1             62              51                   43                42   \n2             44              37                   31                29   \n3             47              47                   28                28   \n4             53              37                   34                34   \n5             75              56                   42                42   \n6             47              31                   29                28   \n7             66              58                   44                44   \n8             47              20                    6                 5   \n9             46              26                   19                19   \n10            53              52                   45                45   \n11            15               4                    0                 0   \n12            71              54                   53                53   \n13            60              42                   19                18   \n14            28               5                    4                 4   \n15            63              58                   48                48   \n16            60              32                   27                27   \n17            48              46                   16                16   \n18            26              26                   10                10   \n19            55              37                   18                18   \n20            46              44                   43                43   \n21            40              40                   34                34   \n22            51              20                   11                11   \n23            42              25                   21                21   \n24             7               4                    1                 1   \n25            36              29                   12                11   \n26            28               9                    5                 5   \n27            72              61                   40                40   \n28            38              27                   19                18   \n29            32              31                   26                25   \n\n    higher_chosen  error_alt_avail  correct_alt_avail  highest_if_avail  \\\n0               0         0.810127           0.620253          0.775510   \n1               0         0.765432           0.629630          0.843137   \n2               0         0.745763           0.627119          0.837838   \n3               0         1.000000           1.000000          0.595745   \n4               0         0.963636           0.672727          0.918919   \n5               0         0.949367           0.708861          0.750000   \n6               1         0.921569           0.607843          0.935484   \n7               0         0.985075           0.865672          0.758621   \n8               0         0.979167           0.416667          0.300000   \n9               0         1.000000           0.565217          0.730769   \n10              0         0.981481           0.962963          0.865385   \n11              0         0.625000           0.166667          0.000000   \n12              0         0.876543           0.666667          0.981481   \n13              1         0.952381           0.666667          0.452381   \n14              0         0.682927           0.121951          0.800000   \n15              0         0.875000           0.805556          0.827586   \n16              0         0.967742           0.516129          0.843750   \n17              0         0.761905           0.730159          0.347826   \n18              0         0.962963           0.962963          0.384615   \n19              0         0.964912           0.649123          0.486486   \n20              0         0.978723           0.936170          0.977273   \n21              0         0.930233           0.930233          0.850000   \n22              0         0.980769           0.384615          0.550000   \n23              0         0.933333           0.555556          0.840000   \n24              0         0.466667           0.266667          0.250000   \n25              0         0.878049           0.707317          0.413793   \n26              0         0.965517           0.310345          0.555556   \n27              0         0.900000           0.762500          0.655738   \n28              0         0.974359           0.692308          0.703704   \n29              0         0.969697           0.939394          0.838710   \n\n    only_if_avail  highest_if_error  highest_is_correct  higher_percentage  \n0        0.775510          0.481013            0.387755           0.000000  \n1        0.823529          0.530864            0.511905           0.000000  \n2        0.783784          0.525424            0.336957           0.000000  \n3        0.595745          0.595745            0.405797           0.000000  \n4        0.918919          0.618182            0.354167           0.000000  \n5        0.750000          0.531646            0.407767           0.000000  \n6        0.903226          0.568627            0.290000           0.019608  \n7        0.758621          0.656716            0.431373           0.000000  \n8        0.250000          0.125000            0.063158           0.000000  \n9        0.730769          0.413043            0.256757           0.000000  \n10       0.865385          0.833333            0.357143           0.000000  \n11       0.000000          0.000000            0.000000           0.000000  \n12       0.981481          0.654321            0.490741           0.000000  \n13       0.428571          0.301587            0.157025           0.015873  \n14       0.800000          0.097561            0.072727           0.000000  \n15       0.827586          0.666667            0.480000           0.000000  \n16       0.843750          0.435484            0.284211           0.000000  \n17       0.347826          0.253968            0.153846           0.000000  \n18       0.384615          0.370370            0.093458           0.000000  \n19       0.486486          0.315789            0.225000           0.000000  \n20       0.977273          0.914894            0.589041           0.000000  \n21       0.850000          0.790698            0.365591           0.000000  \n22       0.550000          0.211538            0.094828           0.000000  \n23       0.840000          0.466667            0.223404           0.000000  \n24       0.250000          0.066667            0.020833           0.000000  \n25       0.379310          0.292683            0.181818           0.000000  \n26       0.555556          0.172414            0.073529           0.000000  \n27       0.655738          0.500000            0.357143           0.000000  \n28       0.666667          0.487179            0.218391           0.000000  \n29       0.806452          0.787879            0.342105           0.000000  ",
      "text/html": "<div>\n<style scoped>\n    .dataframe tbody tr th:only-of-type {\n        vertical-align: middle;\n    }\n\n    .dataframe tbody tr th {\n        vertical-align: top;\n    }\n\n    .dataframe thead th {\n        text-align: right;\n    }\n</style>\n<table border=\"1\" class=\"dataframe\">\n  <thead>\n    <tr style=\"text-align: right;\">\n      <th></th>\n      <th>repairs</th>\n      <th>alt_all</th>\n      <th>alt_rate</th>\n      <th>errors</th>\n      <th>error_rate</th>\n      <th>wrong_detection</th>\n      <th>alt_if_error</th>\n      <th>correct_in_alt</th>\n      <th>highest_alternative</th>\n      <th>only_alternative</th>\n      <th>higher_chosen</th>\n      <th>error_alt_avail</th>\n      <th>correct_alt_avail</th>\n      <th>highest_if_avail</th>\n      <th>only_if_avail</th>\n      <th>highest_if_error</th>\n      <th>highest_is_correct</th>\n      <th>higher_percentage</th>\n    </tr>\n  </thead>\n  <tbody>\n    <tr>\n      <th>0</th>\n      <td>256</td>\n      <td>98</td>\n      <td>0.382812</td>\n      <td>79</td>\n      <td>0.284173</td>\n      <td>3</td>\n      <td>64</td>\n      <td>49</td>\n      <td>38</td>\n      <td>38</td>\n      <td>0</td>\n      <td>0.810127</td>\n      <td>0.620253</td>\n      <td>0.775510</td>\n      <td>0.775510</td>\n      <td>0.481013</td>\n      <td>0.387755</td>\n      <td>0.000000</td>\n    </tr>\n    <tr>\n      <th>1</th>\n      <td>281</td>\n      <td>84</td>\n      <td>0.298932</td>\n      <td>81</td>\n      <td>0.267327</td>\n      <td>8</td>\n      <td>62</td>\n      <td>51</td>\n      <td>43</td>\n      <td>42</td>\n      <td>0</td>\n      <td>0.765432</td>\n      <td>0.629630</td>\n      <td>0.843137</td>\n      <td>0.823529</td>\n      <td>0.530864</td>\n      <td>0.511905</td>\n      <td>0.000000</td>\n    </tr>\n    <tr>\n      <th>2</th>\n      <td>322</td>\n      <td>92</td>\n      <td>0.285714</td>\n      <td>59</td>\n      <td>0.172012</td>\n      <td>19</td>\n      <td>44</td>\n      <td>37</td>\n      <td>31</td>\n      <td>29</td>\n      <td>0</td>\n      <td>0.745763</td>\n      <td>0.627119</td>\n      <td>0.837838</td>\n      <td>0.783784</td>\n      <td>0.525424</td>\n      <td>0.336957</td>\n      <td>0.000000</td>\n    </tr>\n    <tr>\n      <th>3</th>\n      <td>219</td>\n      <td>69</td>\n      <td>0.315068</td>\n      <td>47</td>\n      <td>0.201717</td>\n      <td>0</td>\n      <td>47</td>\n      <td>47</td>\n      <td>28</td>\n      <td>28</td>\n      <td>0</td>\n      <td>1.000000</td>\n      <td>1.000000</td>\n      <td>0.595745</td>\n      <td>0.595745</td>\n      <td>0.595745</td>\n      <td>0.405797</td>\n      <td>0.000000</td>\n    </tr>\n    <tr>\n      <th>4</th>\n      <td>218</td>\n      <td>96</td>\n      <td>0.440367</td>\n      <td>55</td>\n      <td>0.241228</td>\n      <td>12</td>\n      <td>53</td>\n      <td>37</td>\n      <td>34</td>\n      <td>34</td>\n      <td>0</td>\n      <td>0.963636</td>\n      <td>0.672727</td>\n      <td>0.918919</td>\n      <td>0.918919</td>\n      <td>0.618182</td>\n      <td>0.354167</td>\n      <td>0.000000</td>\n    </tr>\n    <tr>\n      <th>5</th>\n      <td>278</td>\n      <td>103</td>\n      <td>0.370504</td>\n      <td>79</td>\n      <td>0.269625</td>\n      <td>7</td>\n      <td>75</td>\n      <td>56</td>\n      <td>42</td>\n      <td>42</td>\n      <td>0</td>\n      <td>0.949367</td>\n      <td>0.708861</td>\n      <td>0.750000</td>\n      <td>0.750000</td>\n      <td>0.531646</td>\n      <td>0.407767</td>\n      <td>0.000000</td>\n    </tr>\n    <tr>\n      <th>6</th>\n      <td>294</td>\n      <td>100</td>\n      <td>0.340136</td>\n      <td>51</td>\n      <td>0.162420</td>\n      <td>29</td>\n      <td>47</td>\n      <td>31</td>\n      <td>29</td>\n      <td>28</td>\n      <td>1</td>\n      <td>0.921569</td>\n      <td>0.607843</td>\n      <td>0.935484</td>\n      <td>0.903226</td>\n      <td>0.568627</td>\n      <td>0.290000</td>\n      <td>0.019608</td>\n    </tr>\n    <tr>\n      <th>7</th>\n      <td>316</td>\n      <td>102</td>\n      <td>0.322785</td>\n      <td>67</td>\n      <td>0.200000</td>\n      <td>16</td>\n      <td>66</td>\n      <td>58</td>\n      <td>44</td>\n      <td>44</td>\n      <td>0</td>\n      <td>0.985075</td>\n      <td>0.865672</td>\n      <td>0.758621</td>\n      <td>0.758621</td>\n      <td>0.656716</td>\n      <td>0.431373</td>\n      <td>0.000000</td>\n    </tr>\n    <tr>\n      <th>8</th>\n      <td>247</td>\n      <td>95</td>\n      <td>0.384615</td>\n      <td>48</td>\n      <td>0.181818</td>\n      <td>12</td>\n      <td>47</td>\n      <td>20</td>\n      <td>6</td>\n      <td>5</td>\n      <td>0</td>\n      <td>0.979167</td>\n      <td>0.416667</td>\n      <td>0.300000</td>\n      <td>0.250000</td>\n      <td>0.125000</td>\n      <td>0.063158</td>\n      <td>0.000000</td>\n    </tr>\n    <tr>\n      <th>9</th>\n      <td>293</td>\n      <td>74</td>\n      <td>0.252560</td>\n      <td>46</td>\n      <td>0.147910</td>\n      <td>5</td>\n      <td>46</td>\n      <td>26</td>\n      <td>19</td>\n      <td>19</td>\n      <td>0</td>\n      <td>1.000000</td>\n      <td>0.565217</td>\n      <td>0.730769</td>\n      <td>0.730769</td>\n      <td>0.413043</td>\n      <td>0.256757</td>\n      <td>0.000000</td>\n    </tr>\n    <tr>\n      <th>10</th>\n      <td>330</td>\n      <td>126</td>\n      <td>0.381818</td>\n      <td>54</td>\n      <td>0.153846</td>\n      <td>16</td>\n      <td>53</td>\n      <td>52</td>\n      <td>45</td>\n      <td>45</td>\n      <td>0</td>\n      <td>0.981481</td>\n      <td>0.962963</td>\n      <td>0.865385</td>\n      <td>0.865385</td>\n      <td>0.833333</td>\n      <td>0.357143</td>\n      <td>0.000000</td>\n    </tr>\n    <tr>\n      <th>11</th>\n      <td>234</td>\n      <td>51</td>\n      <td>0.217949</td>\n      <td>24</td>\n      <td>0.096000</td>\n      <td>5</td>\n      <td>15</td>\n      <td>4</td>\n      <td>0</td>\n      <td>0</td>\n      <td>0</td>\n      <td>0.625000</td>\n      <td>0.166667</td>\n      <td>0.000000</td>\n      <td>0.000000</td>\n      <td>0.000000</td>\n      <td>0.000000</td>\n      <td>0.000000</td>\n    </tr>\n    <tr>\n      <th>12</th>\n      <td>312</td>\n      <td>108</td>\n      <td>0.346154</td>\n      <td>81</td>\n      <td>0.245455</td>\n      <td>5</td>\n      <td>71</td>\n      <td>54</td>\n      <td>53</td>\n      <td>53</td>\n      <td>0</td>\n      <td>0.876543</td>\n      <td>0.666667</td>\n      <td>0.981481</td>\n      <td>0.981481</td>\n      <td>0.654321</td>\n      <td>0.490741</td>\n      <td>0.000000</td>\n    </tr>\n    <tr>\n      <th>13</th>\n      <td>307</td>\n      <td>121</td>\n      <td>0.394137</td>\n      <td>63</td>\n      <td>0.195046</td>\n      <td>12</td>\n      <td>60</td>\n      <td>42</td>\n      <td>19</td>\n      <td>18</td>\n      <td>1</td>\n      <td>0.952381</td>\n      <td>0.666667</td>\n      <td>0.452381</td>\n      <td>0.428571</td>\n      <td>0.301587</td>\n      <td>0.157025</td>\n      <td>0.015873</td>\n    </tr>\n    <tr>\n      <th>14</th>\n      <td>329</td>\n      <td>55</td>\n      <td>0.167173</td>\n      <td>41</td>\n      <td>0.118156</td>\n      <td>17</td>\n      <td>28</td>\n      <td>5</td>\n      <td>4</td>\n      <td>4</td>\n      <td>0</td>\n      <td>0.682927</td>\n      <td>0.121951</td>\n      <td>0.800000</td>\n      <td>0.800000</td>\n      <td>0.097561</td>\n      <td>0.072727</td>\n      <td>0.000000</td>\n    </tr>\n    <tr>\n      <th>15</th>\n      <td>377</td>\n      <td>100</td>\n      <td>0.265252</td>\n      <td>72</td>\n      <td>0.182741</td>\n      <td>113</td>\n      <td>63</td>\n      <td>58</td>\n      <td>48</td>\n      <td>48</td>\n      <td>0</td>\n      <td>0.875000</td>\n      <td>0.805556</td>\n      <td>0.827586</td>\n      <td>0.827586</td>\n      <td>0.666667</td>\n      <td>0.480000</td>\n      <td>0.000000</td>\n    </tr>\n    <tr>\n      <th>16</th>\n      <td>266</td>\n      <td>95</td>\n      <td>0.357143</td>\n      <td>62</td>\n      <td>0.218310</td>\n      <td>13</td>\n      <td>60</td>\n      <td>32</td>\n      <td>27</td>\n      <td>27</td>\n      <td>0</td>\n      <td>0.967742</td>\n      <td>0.516129</td>\n      <td>0.843750</td>\n      <td>0.843750</td>\n      <td>0.435484</td>\n      <td>0.284211</td>\n      <td>0.000000</td>\n    </tr>\n    <tr>\n      <th>17</th>\n      <td>295</td>\n      <td>104</td>\n      <td>0.352542</td>\n      <td>63</td>\n      <td>0.199367</td>\n      <td>1</td>\n      <td>48</td>\n      <td>46</td>\n      <td>16</td>\n      <td>16</td>\n      <td>0</td>\n      <td>0.761905</td>\n      <td>0.730159</td>\n      <td>0.347826</td>\n      <td>0.347826</td>\n      <td>0.253968</td>\n      <td>0.153846</td>\n      <td>0.000000</td>\n    </tr>\n    <tr>\n      <th>18</th>\n      <td>335</td>\n      <td>107</td>\n      <td>0.319403</td>\n      <td>27</td>\n      <td>0.075630</td>\n      <td>0</td>\n      <td>26</td>\n      <td>26</td>\n      <td>10</td>\n      <td>10</td>\n      <td>0</td>\n      <td>0.962963</td>\n      <td>0.962963</td>\n      <td>0.384615</td>\n      <td>0.384615</td>\n      <td>0.370370</td>\n      <td>0.093458</td>\n      <td>0.000000</td>\n    </tr>\n    <tr>\n      <th>19</th>\n      <td>235</td>\n      <td>80</td>\n      <td>0.340426</td>\n      <td>57</td>\n      <td>0.227092</td>\n      <td>2</td>\n      <td>55</td>\n      <td>37</td>\n      <td>18</td>\n      <td>18</td>\n      <td>0</td>\n      <td>0.964912</td>\n      <td>0.649123</td>\n      <td>0.486486</td>\n      <td>0.486486</td>\n      <td>0.315789</td>\n      <td>0.225000</td>\n      <td>0.000000</td>\n    </tr>\n    <tr>\n      <th>20</th>\n      <td>269</td>\n      <td>73</td>\n      <td>0.271375</td>\n      <td>47</td>\n      <td>0.161512</td>\n      <td>24</td>\n      <td>46</td>\n      <td>44</td>\n      <td>43</td>\n      <td>43</td>\n      <td>0</td>\n      <td>0.978723</td>\n      <td>0.936170</td>\n      <td>0.977273</td>\n      <td>0.977273</td>\n      <td>0.914894</td>\n      <td>0.589041</td>\n      <td>0.000000</td>\n    </tr>\n    <tr>\n      <th>21</th>\n      <td>236</td>\n      <td>93</td>\n      <td>0.394068</td>\n      <td>43</td>\n      <td>0.172691</td>\n      <td>3</td>\n      <td>40</td>\n      <td>40</td>\n      <td>34</td>\n      <td>34</td>\n      <td>0</td>\n      <td>0.930233</td>\n      <td>0.930233</td>\n      <td>0.850000</td>\n      <td>0.850000</td>\n      <td>0.790698</td>\n      <td>0.365591</td>\n      <td>0.000000</td>\n    </tr>\n    <tr>\n      <th>22</th>\n      <td>344</td>\n      <td>116</td>\n      <td>0.337209</td>\n      <td>52</td>\n      <td>0.144847</td>\n      <td>16</td>\n      <td>51</td>\n      <td>20</td>\n      <td>11</td>\n      <td>11</td>\n      <td>0</td>\n      <td>0.980769</td>\n      <td>0.384615</td>\n      <td>0.550000</td>\n      <td>0.550000</td>\n      <td>0.211538</td>\n      <td>0.094828</td>\n      <td>0.000000</td>\n    </tr>\n    <tr>\n      <th>23</th>\n      <td>338</td>\n      <td>94</td>\n      <td>0.278107</td>\n      <td>45</td>\n      <td>0.125698</td>\n      <td>13</td>\n      <td>42</td>\n      <td>25</td>\n      <td>21</td>\n      <td>21</td>\n      <td>0</td>\n      <td>0.933333</td>\n      <td>0.555556</td>\n      <td>0.840000</td>\n      <td>0.840000</td>\n      <td>0.466667</td>\n      <td>0.223404</td>\n      <td>0.000000</td>\n    </tr>\n    <tr>\n      <th>24</th>\n      <td>251</td>\n      <td>48</td>\n      <td>0.191235</td>\n      <td>15</td>\n      <td>0.055351</td>\n      <td>0</td>\n      <td>7</td>\n      <td>4</td>\n      <td>1</td>\n      <td>1</td>\n      <td>0</td>\n      <td>0.466667</td>\n      <td>0.266667</td>\n      <td>0.250000</td>\n      <td>0.250000</td>\n      <td>0.066667</td>\n      <td>0.020833</td>\n      <td>0.000000</td>\n    </tr>\n    <tr>\n      <th>25</th>\n      <td>331</td>\n      <td>66</td>\n      <td>0.199396</td>\n      <td>41</td>\n      <td>0.116147</td>\n      <td>36</td>\n      <td>36</td>\n      <td>29</td>\n      <td>12</td>\n      <td>11</td>\n      <td>0</td>\n      <td>0.878049</td>\n      <td>0.707317</td>\n      <td>0.413793</td>\n      <td>0.379310</td>\n      <td>0.292683</td>\n      <td>0.181818</td>\n      <td>0.000000</td>\n    </tr>\n    <tr>\n      <th>26</th>\n      <td>265</td>\n      <td>68</td>\n      <td>0.256604</td>\n      <td>29</td>\n      <td>0.103203</td>\n      <td>11</td>\n      <td>28</td>\n      <td>9</td>\n      <td>5</td>\n      <td>5</td>\n      <td>0</td>\n      <td>0.965517</td>\n      <td>0.310345</td>\n      <td>0.555556</td>\n      <td>0.555556</td>\n      <td>0.172414</td>\n      <td>0.073529</td>\n      <td>0.000000</td>\n    </tr>\n    <tr>\n      <th>27</th>\n      <td>337</td>\n      <td>112</td>\n      <td>0.332344</td>\n      <td>80</td>\n      <td>0.220994</td>\n      <td>1</td>\n      <td>72</td>\n      <td>61</td>\n      <td>40</td>\n      <td>40</td>\n      <td>0</td>\n      <td>0.900000</td>\n      <td>0.762500</td>\n      <td>0.655738</td>\n      <td>0.655738</td>\n      <td>0.500000</td>\n      <td>0.357143</td>\n      <td>0.000000</td>\n    </tr>\n    <tr>\n      <th>28</th>\n      <td>271</td>\n      <td>87</td>\n      <td>0.321033</td>\n      <td>39</td>\n      <td>0.135417</td>\n      <td>12</td>\n      <td>38</td>\n      <td>27</td>\n      <td>19</td>\n      <td>18</td>\n      <td>0</td>\n      <td>0.974359</td>\n      <td>0.692308</td>\n      <td>0.703704</td>\n      <td>0.666667</td>\n      <td>0.487179</td>\n      <td>0.218391</td>\n      <td>0.000000</td>\n    </tr>\n    <tr>\n      <th>29</th>\n      <td>236</td>\n      <td>76</td>\n      <td>0.322034</td>\n      <td>33</td>\n      <td>0.130435</td>\n      <td>17</td>\n      <td>32</td>\n      <td>31</td>\n      <td>26</td>\n      <td>25</td>\n      <td>0</td>\n      <td>0.969697</td>\n      <td>0.939394</td>\n      <td>0.838710</td>\n      <td>0.806452</td>\n      <td>0.787879</td>\n      <td>0.342105</td>\n      <td>0.000000</td>\n    </tr>\n  </tbody>\n</table>\n</div>"
     },
     "execution_count": 9,
     "metadata": {},
     "output_type": "execute_result"
    }
   ],
   "source": [
    "repairable_df"
   ],
   "metadata": {
    "collapsed": false,
    "pycharm": {
     "name": "#%%\n"
    }
   }
  },
  {
   "cell_type": "markdown",
   "source": [
    "## Analyze detection confidence vs error probability"
   ],
   "metadata": {
    "collapsed": false
   }
  },
  {
   "cell_type": "code",
   "execution_count": null,
   "outputs": [],
   "source": [
    "import importlib\n",
    "from raha import analysis_utilities\n",
    "import matplotlib.pyplot as plt\n",
    "plt.style.use('ggplot')\n",
    "plt.ion()"
   ],
   "metadata": {
    "collapsed": false,
    "pycharm": {
     "name": "#%%\n"
    }
   }
  },
  {
   "cell_type": "code",
   "execution_count": 66,
   "outputs": [
    {
     "data": {
      "text/plain": "<module 'raha.analysis_utilities' from '/home/adrian/source/MA/raha/raha/analysis_utilities.py'>"
     },
     "execution_count": 66,
     "metadata": {},
     "output_type": "execute_result"
    }
   ],
   "source": [
    "importlib.reload(analysis_utilities)"
   ],
   "metadata": {
    "collapsed": false,
    "pycharm": {
     "name": "#%%\n"
    }
   }
  },
  {
   "cell_type": "code",
   "execution_count": 51,
   "outputs": [],
   "source": [
    "evaluation_dfs = []\n",
    "\n",
    "for d in datasets:\n",
    "    df = analysis_utilities.get_detection_evaluation_df(d)\n",
    "    evaluation_dfs.append(df)\n",
    "    #display(df)\n",
    "    #display(df.value_counts(subset=[\"detected\", \"truth\"]))\n",
    "    #display(analysis_utilities.detection_evaluation(df))\n",
    "    #display(analysis_utilities.detection_correctness_by_confidence(df,number_of_bins=10))\n",
    "\n",
    "df = pandas.concat(evaluation_dfs)"
   ],
   "metadata": {
    "collapsed": false,
    "pycharm": {
     "name": "#%%\n"
    }
   }
  },
  {
   "cell_type": "code",
   "execution_count": 52,
   "outputs": [
    {
     "data": {
      "text/plain": "<Figure size 864x576 with 4 Axes>",
      "image/png": "[encoded data removed]"
     },
     "execution_count": 52,
     "metadata": {},
     "output_type": "execute_result"
    }
   ],
   "source": [
    "analysis_utilities.detection_evaluation(df, sharey=\"all\", number_of_bins=100)"
   ],
   "metadata": {
    "collapsed": false,
    "pycharm": {
     "name": "#%%\n"
    }
   }
  },
  {
   "cell_type": "code",
   "execution_count": 53,
   "outputs": [
    {
     "data": {
      "text/plain": "0.0004549999999999832"
     },
     "execution_count": 53,
     "metadata": {},
     "output_type": "execute_result"
    }
   ],
   "source": [
    "1 - ((df[\"p\"] < 0.01) | (df[\"p\"] > 0.99)).sum() / len(df.index)"
   ],
   "metadata": {
    "collapsed": false,
    "pycharm": {
     "name": "#%%\n"
    }
   }
  },
  {
   "cell_type": "code",
   "execution_count": 54,
   "outputs": [
    {
     "data": {
      "text/plain": "0.00036166666666670455"
     },
     "execution_count": 54,
     "metadata": {},
     "output_type": "execute_result"
    }
   ],
   "source": [
    "1 - ((df[\"p\"] < 0.05) | (df[\"p\"] > 0.95)).sum() / len(df.index)"
   ],
   "metadata": {
    "collapsed": false,
    "pycharm": {
     "name": "#%%\n"
    }
   }
  },
  {
   "cell_type": "code",
   "execution_count": 67,
   "outputs": [],
   "source": [
    "analysis_utilities.detection_evaluation(df, sharey=\"row\",number_of_bins=100).savefig(\"hospital_detection_split.pdf\", dpi=600)"
   ],
   "metadata": {
    "collapsed": false,
    "pycharm": {
     "name": "#%%\n"
    }
   }
  },
  {
   "cell_type": "code",
   "execution_count": 68,
   "outputs": [],
   "source": [
    "analysis_utilities.detection_evaluation_without_grouping(df,number_of_bins=100).savefig(\"hospital_detection_overview.pdf\", dpi=600)"
   ],
   "metadata": {
    "collapsed": false,
    "pycharm": {
     "name": "#%%\n"
    }
   }
  },
  {
   "cell_type": "code",
   "execution_count": 57,
   "outputs": [
    {
     "data": {
      "text/plain": "0.9867869127516778"
     },
     "execution_count": 57,
     "metadata": {},
     "output_type": "execute_result"
    }
   ],
   "source": [
    "(df[\"p\"] >= 0.99).sum() / (df[\"p\"] >= 0.5).sum()"
   ],
   "metadata": {
    "collapsed": false,
    "pycharm": {
     "name": "#%%\n"
    }
   }
  },
  {
   "cell_type": "markdown",
   "source": [
    "## Analyze confidence vs error probability"
   ],
   "metadata": {
    "collapsed": false,
    "pycharm": {
     "name": "#%% md\n"
    }
   }
  },
  {
   "cell_type": "code",
   "execution_count": 58,
   "outputs": [],
   "source": [
    "r_p_dfs = []\n",
    "\n",
    "for d in datasets:\n",
    "\n",
    "    r_p_dfs.append(analysis_utilities.get_correction_confidence_df(d))\n",
    "\n",
    "r_p_df = pandas.concat(r_p_dfs)"
   ],
   "metadata": {
    "collapsed": false,
    "pycharm": {
     "name": "#%%\n"
    }
   }
  },
  {
   "cell_type": "code",
   "source": [
    "analysis_utilities.correction_confidence_distribution(r_p_df, number_of_bins=100)"
   ],
   "metadata": {
    "collapsed": false,
    "pycharm": {
     "name": "#%%\n"
    }
   },
   "execution_count": 59,
   "outputs": [
    {
     "data": {
      "text/plain": "<Figure size 864x576 with 1 Axes>",
      "image/png": "[encoded data removed]"
     },
     "execution_count": 59,
     "metadata": {},
     "output_type": "execute_result"
    }
   ]
  },
  {
   "cell_type": "code",
   "metadata": {
    "pycharm": {
     "name": "#%%\n"
    }
   },
   "source": [
    "(r_p_df[\"confidence\"] >= 0.99).sum() / len(r_p_df.index)"
   ],
   "execution_count": 60,
   "outputs": [
    {
     "data": {
      "text/plain": "0.9870229007633587"
     },
     "execution_count": 60,
     "metadata": {},
     "output_type": "execute_result"
    }
   ]
  },
  {
   "cell_type": "code",
   "execution_count": 61,
   "outputs": [
    {
     "data": {
      "text/plain": "0.9900763358778626"
     },
     "execution_count": 61,
     "metadata": {},
     "output_type": "execute_result"
    }
   ],
   "source": [
    "(r_p_df[\"confidence\"] >= 0.95).sum() / len(r_p_df.index)"
   ],
   "metadata": {
    "collapsed": false,
    "pycharm": {
     "name": "#%%\n"
    }
   }
  },
  {
   "cell_type": "code",
   "execution_count": 62,
   "metadata": {
    "pycharm": {
     "name": "#%%\n"
    }
   },
   "outputs": [
    {
     "data": {
      "text/plain": "0.9509345794392523"
     },
     "execution_count": 62,
     "metadata": {},
     "output_type": "execute_result"
    }
   ],
   "source": [
    "((r_p_df[\"confidence\"] >= 0.99) & (r_p_df[\"detection_correct\"] == False)).sum() / (r_p_df[\"detection_correct\"] == False).sum()"
   ]
  },
  {
   "cell_type": "code",
   "execution_count": 63,
   "outputs": [
    {
     "data": {
      "text/plain": "0.9887897506291466"
     },
     "execution_count": 63,
     "metadata": {},
     "output_type": "execute_result"
    }
   ],
   "source": [
    "((r_p_df[\"confidence\"] >= 0.99) & (r_p_df[\"detection_correct\"] == True)).sum() / (r_p_df[\"detection_correct\"] == True).sum()"
   ],
   "metadata": {
    "collapsed": false,
    "pycharm": {
     "name": "#%%\n"
    }
   }
  },
  {
   "cell_type": "code",
   "execution_count": 64,
   "outputs": [
    {
     "data": {
      "text/plain": "<Figure size 864x576 with 2 Axes>",
      "image/png": "[encoded data removed]"
     },
     "execution_count": 64,
     "metadata": {},
     "output_type": "execute_result"
    }
   ],
   "source": [
    "analysis_utilities.correction_confidence_distributions(r_p_df, number_of_bins=100)"
   ],
   "metadata": {
    "collapsed": false,
    "pycharm": {
     "name": "#%%\n"
    }
   }
  },
  {
   "cell_type": "code",
   "execution_count": 69,
   "outputs": [],
   "source": [
    "analysis_utilities.correction_confidence_distribution(r_p_df, number_of_bins=100).savefig(\"hospital_correction_overview.pdf\")\n",
    "analysis_utilities.correction_confidence_distributions(r_p_df, number_of_bins=100).savefig(\"hospital_correction_split.pdf\")"
   ],
   "metadata": {
    "collapsed": false,
    "pycharm": {
     "name": "#%%\n"
    }
   }
  },
  {
   "cell_type": "code",
   "execution_count": null,
   "outputs": [],
   "source": [],
   "metadata": {
    "collapsed": false,
    "pycharm": {
     "name": "#%%\n"
    }
   }
  }
 ],
 "metadata": {
  "kernelspec": {
   "display_name": "Python 3",
   "language": "python",
   "name": "python3"
  },
  "language_info": {
   "codemirror_mode": {
    "name": "ipython",
    "version": 3
   },
   "file_extension": ".py",
   "mimetype": "text/x-python",
   "name": "python",
   "nbconvert_exporter": "python",
   "pygments_lexer": "ipython3",
   "version": "3.8.5"
  }
 },
 "nbformat": 4,
 "nbformat_minor": 4
}
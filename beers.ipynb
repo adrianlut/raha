{
 "cells": [
  {
   "cell_type": "markdown",
   "metadata": {},
   "source": [
    "# Beers example"
   ]
  },
  {
   "cell_type": "code",
   "execution_count": 1,
   "metadata": {},
   "outputs": [],
   "source": [
    "import numpy as np\n",
    "import pandas\n",
    "from IPython.core.display import display\n",
    "\n",
    "import raha"
   ]
  },
  {
   "cell_type": "code",
   "execution_count": 2,
   "metadata": {},
   "outputs": [
    {
     "name": "stderr",
     "output_type": "stream",
     "text": [
      "I just load strategies' results as they have already been run on the dataset!\n"
     ]
    },
    {
     "name": "stdout",
     "output_type": "stream",
     "text": [
      "Run 0 done\n"
     ]
    },
    {
     "name": "stderr",
     "output_type": "stream",
     "text": [
      "I just load strategies' results as they have already been run on the dataset!\n"
     ]
    },
    {
     "name": "stdout",
     "output_type": "stream",
     "text": [
      "Run 1 done\n"
     ]
    },
    {
     "name": "stderr",
     "output_type": "stream",
     "text": [
      "I just load strategies' results as they have already been run on the dataset!\n"
     ]
    },
    {
     "name": "stdout",
     "output_type": "stream",
     "text": [
      "Run 2 done\n"
     ]
    },
    {
     "name": "stderr",
     "output_type": "stream",
     "text": [
      "I just load strategies' results as they have already been run on the dataset!\n"
     ]
    },
    {
     "name": "stdout",
     "output_type": "stream",
     "text": [
      "Run 3 done\n"
     ]
    },
    {
     "name": "stderr",
     "output_type": "stream",
     "text": [
      "I just load strategies' results as they have already been run on the dataset!\n"
     ]
    },
    {
     "name": "stdout",
     "output_type": "stream",
     "text": [
      "Run 4 done\n"
     ]
    },
    {
     "name": "stderr",
     "output_type": "stream",
     "text": [
      "I just load strategies' results as they have already been run on the dataset!\n"
     ]
    },
    {
     "name": "stdout",
     "output_type": "stream",
     "text": [
      "Run 5 done\n"
     ]
    },
    {
     "name": "stderr",
     "output_type": "stream",
     "text": [
      "I just load strategies' results as they have already been run on the dataset!\n"
     ]
    },
    {
     "name": "stdout",
     "output_type": "stream",
     "text": [
      "Run 6 done\n"
     ]
    },
    {
     "name": "stderr",
     "output_type": "stream",
     "text": [
      "I just load strategies' results as they have already been run on the dataset!\n"
     ]
    },
    {
     "name": "stdout",
     "output_type": "stream",
     "text": [
      "Run 7 done\n"
     ]
    },
    {
     "name": "stderr",
     "output_type": "stream",
     "text": [
      "I just load strategies' results as they have already been run on the dataset!\n"
     ]
    },
    {
     "name": "stdout",
     "output_type": "stream",
     "text": [
      "Run 8 done\n"
     ]
    },
    {
     "name": "stderr",
     "output_type": "stream",
     "text": [
      "I just load strategies' results as they have already been run on the dataset!\n"
     ]
    },
    {
     "name": "stdout",
     "output_type": "stream",
     "text": [
      "Run 9 done\n"
     ]
    }
   ],
   "source": [
    "datasets = []\n",
    "\n",
    "for i in range(10):\n",
    "    from raha import analysis_utilities\n",
    "    app_1 = raha.Detection()\n",
    "    app_2 = raha.Correction()\n",
    "\n",
    "    # How many tuples would you label?\n",
    "    app_1.LABELING_BUDGET = 20\n",
    "    app_2.LABELING_BUDGET = 0\n",
    "\n",
    "    # Would you like to see the logs?\n",
    "    app_1.VERBOSE = False\n",
    "    app_2.VERBOSE = False\n",
    "\n",
    "    dataset_dictionary = {\n",
    "            \"name\": \"beers\",\n",
    "            \"path\": \"datasets/beers/dirty.csv\",\n",
    "            \"clean_path\": \"datasets/beers/clean.csv\"\n",
    "        }\n",
    "    d = app_1.initialize_dataset(dataset_dictionary)\n",
    "\n",
    "    app_1.run_strategies(d)\n",
    "    app_1.generate_features(d)\n",
    "    app_1.build_clusters(d)\n",
    "\n",
    "    while len(d.labeled_tuples) < app_1.LABELING_BUDGET:\n",
    "        app_1.sample_tuple(d)\n",
    "        if d.has_ground_truth:\n",
    "            app_1.label_with_ground_truth(d)\n",
    "\n",
    "    app_1.propagate_labels(d)\n",
    "    app_1.predict_labels(d)\n",
    "\n",
    "    app_2.initialize_models(d)\n",
    "    app_2.initialize_dataset(d)\n",
    "    for si in d.labeled_tuples:\n",
    "        d.sampled_tuple = si\n",
    "        app_2.update_models(d)\n",
    "        app_2.generate_features(d)\n",
    "        app_2.predict_corrections(d)\n",
    "\n",
    "    print(f\"Run {i} done\")\n",
    "\n",
    "    datasets.append(d)"
   ]
  },
  {
   "cell_type": "code",
   "execution_count": 3,
   "metadata": {
    "scrolled": true
   },
   "outputs": [
    {
     "name": "stderr",
     "output_type": "stream",
     "text": [
      "/home/adrian/source/MA/raha/raha/dataset.py:123: FutureWarning: elementwise comparison failed; returning scalar instead, but in the future will perform elementwise comparison\n",
      "  if correction_dictionary[cell] == actual_errors[cell]:\n"
     ]
    },
    {
     "data": {
      "text/plain": "                        Task  Precision    Recall  F1 Score\n0     Error Detection (Raha)   0.997941  1.000000  0.998969\n1   Error Correction (Baran)   0.931881  0.931453  0.931667\n2     Error Detection (Raha)   0.998398  1.000000  0.999198\n3   Error Correction (Baran)   0.976471  0.970426  0.973439\n4     Error Detection (Raha)   0.998398  1.000000  0.999198\n5   Error Correction (Baran)   0.968867  0.948877  0.958768\n6     Error Detection (Raha)   0.998398  1.000000  0.999198\n7   Error Correction (Baran)   0.959779  0.957359  0.958568\n8     Error Detection (Raha)   0.998398  1.000000  0.999198\n9   Error Correction (Baran)   0.984112  0.965612  0.974774\n10    Error Detection (Raha)   0.997941  1.000000  0.998969\n11  Error Correction (Baran)   0.977634  0.972031  0.974825\n12    Error Detection (Raha)   1.000000  0.984182  0.992028\n13  Error Correction (Baran)   0.889436  0.828061  0.857652\n14    Error Detection (Raha)   0.997941  1.000000  0.998969\n15  Error Correction (Baran)   0.935168  0.919303  0.927168\n16    Error Detection (Raha)   0.998398  1.000000  0.999198\n17  Error Correction (Baran)   0.965870  0.953691  0.959742\n18    Error Detection (Raha)   0.978466  1.000000  0.989116\n19  Error Correction (Baran)   0.938151  0.928473  0.933287",
      "text/html": "<div>\n<style scoped>\n    .dataframe tbody tr th:only-of-type {\n        vertical-align: middle;\n    }\n\n    .dataframe tbody tr th {\n        vertical-align: top;\n    }\n\n    .dataframe thead th {\n        text-align: right;\n    }\n</style>\n<table border=\"1\" class=\"dataframe\">\n  <thead>\n    <tr style=\"text-align: right;\">\n      <th></th>\n      <th>Task</th>\n      <th>Precision</th>\n      <th>Recall</th>\n      <th>F1 Score</th>\n    </tr>\n  </thead>\n  <tbody>\n    <tr>\n      <th>0</th>\n      <td>Error Detection (Raha)</td>\n      <td>0.997941</td>\n      <td>1.000000</td>\n      <td>0.998969</td>\n    </tr>\n    <tr>\n      <th>1</th>\n      <td>Error Correction (Baran)</td>\n      <td>0.931881</td>\n      <td>0.931453</td>\n      <td>0.931667</td>\n    </tr>\n    <tr>\n      <th>2</th>\n      <td>Error Detection (Raha)</td>\n      <td>0.998398</td>\n      <td>1.000000</td>\n      <td>0.999198</td>\n    </tr>\n    <tr>\n      <th>3</th>\n      <td>Error Correction (Baran)</td>\n      <td>0.976471</td>\n      <td>0.970426</td>\n      <td>0.973439</td>\n    </tr>\n    <tr>\n      <th>4</th>\n      <td>Error Detection (Raha)</td>\n      <td>0.998398</td>\n      <td>1.000000</td>\n      <td>0.999198</td>\n    </tr>\n    <tr>\n      <th>5</th>\n      <td>Error Correction (Baran)</td>\n      <td>0.968867</td>\n      <td>0.948877</td>\n      <td>0.958768</td>\n    </tr>\n    <tr>\n      <th>6</th>\n      <td>Error Detection (Raha)</td>\n      <td>0.998398</td>\n      <td>1.000000</td>\n      <td>0.999198</td>\n    </tr>\n    <tr>\n      <th>7</th>\n      <td>Error Correction (Baran)</td>\n      <td>0.959779</td>\n      <td>0.957359</td>\n      <td>0.958568</td>\n    </tr>\n    <tr>\n      <th>8</th>\n      <td>Error Detection (Raha)</td>\n      <td>0.998398</td>\n      <td>1.000000</td>\n      <td>0.999198</td>\n    </tr>\n    <tr>\n      <th>9</th>\n      <td>Error Correction (Baran)</td>\n      <td>0.984112</td>\n      <td>0.965612</td>\n      <td>0.974774</td>\n    </tr>\n    <tr>\n      <th>10</th>\n      <td>Error Detection (Raha)</td>\n      <td>0.997941</td>\n      <td>1.000000</td>\n      <td>0.998969</td>\n    </tr>\n    <tr>\n      <th>11</th>\n      <td>Error Correction (Baran)</td>\n      <td>0.977634</td>\n      <td>0.972031</td>\n      <td>0.974825</td>\n    </tr>\n    <tr>\n      <th>12</th>\n      <td>Error Detection (Raha)</td>\n      <td>1.000000</td>\n      <td>0.984182</td>\n      <td>0.992028</td>\n    </tr>\n    <tr>\n      <th>13</th>\n      <td>Error Correction (Baran)</td>\n      <td>0.889436</td>\n      <td>0.828061</td>\n      <td>0.857652</td>\n    </tr>\n    <tr>\n      <th>14</th>\n      <td>Error Detection (Raha)</td>\n      <td>0.997941</td>\n      <td>1.000000</td>\n      <td>0.998969</td>\n    </tr>\n    <tr>\n      <th>15</th>\n      <td>Error Correction (Baran)</td>\n      <td>0.935168</td>\n      <td>0.919303</td>\n      <td>0.927168</td>\n    </tr>\n    <tr>\n      <th>16</th>\n      <td>Error Detection (Raha)</td>\n      <td>0.998398</td>\n      <td>1.000000</td>\n      <td>0.999198</td>\n    </tr>\n    <tr>\n      <th>17</th>\n      <td>Error Correction (Baran)</td>\n      <td>0.965870</td>\n      <td>0.953691</td>\n      <td>0.959742</td>\n    </tr>\n    <tr>\n      <th>18</th>\n      <td>Error Detection (Raha)</td>\n      <td>0.978466</td>\n      <td>1.000000</td>\n      <td>0.989116</td>\n    </tr>\n    <tr>\n      <th>19</th>\n      <td>Error Correction (Baran)</td>\n      <td>0.938151</td>\n      <td>0.928473</td>\n      <td>0.933287</td>\n    </tr>\n  </tbody>\n</table>\n</div>"
     },
     "metadata": {},
     "output_type": "display_data"
    },
    {
     "data": {
      "text/plain": "                         Precision                                  Recall  \\\n                              mean       std       min       max      mean   \nTask                                                                         \nError Correction (Baran)  0.952737  0.029085  0.889436  0.984112  0.937529   \nError Detection (Raha)    0.996428  0.006339  0.978466  1.000000  0.998418   \n\n                                                        F1 Score            \\\n                               std       min       max      mean       std   \nTask                                                                         \nError Correction (Baran)  0.042530  0.828061  0.972031  0.944989  0.035650   \nError Detection (Raha)    0.005002  0.984182  1.000000  0.997404  0.003667   \n\n                                              \n                               min       max  \nTask                                          \nError Correction (Baran)  0.857652  0.974825  \nError Detection (Raha)    0.989116  0.999198  ",
      "text/html": "<div>\n<style scoped>\n    .dataframe tbody tr th:only-of-type {\n        vertical-align: middle;\n    }\n\n    .dataframe tbody tr th {\n        vertical-align: top;\n    }\n\n    .dataframe thead tr th {\n        text-align: left;\n    }\n\n    .dataframe thead tr:last-of-type th {\n        text-align: right;\n    }\n</style>\n<table border=\"1\" class=\"dataframe\">\n  <thead>\n    <tr>\n      <th></th>\n      <th colspan=\"4\" halign=\"left\">Precision</th>\n      <th colspan=\"4\" halign=\"left\">Recall</th>\n      <th colspan=\"4\" halign=\"left\">F1 Score</th>\n    </tr>\n    <tr>\n      <th></th>\n      <th>mean</th>\n      <th>std</th>\n      <th>min</th>\n      <th>max</th>\n      <th>mean</th>\n      <th>std</th>\n      <th>min</th>\n      <th>max</th>\n      <th>mean</th>\n      <th>std</th>\n      <th>min</th>\n      <th>max</th>\n    </tr>\n    <tr>\n      <th>Task</th>\n      <th></th>\n      <th></th>\n      <th></th>\n      <th></th>\n      <th></th>\n      <th></th>\n      <th></th>\n      <th></th>\n      <th></th>\n      <th></th>\n      <th></th>\n      <th></th>\n    </tr>\n  </thead>\n  <tbody>\n    <tr>\n      <th>Error Correction (Baran)</th>\n      <td>0.952737</td>\n      <td>0.029085</td>\n      <td>0.889436</td>\n      <td>0.984112</td>\n      <td>0.937529</td>\n      <td>0.042530</td>\n      <td>0.828061</td>\n      <td>0.972031</td>\n      <td>0.944989</td>\n      <td>0.035650</td>\n      <td>0.857652</td>\n      <td>0.974825</td>\n    </tr>\n    <tr>\n      <th>Error Detection (Raha)</th>\n      <td>0.996428</td>\n      <td>0.006339</td>\n      <td>0.978466</td>\n      <td>1.000000</td>\n      <td>0.998418</td>\n      <td>0.005002</td>\n      <td>0.984182</td>\n      <td>1.000000</td>\n      <td>0.997404</td>\n      <td>0.003667</td>\n      <td>0.989116</td>\n      <td>0.999198</td>\n    </tr>\n  </tbody>\n</table>\n</div>"
     },
     "execution_count": 3,
     "metadata": {},
     "output_type": "execute_result"
    }
   ],
   "source": [
    "evaluation_df = pandas.DataFrame(columns=[\"Task\", \"Precision\", \"Recall\", \"F1 Score\"])\n",
    "\n",
    "for d in datasets:\n",
    "    edp, edr, edf = d.get_data_cleaning_evaluation(d.detected_cells)[:3]\n",
    "    ecp, ecr, ecf = d.get_data_cleaning_evaluation(d.corrected_cells)[-3:]\n",
    "\n",
    "    evaluation_df = evaluation_df.append({\"Task\": \"Error Detection (Raha)\", \"Precision\": edp,\n",
    "                                          \"Recall\": edr, \"F1 Score\": edf}, ignore_index=True)\n",
    "    evaluation_df = evaluation_df.append({\"Task\": \"Error Correction (Baran)\", \"Precision\": ecp,\n",
    "                                          \"Recall\": ecr, \"F1 Score\": ecf}, ignore_index=True)\n",
    "display(evaluation_df)\n",
    "\n",
    "evaluation_df.groupby(\"Task\").agg([\"mean\", \"std\", \"min\", \"max\"])"
   ]
  },
  {
   "cell_type": "markdown",
   "source": [
    "## Analyze the alternative repairs"
   ],
   "metadata": {
    "collapsed": false,
    "pycharm": {
     "name": "#%% md\n"
    }
   }
  },
  {
   "cell_type": "code",
   "execution_count": 4,
   "outputs": [
    {
     "data": {
      "text/plain": "       1       2      3     4     5    6    7    8    10\n0  2397.0  1707.0  132.0  53.0  17.0  6.0  8.0  2.0  0.0\n1  3676.0   450.0  134.0  33.0   2.0  0.0  0.0  0.0  0.0\n2  3674.0   443.0   74.0  37.0   5.0  1.0  2.0  0.0  0.0\n3  2236.0  1816.0  158.0  66.0  25.0  7.0  2.0  0.0  0.0\n4  3368.0   805.0   41.0  14.0   9.0  0.0  0.0  0.0  0.0\n5  3560.0   704.0   23.0   7.0   4.0  0.0  0.0  0.0  0.0\n6  2539.0  1398.0   72.0  12.0   4.0  0.0  0.0  0.0  0.0\n7  2843.0  1231.0  100.0  46.0  22.0  5.0  0.0  1.0  1.0\n8  3213.0   912.0   95.0  33.0   8.0  5.0  1.0  0.0  0.0\n9  3528.0   689.0   50.0   6.0   1.0  1.0  0.0  0.0  0.0",
      "text/html": "<div>\n<style scoped>\n    .dataframe tbody tr th:only-of-type {\n        vertical-align: middle;\n    }\n\n    .dataframe tbody tr th {\n        vertical-align: top;\n    }\n\n    .dataframe thead th {\n        text-align: right;\n    }\n</style>\n<table border=\"1\" class=\"dataframe\">\n  <thead>\n    <tr style=\"text-align: right;\">\n      <th></th>\n      <th>1</th>\n      <th>2</th>\n      <th>3</th>\n      <th>4</th>\n      <th>5</th>\n      <th>6</th>\n      <th>7</th>\n      <th>8</th>\n      <th>10</th>\n    </tr>\n  </thead>\n  <tbody>\n    <tr>\n      <th>0</th>\n      <td>2397.0</td>\n      <td>1707.0</td>\n      <td>132.0</td>\n      <td>53.0</td>\n      <td>17.0</td>\n      <td>6.0</td>\n      <td>8.0</td>\n      <td>2.0</td>\n      <td>0.0</td>\n    </tr>\n    <tr>\n      <th>1</th>\n      <td>3676.0</td>\n      <td>450.0</td>\n      <td>134.0</td>\n      <td>33.0</td>\n      <td>2.0</td>\n      <td>0.0</td>\n      <td>0.0</td>\n      <td>0.0</td>\n      <td>0.0</td>\n    </tr>\n    <tr>\n      <th>2</th>\n      <td>3674.0</td>\n      <td>443.0</td>\n      <td>74.0</td>\n      <td>37.0</td>\n      <td>5.0</td>\n      <td>1.0</td>\n      <td>2.0</td>\n      <td>0.0</td>\n      <td>0.0</td>\n    </tr>\n    <tr>\n      <th>3</th>\n      <td>2236.0</td>\n      <td>1816.0</td>\n      <td>158.0</td>\n      <td>66.0</td>\n      <td>25.0</td>\n      <td>7.0</td>\n      <td>2.0</td>\n      <td>0.0</td>\n      <td>0.0</td>\n    </tr>\n    <tr>\n      <th>4</th>\n      <td>3368.0</td>\n      <td>805.0</td>\n      <td>41.0</td>\n      <td>14.0</td>\n      <td>9.0</td>\n      <td>0.0</td>\n      <td>0.0</td>\n      <td>0.0</td>\n      <td>0.0</td>\n    </tr>\n    <tr>\n      <th>5</th>\n      <td>3560.0</td>\n      <td>704.0</td>\n      <td>23.0</td>\n      <td>7.0</td>\n      <td>4.0</td>\n      <td>0.0</td>\n      <td>0.0</td>\n      <td>0.0</td>\n      <td>0.0</td>\n    </tr>\n    <tr>\n      <th>6</th>\n      <td>2539.0</td>\n      <td>1398.0</td>\n      <td>72.0</td>\n      <td>12.0</td>\n      <td>4.0</td>\n      <td>0.0</td>\n      <td>0.0</td>\n      <td>0.0</td>\n      <td>0.0</td>\n    </tr>\n    <tr>\n      <th>7</th>\n      <td>2843.0</td>\n      <td>1231.0</td>\n      <td>100.0</td>\n      <td>46.0</td>\n      <td>22.0</td>\n      <td>5.0</td>\n      <td>0.0</td>\n      <td>1.0</td>\n      <td>1.0</td>\n    </tr>\n    <tr>\n      <th>8</th>\n      <td>3213.0</td>\n      <td>912.0</td>\n      <td>95.0</td>\n      <td>33.0</td>\n      <td>8.0</td>\n      <td>5.0</td>\n      <td>1.0</td>\n      <td>0.0</td>\n      <td>0.0</td>\n    </tr>\n    <tr>\n      <th>9</th>\n      <td>3528.0</td>\n      <td>689.0</td>\n      <td>50.0</td>\n      <td>6.0</td>\n      <td>1.0</td>\n      <td>1.0</td>\n      <td>0.0</td>\n      <td>0.0</td>\n      <td>0.0</td>\n    </tr>\n  </tbody>\n</table>\n</div>"
     },
     "execution_count": 4,
     "metadata": {},
     "output_type": "execute_result"
    }
   ],
   "source": [
    "alternative_count_list = []\n",
    "\n",
    "for d in datasets:\n",
    "    number_of_repairs = len(d.correction_collection)\n",
    "    number_of_repairs_hist = dict()\n",
    "\n",
    "    for cell_repairs in d.correction_collection.values():\n",
    "        num = len(cell_repairs)\n",
    "        number_of_repairs_hist[num] = number_of_repairs_hist.get(num, 0) + 1\n",
    "\n",
    "    hist = [0] * (max(number_of_repairs_hist.keys()) + 1)\n",
    "    for num, count in number_of_repairs_hist.items():\n",
    "        hist[num] = count\n",
    "\n",
    "    alternative_count_list.append(number_of_repairs_hist)\n",
    "\n",
    "    #print(f\"Histogram of the number of alternative repairs: {list(enumerate(hist))}\")\n",
    "\n",
    "max_alternatives = max(len(h) for h in alternative_count_list)\n",
    "\n",
    "alternative_count_df = pandas.DataFrame(columns=list(range(max_alternatives + 1)))\n",
    "\n",
    "for hist in alternative_count_list:\n",
    "    alternative_count_df = alternative_count_df.append(hist, ignore_index=True)\n",
    "\n",
    "alternative_count_df.drop(0,axis=1,inplace=True)\n",
    "alternative_count_df = alternative_count_df.fillna(0)\n",
    "alternative_count_df"
   ],
   "metadata": {
    "collapsed": false,
    "pycharm": {
     "name": "#%%\n"
    }
   }
  },
  {
   "cell_type": "code",
   "execution_count": 5,
   "outputs": [
    {
     "data": {
      "text/plain": "mean    1.316448\nstd     0.150148\nmin     1.174457\nmax     1.574710\ndtype: float64"
     },
     "execution_count": 5,
     "metadata": {},
     "output_type": "execute_result"
    }
   ],
   "source": [
    "mean_number_of_repairs = (alternative_count_df * np.arange(1,10,1)).sum(axis=1) / alternative_count_df.sum(axis=1)\n",
    "mean_number_of_repairs.agg([\"mean\", \"std\", \"min\", \"max\"])"
   ],
   "metadata": {
    "collapsed": false,
    "pycharm": {
     "name": "#%%\n"
    }
   }
  },
  {
   "cell_type": "code",
   "execution_count": 6,
   "outputs": [
    {
     "data": {
      "text/plain": "mean    0.270204\nstd     0.127846\nmin     0.132672\nmax     0.481206\ndtype: float64"
     },
     "execution_count": 6,
     "metadata": {},
     "output_type": "execute_result"
    }
   ],
   "source": [
    "more_than_one = alternative_count_df.loc[:, alternative_count_df.columns[1:]].sum(axis=1) / alternative_count_df.sum(axis=1)\n",
    "more_than_one.agg([\"mean\", \"std\", \"min\", \"max\"])"
   ],
   "metadata": {
    "collapsed": false,
    "pycharm": {
     "name": "#%%\n"
    }
   }
  },
  {
   "cell_type": "code",
   "execution_count": 7,
   "outputs": [
    {
     "name": "stdout",
     "output_type": "stream",
     "text": [
      "Mean number of cells with x predicted alternatives in 10 runs\n"
     ]
    },
    {
     "data": {
      "text/plain": "1     3103.4\n2     1015.5\n3       87.9\n4       30.7\n5        9.7\n6        2.5\n7        1.3\n8        0.3\n10       0.1\ndtype: float64"
     },
     "execution_count": 7,
     "metadata": {},
     "output_type": "execute_result"
    }
   ],
   "source": [
    "print(\"Mean number of cells with x predicted alternatives in 10 runs\")\n",
    "mean_count_series = alternative_count_df.mean()\n",
    "mean_count_series"
   ],
   "metadata": {
    "collapsed": false,
    "pycharm": {
     "name": "#%%\n"
    }
   }
  },
  {
   "cell_type": "code",
   "execution_count": 64,
   "outputs": [
    {
     "data": {
      "text/plain": "       correct  alternatives  correct_contained  chosen_confidence  \\\n0         True             2               True                1.0   \n1         True             1               True                1.0   \n2         True             2               True                1.0   \n3         True             2               True                1.0   \n4         True             2               True                1.0   \n...        ...           ...                ...                ...   \n42491     True             1               True                1.0   \n42492     True             1               True                1.0   \n42493     True             1               True                1.0   \n42494     True             1               True                1.0   \n42495     True             1               True                1.0   \n\n      alternative_confidences  \n0       (0.5011903582351955,)  \n1                          ()  \n2                      (0.5,)  \n3       (0.5004558037657229,)  \n4                      (0.5,)  \n...                       ...  \n42491                      ()  \n42492                      ()  \n42493                      ()  \n42494                      ()  \n42495                      ()  \n\n[42496 rows x 5 columns]",
      "text/html": "<div>\n<style scoped>\n    .dataframe tbody tr th:only-of-type {\n        vertical-align: middle;\n    }\n\n    .dataframe tbody tr th {\n        vertical-align: top;\n    }\n\n    .dataframe thead th {\n        text-align: right;\n    }\n</style>\n<table border=\"1\" class=\"dataframe\">\n  <thead>\n    <tr style=\"text-align: right;\">\n      <th></th>\n      <th>correct</th>\n      <th>alternatives</th>\n      <th>correct_contained</th>\n      <th>chosen_confidence</th>\n      <th>alternative_confidences</th>\n    </tr>\n  </thead>\n  <tbody>\n    <tr>\n      <th>0</th>\n      <td>True</td>\n      <td>2</td>\n      <td>True</td>\n      <td>1.0</td>\n      <td>(0.5011903582351955,)</td>\n    </tr>\n    <tr>\n      <th>1</th>\n      <td>True</td>\n      <td>1</td>\n      <td>True</td>\n      <td>1.0</td>\n      <td>()</td>\n    </tr>\n    <tr>\n      <th>2</th>\n      <td>True</td>\n      <td>2</td>\n      <td>True</td>\n      <td>1.0</td>\n      <td>(0.5,)</td>\n    </tr>\n    <tr>\n      <th>3</th>\n      <td>True</td>\n      <td>2</td>\n      <td>True</td>\n      <td>1.0</td>\n      <td>(0.5004558037657229,)</td>\n    </tr>\n    <tr>\n      <th>4</th>\n      <td>True</td>\n      <td>2</td>\n      <td>True</td>\n      <td>1.0</td>\n      <td>(0.5,)</td>\n    </tr>\n    <tr>\n      <th>...</th>\n      <td>...</td>\n      <td>...</td>\n      <td>...</td>\n      <td>...</td>\n      <td>...</td>\n    </tr>\n    <tr>\n      <th>42491</th>\n      <td>True</td>\n      <td>1</td>\n      <td>True</td>\n      <td>1.0</td>\n      <td>()</td>\n    </tr>\n    <tr>\n      <th>42492</th>\n      <td>True</td>\n      <td>1</td>\n      <td>True</td>\n      <td>1.0</td>\n      <td>()</td>\n    </tr>\n    <tr>\n      <th>42493</th>\n      <td>True</td>\n      <td>1</td>\n      <td>True</td>\n      <td>1.0</td>\n      <td>()</td>\n    </tr>\n    <tr>\n      <th>42494</th>\n      <td>True</td>\n      <td>1</td>\n      <td>True</td>\n      <td>1.0</td>\n      <td>()</td>\n    </tr>\n    <tr>\n      <th>42495</th>\n      <td>True</td>\n      <td>1</td>\n      <td>True</td>\n      <td>1.0</td>\n      <td>()</td>\n    </tr>\n  </tbody>\n</table>\n<p>42496 rows × 5 columns</p>\n</div>"
     },
     "execution_count": 64,
     "metadata": {},
     "output_type": "execute_result"
    }
   ],
   "source": [
    "correct_repairs = datasets[0].get_actual_errors_dictionary()\n",
    "\n",
    "infos = []\n",
    "\n",
    "for d in datasets:\n",
    "    for cell in d.correction_collection:\n",
    "        if cell in correct_repairs:\n",
    "            alternative_confidences = [value for alt, value in d.correction_collection[cell].items() if alt != d.corrected_cells[cell]]\n",
    "            infos.append([d.corrected_cells[cell] == correct_repairs[cell],\n",
    "                          len(d.correction_collection[cell]),\n",
    "                          correct_repairs[cell] in d.correction_collection[cell],\n",
    "                          d.correction_confidences[cell],\n",
    "                          tuple(alternative_confidences)])\n",
    "\n",
    "alternative_correct_df = pandas.DataFrame(infos, columns=[\"correct\", \"alternatives\", \"correct_contained\", \"chosen_confidence\", \"alternative_confidences\"])\n",
    "alternative_correct_df"
   ],
   "metadata": {
    "collapsed": false,
    "pycharm": {
     "name": "#%%\n"
    }
   }
  },
  {
   "cell_type": "code",
   "execution_count": 72,
   "outputs": [
    {
     "data": {
      "text/plain": "0.27009600903614456"
     },
     "execution_count": 72,
     "metadata": {},
     "output_type": "execute_result"
    }
   ],
   "source": [
    "(alternative_correct_df[\"alternatives\"] > 1).sum() / len(alternative_correct_df.index)"
   ],
   "metadata": {
    "collapsed": false,
    "pycharm": {
     "name": "#%%\n"
    }
   }
  },
  {
   "cell_type": "code",
   "execution_count": 73,
   "outputs": [
    {
     "data": {
      "text/plain": "0.9530544051204819"
     },
     "execution_count": 73,
     "metadata": {},
     "output_type": "execute_result"
    }
   ],
   "source": [
    "alternative_correct_df[\"correct\"].sum() / len(alternative_correct_df.index)"
   ],
   "metadata": {
    "collapsed": false,
    "pycharm": {
     "name": "#%%\n"
    }
   }
  },
  {
   "cell_type": "code",
   "execution_count": 76,
   "outputs": [
    {
     "name": "stdout",
     "output_type": "stream",
     "text": [
      "1273\n"
     ]
    },
    {
     "data": {
      "text/plain": "0.638095238095238"
     },
     "execution_count": 76,
     "metadata": {},
     "output_type": "execute_result"
    }
   ],
   "source": [
    "print((alternative_correct_df.loc[~alternative_correct_df[\"correct\"], \"alternatives\"] > 1).sum())\n",
    "(alternative_correct_df.loc[~alternative_correct_df[\"correct\"], \"alternatives\"] > 1).sum() / (~alternative_correct_df[\"correct\"]).sum()"
   ],
   "metadata": {
    "collapsed": false,
    "pycharm": {
     "name": "#%%\n"
    }
   }
  },
  {
   "cell_type": "code",
   "execution_count": 77,
   "outputs": [
    {
     "name": "stdout",
     "output_type": "stream",
     "text": [
      "10205\n"
     ]
    },
    {
     "data": {
      "text/plain": "0.2519690871830325"
     },
     "execution_count": 77,
     "metadata": {},
     "output_type": "execute_result"
    }
   ],
   "source": [
    "print((alternative_correct_df.loc[alternative_correct_df[\"correct\"], \"alternatives\"] > 1).sum())\n",
    "(alternative_correct_df.loc[alternative_correct_df[\"correct\"], \"alternatives\"] > 1).sum() / (alternative_correct_df[\"correct\"]).sum()"
   ],
   "metadata": {
    "collapsed": false,
    "pycharm": {
     "name": "#%%\n"
    }
   }
  },
  {
   "cell_type": "code",
   "execution_count": 78,
   "outputs": [
    {
     "data": {
      "text/plain": "0.11851851851851851"
     },
     "execution_count": 78,
     "metadata": {},
     "output_type": "execute_result"
    }
   ],
   "source": [
    "0.64 * 0.05 / 0.27"
   ],
   "metadata": {
    "collapsed": false,
    "pycharm": {
     "name": "#%%\n"
    }
   }
  },
  {
   "cell_type": "code",
   "execution_count": 79,
   "outputs": [
    {
     "data": {
      "text/plain": "0.110907823662659"
     },
     "execution_count": 79,
     "metadata": {},
     "output_type": "execute_result"
    }
   ],
   "source": [
    "1273 / (1273 + 10205)"
   ],
   "metadata": {
    "collapsed": false,
    "pycharm": {
     "name": "#%%\n"
    }
   }
  },
  {
   "cell_type": "code",
   "execution_count": 80,
   "outputs": [
    {
     "data": {
      "text/plain": "0.37543859649122807"
     },
     "execution_count": 80,
     "metadata": {},
     "output_type": "execute_result"
    }
   ],
   "source": [
    "(~alternative_correct_df[\"correct\"] & alternative_correct_df[\"correct_contained\"]).sum() / (~alternative_correct_df[\"correct\"]).sum()"
   ],
   "metadata": {
    "collapsed": false,
    "pycharm": {
     "name": "#%%\n"
    }
   }
  },
  {
   "cell_type": "code",
   "execution_count": 89,
   "outputs": [
    {
     "data": {
      "text/plain": "      repair_percentage  highest_percentage\nmean           0.309808            0.285062\nstd            0.213265            0.186010\nmin            0.098039            0.098039\nmax            0.677966            0.624506",
      "text/html": "<div>\n<style scoped>\n    .dataframe tbody tr th:only-of-type {\n        vertical-align: middle;\n    }\n\n    .dataframe tbody tr th {\n        vertical-align: top;\n    }\n\n    .dataframe thead th {\n        text-align: right;\n    }\n</style>\n<table border=\"1\" class=\"dataframe\">\n  <thead>\n    <tr style=\"text-align: right;\">\n      <th></th>\n      <th>repair_percentage</th>\n      <th>highest_percentage</th>\n    </tr>\n  </thead>\n  <tbody>\n    <tr>\n      <th>mean</th>\n      <td>0.309808</td>\n      <td>0.285062</td>\n    </tr>\n    <tr>\n      <th>std</th>\n      <td>0.213265</td>\n      <td>0.186010</td>\n    </tr>\n    <tr>\n      <th>min</th>\n      <td>0.098039</td>\n      <td>0.098039</td>\n    </tr>\n    <tr>\n      <th>max</th>\n      <td>0.677966</td>\n      <td>0.624506</td>\n    </tr>\n  </tbody>\n</table>\n</div>"
     },
     "execution_count": 89,
     "metadata": {},
     "output_type": "execute_result"
    }
   ],
   "source": [
    "collection = []\n",
    "correct_repair_probs = []\n",
    "incorrect_repair_probs = []\n",
    "other_repair_probs = []\n",
    "\n",
    "for d in datasets:\n",
    "    error_repaired_cells = [cell for cell, correction in d.corrected_cells.items() if cell in correct_repairs and correction != correct_repairs[cell]]\n",
    "    #print(f\"Number of incorrectly repaired cells: {len(error_repaired_cells)}\")\n",
    "\n",
    "    correct_repair_available = 0\n",
    "    correct_repair_highest = 0\n",
    "\n",
    "    for cell in error_repaired_cells:\n",
    "        if correct_repairs[cell] in d.correction_collection[cell].keys():\n",
    "            correct_repair_available += 1\n",
    "            other_repairs = d.correction_collection[cell].copy()\n",
    "            other_repairs.pop(d.corrected_cells[cell], None)\n",
    "            other_repairs.pop(correct_repairs[cell], None)\n",
    "            if d.correction_collection[cell][correct_repairs[cell]] > max(list(other_repairs.values()) + [0]):\n",
    "                correct_repair_highest += 1\n",
    "\n",
    "    #print(f\"Number of incorrectly repaired cells, where the correct repair is among the alternative repairs: {correct_repair_available}\")\n",
    "\n",
    "    collection.append((len(error_repaired_cells),correct_repair_available, correct_repair_highest))\n",
    "\n",
    "    for cell in error_repaired_cells:\n",
    "        if correct_repairs[cell] in d.correction_collection[cell]:\n",
    "            correct_repair_probs.append(d.correction_collection[cell][correct_repairs[cell]])\n",
    "            incorrect_repair_probs.append(d.correction_confidences[cell])\n",
    "            other_repair_probs.append([prob for val, prob in d.correction_collection[cell].items()\n",
    "                                       if val not in [correct_repairs[cell], d.corrected_cells[cell]]])\n",
    "\n",
    "repairable_df = pandas.DataFrame(collection, columns=[\"errors\",\"repairs\",\"highest\"])\n",
    "repairable_df[\"repair_percentage\"] = repairable_df[\"repairs\"] / repairable_df[\"errors\"]\n",
    "repairable_df[\"highest_percentage\"] = repairable_df[\"highest\"] / repairable_df[\"errors\"]\n",
    "repairable_df[[\"repair_percentage\", \"highest_percentage\"]].agg([\"mean\", \"std\", \"min\", \"max\"])"
   ],
   "metadata": {
    "collapsed": false,
    "pycharm": {
     "name": "#%%\n"
    }
   }
  },
  {
   "cell_type": "code",
   "execution_count": 13,
   "outputs": [
    {
     "name": "stdout",
     "output_type": "stream",
     "text": [
      "mean    0.834035\n",
      "std     0.212772\n",
      "min     0.500000\n",
      "max     1.000000\n",
      "dtype: float64\n"
     ]
    },
    {
     "data": {
      "text/plain": "(array([123,   5,   4,   0,   2,   4,   0,   2,   6,   1,   5,   0,   1,\n          2,   5,   2,   6,  12,   2,   2,   5,  15,   4,   6,   4,   5,\n          7,   3,   3,   0,   0,   1,   1,   0,   5,   2,   0,   0,   0,\n          0,   0,   0,   0,   0,  31,   2,   0,   0,   0,   0,   0,   0,\n          0,   0,   0,   0,   0,   7,   0,   0,   0,   0,   2,   4,   2,\n          1,   1,   0,   1,   0,   0,   0,   0,   0,   0,   0,   0,   0,\n          0,   0,   0,   0,   2,   0,   0,   0,   0,   0,   0,   0,   1,\n          1,   3,   0,   0,   0,   0,   0,   5, 441]),\n array([0.5  , 0.505, 0.51 , 0.515, 0.52 , 0.525, 0.53 , 0.535, 0.54 ,\n        0.545, 0.55 , 0.555, 0.56 , 0.565, 0.57 , 0.575, 0.58 , 0.585,\n        0.59 , 0.595, 0.6  , 0.605, 0.61 , 0.615, 0.62 , 0.625, 0.63 ,\n        0.635, 0.64 , 0.645, 0.65 , 0.655, 0.66 , 0.665, 0.67 , 0.675,\n        0.68 , 0.685, 0.69 , 0.695, 0.7  , 0.705, 0.71 , 0.715, 0.72 ,\n        0.725, 0.73 , 0.735, 0.74 , 0.745, 0.75 , 0.755, 0.76 , 0.765,\n        0.77 , 0.775, 0.78 , 0.785, 0.79 , 0.795, 0.8  , 0.805, 0.81 ,\n        0.815, 0.82 , 0.825, 0.83 , 0.835, 0.84 , 0.845, 0.85 , 0.855,\n        0.86 , 0.865, 0.87 , 0.875, 0.88 , 0.885, 0.89 , 0.895, 0.9  ,\n        0.905, 0.91 , 0.915, 0.92 , 0.925, 0.93 , 0.935, 0.94 , 0.945,\n        0.95 , 0.955, 0.96 , 0.965, 0.97 , 0.975, 0.98 , 0.985, 0.99 ,\n        0.995, 1.   ]))"
     },
     "execution_count": 13,
     "metadata": {},
     "output_type": "execute_result"
    }
   ],
   "source": [
    "print(pandas.Series(correct_repair_probs).agg([\"mean\", \"std\", \"min\", \"max\"]))\n",
    "\n",
    "np.histogram(correct_repair_probs,np.linspace(0.5,1.0,101))"
   ],
   "metadata": {
    "collapsed": false,
    "pycharm": {
     "name": "#%%\n"
    }
   }
  },
  {
   "cell_type": "code",
   "execution_count": 15,
   "outputs": [
    {
     "name": "stdout",
     "output_type": "stream",
     "text": [
      "mean    0.82207\n",
      "std     0.23063\n",
      "min     0.50000\n",
      "max     1.00000\n",
      "dtype: float64\n"
     ]
    },
    {
     "data": {
      "text/plain": "(array([162,   1,   9,   5,  10,   0,   8,  35,   1,   2,   2,   8,   4,\n          4,   1,   0,   1,   7,   0,   1,   0,   0,   5,   1,   0,   1,\n          0,   0,   0,   0,   0,   0,   2,   1,   5,   0,   0,   0,   0,\n          1,   0,   0,   0,   0,   0,   0,   0,   0,   0,   0,   0,   0,\n          0,   1,   1,   0,   0,   0,   0,   0,   0,   0,   0,   0,   0,\n          1,   0,   2,   0,   0,   0,   0,   0,   0,   2,   0,   1,   0,\n          0,   0,   0,   0,   0,   0,   0,   0,   0,   0,   0,   0,   0,\n          0,   0,   0,   0,   0,   0,   0,   0, 464]),\n array([0.5  , 0.505, 0.51 , 0.515, 0.52 , 0.525, 0.53 , 0.535, 0.54 ,\n        0.545, 0.55 , 0.555, 0.56 , 0.565, 0.57 , 0.575, 0.58 , 0.585,\n        0.59 , 0.595, 0.6  , 0.605, 0.61 , 0.615, 0.62 , 0.625, 0.63 ,\n        0.635, 0.64 , 0.645, 0.65 , 0.655, 0.66 , 0.665, 0.67 , 0.675,\n        0.68 , 0.685, 0.69 , 0.695, 0.7  , 0.705, 0.71 , 0.715, 0.72 ,\n        0.725, 0.73 , 0.735, 0.74 , 0.745, 0.75 , 0.755, 0.76 , 0.765,\n        0.77 , 0.775, 0.78 , 0.785, 0.79 , 0.795, 0.8  , 0.805, 0.81 ,\n        0.815, 0.82 , 0.825, 0.83 , 0.835, 0.84 , 0.845, 0.85 , 0.855,\n        0.86 , 0.865, 0.87 , 0.875, 0.88 , 0.885, 0.89 , 0.895, 0.9  ,\n        0.905, 0.91 , 0.915, 0.92 , 0.925, 0.93 , 0.935, 0.94 , 0.945,\n        0.95 , 0.955, 0.96 , 0.965, 0.97 , 0.975, 0.98 , 0.985, 0.99 ,\n        0.995, 1.   ]))"
     },
     "execution_count": 15,
     "metadata": {},
     "output_type": "execute_result"
    }
   ],
   "source": [
    "print(pandas.Series(incorrect_repair_probs).agg([\"mean\", \"std\", \"min\", \"max\"]))\n",
    "\n",
    "np.histogram(incorrect_repair_probs,np.linspace(0.5,1.0,101))"
   ],
   "metadata": {
    "collapsed": false,
    "pycharm": {
     "name": "#%%\n"
    }
   }
  },
  {
   "cell_type": "code",
   "execution_count": 16,
   "outputs": [
    {
     "name": "stdout",
     "output_type": "stream",
     "text": [
      "mean    0.672561\n",
      "std     0.213569\n",
      "min     0.500504\n",
      "max     1.000000\n",
      "dtype: float64\n"
     ]
    },
    {
     "data": {
      "text/plain": "(array([25, 25, 22, 10, 20,  4,  3,  9,  4,  1,  1,  4,  0,  7,  4,  6,  1,\n         1,  2,  0,  1,  1,  1,  0, 12,  0,  0,  0,  0,  0,  0,  0,  0,  2,\n         0,  0,  0,  0,  0,  0,  0,  1,  0,  0,  0,  0,  0,  0,  0,  0,  0,\n         0,  0,  1,  0,  0,  0,  0,  0,  0,  0,  0,  0,  0,  0,  0,  0,  0,\n         0,  0,  0,  0,  0,  0,  0,  0,  0,  0,  0,  0,  0,  0,  0,  0,  0,\n         0,  0,  0,  0,  0,  0,  0,  0,  0,  0,  0,  0,  0,  0, 69]),\n array([0.5  , 0.505, 0.51 , 0.515, 0.52 , 0.525, 0.53 , 0.535, 0.54 ,\n        0.545, 0.55 , 0.555, 0.56 , 0.565, 0.57 , 0.575, 0.58 , 0.585,\n        0.59 , 0.595, 0.6  , 0.605, 0.61 , 0.615, 0.62 , 0.625, 0.63 ,\n        0.635, 0.64 , 0.645, 0.65 , 0.655, 0.66 , 0.665, 0.67 , 0.675,\n        0.68 , 0.685, 0.69 , 0.695, 0.7  , 0.705, 0.71 , 0.715, 0.72 ,\n        0.725, 0.73 , 0.735, 0.74 , 0.745, 0.75 , 0.755, 0.76 , 0.765,\n        0.77 , 0.775, 0.78 , 0.785, 0.79 , 0.795, 0.8  , 0.805, 0.81 ,\n        0.815, 0.82 , 0.825, 0.83 , 0.835, 0.84 , 0.845, 0.85 , 0.855,\n        0.86 , 0.865, 0.87 , 0.875, 0.88 , 0.885, 0.89 , 0.895, 0.9  ,\n        0.905, 0.91 , 0.915, 0.92 , 0.925, 0.93 , 0.935, 0.94 , 0.945,\n        0.95 , 0.955, 0.96 , 0.965, 0.97 , 0.975, 0.98 , 0.985, 0.99 ,\n        0.995, 1.   ]))"
     },
     "execution_count": 16,
     "metadata": {},
     "output_type": "execute_result"
    }
   ],
   "source": [
    "flat_others = [value for sublist in other_repair_probs for value in sublist]\n",
    "\n",
    "print(pandas.Series(flat_others).agg([\"mean\", \"std\", \"min\", \"max\"]))\n",
    "\n",
    "np.histogram(flat_others,np.linspace(0.5, 1.0, 101))"
   ],
   "metadata": {
    "collapsed": false,
    "pycharm": {
     "name": "#%%\n"
    }
   }
  },
  {
   "cell_type": "code",
   "execution_count": 82,
   "outputs": [
    {
     "name": "stdout",
     "output_type": "stream",
     "text": [
      "749\n",
      "0.910547396528705\n",
      "0.06542056074766354\n",
      "0.2910547396528705\n",
      "0.6061415220293725\n",
      "0.897196261682243\n",
      "0.2817089452603471\n",
      "0.5420560747663551\n",
      "0.8237650200267023\n",
      "0.8985313751668892\n"
     ]
    },
    {
     "data": {
      "text/plain": "count    749.000000\nmean       0.044793\nstd        0.102440\nmin        0.000000\n25%        0.000000\n50%        0.000000\n75%        0.019516\nmax        0.498658\ndtype: float64"
     },
     "execution_count": 82,
     "metadata": {},
     "output_type": "execute_result"
    }
   ],
   "source": [
    "correct_s = pandas.Series(correct_repair_probs)\n",
    "incorrect_s = pandas.Series(incorrect_repair_probs)\n",
    "max_other_s = pandas.Series(max(other + [0]) for other in other_repair_probs)\n",
    "\n",
    "print(len(correct_s))\n",
    "\n",
    "print((correct_s > max_other_s).sum() / len(correct_s))\n",
    "print((correct_s == max_other_s).sum() / len(correct_s))\n",
    "print((correct_s > incorrect_s).sum() / len(correct_s))\n",
    "print((correct_s == incorrect_s).sum() / len(correct_s))\n",
    "print((correct_s >= incorrect_s).sum() / len(correct_s))\n",
    "print(((correct_s > incorrect_s) & (correct_s > max_other_s)).sum() / len(correct_s))\n",
    "print(((correct_s == incorrect_s) & (correct_s > max_other_s)).sum() / len(correct_s))\n",
    "print(((correct_s >= incorrect_s) & (correct_s > max_other_s)).sum() / len(correct_s))\n",
    "print(((correct_s >= incorrect_s) | (max_other_s >= incorrect_s)).sum() / len(correct_s))\n",
    "\n",
    "abs(correct_s - incorrect_s).describe()"
   ],
   "metadata": {
    "collapsed": false,
    "pycharm": {
     "name": "#%%\n"
    }
   }
  },
  {
   "cell_type": "code",
   "execution_count": 85,
   "outputs": [
    {
     "name": "stdout",
     "output_type": "stream",
     "text": [
      "0.8130841121495327\n",
      "0.5214285714285715\n"
     ]
    }
   ],
   "source": [
    "other_count = pandas.Series(len(other) for other in other_repair_probs)\n",
    "print((other_count == 0).sum() / len(other_count))\n",
    "\n",
    "print(((correct_s > max_other_s) & (other_count > 0)).sum() / (other_count > 0).sum())"
   ],
   "metadata": {
    "collapsed": false,
    "pycharm": {
     "name": "#%%\n"
    }
   }
  },
  {
   "cell_type": "code",
   "execution_count": 44,
   "outputs": [],
   "source": [
    "incorrect_repair_probs_full = []\n",
    "max_other_repair_probs = []\n",
    "\n",
    "for d in datasets:\n",
    "    error_repaired_cells = [cell for cell, correction in d.corrected_cells.items() if cell in correct_repairs and correction != correct_repairs[cell]]\n",
    "\n",
    "    for cell in error_repaired_cells:\n",
    "        incorrect_repair_probs_full.append(d.correction_confidences[cell])\n",
    "        max_other_repair_probs.append(max([prob for val, prob in d.correction_collection[cell].items()\n",
    "                                   if val != d.corrected_cells[cell]] + [0]))"
   ],
   "metadata": {
    "collapsed": false,
    "pycharm": {
     "name": "#%%\n"
    }
   }
  },
  {
   "cell_type": "code",
   "execution_count": 48,
   "outputs": [
    {
     "name": "stdout",
     "output_type": "stream",
     "text": [
      "1995\n",
      "1995\n",
      "0.3779448621553885\n",
      "mean    0.757092\n",
      "std     0.227161\n",
      "min     0.500000\n",
      "max     1.000000\n",
      "dtype: float64\n"
     ]
    },
    {
     "data": {
      "text/plain": "(array([308,  47,  98,  39,  62,  13,  16,  99,  20,  11,  22,  30,  12,\n         19,  15,  10,  11,  58,   7,   1,  11,   2,  22,   4,  24,   2,\n          1,   2,   1,   8,   0,   0,  11,   2,   6,   7,   2,   0,   0,\n          2,   1,  18,   0,   0,   0,   0,   0,   0,   0,   0,   1,   8,\n          0,   1,   7,   0,   0,   0,   0,   0,   0,   0,   0,   0,   0,\n          8,   0,  18,   0,   0,   1,   2,   0,   0,   2,  18,  14,   0,\n          3,   0,   0,   2,   0,   0,   0,   0,   0,   0,   5,   0,  10,\n          0,   0,   0,   3,   2,   4,   3,   3, 856]),\n array([0.5  , 0.505, 0.51 , 0.515, 0.52 , 0.525, 0.53 , 0.535, 0.54 ,\n        0.545, 0.55 , 0.555, 0.56 , 0.565, 0.57 , 0.575, 0.58 , 0.585,\n        0.59 , 0.595, 0.6  , 0.605, 0.61 , 0.615, 0.62 , 0.625, 0.63 ,\n        0.635, 0.64 , 0.645, 0.65 , 0.655, 0.66 , 0.665, 0.67 , 0.675,\n        0.68 , 0.685, 0.69 , 0.695, 0.7  , 0.705, 0.71 , 0.715, 0.72 ,\n        0.725, 0.73 , 0.735, 0.74 , 0.745, 0.75 , 0.755, 0.76 , 0.765,\n        0.77 , 0.775, 0.78 , 0.785, 0.79 , 0.795, 0.8  , 0.805, 0.81 ,\n        0.815, 0.82 , 0.825, 0.83 , 0.835, 0.84 , 0.845, 0.85 , 0.855,\n        0.86 , 0.865, 0.87 , 0.875, 0.88 , 0.885, 0.89 , 0.895, 0.9  ,\n        0.905, 0.91 , 0.915, 0.92 , 0.925, 0.93 , 0.935, 0.94 , 0.945,\n        0.95 , 0.955, 0.96 , 0.965, 0.97 , 0.975, 0.98 , 0.985, 0.99 ,\n        0.995, 1.   ]))"
     },
     "execution_count": 48,
     "metadata": {},
     "output_type": "execute_result"
    }
   ],
   "source": [
    "print(len(incorrect_repair_probs_full))\n",
    "print(len(max_other_repair_probs))\n",
    "\n",
    "incorrect_repair_probs_full = pandas.Series(incorrect_repair_probs_full)\n",
    "max_other_repair_probs = pandas.Series(max_other_repair_probs)\n",
    "\n",
    "print((max_other_repair_probs >= incorrect_repair_probs_full).sum() / len(max_other_repair_probs))\n",
    "\n",
    "print(incorrect_repair_probs_full.agg([\"mean\", \"std\", \"min\", \"max\"]))\n",
    "\n",
    "np.histogram(incorrect_repair_probs_full, np.linspace(0.5,1.0,101))"
   ],
   "metadata": {
    "collapsed": false,
    "pycharm": {
     "name": "#%%\n"
    }
   }
  },
  {
   "cell_type": "markdown",
   "source": [
    "## Analyze confidence vs error probability"
   ],
   "metadata": {
    "collapsed": false
   }
  },
  {
   "cell_type": "code",
   "execution_count": 70,
   "outputs": [],
   "source": [
    "import importlib\n",
    "from raha import analysis_utilities\n",
    "import matplotlib.pyplot as plt\n",
    "plt.style.use('seaborn')\n",
    "plt.ion()"
   ],
   "metadata": {
    "collapsed": false,
    "pycharm": {
     "name": "#%%\n"
    }
   }
  },
  {
   "cell_type": "code",
   "execution_count": 1,
   "outputs": [
    {
     "ename": "NameError",
     "evalue": "name 'importlib' is not defined",
     "output_type": "error",
     "traceback": [
      "\u001B[0;31m---------------------------------------------------------------------------\u001B[0m",
      "\u001B[0;31mNameError\u001B[0m                                 Traceback (most recent call last)",
      "\u001B[0;32m<ipython-input-1-7329713917d1>\u001B[0m in \u001B[0;36m<module>\u001B[0;34m\u001B[0m\n\u001B[0;32m----> 1\u001B[0;31m \u001B[0mimportlib\u001B[0m\u001B[0;34m.\u001B[0m\u001B[0mreload\u001B[0m\u001B[0;34m(\u001B[0m\u001B[0manalysis_utilities\u001B[0m\u001B[0;34m)\u001B[0m\u001B[0;34m\u001B[0m\u001B[0;34m\u001B[0m\u001B[0m\n\u001B[0m\u001B[1;32m      2\u001B[0m \u001B[0;34m\u001B[0m\u001B[0m\n",
      "\u001B[0;31mNameError\u001B[0m: name 'importlib' is not defined"
     ]
    }
   ],
   "source": [
    "importlib.reload(analysis_utilities)"
   ],
   "metadata": {
    "collapsed": false,
    "pycharm": {
     "name": "#%%\n"
    }
   }
  },
  {
   "cell_type": "code",
   "execution_count": 75,
   "outputs": [
    {
     "data": {
      "text/plain": "<Figure size 576x396 with 2 Axes>",
      "image/png": "[encoded data removed]"
     },
     "metadata": {},
     "output_type": "display_data"
    },
    {
     "data": {
      "text/plain": "<Figure size 576x396 with 2 Axes>",
      "image/png": "[encoded data removed]"
     },
     "metadata": {},
     "output_type": "display_data"
    }
   ],
   "source": [
    "r_p_dfs = []\n",
    "\n",
    "for d in datasets:\n",
    "\n",
    "    r_p_dfs.append(analysis_utilities.get_correction_confidence_df(d))\n",
    "\n",
    "r_p_df = pandas.concat(r_p_dfs)\n",
    "\n",
    "display(analysis_utilities.correction_confidence_distributions(r_p_df))\n",
    "display(analysis_utilities.correction_correctness_by_confidence(r_p_df, number_of_bins=10))"
   ],
   "metadata": {
    "collapsed": false,
    "pycharm": {
     "name": "#%%\n"
    }
   }
  },
  {
   "cell_type": "markdown",
   "source": [
    "## Analyze detection confidence vs error probability"
   ],
   "metadata": {
    "collapsed": false,
    "pycharm": {
     "name": "#%% md\n"
    }
   }
  },
  {
   "cell_type": "code",
   "execution_count": 88,
   "outputs": [
    {
     "data": {
      "text/plain": "<Figure size 576x396 with 4 Axes>",
      "image/png": "[encoded data removed]"
     },
     "metadata": {},
     "output_type": "display_data"
    },
    {
     "data": {
      "text/plain": "<Figure size 576x396 with 2 Axes>",
      "image/png": "[encoded data removed]"
     },
     "metadata": {},
     "output_type": "display_data"
    }
   ],
   "source": [
    "evaluation_dfs = []\n",
    "\n",
    "for d in datasets:\n",
    "    df = analysis_utilities.get_detection_evaluation_df(d)\n",
    "    evaluation_dfs.append(df)\n",
    "    #display(df)\n",
    "    #display(df.value_counts(subset=[\"detected\", \"truth\"]))\n",
    "    #display(analysis_utilities.detection_evaluation(df))\n",
    "    #display(analysis_utilities.detection_correctness_by_confidence(df,number_of_bins=10))\n",
    "\n",
    "df = pandas.concat(evaluation_dfs)\n",
    "display(analysis_utilities.detection_evaluation(df))\n",
    "display(analysis_utilities.detection_correctness_by_confidence(df))\n"
   ],
   "metadata": {
    "collapsed": false,
    "pycharm": {
     "name": "#%%\n"
    }
   }
  },
  {
   "cell_type": "code",
   "execution_count": 97,
   "outputs": [
    {
     "data": {
      "text/plain": "0.000694077706525853"
     },
     "execution_count": 97,
     "metadata": {},
     "output_type": "execute_result"
    }
   ],
   "source": [
    "1 - ((df[\"p\"] < 0.05) | (df[\"p\"] > 0.95)).sum() / len(df.index)"
   ],
   "metadata": {
    "collapsed": false,
    "pycharm": {
     "name": "#%%\n"
    }
   }
  },
  {
   "cell_type": "code",
   "execution_count": null,
   "outputs": [],
   "source": [],
   "metadata": {
    "collapsed": false,
    "pycharm": {
     "name": "#%%\n"
    }
   }
  }
 ],
 "metadata": {
  "kernelspec": {
   "display_name": "Python 3",
   "language": "python",
   "name": "python3"
  },
  "language_info": {
   "codemirror_mode": {
    "name": "ipython",
    "version": 3
   },
   "file_extension": ".py",
   "mimetype": "text/x-python",
   "name": "python",
   "nbconvert_exporter": "python",
   "pygments_lexer": "ipython3",
   "version": "3.7.9"
  }
 },
 "nbformat": 4,
 "nbformat_minor": 4
}
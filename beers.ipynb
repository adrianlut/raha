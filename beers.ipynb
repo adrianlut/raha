{
 "cells": [
  {
   "cell_type": "markdown",
   "metadata": {},
   "source": [
    "# End-to-End Data Cleaning Pipeline with Raha and Baran (Minimal and Integrated)\n",
    "We build an end-to-end data cleaning pipeline with our configuration-free error detection and correction systems, Raha and Baran."
   ]
  },
  {
   "cell_type": "code",
   "execution_count": 1,
   "metadata": {},
   "outputs": [],
   "source": [
    "import pandas\n",
    "import IPython.display\n",
    "import ipywidgets\n",
    "\n",
    "import raha"
   ]
  },
  {
   "cell_type": "markdown",
   "metadata": {},
   "source": [
    "## 1. Instantiating the Detection and Correction Classes\n",
    "We first instantiate the `Detection` and `Correction` classes."
   ]
  },
  {
   "cell_type": "code",
   "execution_count": 2,
   "metadata": {},
   "outputs": [],
   "source": [
    "from raha import analysis_utilities\n",
    "app_1 = raha.Detection()\n",
    "app_2 = raha.Correction()\n",
    "\n",
    "# How many tuples would you label?\n",
    "app_1.LABELING_BUDGET = 20\n",
    "app_2.LABELING_BUDGET = 0\n",
    "\n",
    "# Would you like to see the logs?\n",
    "app_1.VERBOSE = True\n",
    "app_2.VERBOSE = True"
   ]
  },
  {
   "cell_type": "markdown",
   "metadata": {},
   "source": [
    "## 2. Instantiating the Dataset\n",
    "We next load and instantiate the dataset object."
   ]
  },
  {
   "cell_type": "code",
   "execution_count": 3,
   "metadata": {},
   "outputs": [
    {
     "data": {
      "text/plain": "  index    id            beer_name                           style  \\\n0     1  1436             Pub Beer             American Pale Lager   \n1     2  2265          Devil's Cup         American Pale Ale (APA)   \n2     3  2264  Rise of the Phoenix                    American IPA   \n3     4  2263             Sinister  American Double / Imperial IPA   \n4     5  2262        Sex and Candy                    American IPA   \n\n       ounces    abv  ibu brewery_id               brewery_name  city state  \n0     12.0 oz   0.05  N/A        408  10 Barrel Brewing Company  Bend    OR  \n1    12.0 oz.  0.066  N/A        177        18th Street Brewery  Gary    IN  \n2  12.0 ounce  0.071  N/A        177        18th Street Brewery  Gary    IN  \n3     12.0 oz  0.09%  N/A        177        18th Street Brewery  Gary    IN  \n4    12.0 OZ.  0.075  N/A        177        18th Street Brewery  Gary    IN  ",
      "text/html": "<div>\n<style scoped>\n    .dataframe tbody tr th:only-of-type {\n        vertical-align: middle;\n    }\n\n    .dataframe tbody tr th {\n        vertical-align: top;\n    }\n\n    .dataframe thead th {\n        text-align: right;\n    }\n</style>\n<table border=\"1\" class=\"dataframe\">\n  <thead>\n    <tr style=\"text-align: right;\">\n      <th></th>\n      <th>index</th>\n      <th>id</th>\n      <th>beer_name</th>\n      <th>style</th>\n      <th>ounces</th>\n      <th>abv</th>\n      <th>ibu</th>\n      <th>brewery_id</th>\n      <th>brewery_name</th>\n      <th>city</th>\n      <th>state</th>\n    </tr>\n  </thead>\n  <tbody>\n    <tr>\n      <th>0</th>\n      <td>1</td>\n      <td>1436</td>\n      <td>Pub Beer</td>\n      <td>American Pale Lager</td>\n      <td>12.0 oz</td>\n      <td>0.05</td>\n      <td>N/A</td>\n      <td>408</td>\n      <td>10 Barrel Brewing Company</td>\n      <td>Bend</td>\n      <td>OR</td>\n    </tr>\n    <tr>\n      <th>1</th>\n      <td>2</td>\n      <td>2265</td>\n      <td>Devil's Cup</td>\n      <td>American Pale Ale (APA)</td>\n      <td>12.0 oz.</td>\n      <td>0.066</td>\n      <td>N/A</td>\n      <td>177</td>\n      <td>18th Street Brewery</td>\n      <td>Gary</td>\n      <td>IN</td>\n    </tr>\n    <tr>\n      <th>2</th>\n      <td>3</td>\n      <td>2264</td>\n      <td>Rise of the Phoenix</td>\n      <td>American IPA</td>\n      <td>12.0 ounce</td>\n      <td>0.071</td>\n      <td>N/A</td>\n      <td>177</td>\n      <td>18th Street Brewery</td>\n      <td>Gary</td>\n      <td>IN</td>\n    </tr>\n    <tr>\n      <th>3</th>\n      <td>4</td>\n      <td>2263</td>\n      <td>Sinister</td>\n      <td>American Double / Imperial IPA</td>\n      <td>12.0 oz</td>\n      <td>0.09%</td>\n      <td>N/A</td>\n      <td>177</td>\n      <td>18th Street Brewery</td>\n      <td>Gary</td>\n      <td>IN</td>\n    </tr>\n    <tr>\n      <th>4</th>\n      <td>5</td>\n      <td>2262</td>\n      <td>Sex and Candy</td>\n      <td>American IPA</td>\n      <td>12.0 OZ.</td>\n      <td>0.075</td>\n      <td>N/A</td>\n      <td>177</td>\n      <td>18th Street Brewery</td>\n      <td>Gary</td>\n      <td>IN</td>\n    </tr>\n  </tbody>\n</table>\n</div>"
     },
     "execution_count": 3,
     "metadata": {},
     "output_type": "execute_result"
    }
   ],
   "source": [
    "dataset_dictionary = {\n",
    "        \"name\": \"beers\",\n",
    "        \"path\": \"datasets/beers/dirty.csv\",\n",
    "        \"clean_path\": \"datasets/beers/clean.csv\"\n",
    "    }\n",
    "d = app_1.initialize_dataset(dataset_dictionary)\n",
    "d.dataframe.head()"
   ]
  },
  {
   "cell_type": "markdown",
   "metadata": {},
   "source": [
    "## 3. Generating Features and Clusters\n",
    "Raha runs (all or the promising) error detection strategies on the dataset. This step could take a while because all the strategies should be run on the dataset. Raha then generates a feature vector for each data cell based on the output of error detection strategies. Raha next builds a hierarchical clustering model for our clustering-based sampling approach."
   ]
  },
  {
   "cell_type": "code",
   "execution_count": 4,
   "metadata": {},
   "outputs": [
    {
     "name": "stderr",
     "output_type": "stream",
     "text": [
      "I just load strategies' results as they have already been run on the dataset!\n"
     ]
    },
    {
     "name": "stdout",
     "output_type": "stream",
     "text": [
      "511 strategy profiles are collected.\n",
      "44 Features are generated for column 0.\n",
      "44 Features are generated for column 1.\n",
      "133 Features are generated for column 2.\n",
      "100 Features are generated for column 3.\n",
      "63 Features are generated for column 4.\n",
      "54 Features are generated for column 5.\n",
      "54 Features are generated for column 6.\n",
      "55 Features are generated for column 7.\n",
      "103 Features are generated for column 8.\n",
      "106 Features are generated for column 9.\n",
      "75 Features are generated for column 10.\n",
      "A hierarchical clustering model is built for column 0.\n",
      "A hierarchical clustering model is built for column 1.\n",
      "A hierarchical clustering model is built for column 2.\n",
      "A hierarchical clustering model is built for column 3.\n",
      "A hierarchical clustering model is built for column 4.\n",
      "A hierarchical clustering model is built for column 5.\n",
      "A hierarchical clustering model is built for column 6.\n",
      "A hierarchical clustering model is built for column 7.\n",
      "A hierarchical clustering model is built for column 8.\n",
      "A hierarchical clustering model is built for column 9.\n",
      "A hierarchical clustering model is built for column 10.\n"
     ]
    }
   ],
   "source": [
    "app_1.run_strategies(d)\n",
    "app_1.generate_features(d)\n",
    "app_1.build_clusters(d)"
   ]
  },
  {
   "cell_type": "markdown",
   "metadata": {},
   "source": [
    "## 4. Interactive Tuple Sampling and Labeling\n",
    "Raha then iteratively samples a tuple. We should label data cells of each sampled tuple."
   ]
  },
  {
   "cell_type": "code",
   "execution_count": 5,
   "metadata": {
    "scrolled": true
   },
   "outputs": [],
   "source": [
    "# def on_button_clicked(_):\n",
    "#     for j in range(0, len(texts)):\n",
    "#         cell = (d.sampled_tuple, j)\n",
    "#         error_label = 0\n",
    "#         correction = texts[j].value\n",
    "#         if d.dataframe.iloc[cell] != correction:\n",
    "#             error_label = 1\n",
    "#         d.labeled_cells[cell] = [error_label, correction]\n",
    "#     d.labeled_tuples[d.sampled_tuple] = 1\n",
    "#\n",
    "# app_1.sample_tuple(d)\n",
    "# print(\"Fix the dirty cells in the following sampled tuple.\")\n",
    "# sampled_tuple = pandas.DataFrame(data=[d.dataframe.iloc[d.sampled_tuple, :]], columns=d.dataframe.columns)\n",
    "# IPython.display.display(sampled_tuple)\n",
    "# texts = [ipywidgets.Text(value=d.dataframe.iloc[d.sampled_tuple, j]) for j in range(d.dataframe.shape[1])]\n",
    "# button = ipywidgets.Button(description=\"Save the Annotation\")\n",
    "# button.on_click(on_button_clicked)\n",
    "# output = ipywidgets.VBox(children=texts + [button])\n",
    "# IPython.display.display(output)"
   ]
  },
  {
   "cell_type": "markdown",
   "metadata": {},
   "source": [
    "For the sake of time, we use the ground truth of the dataset to label tuples below."
   ]
  },
  {
   "cell_type": "code",
   "execution_count": 6,
   "metadata": {
    "scrolled": true
   },
   "outputs": [],
   "source": [
    "%%capture\n",
    "while len(d.labeled_tuples) < app_1.LABELING_BUDGET:\n",
    "    app_1.sample_tuple(d)\n",
    "    if d.has_ground_truth:\n",
    "        app_1.label_with_ground_truth(d)"
   ]
  },
  {
   "cell_type": "markdown",
   "metadata": {},
   "source": [
    "## 5. Propagating User Labels and Predicting the Labels\n",
    "Raha then propagates each user label through its cluster. Raha then trains and applies one classifier per data column to predict the label of the rest of data cells."
   ]
  },
  {
   "cell_type": "code",
   "execution_count": 7,
   "metadata": {},
   "outputs": [
    {
     "name": "stdout",
     "output_type": "stream",
     "text": [
      "The number of labeled data cells increased from 220 to 24250.\n",
      "A classifier is trained and applied on column 0.\n",
      "A classifier is trained and applied on column 1.\n",
      "A classifier is trained and applied on column 2.\n",
      "A classifier is trained and applied on column 3.\n",
      "A classifier is trained and applied on column 4.\n",
      "A classifier is trained and applied on column 5.\n",
      "A classifier is trained and applied on column 6.\n",
      "A classifier is trained and applied on column 7.\n",
      "A classifier is trained and applied on column 8.\n",
      "A classifier is trained and applied on column 9.\n",
      "A classifier is trained and applied on column 10.\n"
     ]
    }
   ],
   "source": [
    "app_1.propagate_labels(d)\n",
    "app_1.predict_labels(d)"
   ]
  },
  {
   "cell_type": "markdown",
   "metadata": {},
   "source": [
    "## 6. Initializing and Updating the Error Corrector Models\n",
    "Baran initializes the error corrector models. Baran then iteratively samples a tuple. We should label data cells of each sampled tuple. It then udpates the models accordingly and generates a feature vector for each pair of a data error and a correction candidate. Finally, it trains and applies a classifier to each data column to predict the final correction of each data error. Since we already labeled tuples for Raha, we use the same labeled tuples and do not label new tuples here."
   ]
  },
  {
   "cell_type": "code",
   "execution_count": 8,
   "metadata": {},
   "outputs": [
    {
     "name": "stdout",
     "output_type": "stream",
     "text": [
      "The error corrector models are initialized.\n",
      "The error corrector models are updated with new labeled tuple 1243.\n",
      "201651 pairs of (a data error, a potential correction) are featurized.\n",
      "Prediction Method in this step:\n",
      "    Column 4: Train\n",
      "    Column 5: Train\n",
      "    Column 6: Train\n",
      "    Column 9: Train\n",
      "    Column 10: Train\n",
      "Train sizes in this step:\n",
      "    Column 4: 22\n",
      "    Column 5: 483\n",
      "    Column 6: 688\n",
      "    Column 9: 754\n",
      "    Column 10: 102\n",
      "Corrections identified in this step:\n",
      "    Column 4: 2390 Mean correction confidence: 0.6145335752757046\n",
      "    Column 5: 604 Mean correction confidence: 0.5402724589003406\n",
      "    Column 6: 997 Mean correction confidence: 0.9999999999999998\n",
      "    Column 9: 120 Mean correction confidence: 0.9999999999999999\n",
      "    Column 10: 151 Mean correction confidence: 0.7871224937909238\n",
      "Corrections applied in this step:\n",
      "    Column 4: 2390 Real changes: 0\n",
      "    Column 5: 485 Real changes: 101\n",
      "    Column 6: 997 Real changes: 0\n",
      "    Column 9: 120 Real changes: 0\n",
      "    Column 10: 127 Real changes: 22\n",
      "91% (4035 / 4458) of data errors are corrected.\n",
      "The error corrector models are updated with new labeled tuple 2234.\n",
      "201860 pairs of (a data error, a potential correction) are featurized.\n",
      "Prediction Method in this step:\n",
      "    Column 4: Train\n",
      "    Column 5: Train\n",
      "    Column 6: Train\n",
      "    Column 9: Train\n",
      "    Column 10: Train\n",
      "Train sizes in this step:\n",
      "    Column 4: 23\n",
      "    Column 5: 483\n",
      "    Column 6: 688\n",
      "    Column 9: 754\n",
      "    Column 10: 102\n",
      "Corrections identified in this step:\n",
      "    Column 4: 2390 Mean correction confidence: 0.6988137754069831\n",
      "    Column 5: 498 Mean correction confidence: 0.5363693006291129\n",
      "    Column 6: 997 Mean correction confidence: 0.9999999999999998\n",
      "    Column 9: 120 Mean correction confidence: 0.9999999999999999\n",
      "    Column 10: 135 Mean correction confidence: 0.8144944020651872\n",
      "Corrections applied in this step:\n",
      "    Column 4: 2390 Real changes: 208\n",
      "    Column 5: 414 Real changes: 176\n",
      "    Column 6: 997 Real changes: 0\n",
      "    Column 9: 120 Real changes: 2\n",
      "    Column 10: 114 Real changes: 32\n",
      "91% (4058 / 4458) of data errors are corrected.\n",
      "The error corrector models are updated with new labeled tuple 430.\n",
      "203749 pairs of (a data error, a potential correction) are featurized.\n",
      "Prediction Method in this step:\n",
      "    Column 4: Train\n",
      "    Column 5: Train\n",
      "    Column 6: Train\n",
      "    Column 9: Train\n",
      "    Column 10: Train\n",
      "Train sizes in this step:\n",
      "    Column 4: 40\n",
      "    Column 5: 483\n",
      "    Column 6: 688\n",
      "    Column 9: 754\n",
      "    Column 10: 102\n",
      "Corrections identified in this step:\n",
      "    Column 4: 2096 Mean correction confidence: 0.8039906435193489\n",
      "    Column 5: 604 Mean correction confidence: 0.5402724589003406\n",
      "    Column 6: 997 Mean correction confidence: 0.9999999999999998\n",
      "    Column 9: 120 Mean correction confidence: 0.9999999999999999\n",
      "    Column 10: 151 Mean correction confidence: 0.7852719443002015\n",
      "Corrections applied in this step:\n",
      "    Column 4: 2096 Real changes: 226\n",
      "    Column 5: 485 Real changes: 192\n",
      "    Column 6: 997 Real changes: 0\n",
      "    Column 9: 120 Real changes: 2\n",
      "    Column 10: 127 Real changes: 52\n",
      "91% (4058 / 4458) of data errors are corrected.\n",
      "The error corrector models are updated with new labeled tuple 239.\n",
      "203753 pairs of (a data error, a potential correction) are featurized.\n",
      "Prediction Method in this step:\n",
      "    Column 4: Train\n",
      "    Column 5: Train\n",
      "    Column 6: Train\n",
      "    Column 9: Train\n",
      "    Column 10: Train\n",
      "Train sizes in this step:\n",
      "    Column 4: 40\n",
      "    Column 5: 483\n",
      "    Column 6: 688\n",
      "    Column 9: 754\n",
      "    Column 10: 102\n",
      "Corrections identified in this step:\n",
      "    Column 4: 2224 Mean correction confidence: 0.9999999999999998\n",
      "    Column 5: 604 Mean correction confidence: 0.5402724589003406\n",
      "    Column 6: 997 Mean correction confidence: 0.9999999999999998\n",
      "    Column 9: 120 Mean correction confidence: 0.9999999999999999\n",
      "    Column 10: 148 Mean correction confidence: 0.8015193762419887\n",
      "Corrections applied in this step:\n",
      "    Column 4: 2224 Real changes: 41\n",
      "    Column 5: 485 Real changes: 187\n",
      "    Column 6: 997 Real changes: 0\n",
      "    Column 9: 120 Real changes: 0\n",
      "    Column 10: 125 Real changes: 39\n",
      "91% (4058 / 4458) of data errors are corrected.\n",
      "The error corrector models are updated with new labeled tuple 1618.\n",
      "203753 pairs of (a data error, a potential correction) are featurized.\n",
      "Prediction Method in this step:\n",
      "    Column 4: Train\n",
      "    Column 5: Train\n",
      "    Column 6: Train\n",
      "    Column 9: Train\n",
      "    Column 10: Train\n",
      "Train sizes in this step:\n",
      "    Column 4: 40\n",
      "    Column 5: 483\n",
      "    Column 6: 688\n",
      "    Column 9: 754\n",
      "    Column 10: 102\n",
      "Corrections identified in this step:\n",
      "    Column 4: 2224 Mean correction confidence: 0.9999999999999998\n",
      "    Column 5: 446 Mean correction confidence: 0.5638908348575711\n",
      "    Column 6: 997 Mean correction confidence: 0.9999999999999998\n",
      "    Column 9: 120 Mean correction confidence: 0.9999999999999999\n",
      "    Column 10: 154 Mean correction confidence: 0.7943947642721665\n",
      "Corrections applied in this step:\n",
      "    Column 4: 2224 Real changes: 0\n",
      "    Column 5: 374 Real changes: 151\n",
      "    Column 6: 997 Real changes: 0\n",
      "    Column 9: 120 Real changes: 0\n",
      "    Column 10: 126 Real changes: 44\n",
      "92% (4111 / 4458) of data errors are corrected.\n",
      "The error corrector models are updated with new labeled tuple 270.\n",
      "203753 pairs of (a data error, a potential correction) are featurized.\n",
      "Prediction Method in this step:\n",
      "    Column 4: Train\n",
      "    Column 5: Train\n",
      "    Column 6: Train\n",
      "    Column 9: Train\n",
      "    Column 10: Train\n",
      "Train sizes in this step:\n",
      "    Column 4: 40\n",
      "    Column 5: 483\n",
      "    Column 6: 688\n",
      "    Column 9: 754\n",
      "    Column 10: 102\n",
      "Corrections identified in this step:\n",
      "    Column 4: 2224 Mean correction confidence: 0.9999999999999998\n",
      "    Column 5: 440 Mean correction confidence: 0.5612189185031999\n",
      "    Column 6: 997 Mean correction confidence: 0.9999999999999998\n",
      "    Column 9: 120 Mean correction confidence: 0.9999999999999999\n",
      "    Column 10: 146 Mean correction confidence: 0.8028611612076358\n",
      "Corrections applied in this step:\n",
      "    Column 4: 2224 Real changes: 0\n",
      "    Column 5: 376 Real changes: 94\n",
      "    Column 6: 997 Real changes: 0\n",
      "    Column 9: 120 Real changes: 2\n",
      "    Column 10: 124 Real changes: 42\n",
      "92% (4113 / 4458) of data errors are corrected.\n",
      "The error corrector models are updated with new labeled tuple 1030.\n",
      "203753 pairs of (a data error, a potential correction) are featurized.\n",
      "Prediction Method in this step:\n",
      "    Column 4: Train\n",
      "    Column 5: Train\n",
      "    Column 6: Train\n",
      "    Column 9: Train\n",
      "    Column 10: Train\n",
      "Train sizes in this step:\n",
      "    Column 4: 40\n",
      "    Column 5: 483\n",
      "    Column 6: 688\n",
      "    Column 9: 754\n",
      "    Column 10: 102\n",
      "Corrections identified in this step:\n",
      "    Column 4: 2224 Mean correction confidence: 0.9999999999999998\n",
      "    Column 5: 446 Mean correction confidence: 0.5638908348575711\n",
      "    Column 6: 997 Mean correction confidence: 0.9999999999999998\n",
      "    Column 9: 120 Mean correction confidence: 0.9999999999999999\n",
      "    Column 10: 143 Mean correction confidence: 0.7742242821661103\n",
      "Corrections applied in this step:\n",
      "    Column 4: 2224 Real changes: 0\n",
      "    Column 5: 374 Real changes: 87\n",
      "    Column 6: 997 Real changes: 0\n",
      "    Column 9: 120 Real changes: 2\n",
      "    Column 10: 118 Real changes: 40\n",
      "92% (4113 / 4458) of data errors are corrected.\n",
      "The error corrector models are updated with new labeled tuple 1676.\n",
      "203759 pairs of (a data error, a potential correction) are featurized.\n",
      "Prediction Method in this step:\n",
      "    Column 4: Train\n",
      "    Column 5: Train\n",
      "    Column 6: Train\n",
      "    Column 9: Train\n",
      "    Column 10: Train\n",
      "Train sizes in this step:\n",
      "    Column 4: 40\n",
      "    Column 5: 483\n",
      "    Column 6: 688\n",
      "    Column 9: 754\n",
      "    Column 10: 102\n",
      "Corrections identified in this step:\n",
      "    Column 4: 2224 Mean correction confidence: 0.9999999999999998\n",
      "    Column 5: 381 Mean correction confidence: 0.7156861744058902\n",
      "    Column 6: 997 Mean correction confidence: 0.9999999999999998\n",
      "    Column 9: 120 Mean correction confidence: 0.9999999999999999\n",
      "    Column 10: 144 Mean correction confidence: 0.8249432406156196\n",
      "Corrections applied in this step:\n",
      "    Column 4: 2224 Real changes: 0\n",
      "    Column 5: 353 Real changes: 120\n",
      "    Column 6: 997 Real changes: 0\n",
      "    Column 9: 120 Real changes: 2\n",
      "    Column 10: 121 Real changes: 42\n",
      "93% (4168 / 4458) of data errors are corrected.\n",
      "The error corrector models are updated with new labeled tuple 793.\n",
      "203760 pairs of (a data error, a potential correction) are featurized.\n",
      "Prediction Method in this step:\n",
      "    Column 4: Train\n",
      "    Column 5: Train\n",
      "    Column 6: Train\n",
      "    Column 9: Train\n",
      "    Column 10: Train\n",
      "Train sizes in this step:\n",
      "    Column 4: 40\n",
      "    Column 5: 483\n",
      "    Column 6: 688\n",
      "    Column 9: 754\n",
      "    Column 10: 102\n",
      "Corrections identified in this step:\n",
      "    Column 4: 2224 Mean correction confidence: 0.9999999999999998\n",
      "    Column 5: 381 Mean correction confidence: 0.7156599675807508\n",
      "    Column 6: 997 Mean correction confidence: 0.9999999999999998\n",
      "    Column 9: 0 Mean correction confidence: nan\n",
      "    Column 10: 140 Mean correction confidence: 0.8408585250103587\n",
      "Corrections applied in this step:\n",
      "    Column 4: 2224 Real changes: 0\n",
      "    Column 5: 353 Real changes: 32\n",
      "    Column 6: 997 Real changes: 0\n",
      "    Column 9: 0 Real changes: 0\n",
      "    Column 10: 125 Real changes: 41\n",
      "94% (4169 / 4458) of data errors are corrected.\n",
      "The error corrector models are updated with new labeled tuple 55.\n",
      "203766 pairs of (a data error, a potential correction) are featurized.\n",
      "Prediction Method in this step:\n",
      "    Column 4: Train\n",
      "    Column 5: Train\n",
      "    Column 6: Train\n",
      "    Column 9: Train\n",
      "    Column 10: Train\n",
      "Train sizes in this step:\n",
      "    Column 4: 40\n",
      "    Column 5: 483\n",
      "    Column 6: 688\n",
      "    Column 9: 754\n",
      "    Column 10: 102\n",
      "Corrections identified in this step:\n",
      "    Column 4: 2224 Mean correction confidence: 0.9999999999999998\n",
      "    Column 5: 663 Mean correction confidence: 0.9999999999999998\n",
      "    Column 6: 997 Mean correction confidence: 0.9999999999999998\n",
      "    Column 9: 0 Mean correction confidence: nan\n",
      "    Column 10: 149 Mean correction confidence: 0.8643235331207924\n",
      "Corrections applied in this step:\n",
      "    Column 4: 2224 Real changes: 0\n",
      "    Column 5: 663 Real changes: 248\n",
      "    Column 6: 997 Real changes: 0\n",
      "    Column 9: 0 Real changes: 0\n",
      "    Column 10: 132 Real changes: 33\n",
      "97% (4345 / 4458) of data errors are corrected.\n",
      "The error corrector models are updated with new labeled tuple 979.\n",
      "203766 pairs of (a data error, a potential correction) are featurized.\n",
      "Prediction Method in this step:\n",
      "    Column 4: Train\n",
      "    Column 5: Train\n",
      "    Column 6: Train\n",
      "    Column 9: Train\n",
      "    Column 10: Train\n",
      "Train sizes in this step:\n",
      "    Column 4: 40\n",
      "    Column 5: 483\n",
      "    Column 6: 688\n",
      "    Column 9: 754\n",
      "    Column 10: 102\n",
      "Corrections identified in this step:\n",
      "    Column 4: 2224 Mean correction confidence: 0.9999999999999998\n",
      "    Column 5: 663 Mean correction confidence: 0.9999999999999998\n",
      "    Column 6: 997 Mean correction confidence: 0.9999999999999998\n",
      "    Column 9: 21 Mean correction confidence: 0.9999999999999998\n",
      "    Column 10: 136 Mean correction confidence: 0.8599896012590447\n",
      "Corrections applied in this step:\n",
      "    Column 4: 2224 Real changes: 0\n",
      "    Column 5: 663 Real changes: 0\n",
      "    Column 6: 997 Real changes: 0\n",
      "    Column 9: 21 Real changes: 20\n",
      "    Column 10: 122 Real changes: 31\n",
      "97% (4346 / 4458) of data errors are corrected.\n",
      "The error corrector models are updated with new labeled tuple 1000.\n",
      "203766 pairs of (a data error, a potential correction) are featurized.\n",
      "Prediction Method in this step:\n",
      "    Column 4: Train\n",
      "    Column 5: Train\n",
      "    Column 6: Train\n",
      "    Column 9: Train\n",
      "    Column 10: Train\n",
      "Train sizes in this step:\n",
      "    Column 4: 40\n",
      "    Column 5: 483\n",
      "    Column 6: 688\n",
      "    Column 9: 754\n",
      "    Column 10: 102\n",
      "Corrections identified in this step:\n",
      "    Column 4: 2224 Mean correction confidence: 0.9999999999999998\n",
      "    Column 5: 663 Mean correction confidence: 0.9999999999999998\n",
      "    Column 6: 997 Mean correction confidence: 0.9999999999999998\n",
      "    Column 9: 120 Mean correction confidence: 0.9999999999999999\n",
      "    Column 10: 149 Mean correction confidence: 0.8606410302703399\n",
      "Corrections applied in this step:\n",
      "    Column 4: 2224 Real changes: 0\n",
      "    Column 5: 663 Real changes: 0\n",
      "    Column 6: 997 Real changes: 0\n",
      "    Column 9: 120 Real changes: 20\n",
      "    Column 10: 132 Real changes: 31\n",
      "97% (4346 / 4458) of data errors are corrected.\n",
      "The error corrector models are updated with new labeled tuple 1451.\n",
      "203766 pairs of (a data error, a potential correction) are featurized.\n",
      "Prediction Method in this step:\n",
      "    Column 4: Train\n",
      "    Column 5: Train\n",
      "    Column 6: Train\n",
      "    Column 9: Train\n",
      "    Column 10: Train\n",
      "Train sizes in this step:\n",
      "    Column 4: 40\n",
      "    Column 5: 483\n",
      "    Column 6: 688\n",
      "    Column 9: 754\n",
      "    Column 10: 102\n",
      "Corrections identified in this step:\n",
      "    Column 4: 2224 Mean correction confidence: 0.9999999999999998\n",
      "    Column 5: 663 Mean correction confidence: 0.9999999999999998\n",
      "    Column 6: 997 Mean correction confidence: 0.9999999999999998\n",
      "    Column 9: 21 Mean correction confidence: 0.9999999999999998\n",
      "    Column 10: 101 Mean correction confidence: 0.9516852636926876\n",
      "Corrections applied in this step:\n",
      "    Column 4: 2224 Real changes: 0\n",
      "    Column 5: 663 Real changes: 0\n",
      "    Column 6: 997 Real changes: 0\n",
      "    Column 9: 21 Real changes: 20\n",
      "    Column 10: 100 Real changes: 4\n",
      "97% (4346 / 4458) of data errors are corrected.\n",
      "The error corrector models are updated with new labeled tuple 531.\n",
      "203766 pairs of (a data error, a potential correction) are featurized.\n",
      "Prediction Method in this step:\n",
      "    Column 4: Train\n",
      "    Column 5: Train\n",
      "    Column 6: Train\n",
      "    Column 9: Train\n",
      "    Column 10: Train\n",
      "Train sizes in this step:\n",
      "    Column 4: 40\n",
      "    Column 5: 483\n",
      "    Column 6: 688\n",
      "    Column 9: 754\n",
      "    Column 10: 102\n",
      "Corrections identified in this step:\n",
      "    Column 4: 2100 Mean correction confidence: 0.9999999999999998\n",
      "    Column 5: 663 Mean correction confidence: 0.9999999999999998\n",
      "    Column 6: 997 Mean correction confidence: 0.9999999999999998\n",
      "    Column 9: 0 Mean correction confidence: nan\n",
      "    Column 10: 138 Mean correction confidence: 0.8463860296191847\n",
      "Corrections applied in this step:\n",
      "    Column 4: 2100 Real changes: 0\n",
      "    Column 5: 663 Real changes: 0\n",
      "    Column 6: 997 Real changes: 0\n",
      "    Column 9: 0 Real changes: 0\n",
      "    Column 10: 123 Real changes: 31\n",
      "97% (4346 / 4458) of data errors are corrected.\n",
      "The error corrector models are updated with new labeled tuple 2101.\n",
      "203766 pairs of (a data error, a potential correction) are featurized.\n",
      "Prediction Method in this step:\n",
      "    Column 4: Train\n",
      "    Column 5: Train\n",
      "    Column 6: Train\n",
      "    Column 9: Train\n",
      "    Column 10: Train\n",
      "Train sizes in this step:\n",
      "    Column 4: 40\n",
      "    Column 5: 483\n",
      "    Column 6: 688\n",
      "    Column 9: 754\n",
      "    Column 10: 102\n",
      "Corrections identified in this step:\n",
      "    Column 4: 2100 Mean correction confidence: 0.9999999999999998\n",
      "    Column 5: 663 Mean correction confidence: 0.9999999999999998\n",
      "    Column 6: 997 Mean correction confidence: 0.9999999999999998\n",
      "    Column 9: 0 Mean correction confidence: nan\n",
      "    Column 10: 145 Mean correction confidence: 0.8398005713710406\n",
      "Corrections applied in this step:\n",
      "    Column 4: 2100 Real changes: 0\n",
      "    Column 5: 663 Real changes: 0\n",
      "    Column 6: 997 Real changes: 0\n",
      "    Column 9: 0 Real changes: 0\n",
      "    Column 10: 130 Real changes: 31\n",
      "97% (4346 / 4458) of data errors are corrected.\n",
      "The error corrector models are updated with new labeled tuple 309.\n",
      "203900 pairs of (a data error, a potential correction) are featurized.\n",
      "Prediction Method in this step:\n",
      "    Column 4: Train\n",
      "    Column 5: Train\n",
      "    Column 6: Train\n",
      "    Column 9: Train\n",
      "    Column 10: Train\n",
      "Train sizes in this step:\n",
      "    Column 4: 40\n",
      "    Column 5: 483\n",
      "    Column 6: 688\n",
      "    Column 9: 756\n",
      "    Column 10: 102\n",
      "Corrections identified in this step:\n",
      "    Column 4: 2100 Mean correction confidence: 0.9999999999999998\n",
      "    Column 5: 663 Mean correction confidence: 0.9999999999999998\n",
      "    Column 6: 997 Mean correction confidence: 0.9999999999999998\n",
      "    Column 9: 120 Mean correction confidence: 0.9999999999999999\n",
      "    Column 10: 14 Mean correction confidence: 0.9999999999999999\n",
      "Corrections applied in this step:\n",
      "    Column 4: 2100 Real changes: 0\n",
      "    Column 5: 663 Real changes: 0\n",
      "    Column 6: 997 Real changes: 0\n",
      "    Column 9: 120 Real changes: 22\n",
      "    Column 10: 14 Real changes: 13\n",
      "97% (4346 / 4458) of data errors are corrected.\n",
      "The error corrector models are updated with new labeled tuple 1627.\n",
      "203900 pairs of (a data error, a potential correction) are featurized.\n",
      "Prediction Method in this step:\n",
      "    Column 4: Train\n",
      "    Column 5: Train\n",
      "    Column 6: Train\n",
      "    Column 9: Train\n",
      "    Column 10: Train\n",
      "Train sizes in this step:\n",
      "    Column 4: 40\n",
      "    Column 5: 483\n",
      "    Column 6: 688\n",
      "    Column 9: 756\n",
      "    Column 10: 102\n",
      "Corrections identified in this step:\n",
      "    Column 4: 2100 Mean correction confidence: 0.9999999999999998\n",
      "    Column 5: 663 Mean correction confidence: 0.9999999999999998\n",
      "    Column 6: 997 Mean correction confidence: 0.9999999999999998\n",
      "    Column 9: 38 Mean correction confidence: 0.9999999999999998\n",
      "    Column 10: 14 Mean correction confidence: 0.9999999999999999\n",
      "Corrections applied in this step:\n",
      "    Column 4: 2100 Real changes: 0\n",
      "    Column 5: 663 Real changes: 0\n",
      "    Column 6: 997 Real changes: 0\n",
      "    Column 9: 38 Real changes: 36\n",
      "    Column 10: 14 Real changes: 0\n",
      "98% (4347 / 4458) of data errors are corrected.\n",
      "The error corrector models are updated with new labeled tuple 1969.\n",
      "203900 pairs of (a data error, a potential correction) are featurized.\n",
      "Prediction Method in this step:\n",
      "    Column 4: Train\n",
      "    Column 5: Train\n",
      "    Column 6: Train\n",
      "    Column 9: Train\n",
      "    Column 10: Train\n",
      "Train sizes in this step:\n",
      "    Column 4: 40\n",
      "    Column 5: 483\n",
      "    Column 6: 688\n",
      "    Column 9: 756\n",
      "    Column 10: 102\n",
      "Corrections identified in this step:\n",
      "    Column 4: 2100 Mean correction confidence: 0.9999999999999998\n",
      "    Column 5: 663 Mean correction confidence: 0.9999999999999998\n",
      "    Column 6: 997 Mean correction confidence: 0.9999999999999998\n",
      "    Column 9: 120 Mean correction confidence: 0.9999999999999999\n",
      "    Column 10: 120 Mean correction confidence: 0.9999999999999999\n",
      "Corrections applied in this step:\n",
      "    Column 4: 2100 Real changes: 0\n",
      "    Column 5: 663 Real changes: 0\n",
      "    Column 6: 997 Real changes: 0\n",
      "    Column 9: 120 Real changes: 38\n",
      "    Column 10: 120 Real changes: 102\n",
      "98% (4347 / 4458) of data errors are corrected.\n",
      "The error corrector models are updated with new labeled tuple 1499.\n",
      "203900 pairs of (a data error, a potential correction) are featurized.\n",
      "Prediction Method in this step:\n",
      "    Column 4: Train\n",
      "    Column 5: Train\n",
      "    Column 6: Train\n",
      "    Column 9: Train\n",
      "    Column 10: Train\n",
      "Train sizes in this step:\n",
      "    Column 4: 40\n",
      "    Column 5: 483\n",
      "    Column 6: 688\n",
      "    Column 9: 756\n",
      "    Column 10: 102\n",
      "Corrections identified in this step:\n",
      "    Column 4: 2100 Mean correction confidence: 0.9999999999999998\n",
      "    Column 5: 49 Mean correction confidence: 0.9999999999999999\n",
      "    Column 6: 997 Mean correction confidence: 0.9999999999999998\n",
      "    Column 9: 0 Mean correction confidence: nan\n",
      "    Column 10: 14 Mean correction confidence: 0.9999999999999999\n",
      "Corrections applied in this step:\n",
      "    Column 4: 2100 Real changes: 0\n",
      "    Column 5: 49 Real changes: 13\n",
      "    Column 6: 997 Real changes: 0\n",
      "    Column 9: 0 Real changes: 0\n",
      "    Column 10: 14 Real changes: 1\n",
      "98% (4347 / 4458) of data errors are corrected.\n",
      "The error corrector models are updated with new labeled tuple 625.\n",
      "203900 pairs of (a data error, a potential correction) are featurized.\n",
      "Prediction Method in this step:\n",
      "    Column 4: Train\n",
      "    Column 5: Train\n",
      "    Column 6: Train\n",
      "    Column 9: Train\n",
      "    Column 10: Train\n",
      "Train sizes in this step:\n",
      "    Column 4: 40\n",
      "    Column 5: 483\n",
      "    Column 6: 688\n",
      "    Column 9: 756\n",
      "    Column 10: 102\n",
      "Corrections identified in this step:\n",
      "    Column 4: 0 Mean correction confidence: nan\n",
      "    Column 5: 663 Mean correction confidence: 0.9999999999999998\n",
      "    Column 6: 997 Mean correction confidence: 0.9999999999999998\n",
      "    Column 9: 0 Mean correction confidence: nan\n",
      "    Column 10: 120 Mean correction confidence: 0.9999999999999999\n",
      "Corrections applied in this step:\n",
      "    Column 4: 0 Real changes: 0\n",
      "    Column 5: 663 Real changes: 13\n",
      "    Column 6: 997 Real changes: 0\n",
      "    Column 9: 0 Real changes: 0\n",
      "    Column 10: 120 Real changes: 1\n",
      "98% (4347 / 4458) of data errors are corrected.\n"
     ]
    }
   ],
   "source": [
    "app_2.initialize_models(d)\n",
    "app_2.initialize_dataset(d)\n",
    "for si in d.labeled_tuples:\n",
    "    d.sampled_tuple = si\n",
    "    app_2.update_models(d)\n",
    "    app_2.generate_features(d)\n",
    "    app_2.predict_corrections(d)"
   ]
  },
  {
   "cell_type": "markdown",
   "metadata": {},
   "source": [
    "## 7. Storing Results\n",
    "Both Raha and Baran can also store the error detection/correction results."
   ]
  },
  {
   "cell_type": "code",
   "execution_count": 9,
   "metadata": {},
   "outputs": [
    {
     "name": "stdout",
     "output_type": "stream",
     "text": [
      "The results are stored in datasets/beers/raha-baran-results-beers/error-detection/detection.dataset.\n",
      "The results are stored in datasets/beers/raha-baran-results-beers/error-correction/correction.dataset.\n"
     ]
    }
   ],
   "source": [
    "app_1.store_results(d)\n",
    "app_2.store_results(d)"
   ]
  },
  {
   "cell_type": "markdown",
   "metadata": {},
   "source": [
    "## 8. Evaluating the Data Cleaning Task\n",
    "We can finally evaluate our data cleaning task."
   ]
  },
  {
   "cell_type": "code",
   "execution_count": 10,
   "metadata": {
    "scrolled": true
   },
   "outputs": [
    {
     "name": "stderr",
     "output_type": "stream",
     "text": [
      "/home/adrian/source/MA/raha/raha/dataset.py:123: FutureWarning: elementwise comparison failed; returning scalar instead, but in the future will perform elementwise comparison\n",
      "  if correction_dictionary[cell] == actual_errors[cell]:\n"
     ]
    },
    {
     "data": {
      "text/plain": "                       Task Precision Recall F1 Score\n0    Error Detection (Raha)      0.98   1.00     0.99\n1  Error Correction (Baran)      0.97   0.96     0.96",
      "text/html": "<div>\n<style scoped>\n    .dataframe tbody tr th:only-of-type {\n        vertical-align: middle;\n    }\n\n    .dataframe tbody tr th {\n        vertical-align: top;\n    }\n\n    .dataframe thead th {\n        text-align: right;\n    }\n</style>\n<table border=\"1\" class=\"dataframe\">\n  <thead>\n    <tr style=\"text-align: right;\">\n      <th></th>\n      <th>Task</th>\n      <th>Precision</th>\n      <th>Recall</th>\n      <th>F1 Score</th>\n    </tr>\n  </thead>\n  <tbody>\n    <tr>\n      <th>0</th>\n      <td>Error Detection (Raha)</td>\n      <td>0.98</td>\n      <td>1.00</td>\n      <td>0.99</td>\n    </tr>\n    <tr>\n      <th>1</th>\n      <td>Error Correction (Baran)</td>\n      <td>0.97</td>\n      <td>0.96</td>\n      <td>0.96</td>\n    </tr>\n  </tbody>\n</table>\n</div>"
     },
     "execution_count": 10,
     "metadata": {},
     "output_type": "execute_result"
    }
   ],
   "source": [
    "edp, edr, edf = d.get_data_cleaning_evaluation(d.detected_cells)[:3]\n",
    "ecp, ecr, ecf = d.get_data_cleaning_evaluation(d.corrected_cells)[-3:]\n",
    "\n",
    "evaluation_df = pandas.DataFrame(columns=[\"Task\", \"Precision\", \"Recall\", \"F1 Score\"])\n",
    "evaluation_df = evaluation_df.append({\"Task\": \"Error Detection (Raha)\", \"Precision\": \"{:.2f}\".format(edp), \n",
    "                                      \"Recall\": \"{:.2f}\".format(edr), \"F1 Score\": \"{:.2f}\".format(edf)}, ignore_index=True)\n",
    "evaluation_df = evaluation_df.append({\"Task\": \"Error Correction (Baran)\", \"Precision\": \"{:.2f}\".format(ecp), \n",
    "                                      \"Recall\": \"{:.2f}\".format(ecr), \"F1 Score\": \"{:.2f}\".format(ecf)}, ignore_index=True)\n",
    "evaluation_df.head()"
   ]
  },
  {
   "cell_type": "code",
   "execution_count": 11,
   "outputs": [],
   "source": [
    "actual_errors = d.get_actual_errors_dictionary()"
   ],
   "metadata": {
    "collapsed": false,
    "pycharm": {
     "name": "#%%\n"
    }
   }
  },
  {
   "cell_type": "code",
   "execution_count": 12,
   "outputs": [
    {
     "name": "stdout",
     "output_type": "stream",
     "text": [
      "Histograms of the probabilities of the detection algorithm by (label, true label)\n"
     ]
    },
    {
     "data": {
      "text/plain": "<Figure size 432x288 with 4 Axes>",
      "image/png": "[encoded data removed]"
     },
     "metadata": {
      "needs_background": "light"
     },
     "output_type": "display_data"
    }
   ],
   "source": [
    "analysis_utilities.detection_evaluation(d, actual_errors)"
   ],
   "metadata": {
    "collapsed": false,
    "pycharm": {
     "name": "#%%\n"
    }
   }
  },
  {
   "cell_type": "code",
   "execution_count": 13,
   "outputs": [],
   "source": [
    "correction_confidence_df = analysis_utilities.get_correction_confidence_df(d, actual_errors)"
   ],
   "metadata": {
    "collapsed": false,
    "pycharm": {
     "name": "#%%\n"
    }
   }
  },
  {
   "cell_type": "code",
   "execution_count": 14,
   "outputs": [
    {
     "name": "stdout",
     "output_type": "stream",
     "text": [
      "Distribution of confidences for wrong (False) and correct (True) corrections:\n"
     ]
    },
    {
     "data": {
      "text/plain": "<Figure size 432x288 with 2 Axes>",
      "image/png": "[encoded data removed]"
     },
     "metadata": {
      "needs_background": "light"
     },
     "output_type": "display_data"
    }
   ],
   "source": [
    "analysis_utilities.correction_confidence_distributions(correction_confidence_df)"
   ],
   "metadata": {
    "collapsed": false,
    "pycharm": {
     "name": "#%%\n"
    }
   }
  },
  {
   "cell_type": "code",
   "execution_count": 15,
   "outputs": [
    {
     "name": "stdout",
     "output_type": "stream",
     "text": [
      "Empirical probability of a correction being wrong given its confidence:\n"
     ]
    },
    {
     "name": "stderr",
     "output_type": "stream",
     "text": [
      "/home/adrian/anaconda3/envs/raha/lib/python3.7/site-packages/ipykernel_launcher.py:2: UserWarning: Matplotlib is currently using module://ipykernel.pylab.backend_inline, which is a non-GUI backend, so cannot show the figure.\n",
      "  \n"
     ]
    },
    {
     "data": {
      "text/plain": "<Figure size 432x288 with 2 Axes>",
      "image/png": "[encoded data removed]"
     },
     "metadata": {
      "needs_background": "light"
     },
     "output_type": "display_data"
    }
   ],
   "source": [
    "f = analysis_utilities.correction_correctness_by_confidence(correction_confidence_df)\n",
    "f.show()"
   ],
   "metadata": {
    "collapsed": false,
    "pycharm": {
     "name": "#%%\n"
    }
   }
  }
 ],
 "metadata": {
  "kernelspec": {
   "display_name": "Python 3",
   "language": "python",
   "name": "python3"
  },
  "language_info": {
   "codemirror_mode": {
    "name": "ipython",
    "version": 3
   },
   "file_extension": ".py",
   "mimetype": "text/x-python",
   "name": "python",
   "nbconvert_exporter": "python",
   "pygments_lexer": "ipython3",
   "version": "3.7.9"
  }
 },
 "nbformat": 4,
 "nbformat_minor": 4
}
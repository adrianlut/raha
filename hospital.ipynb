{
 "cells": [
  {
   "cell_type": "markdown",
   "metadata": {},
   "source": [
    "# Hospital Example"
   ]
  },
  {
   "cell_type": "code",
   "execution_count": 33,
   "metadata": {},
   "outputs": [],
   "source": [
    "import numpy as np\n",
    "import pandas\n",
    "import IPython.display\n",
    "import ipywidgets\n",
    "\n",
    "import raha"
   ]
  },
  {
   "cell_type": "markdown",
   "metadata": {},
   "source": [
    "## 1. Instantiating the Detection and Correction Classes"
   ]
  },
  {
   "cell_type": "code",
   "execution_count": 34,
   "metadata": {},
   "outputs": [],
   "source": [
    "from raha import analysis_utilities\n",
    "app_1 = raha.Detection()\n",
    "app_2 = raha.Correction()\n",
    "\n",
    "# How many tuples would you label?\n",
    "app_1.LABELING_BUDGET = 20\n",
    "app_2.LABELING_BUDGET = 0\n",
    "\n",
    "# Would you like to see the logs?\n",
    "app_1.VERBOSE = True\n",
    "app_2.VERBOSE = True"
   ]
  },
  {
   "cell_type": "markdown",
   "metadata": {},
   "source": [
    "## 2. Instantiating the Dataset\n",
    "We next load and instantiate the dataset object."
   ]
  },
  {
   "cell_type": "code",
   "execution_count": 35,
   "metadata": {},
   "outputs": [
    {
     "data": {
      "text/plain": "  index provider_number                              name  \\\n0     1           10018  callahan eye foundation hospital   \n1     2           10018  callahan eye foundation hospital   \n2     3           10018  callahan eye foundation hospital   \n3     4           10018  callahan eye foundation hospital   \n4     5           10018  callahan eye foundation hospital   \n\n              address_1 address_2 address_3        city state    zip  \\\n0  1720 university blvd     empty     empty  birmingham    al  35233   \n1  1720 university blvd     empty     empty  birmingham    al  35233   \n2  1720 university blvd     empty     empty  birmingham    al  35233   \n3  1720 university blvd     empty     empty  birminghxm    al  35233   \n4  1720 university blvd     empty     empty  birmingham    al  35233   \n\n      county       phone                  type  \\\n0  jefferson  2053258100  acute care hospitals   \n1  jefferson  2053258100  acute care hospitals   \n2  jefferson  2053258100  acute care hospitals   \n3  jefferson  2053258100  acute care hospitals   \n4  jefferson  2053258100  acute care hospitals   \n\n                            owner emergency_service  \\\n0  voluntary non-profit - private               yes   \n1  voluntary non-profit - private               yes   \n2  voluntary non-profit - private               yes   \n3  voluntary non-profit - private               yes   \n4  voluntary non-profit - private               yes   \n\n                       condition measure_code  \\\n0  surgical infection prevention  scip-card-2   \n1  surgical infection prevention   scip-inf-1   \n2  surgical infection prevention   scip-inf-2   \n3  surgical infection prevention   scip-inf-3   \n4  surgical infection prevention   scip-inf-4   \n\n                                        measure_name  score sample  \\\n0  surgery patients who were taking heart drugs c...  empty  empty   \n1  surgery patients who were given an antibiotic ...  empty  empty   \n2  surgery patients who were given the right kind...  empty  empty   \n3  surgery patients whose preventive antibiotics ...  empty  empty   \n4  all heart surgery patients whose blood sugar (...  empty  empty   \n\n    state_average  \n0  al_scip-card-2  \n1   al_scip-inf-1  \n2   al_scip-inf-2  \n3   al_scip-inf-3  \n4   al_scip-inf-4  ",
      "text/html": "<div>\n<style scoped>\n    .dataframe tbody tr th:only-of-type {\n        vertical-align: middle;\n    }\n\n    .dataframe tbody tr th {\n        vertical-align: top;\n    }\n\n    .dataframe thead th {\n        text-align: right;\n    }\n</style>\n<table border=\"1\" class=\"dataframe\">\n  <thead>\n    <tr style=\"text-align: right;\">\n      <th></th>\n      <th>index</th>\n      <th>provider_number</th>\n      <th>name</th>\n      <th>address_1</th>\n      <th>address_2</th>\n      <th>address_3</th>\n      <th>city</th>\n      <th>state</th>\n      <th>zip</th>\n      <th>county</th>\n      <th>phone</th>\n      <th>type</th>\n      <th>owner</th>\n      <th>emergency_service</th>\n      <th>condition</th>\n      <th>measure_code</th>\n      <th>measure_name</th>\n      <th>score</th>\n      <th>sample</th>\n      <th>state_average</th>\n    </tr>\n  </thead>\n  <tbody>\n    <tr>\n      <th>0</th>\n      <td>1</td>\n      <td>10018</td>\n      <td>callahan eye foundation hospital</td>\n      <td>1720 university blvd</td>\n      <td>empty</td>\n      <td>empty</td>\n      <td>birmingham</td>\n      <td>al</td>\n      <td>35233</td>\n      <td>jefferson</td>\n      <td>2053258100</td>\n      <td>acute care hospitals</td>\n      <td>voluntary non-profit - private</td>\n      <td>yes</td>\n      <td>surgical infection prevention</td>\n      <td>scip-card-2</td>\n      <td>surgery patients who were taking heart drugs c...</td>\n      <td>empty</td>\n      <td>empty</td>\n      <td>al_scip-card-2</td>\n    </tr>\n    <tr>\n      <th>1</th>\n      <td>2</td>\n      <td>10018</td>\n      <td>callahan eye foundation hospital</td>\n      <td>1720 university blvd</td>\n      <td>empty</td>\n      <td>empty</td>\n      <td>birmingham</td>\n      <td>al</td>\n      <td>35233</td>\n      <td>jefferson</td>\n      <td>2053258100</td>\n      <td>acute care hospitals</td>\n      <td>voluntary non-profit - private</td>\n      <td>yes</td>\n      <td>surgical infection prevention</td>\n      <td>scip-inf-1</td>\n      <td>surgery patients who were given an antibiotic ...</td>\n      <td>empty</td>\n      <td>empty</td>\n      <td>al_scip-inf-1</td>\n    </tr>\n    <tr>\n      <th>2</th>\n      <td>3</td>\n      <td>10018</td>\n      <td>callahan eye foundation hospital</td>\n      <td>1720 university blvd</td>\n      <td>empty</td>\n      <td>empty</td>\n      <td>birmingham</td>\n      <td>al</td>\n      <td>35233</td>\n      <td>jefferson</td>\n      <td>2053258100</td>\n      <td>acute care hospitals</td>\n      <td>voluntary non-profit - private</td>\n      <td>yes</td>\n      <td>surgical infection prevention</td>\n      <td>scip-inf-2</td>\n      <td>surgery patients who were given the right kind...</td>\n      <td>empty</td>\n      <td>empty</td>\n      <td>al_scip-inf-2</td>\n    </tr>\n    <tr>\n      <th>3</th>\n      <td>4</td>\n      <td>10018</td>\n      <td>callahan eye foundation hospital</td>\n      <td>1720 university blvd</td>\n      <td>empty</td>\n      <td>empty</td>\n      <td>birminghxm</td>\n      <td>al</td>\n      <td>35233</td>\n      <td>jefferson</td>\n      <td>2053258100</td>\n      <td>acute care hospitals</td>\n      <td>voluntary non-profit - private</td>\n      <td>yes</td>\n      <td>surgical infection prevention</td>\n      <td>scip-inf-3</td>\n      <td>surgery patients whose preventive antibiotics ...</td>\n      <td>empty</td>\n      <td>empty</td>\n      <td>al_scip-inf-3</td>\n    </tr>\n    <tr>\n      <th>4</th>\n      <td>5</td>\n      <td>10018</td>\n      <td>callahan eye foundation hospital</td>\n      <td>1720 university blvd</td>\n      <td>empty</td>\n      <td>empty</td>\n      <td>birmingham</td>\n      <td>al</td>\n      <td>35233</td>\n      <td>jefferson</td>\n      <td>2053258100</td>\n      <td>acute care hospitals</td>\n      <td>voluntary non-profit - private</td>\n      <td>yes</td>\n      <td>surgical infection prevention</td>\n      <td>scip-inf-4</td>\n      <td>all heart surgery patients whose blood sugar (...</td>\n      <td>empty</td>\n      <td>empty</td>\n      <td>al_scip-inf-4</td>\n    </tr>\n  </tbody>\n</table>\n</div>"
     },
     "execution_count": 35,
     "metadata": {},
     "output_type": "execute_result"
    }
   ],
   "source": [
    "dataset_dictionary = {\n",
    "        \"name\": \"hospital\",\n",
    "        \"path\": \"datasets/hospital/dirty.csv\",\n",
    "        \"clean_path\": \"datasets/hospital/clean.csv\"\n",
    "    }\n",
    "d = app_1.initialize_dataset(dataset_dictionary)\n",
    "d.dataframe.head()"
   ]
  },
  {
   "cell_type": "markdown",
   "metadata": {},
   "source": [
    "## 3. Generating Features and Clusters"
   ]
  },
  {
   "cell_type": "code",
   "execution_count": 36,
   "metadata": {},
   "outputs": [
    {
     "name": "stderr",
     "output_type": "stream",
     "text": [
      "I just load strategies' results as they have already been run on the dataset!\n"
     ]
    },
    {
     "name": "stdout",
     "output_type": "stream",
     "text": [
      "776 strategy profiles are collected.\n",
      "54 Features are generated for column 0.\n",
      "77 Features are generated for column 1.\n",
      "61 Features are generated for column 2.\n",
      "71 Features are generated for column 3.\n",
      "0 Features are generated for column 4.\n",
      "0 Features are generated for column 5.\n",
      "65 Features are generated for column 6.\n",
      "47 Features are generated for column 7.\n",
      "77 Features are generated for column 8.\n",
      "72 Features are generated for column 9.\n",
      "76 Features are generated for column 10.\n",
      "68 Features are generated for column 11.\n",
      "57 Features are generated for column 12.\n",
      "48 Features are generated for column 13.\n",
      "62 Features are generated for column 14.\n",
      "68 Features are generated for column 15.\n",
      "73 Features are generated for column 16.\n",
      "69 Features are generated for column 17.\n",
      "71 Features are generated for column 18.\n",
      "71 Features are generated for column 19.\n",
      "A hierarchical clustering model is built for column 0.\n",
      "A hierarchical clustering model is built for column 1.\n",
      "A hierarchical clustering model is built for column 2.\n",
      "A hierarchical clustering model is built for column 3.\n",
      "A hierarchical clustering model is built for column 4.\n",
      "A hierarchical clustering model is built for column 5.\n",
      "A hierarchical clustering model is built for column 6.\n",
      "A hierarchical clustering model is built for column 7.\n",
      "A hierarchical clustering model is built for column 8.\n",
      "A hierarchical clustering model is built for column 9.\n",
      "A hierarchical clustering model is built for column 10.\n",
      "A hierarchical clustering model is built for column 11.\n",
      "A hierarchical clustering model is built for column 12.\n",
      "A hierarchical clustering model is built for column 13.\n",
      "A hierarchical clustering model is built for column 14.\n",
      "A hierarchical clustering model is built for column 15.\n",
      "A hierarchical clustering model is built for column 16.\n",
      "A hierarchical clustering model is built for column 17.\n",
      "A hierarchical clustering model is built for column 18.\n",
      "A hierarchical clustering model is built for column 19.\n"
     ]
    }
   ],
   "source": [
    "app_1.run_strategies(d)\n",
    "app_1.generate_features(d)\n",
    "app_1.build_clusters(d)"
   ]
  },
  {
   "cell_type": "markdown",
   "metadata": {},
   "source": [
    "## 4. Interactive Tuple Sampling and Labeling"
   ]
  },
  {
   "cell_type": "code",
   "execution_count": 37,
   "metadata": {
    "scrolled": true
   },
   "outputs": [],
   "source": [
    "%%capture\n",
    "while len(d.labeled_tuples) < app_1.LABELING_BUDGET:\n",
    "    app_1.sample_tuple(d)\n",
    "    if d.has_ground_truth:\n",
    "        app_1.label_with_ground_truth(d)"
   ]
  },
  {
   "cell_type": "markdown",
   "metadata": {},
   "source": [
    "## 5. Propagating User Labels and Predicting the Labels"
   ]
  },
  {
   "cell_type": "code",
   "execution_count": 38,
   "metadata": {},
   "outputs": [
    {
     "name": "stdout",
     "output_type": "stream",
     "text": [
      "The number of labeled data cells increased from 400 to 15994.\n",
      "A classifier is trained and applied on column 0.\n",
      "A classifier is trained and applied on column 1.\n",
      "A classifier is trained and applied on column 2.\n",
      "A classifier is trained and applied on column 3.\n",
      "A classifier is trained and applied on column 4.\n",
      "A classifier is trained and applied on column 5.\n",
      "A classifier is trained and applied on column 6.\n",
      "A classifier is trained and applied on column 7.\n",
      "A classifier is trained and applied on column 8.\n",
      "A classifier is trained and applied on column 9.\n",
      "A classifier is trained and applied on column 10.\n",
      "A classifier is trained and applied on column 11.\n",
      "A classifier is trained and applied on column 12.\n",
      "A classifier is trained and applied on column 13.\n",
      "A classifier is trained and applied on column 14.\n",
      "A classifier is trained and applied on column 15.\n",
      "A classifier is trained and applied on column 16.\n",
      "A classifier is trained and applied on column 17.\n",
      "A classifier is trained and applied on column 18.\n",
      "A classifier is trained and applied on column 19.\n"
     ]
    }
   ],
   "source": [
    "app_1.propagate_labels(d)\n",
    "app_1.predict_labels(d)"
   ]
  },
  {
   "cell_type": "markdown",
   "metadata": {},
   "source": [
    "## 6. Initializing and Updating the Error Corrector Models"
   ]
  },
  {
   "cell_type": "code",
   "execution_count": 39,
   "metadata": {},
   "outputs": [
    {
     "name": "stdout",
     "output_type": "stream",
     "text": [
      "The error corrector models are initialized.\n",
      "The error corrector models are updated with new labeled tuple 187.\n",
      "19074 pairs of (a data error, a potential correction) are featurized.\n",
      "Prediction Method in this step:\n",
      "    Column 1: Train\n",
      "    Column 7: Train\n",
      "    Column 8: Train\n",
      "    Column 9: Train\n",
      "    Column 11: No train 1\n",
      "    Column 12: Train\n",
      "    Column 14: Train\n",
      "    Column 15: Train\n",
      "    Column 16: Train\n",
      "    Column 17: Train\n",
      "    Column 18: Train\n",
      "    Column 19: Train\n",
      "Train sizes in this step:\n",
      "    Column 1: 45\n",
      "    Column 7: 2\n",
      "    Column 8: 44\n",
      "    Column 9: 80\n",
      "    Column 11: 4\n",
      "    Column 12: 28\n",
      "    Column 14: 12\n",
      "    Column 15: 31\n",
      "    Column 16: 84\n",
      "    Column 17: 54\n",
      "    Column 18: 300\n",
      "    Column 19: 49\n",
      "Corrections applied in this step:\n",
      "    Column 1: 20 Real changes: 20\n",
      "    Column 7: 24 Real changes: 24\n",
      "    Column 8: 28 Real changes: 28\n",
      "    Column 9: 23 Real changes: 23\n",
      "    Column 11: 28 Real changes: 28\n",
      "    Column 12: 7 Real changes: 7\n",
      "    Column 14: 14 Real changes: 14\n",
      "    Column 15: 22 Real changes: 22\n",
      "    Column 16: 31 Real changes: 31\n",
      "    Column 17: 0 Real changes: 0\n",
      "    Column 18: 2 Real changes: 2\n",
      "    Column 19: 10 Real changes: 10\n",
      "71% (228 / 323) of data errors are corrected.\n",
      "The error corrector models are updated with new labeled tuple 27.\n",
      "19077 pairs of (a data error, a potential correction) are featurized.\n",
      "Prediction Method in this step:\n",
      "    Column 1: Train\n",
      "    Column 7: Train\n",
      "    Column 8: Train\n",
      "    Column 9: Train\n",
      "    Column 11: No train 1\n",
      "    Column 12: Train\n",
      "    Column 14: Train\n",
      "    Column 15: Train\n",
      "    Column 16: Train\n",
      "    Column 17: Train\n",
      "    Column 18: Train\n",
      "    Column 19: Train\n",
      "Train sizes in this step:\n",
      "    Column 1: 45\n",
      "    Column 7: 2\n",
      "    Column 8: 44\n",
      "    Column 9: 80\n",
      "    Column 11: 4\n",
      "    Column 12: 28\n",
      "    Column 14: 12\n",
      "    Column 15: 31\n",
      "    Column 16: 84\n",
      "    Column 17: 54\n",
      "    Column 18: 300\n",
      "    Column 19: 49\n",
      "Corrections applied in this step:\n",
      "    Column 1: 27 Real changes: 9\n",
      "    Column 7: 24 Real changes: 1\n",
      "    Column 8: 29 Real changes: 1\n",
      "    Column 9: 23 Real changes: 0\n",
      "    Column 11: 28 Real changes: 0\n",
      "    Column 12: 11 Real changes: 8\n",
      "    Column 14: 15 Real changes: 1\n",
      "    Column 15: 22 Real changes: 0\n",
      "    Column 16: 31 Real changes: 0\n",
      "    Column 17: 0 Real changes: 0\n",
      "    Column 18: 0 Real changes: 0\n",
      "    Column 19: 10 Real changes: 0\n",
      "75% (242 / 323) of data errors are corrected.\n",
      "The error corrector models are updated with new labeled tuple 450.\n",
      "19077 pairs of (a data error, a potential correction) are featurized.\n",
      "Prediction Method in this step:\n",
      "    Column 1: Train\n",
      "    Column 7: Train\n",
      "    Column 8: Train\n",
      "    Column 9: Train\n",
      "    Column 11: No train 1\n",
      "    Column 12: Train\n",
      "    Column 14: Train\n",
      "    Column 15: Train\n",
      "    Column 16: Train\n",
      "    Column 17: Train\n",
      "    Column 18: Train\n",
      "    Column 19: Train\n",
      "Train sizes in this step:\n",
      "    Column 1: 45\n",
      "    Column 7: 2\n",
      "    Column 8: 44\n",
      "    Column 9: 80\n",
      "    Column 11: 4\n",
      "    Column 12: 28\n",
      "    Column 14: 12\n",
      "    Column 15: 31\n",
      "    Column 16: 84\n",
      "    Column 17: 54\n",
      "    Column 18: 300\n",
      "    Column 19: 49\n",
      "Corrections applied in this step:\n",
      "    Column 1: 25 Real changes: 0\n",
      "    Column 7: 25 Real changes: 0\n",
      "    Column 8: 29 Real changes: 0\n",
      "    Column 9: 23 Real changes: 0\n",
      "    Column 11: 28 Real changes: 0\n",
      "    Column 12: 11 Real changes: 1\n",
      "    Column 14: 15 Real changes: 0\n",
      "    Column 15: 21 Real changes: 0\n",
      "    Column 16: 31 Real changes: 0\n",
      "    Column 17: 3 Real changes: 3\n",
      "    Column 18: 2 Real changes: 0\n",
      "    Column 19: 10 Real changes: 0\n",
      "76% (245 / 323) of data errors are corrected.\n",
      "The error corrector models are updated with new labeled tuple 262.\n",
      "19077 pairs of (a data error, a potential correction) are featurized.\n",
      "Prediction Method in this step:\n",
      "    Column 1: Train\n",
      "    Column 7: Train\n",
      "    Column 8: Train\n",
      "    Column 9: Train\n",
      "    Column 11: No train 1\n",
      "    Column 12: Train\n",
      "    Column 14: Train\n",
      "    Column 15: Train\n",
      "    Column 16: Train\n",
      "    Column 17: Train\n",
      "    Column 18: Train\n",
      "    Column 19: Train\n",
      "Train sizes in this step:\n",
      "    Column 1: 45\n",
      "    Column 7: 2\n",
      "    Column 8: 44\n",
      "    Column 9: 80\n",
      "    Column 11: 4\n",
      "    Column 12: 28\n",
      "    Column 14: 12\n",
      "    Column 15: 31\n",
      "    Column 16: 84\n",
      "    Column 17: 54\n",
      "    Column 18: 300\n",
      "    Column 19: 49\n",
      "Corrections applied in this step:\n",
      "    Column 1: 20 Real changes: 2\n",
      "    Column 7: 24 Real changes: 0\n",
      "    Column 8: 29 Real changes: 0\n",
      "    Column 9: 23 Real changes: 0\n",
      "    Column 11: 28 Real changes: 0\n",
      "    Column 12: 11 Real changes: 0\n",
      "    Column 14: 15 Real changes: 0\n",
      "    Column 15: 22 Real changes: 0\n",
      "    Column 16: 31 Real changes: 0\n",
      "    Column 17: 3 Real changes: 3\n",
      "    Column 18: 0 Real changes: 0\n",
      "    Column 19: 10 Real changes: 0\n",
      "76% (245 / 323) of data errors are corrected.\n",
      "The error corrector models are updated with new labeled tuple 445.\n",
      "19077 pairs of (a data error, a potential correction) are featurized.\n",
      "Prediction Method in this step:\n",
      "    Column 1: Train\n",
      "    Column 7: Train\n",
      "    Column 8: Train\n",
      "    Column 9: Train\n",
      "    Column 11: No train 1\n",
      "    Column 12: Train\n",
      "    Column 14: Train\n",
      "    Column 15: Train\n",
      "    Column 16: Train\n",
      "    Column 17: Train\n",
      "    Column 18: Train\n",
      "    Column 19: Train\n",
      "Train sizes in this step:\n",
      "    Column 1: 45\n",
      "    Column 7: 2\n",
      "    Column 8: 44\n",
      "    Column 9: 80\n",
      "    Column 11: 4\n",
      "    Column 12: 28\n",
      "    Column 14: 12\n",
      "    Column 15: 31\n",
      "    Column 16: 84\n",
      "    Column 17: 54\n",
      "    Column 18: 300\n",
      "    Column 19: 49\n",
      "Corrections applied in this step:\n",
      "    Column 1: 27 Real changes: 2\n",
      "    Column 7: 25 Real changes: 0\n",
      "    Column 8: 29 Real changes: 0\n",
      "    Column 9: 20 Real changes: 0\n",
      "    Column 11: 28 Real changes: 0\n",
      "    Column 12: 11 Real changes: 0\n",
      "    Column 14: 15 Real changes: 0\n",
      "    Column 15: 22 Real changes: 0\n",
      "    Column 16: 33 Real changes: 2\n",
      "    Column 17: 3 Real changes: 3\n",
      "    Column 18: 0 Real changes: 0\n",
      "    Column 19: 10 Real changes: 0\n",
      "76% (247 / 323) of data errors are corrected.\n",
      "The error corrector models are updated with new labeled tuple 346.\n",
      "19082 pairs of (a data error, a potential correction) are featurized.\n",
      "Prediction Method in this step:\n",
      "    Column 1: Train\n",
      "    Column 7: Train\n",
      "    Column 8: Train\n",
      "    Column 9: Train\n",
      "    Column 11: No train 1\n",
      "    Column 12: Train\n",
      "    Column 14: Train\n",
      "    Column 15: Train\n",
      "    Column 16: Train\n",
      "    Column 17: Train\n",
      "    Column 18: Train\n",
      "    Column 19: Train\n",
      "Train sizes in this step:\n",
      "    Column 1: 45\n",
      "    Column 7: 2\n",
      "    Column 8: 44\n",
      "    Column 9: 80\n",
      "    Column 11: 4\n",
      "    Column 12: 28\n",
      "    Column 14: 12\n",
      "    Column 15: 31\n",
      "    Column 16: 84\n",
      "    Column 17: 54\n",
      "    Column 18: 300\n",
      "    Column 19: 49\n",
      "Corrections applied in this step:\n",
      "    Column 1: 20 Real changes: 2\n",
      "    Column 7: 25 Real changes: 0\n",
      "    Column 8: 29 Real changes: 0\n",
      "    Column 9: 22 Real changes: 0\n",
      "    Column 11: 28 Real changes: 0\n",
      "    Column 12: 9 Real changes: 0\n",
      "    Column 14: 15 Real changes: 0\n",
      "    Column 15: 22 Real changes: 0\n",
      "    Column 16: 33 Real changes: 0\n",
      "    Column 17: 0 Real changes: 0\n",
      "    Column 18: 1 Real changes: 1\n",
      "    Column 19: 10 Real changes: 0\n",
      "77% (248 / 323) of data errors are corrected.\n",
      "The error corrector models are updated with new labeled tuple 353.\n",
      "19082 pairs of (a data error, a potential correction) are featurized.\n",
      "Prediction Method in this step:\n",
      "    Column 1: Train\n",
      "    Column 7: Train\n",
      "    Column 8: Train\n",
      "    Column 9: Train\n",
      "    Column 11: No train 1\n",
      "    Column 12: Train\n",
      "    Column 14: Train\n",
      "    Column 15: Train\n",
      "    Column 16: Train\n",
      "    Column 17: Train\n",
      "    Column 18: Train\n",
      "    Column 19: Train\n",
      "Train sizes in this step:\n",
      "    Column 1: 45\n",
      "    Column 7: 2\n",
      "    Column 8: 44\n",
      "    Column 9: 80\n",
      "    Column 11: 4\n",
      "    Column 12: 28\n",
      "    Column 14: 12\n",
      "    Column 15: 31\n",
      "    Column 16: 84\n",
      "    Column 17: 54\n",
      "    Column 18: 300\n",
      "    Column 19: 49\n",
      "Corrections applied in this step:\n",
      "    Column 1: 27 Real changes: 2\n",
      "    Column 7: 25 Real changes: 0\n",
      "    Column 8: 29 Real changes: 0\n",
      "    Column 9: 20 Real changes: 0\n",
      "    Column 11: 28 Real changes: 0\n",
      "    Column 12: 11 Real changes: 1\n",
      "    Column 14: 15 Real changes: 0\n",
      "    Column 15: 22 Real changes: 0\n",
      "    Column 16: 33 Real changes: 0\n",
      "    Column 17: 0 Real changes: 0\n",
      "    Column 18: 0 Real changes: 0\n",
      "    Column 19: 10 Real changes: 0\n",
      "77% (248 / 323) of data errors are corrected.\n",
      "The error corrector models are updated with new labeled tuple 493.\n",
      "19106 pairs of (a data error, a potential correction) are featurized.\n",
      "Prediction Method in this step:\n",
      "    Column 1: Train\n",
      "    Column 7: Train\n",
      "    Column 8: Train\n",
      "    Column 9: Train\n",
      "    Column 11: Train\n",
      "    Column 12: Train\n",
      "    Column 14: Train\n",
      "    Column 15: Train\n",
      "    Column 16: Train\n",
      "    Column 17: Train\n",
      "    Column 18: Train\n",
      "    Column 19: Train\n",
      "Train sizes in this step:\n",
      "    Column 1: 45\n",
      "    Column 7: 2\n",
      "    Column 8: 44\n",
      "    Column 9: 80\n",
      "    Column 11: 6\n",
      "    Column 12: 28\n",
      "    Column 14: 12\n",
      "    Column 15: 31\n",
      "    Column 16: 84\n",
      "    Column 17: 54\n",
      "    Column 18: 300\n",
      "    Column 19: 49\n",
      "Corrections applied in this step:\n",
      "    Column 1: 27 Real changes: 0\n",
      "    Column 7: 25 Real changes: 0\n",
      "    Column 8: 29 Real changes: 0\n",
      "    Column 9: 23 Real changes: 0\n",
      "    Column 11: 27 Real changes: 0\n",
      "    Column 12: 11 Real changes: 0\n",
      "    Column 14: 14 Real changes: 0\n",
      "    Column 15: 21 Real changes: 0\n",
      "    Column 16: 31 Real changes: 0\n",
      "    Column 17: 3 Real changes: 3\n",
      "    Column 18: 0 Real changes: 0\n",
      "    Column 19: 10 Real changes: 0\n",
      "77% (248 / 323) of data errors are corrected.\n",
      "The error corrector models are updated with new labeled tuple 646.\n",
      "19106 pairs of (a data error, a potential correction) are featurized.\n",
      "Prediction Method in this step:\n",
      "    Column 1: Train\n",
      "    Column 7: Train\n",
      "    Column 8: Train\n",
      "    Column 9: Train\n",
      "    Column 11: Train\n",
      "    Column 12: Train\n",
      "    Column 14: Train\n",
      "    Column 15: Train\n",
      "    Column 16: Train\n",
      "    Column 17: Train\n",
      "    Column 18: Train\n",
      "    Column 19: Train\n",
      "Train sizes in this step:\n",
      "    Column 1: 45\n",
      "    Column 7: 2\n",
      "    Column 8: 44\n",
      "    Column 9: 80\n",
      "    Column 11: 6\n",
      "    Column 12: 28\n",
      "    Column 14: 12\n",
      "    Column 15: 31\n",
      "    Column 16: 84\n",
      "    Column 17: 54\n",
      "    Column 18: 300\n",
      "    Column 19: 49\n",
      "Corrections applied in this step:\n",
      "    Column 1: 27 Real changes: 0\n",
      "    Column 7: 25 Real changes: 0\n",
      "    Column 8: 29 Real changes: 0\n",
      "    Column 9: 23 Real changes: 0\n",
      "    Column 11: 27 Real changes: 0\n",
      "    Column 12: 11 Real changes: 1\n",
      "    Column 14: 14 Real changes: 0\n",
      "    Column 15: 21 Real changes: 0\n",
      "    Column 16: 33 Real changes: 0\n",
      "    Column 17: 3 Real changes: 0\n",
      "    Column 18: 0 Real changes: 0\n",
      "    Column 19: 10 Real changes: 0\n",
      "77% (248 / 323) of data errors are corrected.\n",
      "The error corrector models are updated with new labeled tuple 583.\n",
      "19106 pairs of (a data error, a potential correction) are featurized.\n",
      "Prediction Method in this step:\n",
      "    Column 1: Train\n",
      "    Column 7: Train\n",
      "    Column 8: Train\n",
      "    Column 9: Train\n",
      "    Column 11: Train\n",
      "    Column 12: Train\n",
      "    Column 14: Train\n",
      "    Column 15: Train\n",
      "    Column 16: Train\n",
      "    Column 17: Train\n",
      "    Column 18: Train\n",
      "    Column 19: Train\n",
      "Train sizes in this step:\n",
      "    Column 1: 45\n",
      "    Column 7: 2\n",
      "    Column 8: 44\n",
      "    Column 9: 80\n",
      "    Column 11: 6\n",
      "    Column 12: 28\n",
      "    Column 14: 12\n",
      "    Column 15: 31\n",
      "    Column 16: 84\n",
      "    Column 17: 54\n",
      "    Column 18: 300\n",
      "    Column 19: 49\n",
      "Corrections applied in this step:\n",
      "    Column 1: 27 Real changes: 0\n",
      "    Column 7: 25 Real changes: 0\n",
      "    Column 8: 29 Real changes: 0\n",
      "    Column 9: 23 Real changes: 0\n",
      "    Column 11: 26 Real changes: 0\n",
      "    Column 12: 3 Real changes: 0\n",
      "    Column 14: 15 Real changes: 0\n",
      "    Column 15: 21 Real changes: 0\n",
      "    Column 16: 31 Real changes: 0\n",
      "    Column 17: 3 Real changes: 3\n",
      "    Column 18: 2 Real changes: 0\n",
      "    Column 19: 10 Real changes: 0\n",
      "77% (248 / 323) of data errors are corrected.\n",
      "The error corrector models are updated with new labeled tuple 160.\n",
      "19106 pairs of (a data error, a potential correction) are featurized.\n",
      "Prediction Method in this step:\n",
      "    Column 1: Train\n",
      "    Column 7: Train\n",
      "    Column 8: Train\n",
      "    Column 9: Train\n",
      "    Column 11: Train\n",
      "    Column 12: Train\n",
      "    Column 14: Train\n",
      "    Column 15: Train\n",
      "    Column 16: Train\n",
      "    Column 17: Train\n",
      "    Column 18: Train\n",
      "    Column 19: Train\n",
      "Train sizes in this step:\n",
      "    Column 1: 45\n",
      "    Column 7: 2\n",
      "    Column 8: 44\n",
      "    Column 9: 80\n",
      "    Column 11: 6\n",
      "    Column 12: 28\n",
      "    Column 14: 12\n",
      "    Column 15: 31\n",
      "    Column 16: 84\n",
      "    Column 17: 54\n",
      "    Column 18: 300\n",
      "    Column 19: 49\n",
      "Corrections applied in this step:\n",
      "    Column 1: 27 Real changes: 0\n",
      "    Column 7: 24 Real changes: 0\n",
      "    Column 8: 29 Real changes: 0\n",
      "    Column 9: 23 Real changes: 0\n",
      "    Column 11: 28 Real changes: 0\n",
      "    Column 12: 0 Real changes: 0\n",
      "    Column 14: 15 Real changes: 0\n",
      "    Column 15: 21 Real changes: 0\n",
      "    Column 16: 33 Real changes: 0\n",
      "    Column 17: 3 Real changes: 0\n",
      "    Column 18: 0 Real changes: 0\n",
      "    Column 19: 10 Real changes: 0\n",
      "77% (248 / 323) of data errors are corrected.\n",
      "The error corrector models are updated with new labeled tuple 309.\n",
      "19106 pairs of (a data error, a potential correction) are featurized.\n",
      "Prediction Method in this step:\n",
      "    Column 1: Train\n",
      "    Column 7: Train\n",
      "    Column 8: Train\n",
      "    Column 9: Train\n",
      "    Column 11: Train\n",
      "    Column 12: Train\n",
      "    Column 14: Train\n",
      "    Column 15: Train\n",
      "    Column 16: Train\n",
      "    Column 17: Train\n",
      "    Column 18: Train\n",
      "    Column 19: Train\n",
      "Train sizes in this step:\n",
      "    Column 1: 45\n",
      "    Column 7: 2\n",
      "    Column 8: 44\n",
      "    Column 9: 80\n",
      "    Column 11: 6\n",
      "    Column 12: 28\n",
      "    Column 14: 12\n",
      "    Column 15: 31\n",
      "    Column 16: 84\n",
      "    Column 17: 54\n",
      "    Column 18: 300\n",
      "    Column 19: 49\n",
      "Corrections applied in this step:\n",
      "    Column 1: 27 Real changes: 0\n",
      "    Column 7: 24 Real changes: 0\n",
      "    Column 8: 29 Real changes: 0\n",
      "    Column 9: 23 Real changes: 0\n",
      "    Column 11: 28 Real changes: 0\n",
      "    Column 12: 0 Real changes: 0\n",
      "    Column 14: 14 Real changes: 0\n",
      "    Column 15: 21 Real changes: 0\n",
      "    Column 16: 33 Real changes: 0\n",
      "    Column 17: 3 Real changes: 3\n",
      "    Column 18: 2 Real changes: 0\n",
      "    Column 19: 10 Real changes: 0\n",
      "77% (248 / 323) of data errors are corrected.\n",
      "The error corrector models are updated with new labeled tuple 667.\n",
      "19106 pairs of (a data error, a potential correction) are featurized.\n",
      "Prediction Method in this step:\n",
      "    Column 1: Train\n",
      "    Column 7: Train\n",
      "    Column 8: Train\n",
      "    Column 9: Train\n",
      "    Column 11: Train\n",
      "    Column 12: Train\n",
      "    Column 14: Train\n",
      "    Column 15: Train\n",
      "    Column 16: Train\n",
      "    Column 17: Train\n",
      "    Column 18: Train\n",
      "    Column 19: Train\n",
      "Train sizes in this step:\n",
      "    Column 1: 45\n",
      "    Column 7: 2\n",
      "    Column 8: 44\n",
      "    Column 9: 80\n",
      "    Column 11: 6\n",
      "    Column 12: 28\n",
      "    Column 14: 12\n",
      "    Column 15: 31\n",
      "    Column 16: 84\n",
      "    Column 17: 54\n",
      "    Column 18: 300\n",
      "    Column 19: 49\n",
      "Corrections applied in this step:\n",
      "    Column 1: 27 Real changes: 0\n",
      "    Column 7: 23 Real changes: 0\n",
      "    Column 8: 29 Real changes: 0\n",
      "    Column 9: 23 Real changes: 0\n",
      "    Column 11: 27 Real changes: 0\n",
      "    Column 12: 0 Real changes: 0\n",
      "    Column 14: 14 Real changes: 0\n",
      "    Column 15: 22 Real changes: 0\n",
      "    Column 16: 31 Real changes: 0\n",
      "    Column 17: 3 Real changes: 0\n",
      "    Column 18: 0 Real changes: 0\n",
      "    Column 19: 10 Real changes: 0\n",
      "77% (248 / 323) of data errors are corrected.\n",
      "The error corrector models are updated with new labeled tuple 639.\n",
      "19114 pairs of (a data error, a potential correction) are featurized.\n",
      "Prediction Method in this step:\n",
      "    Column 1: Train\n",
      "    Column 7: Train\n",
      "    Column 8: Train\n",
      "    Column 9: Train\n",
      "    Column 11: Train\n",
      "    Column 12: Train\n",
      "    Column 14: Train\n",
      "    Column 15: Train\n",
      "    Column 16: Train\n",
      "    Column 17: Train\n",
      "    Column 18: Train\n",
      "    Column 19: Train\n",
      "Train sizes in this step:\n",
      "    Column 1: 45\n",
      "    Column 7: 2\n",
      "    Column 8: 46\n",
      "    Column 9: 80\n",
      "    Column 11: 6\n",
      "    Column 12: 28\n",
      "    Column 14: 12\n",
      "    Column 15: 31\n",
      "    Column 16: 84\n",
      "    Column 17: 54\n",
      "    Column 18: 300\n",
      "    Column 19: 49\n",
      "Corrections applied in this step:\n",
      "    Column 1: 0 Real changes: 0\n",
      "    Column 7: 23 Real changes: 0\n",
      "    Column 8: 29 Real changes: 0\n",
      "    Column 9: 23 Real changes: 0\n",
      "    Column 11: 28 Real changes: 0\n",
      "    Column 12: 11 Real changes: 0\n",
      "    Column 14: 14 Real changes: 0\n",
      "    Column 15: 22 Real changes: 0\n",
      "    Column 16: 33 Real changes: 0\n",
      "    Column 17: 0 Real changes: 0\n",
      "    Column 18: 0 Real changes: 0\n",
      "    Column 19: 10 Real changes: 0\n",
      "77% (248 / 323) of data errors are corrected.\n",
      "The error corrector models are updated with new labeled tuple 125.\n",
      "19114 pairs of (a data error, a potential correction) are featurized.\n",
      "Prediction Method in this step:\n",
      "    Column 1: Train\n",
      "    Column 7: Train\n",
      "    Column 8: Train\n",
      "    Column 9: Train\n",
      "    Column 11: Train\n",
      "    Column 12: Train\n",
      "    Column 14: Train\n",
      "    Column 15: Train\n",
      "    Column 16: Train\n",
      "    Column 17: Train\n",
      "    Column 18: Train\n",
      "    Column 19: Train\n",
      "Train sizes in this step:\n",
      "    Column 1: 45\n",
      "    Column 7: 2\n",
      "    Column 8: 46\n",
      "    Column 9: 80\n",
      "    Column 11: 6\n",
      "    Column 12: 28\n",
      "    Column 14: 12\n",
      "    Column 15: 31\n",
      "    Column 16: 84\n",
      "    Column 17: 54\n",
      "    Column 18: 300\n",
      "    Column 19: 49\n",
      "Corrections applied in this step:\n",
      "    Column 1: 6 Real changes: 6\n",
      "    Column 7: 25 Real changes: 0\n",
      "    Column 8: 27 Real changes: 4\n",
      "    Column 9: 23 Real changes: 0\n",
      "    Column 11: 27 Real changes: 0\n",
      "    Column 12: 11 Real changes: 0\n",
      "    Column 14: 14 Real changes: 0\n",
      "    Column 15: 4 Real changes: 4\n",
      "    Column 16: 33 Real changes: 0\n",
      "    Column 17: 0 Real changes: 0\n",
      "    Column 18: 0 Real changes: 0\n",
      "    Column 19: 10 Real changes: 0\n",
      "77% (248 / 323) of data errors are corrected.\n",
      "The error corrector models are updated with new labeled tuple 413.\n",
      "19122 pairs of (a data error, a potential correction) are featurized.\n",
      "Prediction Method in this step:\n",
      "    Column 1: Train\n",
      "    Column 7: Train\n",
      "    Column 8: Train\n",
      "    Column 9: Train\n",
      "    Column 11: Train\n",
      "    Column 12: Train\n",
      "    Column 14: Train\n",
      "    Column 15: Train\n",
      "    Column 16: Train\n",
      "    Column 17: Train\n",
      "    Column 18: Train\n",
      "    Column 19: Train\n",
      "Train sizes in this step:\n",
      "    Column 1: 45\n",
      "    Column 7: 2\n",
      "    Column 8: 46\n",
      "    Column 9: 80\n",
      "    Column 11: 7\n",
      "    Column 12: 28\n",
      "    Column 14: 12\n",
      "    Column 15: 31\n",
      "    Column 16: 84\n",
      "    Column 17: 54\n",
      "    Column 18: 300\n",
      "    Column 19: 49\n",
      "Corrections applied in this step:\n",
      "    Column 1: 27 Real changes: 6\n",
      "    Column 7: 25 Real changes: 0\n",
      "    Column 8: 27 Real changes: 0\n",
      "    Column 9: 23 Real changes: 0\n",
      "    Column 11: 28 Real changes: 0\n",
      "    Column 12: 0 Real changes: 0\n",
      "    Column 14: 14 Real changes: 0\n",
      "    Column 15: 22 Real changes: 4\n",
      "    Column 16: 33 Real changes: 0\n",
      "    Column 17: 3 Real changes: 3\n",
      "    Column 18: 0 Real changes: 0\n",
      "    Column 19: 10 Real changes: 0\n",
      "77% (248 / 323) of data errors are corrected.\n",
      "The error corrector models are updated with new labeled tuple 902.\n",
      "19122 pairs of (a data error, a potential correction) are featurized.\n",
      "Prediction Method in this step:\n",
      "    Column 1: Train\n",
      "    Column 7: Train\n",
      "    Column 8: Train\n",
      "    Column 9: Train\n",
      "    Column 11: Train\n",
      "    Column 12: Train\n",
      "    Column 14: Train\n",
      "    Column 15: Train\n",
      "    Column 16: Train\n",
      "    Column 17: Train\n",
      "    Column 18: Train\n",
      "    Column 19: Train\n",
      "Train sizes in this step:\n",
      "    Column 1: 45\n",
      "    Column 7: 2\n",
      "    Column 8: 46\n",
      "    Column 9: 80\n",
      "    Column 11: 7\n",
      "    Column 12: 28\n",
      "    Column 14: 12\n",
      "    Column 15: 31\n",
      "    Column 16: 84\n",
      "    Column 17: 54\n",
      "    Column 18: 300\n",
      "    Column 19: 49\n",
      "Corrections applied in this step:\n",
      "    Column 1: 27 Real changes: 0\n",
      "    Column 7: 23 Real changes: 0\n",
      "    Column 8: 28 Real changes: 4\n",
      "    Column 9: 23 Real changes: 0\n",
      "    Column 11: 28 Real changes: 0\n",
      "    Column 12: 0 Real changes: 0\n",
      "    Column 14: 15 Real changes: 0\n",
      "    Column 15: 4 Real changes: 3\n",
      "    Column 16: 31 Real changes: 0\n",
      "    Column 17: 3 Real changes: 0\n",
      "    Column 18: 0 Real changes: 0\n",
      "    Column 19: 10 Real changes: 0\n",
      "77% (248 / 323) of data errors are corrected.\n",
      "The error corrector models are updated with new labeled tuple 966.\n",
      "19128 pairs of (a data error, a potential correction) are featurized.\n",
      "Prediction Method in this step:\n",
      "    Column 1: Train\n",
      "    Column 7: Train\n",
      "    Column 8: Train\n",
      "    Column 9: Train\n",
      "    Column 11: Train\n",
      "    Column 12: Train\n",
      "    Column 14: Train\n",
      "    Column 15: Train\n",
      "    Column 16: Train\n",
      "    Column 17: Train\n",
      "    Column 18: Train\n",
      "    Column 19: Train\n",
      "Train sizes in this step:\n",
      "    Column 1: 45\n",
      "    Column 7: 2\n",
      "    Column 8: 46\n",
      "    Column 9: 80\n",
      "    Column 11: 7\n",
      "    Column 12: 28\n",
      "    Column 14: 12\n",
      "    Column 15: 31\n",
      "    Column 16: 84\n",
      "    Column 17: 54\n",
      "    Column 18: 300\n",
      "    Column 19: 49\n",
      "Corrections applied in this step:\n",
      "    Column 1: 25 Real changes: 0\n",
      "    Column 7: 25 Real changes: 0\n",
      "    Column 8: 29 Real changes: 0\n",
      "    Column 9: 0 Real changes: 0\n",
      "    Column 11: 28 Real changes: 0\n",
      "    Column 12: 0 Real changes: 0\n",
      "    Column 14: 15 Real changes: 0\n",
      "    Column 15: 0 Real changes: 0\n",
      "    Column 16: 0 Real changes: 0\n",
      "    Column 17: 3 Real changes: 3\n",
      "    Column 18: 0 Real changes: 0\n",
      "    Column 19: 10 Real changes: 0\n",
      "77% (248 / 323) of data errors are corrected.\n",
      "The error corrector models are updated with new labeled tuple 366.\n",
      "19166 pairs of (a data error, a potential correction) are featurized.\n",
      "Prediction Method in this step:\n",
      "    Column 1: Train\n",
      "    Column 7: Train\n",
      "    Column 8: Train\n",
      "    Column 9: Train\n",
      "    Column 11: Train\n",
      "    Column 12: Train\n",
      "    Column 14: Train\n",
      "    Column 15: Train\n",
      "    Column 16: Train\n",
      "    Column 17: Train\n",
      "    Column 18: Train\n",
      "    Column 19: Train\n",
      "Train sizes in this step:\n",
      "    Column 1: 47\n",
      "    Column 7: 2\n",
      "    Column 8: 46\n",
      "    Column 9: 80\n",
      "    Column 11: 7\n",
      "    Column 12: 28\n",
      "    Column 14: 12\n",
      "    Column 15: 31\n",
      "    Column 16: 84\n",
      "    Column 17: 54\n",
      "    Column 18: 300\n",
      "    Column 19: 49\n",
      "Corrections applied in this step:\n",
      "    Column 1: 0 Real changes: 0\n",
      "    Column 7: 25 Real changes: 0\n",
      "    Column 8: 19 Real changes: 16\n",
      "    Column 9: 23 Real changes: 0\n",
      "    Column 11: 28 Real changes: 0\n",
      "    Column 12: 4 Real changes: 2\n",
      "    Column 14: 4 Real changes: 0\n",
      "    Column 15: 4 Real changes: 0\n",
      "    Column 16: 31 Real changes: 0\n",
      "    Column 17: 0 Real changes: 0\n",
      "    Column 18: 0 Real changes: 0\n",
      "    Column 19: 10 Real changes: 0\n",
      "77% (248 / 323) of data errors are corrected.\n",
      "The error corrector models are updated with new labeled tuple 98.\n",
      "19176 pairs of (a data error, a potential correction) are featurized.\n",
      "Prediction Method in this step:\n",
      "    Column 1: Train\n",
      "    Column 7: Train\n",
      "    Column 8: Train\n",
      "    Column 9: Train\n",
      "    Column 11: Train\n",
      "    Column 12: Train\n",
      "    Column 14: Train\n",
      "    Column 15: Train\n",
      "    Column 16: Train\n",
      "    Column 17: Train\n",
      "    Column 18: Train\n",
      "    Column 19: Train\n",
      "Train sizes in this step:\n",
      "    Column 1: 47\n",
      "    Column 7: 2\n",
      "    Column 8: 46\n",
      "    Column 9: 80\n",
      "    Column 11: 7\n",
      "    Column 12: 28\n",
      "    Column 14: 12\n",
      "    Column 15: 31\n",
      "    Column 16: 84\n",
      "    Column 17: 54\n",
      "    Column 18: 300\n",
      "    Column 19: 49\n",
      "Corrections applied in this step:\n",
      "    Column 1: 0 Real changes: 0\n",
      "    Column 7: 25 Real changes: 0\n",
      "    Column 8: 1 Real changes: 0\n",
      "    Column 9: 0 Real changes: 0\n",
      "    Column 11: 28 Real changes: 0\n",
      "    Column 12: 3 Real changes: 0\n",
      "    Column 14: 15 Real changes: 0\n",
      "    Column 15: 22 Real changes: 3\n",
      "    Column 16: 0 Real changes: 0\n",
      "    Column 17: 0 Real changes: 0\n",
      "    Column 18: 0 Real changes: 0\n",
      "    Column 19: 10 Real changes: 0\n",
      "77% (248 / 323) of data errors are corrected.\n"
     ]
    }
   ],
   "source": [
    "app_2.initialize_models(d)\n",
    "app_2.initialize_dataset(d)\n",
    "for si in d.labeled_tuples:\n",
    "    d.sampled_tuple = si\n",
    "    app_2.update_models(d)\n",
    "    app_2.generate_features(d)\n",
    "    app_2.predict_corrections(d)"
   ]
  },
  {
   "cell_type": "markdown",
   "metadata": {},
   "source": [
    "## 8. Evaluating the Data Cleaning Task"
   ]
  },
  {
   "cell_type": "code",
   "execution_count": 40,
   "metadata": {
    "scrolled": true
   },
   "outputs": [
    {
     "name": "stderr",
     "output_type": "stream",
     "text": [
      "/home/adrian/source/MA/raha/raha/dataset.py:123: FutureWarning: elementwise comparison failed; returning scalar instead, but in the future will perform elementwise comparison\n",
      "  if correction_dictionary[cell] == actual_errors[cell]:\n"
     ]
    },
    {
     "data": {
      "text/plain": "                       Task Precision Recall F1 Score\n0    Error Detection (Raha)      0.95   0.60     0.74\n1  Error Correction (Baran)      0.88   0.43     0.58",
      "text/html": "<div>\n<style scoped>\n    .dataframe tbody tr th:only-of-type {\n        vertical-align: middle;\n    }\n\n    .dataframe tbody tr th {\n        vertical-align: top;\n    }\n\n    .dataframe thead th {\n        text-align: right;\n    }\n</style>\n<table border=\"1\" class=\"dataframe\">\n  <thead>\n    <tr style=\"text-align: right;\">\n      <th></th>\n      <th>Task</th>\n      <th>Precision</th>\n      <th>Recall</th>\n      <th>F1 Score</th>\n    </tr>\n  </thead>\n  <tbody>\n    <tr>\n      <th>0</th>\n      <td>Error Detection (Raha)</td>\n      <td>0.95</td>\n      <td>0.60</td>\n      <td>0.74</td>\n    </tr>\n    <tr>\n      <th>1</th>\n      <td>Error Correction (Baran)</td>\n      <td>0.88</td>\n      <td>0.43</td>\n      <td>0.58</td>\n    </tr>\n  </tbody>\n</table>\n</div>"
     },
     "execution_count": 40,
     "metadata": {},
     "output_type": "execute_result"
    }
   ],
   "source": [
    "edp, edr, edf = d.get_data_cleaning_evaluation(d.detected_cells)[:3]\n",
    "ecp, ecr, ecf = d.get_data_cleaning_evaluation(d.corrected_cells)[-3:]\n",
    "\n",
    "evaluation_df = pandas.DataFrame(columns=[\"Task\", \"Precision\", \"Recall\", \"F1 Score\"])\n",
    "evaluation_df = evaluation_df.append({\"Task\": \"Error Detection (Raha)\", \"Precision\": \"{:.2f}\".format(edp), \n",
    "                                      \"Recall\": \"{:.2f}\".format(edr), \"F1 Score\": \"{:.2f}\".format(edf)}, ignore_index=True)\n",
    "evaluation_df = evaluation_df.append({\"Task\": \"Error Correction (Baran)\", \"Precision\": \"{:.2f}\".format(ecp), \n",
    "                                      \"Recall\": \"{:.2f}\".format(ecr), \"F1 Score\": \"{:.2f}\".format(ecf)}, ignore_index=True)\n",
    "evaluation_df.head()"
   ]
  },
  {
   "cell_type": "markdown",
   "source": [
    "## Analyze the alternative repairs"
   ],
   "metadata": {
    "collapsed": false
   }
  },
  {
   "cell_type": "code",
   "execution_count": 41,
   "outputs": [
    {
     "data": {
      "text/plain": "'Histogram of the number of alternative repairs: [(0, 0), (1, 190), (2, 24), (3, 10), (4, 2), (5, 3)]'"
     },
     "execution_count": 41,
     "metadata": {},
     "output_type": "execute_result"
    }
   ],
   "source": [
    "number_of_repairs = len(d.correction_collection)\n",
    "number_of_repairs_hist = dict()\n",
    "\n",
    "for cell_repairs in d.correction_collection.values():\n",
    "    num = len(cell_repairs)\n",
    "    number_of_repairs_hist[num] = number_of_repairs_hist.get(num, 0) + 1\n",
    "\n",
    "hist = [0] * (max(number_of_repairs_hist.keys()) + 1)\n",
    "for num, count in number_of_repairs_hist.items():\n",
    "    hist[num] = count\n",
    "\n",
    "f\"Histogram of the number of alternative repairs: {list(enumerate(hist))}\""
   ],
   "metadata": {
    "collapsed": false,
    "pycharm": {
     "name": "#%%\n"
    }
   }
  },
  {
   "cell_type": "code",
   "execution_count": 42,
   "outputs": [],
   "source": [
    "diff_collection = []\n",
    "\n",
    "for corrections in d.correction_collection.values():\n",
    "    if len(corrections) > 1:\n",
    "        probabilities = list(sorted(corrections.values(), reverse=True))\n",
    "        diffs = [a - b for a, b in zip(probabilities[:-1], probabilities[1:])]\n",
    "        diff_collection.append(diffs)"
   ],
   "metadata": {
    "collapsed": false,
    "pycharm": {
     "name": "#%%\n"
    }
   }
  },
  {
   "cell_type": "code",
   "execution_count": 43,
   "outputs": [
    {
     "data": {
      "text/plain": "(array([39,  0,  0,  0,  0,  0,  0,  0,  0,  0,  0,  0,  0,  0,  0,  0,  0,\n         0,  0,  0,  0,  0,  0,  0,  0,  0,  0,  0,  0,  0,  0,  0,  0,  0,\n         0,  0,  0,  0,  0,  0,  0,  0,  0,  0,  0,  0,  0,  0,  0,  0,  0,\n         0,  0,  0,  0,  0,  0,  0,  0,  0,  0,  0,  0,  0,  0,  0,  0,  0,\n         0,  0,  0,  0,  0,  0,  0,  0,  0,  0,  0,  0,  0,  0,  0,  0,  0,\n         0,  0,  0,  0,  0,  0,  0,  0,  0,  0,  0,  0,  0,  0,  0]),\n array([0.   , 0.005, 0.01 , 0.015, 0.02 , 0.025, 0.03 , 0.035, 0.04 ,\n        0.045, 0.05 , 0.055, 0.06 , 0.065, 0.07 , 0.075, 0.08 , 0.085,\n        0.09 , 0.095, 0.1  , 0.105, 0.11 , 0.115, 0.12 , 0.125, 0.13 ,\n        0.135, 0.14 , 0.145, 0.15 , 0.155, 0.16 , 0.165, 0.17 , 0.175,\n        0.18 , 0.185, 0.19 , 0.195, 0.2  , 0.205, 0.21 , 0.215, 0.22 ,\n        0.225, 0.23 , 0.235, 0.24 , 0.245, 0.25 , 0.255, 0.26 , 0.265,\n        0.27 , 0.275, 0.28 , 0.285, 0.29 , 0.295, 0.3  , 0.305, 0.31 ,\n        0.315, 0.32 , 0.325, 0.33 , 0.335, 0.34 , 0.345, 0.35 , 0.355,\n        0.36 , 0.365, 0.37 , 0.375, 0.38 , 0.385, 0.39 , 0.395, 0.4  ,\n        0.405, 0.41 , 0.415, 0.42 , 0.425, 0.43 , 0.435, 0.44 , 0.445,\n        0.45 , 0.455, 0.46 , 0.465, 0.47 , 0.475, 0.48 , 0.485, 0.49 ,\n        0.495, 0.5  ]))"
     },
     "execution_count": 43,
     "metadata": {},
     "output_type": "execute_result"
    }
   ],
   "source": [
    "first_diff_collection = [l[0] for l in diff_collection]\n",
    "\n",
    "np.histogram(first_diff_collection,np.linspace(0.0,0.5,101))"
   ],
   "metadata": {
    "collapsed": false,
    "pycharm": {
     "name": "#%%\n"
    }
   }
  },
  {
   "cell_type": "code",
   "execution_count": 44,
   "outputs": [
    {
     "data": {
      "text/plain": "(array([ 0,  0,  0,  0,  0,  0,  0,  0,  0,  0,  0,  0,  0,  0,  0,  0,  0,\n         0,  0,  0,  0,  0,  0,  0,  0,  0,  0,  0,  0,  0,  0,  0,  0,  0,\n         0,  0,  0,  0,  0,  0,  0,  0,  0,  0,  0,  0,  0,  0,  0,  0,  0,\n         0,  0,  0,  0,  0,  0,  0,  0,  0,  0,  0,  0,  0,  0,  0,  0,  0,\n         0,  0,  0,  0,  0,  0,  0,  0,  0,  0,  0,  0,  0,  0,  0,  0,  0,\n         0,  0,  0,  0,  0,  0,  0,  0,  0,  0,  0,  0,  0,  0, 39]),\n array([0.5  , 0.505, 0.51 , 0.515, 0.52 , 0.525, 0.53 , 0.535, 0.54 ,\n        0.545, 0.55 , 0.555, 0.56 , 0.565, 0.57 , 0.575, 0.58 , 0.585,\n        0.59 , 0.595, 0.6  , 0.605, 0.61 , 0.615, 0.62 , 0.625, 0.63 ,\n        0.635, 0.64 , 0.645, 0.65 , 0.655, 0.66 , 0.665, 0.67 , 0.675,\n        0.68 , 0.685, 0.69 , 0.695, 0.7  , 0.705, 0.71 , 0.715, 0.72 ,\n        0.725, 0.73 , 0.735, 0.74 , 0.745, 0.75 , 0.755, 0.76 , 0.765,\n        0.77 , 0.775, 0.78 , 0.785, 0.79 , 0.795, 0.8  , 0.805, 0.81 ,\n        0.815, 0.82 , 0.825, 0.83 , 0.835, 0.84 , 0.845, 0.85 , 0.855,\n        0.86 , 0.865, 0.87 , 0.875, 0.88 , 0.885, 0.89 , 0.895, 0.9  ,\n        0.905, 0.91 , 0.915, 0.92 , 0.925, 0.93 , 0.935, 0.94 , 0.945,\n        0.95 , 0.955, 0.96 , 0.965, 0.97 , 0.975, 0.98 , 0.985, 0.99 ,\n        0.995, 1.   ]))"
     },
     "execution_count": 44,
     "metadata": {},
     "output_type": "execute_result"
    }
   ],
   "source": [
    "second_probs = []\n",
    "\n",
    "for corrections in d.correction_collection.values():\n",
    "    if len(corrections) > 1:\n",
    "        second_probability = list(sorted(corrections.values(), reverse=True))[1]\n",
    "        second_probs.append(second_probability)\n",
    "\n",
    "np.histogram(second_probs,np.linspace(0.5,1.0,101))"
   ],
   "metadata": {
    "collapsed": false,
    "pycharm": {
     "name": "#%%\n"
    }
   }
  },
  {
   "cell_type": "code",
   "execution_count": 45,
   "outputs": [],
   "source": [
    "correct_repairs = d.get_actual_errors_dictionary()\n",
    "error_repaired_cells = [cell for cell, correction in d.corrected_cells.items() if cell in correct_repairs and correction != correct_repairs[cell]]"
   ],
   "metadata": {
    "collapsed": false,
    "pycharm": {
     "name": "#%%\n"
    }
   }
  },
  {
   "cell_type": "code",
   "execution_count": 46,
   "outputs": [
    {
     "data": {
      "text/plain": "'Number of incorrectly repaired cells: 29'"
     },
     "execution_count": 46,
     "metadata": {},
     "output_type": "execute_result"
    }
   ],
   "source": [
    "f\"Number of incorrectly repaired cells: {len(error_repaired_cells)}\""
   ],
   "metadata": {
    "collapsed": false,
    "pycharm": {
     "name": "#%%\n"
    }
   }
  },
  {
   "cell_type": "code",
   "execution_count": 47,
   "outputs": [
    {
     "data": {
      "text/plain": "'Number of incorrectly repaired cells, where the correct repair is among the alternative repairs: 20'"
     },
     "execution_count": 47,
     "metadata": {},
     "output_type": "execute_result"
    }
   ],
   "source": [
    "correct_repair_available = 0\n",
    "\n",
    "for cell in error_repaired_cells:\n",
    "    if correct_repairs[cell] in d.correction_collection[cell].keys():\n",
    "        correct_repair_available += 1\n",
    "\n",
    "f\"Number of incorrectly repaired cells, where the correct repair is among the alternative repairs: {correct_repair_available}\""
   ],
   "metadata": {
    "collapsed": false,
    "pycharm": {
     "name": "#%%\n"
    }
   }
  },
  {
   "cell_type": "code",
   "execution_count": 48,
   "outputs": [
    {
     "data": {
      "text/plain": "(array([ 0,  0,  0,  0,  0,  0,  0,  0,  0,  0,  0,  0,  0,  0,  0,  0,  0,\n         0,  0,  0,  0,  0,  0,  0,  0,  0,  0,  0,  0,  0,  0,  0,  0,  0,\n         0,  0,  0,  0,  0,  0,  0,  0,  0,  0,  0,  0,  0,  0,  0,  0,  0,\n         0,  0,  0,  0,  0,  0,  0,  0,  0,  0,  0,  0,  0,  0,  0,  0,  0,\n         0,  0,  0,  0,  0,  0,  0,  0,  0,  0,  0,  0,  0,  0,  0,  0,  0,\n         0,  0,  0,  0,  0,  0,  0,  0,  0,  0,  0,  0,  0,  0, 20]),\n array([0.5  , 0.505, 0.51 , 0.515, 0.52 , 0.525, 0.53 , 0.535, 0.54 ,\n        0.545, 0.55 , 0.555, 0.56 , 0.565, 0.57 , 0.575, 0.58 , 0.585,\n        0.59 , 0.595, 0.6  , 0.605, 0.61 , 0.615, 0.62 , 0.625, 0.63 ,\n        0.635, 0.64 , 0.645, 0.65 , 0.655, 0.66 , 0.665, 0.67 , 0.675,\n        0.68 , 0.685, 0.69 , 0.695, 0.7  , 0.705, 0.71 , 0.715, 0.72 ,\n        0.725, 0.73 , 0.735, 0.74 , 0.745, 0.75 , 0.755, 0.76 , 0.765,\n        0.77 , 0.775, 0.78 , 0.785, 0.79 , 0.795, 0.8  , 0.805, 0.81 ,\n        0.815, 0.82 , 0.825, 0.83 , 0.835, 0.84 , 0.845, 0.85 , 0.855,\n        0.86 , 0.865, 0.87 , 0.875, 0.88 , 0.885, 0.89 , 0.895, 0.9  ,\n        0.905, 0.91 , 0.915, 0.92 , 0.925, 0.93 , 0.935, 0.94 , 0.945,\n        0.95 , 0.955, 0.96 , 0.965, 0.97 , 0.975, 0.98 , 0.985, 0.99 ,\n        0.995, 1.   ]))"
     },
     "execution_count": 48,
     "metadata": {},
     "output_type": "execute_result"
    }
   ],
   "source": [
    "correct_repair_probs = []\n",
    "\n",
    "for cell in error_repaired_cells:\n",
    "    if correct_repairs[cell] in d.correction_collection[cell]:\n",
    "        correct_repair_probs.append(d.correction_collection[cell][correct_repairs[cell]])\n",
    "\n",
    "np.histogram(correct_repair_probs,np.linspace(0.5,1.0,101))"
   ],
   "metadata": {
    "collapsed": false,
    "pycharm": {
     "name": "#%%\n"
    }
   }
  },
  {
   "cell_type": "markdown",
   "metadata": {
    "pycharm": {
     "name": "#%% md\n"
    }
   },
   "source": [
    "## Analyze confidence vs error probability"
   ]
  },
  {
   "cell_type": "code",
   "execution_count": 49,
   "outputs": [],
   "source": [
    "import importlib\n",
    "from raha import analysis_utilities\n",
    "import matplotlib.pyplot as plt\n",
    "plt.style.use('seaborn')\n",
    "plt.ion()"
   ],
   "metadata": {
    "collapsed": false,
    "pycharm": {
     "name": "#%%\n"
    }
   }
  },
  {
   "cell_type": "code",
   "execution_count": 56,
   "outputs": [
    {
     "data": {
      "text/plain": "<module 'raha.analysis_utilities' from '/home/adrian/source/MA/raha/raha/analysis_utilities.py'>"
     },
     "execution_count": 56,
     "metadata": {},
     "output_type": "execute_result"
    }
   ],
   "source": [
    "importlib.reload(analysis_utilities)"
   ],
   "metadata": {
    "collapsed": false,
    "pycharm": {
     "name": "#%%\n"
    }
   }
  },
  {
   "cell_type": "code",
   "execution_count": 51,
   "outputs": [],
   "source": [
    "repair_confidence_df = analysis_utilities.get_correction_confidence_df(d)"
   ],
   "metadata": {
    "collapsed": false,
    "pycharm": {
     "name": "#%%\n"
    }
   }
  },
  {
   "cell_type": "code",
   "execution_count": 52,
   "outputs": [
    {
     "data": {
      "text/plain": "<Figure size 576x396 with 2 Axes>",
      "image/png": "[encoded data removed]"
     },
     "execution_count": 52,
     "metadata": {},
     "output_type": "execute_result"
    }
   ],
   "source": [
    "analysis_utilities.correction_confidence_distributions(repair_confidence_df)"
   ],
   "metadata": {
    "collapsed": false,
    "pycharm": {
     "name": "#%%\n"
    }
   }
  },
  {
   "cell_type": "code",
   "execution_count": 53,
   "outputs": [
    {
     "data": {
      "text/plain": "<Figure size 576x396 with 2 Axes>",
      "image/png": "[encoded data removed]"
     },
     "execution_count": 53,
     "metadata": {},
     "output_type": "execute_result"
    }
   ],
   "source": [
    "analysis_utilities.correction_correctness_by_confidence(repair_confidence_df)"
   ],
   "metadata": {
    "collapsed": false,
    "pycharm": {
     "name": "#%%\n"
    }
   }
  },
  {
   "cell_type": "code",
   "execution_count": 57,
   "outputs": [
    {
     "data": {
      "text/plain": "<Figure size 576x396 with 4 Axes>",
      "image/png": "[encoded data removed]"
     },
     "execution_count": 57,
     "metadata": {},
     "output_type": "execute_result"
    }
   ],
   "source": [
    "analysis_utilities.detection_evaluation(d)"
   ],
   "metadata": {
    "collapsed": false,
    "pycharm": {
     "name": "#%%\n"
    }
   }
  },
  {
   "cell_type": "code",
   "execution_count": 58,
   "outputs": [
    {
     "data": {
      "text/plain": "<Figure size 576x396 with 2 Axes>",
      "image/png": "[encoded data removed]"
     },
     "execution_count": 58,
     "metadata": {},
     "output_type": "execute_result"
    }
   ],
   "source": [
    "analysis_utilities.detection_correctness_by_confidence(d,number_of_bins=10)"
   ],
   "metadata": {
    "collapsed": false,
    "pycharm": {
     "name": "#%%\n"
    }
   }
  },
  {
   "cell_type": "code",
   "execution_count": null,
   "outputs": [],
   "source": [],
   "metadata": {
    "collapsed": false,
    "pycharm": {
     "name": "#%%\n"
    }
   }
  }
 ],
 "metadata": {
  "kernelspec": {
   "display_name": "Python 3",
   "language": "python",
   "name": "python3"
  },
  "language_info": {
   "codemirror_mode": {
    "name": "ipython",
    "version": 3
   },
   "file_extension": ".py",
   "mimetype": "text/x-python",
   "name": "python",
   "nbconvert_exporter": "python",
   "pygments_lexer": "ipython3",
   "version": "3.7.9"
  }
 },
 "nbformat": 4,
 "nbformat_minor": 4
}
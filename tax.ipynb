{
 "cells": [
  {
   "cell_type": "markdown",
   "metadata": {},
   "source": [
    "# End-to-End Data Cleaning Pipeline with Raha and Baran (Minimal and Integrated)\n",
    "We build an end-to-end data cleaning pipeline with our configuration-free error detection and correction systems, Raha and Baran."
   ]
  },
  {
   "cell_type": "code",
   "execution_count": 5,
   "metadata": {},
   "outputs": [],
   "source": [
    "import pandas\n",
    "import IPython.display\n",
    "import ipywidgets\n",
    "\n",
    "import raha"
   ]
  },
  {
   "cell_type": "markdown",
   "metadata": {},
   "source": [
    "## 1. Instantiating the Detection and Correction Classes\n",
    "We first instantiate the `Detection` and `Correction` classes."
   ]
  },
  {
   "cell_type": "code",
   "execution_count": 6,
   "metadata": {},
   "outputs": [],
   "source": [
    "from raha import analysis_utilities\n",
    "app_1 = raha.Detection()\n",
    "app_2 = raha.Correction()\n",
    "\n",
    "# How many tuples would you label?\n",
    "app_1.LABELING_BUDGET = 20\n",
    "app_2.LABELING_BUDGET = 0\n",
    "\n",
    "# Would you like to see the logs?\n",
    "app_1.VERBOSE = True\n",
    "app_2.VERBOSE = True"
   ]
  },
  {
   "cell_type": "markdown",
   "metadata": {},
   "source": [
    "## 2. Instantiating the Dataset\n",
    "We next load and instantiate the dataset object."
   ]
  },
  {
   "cell_type": "code",
   "execution_count": 7,
   "metadata": {},
   "outputs": [
    {
     "data": {
      "text/plain": "      f_name    l_name gender area_code     phone        city state    zip  \\\n0   Pengyuan   Zendler      F       508  744-9007  SWAMPSCOTT    MA  01907   \n1        Nik     Tacic      M       702  517-7658   LAS VEGAS    NV  89140   \n2      Hovav    Punter      M       501  304-9763       HASTY    AR  72640   \n3  Xiangning  Vanneste      F       862  651-6469  BRIGANTINE    NJ  08203   \n4      Belen    Niccum      F       920  287-1889    FLORENCE    WI  54121   \n\n  marital_status has_child salary       rate single_exemp married_exemp  \\\n0              M         N  90000        5.3            0          7150   \n1              M         N  90000        0.0            0             0   \n2              S         N  50000        7.0           20             0   \n3              M         Y  55000  1.9519792            0          2000   \n4              S         Y  85000  5.9232907          700             0   \n\n  child_exemp  \n0           0  \n1           0  \n2           0  \n3        1500  \n4         400  ",
      "text/html": "<div>\n<style scoped>\n    .dataframe tbody tr th:only-of-type {\n        vertical-align: middle;\n    }\n\n    .dataframe tbody tr th {\n        vertical-align: top;\n    }\n\n    .dataframe thead th {\n        text-align: right;\n    }\n</style>\n<table border=\"1\" class=\"dataframe\">\n  <thead>\n    <tr style=\"text-align: right;\">\n      <th></th>\n      <th>f_name</th>\n      <th>l_name</th>\n      <th>gender</th>\n      <th>area_code</th>\n      <th>phone</th>\n      <th>city</th>\n      <th>state</th>\n      <th>zip</th>\n      <th>marital_status</th>\n      <th>has_child</th>\n      <th>salary</th>\n      <th>rate</th>\n      <th>single_exemp</th>\n      <th>married_exemp</th>\n      <th>child_exemp</th>\n    </tr>\n  </thead>\n  <tbody>\n    <tr>\n      <th>0</th>\n      <td>Pengyuan</td>\n      <td>Zendler</td>\n      <td>F</td>\n      <td>508</td>\n      <td>744-9007</td>\n      <td>SWAMPSCOTT</td>\n      <td>MA</td>\n      <td>01907</td>\n      <td>M</td>\n      <td>N</td>\n      <td>90000</td>\n      <td>5.3</td>\n      <td>0</td>\n      <td>7150</td>\n      <td>0</td>\n    </tr>\n    <tr>\n      <th>1</th>\n      <td>Nik</td>\n      <td>Tacic</td>\n      <td>M</td>\n      <td>702</td>\n      <td>517-7658</td>\n      <td>LAS VEGAS</td>\n      <td>NV</td>\n      <td>89140</td>\n      <td>M</td>\n      <td>N</td>\n      <td>90000</td>\n      <td>0.0</td>\n      <td>0</td>\n      <td>0</td>\n      <td>0</td>\n    </tr>\n    <tr>\n      <th>2</th>\n      <td>Hovav</td>\n      <td>Punter</td>\n      <td>M</td>\n      <td>501</td>\n      <td>304-9763</td>\n      <td>HASTY</td>\n      <td>AR</td>\n      <td>72640</td>\n      <td>S</td>\n      <td>N</td>\n      <td>50000</td>\n      <td>7.0</td>\n      <td>20</td>\n      <td>0</td>\n      <td>0</td>\n    </tr>\n    <tr>\n      <th>3</th>\n      <td>Xiangning</td>\n      <td>Vanneste</td>\n      <td>F</td>\n      <td>862</td>\n      <td>651-6469</td>\n      <td>BRIGANTINE</td>\n      <td>NJ</td>\n      <td>08203</td>\n      <td>M</td>\n      <td>Y</td>\n      <td>55000</td>\n      <td>1.9519792</td>\n      <td>0</td>\n      <td>2000</td>\n      <td>1500</td>\n    </tr>\n    <tr>\n      <th>4</th>\n      <td>Belen</td>\n      <td>Niccum</td>\n      <td>F</td>\n      <td>920</td>\n      <td>287-1889</td>\n      <td>FLORENCE</td>\n      <td>WI</td>\n      <td>54121</td>\n      <td>S</td>\n      <td>Y</td>\n      <td>85000</td>\n      <td>5.9232907</td>\n      <td>700</td>\n      <td>0</td>\n      <td>400</td>\n    </tr>\n  </tbody>\n</table>\n</div>"
     },
     "execution_count": 7,
     "metadata": {},
     "output_type": "execute_result"
    }
   ],
   "source": [
    "dataset_dictionary = {\n",
    "        \"name\": \"tax\",\n",
    "        \"path\": \"datasets/tax/dirty.csv\",\n",
    "        \"clean_path\": \"datasets/tax/clean.csv\"\n",
    "    }\n",
    "d = app_1.initialize_dataset(dataset_dictionary)\n",
    "d.dataframe.head()"
   ]
  },
  {
   "cell_type": "markdown",
   "metadata": {},
   "source": [
    "## 3. Generating Features and Clusters\n",
    "Raha runs (all or the promising) error detection strategies on the dataset. This step could take a while because all the strategies should be run on the dataset. Raha then generates a feature vector for each data cell based on the output of error detection strategies. Raha next builds a hierarchical clustering model for our clustering-based sampling approach."
   ]
  },
  {
   "cell_type": "code",
   "execution_count": null,
   "metadata": {
    "pycharm": {
     "is_executing": true
    }
   },
   "outputs": [
    {
     "name": "stdout",
     "output_type": "stream",
     "text": [
      "30278 cells are detected by [\"PVD\", [\"l_name\", \"k\"]].\n",
      "47069 cells are detected by [\"PVD\", [\"f_name\", \"h\"]].\n",
      "86667 cells are detected by [\"PVD\", [\"zip\", \"2\"]].\n",
      "12463 cells are detected by [\"PVD\", [\"l_name\", \"C\"]].\n",
      "42285 cells are detected by [\"PVD\", [\"state\", \"N\"]].\n",
      "76255 cells are detected by [\"PVD\", [\"zip\", \"1\"]].\n",
      "49446 cells are detected by [\"PVD\", [\"l_name\", \"t\"]].\n",
      "71867 cells are detected by [\"PVD\", [\"rate\", \"5\"]].\n",
      "11340 cells are detected by [\"PVD\", [\"married_exemp\", \"8\"]].\n",
      "86553 cells are detected by [\"PVD\", [\"f_name\", \"n\"]].\n",
      "9648 cells are detected by [\"PVD\", [\"single_exemp\", \"4\"]].\n",
      "400000 cells are detected by [\"RVD\", [\"area_code\", \"l_name\"]].\n",
      "400000 cells are detected by [\"RVD\", [\"salary\", \"gender\"]].\n",
      "300158 cells are detected by [\"RVD\", [\"area_code\", \"child_exemp\"]].\n",
      "336134 cells are detected by [\"RVD\", [\"city\", \"child_exemp\"]].\n",
      "694 cells are detected by [\"PVD\", [\"l_name\", \"'\"]].\n",
      "3599 cells are detected by [\"PVD\", [\"f_name\", \"I\"]].\n",
      "23084 cells are detected by [\"PVD\", [\"state\", \"C\"]].\n",
      "400000 cells are detected by [\"RVD\", [\"marital_status\", \"l_name\"]].\n",
      "400000 cells are detected by [\"RVD\", [\"child_exemp\", \"phone\"]].\n",
      "400000 cells are detected by [\"RVD\", [\"gender\", \"rate\"]].\n",
      "78113 cells are detected by [\"PVD\", [\"l_name\", \"n\"]].\n",
      "400000 cells are detected by [\"RVD\", [\"has_child\", \"gender\"]].\n",
      "17714 cells are detected by [\"PVD\", [\"l_name\", \"b\"]].\n",
      "9883 cells are detected by [\"PVD\", [\"l_name\", \"w\"]].\n",
      "100674 cells are detected by [\"PVD\", [\"gender\", \"F\"]].\n",
      "18553 cells are detected by [\"PVD\", [\"l_name\", \"B\"]].\n",
      "400000 cells are detected by [\"RVD\", [\"state\", \"city\"]].\n",
      "399804 cells are detected by [\"RVD\", [\"f_name\", \"child_exemp\"]].\n",
      "3920 cells are detected by [\"PVD\", [\"state\", \"U\"]].\n",
      "400000 cells are detected by [\"RVD\", [\"area_code\", \"has_child\"]].\n",
      "192320 cells are detected by [\"PVD\", [\"single_exemp\", \"0\"]].\n",
      "376670 cells are detected by [\"RVD\", [\"rate\", \"single_exemp\"]].\n",
      "400000 cells are detected by [\"RVD\", [\"child_exemp\", \"city\"]].\n",
      "303830 cells are detected by [\"RVD\", [\"city\", \"rate\"]].\n",
      "358098 cells are detected by [\"RVD\", [\"zip\", \"gender\"]].\n",
      "17930 cells are detected by [\"PVD\", [\"l_name\", \"y\"]].\n",
      "400000 cells are detected by [\"RVD\", [\"f_name\", \"marital_status\"]].\n",
      "400000 cells are detected by [\"RVD\", [\"has_child\", \"single_exemp\"]].\n",
      "47015 cells are detected by [\"PVD\", [\"city\", \"D\"]].\n",
      "399968 cells are detected by [\"RVD\", [\"f_name\", \"has_child\"]].\n",
      "20299 cells are detected by [\"PVD\", [\"salary\", \"9\"]].\n",
      "400000 cells are detected by [\"RVD\", [\"area_code\", \"phone\"]].\n",
      "400000 cells are detected by [\"RVD\", [\"single_exemp\", \"city\"]].\n",
      "400000 cells are detected by [\"RVD\", [\"rate\", \"has_child\"]].\n",
      "30025 cells are detected by [\"PVD\", [\"city\", \"P\"]].\n",
      "11264 cells are detected by [\"PVD\", [\"state\", \"E\"]].\n",
      "9093 cells are detected by [\"PVD\", [\"f_name\", \"b\"]].\n",
      "395738 cells are detected by [\"RVD\", [\"single_exemp\", \"child_exemp\"]].\n",
      "10191 cells are detected by [\"PVD\", [\"l_name\", \"H\"]].\n",
      "400000 cells are detected by [\"RVD\", [\"gender\", \"marital_status\"]].\n",
      "46110 cells are detected by [\"PVD\", [\"area_code\", \"6\"]].\n",
      "3804 cells are detected by [\"PVD\", [\"state\", \"Z\"]].\n",
      "109716 cells are detected by [\"PVD\", [\"rate\", \"0\"]].\n",
      "254430 cells are detected by [\"RVD\", [\"married_exemp\", \"marital_status\"]].\n",
      "400000 cells are detected by [\"RVD\", [\"state\", \"phone\"]].\n",
      "400000 cells are detected by [\"RVD\", [\"l_name\", \"f_name\"]].\n",
      "40018 cells are detected by [\"PVD\", [\"rate\", \"9\"]].\n",
      "400000 cells are detected by [\"RVD\", [\"marital_status\", \"child_exemp\"]].\n",
      "79410 cells are detected by [\"PVD\", [\"city\", \"S\"]].\n",
      "2282 cells are detected by [\"PVD\", [\"l_name\", \"I\"]].\n",
      "1 cells are detected by [\"PVD\", [\"city\", \"/\"]].\n",
      "269668 cells are detected by [\"RVD\", [\"zip\", \"area_code\"]].\n",
      "187 cells are detected by [\"PVD\", [\"rate\", \"a\"]].\n",
      "49954 cells are detected by [\"PVD\", [\"city\", \"C\"]].\n",
      "400000 cells are detected by [\"RVD\", [\"marital_status\", \"rate\"]].\n",
      "15351 cells are detected by [\"PVD\", [\"single_exemp\", \"5\"]].\n",
      "4967 cells are detected by [\"PVD\", [\"city\", \"J\"]].\n",
      "200 cells are detected by [\"PVD\", [\"child_exemp\", \"-\"]].\n",
      "171244 cells are detected by [\"KBVD\", \"/home/adrian/source/MA/raha/raha/tools/KATARA/knowledge-base/zipHasCity.rel.txt\"].\n",
      "5029 cells are detected by [\"PVD\", [\"f_name\", \"F\"]].\n",
      "400000 cells are detected by [\"RVD\", [\"salary\", \"city\"]].\n",
      "400000 cells are detected by [\"RVD\", [\"has_child\", \"area_code\"]].\n",
      "4223 cells are detected by [\"PVD\", [\"f_name\", \"V\"]].\n",
      "247058 cells are detected by [\"RVD\", [\"state\", \"rate\"]].\n",
      "6811 cells are detected by [\"PVD\", [\"f_name\", \"N\"]].\n",
      "400000 cells are detected by [\"RVD\", [\"child_exemp\", \"salary\"]].\n",
      "380426 cells are detected by [\"RVD\", [\"single_exemp\", \"area_code\"]].\n",
      "2482 cells are detected by [\"PVD\", [\"f_name\", \"X\"]].\n",
      "5010 cells are detected by [\"RVD\", [\"phone\", \"gender\"]].\n",
      "55550 cells are detected by [\"PVD\", [\"l_name\", \"s\"]].\n",
      "55227 cells are detected by [\"PVD\", [\"area_code\", \"7\"]].\n",
      "399980 cells are detected by [\"RVD\", [\"l_name\", \"gender\"]].\n",
      "24715 cells are detected by [\"PVD\", [\"married_exemp\", \"2\"]].\n",
      "400000 cells are detected by [\"RVD\", [\"marital_status\", \"city\"]].\n",
      "42917 cells are detected by [\"PVD\", [\"l_name\", \"h\"]].\n",
      "400000 cells are detected by [\"RVD\", [\"child_exemp\", \"gender\"]].\n",
      "4982 cells are detected by [\"RVD\", [\"phone\", \"has_child\"]].\n",
      "3743 cells are detected by [\"PVD\", [\"l_name\", \"E\"]].\n",
      "194264 cells are detected by [\"PVD\", [\"child_exemp\", \"0\"]].\n",
      "75507 cells are detected by [\"PVD\", [\"f_name\", \"e\"]].\n",
      "110036 cells are detected by [\"PVD\", [\"salary\", \"5\"]].\n",
      "27360 cells are detected by [\"PVD\", [\"f_name\", \"d\"]].\n",
      "400000 cells are detected by [\"RVD\", [\"married_exemp\", \"l_name\"]].\n",
      "5640 cells are detected by [\"PVD\", [\"l_name\", \"F\"]].\n",
      "22 cells are detected by [\"PVD\", [\"l_name\", \";\"]].\n",
      "63412 cells are detected by [\"PVD\", [\"f_name\", \"r\"]].\n",
      "105183 cells are detected by [\"PVD\", [\"l_name\", \"a\"]].\n",
      "38498 cells are detected by [\"PVD\", [\"city\", \"U\"]].\n",
      "400000 cells are detected by [\"RVD\", [\"state\", \"f_name\"]].\n",
      "99587 cells are detected by [\"PVD\", [\"f_name\", \"i\"]].\n",
      "2869 cells are detected by [\"PVD\", [\"l_name\", \"Z\"]].\n",
      "400000 cells are detected by [\"RVD\", [\"married_exemp\", \"city\"]].\n",
      "6559 cells are detected by [\"PVD\", [\"f_name\", \"P\"]].\n",
      "38897 cells are detected by [\"PVD\", [\"f_name\", \"l\"]].\n",
      "300092 cells are detected by [\"RVD\", [\"area_code\", \"single_exemp\"]].\n",
      "400000 cells are detected by [\"RVD\", [\"gender\", \"area_code\"]].\n",
      "400000 cells are detected by [\"RVD\", [\"salary\", \"l_name\"]].\n",
      "254430 cells are detected by [\"RVD\", [\"married_exemp\", \"single_exemp\"]].\n",
      "11454 cells are detected by [\"PVD\", [\"l_name\", \"G\"]].\n",
      "264428 cells are detected by [\"RVD\", [\"city\", \"zip\"]].\n",
      "100246 cells are detected by [\"PVD\", [\"marital_status\", \"S\"]].\n",
      "85417 cells are detected by [\"PVD\", [\"zip\", \"8\"]].\n",
      "82389 cells are detected by [\"PVD\", [\"phone\", \"0\"]].\n",
      "113770 cells are detected by [\"PVD\", [\"f_name\", \"a\"]].\n",
      "9132 cells are detected by [\"RVD\", [\"phone\", \"rate\"]].\n",
      "15344 cells are detected by [\"PVD\", [\"l_name\", \"M\"]].\n",
      "400000 cells are detected by [\"RVD\", [\"rate\", \"l_name\"]].\n",
      "34616 cells are detected by [\"PVD\", [\"state\", \"M\"]].\n",
      "400000 cells are detected by [\"RVD\", [\"has_child\", \"f_name\"]].\n",
      "400000 cells are detected by [\"RVD\", [\"salary\", \"marital_status\"]].\n",
      "49483 cells are detected by [\"PVD\", [\"rate\", \"7\"]].\n",
      "400000 cells are detected by [\"RVD\", [\"has_child\", \"rate\"]].\n",
      "28923 cells are detected by [\"PVD\", [\"single_exemp\", \"1\"]].\n",
      "199508 cells are detected by [\"RVD\", [\"marital_status\", \"married_exemp\"]].\n",
      "396084 cells are detected by [\"RVD\", [\"city\", \"salary\"]].\n",
      "7718 cells are detected by [\"PVD\", [\"married_exemp\", \"7\"]].\n",
      "5848 cells are detected by [\"PVD\", [\"child_exemp\", \"9\"]].\n",
      "88586 cells are detected by [\"PVD\", [\"l_name\", \"r\"]].\n",
      "52866 cells are detected by [\"PVD\", [\"rate\", \"6\"]].\n",
      "52587 cells are detected by [\"PVD\", [\"area_code\", \"1\"]].\n",
      "9740 cells are detected by [\"RVD\", [\"phone\", \"f_name\"]].\n",
      "45898 cells are detected by [\"PVD\", [\"city\", \" \"]].\n",
      "1251 cells are detected by [\"PVD\", [\"f_name\", \"U\"]].\n",
      "2619 cells are detected by [\"PVD\", [\"l_name\", \"J\"]].\n",
      "5672 cells are detected by [\"RVD\", [\"phone\", \"married_exemp\"]].\n",
      "264540 cells are detected by [\"RVD\", [\"zip\", \"married_exemp\"]].\n",
      "400000 cells are detected by [\"RVD\", [\"has_child\", \"marital_status\"]].\n",
      "218 cells are detected by [\"PVD\", [\"city\", \"-\"]].\n",
      "400000 cells are detected by [\"RVD\", [\"area_code\", \"f_name\"]].\n",
      "100372 cells are detected by [\"PVD\", [\"has_child\", \"N\"]].\n",
      "6135 cells are detected by [\"PVD\", [\"f_name\", \"E\"]].\n",
      "14045 cells are detected by [\"PVD\", [\"l_name\", \"K\"]].\n",
      "26837 cells are detected by [\"PVD\", [\"married_exemp\", \"4\"]].\n",
      "400000 cells are detected by [\"RVD\", [\"single_exemp\", \"salary\"]].\n",
      "23531 cells are detected by [\"PVD\", [\"single_exemp\", \"2\"]].\n",
      "396490 cells are detected by [\"RVD\", [\"city\", \"f_name\"]].\n",
      "399912 cells are detected by [\"RVD\", [\"f_name\", \"married_exemp\"]].\n",
      "400000 cells are detected by [\"RVD\", [\"child_exemp\", \"marital_status\"]].\n",
      "400000 cells are detected by [\"RVD\", [\"married_exemp\", \"salary\"]].\n",
      "80224 cells are detected by [\"PVD\", [\"zip\", \"7\"]].\n",
      "19821 cells are detected by [\"PVD\", [\"salary\", \"3\"]].\n",
      "400000 cells are detected by [\"RVD\", [\"f_name\", \"state\"]].\n",
      "400000 cells are detected by [\"RVD\", [\"gender\", \"f_name\"]].\n",
      "1725 cells are detected by [\"PVD\", [\"f_name\", \"x\"]].\n",
      "1318 cells are detected by [\"RVD\", [\"zip\", \"city\"]].\n",
      "384752 cells are detected by [\"RVD\", [\"married_exemp\", \"state\"]].\n",
      "47242 cells are detected by [\"PVD\", [\"rate\", \"4\"]].\n",
      "8106 cells are detected by [\"PVD\", [\"l_name\", \"A\"]].\n",
      "3980 cells are detected by [\"PVD\", [\"state\", \"J\"]].\n",
      "920 cells are detected by [\"PVD\", [\"f_name\", \"Q\"]].\n",
      "19971 cells are detected by [\"PVD\", [\"salary\", \"4\"]].\n",
      "49106 cells are detected by [\"PVD\", [\"city\", \"H\"]].\n",
      "1939 cells are detected by [\"PVD\", [\"child_exemp\", \"8\"]].\n",
      "9992 cells are detected by [\"PVD\", [\"l_name\", \"D\"]].\n",
      "399600 cells are detected by [\"RVD\", [\"child_exemp\", \"single_exemp\"]].\n",
      "27124 cells are detected by [\"PVD\", [\"city\", \"V\"]].\n",
      "299966 cells are detected by [\"RVD\", [\"state\", \"child_exemp\"]].\n",
      "380220 cells are detected by [\"RVD\", [\"child_exemp\", \"area_code\"]].\n",
      "399824 cells are detected by [\"RVD\", [\"f_name\", \"single_exemp\"]].\n",
      "400000 cells are detected by [\"RVD\", [\"marital_status\", \"area_code\"]].\n",
      "400000 cells are detected by [\"RVD\", [\"single_exemp\", \"gender\"]].\n",
      "27473 cells are detected by [\"PVD\", [\"city\", \"K\"]].\n",
      "3364 cells are detected by [\"PVD\", [\"f_name\", \"Z\"]].\n",
      "16398 cells are detected by [\"PVD\", [\"f_name\", \"M\"]].\n",
      "15310 cells are detected by [\"PVD\", [\"state\", \"W\"]].\n",
      "117597 cells are detected by [\"PVD\", [\"city\", \"E\"]].\n",
      "400000 cells are detected by [\"RVD\", [\"marital_status\", \"has_child\"]].\n",
      "29118 cells are detected by [\"PVD\", [\"l_name\", \"d\"]].\n",
      "86021 cells are detected by [\"PVD\", [\"l_name\", \"i\"]].\n",
      "7322 cells are detected by [\"PVD\", [\"f_name\", \"z\"]].\n",
      "9740 cells are detected by [\"RVD\", [\"phone\", \"area_code\"]].\n",
      "400000 cells are detected by [\"RVD\", [\"area_code\", \"salary\"]].\n",
      "200 cells are detected by [\"PVD\", [\"state\", \"*\"]].\n",
      "10455 cells are detected by [\"PVD\", [\"f_name\", \"j\"]].\n",
      "0 cells are detected by [\"RVD\", [\"f_name\", \"gender\"]].\n",
      "400000 cells are detected by [\"RVD\", [\"salary\", \"rate\"]].\n",
      "400000 cells are detected by [\"RVD\", [\"state\", \"gender\"]].\n",
      "33987 cells are detected by [\"PVD\", [\"city\", \"B\"]].\n",
      "327566 cells are detected by [\"RVD\", [\"area_code\", \"state\"]].\n",
      "400000 cells are detected by [\"RVD\", [\"state\", \"has_child\"]].\n",
      "9491 cells are detected by [\"PVD\", [\"f_name\", \"v\"]].\n",
      "8404 cells are detected by [\"PVD\", [\"f_name\", \"Y\"]].\n",
      "9740 cells are detected by [\"RVD\", [\"phone\", \"l_name\"]].\n",
      "23322 cells are detected by [\"PVD\", [\"rate\", \"1\"]].\n",
      "400000 cells are detected by [\"RVD\", [\"gender\", \"salary\"]].\n",
      "399600 cells are detected by [\"RVD\", [\"child_exemp\", \"married_exemp\"]].\n",
      "334634 cells are detected by [\"RVD\", [\"rate\", \"state\"]].\n",
      "22006 cells are detected by [\"PVD\", [\"f_name\", \"k\"]].\n",
      "400000 cells are detected by [\"RVD\", [\"area_code\", \"city\"]].\n",
      "400000 cells are detected by [\"RVD\", [\"married_exemp\", \"phone\"]].\n",
      "9896 cells are detected by [\"PVD\", [\"f_name\", \"R\"]].\n",
      "400000 cells are detected by [\"RVD\", [\"single_exemp\", \"phone\"]].\n",
      "389356 cells are detected by [\"RVD\", [\"zip\", \"f_name\"]].\n",
      "400000 cells are detected by [\"RVD\", [\"gender\", \"zip\"]].\n",
      "10196 cells are detected by [\"PVD\", [\"l_name\", \"L\"]].\n",
      "106632 cells are detected by [\"PVD\", [\"phone\", \"5\"]].\n",
      "20094 cells are detected by [\"PVD\", [\"salary\", \"6\"]].\n",
      "28329 cells are detected by [\"PVD\", [\"l_name\", \"m\"]].\n",
      "21126 cells are detected by [\"PVD\", [\"child_exemp\", \"2\"]].\n",
      "400000 cells are detected by [\"RVD\", [\"has_child\", \"child_exemp\"]].\n",
      "399600 cells are detected by [\"RVD\", [\"single_exemp\", \"state\"]].\n",
      "396490 cells are detected by [\"RVD\", [\"city\", \"phone\"]].\n",
      "4347 cells are detected by [\"PVD\", [\"l_name\", \"V\"]].\n",
      "15184 cells are detected by [\"PVD\", [\"f_name\", \"A\"]].\n",
      "30480 cells are detected by [\"PVD\", [\"state\", \"I\"]].\n",
      "400000 cells are detected by [\"RVD\", [\"salary\", \"area_code\"]].\n",
      "15576 cells are detected by [\"PVD\", [\"state\", \"K\"]].\n",
      "99451 cells are detected by [\"PVD\", [\"zip\", \"0\"]].\n"
     ]
    }
   ],
   "source": [
    "app_1.run_strategies(d)\n",
    "app_1.generate_features(d)\n",
    "app_1.build_clusters(d)"
   ]
  },
  {
   "cell_type": "markdown",
   "metadata": {},
   "source": [
    "## 4. Interactive Tuple Sampling and Labeling\n",
    "Raha then iteratively samples a tuple. We should label data cells of each sampled tuple."
   ]
  },
  {
   "cell_type": "code",
   "execution_count": null,
   "metadata": {
    "scrolled": true,
    "pycharm": {
     "is_executing": true
    }
   },
   "outputs": [],
   "source": [
    "def on_button_clicked(_):\n",
    "    for j in range(0, len(texts)):\n",
    "        cell = (d.sampled_tuple, j)\n",
    "        error_label = 0\n",
    "        correction = texts[j].value\n",
    "        if d.dataframe.iloc[cell] != correction:\n",
    "            error_label = 1\n",
    "        d.labeled_cells[cell] = [error_label, correction]\n",
    "    d.labeled_tuples[d.sampled_tuple] = 1\n",
    "\n",
    "app_1.sample_tuple(d)\n",
    "print(\"Fix the dirty cells in the following sampled tuple.\")\n",
    "sampled_tuple = pandas.DataFrame(data=[d.dataframe.iloc[d.sampled_tuple, :]], columns=d.dataframe.columns)\n",
    "IPython.display.display(sampled_tuple)  \n",
    "texts = [ipywidgets.Text(value=d.dataframe.iloc[d.sampled_tuple, j]) for j in range(d.dataframe.shape[1])]\n",
    "button = ipywidgets.Button(description=\"Save the Annotation\")\n",
    "button.on_click(on_button_clicked)\n",
    "output = ipywidgets.VBox(children=texts + [button])\n",
    "IPython.display.display(output)"
   ]
  },
  {
   "cell_type": "markdown",
   "metadata": {},
   "source": [
    "For the sake of time, we use the ground truth of the dataset to label tuples below."
   ]
  },
  {
   "cell_type": "code",
   "execution_count": null,
   "metadata": {
    "scrolled": true,
    "pycharm": {
     "is_executing": true
    }
   },
   "outputs": [],
   "source": [
    "%%capture\n",
    "while len(d.labeled_tuples) < app_1.LABELING_BUDGET:\n",
    "    app_1.sample_tuple(d)\n",
    "    if d.has_ground_truth:\n",
    "        app_1.label_with_ground_truth(d)"
   ]
  },
  {
   "cell_type": "markdown",
   "metadata": {},
   "source": [
    "## 5. Propagating User Labels and Predicting the Labels\n",
    "Raha then propagates each user label through its cluster. Raha then trains and applies one classifier per data column to predict the label of the rest of data cells."
   ]
  },
  {
   "cell_type": "code",
   "execution_count": null,
   "metadata": {
    "pycharm": {
     "is_executing": true
    }
   },
   "outputs": [],
   "source": [
    "app_1.propagate_labels(d)\n",
    "app_1.predict_labels(d)"
   ]
  },
  {
   "cell_type": "markdown",
   "metadata": {},
   "source": [
    "## 6. Initializing and Updating the Error Corrector Models\n",
    "Baran initializes the error corrector models. Baran then iteratively samples a tuple. We should label data cells of each sampled tuple. It then udpates the models accordingly and generates a feature vector for each pair of a data error and a correction candidate. Finally, it trains and applies a classifier to each data column to predict the final correction of each data error. Since we already labeled tuples for Raha, we use the same labeled tuples and do not label new tuples here."
   ]
  },
  {
   "cell_type": "code",
   "execution_count": null,
   "metadata": {
    "pycharm": {
     "is_executing": true
    }
   },
   "outputs": [],
   "source": [
    "app_2.initialize_models(d)\n",
    "app_2.initialize_dataset(d)\n",
    "for si in d.labeled_tuples:\n",
    "    d.sampled_tuple = si\n",
    "    app_2.update_models(d)\n",
    "    app_2.generate_features(d)\n",
    "    app_2.predict_corrections(d)"
   ]
  },
  {
   "cell_type": "markdown",
   "metadata": {},
   "source": [
    "## 7. Storing Results\n",
    "Both Raha and Baran can also store the error detection/correction results."
   ]
  },
  {
   "cell_type": "code",
   "execution_count": null,
   "metadata": {
    "pycharm": {
     "is_executing": true
    }
   },
   "outputs": [],
   "source": [
    "#app_1.store_results(d)\n",
    "#app_2.store_results(d)"
   ]
  },
  {
   "cell_type": "markdown",
   "metadata": {},
   "source": [
    "## 8. Evaluating the Data Cleaning Task\n",
    "We can finally evaluate our data cleaning task."
   ]
  },
  {
   "cell_type": "code",
   "execution_count": null,
   "metadata": {
    "scrolled": true,
    "pycharm": {
     "is_executing": true
    }
   },
   "outputs": [],
   "source": [
    "edp, edr, edf = d.get_data_cleaning_evaluation(d.detected_cells)[:3]\n",
    "ecp, ecr, ecf = d.get_data_cleaning_evaluation(d.corrected_cells)[-3:]\n",
    "\n",
    "evaluation_df = pandas.DataFrame(columns=[\"Task\", \"Precision\", \"Recall\", \"F1 Score\"])\n",
    "evaluation_df = evaluation_df.append({\"Task\": \"Error Detection (Raha)\", \"Precision\": \"{:.2f}\".format(edp), \n",
    "                                      \"Recall\": \"{:.2f}\".format(edr), \"F1 Score\": \"{:.2f}\".format(edf)}, ignore_index=True)\n",
    "evaluation_df = evaluation_df.append({\"Task\": \"Error Correction (Baran)\", \"Precision\": \"{:.2f}\".format(ecp), \n",
    "                                      \"Recall\": \"{:.2f}\".format(ecr), \"F1 Score\": \"{:.2f}\".format(ecf)}, ignore_index=True)\n",
    "evaluation_df.head()"
   ]
  },
  {
   "cell_type": "code",
   "execution_count": null,
   "metadata": {
    "pycharm": {
     "is_executing": true
    }
   },
   "outputs": [],
   "source": [
    "import importlib\n",
    "importlib.reload(analysis_utilities)"
   ]
  },
  {
   "cell_type": "code",
   "execution_count": null,
   "outputs": [],
   "source": [
    "actual_errors = d.get_actual_errors_dictionary()"
   ],
   "metadata": {
    "collapsed": false,
    "pycharm": {
     "name": "#%%\n",
     "is_executing": true
    }
   }
  },
  {
   "cell_type": "code",
   "execution_count": null,
   "outputs": [],
   "source": [
    "analysis_utilities.detection_evaluation(d, actual_errors)"
   ],
   "metadata": {
    "collapsed": false,
    "pycharm": {
     "name": "#%%\n",
     "is_executing": true
    }
   }
  },
  {
   "cell_type": "code",
   "execution_count": null,
   "outputs": [],
   "source": [
    "correction_confidence_df = analysis_utilities.get_correction_confidence_df(d, actual_errors)"
   ],
   "metadata": {
    "collapsed": false,
    "pycharm": {
     "name": "#%%\n",
     "is_executing": true
    }
   }
  },
  {
   "cell_type": "code",
   "execution_count": null,
   "outputs": [],
   "source": [
    "(correction_confidence_df[\"confidence\"] < 0.98).sum()"
   ],
   "metadata": {
    "collapsed": false,
    "pycharm": {
     "name": "#%%\n",
     "is_executing": true
    }
   }
  },
  {
   "cell_type": "code",
   "execution_count": null,
   "outputs": [],
   "source": [
    "analysis_utilities.correction_confidence_distributions(correction_confidence_df)"
   ],
   "metadata": {
    "collapsed": false,
    "pycharm": {
     "name": "#%%\n",
     "is_executing": true
    }
   }
  },
  {
   "cell_type": "code",
   "execution_count": null,
   "outputs": [],
   "source": [
    "f = analysis_utilities.correction_correctness_by_confidence(correction_confidence_df)\n",
    "f.show()"
   ],
   "metadata": {
    "collapsed": false,
    "pycharm": {
     "name": "#%%\n",
     "is_executing": true
    }
   }
  }
 ],
 "metadata": {
  "kernelspec": {
   "display_name": "Python 3",
   "language": "python",
   "name": "python3"
  },
  "language_info": {
   "codemirror_mode": {
    "name": "ipython",
    "version": 3
   },
   "file_extension": ".py",
   "mimetype": "text/x-python",
   "name": "python",
   "nbconvert_exporter": "python",
   "pygments_lexer": "ipython3",
   "version": "3.7.9"
  }
 },
 "nbformat": 4,
 "nbformat_minor": 4
}
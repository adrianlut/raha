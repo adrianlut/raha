{
 "cells": [
  {
   "cell_type": "markdown",
   "metadata": {},
   "source": [
    "# End-to-End Data Cleaning Pipeline with Raha and Baran (Minimal and Integrated)\n",
    "We build an end-to-end data cleaning pipeline with our configuration-free error detection and correction systems, Raha and Baran."
   ]
  },
  {
   "cell_type": "code",
   "execution_count": 1,
   "metadata": {},
   "outputs": [],
   "source": [
    "import pandas\n",
    "import IPython.display\n",
    "import ipywidgets\n",
    "\n",
    "import raha"
   ]
  },
  {
   "cell_type": "markdown",
   "metadata": {},
   "source": [
    "## 1. Instantiating the Detection and Correction Classes\n",
    "We first instantiate the `Detection` and `Correction` classes."
   ]
  },
  {
   "cell_type": "code",
   "execution_count": 2,
   "metadata": {},
   "outputs": [],
   "source": [
    "from raha import analysis_utilities\n",
    "app_1 = raha.Detection()\n",
    "app_2 = raha.Correction()\n",
    "\n",
    "# How many tuples would you label?\n",
    "app_1.LABELING_BUDGET = 20\n",
    "app_2.LABELING_BUDGET = 0\n",
    "\n",
    "# Would you like to see the logs?\n",
    "app_1.VERBOSE = True\n",
    "app_2.VERBOSE = True"
   ]
  },
  {
   "cell_type": "markdown",
   "metadata": {},
   "source": [
    "## 2. Instantiating the Dataset\n",
    "We next load and instantiate the dataset object."
   ]
  },
  {
   "cell_type": "code",
   "execution_count": 3,
   "metadata": {},
   "outputs": [
    {
     "data": {
      "text/plain": "      f_name    l_name gender area_code     phone        city state    zip  \\\n0   Pengyuan   Zendler      F       508  744-9007  SWAMPSCOTT    MA  01907   \n1        Nik     Tacic      M       702  517-7658   LAS VEGAS    NV  89140   \n2      Hovav    Punter      M       501  304-9763       HASTY    AR  72640   \n3  Xiangning  Vanneste      F       862  651-6469  BRIGANTINE    NJ  08203   \n4      Belen    Niccum      F       920  287-1889    FLORENCE    WI  54121   \n\n  marital_status has_child salary       rate single_exemp married_exemp  \\\n0              M         N  90000        5.3            0          7150   \n1              M         N  90000        0.0            0             0   \n2              S         N  50000        7.0           20             0   \n3              M         Y  55000  1.9519792            0          2000   \n4              S         Y  85000  5.9232907          700             0   \n\n  child_exemp  \n0           0  \n1           0  \n2           0  \n3        1500  \n4         400  ",
      "text/html": "<div>\n<style scoped>\n    .dataframe tbody tr th:only-of-type {\n        vertical-align: middle;\n    }\n\n    .dataframe tbody tr th {\n        vertical-align: top;\n    }\n\n    .dataframe thead th {\n        text-align: right;\n    }\n</style>\n<table border=\"1\" class=\"dataframe\">\n  <thead>\n    <tr style=\"text-align: right;\">\n      <th></th>\n      <th>f_name</th>\n      <th>l_name</th>\n      <th>gender</th>\n      <th>area_code</th>\n      <th>phone</th>\n      <th>city</th>\n      <th>state</th>\n      <th>zip</th>\n      <th>marital_status</th>\n      <th>has_child</th>\n      <th>salary</th>\n      <th>rate</th>\n      <th>single_exemp</th>\n      <th>married_exemp</th>\n      <th>child_exemp</th>\n    </tr>\n  </thead>\n  <tbody>\n    <tr>\n      <th>0</th>\n      <td>Pengyuan</td>\n      <td>Zendler</td>\n      <td>F</td>\n      <td>508</td>\n      <td>744-9007</td>\n      <td>SWAMPSCOTT</td>\n      <td>MA</td>\n      <td>01907</td>\n      <td>M</td>\n      <td>N</td>\n      <td>90000</td>\n      <td>5.3</td>\n      <td>0</td>\n      <td>7150</td>\n      <td>0</td>\n    </tr>\n    <tr>\n      <th>1</th>\n      <td>Nik</td>\n      <td>Tacic</td>\n      <td>M</td>\n      <td>702</td>\n      <td>517-7658</td>\n      <td>LAS VEGAS</td>\n      <td>NV</td>\n      <td>89140</td>\n      <td>M</td>\n      <td>N</td>\n      <td>90000</td>\n      <td>0.0</td>\n      <td>0</td>\n      <td>0</td>\n      <td>0</td>\n    </tr>\n    <tr>\n      <th>2</th>\n      <td>Hovav</td>\n      <td>Punter</td>\n      <td>M</td>\n      <td>501</td>\n      <td>304-9763</td>\n      <td>HASTY</td>\n      <td>AR</td>\n      <td>72640</td>\n      <td>S</td>\n      <td>N</td>\n      <td>50000</td>\n      <td>7.0</td>\n      <td>20</td>\n      <td>0</td>\n      <td>0</td>\n    </tr>\n    <tr>\n      <th>3</th>\n      <td>Xiangning</td>\n      <td>Vanneste</td>\n      <td>F</td>\n      <td>862</td>\n      <td>651-6469</td>\n      <td>BRIGANTINE</td>\n      <td>NJ</td>\n      <td>08203</td>\n      <td>M</td>\n      <td>Y</td>\n      <td>55000</td>\n      <td>1.9519792</td>\n      <td>0</td>\n      <td>2000</td>\n      <td>1500</td>\n    </tr>\n    <tr>\n      <th>4</th>\n      <td>Belen</td>\n      <td>Niccum</td>\n      <td>F</td>\n      <td>920</td>\n      <td>287-1889</td>\n      <td>FLORENCE</td>\n      <td>WI</td>\n      <td>54121</td>\n      <td>S</td>\n      <td>Y</td>\n      <td>85000</td>\n      <td>5.9232907</td>\n      <td>700</td>\n      <td>0</td>\n      <td>400</td>\n    </tr>\n  </tbody>\n</table>\n</div>"
     },
     "execution_count": 3,
     "metadata": {},
     "output_type": "execute_result"
    }
   ],
   "source": [
    "dataset_dictionary = {\n",
    "        \"name\": \"tax\",\n",
    "        \"path\": \"datasets/tax/dirty.csv\",\n",
    "        \"clean_path\": \"datasets/tax/clean.csv\"\n",
    "    }\n",
    "d = app_1.initialize_dataset(dataset_dictionary)\n",
    "d.dataframe.head()"
   ]
  },
  {
   "cell_type": "markdown",
   "metadata": {},
   "source": [
    "## 3. Generating Features and Clusters\n",
    "Raha runs (all or the promising) error detection strategies on the dataset. This step could take a while because all the strategies should be run on the dataset. Raha then generates a feature vector for each data cell based on the output of error detection strategies. Raha next builds a hierarchical clustering model for our clustering-based sampling approach."
   ]
  },
  {
   "cell_type": "code",
   "execution_count": null,
   "metadata": {
    "pycharm": {
     "is_executing": true
    }
   },
   "outputs": [
    {
     "name": "stdout",
     "output_type": "stream",
     "text": [
      "96774 cells are detected by [\"PVD\", [\"city\", \"R\"]].\n",
      "1459 cells are detected by [\"PVD\", [\"l_name\", \"Y\"]].\n",
      "199813 cells are detected by [\"PVD\", [\"rate\", \".\"]].\n",
      "27473 cells are detected by [\"PVD\", [\"city\", \"K\"]].\n",
      "67292 cells are detected by [\"PVD\", [\"f_name\", \"o\"]].\n",
      "15351 cells are detected by [\"PVD\", [\"single_exemp\", \"5\"]].\n",
      "106768 cells are detected by [\"PVD\", [\"phone\", \"4\"]].\n",
      "106138 cells are detected by [\"PVD\", [\"phone\", \"3\"]].\n",
      "38897 cells are detected by [\"PVD\", [\"f_name\", \"l\"]].\n",
      "11455 cells are detected by [\"PVD\", [\"married_exemp\", \"1\"]].\n",
      "2869 cells are detected by [\"PVD\", [\"l_name\", \"Z\"]].\n",
      "88586 cells are detected by [\"PVD\", [\"l_name\", \"r\"]].\n",
      "19884 cells are detected by [\"PVD\", [\"salary\", \"7\"]].\n",
      "99587 cells are detected by [\"PVD\", [\"f_name\", \"i\"]].\n",
      "5104 cells are detected by [\"PVD\", [\"l_name\", \"N\"]].\n",
      "5029 cells are detected by [\"PVD\", [\"f_name\", \"F\"]].\n",
      "12463 cells are detected by [\"PVD\", [\"l_name\", \"C\"]].\n",
      "39791 cells are detected by [\"PVD\", [\"f_name\", \"s\"]].\n",
      "200 cells are detected by [\"PVD\", [\"child_exemp\", \"-\"]].\n",
      "266102 cells are detected by [\"RVD\", [\"zip\", \"child_exemp\"]].\n",
      "396490 cells are detected by [\"RVD\", [\"city\", \"f_name\"]].\n",
      "396490 cells are detected by [\"RVD\", [\"city\", \"phone\"]].\n",
      "34616 cells are detected by [\"PVD\", [\"state\", \"M\"]].\n",
      "400000 cells are detected by [\"RVD\", [\"area_code\", \"has_child\"]].\n",
      "400000 cells are detected by [\"RVD\", [\"has_child\", \"zip\"]].\n",
      "357922 cells are detected by [\"RVD\", [\"zip\", \"has_child\"]].\n",
      "400000 cells are detected by [\"RVD\", [\"area_code\", \"zip\"]].\n",
      "27124 cells are detected by [\"PVD\", [\"city\", \"V\"]].\n",
      "400000 cells are detected by [\"RVD\", [\"salary\", \"city\"]].\n",
      "83884 cells are detected by [\"PVD\", [\"zip\", \"3\"]].\n",
      "272 cells are detected by [\"PVD\", [\"f_name\", \"'\"]].\n",
      "100246 cells are detected by [\"PVD\", [\"marital_status\", \"S\"]].\n",
      "400000 cells are detected by [\"RVD\", [\"state\", \"gender\"]].\n",
      "3920 cells are detected by [\"PVD\", [\"state\", \"U\"]].\n",
      "400000 cells are detected by [\"RVD\", [\"child_exemp\", \"marital_status\"]].400000 cells are detected by [\"RVD\", [\"salary\", \"single_exemp\"]].\n",
      "\n",
      "292416 cells are detected by [\"RVD\", [\"rate\", \"married_exemp\"]].\n",
      "76255 cells are detected by [\"PVD\", [\"zip\", \"1\"]].\n",
      "200 cells are detected by [\"PVD\", [\"state\", \"-\"]].\n",
      "400000 cells are detected by [\"RVD\", [\"gender\", \"l_name\"]].\n",
      "22834 cells are detected by [\"PVD\", [\"state\", \"D\"]].\n",
      "3801 cells are detected by [\"PVD\", [\"state\", \"F\"]].\n",
      "3763 cells are detected by [\"PVD\", [\"married_exemp\", \"9\"]].\n",
      "5819 cells are detected by [\"PVD\", [\"single_exemp\", \"9\"]].\n",
      "52866 cells are detected by [\"PVD\", [\"rate\", \"6\"]].\n",
      "694 cells are detected by [\"PVD\", [\"l_name\", \"'\"]].\n",
      "71381 cells are detected by [\"PVD\", [\"l_name\", \"o\"]].\n",
      "55227 cells are detected by [\"PVD\", [\"area_code\", \"7\"]].\n",
      "40018 cells are detected by [\"PVD\", [\"rate\", \"9\"]].\n",
      "42285 cells are detected by [\"PVD\", [\"state\", \"N\"]].\n",
      "11492 cells are detected by [\"PVD\", [\"f_name\", \"K\"]].\n",
      "109791 cells are detected by [\"PVD\", [\"city\", \"N\"]].\n",
      "400000 cells are detected by [\"RVD\", [\"salary\", \"zip\"]].\n",
      "5790 cells are detected by [\"RVD\", [\"phone\", \"child_exemp\"]].\n",
      "4526 cells are detected by [\"PVD\", [\"f_name\", \"W\"]].\n",
      "200 cells are detected by [\"PVD\", [\"single_exemp\", \"-\"]].\n",
      "385246 cells are detected by [\"RVD\", [\"city\", \"marital_status\"]].\n",
      "1258 cells are detected by [\"PVD\", [\"l_name\", \"x\"]].\n",
      "358098 cells are detected by [\"RVD\", [\"zip\", \"gender\"]].\n",
      "7951 cells are detected by [\"PVD\", [\"l_name\", \"f\"]].400000 cells are detected by [\"RVD\", [\"salary\", \"married_exemp\"]].\n",
      "\n",
      "4453 cells are detected by [\"PVD\", [\"l_name\", \"j\"]].\n",
      "400000 cells are detected by [\"RVD\", [\"married_exemp\", \"has_child\"]].\n",
      "385196 cells are detected by [\"RVD\", [\"city\", \"gender\"]].9093 cells are detected by [\"PVD\", [\"f_name\", \"b\"]].\n",
      "\n",
      "83040 cells are detected by [\"PVD\", [\"zip\", \"5\"]].\n",
      "400000 cells are detected by [\"RVD\", [\"salary\", \"phone\"]].\n",
      "8106 cells are detected by [\"PVD\", [\"l_name\", \"A\"]].7612 cells are detected by [\"PVD\", [\"f_name\", \"L\"]].\n",
      "\n",
      "17714 cells are detected by [\"PVD\", [\"l_name\", \"b\"]].\n",
      "106812 cells are detected by [\"PVD\", [\"phone\", \"9\"]].\n",
      "11453 cells are detected by [\"PVD\", [\"child_exemp\", \"5\"]].\n",
      "90486 cells are detected by [\"PVD\", [\"city\", \"I\"]].\n",
      "9532 cells are detected by [\"RVD\", [\"zip\", \"state\"]].\n",
      "7422 cells are detected by [\"PVD\", [\"f_name\", \"D\"]].\n",
      "105183 cells are detected by [\"PVD\", [\"l_name\", \"a\"]].\n",
      "396084 cells are detected by [\"RVD\", [\"city\", \"salary\"]].\n",
      "400000 cells are detected by [\"RVD\", [\"marital_status\", \"zip\"]].\n",
      "45605 cells are detected by [\"PVD\", [\"area_code\", \"4\"]].\n",
      "400000 cells are detected by [\"RVD\", [\"marital_status\", \"area_code\"]].\n",
      "9570 cells are detected by [\"PVD\", [\"child_exemp\", \"4\"]].\n",
      "400000 cells are detected by [\"RVD\", [\"marital_status\", \"phone\"]].\n",
      "33987 cells are detected by [\"PVD\", [\"city\", \"B\"]].\n",
      "400000 cells are detected by [\"RVD\", [\"f_name\", \"rate\"]].\n",
      "400000 cells are detected by [\"RVD\", [\"has_child\", \"l_name\"]].\n",
      "40570 cells are detected by [\"PVD\", [\"city\", \"G\"]].\n",
      "400000 cells are detected by [\"RVD\", [\"salary\", \"f_name\"]].\n",
      "4982 cells are detected by [\"RVD\", [\"phone\", \"has_child\"]].\n",
      "50494 cells are detected by [\"PVD\", [\"area_code\", \"8\"]].\n",
      "400000 cells are detected by [\"RVD\", [\"l_name\", \"state\"]].\n",
      "48000 cells are detected by [\"PVD\", [\"area_code\", \"5\"]].\n",
      "21126 cells are detected by [\"PVD\", [\"child_exemp\", \"2\"]].\n",
      "400000 cells are detected by [\"RVD\", [\"gender\", \"single_exemp\"]].\n",
      "6811 cells are detected by [\"PVD\", [\"f_name\", \"N\"]].\n",
      "200 cells are detected by [\"PVD\", [\"single_exemp\", \"*\"]].\n",
      "400000 cells are detected by [\"RVD\", [\"married_exemp\", \"phone\"]].\n",
      "32199 cells are detected by [\"PVD\", [\"rate\", \"2\"]].\n",
      "400000 cells are detected by [\"RVD\", [\"gender\", \"area_code\"]].\n",
      "400000 cells are detected by [\"RVD\", [\"area_code\", \"l_name\"]].\n",
      "400000 cells are detected by [\"RVD\", [\"salary\", \"area_code\"]].\n",
      "400000 cells are detected by [\"RVD\", [\"state\", \"l_name\"]].\n",
      "399600 cells are detected by [\"RVD\", [\"child_exemp\", \"married_exemp\"]].\n",
      "384934 cells are detected by [\"RVD\", [\"city\", \"has_child\"]].\n",
      "400000 cells are detected by [\"RVD\", [\"has_child\", \"child_exemp\"]].\n",
      "3364 cells are detected by [\"PVD\", [\"f_name\", \"Z\"]].\n",
      "9992 cells are detected by [\"PVD\", [\"l_name\", \"D\"]].\n",
      "400000 cells are detected by [\"RVD\", [\"f_name\", \"zip\"]].\n",
      "6118 cells are detected by [\"PVD\", [\"f_name\", \"p\"]].\n",
      "400000 cells are detected by [\"RVD\", [\"state\", \"f_name\"]].\n",
      "26902 cells are detected by [\"PVD\", [\"child_exemp\", \"3\"]].\n",
      "200000 cells are detected by [\"PVD\", [\"phone\", \"-\"]].\n",
      "1932 cells are detected by [\"PVD\", [\"single_exemp\", \"6\"]].\n",
      "60051 cells are detected by [\"PVD\", [\"area_code\", \"2\"]].\n",
      "100372 cells are detected by [\"PVD\", [\"has_child\", \"N\"]].\n",
      "200000 cells are detected by [\"PVD\", [\"salary\", \"0\"]].\n",
      "7718 cells are detected by [\"PVD\", [\"married_exemp\", \"7\"]].\n",
      "3786 cells are detected by [\"PVD\", [\"single_exemp\", \"8\"]].\n",
      "384332 cells are detected by [\"RVD\", [\"child_exemp\", \"rate\"]].\n",
      "400000 cells are detected by [\"RVD\", [\"area_code\", \"marital_status\"]].\n",
      "558 cells are detected by [\"PVD\", [\"l_name\", \"Q\"]].\n",
      "400000 cells are detected by [\"RVD\", [\"salary\", \"state\"]].\n",
      "256642 cells are detected by [\"RVD\", [\"single_exemp\", \"marital_status\"]].\n",
      "8170 cells are detected by [\"PVD\", [\"l_name\", \"T\"]].\n",
      "399974 cells are detected by [\"RVD\", [\"l_name\", \"has_child\"]].\n",
      "400000 cells are detected by [\"RVD\", [\"child_exemp\", \"city\"]].\n",
      "400000 cells are detected by [\"RVD\", [\"l_name\", \"f_name\"]].\n",
      "187 cells are detected by [\"PVD\", [\"rate\", \"a\"]].\n",
      "334634 cells are detected by [\"RVD\", [\"rate\", \"state\"]].400000 cells are detected by [\"RVD\", [\"l_name\", \"zip\"]].\n",
      "\n",
      "23365 cells are detected by [\"PVD\", [\"state\", \"T\"]].\n",
      "29850 cells are detected by [\"PVD\", [\"salary\", \"1\"]].\n",
      "200 cells are detected by [\"PVD\", [\"state\", \"*\"]].\n",
      "3882 cells are detected by [\"PVD\", [\"state\", \"G\"]].\n",
      "3804 cells are detected by [\"PVD\", [\"state\", \"Z\"]].\n",
      "24715 cells are detected by [\"PVD\", [\"married_exemp\", \"2\"]].\n",
      "400000 cells are detected by [\"RVD\", [\"child_exemp\", \"gender\"]].\n",
      "106426 cells are detected by [\"PVD\", [\"phone\", \"1\"]].\n",
      "400000 cells are detected by [\"RVD\", [\"l_name\", \"city\"]].\n",
      "400000 cells are detected by [\"RVD\", [\"gender\", \"zip\"]].\n",
      "29118 cells are detected by [\"PVD\", [\"l_name\", \"d\"]].\n",
      "196198 cells are detected by [\"PVD\", [\"married_exemp\", \"0\"]].\n",
      "399886 cells are detected by [\"RVD\", [\"l_name\", \"married_exemp\"]].\n",
      "300092 cells are detected by [\"RVD\", [\"area_code\", \"single_exemp\"]].\n",
      "3599 cells are detected by [\"PVD\", [\"f_name\", \"I\"]].\n",
      "327566 cells are detected by [\"RVD\", [\"area_code\", \"state\"]].\n",
      "77246 cells are detected by [\"PVD\", [\"zip\", \"6\"]].\n",
      "9740 cells are detected by [\"RVD\", [\"phone\", \"l_name\"]].\n",
      "27360 cells are detected by [\"PVD\", [\"f_name\", \"d\"]].\n",
      "400000 cells are detected by [\"RVD\", [\"has_child\", \"single_exemp\"]].\n",
      "400000 cells are detected by [\"RVD\", [\"salary\", \"child_exemp\"]].\n",
      "82389 cells are detected by [\"PVD\", [\"phone\", \"0\"]].\n",
      "3980 cells are detected by [\"PVD\", [\"state\", \"J\"]].\n",
      "9640 cells are detected by [\"RVD\", [\"phone\", \"state\"]].\n",
      "400000 cells are detected by [\"RVD\", [\"gender\", \"f_name\"]].\n",
      "30025 cells are detected by [\"PVD\", [\"city\", \"P\"]].\n",
      "247058 cells are detected by [\"RVD\", [\"state\", \"rate\"]].\n",
      "11264 cells are detected by [\"PVD\", [\"state\", \"E\"]].\n",
      "400000 cells are detected by [\"RVD\", [\"f_name\", \"area_code\"]].\n",
      "26837 cells are detected by [\"PVD\", [\"married_exemp\", \"4\"]].\n",
      "254430 cells are detected by [\"RVD\", [\"married_exemp\", \"marital_status\"]].\n",
      "400000 cells are detected by [\"RVD\", [\"l_name\", \"rate\"]].\n",
      "400000 cells are detected by [\"RVD\", [\"state\", \"zip\"]].\n",
      "7322 cells are detected by [\"PVD\", [\"f_name\", \"z\"]].\n",
      "389356 cells are detected by [\"RVD\", [\"zip\", \"l_name\"]].\n",
      "9648 cells are detected by [\"PVD\", [\"single_exemp\", \"4\"]].\n",
      "380850 cells are detected by [\"RVD\", [\"married_exemp\", \"area_code\"]].\n",
      "400000 cells are detected by [\"RVD\", [\"state\", \"has_child\"]].\n",
      "15344 cells are detected by [\"PVD\", [\"l_name\", \"M\"]].\n",
      "18970 cells are detected by [\"PVD\", [\"city\", \"F\"]].\n",
      "8404 cells are detected by [\"PVD\", [\"f_name\", \"Y\"]].\n",
      "389356 cells are detected by [\"RVD\", [\"zip\", \"f_name\"]].\n",
      "187794 cells are detected by [\"RVD\", [\"zip\", \"rate\"]].\n",
      "20173 cells are detected by [\"PVD\", [\"f_name\", \"S\"]].\n",
      "47015 cells are detected by [\"PVD\", [\"city\", \"D\"]].\n",
      "86667 cells are detected by [\"PVD\", [\"zip\", \"2\"]].\n",
      "49483 cells are detected by [\"PVD\", [\"rate\", \"7\"]].\n",
      "400000 cells are detected by [\"RVD\", [\"marital_status\", \"city\"]].\n",
      "400000 cells are detected by [\"RVD\", [\"marital_status\", \"gender\"]].\n"
     ]
    }
   ],
   "source": [
    "app_1.run_strategies(d)\n",
    "app_1.generate_features(d)\n",
    "app_1.build_clusters(d)"
   ]
  },
  {
   "cell_type": "markdown",
   "metadata": {},
   "source": [
    "## 4. Interactive Tuple Sampling and Labeling\n",
    "Raha then iteratively samples a tuple. We should label data cells of each sampled tuple."
   ]
  },
  {
   "cell_type": "code",
   "execution_count": null,
   "metadata": {
    "scrolled": true,
    "pycharm": {
     "is_executing": true
    }
   },
   "outputs": [],
   "source": [
    "def on_button_clicked(_):\n",
    "    for j in range(0, len(texts)):\n",
    "        cell = (d.sampled_tuple, j)\n",
    "        error_label = 0\n",
    "        correction = texts[j].value\n",
    "        if d.dataframe.iloc[cell] != correction:\n",
    "            error_label = 1\n",
    "        d.labeled_cells[cell] = [error_label, correction]\n",
    "    d.labeled_tuples[d.sampled_tuple] = 1\n",
    "\n",
    "app_1.sample_tuple(d)\n",
    "print(\"Fix the dirty cells in the following sampled tuple.\")\n",
    "sampled_tuple = pandas.DataFrame(data=[d.dataframe.iloc[d.sampled_tuple, :]], columns=d.dataframe.columns)\n",
    "IPython.display.display(sampled_tuple)  \n",
    "texts = [ipywidgets.Text(value=d.dataframe.iloc[d.sampled_tuple, j]) for j in range(d.dataframe.shape[1])]\n",
    "button = ipywidgets.Button(description=\"Save the Annotation\")\n",
    "button.on_click(on_button_clicked)\n",
    "output = ipywidgets.VBox(children=texts + [button])\n",
    "IPython.display.display(output)"
   ]
  },
  {
   "cell_type": "markdown",
   "metadata": {},
   "source": [
    "For the sake of time, we use the ground truth of the dataset to label tuples below."
   ]
  },
  {
   "cell_type": "code",
   "execution_count": null,
   "metadata": {
    "scrolled": true,
    "pycharm": {
     "is_executing": true
    }
   },
   "outputs": [],
   "source": [
    "%%capture\n",
    "while len(d.labeled_tuples) < app_1.LABELING_BUDGET:\n",
    "    app_1.sample_tuple(d)\n",
    "    if d.has_ground_truth:\n",
    "        app_1.label_with_ground_truth(d)"
   ]
  },
  {
   "cell_type": "markdown",
   "metadata": {},
   "source": [
    "## 5. Propagating User Labels and Predicting the Labels\n",
    "Raha then propagates each user label through its cluster. Raha then trains and applies one classifier per data column to predict the label of the rest of data cells."
   ]
  },
  {
   "cell_type": "code",
   "execution_count": null,
   "metadata": {
    "pycharm": {
     "is_executing": true
    }
   },
   "outputs": [],
   "source": [
    "app_1.propagate_labels(d)\n",
    "app_1.predict_labels(d)"
   ]
  },
  {
   "cell_type": "markdown",
   "metadata": {},
   "source": [
    "## 6. Initializing and Updating the Error Corrector Models\n",
    "Baran initializes the error corrector models. Baran then iteratively samples a tuple. We should label data cells of each sampled tuple. It then udpates the models accordingly and generates a feature vector for each pair of a data error and a correction candidate. Finally, it trains and applies a classifier to each data column to predict the final correction of each data error. Since we already labeled tuples for Raha, we use the same labeled tuples and do not label new tuples here."
   ]
  },
  {
   "cell_type": "code",
   "execution_count": null,
   "metadata": {
    "pycharm": {
     "is_executing": true
    }
   },
   "outputs": [],
   "source": [
    "app_2.initialize_models(d)\n",
    "app_2.initialize_dataset(d)\n",
    "for si in d.labeled_tuples:\n",
    "    d.sampled_tuple = si\n",
    "    app_2.update_models(d)\n",
    "    app_2.generate_features(d)\n",
    "    app_2.predict_corrections(d)"
   ]
  },
  {
   "cell_type": "markdown",
   "metadata": {},
   "source": [
    "## 7. Storing Results\n",
    "Both Raha and Baran can also store the error detection/correction results."
   ]
  },
  {
   "cell_type": "code",
   "execution_count": null,
   "metadata": {
    "pycharm": {
     "is_executing": true
    }
   },
   "outputs": [],
   "source": [
    "#app_1.store_results(d)\n",
    "#app_2.store_results(d)"
   ]
  },
  {
   "cell_type": "markdown",
   "metadata": {},
   "source": [
    "## 8. Evaluating the Data Cleaning Task\n",
    "We can finally evaluate our data cleaning task."
   ]
  },
  {
   "cell_type": "code",
   "execution_count": null,
   "metadata": {
    "scrolled": true,
    "pycharm": {
     "is_executing": true
    }
   },
   "outputs": [],
   "source": [
    "edp, edr, edf = d.get_data_cleaning_evaluation(d.detected_cells)[:3]\n",
    "ecp, ecr, ecf = d.get_data_cleaning_evaluation(d.corrected_cells)[-3:]\n",
    "\n",
    "evaluation_df = pandas.DataFrame(columns=[\"Task\", \"Precision\", \"Recall\", \"F1 Score\"])\n",
    "evaluation_df = evaluation_df.append({\"Task\": \"Error Detection (Raha)\", \"Precision\": \"{:.2f}\".format(edp), \n",
    "                                      \"Recall\": \"{:.2f}\".format(edr), \"F1 Score\": \"{:.2f}\".format(edf)}, ignore_index=True)\n",
    "evaluation_df = evaluation_df.append({\"Task\": \"Error Correction (Baran)\", \"Precision\": \"{:.2f}\".format(ecp), \n",
    "                                      \"Recall\": \"{:.2f}\".format(ecr), \"F1 Score\": \"{:.2f}\".format(ecf)}, ignore_index=True)\n",
    "evaluation_df.head()"
   ]
  },
  {
   "cell_type": "code",
   "execution_count": null,
   "metadata": {
    "pycharm": {
     "is_executing": true
    }
   },
   "outputs": [],
   "source": [
    "import importlib\n",
    "importlib.reload(analysis_utilities)"
   ]
  },
  {
   "cell_type": "code",
   "execution_count": null,
   "outputs": [],
   "source": [
    "actual_errors = d.get_actual_errors_dictionary()"
   ],
   "metadata": {
    "collapsed": false,
    "pycharm": {
     "name": "#%%\n",
     "is_executing": true
    }
   }
  },
  {
   "cell_type": "code",
   "execution_count": null,
   "outputs": [],
   "source": [
    "analysis_utilities.detection_evaluation(d, actual_errors)"
   ],
   "metadata": {
    "collapsed": false,
    "pycharm": {
     "name": "#%%\n",
     "is_executing": true
    }
   }
  },
  {
   "cell_type": "code",
   "execution_count": null,
   "outputs": [],
   "source": [
    "correction_confidence_df = analysis_utilities.get_correction_confidence_df(d, actual_errors)"
   ],
   "metadata": {
    "collapsed": false,
    "pycharm": {
     "name": "#%%\n",
     "is_executing": true
    }
   }
  },
  {
   "cell_type": "code",
   "execution_count": null,
   "outputs": [],
   "source": [
    "(correction_confidence_df[\"confidence\"] < 0.98).sum()"
   ],
   "metadata": {
    "collapsed": false,
    "pycharm": {
     "name": "#%%\n",
     "is_executing": true
    }
   }
  },
  {
   "cell_type": "code",
   "execution_count": null,
   "outputs": [],
   "source": [
    "analysis_utilities.correction_confidence_distributions(correction_confidence_df)"
   ],
   "metadata": {
    "collapsed": false,
    "pycharm": {
     "name": "#%%\n",
     "is_executing": true
    }
   }
  },
  {
   "cell_type": "code",
   "execution_count": null,
   "outputs": [],
   "source": [
    "f = analysis_utilities.correction_correctness_by_confidence(correction_confidence_df)\n",
    "f.show()"
   ],
   "metadata": {
    "collapsed": false,
    "pycharm": {
     "name": "#%%\n",
     "is_executing": true
    }
   }
  }
 ],
 "metadata": {
  "kernelspec": {
   "display_name": "Python 3",
   "language": "python",
   "name": "python3"
  },
  "language_info": {
   "codemirror_mode": {
    "name": "ipython",
    "version": 3
   },
   "file_extension": ".py",
   "mimetype": "text/x-python",
   "name": "python",
   "nbconvert_exporter": "python",
   "pygments_lexer": "ipython3",
   "version": "3.7.9"
  }
 },
 "nbformat": 4,
 "nbformat_minor": 4
}